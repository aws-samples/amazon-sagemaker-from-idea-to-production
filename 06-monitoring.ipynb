{
 "cells": [
  {
   "cell_type": "markdown",
   "id": "0551f521-eaea-4e5c-a9a9-60a93aaa018e",
   "metadata": {},
   "source": [
    "# Step 6: Add data and model monitoring\n",
    "After executing five previous notebooks, you have a production-ready solution with automated model building and model deployment CI/CD pipelines.\n",
    "\n",
    "In this notebook you are going to use [Amazon SageMaker model monitor](https://aws.amazon.com/sagemaker/model-monitor/) to add continuous and automated [monitoring of the data quality](https://docs.aws.amazon.com/sagemaker/latest/dg/model-monitor-data-quality.html) for the traffic to your real-time SageMaker inference endpoints. You also implement [model monitoring](https://docs.aws.amazon.com/sagemaker/latest/dg/model-monitor-model-quality.html) to detect performance drift and model metric anomalies.\n",
    "\n",
    "Using Model Monitor integration with [Amazon EventBridge](https://aws.amazon.com/eventbridge/) you can implement automated response and remediation to any detected issues with data and model quality. For example, you can launch an automated model retraining if the model performance falls below a specific threshold.\n",
    "\n",
    "Additionally to data and model quality monitoring you can implement [bias drift](https://docs.aws.amazon.com/sagemaker/latest/dg/clarify-model-monitor-bias-drift.html) and [feature attribution drift](https://docs.aws.amazon.com/sagemaker/latest/dg/clarify-model-monitor-feature-attribution-drift.html) monitoring.\n",
    "\n",
    "![](img/six-steps-6.png)"
   ]
  },
  {
   "cell_type": "code",
   "execution_count": 2,
   "id": "6dcada1a-d8a5-4f5a-9d2b-e8da352aa3cf",
   "metadata": {
    "tags": []
   },
   "outputs": [
    {
     "name": "stdout",
     "output_type": "stream",
     "text": [
      "Collecting jsonlines\n",
      "  Downloading jsonlines-3.1.0-py3-none-any.whl (8.6 kB)\n",
      "Requirement already satisfied: tqdm in /opt/conda/lib/python3.7/site-packages (4.42.1)\n",
      "Requirement already satisfied: attrs>=19.2.0 in /opt/conda/lib/python3.7/site-packages (from jsonlines) (22.1.0)\n",
      "Requirement already satisfied: typing-extensions in /opt/conda/lib/python3.7/site-packages (from jsonlines) (4.4.0)\n",
      "Installing collected packages: jsonlines\n",
      "Successfully installed jsonlines-3.1.0\n",
      "\u001b[33mWARNING: Running pip as the 'root' user can result in broken permissions and conflicting behaviour with the system package manager. It is recommended to use a virtual environment instead: https://pip.pypa.io/warnings/venv\u001b[0m\u001b[33m\n",
      "\u001b[0m\n",
      "\u001b[1m[\u001b[0m\u001b[34;49mnotice\u001b[0m\u001b[1;39;49m]\u001b[0m\u001b[39;49m A new release of pip available: \u001b[0m\u001b[31;49m22.3.1\u001b[0m\u001b[39;49m -> \u001b[0m\u001b[32;49m23.0\u001b[0m\n",
      "\u001b[1m[\u001b[0m\u001b[34;49mnotice\u001b[0m\u001b[1;39;49m]\u001b[0m\u001b[39;49m To update, run: \u001b[0m\u001b[32;49mpip install --upgrade pip\u001b[0m\n",
      "Note: you may need to restart the kernel to use updated packages.\n"
     ]
    }
   ],
   "source": [
    "%pip install jsonlines tqdm"
   ]
  },
  {
   "cell_type": "code",
   "execution_count": 31,
   "id": "a2681315-b19c-4e97-a49e-21f04efb6bfd",
   "metadata": {
    "tags": []
   },
   "outputs": [
    {
     "data": {
      "text/plain": [
       "'2.132.0'"
      ]
     },
     "execution_count": 31,
     "metadata": {},
     "output_type": "execute_result"
    }
   ],
   "source": [
    "import boto3\n",
    "import botocore\n",
    "import sagemaker \n",
    "import json\n",
    "import jsonlines\n",
    "import random\n",
    "from tqdm import trange\n",
    "from sagemaker.predictor import Predictor\n",
    "from sagemaker import ModelPackage\n",
    "import time\n",
    "from time import gmtime, strftime\n",
    "from datetime import datetime, timedelta\n",
    "import uuid\n",
    "import pandas as pd\n",
    "import numpy as np\n",
    "from sagemaker.model_monitor import (\n",
    "    DefaultModelMonitor,\n",
    "    DataCaptureConfig,\n",
    "    CronExpressionGenerator,\n",
    "    ModelQualityMonitor,\n",
    "    EndpointInput,\n",
    ")\n",
    "from sagemaker.model_monitor.dataset_format import DatasetFormat\n",
    "from sagemaker.model_monitor import DataCaptureConfig\n",
    "from utils.monitoring_utils import run_model_monitor_job\n",
    "from sagemaker.s3 import S3Downloader, S3Uploader\n",
    "from sagemaker.clarify import (\n",
    "    BiasConfig,\n",
    "    DataConfig,\n",
    "    ModelConfig,\n",
    "    ModelPredictedLabelConfig,\n",
    "    SHAPConfig,\n",
    ")\n",
    "from urllib.parse import urlparse\n",
    "\n",
    "sagemaker.__version__"
   ]
  },
  {
   "cell_type": "code",
   "execution_count": 5,
   "id": "f8b8d993-1c33-40ad-96ee-7340edadcc31",
   "metadata": {
    "tags": []
   },
   "outputs": [],
   "source": [
    "sm = boto3.client(\"sagemaker\")\n",
    "s3 = boto3.client(\"s3\")"
   ]
  },
  {
   "cell_type": "code",
   "execution_count": 6,
   "id": "9d0204aa-0ff1-4397-ac89-5b148da9bdd5",
   "metadata": {
    "tags": []
   },
   "outputs": [],
   "source": [
    "session = sagemaker.Session()"
   ]
  },
  {
   "cell_type": "code",
   "execution_count": 7,
   "id": "bb9517dc-86bc-446d-938d-164b80828158",
   "metadata": {
    "tags": []
   },
   "outputs": [],
   "source": [
    "pd.set_option(\"display.max_colwidth\", None)"
   ]
  },
  {
   "cell_type": "code",
   "execution_count": 8,
   "id": "9d2fb029-39b2-48ee-a3d6-38f1a42f25ab",
   "metadata": {
    "tags": []
   },
   "outputs": [
    {
     "name": "stdout",
     "output_type": "stream",
     "text": [
      "Stored variables and their in-db values:\n",
      "baseline_s3_url                        -> 's3://sagemaker-us-east-1-906545278380/from-idea-t\n",
      "bucket_name                            -> 'sagemaker-us-east-1-906545278380'\n",
      "bucket_prefix                          -> 'from-idea-to-prod/xgboost'\n",
      "domain_id                              -> 'd-2dbyvqm5ecfc'\n",
      "evaluation_s3_url                      -> 's3://sagemaker-us-east-1-906545278380/from-idea-t\n",
      "experiment_name                        -> 'from-idea-to-prod-experiment-11-22-12-47'\n",
      "initialized                            -> True\n",
      "input_s3_url                           -> 's3://sagemaker-us-east-1-906545278380/from-idea-t\n",
      "model_package_group_name               -> 'from-idea-to-prod-model-group'\n",
      "output_s3_url                          -> 's3://sagemaker-us-east-1-906545278380/from-idea-t\n",
      "prediction_baseline_s3_url             -> 's3://sagemaker-us-east-1-906545278380/from-idea-t\n",
      "region                                 -> 'us-east-1'\n",
      "sm_role                                -> 'arn:aws:iam::906545278380:role/mlops-workshop-dom\n",
      "target_col                             -> 'y'\n",
      "test_s3_url                            -> 's3://sagemaker-us-east-1-906545278380/from-idea-t\n",
      "train_s3_url                           -> 's3://sagemaker-us-east-1-906545278380/from-idea-t\n",
      "training_job_name                      -> 'from-idea-to-prod-training-2023-02-13-09-02-27-83\n",
      "validation_s3_url                      -> 's3://sagemaker-us-east-1-906545278380/from-idea-t\n"
     ]
    }
   ],
   "source": [
    "%store -r \n",
    "\n",
    "%store\n",
    "\n",
    "try:\n",
    "    initialized\n",
    "except NameError:\n",
    "    print(\"+++++++++++++++++++++++++++++++++++++++++++++++++\")\n",
    "    print(\"[ERROR] YOU HAVE TO RUN 00-start-here notebook   \")\n",
    "    print(\"+++++++++++++++++++++++++++++++++++++++++++++++++\")"
   ]
  },
  {
   "cell_type": "markdown",
   "id": "45ae4a24-1294-4bda-8f68-4e811025932d",
   "metadata": {},
   "source": [
    "## How Model Monitor works\n",
    "Amazon SageMaker Model Monitor automatically monitors ML models in production and notifies you when quality issues arise. Model Monitor uses rules to detect drift in your models and data and alerts you when it happens. The following figure shows how this process works.\n",
    "\n",
    "![](img/data-monitoring-architecture.png)\n",
    "\n",
    "The process for setting up and using the data monitoring:\n",
    "1. Enable the SageMaker endpoint to capture data from incoming requests to a trained ML model and the resulting model predictions\n",
    "2. Create a baseline from the dataset that was used to train the model. The baseline computes metrics and suggests constraints for the metrics. \n",
    "3. Create a monitoring schedule specifying what data to collect, how often to collect it, and how to analyze it. Data traffic to your model and predictions from the model are compared to the constraints, and are reported as violations if they are outside the constrained values. You can define multiple monitoring schedule per endpoint\n",
    "4. Inspect the reports, which compare the latest data with the baseline, and watch for any violations reported and for metrics and notifications from Amazon CloudWatch\n",
    "5. Implement observability for your ML models with Amazon CloudWatch and event-based architecture with Amazon EventBridge. You can automate data and model updates, model retraining, and user notification based on the data and model quality events"
   ]
  },
  {
   "cell_type": "markdown",
   "id": "51d0e422-8fc2-40eb-b0e4-b2b36e8bb37e",
   "metadata": {},
   "source": [
    "## Real-time inference data capture from a SageMaker endpoint\n",
    "To work with the model monitor, you need to enable data capture on a SageMaker real-time inference endpoint. \n",
    "If you completed the [step 5](05-deploy.ipynb) notebook, there is at least one deployed endpoint with the name like `model-deploy-19-20-31-59-staging`. If you don't have an active endpoint, you need to create one."
   ]
  },
  {
   "cell_type": "code",
   "execution_count": 56,
   "id": "ea47c022-a154-46f3-8d5e-aaf268467977",
   "metadata": {
    "tags": []
   },
   "outputs": [
    {
     "name": "stdout",
     "output_type": "stream",
     "text": [
      "Data capture configuration for from-idea-to-prod-endpoint-13-15-39-04:\n",
      "{\n",
      "  \"EnableCapture\": true,\n",
      "  \"CaptureStatus\": \"Started\",\n",
      "  \"CurrentSamplingPercentage\": 100,\n",
      "  \"DestinationS3Uri\": \"s3://sagemaker-us-east-1-906545278380/from-idea-to-prod/xgboost/data-capture\"\n",
      "}\n"
     ]
    }
   ],
   "source": [
    "# List all deployed real-time endpoints. Depending on your existing environment you might have multiple endpoints\n",
    "endpoints = sm.list_endpoints(StatusEquals=\"InService\")[\"Endpoints\"]\n",
    "\n",
    "if not len(endpoints):\n",
    "    print(f\"There is no deployed active endpoints. You must have at least one endpoint. Run the step 3 pipeline to create a model\")\n",
    "    \n",
    "for ep in endpoints:\n",
    "    print(f\"Data capture configuration for {ep['EndpointName']}:\")\n",
    "    print(f\"{json.dumps(sm.describe_endpoint(EndpointName=ep['EndpointName'])['DataCaptureConfig'], indent=2)}\")"
   ]
  },
  {
   "cell_type": "markdown",
   "id": "6f313a21-fcf5-42ed-82e5-bc8306b46cd5",
   "metadata": {},
   "source": [
    "<div class=\"alert alert-info\"> 💡\n",
    "If there is no active endpoints, you can run the step 3 notebook to create a model and register the model in the model registry.\n",
    "If you have an active endpoint, you can go to the <strong>Check the data capture configuration</strong> section.\n",
    "</div>"
   ]
  },
  {
   "cell_type": "markdown",
   "id": "de9355bb-bb6f-4f48-be15-425ccddb17cb",
   "metadata": {},
   "source": [
    "### Deploy a model from the model registry as a real-time endpoint\n",
    "Run this section if you'd like to create an endpoint with a model from the model registry you created in the step 3 pipeline."
   ]
  },
  {
   "cell_type": "code",
   "execution_count": 38,
   "id": "9bf19768-cd0e-4dcb-9bbb-93a37e5cf103",
   "metadata": {
    "tags": []
   },
   "outputs": [],
   "source": [
    "try:\n",
    "    model_package_group = sm.describe_model_package_group(ModelPackageGroupName=model_package_group_name)\n",
    "except botocore.exceptions.ClientError as e:\n",
    "    if e.response['Error']['Code'] == 'ValidationException':\n",
    "        print(\"******* ERROR *********\")\n",
    "        print(f\"Model package group with the name {model_package_group_name} is not found. You need to run the step 3 pipeline to create a model\")"
   ]
  },
  {
   "cell_type": "code",
   "execution_count": 43,
   "id": "97e5b728-2423-4b7c-b3b1-717a5099130e",
   "metadata": {
    "tags": []
   },
   "outputs": [
    {
     "name": "stdout",
     "output_type": "stream",
     "text": [
      "The latest model package is version 16, arn:aws:sagemaker:us-east-1:906545278380:model-package/from-idea-to-prod-model-group/16\n"
     ]
    }
   ],
   "source": [
    "model_packages = []\n",
    "\n",
    "# Find the latest model package\n",
    "# Set the parameter ModelApprovalStatus='Approved' if you'd like to get only the approved packages\n",
    "# Sort by the CreationTime\n",
    "for p in sm.get_paginator('list_model_packages').paginate(\n",
    "    ModelPackageGroupName=model_package_group_name,\n",
    "    # ModelApprovalStatus='Approved',\n",
    "    SortBy=\"CreationTime\",\n",
    "    SortOrder=\"Descending\",\n",
    "    ):\n",
    "    model_packages.extend(p[\"ModelPackageSummaryList\"])\n",
    "    \n",
    "if not len(model_packages):\n",
    "    print(\"There is no model packages in the model package group {}. You need to run the step 3 pipeline to create a model\")\n",
    "    \n",
    "latest_model_package_arn = model_packages[0]['ModelPackageArn']\n",
    "print(f\"The latest model package is version {model_packages[0]['ModelPackageVersion']}, {latest_model_package_arn}\")\n"
   ]
  },
  {
   "cell_type": "markdown",
   "id": "aabe171e-9347-475a-b407-fd21e41cd6a5",
   "metadata": {},
   "source": [
    "You can only deploy a model with the model approval status `Approved`, so the next code cell updates the status."
   ]
  },
  {
   "cell_type": "code",
   "execution_count": 44,
   "id": "62ef15db-8bef-40bd-9c5e-567d67c1dd8e",
   "metadata": {
    "tags": []
   },
   "outputs": [
    {
     "data": {
      "text/plain": [
       "{'ModelPackageArn': 'arn:aws:sagemaker:us-east-1:906545278380:model-package/from-idea-to-prod-model-group/16',\n",
       " 'ResponseMetadata': {'RequestId': '03803851-8efe-4706-a894-db9bf00f38dd',\n",
       "  'HTTPStatusCode': 200,\n",
       "  'HTTPHeaders': {'x-amzn-requestid': '03803851-8efe-4706-a894-db9bf00f38dd',\n",
       "   'content-type': 'application/x-amz-json-1.1',\n",
       "   'content-length': '109',\n",
       "   'date': 'Mon, 13 Feb 2023 15:38:53 GMT'},\n",
       "  'RetryAttempts': 0}}"
      ]
     },
     "execution_count": 44,
     "metadata": {},
     "output_type": "execute_result"
    }
   ],
   "source": [
    "sm.update_model_package(\n",
    "    ModelPackageArn=latest_model_package_arn,\n",
    "    ModelApprovalStatus=\"Approved\",\n",
    ")"
   ]
  },
  {
   "cell_type": "code",
   "execution_count": 45,
   "id": "c23c7d8a-0ee1-4e6d-8052-543c8d6d73a2",
   "metadata": {
    "tags": []
   },
   "outputs": [],
   "source": [
    "# Create a model from the registry using Python SDK\n",
    "model = ModelPackage(role=sm_role, \n",
    "                     model_package_arn=model_packages[0]['ModelPackageArn'], \n",
    "                     sagemaker_session=session)"
   ]
  },
  {
   "cell_type": "code",
   "execution_count": 46,
   "id": "4859df53-8d40-44f5-b07e-8e7e2bf1dda7",
   "metadata": {
    "tags": []
   },
   "outputs": [],
   "source": [
    "endpoint_name = f\"from-idea-to-prod-endpoint-{strftime('%d-%H-%M-%S', gmtime())}\"\n",
    "\n",
    "data_capture_config = DataCaptureConfig(\n",
    "            enable_capture=True,\n",
    "            sampling_percentage=100,\n",
    "            destination_s3_uri=f\"s3://{bucket_name}/{bucket_prefix}/data-capture\",\n",
    "        )"
   ]
  },
  {
   "cell_type": "code",
   "execution_count": 47,
   "id": "75c16a7d-f8f1-426c-bd44-5527f21f71df",
   "metadata": {
    "tags": []
   },
   "outputs": [
    {
     "name": "stdout",
     "output_type": "stream",
     "text": [
      "------!"
     ]
    }
   ],
   "source": [
    "# Deploy the model\n",
    "model.deploy(\n",
    "    initial_instance_count=1,\n",
    "    instance_type=\"ml.m5.large\",\n",
    "    wait=False,\n",
    "    data_capture_config=data_capture_config,\n",
    "    endpoint_name=endpoint_name,\n",
    "    serializer=sagemaker.serializers.CSVSerializer(),\n",
    "    deserializer=sagemaker.deserializers.CSVDeserializer(),\n",
    ")"
   ]
  },
  {
   "cell_type": "code",
   "execution_count": 48,
   "id": "6b7d312b-84c9-4cc0-9467-451759cb809b",
   "metadata": {
    "tags": []
   },
   "outputs": [],
   "source": [
    "# Wait until the endpoint has the status InService, it takes approximately 5 min\n",
    "waiter = session.sagemaker_client.get_waiter('endpoint_in_service')\n",
    "waiter.wait(EndpointName=endpoint_name)"
   ]
  },
  {
   "cell_type": "markdown",
   "id": "8f977d10-057f-4d9f-85ba-17b5dd7ebff6",
   "metadata": {},
   "source": [
    "### Check the data capture configuration\n",
    "If you completed the step 5 [notebook](05-deploy.ipynb), the model deployment CI/CD pipeline contains an infrastructure as code (IaS) data capture configuration for the deployed endpoints. If you clone the project's code repository to the Studio file system, you can browse the project files. Let's take a look into the endpoint configuration.\n",
    "\n",
    "The CloudFormation deployment template `endpoint-config-template.yml` in the project directory enables data capture for the endpoint configuration:\n",
    "```yaml\n",
    "EndpointConfig:\n",
    "    Type: AWS::SageMaker::EndpointConfig\n",
    "    Properties:\n",
    "      ProductionVariants:\n",
    "        - InitialInstanceCount: !Ref EndpointInstanceCount\n",
    "          InitialVariantWeight: 1.0\n",
    "          InstanceType: !Ref EndpointInstanceType\n",
    "          ModelName: !GetAtt Model.ModelName\n",
    "          VariantName: AllTraffic\n",
    "      DataCaptureConfig:\n",
    "          EnableCapture: !Ref EnableDataCapture \n",
    "          InitialSamplingPercentage: !Ref SamplingPercentage\n",
    "          DestinationS3Uri: !Ref DataCaptureUploadPath\n",
    "          CaptureOptions:\n",
    "            - CaptureMode: Input\n",
    "            - CaptureMode: Output\n",
    "          CaptureContentTypeHeader:\n",
    "            CsvContentTypes:\n",
    "              - \"text/csv\"\n",
    "```\n",
    "\n",
    "The MLOps deploy project parametrizes all settings in the CloudFormation template.\n",
    "The configuration files `prod-config.json` and `staging-config.json` provide the actual values for `EnableCapture`, `InitialSamplingPercentage`, and `DestinationS3Uri`:\n",
    "```json\n",
    "{\n",
    "  \"Parameters\": {\n",
    "    \"StageName\": \"prod\",\n",
    "    \"EndpointInstanceCount\": \"1\",\n",
    "    \"EndpointInstanceType\": \"ml.m5.large\",\n",
    "    \"SamplingPercentage\": \"80\",\n",
    "    \"EnableDataCapture\": \"true\"\n",
    "  }\n",
    "}\n",
    "```\n",
    "\n",
    "Let's check the endpoint configuration and see how data capture is confgured."
   ]
  },
  {
   "cell_type": "markdown",
   "id": "97579f3b-2f8e-41e9-93b1-391695c6419f",
   "metadata": {
    "tags": []
   },
   "source": [
    "<div class=\"alert alert-info\"> 💡\n",
    "If you use the endpoint deployed in the step 5 notebook, set the endpoint_name to the name of the endpoint in the following code block.\n",
    "</div>"
   ]
  },
  {
   "cell_type": "code",
   "execution_count": 51,
   "id": "a891b9fe-37a3-44fa-a1d6-2fe94262410c",
   "metadata": {
    "tags": []
   },
   "outputs": [
    {
     "name": "stdout",
     "output_type": "stream",
     "text": [
      "s3://sagemaker-us-east-1-906545278380/from-idea-to-prod/xgboost/data-capture\n"
     ]
    }
   ],
   "source": [
    "# Get the configuration for the endpoint\n",
    "# endpoint_name = \"model-deploy-19-20-31-59-staging\" # USE YOUR STAGING ENDPOINT NAME\n",
    "data_capture_s3_url = sm.describe_endpoint(EndpointName=endpoint_name)['DataCaptureConfig']['DestinationS3Uri']\n",
    "data_capture_bucket = data_capture_s3_url.split('/')[2]\n",
    "data_capture_prefix = '/'.join(data_capture_s3_url.split('/')[3:])\n",
    "\n",
    "print(data_capture_s3_url)"
   ]
  },
  {
   "cell_type": "markdown",
   "id": "a7cbc4f7-ccd9-4399-8ffe-a736e2cc6cc4",
   "metadata": {},
   "source": [
    "### Define helper functions\n",
    "Define some helper functions with code snippets that you're going to use throughout this notebook."
   ]
  },
  {
   "cell_type": "code",
   "execution_count": 52,
   "id": "d880ebc0-f728-42e0-82fa-84a8daddda87",
   "metadata": {
    "tags": []
   },
   "outputs": [],
   "source": [
    "# Send data to the endpoint\n",
    "def generate_endpoint_traffic(predictor, data):\n",
    "    l = len(data)\n",
    "    for i in trange(l):\n",
    "        predictions = np.array(predictor.predict(data.iloc[i].values), dtype=float).squeeze()"
   ]
  },
  {
   "cell_type": "code",
   "execution_count": 53,
   "id": "2d86ff79-55f5-42d6-b390-38b8e4220d6d",
   "metadata": {
    "tags": []
   },
   "outputs": [],
   "source": [
    "# Get all file keys under a specified prefix\n",
    "def get_file_list(bucket, prefix):\n",
    "    try:\n",
    "        files = [f.get(\"Key\") for f in s3.list_objects(Bucket=bucket, Prefix=prefix).get(\"Contents\")]\n",
    "        print(f\"Found {len(files)} files in s3://{bucket}/{prefix}\")\n",
    "        \n",
    "        return files\n",
    "    except TypeError:\n",
    "        print(f\"No files found in s3://{bucket}/{prefix}\")\n",
    "        return None"
   ]
  },
  {
   "cell_type": "code",
   "execution_count": 54,
   "id": "9297bbfc-8360-42a1-bc2a-2932372aee8e",
   "metadata": {
    "tags": []
   },
   "outputs": [],
   "source": [
    "# Get S3 url for the latest captured data\n",
    "def get_latest_data_capture_s3_url(bucket, prefix):\n",
    "    capture_files = get_file_list(bucket, prefix)\n",
    "    \n",
    "    if capture_files:\n",
    "        latest_data_capture_s3_url = f\"s3://{bucket}/{'/'.join(capture_files[-1].split('/')[:-1])}\"\n",
    "\n",
    "        print(f\"Latest data capture S3 url: {latest_data_capture_s3_url}\")\n",
    "        \n",
    "        return latest_data_capture_s3_url\n",
    "    else:\n",
    "        return None"
   ]
  },
  {
   "cell_type": "code",
   "execution_count": 55,
   "id": "b9921dd5-3a14-4354-9731-479b1088393e",
   "metadata": {
    "tags": []
   },
   "outputs": [],
   "source": [
    "# Get S3 url for the latest monitoring job output\n",
    "def get_latest_monitoring_report_s3_url(job_name):\n",
    "    monitor_job = sm.list_processing_jobs(\n",
    "        NameContains=job_name,\n",
    "        SortOrder='Descending',\n",
    "        MaxResults=2\n",
    "    )['ProcessingJobSummaries'][0]['ProcessingJobName']\n",
    "\n",
    "    monitoring_job_output_s3_url = sm.describe_processing_job(\n",
    "        ProcessingJobName=monitor_job\n",
    "    )['ProcessingOutputConfig']['Outputs'][0]['S3Output']['S3Uri']\n",
    "\n",
    "    print(f\"Latest monitoring report S3 url: {monitoring_job_output_s3_url}\")\n",
    "    \n",
    "    return monitoring_job_output_s3_url"
   ]
  },
  {
   "cell_type": "code",
   "execution_count": 57,
   "id": "6d571446-c518-4f34-8532-81fce2298091",
   "metadata": {
    "tags": []
   },
   "outputs": [],
   "source": [
    "# Helper to load a json file from S3\n",
    "def load_json_from_file(file_s3_url):\n",
    "    bucket = file_s3_url.split('/')[2]\n",
    "    key = '/'.join(file_s3_url.split('/')[3:])\n",
    "    print(f\"Load JSON from: {bucket}/{key}\")\n",
    "    \n",
    "    return json.loads(\n",
    "        s3.get_object(Bucket=bucket, \n",
    "                      Key=key)[\"Body\"].read().decode(\"utf-8\")\n",
    "    )"
   ]
  },
  {
   "cell_type": "code",
   "execution_count": 58,
   "id": "2fceb53a-a099-4ad0-8b12-dadd72127a4a",
   "metadata": {
    "tags": []
   },
   "outputs": [],
   "source": [
    "def get_latest_monitor_execution(monitor):\n",
    "    mon_executions = monitor.list_executions()\n",
    "\n",
    "    if len(mon_executions):\n",
    "        latest_execution = mon_executions[-1]  # get the latest execution\n",
    "        latest_execution.wait(logs=False)\n",
    "\n",
    "        print(f\"Latest execution status: {latest_execution.describe().get('ProcessingJobStatus')}\")\n",
    "        print(f\"Latest execution result: {latest_execution.describe().get('ExitMessage')}\")\n",
    "\n",
    "        latest_job = latest_execution.describe()\n",
    "        if latest_job[\"ProcessingJobStatus\"] != \"Completed\":\n",
    "            print(\"No completed executions to inspect further\")\n",
    "        else:\n",
    "            report_uri = latest_execution.output.destination\n",
    "            print(f\"Report Uri: {report_uri}\")\n",
    "        \n",
    "        return latest_execution\n",
    "    else:\n",
    "        print(\"No monitoring schedule executions found\")\n",
    "        return None"
   ]
  },
  {
   "cell_type": "markdown",
   "id": "190e011d-ba01-43c8-8af9-959bb7835574",
   "metadata": {},
   "source": [
    "### Generate endpoint traffic and captured data\n",
    "You must send some data to an endpoint for inference to generate data capture."
   ]
  },
  {
   "cell_type": "code",
   "execution_count": 59,
   "id": "58229914-7fa6-4d5c-841b-2bbc32c6add5",
   "metadata": {
    "tags": []
   },
   "outputs": [],
   "source": [
    "# Create a predictor class for the endpoint\n",
    "predictor = Predictor(\n",
    "    endpoint_name=endpoint_name, \n",
    "    serializer=sagemaker.serializers.CSVSerializer(),\n",
    "    deserializer=sagemaker.deserializers.CSVDeserializer()\n",
    ")"
   ]
  },
  {
   "cell_type": "markdown",
   "id": "a4229045-c339-42ba-8116-f21d6d8ea3e6",
   "metadata": {},
   "source": [
    "Use test dataset prepared in the [step 2](02-sagemaker-containers.ipynb) notebook (`test_x.csv`) and saved on the EFS volume:"
   ]
  },
  {
   "cell_type": "code",
   "execution_count": 60,
   "id": "00648691-bede-4b15-8127-3711cc9b5449",
   "metadata": {
    "tags": []
   },
   "outputs": [],
   "source": [
    "# Set the number of data vectors from the test dataset sent to the inference endpoint\n",
    "number_of_vectors = 100"
   ]
  },
  {
   "cell_type": "code",
   "execution_count": 61,
   "id": "652224c3-4121-41c1-9494-f4d8a287f2fc",
   "metadata": {
    "tags": []
   },
   "outputs": [],
   "source": [
    "test_x = pd.read_csv(\"tmp/test_x.csv\", names=[f'_c{i}' for i in range(59)]).sample(number_of_vectors)"
   ]
  },
  {
   "cell_type": "code",
   "execution_count": 62,
   "id": "79b145f1-2e5d-49a2-a855-82375351eb65",
   "metadata": {
    "tags": []
   },
   "outputs": [
    {
     "data": {
      "text/html": [
       "<div>\n",
       "<style scoped>\n",
       "    .dataframe tbody tr th:only-of-type {\n",
       "        vertical-align: middle;\n",
       "    }\n",
       "\n",
       "    .dataframe tbody tr th {\n",
       "        vertical-align: top;\n",
       "    }\n",
       "\n",
       "    .dataframe thead th {\n",
       "        text-align: right;\n",
       "    }\n",
       "</style>\n",
       "<table border=\"1\" class=\"dataframe\">\n",
       "  <thead>\n",
       "    <tr style=\"text-align: right;\">\n",
       "      <th></th>\n",
       "      <th>_c0</th>\n",
       "      <th>_c1</th>\n",
       "      <th>_c2</th>\n",
       "      <th>_c3</th>\n",
       "      <th>_c4</th>\n",
       "      <th>_c5</th>\n",
       "      <th>_c6</th>\n",
       "      <th>_c7</th>\n",
       "      <th>_c8</th>\n",
       "      <th>_c9</th>\n",
       "      <th>...</th>\n",
       "      <th>_c49</th>\n",
       "      <th>_c50</th>\n",
       "      <th>_c51</th>\n",
       "      <th>_c52</th>\n",
       "      <th>_c53</th>\n",
       "      <th>_c54</th>\n",
       "      <th>_c55</th>\n",
       "      <th>_c56</th>\n",
       "      <th>_c57</th>\n",
       "      <th>_c58</th>\n",
       "    </tr>\n",
       "  </thead>\n",
       "  <tbody>\n",
       "    <tr>\n",
       "      <th>3376</th>\n",
       "      <td>31</td>\n",
       "      <td>1</td>\n",
       "      <td>999</td>\n",
       "      <td>0</td>\n",
       "      <td>1</td>\n",
       "      <td>0</td>\n",
       "      <td>0</td>\n",
       "      <td>0</td>\n",
       "      <td>0</td>\n",
       "      <td>0</td>\n",
       "      <td>...</td>\n",
       "      <td>0</td>\n",
       "      <td>0</td>\n",
       "      <td>0</td>\n",
       "      <td>0</td>\n",
       "      <td>0</td>\n",
       "      <td>0</td>\n",
       "      <td>1</td>\n",
       "      <td>0</td>\n",
       "      <td>1</td>\n",
       "      <td>0</td>\n",
       "    </tr>\n",
       "  </tbody>\n",
       "</table>\n",
       "<p>1 rows × 59 columns</p>\n",
       "</div>"
      ],
      "text/plain": [
       "      _c0  _c1  _c2  _c3  _c4  _c5  _c6  _c7  _c8  _c9  ...  _c49  _c50  _c51  \\\n",
       "3376   31    1  999    0    1    0    0    0    0    0  ...     0     0     0   \n",
       "\n",
       "      _c52  _c53  _c54  _c55  _c56  _c57  _c58  \n",
       "3376     0     0     0     1     0     1     0  \n",
       "\n",
       "[1 rows x 59 columns]"
      ]
     },
     "execution_count": 62,
     "metadata": {},
     "output_type": "execute_result"
    }
   ],
   "source": [
    "test_x.head(1)"
   ]
  },
  {
   "cell_type": "markdown",
   "id": "f4db3179-4d8f-491d-aeae-abae2eb779f6",
   "metadata": {},
   "source": [
    "If you need to add or update the data capture configuration for the endpoint, you can use `DataCaptureConfig` and call [`update_data_capture_config()`](https://sagemaker.readthedocs.io/en/stable/api/inference/predictors.html#sagemaker.predictor.Predictor.update_data_capture_config) method of the predictor:"
   ]
  },
  {
   "cell_type": "code",
   "execution_count": 63,
   "id": "7ba39633-78ad-4d99-ba0d-3625427bd5ea",
   "metadata": {
    "tags": []
   },
   "outputs": [],
   "source": [
    "# data_capture_config = DataCaptureConfig(\n",
    "#     enable_capture=True,\n",
    "#     sampling_percentage=100,\n",
    "#     destination_s3_uri=data_capture_s3_url,\n",
    "# )\n",
    "\n",
    "# predictor.update_data_capture_config(data_capture_config)"
   ]
  },
  {
   "cell_type": "markdown",
   "id": "ff7266a4-a744-4339-9da1-e1b87a4144c9",
   "metadata": {},
   "source": [
    "Send the data to the endpoint:"
   ]
  },
  {
   "cell_type": "code",
   "execution_count": 276,
   "id": "150cdd96-de42-4b63-9925-415097ecc680",
   "metadata": {
    "tags": []
   },
   "outputs": [
    {
     "name": "stderr",
     "output_type": "stream",
     "text": [
      "100%|██████████| 100/100 [00:01<00:00, 90.67it/s]\n"
     ]
    }
   ],
   "source": [
    "generate_endpoint_traffic(predictor, test_x)"
   ]
  },
  {
   "cell_type": "markdown",
   "id": "4f1ca97e-2129-4371-9695-c08d3e46f11b",
   "metadata": {},
   "source": [
    "### View captured data\n",
    "Now list the data capture files stored in Amazon S3. The data is stored as `jsonl` an Amazon S3 path format is `s3://{data-capture-destination-s3-url}/{endpoint-name}/{variant-name}/yyyy/mm/dd/hh/filename.jsonl`.\n",
    "\n",
    "Wait until captured data appears in the Amazon S3 bucket, it may take several minutes."
   ]
  },
  {
   "cell_type": "code",
   "execution_count": 269,
   "id": "b1d0fd2a-65e6-48d2-ab50-2e6cf8597f78",
   "metadata": {
    "tags": []
   },
   "outputs": [
    {
     "name": "stdout",
     "output_type": "stream",
     "text": [
      "2023-02-13 15:53:40      48702 from-idea-to-prod/xgboost/data-capture/from-idea-to-prod-endpoint-13-15-39-04/AllTraffic/2023/02/13/15/52-32-739-b3380519-6e72-4079-ac47-13312a2eb253.jsonl\n",
      "2023-02-13 16:21:30      48890 from-idea-to-prod/xgboost/data-capture/from-idea-to-prod-endpoint-13-15-39-04/AllTraffic/2023/02/13/16/20-24-369-8f1b57e7-8215-4711-9889-c908d356f5fc.jsonl\n",
      "2023-02-13 21:04:40      48702 from-idea-to-prod/xgboost/data-capture/from-idea-to-prod-endpoint-13-15-39-04/AllTraffic/2023/02/13/21/03-35-139-5a322d84-4197-4e5e-86e2-8ec9b36f5fb7.jsonl\n",
      "2023-02-14 10:01:10      60690 from-idea-to-prod/xgboost/data-capture/from-idea-to-prod-endpoint-13-15-39-04/AllTraffic/2023/02/14/10/00-05-920-b3f34273-1268-422b-ab84-2a9a2161b20b.jsonl\n"
     ]
    }
   ],
   "source": [
    "!aws s3 ls {data_capture_s3_url} --recursive"
   ]
  },
  {
   "cell_type": "code",
   "execution_count": 265,
   "id": "88b6a4c5-09ae-464e-a24a-9c474e6ae10d",
   "metadata": {
    "tags": []
   },
   "outputs": [
    {
     "name": "stdout",
     "output_type": "stream",
     "text": [
      "Found 4 files in s3://sagemaker-us-east-1-906545278380/from-idea-to-prod/xgboost/data-capture\n"
     ]
    }
   ],
   "source": [
    "capture_files = get_file_list(data_capture_bucket, data_capture_prefix)"
   ]
  },
  {
   "cell_type": "code",
   "execution_count": 84,
   "id": "60bb593e-cc43-454d-8f75-40fcb795a466",
   "metadata": {
    "tags": []
   },
   "outputs": [],
   "source": [
    "assert len(capture_files) > 0, \"Wait until the capture data delivered to the Amazon S3 bucket\""
   ]
  },
  {
   "cell_type": "code",
   "execution_count": null,
   "id": "37b77066-75e3-497a-b39b-e4a9f2c092ff",
   "metadata": {},
   "outputs": [
    {
     "data": {
      "text/plain": [
       "'from-idea-to-prod/xgboost/data-capture/from-idea-to-prod-endpoint-13-15-39-04/AllTraffic/2023/02/13/15/52-32-739-b3380519-6e72-4079-ac47-13312a2eb253.jsonl'"
      ]
     },
     "execution_count": 272,
     "metadata": {},
     "output_type": "execute_result"
    }
   ],
   "source": [
    "capture_files[0]"
   ]
  },
  {
   "cell_type": "markdown",
   "id": "e60ba1b4-8e39-4b1b-8f17-3253e6cb0a9b",
   "metadata": {},
   "source": [
    "Each inference request is captured in one line in the `jsonl` file. The line contains both the input and output merged together. In the example, you provided the ContentType as `text/csv` which is reflected in the `observedContentType` value. Also, you expose the encoding that you used to encode the input and output payloads in the capture format with the encoding value."
   ]
  },
  {
   "cell_type": "code",
   "execution_count": 275,
   "id": "77aed2f6-6430-4356-a6de-aff5f29fbc1b",
   "metadata": {
    "tags": []
   },
   "outputs": [
    {
     "name": "stdout",
     "output_type": "stream",
     "text": [
      "Content of the capture file:\n",
      "{\n",
      "  \"captureData\": {\n",
      "    \"endpointInput\": {\n",
      "      \"observedContentType\": \"text/csv\",\n",
      "      \"mode\": \"INPUT\",\n",
      "      \"data\": \"-99.99,1.0,999.0,0.0,1.0,0.0,0.0,0.0,0.0,0.0,1.0,0.0,0.0,0.0,0.0,0.0,0.0,0.0,0.0,1.0,0.0,0.0,0.0,0.0,0.0,0.0,0.0,0.0,1.0,0.0,1.0,0.0,0.0,0.0,0.0,1.0,1.0,0.0,0.0,1.0,0.0,0.0,0.0,0.0,0.0,0.0,0.0,0.0,1.0,0.0,0.0,0.0,0.0,0.0,0.0,1.0,0.0,1.0,0.0\",\n",
      "      \"encoding\": \"CSV\"\n",
      "    },\n",
      "    \"endpointOutput\": {\n",
      "      \"observedContentType\": \"text/csv; charset=utf-8\",\n",
      "      \"mode\": \"OUTPUT\",\n",
      "      \"data\": \"0.2193777859210968\\n\",\n",
      "      \"encoding\": \"CSV\"\n",
      "    }\n",
      "  },\n",
      "  \"eventMetadata\": {\n",
      "    \"eventId\": \"11b8a634-f96f-4a16-8f22-666209d1d8cf\",\n",
      "    \"inferenceTime\": \"2023-02-14T10:00:05Z\"\n",
      "  },\n",
      "  \"eventVersion\": \"0\"\n",
      "}\n"
     ]
    }
   ],
   "source": [
    "# Download a capture data file and print it's content\n",
    "file_key = capture_files[-1]\n",
    "S3Downloader.download(f\"s3://{data_capture_bucket}/{file_key}\", f\"./tmp\")\n",
    "\n",
    "print(f\"Content of the capture file:\")\n",
    "# Read the jsonl file and show the first object\n",
    "with jsonlines.open(f\"./tmp/{file_key.split('/')[-1]}\") as reader:      \n",
    "    print(json.dumps(reader.read(), indent=2))\n",
    "    # print(json.dumps(reader.read(), indent=2))"
   ]
  },
  {
   "cell_type": "markdown",
   "id": "0ada3476-3067-47e8-bcc1-f515972048c2",
   "metadata": {},
   "source": [
    "## Part 1: Monitor data quality\n",
    "In this part you learn how to setup data quality monitoring for SageMaker real-time endpoints.\n",
    "\n",
    "To enable inference data quality monitoring and evaluation you must:\n",
    "1. Enable [data capture](https://docs.aws.amazon.com/sagemaker/latest/dg/model-monitor-data-capture.html)\n",
    "1. [Create a baseline](https://docs.aws.amazon.com/sagemaker/latest/dg/model-monitor-create-baseline.html) with which you compare the realtime traffic\n",
    "1. Once a baseline is ready, [schedule monitoring jobs](https://docs.aws.amazon.com/sagemaker/latest/dg/model-monitor-scheduling.html) to continously evaluate and compare against the baseline\n",
    "1. [See and interpret the results](https://docs.aws.amazon.com/sagemaker/latest/dg/model-monitor-interpreting-results.html) of monitoring jobs\n",
    "1. [Integrate data quality monitoring](https://docs.aws.amazon.com/sagemaker/latest/dg/model-monitor-interpreting-cloudwatch.html) with Amazon CloudWatch"
   ]
  },
  {
   "cell_type": "markdown",
   "id": "84268bba-f44e-4cb4-a53f-67251253c1a4",
   "metadata": {},
   "source": [
    "### Create a baselining job with the training dataset\n",
    "The whole dataset with which you trained and tested the model is usually a good baseline dataset. Note that the baseline dataset data schema and the inference dataset schema should exactly match (i.e. the number and order of the features).\n",
    "\n",
    "From the baseline dataset you can ask Amazon SageMaker to suggest a set of baseline _constraints_ and generate descriptive _statistics_ to explore the data. Model Monitor provides a [built-in container](https://docs.aws.amazon.com/sagemaker/latest/dg/model-monitor-pre-built-container.html) that provides the ability to suggest the constraints automatically for CSV and flat JSON input. This `sagemaker-model-monitor-analyzer` container also provides you with a range of model monitoring capabilities, including constraint validation against a baseline, and emitting Amazon CloudWatch metrics. This container is based on Spark and is built with [Deequ](https://github.com/awslabs/deequ). \n",
    "\n",
    "<div class=\"alert alert-info\"> 💡 <strong> All column names in your baseline dataset must be compliant with Spark. For column names, use only lowercase characters, and _ as the only special character. </strong>\n",
    "</div>\n",
    "\n",
    "Use the baseline dataset you created in the [step 2](02-sagemaker-containers.ipynb) notebook data processing. The baseline dataset is the full dataset without header, index, and label column."
   ]
  },
  {
   "cell_type": "code",
   "execution_count": 87,
   "id": "fbaac6de-b3a9-4f4d-b6e2-2f2a66b86a11",
   "metadata": {
    "tags": []
   },
   "outputs": [
    {
     "name": "stdout",
     "output_type": "stream",
     "text": [
      "2023-02-13 11:40:07    4982068 baseline.csv\n"
     ]
    }
   ],
   "source": [
    "!aws s3 ls {baseline_s3_url}/"
   ]
  },
  {
   "cell_type": "code",
   "execution_count": 88,
   "id": "632362d5-c4e0-4bf5-bca4-b4da6ad34377",
   "metadata": {
    "tags": []
   },
   "outputs": [],
   "source": [
    "baseline_results_s3_url = f\"{baseline_s3_url}/results\"\n",
    "data_mon_reports_s3_url = f\"{baseline_s3_url}/reports\"\n",
    "baseline_dataset_uri = f\"{baseline_s3_url}/baseline.csv\""
   ]
  },
  {
   "cell_type": "markdown",
   "id": "c436412f-0daf-46bc-ab5f-682ad8bdeecc",
   "metadata": {},
   "source": [
    "Use the Python SDK class [`DefaultModelMonitor`](https://sagemaker.readthedocs.io/en/stable/api/inference/model_monitor.html#sagemaker.model_monitor.model_monitoring.DefaultModelMonitor) to create a data monitor and interact with it:"
   ]
  },
  {
   "cell_type": "code",
   "execution_count": 89,
   "id": "70b94a46-00ca-4e2b-bc4c-7e70d59b35ec",
   "metadata": {
    "tags": []
   },
   "outputs": [],
   "source": [
    "data_monitor = DefaultModelMonitor(\n",
    "    role=sm_role,\n",
    "    instance_count=1,\n",
    "    instance_type=\"ml.m5.xlarge\",\n",
    "    volume_size_in_gb=20,\n",
    "    max_runtime_in_seconds=3600,\n",
    "    sagemaker_session=session,\n",
    ")"
   ]
  },
  {
   "cell_type": "markdown",
   "id": "4d49b158-9859-4053-8ec9-8f99577ed07e",
   "metadata": {},
   "source": [
    "Start a SageMaker processing job on the baseline data to profile data and suggest constraints."
   ]
  },
  {
   "cell_type": "code",
   "execution_count": 90,
   "id": "5443d53d-00e9-4320-9c72-1751fe796778",
   "metadata": {
    "tags": []
   },
   "outputs": [
    {
     "name": "stderr",
     "output_type": "stream",
     "text": [
      "INFO:sagemaker:Creating processing-job with name from-idea-to-prod-data-baselining-13-15-55-51-17622085\n"
     ]
    },
    {
     "name": "stdout",
     "output_type": "stream",
     "text": [
      "from-idea-to-prod-data-baselining-13-15-55-51-17622085\n"
     ]
    }
   ],
   "source": [
    "data_baseline_job_name = f\"from-idea-to-prod-data-baselining-{strftime('%d-%H-%M-%S', gmtime())}-{str(uuid.uuid4())[:8]}\"\n",
    "\n",
    "data_baseline_job = data_monitor.suggest_baseline(\n",
    "    baseline_dataset=baseline_dataset_uri,\n",
    "    dataset_format=DatasetFormat.csv(header=False),\n",
    "    output_s3_uri=baseline_results_s3_url,\n",
    "    wait=False,\n",
    "    logs=False,\n",
    "    job_name=data_baseline_job_name,\n",
    ")\n",
    "\n",
    "print(data_baseline_job_name)"
   ]
  },
  {
   "cell_type": "markdown",
   "id": "f4f878c9-c820-47e2-a61c-51b3155ea34f",
   "metadata": {},
   "source": [
    "The baselining job takes about 7 minutes to complete:"
   ]
  },
  {
   "cell_type": "code",
   "execution_count": 91,
   "id": "09659b6e-f061-4e4a-aaba-da4fb9771d5a",
   "metadata": {
    "tags": []
   },
   "outputs": [
    {
     "name": "stdout",
     "output_type": "stream",
     "text": [
      "...........................................!"
     ]
    }
   ],
   "source": [
    "data_baseline_job.wait(logs=False)"
   ]
  },
  {
   "cell_type": "markdown",
   "id": "d29e9063-5fb6-4bda-86c1-d33b2b0ca10b",
   "metadata": {
    "tags": []
   },
   "source": [
    "### See the generated statistics and constraints\n",
    "After the baselining jobs finished, it saves the baseline statistics to the `statistics.json` file and the suggested baseline constraints to the `constraints.json` file in the location you specify with `output_s3_uri`."
   ]
  },
  {
   "cell_type": "code",
   "execution_count": 169,
   "id": "7c89c5ec-eb0b-491b-8f0a-9b6b8a037e59",
   "metadata": {
    "tags": []
   },
   "outputs": [
    {
     "data": {
      "text/plain": [
       "{'ProcessingInputs': [{'InputName': 'baseline_dataset_input',\n",
       "   'AppManaged': False,\n",
       "   'S3Input': {'S3Uri': 's3://sagemaker-us-east-1-906545278380/from-idea-to-prod/xgboost/baseline/baseline.csv',\n",
       "    'LocalPath': '/opt/ml/processing/input/baseline_dataset_input',\n",
       "    'S3DataType': 'S3Prefix',\n",
       "    'S3InputMode': 'File',\n",
       "    'S3DataDistributionType': 'FullyReplicated',\n",
       "    'S3CompressionType': 'None'}}],\n",
       " 'ProcessingOutputConfig': {'Outputs': [{'OutputName': 'monitoring_output',\n",
       "    'S3Output': {'S3Uri': 's3://sagemaker-us-east-1-906545278380/from-idea-to-prod/xgboost/baseline/results',\n",
       "     'LocalPath': '/opt/ml/processing/output',\n",
       "     'S3UploadMode': 'EndOfJob'},\n",
       "    'AppManaged': False}]},\n",
       " 'ProcessingJobName': 'from-idea-to-prod-data-baselining-13-15-55-51-17622085',\n",
       " 'ProcessingResources': {'ClusterConfig': {'InstanceCount': 1,\n",
       "   'InstanceType': 'ml.m5.xlarge',\n",
       "   'VolumeSizeInGB': 20}},\n",
       " 'StoppingCondition': {'MaxRuntimeInSeconds': 3600},\n",
       " 'AppSpecification': {'ImageUri': '156813124566.dkr.ecr.us-east-1.amazonaws.com/sagemaker-model-monitor-analyzer'},\n",
       " 'Environment': {'dataset_format': '{\"csv\": {\"header\": false, \"output_columns_position\": \"START\"}}',\n",
       "  'dataset_source': '/opt/ml/processing/input/baseline_dataset_input',\n",
       "  'output_path': '/opt/ml/processing/output',\n",
       "  'publish_cloudwatch_metrics': 'Disabled'},\n",
       " 'RoleArn': 'arn:aws:iam::906545278380:role/mlops-workshop-domain-SageMakerExecutionRole-1SVJGI42GHMS9',\n",
       " 'ProcessingJobArn': 'arn:aws:sagemaker:us-east-1:906545278380:processing-job/from-idea-to-prod-data-baselining-13-15-55-51-17622085',\n",
       " 'ProcessingJobStatus': 'Completed',\n",
       " 'ExitMessage': 'Completed: Job completed successfully with no violations.',\n",
       " 'ProcessingEndTime': datetime.datetime(2023, 2, 13, 16, 1, 48, 527000, tzinfo=tzlocal()),\n",
       " 'ProcessingStartTime': datetime.datetime(2023, 2, 13, 16, 0, 2, 492000, tzinfo=tzlocal()),\n",
       " 'LastModifiedTime': datetime.datetime(2023, 2, 13, 16, 1, 48, 863000, tzinfo=tzlocal()),\n",
       " 'CreationTime': datetime.datetime(2023, 2, 13, 15, 55, 51, 382000, tzinfo=tzlocal()),\n",
       " 'ResponseMetadata': {'RequestId': '2c29346d-398e-42bd-a779-0e1db6a43aad',\n",
       "  'HTTPStatusCode': 200,\n",
       "  'HTTPHeaders': {'x-amzn-requestid': '2c29346d-398e-42bd-a779-0e1db6a43aad',\n",
       "   'content-type': 'application/x-amz-json-1.1',\n",
       "   'content-length': '1891',\n",
       "   'date': 'Mon, 13 Feb 2023 18:36:48 GMT'},\n",
       "  'RetryAttempts': 0}}"
      ]
     },
     "execution_count": 169,
     "metadata": {},
     "output_type": "execute_result"
    }
   ],
   "source": [
    "data_monitor.describe_latest_baselining_job()"
   ]
  },
  {
   "cell_type": "code",
   "execution_count": 170,
   "id": "ff77ab21-f595-417e-a880-a3cb73be87c0",
   "metadata": {
    "tags": []
   },
   "outputs": [
    {
     "name": "stdout",
     "output_type": "stream",
     "text": [
      "2023-02-13 16:01:43       9272 constraints.json\n",
      "2023-02-13 16:01:43    1216759 statistics.json\n"
     ]
    }
   ],
   "source": [
    "!aws s3 ls {baseline_results_s3_url}/"
   ]
  },
  {
   "cell_type": "code",
   "execution_count": 171,
   "id": "a377fca9-436d-45cd-818c-4a8c88f84c4b",
   "metadata": {
    "tags": []
   },
   "outputs": [],
   "source": [
    "data_statistics_s3_url = f\"{baseline_results_s3_url}/statistics.json\"\n",
    "data_constraints_s3_url = f\"{baseline_results_s3_url}/constraints.json\""
   ]
  },
  {
   "cell_type": "markdown",
   "id": "305d2e3b-c707-4b34-bd68-36fc3da9fee0",
   "metadata": {},
   "source": [
    "Copy statistics and constraints JSON files to the Studio EFS:"
   ]
  },
  {
   "cell_type": "code",
   "execution_count": 172,
   "id": "24301fbd-6e71-4c35-b478-c8b076d4e285",
   "metadata": {
    "tags": []
   },
   "outputs": [
    {
     "name": "stdout",
     "output_type": "stream",
     "text": [
      "download: s3://sagemaker-us-east-1-906545278380/from-idea-to-prod/xgboost/baseline/results/constraints.json to tmp/constraints.json\n",
      "download: s3://sagemaker-us-east-1-906545278380/from-idea-to-prod/xgboost/baseline/results/statistics.json to tmp/statistics.json\n"
     ]
    }
   ],
   "source": [
    "!aws s3 cp {data_constraints_s3_url} ./tmp/\n",
    "!aws s3 cp {data_statistics_s3_url} ./tmp/"
   ]
  },
  {
   "cell_type": "code",
   "execution_count": 96,
   "id": "c45e8f3d-65bb-4bd0-9176-5f0bc8e44b2e",
   "metadata": {
    "tags": []
   },
   "outputs": [
    {
     "name": "stdout",
     "output_type": "stream",
     "text": [
      "{\n",
      "  \"version\" : 0.0,\n",
      "  \"features\" : [ {\n",
      "    \"name\" : \"_c0\",\n",
      "    \"inferred_type\" : \"Integral\",\n",
      "    \"completeness\" : 1.0,\n",
      "    \"num_constraints\" : {\n",
      "      \"is_non_negative\" : true\n",
      "    }\n",
      "  }, {\n",
      "    \"name\" : \"_c1\",\n",
      "    \"inferred_type\" : \"Integral\",\n",
      "    \"completeness\" : 1.0,\n",
      "    \"num_constraints\" : {\n",
      "      \"is_non_negative\" : true\n",
      "    }\n",
      "  }, {\n",
      "    \"name\" : \"_c2\",\n",
      "    \"inferred_type\" : \"Integral\",\n",
      "    \"completeness\" : 1.0,\n"
     ]
    }
   ],
   "source": [
    "!head -20 tmp/constraints.json"
   ]
  },
  {
   "cell_type": "code",
   "execution_count": 97,
   "id": "5bd77f24-182e-4bea-819a-bcc60795e22b",
   "metadata": {
    "tags": []
   },
   "outputs": [
    {
     "name": "stdout",
     "output_type": "stream",
     "text": [
      "{\n",
      "  \"version\" : 0.0,\n",
      "  \"dataset\" : {\n",
      "    \"item_count\" : 41188\n",
      "  },\n",
      "  \"features\" : [ {\n",
      "    \"name\" : \"_c0\",\n",
      "    \"inferred_type\" : \"Integral\",\n",
      "    \"numerical_statistics\" : {\n",
      "      \"common\" : {\n",
      "        \"num_present\" : 41188,\n",
      "        \"num_missing\" : 0\n",
      "      },\n",
      "      \"mean\" : 40.02406040594348,\n",
      "      \"sum\" : 1648511.0,\n",
      "      \"std_dev\" : 10.42112347183873,\n",
      "      \"min\" : 17.0,\n",
      "      \"max\" : 98.0,\n",
      "      \"distribution\" : {\n",
      "        \"kll\" : {\n"
     ]
    }
   ],
   "source": [
    "!head -20 tmp/statistics.json"
   ]
  },
  {
   "cell_type": "markdown",
   "id": "366806e0-fae7-41a1-8f67-a46ac297d9c1",
   "metadata": {},
   "source": [
    "Load the generated JSON as Pandas DataFrame and see the content of `statistics.json` and `constaints.json`:"
   ]
  },
  {
   "cell_type": "code",
   "execution_count": 101,
   "id": "dc1f849c-8ca0-4c7f-a3a4-eac7b7553b37",
   "metadata": {
    "tags": []
   },
   "outputs": [
    {
     "data": {
      "text/html": [
       "<div>\n",
       "<style scoped>\n",
       "    .dataframe tbody tr th:only-of-type {\n",
       "        vertical-align: middle;\n",
       "    }\n",
       "\n",
       "    .dataframe tbody tr th {\n",
       "        vertical-align: top;\n",
       "    }\n",
       "\n",
       "    .dataframe thead th {\n",
       "        text-align: right;\n",
       "    }\n",
       "</style>\n",
       "<table border=\"1\" class=\"dataframe\">\n",
       "  <thead>\n",
       "    <tr style=\"text-align: right;\">\n",
       "      <th></th>\n",
       "      <th>name</th>\n",
       "      <th>inferred_type</th>\n",
       "      <th>numerical_statistics.common.num_present</th>\n",
       "      <th>numerical_statistics.common.num_missing</th>\n",
       "      <th>numerical_statistics.mean</th>\n",
       "      <th>numerical_statistics.sum</th>\n",
       "      <th>numerical_statistics.std_dev</th>\n",
       "      <th>numerical_statistics.min</th>\n",
       "      <th>numerical_statistics.max</th>\n",
       "      <th>numerical_statistics.distribution.kll.buckets</th>\n",
       "      <th>numerical_statistics.distribution.kll.sketch.parameters.c</th>\n",
       "      <th>numerical_statistics.distribution.kll.sketch.parameters.k</th>\n",
       "      <th>numerical_statistics.distribution.kll.sketch.data</th>\n",
       "    </tr>\n",
       "  </thead>\n",
       "  <tbody>\n",
       "    <tr>\n",
       "      <th>0</th>\n",
       "      <td>_c0</td>\n",
       "      <td>Integral</td>\n",
       "      <td>41188</td>\n",
       "      <td>0</td>\n",
       "      <td>40.024060</td>\n",
       "      <td>1648511.0</td>\n",
       "      <td>10.421123</td>\n",
       "      <td>17.0</td>\n",
       "      <td>98.0</td>\n",
       "      <td>[{'lower_bound': 17.0, 'upper_bound': 25.1, 'count': 1676.0}, {'lower_bound': 25.1, 'upper_bound': 33.2, 'count': 11336.0}, {'lower_bound': 33.2, 'upper_bound': 41.3, 'count': 12040.0}, {'lower_bound': 41.3, 'upper_bound': 49.4, 'count': 8072.0}, {'lower_bound': 49.4, 'upper_bound': 57.5, 'count': 5856.0}, {'lower_bound': 57.5, 'upper_bound': 65.6, 'count': 1600.0}, {'lower_bound': 65.6, 'upper_bound': 73.7, 'count': 308.0}, {'lower_bound': 73.7, 'upper_bound': 81.8, 'count': 192.0}, {'lower_bound': 81.8, 'upper_bound': 89.9, 'count': 96.0}, {'lower_bound': 89.9, 'upper_bound': 98.0, 'count': 12.0}]</td>\n",
       "      <td>0.64</td>\n",
       "      <td>2048.0</td>\n",
       "      <td>[[], [], [17.0, 18.0, 18.0, 18.0, 18.0, 19.0, 19.0, 20.0, 20.0, 20.0, 20.0, 20.0, 20.0, 21.0, 21.0, 21.0, 21.0, 21.0, 21.0, 21.0, 21.0, 21.0, 22.0, 22.0, 22.0, 22.0, 22.0, 22.0, 22.0, 22.0, 22.0, 22.0, 23.0, 23.0, 23.0, 23.0, 23.0, 23.0, 23.0, 23.0, 23.0, 23.0, 23.0, 23.0, 23.0, 24.0, 24.0, 24.0, 24.0, 24.0, 24.0, 24.0, 24.0, 24.0, 24.0, 24.0, 24.0, 24.0, 24.0, 24.0, 24.0, 24.0, 24.0, 24.0, 24.0, 24.0, 24.0, 24.0, 24.0, 24.0, 24.0, 25.0, 25.0, 25.0, 25.0, 25.0, 25.0, 25.0, 25.0, 25.0, 25.0, 25.0, 25.0, 25.0, 25.0, 25.0, 25.0, 25.0, 25.0, 25.0, 25.0, 25.0, 25.0, 25.0, 25.0, 25.0, 25.0, 25.0, 25.0, 25.0, ...], [88.0], [88.0], [19.0, 21.0, 22.0, 22.0, 23.0, 23.0, 23.0, 24.0, 24.0, 24.0, 24.0, 24.0, 24.0, 24.0, 24.0, 25.0, 25.0, 25.0, 25.0, 25.0, 25.0, 25.0, 25.0, 25.0, 25.0, 25.0, 25.0, 26.0, 26.0, 26.0, 26.0, 26.0, 26.0, 26.0, 26.0, 26.0, 26.0, 26.0, 26.0, 26.0, 27.0, 27.0, 27.0, 27.0, 27.0, 27.0, 27.0, 27.0, 27.0, 27.0, 27.0, 27.0, 27.0, 27.0, 27.0, 28.0, 28.0, 28.0, 28.0, 28.0, 28.0, 28.0, 28.0, 28.0, 28.0, 28.0, 28.0, 28.0, 28.0, 28.0, 28.0, 28.0, 28.0, 28.0, 29.0, 29.0, 29.0, 29.0, 29.0, 29.0, 29.0, 29.0, 29.0, 29.0, 29.0, 29.0, 29.0, 29.0, 29.0, 29.0, 29.0, 29.0, 29.0, 29.0, 29.0, 29.0, 29.0, 29.0, 29.0, 29.0, ...]]</td>\n",
       "    </tr>\n",
       "    <tr>\n",
       "      <th>1</th>\n",
       "      <td>_c1</td>\n",
       "      <td>Integral</td>\n",
       "      <td>41188</td>\n",
       "      <td>0</td>\n",
       "      <td>2.567593</td>\n",
       "      <td>105754.0</td>\n",
       "      <td>2.769980</td>\n",
       "      <td>1.0</td>\n",
       "      <td>56.0</td>\n",
       "      <td>[{'lower_bound': 1.0, 'upper_bound': 6.5, 'count': 38792.0}, {'lower_bound': 6.5, 'upper_bound': 12.0, 'count': 1712.0}, {'lower_bound': 12.0, 'upper_bound': 17.5, 'count': 444.0}, {'lower_bound': 17.5, 'upper_bound': 23.0, 'count': 128.0}, {'lower_bound': 23.0, 'upper_bound': 28.5, 'count': 64.0}, {'lower_bound': 28.5, 'upper_bound': 34.0, 'count': 48.0}, {'lower_bound': 34.0, 'upper_bound': 39.5, 'count': 0.0}, {'lower_bound': 39.5, 'upper_bound': 45.0, 'count': 0.0}, {'lower_bound': 45.0, 'upper_bound': 50.5, 'count': 0.0}, {'lower_bound': 50.5, 'upper_bound': 56.0, 'count': 0.0}]</td>\n",
       "      <td>0.64</td>\n",
       "      <td>2048.0</td>\n",
       "      <td>[[], [], [1.0, 1.0, 1.0, 1.0, 1.0, 1.0, 1.0, 1.0, 1.0, 1.0, 1.0, 1.0, 1.0, 1.0, 1.0, 1.0, 1.0, 1.0, 1.0, 1.0, 1.0, 1.0, 1.0, 1.0, 1.0, 1.0, 1.0, 1.0, 1.0, 1.0, 1.0, 1.0, 1.0, 1.0, 1.0, 1.0, 1.0, 1.0, 1.0, 1.0, 1.0, 1.0, 1.0, 1.0, 1.0, 1.0, 1.0, 1.0, 1.0, 1.0, 1.0, 1.0, 1.0, 1.0, 1.0, 1.0, 1.0, 1.0, 1.0, 1.0, 1.0, 1.0, 1.0, 1.0, 1.0, 1.0, 1.0, 1.0, 1.0, 1.0, 1.0, 1.0, 1.0, 1.0, 1.0, 1.0, 1.0, 1.0, 1.0, 1.0, 1.0, 1.0, 1.0, 1.0, 1.0, 1.0, 1.0, 1.0, 1.0, 1.0, 1.0, 1.0, 1.0, 1.0, 1.0, 1.0, 1.0, 1.0, 1.0, 1.0, ...], [13.0], [33.0], [1.0, 1.0, 1.0, 1.0, 1.0, 1.0, 1.0, 1.0, 1.0, 1.0, 1.0, 1.0, 1.0, 1.0, 1.0, 1.0, 1.0, 1.0, 1.0, 1.0, 1.0, 1.0, 1.0, 1.0, 1.0, 1.0, 1.0, 1.0, 1.0, 1.0, 1.0, 1.0, 1.0, 1.0, 1.0, 1.0, 1.0, 1.0, 1.0, 1.0, 1.0, 1.0, 1.0, 1.0, 1.0, 1.0, 1.0, 1.0, 1.0, 1.0, 1.0, 1.0, 1.0, 1.0, 1.0, 1.0, 1.0, 1.0, 1.0, 1.0, 1.0, 1.0, 1.0, 1.0, 1.0, 1.0, 1.0, 1.0, 1.0, 1.0, 1.0, 1.0, 1.0, 1.0, 1.0, 1.0, 1.0, 1.0, 1.0, 1.0, 1.0, 1.0, 1.0, 1.0, 1.0, 1.0, 1.0, 1.0, 1.0, 1.0, 1.0, 1.0, 1.0, 1.0, 1.0, 1.0, 1.0, 1.0, 1.0, 1.0, ...]]</td>\n",
       "    </tr>\n",
       "    <tr>\n",
       "      <th>2</th>\n",
       "      <td>_c2</td>\n",
       "      <td>Integral</td>\n",
       "      <td>41188</td>\n",
       "      <td>0</td>\n",
       "      <td>962.475454</td>\n",
       "      <td>39642439.0</td>\n",
       "      <td>186.908638</td>\n",
       "      <td>0.0</td>\n",
       "      <td>999.0</td>\n",
       "      <td>[{'lower_bound': 0.0, 'upper_bound': 99.9, 'count': 1516.0}, {'lower_bound': 99.9, 'upper_bound': 199.8, 'count': 0.0}, {'lower_bound': 199.8, 'upper_bound': 299.7, 'count': 0.0}, {'lower_bound': 299.7, 'upper_bound': 399.6, 'count': 0.0}, {'lower_bound': 399.6, 'upper_bound': 499.5, 'count': 0.0}, {'lower_bound': 499.5, 'upper_bound': 599.4, 'count': 0.0}, {'lower_bound': 599.4, 'upper_bound': 699.3, 'count': 0.0}, {'lower_bound': 699.3, 'upper_bound': 799.2, 'count': 0.0}, {'lower_bound': 799.2, 'upper_bound': 899.1, 'count': 0.0}, {'lower_bound': 899.1, 'upper_bound': 999.0, 'count': 39672.0}]</td>\n",
       "      <td>0.64</td>\n",
       "      <td>2048.0</td>\n",
       "      <td>[[], [], [1.0, 1.0, 1.0, 2.0, 2.0, 2.0, 2.0, 2.0, 3.0, 3.0, 3.0, 3.0, 3.0, 3.0, 3.0, 3.0, 3.0, 3.0, 3.0, 3.0, 3.0, 3.0, 3.0, 3.0, 3.0, 3.0, 3.0, 3.0, 3.0, 3.0, 3.0, 3.0, 3.0, 3.0, 3.0, 3.0, 3.0, 3.0, 3.0, 3.0, 3.0, 3.0, 3.0, 3.0, 3.0, 3.0, 3.0, 3.0, 3.0, 3.0, 3.0, 3.0, 3.0, 3.0, 3.0, 3.0, 3.0, 3.0, 3.0, 3.0, 3.0, 3.0, 3.0, 3.0, 3.0, 3.0, 4.0, 4.0, 4.0, 4.0, 4.0, 4.0, 4.0, 4.0, 4.0, 4.0, 4.0, 4.0, 4.0, 4.0, 4.0, 4.0, 4.0, 4.0, 4.0, 4.0, 4.0, 5.0, 5.0, 6.0, 6.0, 6.0, 6.0, 6.0, 6.0, 6.0, 6.0, 6.0, 6.0, 6.0, ...], [999.0], [999.0], [3.0, 6.0, 999.0, 999.0, 999.0, 999.0, 999.0, 999.0, 999.0, 999.0, 999.0, 999.0, 999.0, 999.0, 999.0, 999.0, 999.0, 999.0, 999.0, 999.0, 999.0, 999.0, 999.0, 999.0, 999.0, 999.0, 999.0, 999.0, 999.0, 999.0, 999.0, 999.0, 999.0, 999.0, 999.0, 999.0, 999.0, 999.0, 999.0, 999.0, 999.0, 999.0, 999.0, 999.0, 999.0, 999.0, 999.0, 999.0, 999.0, 999.0, 999.0, 999.0, 999.0, 999.0, 999.0, 999.0, 999.0, 999.0, 999.0, 999.0, 999.0, 999.0, 999.0, 999.0, 999.0, 999.0, 999.0, 999.0, 999.0, 999.0, 999.0, 999.0, 999.0, 999.0, 999.0, 999.0, 999.0, 999.0, 999.0, 999.0, 999.0, 999.0, 999.0, 999.0, 999.0, 999.0, 999.0, 999.0, 999.0, 999.0, 999.0, 999.0, 999.0, 999.0, 999.0, 999.0, 999.0, 999.0, 999.0, 999.0, ...]]</td>\n",
       "    </tr>\n",
       "    <tr>\n",
       "      <th>3</th>\n",
       "      <td>_c3</td>\n",
       "      <td>Integral</td>\n",
       "      <td>41188</td>\n",
       "      <td>0</td>\n",
       "      <td>0.172963</td>\n",
       "      <td>7124.0</td>\n",
       "      <td>0.494895</td>\n",
       "      <td>0.0</td>\n",
       "      <td>7.0</td>\n",
       "      <td>[{'lower_bound': 0.0, 'upper_bound': 0.7, 'count': 35572.0}, {'lower_bound': 0.7, 'upper_bound': 1.4, 'count': 4548.0}, {'lower_bound': 1.4, 'upper_bound': 2.1, 'count': 760.0}, {'lower_bound': 2.1, 'upper_bound': 2.8, 'count': 0.0}, {'lower_bound': 2.8, 'upper_bound': 3.5, 'count': 216.0}, {'lower_bound': 3.5, 'upper_bound': 4.2, 'count': 68.0}, {'lower_bound': 4.2, 'upper_bound': 4.9, 'count': 0.0}, {'lower_bound': 4.9, 'upper_bound': 5.6, 'count': 16.0}, {'lower_bound': 5.6, 'upper_bound': 6.3, 'count': 4.0}, {'lower_bound': 6.3, 'upper_bound': 7.0, 'count': 4.0}]</td>\n",
       "      <td>0.64</td>\n",
       "      <td>2048.0</td>\n",
       "      <td>[[], [], [0.0, 0.0, 0.0, 0.0, 0.0, 0.0, 0.0, 0.0, 0.0, 0.0, 0.0, 0.0, 0.0, 0.0, 0.0, 0.0, 0.0, 0.0, 0.0, 0.0, 0.0, 0.0, 0.0, 0.0, 0.0, 0.0, 0.0, 0.0, 0.0, 0.0, 0.0, 0.0, 0.0, 0.0, 0.0, 0.0, 0.0, 0.0, 0.0, 0.0, 0.0, 0.0, 0.0, 0.0, 0.0, 0.0, 0.0, 0.0, 0.0, 0.0, 0.0, 0.0, 0.0, 0.0, 0.0, 0.0, 0.0, 0.0, 0.0, 0.0, 0.0, 0.0, 0.0, 0.0, 0.0, 0.0, 0.0, 0.0, 0.0, 0.0, 0.0, 0.0, 0.0, 0.0, 0.0, 0.0, 0.0, 0.0, 0.0, 0.0, 0.0, 0.0, 0.0, 0.0, 0.0, 0.0, 0.0, 0.0, 0.0, 0.0, 0.0, 0.0, 0.0, 0.0, 0.0, 0.0, 0.0, 0.0, 0.0, 0.0, ...], [2.0], [2.0], [0.0, 0.0, 0.0, 0.0, 0.0, 0.0, 0.0, 0.0, 0.0, 0.0, 0.0, 0.0, 0.0, 0.0, 0.0, 0.0, 0.0, 0.0, 0.0, 0.0, 0.0, 0.0, 0.0, 0.0, 0.0, 0.0, 0.0, 0.0, 0.0, 0.0, 0.0, 0.0, 0.0, 0.0, 0.0, 0.0, 0.0, 0.0, 0.0, 0.0, 0.0, 0.0, 0.0, 0.0, 0.0, 0.0, 0.0, 0.0, 0.0, 0.0, 0.0, 0.0, 0.0, 0.0, 0.0, 0.0, 0.0, 0.0, 0.0, 0.0, 0.0, 0.0, 0.0, 0.0, 0.0, 0.0, 0.0, 0.0, 0.0, 0.0, 0.0, 0.0, 0.0, 0.0, 0.0, 0.0, 0.0, 0.0, 0.0, 0.0, 0.0, 0.0, 0.0, 0.0, 0.0, 0.0, 0.0, 0.0, 0.0, 0.0, 0.0, 0.0, 0.0, 0.0, 0.0, 0.0, 0.0, 0.0, 0.0, 0.0, ...]]</td>\n",
       "    </tr>\n",
       "    <tr>\n",
       "      <th>4</th>\n",
       "      <td>_c4</td>\n",
       "      <td>Integral</td>\n",
       "      <td>41188</td>\n",
       "      <td>0</td>\n",
       "      <td>0.963217</td>\n",
       "      <td>39673.0</td>\n",
       "      <td>0.188228</td>\n",
       "      <td>0.0</td>\n",
       "      <td>1.0</td>\n",
       "      <td>[{'lower_bound': 0.0, 'upper_bound': 0.1, 'count': 1516.0}, {'lower_bound': 0.1, 'upper_bound': 0.2, 'count': 0.0}, {'lower_bound': 0.2, 'upper_bound': 0.3, 'count': 0.0}, {'lower_bound': 0.3, 'upper_bound': 0.4, 'count': 0.0}, {'lower_bound': 0.4, 'upper_bound': 0.5, 'count': 0.0}, {'lower_bound': 0.5, 'upper_bound': 0.6, 'count': 0.0}, {'lower_bound': 0.6, 'upper_bound': 0.7, 'count': 0.0}, {'lower_bound': 0.7, 'upper_bound': 0.8, 'count': 0.0}, {'lower_bound': 0.8, 'upper_bound': 0.9, 'count': 0.0}, {'lower_bound': 0.9, 'upper_bound': 1.0, 'count': 39672.0}]</td>\n",
       "      <td>0.64</td>\n",
       "      <td>2048.0</td>\n",
       "      <td>[[], [], [0.0, 0.0, 0.0, 0.0, 0.0, 0.0, 0.0, 0.0, 0.0, 0.0, 0.0, 0.0, 0.0, 0.0, 0.0, 0.0, 0.0, 0.0, 0.0, 0.0, 0.0, 0.0, 0.0, 0.0, 0.0, 0.0, 0.0, 0.0, 0.0, 0.0, 0.0, 0.0, 0.0, 0.0, 0.0, 0.0, 0.0, 0.0, 0.0, 0.0, 0.0, 0.0, 0.0, 0.0, 0.0, 0.0, 0.0, 0.0, 0.0, 0.0, 0.0, 0.0, 0.0, 0.0, 0.0, 0.0, 0.0, 0.0, 0.0, 0.0, 0.0, 0.0, 0.0, 0.0, 0.0, 0.0, 0.0, 0.0, 0.0, 0.0, 0.0, 0.0, 0.0, 0.0, 0.0, 0.0, 0.0, 0.0, 0.0, 0.0, 0.0, 0.0, 0.0, 0.0, 0.0, 0.0, 0.0, 0.0, 0.0, 0.0, 0.0, 0.0, 0.0, 0.0, 0.0, 0.0, 0.0, 0.0, 0.0, 0.0, ...], [1.0], [1.0], [0.0, 0.0, 1.0, 1.0, 1.0, 1.0, 1.0, 1.0, 1.0, 1.0, 1.0, 1.0, 1.0, 1.0, 1.0, 1.0, 1.0, 1.0, 1.0, 1.0, 1.0, 1.0, 1.0, 1.0, 1.0, 1.0, 1.0, 1.0, 1.0, 1.0, 1.0, 1.0, 1.0, 1.0, 1.0, 1.0, 1.0, 1.0, 1.0, 1.0, 1.0, 1.0, 1.0, 1.0, 1.0, 1.0, 1.0, 1.0, 1.0, 1.0, 1.0, 1.0, 1.0, 1.0, 1.0, 1.0, 1.0, 1.0, 1.0, 1.0, 1.0, 1.0, 1.0, 1.0, 1.0, 1.0, 1.0, 1.0, 1.0, 1.0, 1.0, 1.0, 1.0, 1.0, 1.0, 1.0, 1.0, 1.0, 1.0, 1.0, 1.0, 1.0, 1.0, 1.0, 1.0, 1.0, 1.0, 1.0, 1.0, 1.0, 1.0, 1.0, 1.0, 1.0, 1.0, 1.0, 1.0, 1.0, 1.0, 1.0, ...]]</td>\n",
       "    </tr>\n",
       "  </tbody>\n",
       "</table>\n",
       "</div>"
      ],
      "text/plain": [
       "  name inferred_type  numerical_statistics.common.num_present  \\\n",
       "0  _c0      Integral                                    41188   \n",
       "1  _c1      Integral                                    41188   \n",
       "2  _c2      Integral                                    41188   \n",
       "3  _c3      Integral                                    41188   \n",
       "4  _c4      Integral                                    41188   \n",
       "\n",
       "   numerical_statistics.common.num_missing  numerical_statistics.mean  \\\n",
       "0                                        0                  40.024060   \n",
       "1                                        0                   2.567593   \n",
       "2                                        0                 962.475454   \n",
       "3                                        0                   0.172963   \n",
       "4                                        0                   0.963217   \n",
       "\n",
       "   numerical_statistics.sum  numerical_statistics.std_dev  \\\n",
       "0                 1648511.0                     10.421123   \n",
       "1                  105754.0                      2.769980   \n",
       "2                39642439.0                    186.908638   \n",
       "3                    7124.0                      0.494895   \n",
       "4                   39673.0                      0.188228   \n",
       "\n",
       "   numerical_statistics.min  numerical_statistics.max  \\\n",
       "0                      17.0                      98.0   \n",
       "1                       1.0                      56.0   \n",
       "2                       0.0                     999.0   \n",
       "3                       0.0                       7.0   \n",
       "4                       0.0                       1.0   \n",
       "\n",
       "                                                                                                                                                                                                                                                                                                                                                                                                                                                                                                                                                                                    numerical_statistics.distribution.kll.buckets  \\\n",
       "0  [{'lower_bound': 17.0, 'upper_bound': 25.1, 'count': 1676.0}, {'lower_bound': 25.1, 'upper_bound': 33.2, 'count': 11336.0}, {'lower_bound': 33.2, 'upper_bound': 41.3, 'count': 12040.0}, {'lower_bound': 41.3, 'upper_bound': 49.4, 'count': 8072.0}, {'lower_bound': 49.4, 'upper_bound': 57.5, 'count': 5856.0}, {'lower_bound': 57.5, 'upper_bound': 65.6, 'count': 1600.0}, {'lower_bound': 65.6, 'upper_bound': 73.7, 'count': 308.0}, {'lower_bound': 73.7, 'upper_bound': 81.8, 'count': 192.0}, {'lower_bound': 81.8, 'upper_bound': 89.9, 'count': 96.0}, {'lower_bound': 89.9, 'upper_bound': 98.0, 'count': 12.0}]   \n",
       "1                  [{'lower_bound': 1.0, 'upper_bound': 6.5, 'count': 38792.0}, {'lower_bound': 6.5, 'upper_bound': 12.0, 'count': 1712.0}, {'lower_bound': 12.0, 'upper_bound': 17.5, 'count': 444.0}, {'lower_bound': 17.5, 'upper_bound': 23.0, 'count': 128.0}, {'lower_bound': 23.0, 'upper_bound': 28.5, 'count': 64.0}, {'lower_bound': 28.5, 'upper_bound': 34.0, 'count': 48.0}, {'lower_bound': 34.0, 'upper_bound': 39.5, 'count': 0.0}, {'lower_bound': 39.5, 'upper_bound': 45.0, 'count': 0.0}, {'lower_bound': 45.0, 'upper_bound': 50.5, 'count': 0.0}, {'lower_bound': 50.5, 'upper_bound': 56.0, 'count': 0.0}]   \n",
       "2     [{'lower_bound': 0.0, 'upper_bound': 99.9, 'count': 1516.0}, {'lower_bound': 99.9, 'upper_bound': 199.8, 'count': 0.0}, {'lower_bound': 199.8, 'upper_bound': 299.7, 'count': 0.0}, {'lower_bound': 299.7, 'upper_bound': 399.6, 'count': 0.0}, {'lower_bound': 399.6, 'upper_bound': 499.5, 'count': 0.0}, {'lower_bound': 499.5, 'upper_bound': 599.4, 'count': 0.0}, {'lower_bound': 599.4, 'upper_bound': 699.3, 'count': 0.0}, {'lower_bound': 699.3, 'upper_bound': 799.2, 'count': 0.0}, {'lower_bound': 799.2, 'upper_bound': 899.1, 'count': 0.0}, {'lower_bound': 899.1, 'upper_bound': 999.0, 'count': 39672.0}]   \n",
       "3                                   [{'lower_bound': 0.0, 'upper_bound': 0.7, 'count': 35572.0}, {'lower_bound': 0.7, 'upper_bound': 1.4, 'count': 4548.0}, {'lower_bound': 1.4, 'upper_bound': 2.1, 'count': 760.0}, {'lower_bound': 2.1, 'upper_bound': 2.8, 'count': 0.0}, {'lower_bound': 2.8, 'upper_bound': 3.5, 'count': 216.0}, {'lower_bound': 3.5, 'upper_bound': 4.2, 'count': 68.0}, {'lower_bound': 4.2, 'upper_bound': 4.9, 'count': 0.0}, {'lower_bound': 4.9, 'upper_bound': 5.6, 'count': 16.0}, {'lower_bound': 5.6, 'upper_bound': 6.3, 'count': 4.0}, {'lower_bound': 6.3, 'upper_bound': 7.0, 'count': 4.0}]   \n",
       "4                                         [{'lower_bound': 0.0, 'upper_bound': 0.1, 'count': 1516.0}, {'lower_bound': 0.1, 'upper_bound': 0.2, 'count': 0.0}, {'lower_bound': 0.2, 'upper_bound': 0.3, 'count': 0.0}, {'lower_bound': 0.3, 'upper_bound': 0.4, 'count': 0.0}, {'lower_bound': 0.4, 'upper_bound': 0.5, 'count': 0.0}, {'lower_bound': 0.5, 'upper_bound': 0.6, 'count': 0.0}, {'lower_bound': 0.6, 'upper_bound': 0.7, 'count': 0.0}, {'lower_bound': 0.7, 'upper_bound': 0.8, 'count': 0.0}, {'lower_bound': 0.8, 'upper_bound': 0.9, 'count': 0.0}, {'lower_bound': 0.9, 'upper_bound': 1.0, 'count': 39672.0}]   \n",
       "\n",
       "   numerical_statistics.distribution.kll.sketch.parameters.c  \\\n",
       "0                                                       0.64   \n",
       "1                                                       0.64   \n",
       "2                                                       0.64   \n",
       "3                                                       0.64   \n",
       "4                                                       0.64   \n",
       "\n",
       "   numerical_statistics.distribution.kll.sketch.parameters.k  \\\n",
       "0                                                     2048.0   \n",
       "1                                                     2048.0   \n",
       "2                                                     2048.0   \n",
       "3                                                     2048.0   \n",
       "4                                                     2048.0   \n",
       "\n",
       "                                                                                                                                                                                                                                                                                                                                                                                                                                                                                                                                                                                                                                                                                                                                                                                                                                                                                                                                                                                                                                                                                                                                                                                                                                        numerical_statistics.distribution.kll.sketch.data  \n",
       "0  [[], [], [17.0, 18.0, 18.0, 18.0, 18.0, 19.0, 19.0, 20.0, 20.0, 20.0, 20.0, 20.0, 20.0, 21.0, 21.0, 21.0, 21.0, 21.0, 21.0, 21.0, 21.0, 21.0, 22.0, 22.0, 22.0, 22.0, 22.0, 22.0, 22.0, 22.0, 22.0, 22.0, 23.0, 23.0, 23.0, 23.0, 23.0, 23.0, 23.0, 23.0, 23.0, 23.0, 23.0, 23.0, 23.0, 24.0, 24.0, 24.0, 24.0, 24.0, 24.0, 24.0, 24.0, 24.0, 24.0, 24.0, 24.0, 24.0, 24.0, 24.0, 24.0, 24.0, 24.0, 24.0, 24.0, 24.0, 24.0, 24.0, 24.0, 24.0, 24.0, 25.0, 25.0, 25.0, 25.0, 25.0, 25.0, 25.0, 25.0, 25.0, 25.0, 25.0, 25.0, 25.0, 25.0, 25.0, 25.0, 25.0, 25.0, 25.0, 25.0, 25.0, 25.0, 25.0, 25.0, 25.0, 25.0, 25.0, 25.0, 25.0, ...], [88.0], [88.0], [19.0, 21.0, 22.0, 22.0, 23.0, 23.0, 23.0, 24.0, 24.0, 24.0, 24.0, 24.0, 24.0, 24.0, 24.0, 25.0, 25.0, 25.0, 25.0, 25.0, 25.0, 25.0, 25.0, 25.0, 25.0, 25.0, 25.0, 26.0, 26.0, 26.0, 26.0, 26.0, 26.0, 26.0, 26.0, 26.0, 26.0, 26.0, 26.0, 26.0, 27.0, 27.0, 27.0, 27.0, 27.0, 27.0, 27.0, 27.0, 27.0, 27.0, 27.0, 27.0, 27.0, 27.0, 27.0, 28.0, 28.0, 28.0, 28.0, 28.0, 28.0, 28.0, 28.0, 28.0, 28.0, 28.0, 28.0, 28.0, 28.0, 28.0, 28.0, 28.0, 28.0, 28.0, 29.0, 29.0, 29.0, 29.0, 29.0, 29.0, 29.0, 29.0, 29.0, 29.0, 29.0, 29.0, 29.0, 29.0, 29.0, 29.0, 29.0, 29.0, 29.0, 29.0, 29.0, 29.0, 29.0, 29.0, 29.0, 29.0, ...]]  \n",
       "1                                                                                                                                                                                                          [[], [], [1.0, 1.0, 1.0, 1.0, 1.0, 1.0, 1.0, 1.0, 1.0, 1.0, 1.0, 1.0, 1.0, 1.0, 1.0, 1.0, 1.0, 1.0, 1.0, 1.0, 1.0, 1.0, 1.0, 1.0, 1.0, 1.0, 1.0, 1.0, 1.0, 1.0, 1.0, 1.0, 1.0, 1.0, 1.0, 1.0, 1.0, 1.0, 1.0, 1.0, 1.0, 1.0, 1.0, 1.0, 1.0, 1.0, 1.0, 1.0, 1.0, 1.0, 1.0, 1.0, 1.0, 1.0, 1.0, 1.0, 1.0, 1.0, 1.0, 1.0, 1.0, 1.0, 1.0, 1.0, 1.0, 1.0, 1.0, 1.0, 1.0, 1.0, 1.0, 1.0, 1.0, 1.0, 1.0, 1.0, 1.0, 1.0, 1.0, 1.0, 1.0, 1.0, 1.0, 1.0, 1.0, 1.0, 1.0, 1.0, 1.0, 1.0, 1.0, 1.0, 1.0, 1.0, 1.0, 1.0, 1.0, 1.0, 1.0, 1.0, ...], [13.0], [33.0], [1.0, 1.0, 1.0, 1.0, 1.0, 1.0, 1.0, 1.0, 1.0, 1.0, 1.0, 1.0, 1.0, 1.0, 1.0, 1.0, 1.0, 1.0, 1.0, 1.0, 1.0, 1.0, 1.0, 1.0, 1.0, 1.0, 1.0, 1.0, 1.0, 1.0, 1.0, 1.0, 1.0, 1.0, 1.0, 1.0, 1.0, 1.0, 1.0, 1.0, 1.0, 1.0, 1.0, 1.0, 1.0, 1.0, 1.0, 1.0, 1.0, 1.0, 1.0, 1.0, 1.0, 1.0, 1.0, 1.0, 1.0, 1.0, 1.0, 1.0, 1.0, 1.0, 1.0, 1.0, 1.0, 1.0, 1.0, 1.0, 1.0, 1.0, 1.0, 1.0, 1.0, 1.0, 1.0, 1.0, 1.0, 1.0, 1.0, 1.0, 1.0, 1.0, 1.0, 1.0, 1.0, 1.0, 1.0, 1.0, 1.0, 1.0, 1.0, 1.0, 1.0, 1.0, 1.0, 1.0, 1.0, 1.0, 1.0, 1.0, ...]]  \n",
       "2    [[], [], [1.0, 1.0, 1.0, 2.0, 2.0, 2.0, 2.0, 2.0, 3.0, 3.0, 3.0, 3.0, 3.0, 3.0, 3.0, 3.0, 3.0, 3.0, 3.0, 3.0, 3.0, 3.0, 3.0, 3.0, 3.0, 3.0, 3.0, 3.0, 3.0, 3.0, 3.0, 3.0, 3.0, 3.0, 3.0, 3.0, 3.0, 3.0, 3.0, 3.0, 3.0, 3.0, 3.0, 3.0, 3.0, 3.0, 3.0, 3.0, 3.0, 3.0, 3.0, 3.0, 3.0, 3.0, 3.0, 3.0, 3.0, 3.0, 3.0, 3.0, 3.0, 3.0, 3.0, 3.0, 3.0, 3.0, 4.0, 4.0, 4.0, 4.0, 4.0, 4.0, 4.0, 4.0, 4.0, 4.0, 4.0, 4.0, 4.0, 4.0, 4.0, 4.0, 4.0, 4.0, 4.0, 4.0, 4.0, 5.0, 5.0, 6.0, 6.0, 6.0, 6.0, 6.0, 6.0, 6.0, 6.0, 6.0, 6.0, 6.0, ...], [999.0], [999.0], [3.0, 6.0, 999.0, 999.0, 999.0, 999.0, 999.0, 999.0, 999.0, 999.0, 999.0, 999.0, 999.0, 999.0, 999.0, 999.0, 999.0, 999.0, 999.0, 999.0, 999.0, 999.0, 999.0, 999.0, 999.0, 999.0, 999.0, 999.0, 999.0, 999.0, 999.0, 999.0, 999.0, 999.0, 999.0, 999.0, 999.0, 999.0, 999.0, 999.0, 999.0, 999.0, 999.0, 999.0, 999.0, 999.0, 999.0, 999.0, 999.0, 999.0, 999.0, 999.0, 999.0, 999.0, 999.0, 999.0, 999.0, 999.0, 999.0, 999.0, 999.0, 999.0, 999.0, 999.0, 999.0, 999.0, 999.0, 999.0, 999.0, 999.0, 999.0, 999.0, 999.0, 999.0, 999.0, 999.0, 999.0, 999.0, 999.0, 999.0, 999.0, 999.0, 999.0, 999.0, 999.0, 999.0, 999.0, 999.0, 999.0, 999.0, 999.0, 999.0, 999.0, 999.0, 999.0, 999.0, 999.0, 999.0, 999.0, 999.0, ...]]  \n",
       "3                                                                                                                                                                                                            [[], [], [0.0, 0.0, 0.0, 0.0, 0.0, 0.0, 0.0, 0.0, 0.0, 0.0, 0.0, 0.0, 0.0, 0.0, 0.0, 0.0, 0.0, 0.0, 0.0, 0.0, 0.0, 0.0, 0.0, 0.0, 0.0, 0.0, 0.0, 0.0, 0.0, 0.0, 0.0, 0.0, 0.0, 0.0, 0.0, 0.0, 0.0, 0.0, 0.0, 0.0, 0.0, 0.0, 0.0, 0.0, 0.0, 0.0, 0.0, 0.0, 0.0, 0.0, 0.0, 0.0, 0.0, 0.0, 0.0, 0.0, 0.0, 0.0, 0.0, 0.0, 0.0, 0.0, 0.0, 0.0, 0.0, 0.0, 0.0, 0.0, 0.0, 0.0, 0.0, 0.0, 0.0, 0.0, 0.0, 0.0, 0.0, 0.0, 0.0, 0.0, 0.0, 0.0, 0.0, 0.0, 0.0, 0.0, 0.0, 0.0, 0.0, 0.0, 0.0, 0.0, 0.0, 0.0, 0.0, 0.0, 0.0, 0.0, 0.0, 0.0, ...], [2.0], [2.0], [0.0, 0.0, 0.0, 0.0, 0.0, 0.0, 0.0, 0.0, 0.0, 0.0, 0.0, 0.0, 0.0, 0.0, 0.0, 0.0, 0.0, 0.0, 0.0, 0.0, 0.0, 0.0, 0.0, 0.0, 0.0, 0.0, 0.0, 0.0, 0.0, 0.0, 0.0, 0.0, 0.0, 0.0, 0.0, 0.0, 0.0, 0.0, 0.0, 0.0, 0.0, 0.0, 0.0, 0.0, 0.0, 0.0, 0.0, 0.0, 0.0, 0.0, 0.0, 0.0, 0.0, 0.0, 0.0, 0.0, 0.0, 0.0, 0.0, 0.0, 0.0, 0.0, 0.0, 0.0, 0.0, 0.0, 0.0, 0.0, 0.0, 0.0, 0.0, 0.0, 0.0, 0.0, 0.0, 0.0, 0.0, 0.0, 0.0, 0.0, 0.0, 0.0, 0.0, 0.0, 0.0, 0.0, 0.0, 0.0, 0.0, 0.0, 0.0, 0.0, 0.0, 0.0, 0.0, 0.0, 0.0, 0.0, 0.0, 0.0, ...]]  \n",
       "4                                                                                                                                                                                                            [[], [], [0.0, 0.0, 0.0, 0.0, 0.0, 0.0, 0.0, 0.0, 0.0, 0.0, 0.0, 0.0, 0.0, 0.0, 0.0, 0.0, 0.0, 0.0, 0.0, 0.0, 0.0, 0.0, 0.0, 0.0, 0.0, 0.0, 0.0, 0.0, 0.0, 0.0, 0.0, 0.0, 0.0, 0.0, 0.0, 0.0, 0.0, 0.0, 0.0, 0.0, 0.0, 0.0, 0.0, 0.0, 0.0, 0.0, 0.0, 0.0, 0.0, 0.0, 0.0, 0.0, 0.0, 0.0, 0.0, 0.0, 0.0, 0.0, 0.0, 0.0, 0.0, 0.0, 0.0, 0.0, 0.0, 0.0, 0.0, 0.0, 0.0, 0.0, 0.0, 0.0, 0.0, 0.0, 0.0, 0.0, 0.0, 0.0, 0.0, 0.0, 0.0, 0.0, 0.0, 0.0, 0.0, 0.0, 0.0, 0.0, 0.0, 0.0, 0.0, 0.0, 0.0, 0.0, 0.0, 0.0, 0.0, 0.0, 0.0, 0.0, ...], [1.0], [1.0], [0.0, 0.0, 1.0, 1.0, 1.0, 1.0, 1.0, 1.0, 1.0, 1.0, 1.0, 1.0, 1.0, 1.0, 1.0, 1.0, 1.0, 1.0, 1.0, 1.0, 1.0, 1.0, 1.0, 1.0, 1.0, 1.0, 1.0, 1.0, 1.0, 1.0, 1.0, 1.0, 1.0, 1.0, 1.0, 1.0, 1.0, 1.0, 1.0, 1.0, 1.0, 1.0, 1.0, 1.0, 1.0, 1.0, 1.0, 1.0, 1.0, 1.0, 1.0, 1.0, 1.0, 1.0, 1.0, 1.0, 1.0, 1.0, 1.0, 1.0, 1.0, 1.0, 1.0, 1.0, 1.0, 1.0, 1.0, 1.0, 1.0, 1.0, 1.0, 1.0, 1.0, 1.0, 1.0, 1.0, 1.0, 1.0, 1.0, 1.0, 1.0, 1.0, 1.0, 1.0, 1.0, 1.0, 1.0, 1.0, 1.0, 1.0, 1.0, 1.0, 1.0, 1.0, 1.0, 1.0, 1.0, 1.0, 1.0, 1.0, ...]]  "
      ]
     },
     "execution_count": 101,
     "metadata": {},
     "output_type": "execute_result"
    }
   ],
   "source": [
    "baseline_job = data_monitor.latest_baselining_job\n",
    "statistics_df = pd.json_normalize(baseline_job.baseline_statistics().body_dict[\"features\"])\n",
    "statistics_df.head()"
   ]
  },
  {
   "cell_type": "code",
   "execution_count": 102,
   "id": "2fdb5f66-da5c-477f-b66a-3997713404bd",
   "metadata": {
    "tags": []
   },
   "outputs": [
    {
     "data": {
      "text/html": [
       "<div>\n",
       "<style scoped>\n",
       "    .dataframe tbody tr th:only-of-type {\n",
       "        vertical-align: middle;\n",
       "    }\n",
       "\n",
       "    .dataframe tbody tr th {\n",
       "        vertical-align: top;\n",
       "    }\n",
       "\n",
       "    .dataframe thead th {\n",
       "        text-align: right;\n",
       "    }\n",
       "</style>\n",
       "<table border=\"1\" class=\"dataframe\">\n",
       "  <thead>\n",
       "    <tr style=\"text-align: right;\">\n",
       "      <th></th>\n",
       "      <th>name</th>\n",
       "      <th>inferred_type</th>\n",
       "      <th>completeness</th>\n",
       "      <th>num_constraints.is_non_negative</th>\n",
       "    </tr>\n",
       "  </thead>\n",
       "  <tbody>\n",
       "    <tr>\n",
       "      <th>0</th>\n",
       "      <td>_c0</td>\n",
       "      <td>Integral</td>\n",
       "      <td>1.0</td>\n",
       "      <td>True</td>\n",
       "    </tr>\n",
       "    <tr>\n",
       "      <th>1</th>\n",
       "      <td>_c1</td>\n",
       "      <td>Integral</td>\n",
       "      <td>1.0</td>\n",
       "      <td>True</td>\n",
       "    </tr>\n",
       "    <tr>\n",
       "      <th>2</th>\n",
       "      <td>_c2</td>\n",
       "      <td>Integral</td>\n",
       "      <td>1.0</td>\n",
       "      <td>True</td>\n",
       "    </tr>\n",
       "    <tr>\n",
       "      <th>3</th>\n",
       "      <td>_c3</td>\n",
       "      <td>Integral</td>\n",
       "      <td>1.0</td>\n",
       "      <td>True</td>\n",
       "    </tr>\n",
       "    <tr>\n",
       "      <th>4</th>\n",
       "      <td>_c4</td>\n",
       "      <td>Integral</td>\n",
       "      <td>1.0</td>\n",
       "      <td>True</td>\n",
       "    </tr>\n",
       "  </tbody>\n",
       "</table>\n",
       "</div>"
      ],
      "text/plain": [
       "  name inferred_type  completeness  num_constraints.is_non_negative\n",
       "0  _c0      Integral           1.0                             True\n",
       "1  _c1      Integral           1.0                             True\n",
       "2  _c2      Integral           1.0                             True\n",
       "3  _c3      Integral           1.0                             True\n",
       "4  _c4      Integral           1.0                             True"
      ]
     },
     "execution_count": 102,
     "metadata": {},
     "output_type": "execute_result"
    }
   ],
   "source": [
    "constraints_df = pd.json_normalize(\n",
    "    baseline_job.suggested_constraints().body_dict[\"features\"]\n",
    ")\n",
    "constraints_df.head()"
   ]
  },
  {
   "cell_type": "markdown",
   "id": "ecf40e47-2c22-4ca3-8fe1-02f428e5e0b8",
   "metadata": {},
   "source": [
    "For this dataset the baselining job suggest three constraints:\n",
    "1. DataType\n",
    "2. Completeness\n",
    "3. Is non-negative\n",
    "\n",
    "Additionally, the Model Monitor prebuilt container does missing and extra column check, baseline drift check, and categorical values check. Refer to [Developer Guide](https://docs.aws.amazon.com/sagemaker/latest/dg/model-monitor-interpreting-violations.html) for more details.\n",
    "\n",
    "In a real-world project you can add your own constraints the data must comply with.\n",
    "\n",
    "Next you schedule and run a monitoring job to validate incoming data against these constraints and statistics."
   ]
  },
  {
   "cell_type": "markdown",
   "id": "cf89bdfa-87a8-4a23-a299-0a303bbd9bcd",
   "metadata": {},
   "source": [
    "### Create a data monitoring schedule\n",
    "With a monitoring schedule, SageMaker launches processing jobs at a specified frequency to analyze the data collected during a given period. SageMaker provides a [built-in container](https://docs.aws.amazon.com/sagemaker/latest/dg/model-monitor-pre-built-container.html) for performing analysis on tabular datasets. In the processing job, SageMaker compares the dataset for the current analysis with the baseline statistics and constraints and generates a violations report. In addition, CloudWatch metrics are emitted for each data feature under analysis.\n",
    "\n",
    "#### Implement custom record processing with a preprocessing script\n",
    "You can extend Model Monitor by providing a custom record preprocessing function. In this function you can implement your own filtering or preprocessing of every data record. For example, you can skip some records from analysis based on values or some event metadata. Refer to [Preprocessing and Postprocessing](https://docs.aws.amazon.com/sagemaker/latest/dg/model-monitor-pre-and-post-processing.html) documentation for more details and examples.\n",
    "\n",
    "When you created a monitoring baseline, you used the baseline dataset with all features but without the label. The Model Monitor by default concatenates model input and output, resulting in a dataset which contains all features plus the label. If you don't preprocess records before passing them to Model Monitor, the number of columns in the baseline dataset won't match the number of columns in the data capture record, and Model Monitor will report a `extra_column_check` violation. To avoid this situation, you need either to include the label column in the baselining or remove model output from the monitored records. This notebook uses the latter approach and provides a preprocessing script that returns only input data without the label.\n",
    "\n",
    "For another example of custom preprocessing see the blog post [Design a compelling record filtering method with Amazon SageMaker Model Monitor](https://aws.amazon.com/blogs/machine-learning/design-a-compelling-record-filtering-method-with-amazon-sagemaker-model-monitor/)."
   ]
  },
  {
   "cell_type": "code",
   "execution_count": 103,
   "id": "6d83eb20-f98c-4579-9de7-a3147cb7c15d",
   "metadata": {
    "tags": []
   },
   "outputs": [],
   "source": [
    "# !pygmentize ./record_preprocessor.py"
   ]
  },
  {
   "cell_type": "code",
   "execution_count": 104,
   "id": "73a8a258-18ee-495f-aa97-e1f61890619c",
   "metadata": {
    "tags": []
   },
   "outputs": [],
   "source": [
    "# Upload the preprocessing script to S3\n",
    "record_preprocessor_s3_url = f\"s3://{bucket_name}/{bucket_prefix}/code\""
   ]
  },
  {
   "cell_type": "code",
   "execution_count": 105,
   "id": "b8cca5a8-7af8-44f0-b4a4-33daf44e9468",
   "metadata": {
    "tags": []
   },
   "outputs": [
    {
     "name": "stdout",
     "output_type": "stream",
     "text": [
      "upload: ./record_preprocessor.py to s3://sagemaker-us-east-1-906545278380/from-idea-to-prod/xgboost/code/record_preprocessor.py\n"
     ]
    }
   ],
   "source": [
    "!aws s3 cp ./record_preprocessor.py {record_preprocessor_s3_url}/"
   ]
  },
  {
   "cell_type": "code",
   "execution_count": 106,
   "id": "d179ca01-f71e-4544-9ebb-daa61b74d866",
   "metadata": {
    "tags": []
   },
   "outputs": [
    {
     "name": "stderr",
     "output_type": "stream",
     "text": [
      "INFO:sagemaker.model_monitor.model_monitoring:Creating Monitoring Schedule with name: from-idea-to-prod-data-monitor-schedule-2023-02-13-16-06-24\n"
     ]
    }
   ],
   "source": [
    "data_mon_schedule_name = \"from-idea-to-prod-data-monitor-schedule-\" + strftime(\n",
    "    \"%Y-%m-%d-%H-%M-%S\", gmtime()\n",
    ")\n",
    "\n",
    "data_monitor.create_monitoring_schedule(\n",
    "    monitor_schedule_name=data_mon_schedule_name,\n",
    "    endpoint_input=predictor.endpoint_name,\n",
    "    record_preprocessor_script=f\"{record_preprocessor_s3_url}/record_preprocessor.py\",\n",
    "    # post_analytics_processor_script=s3_code_postprocessor_uri,\n",
    "    output_s3_uri=data_mon_reports_s3_url,\n",
    "    statistics=data_monitor.baseline_statistics(),\n",
    "    constraints=data_monitor.suggested_constraints(),\n",
    "    schedule_cron_expression=CronExpressionGenerator.hourly(),\n",
    "    enable_cloudwatch_metrics=True,\n",
    ")"
   ]
  },
  {
   "cell_type": "code",
   "execution_count": 107,
   "id": "99355b13-4f45-4b53-87e3-57774d9b9e61",
   "metadata": {
    "tags": []
   },
   "outputs": [
    {
     "name": "stdout",
     "output_type": "stream",
     "text": [
      "Waiting until data monitoring schedule status becomes Scheduled\n",
      "Waiting until data monitoring schedule status becomes Scheduled\n",
      "Waiting until data monitoring schedule status becomes Scheduled\n"
     ]
    },
    {
     "data": {
      "text/plain": [
       "{'MonitoringScheduleArn': 'arn:aws:sagemaker:us-east-1:906545278380:monitoring-schedule/from-idea-to-prod-data-monitor-schedule-2023-02-13-16-06-24',\n",
       " 'MonitoringScheduleName': 'from-idea-to-prod-data-monitor-schedule-2023-02-13-16-06-24',\n",
       " 'MonitoringScheduleStatus': 'Scheduled',\n",
       " 'MonitoringType': 'DataQuality',\n",
       " 'CreationTime': datetime.datetime(2023, 2, 13, 16, 6, 25, 235000, tzinfo=tzlocal()),\n",
       " 'LastModifiedTime': datetime.datetime(2023, 2, 13, 16, 6, 34, 320000, tzinfo=tzlocal()),\n",
       " 'MonitoringScheduleConfig': {'ScheduleConfig': {'ScheduleExpression': 'cron(0 * ? * * *)'},\n",
       "  'MonitoringJobDefinitionName': 'data-quality-job-definition-2023-02-13-16-06-24-914',\n",
       "  'MonitoringType': 'DataQuality'},\n",
       " 'EndpointName': 'from-idea-to-prod-endpoint-13-15-39-04',\n",
       " 'ResponseMetadata': {'RequestId': '29878010-5ffe-4197-9e78-c357c8885786',\n",
       "  'HTTPStatusCode': 200,\n",
       "  'HTTPHeaders': {'x-amzn-requestid': '29878010-5ffe-4197-9e78-c357c8885786',\n",
       "   'content-type': 'application/x-amz-json-1.1',\n",
       "   'content-length': '632',\n",
       "   'date': 'Mon, 13 Feb 2023 16:06:35 GMT'},\n",
       "  'RetryAttempts': 0}}"
      ]
     },
     "execution_count": 107,
     "metadata": {},
     "output_type": "execute_result"
    }
   ],
   "source": [
    "while data_monitor.describe_schedule()[\"MonitoringScheduleStatus\"] != \"Scheduled\":\n",
    "    print(f\"Waiting until data monitoring schedule status becomes Scheduled\")\n",
    "    time.sleep(3)\n",
    "\n",
    "data_monitor.describe_schedule()"
   ]
  },
  {
   "cell_type": "markdown",
   "id": "0597276a-420c-457d-a545-dcf7378c4234",
   "metadata": {},
   "source": [
    "### Generate compliant traffic\n",
    "Generate traffic that won't trigger any violations. Use the `test_x.csv` dataset to send requests to the endpoint."
   ]
  },
  {
   "cell_type": "code",
   "execution_count": 108,
   "id": "ed4a44fa-2ebf-4cf4-b34f-f72aeba5837a",
   "metadata": {
    "tags": []
   },
   "outputs": [
    {
     "name": "stderr",
     "output_type": "stream",
     "text": [
      "100%|██████████| 100/100 [00:01<00:00, 69.70it/s]\n"
     ]
    }
   ],
   "source": [
    "generate_endpoint_traffic(predictor, test_x)"
   ]
  },
  {
   "cell_type": "markdown",
   "id": "62e2001d-62ed-465f-b273-4c7ce16fa39f",
   "metadata": {},
   "source": [
    "### See the captured data\n",
    "List captured data files under `data_capture_s3_url`. Wait couple of minutes before the captured data appears in the Amazon S3 bucket."
   ]
  },
  {
   "cell_type": "code",
   "execution_count": 263,
   "id": "c42cc853-a4d1-43b4-947a-06b0a7d9880f",
   "metadata": {
    "tags": []
   },
   "outputs": [
    {
     "name": "stdout",
     "output_type": "stream",
     "text": [
      "2023-02-13 15:53:40      48702 from-idea-to-prod/xgboost/data-capture/from-idea-to-prod-endpoint-13-15-39-04/AllTraffic/2023/02/13/15/52-32-739-b3380519-6e72-4079-ac47-13312a2eb253.jsonl\n",
      "2023-02-13 16:21:30      48890 from-idea-to-prod/xgboost/data-capture/from-idea-to-prod-endpoint-13-15-39-04/AllTraffic/2023/02/13/16/20-24-369-8f1b57e7-8215-4711-9889-c908d356f5fc.jsonl\n",
      "2023-02-13 21:04:40      48702 from-idea-to-prod/xgboost/data-capture/from-idea-to-prod-endpoint-13-15-39-04/AllTraffic/2023/02/13/21/03-35-139-5a322d84-4197-4e5e-86e2-8ec9b36f5fb7.jsonl\n",
      "2023-02-14 10:01:10      60690 from-idea-to-prod/xgboost/data-capture/from-idea-to-prod-endpoint-13-15-39-04/AllTraffic/2023/02/14/10/00-05-920-b3f34273-1268-422b-ab84-2a9a2161b20b.jsonl\n"
     ]
    }
   ],
   "source": [
    "!aws s3 ls {data_capture_s3_url} --recursive"
   ]
  },
  {
   "cell_type": "code",
   "execution_count": 112,
   "id": "4200659a-542c-4de6-8b23-ba98f2c81dfe",
   "metadata": {
    "tags": []
   },
   "outputs": [],
   "source": [
    "# !aws s3 rm {data_capture_s3_url} --recursive"
   ]
  },
  {
   "cell_type": "markdown",
   "id": "13b7477a-d418-48fb-83b1-f72830644d92",
   "metadata": {},
   "source": [
    "### Launch a manual monitoring job\n",
    "You can launch a monitoring job manually and don't wait until a configured data monitor schedule execution. You created an hourly schedule, so you need to wait until you cross the hour boundary to see some schedule executions.\n",
    "\n",
    "Since the Model Monitor uses a [built-in container](https://docs.aws.amazon.com/sagemaker/latest/dg/model-monitor-pre-built-container.html) and a SageMaker [processing job](https://docs.aws.amazon.com/sagemaker/latest/dg/processing-job.html) to run analysis of the captured data, you can manually configure and run a monitoring job. \n",
    "\n",
    "This [repository](https://github.com/aws-samples/reinvent2019-aim362-sagemaker-debugger-model-monitor/tree/master/02_deploy_and_monitor) contains an implementation of a helper function to manually run a monitoring job."
   ]
  },
  {
   "cell_type": "code",
   "execution_count": 113,
   "id": "0cd005eb-b66b-4650-a702-311549cb5b65",
   "metadata": {
    "tags": []
   },
   "outputs": [],
   "source": [
    "# !pygmentize ./utils/monitoring_utils.py"
   ]
  },
  {
   "cell_type": "markdown",
   "id": "b8f50e08-ab18-48e2-9241-ce73d4643c68",
   "metadata": {},
   "source": [
    "Get an S3 url for the latest captured data files:"
   ]
  },
  {
   "cell_type": "code",
   "execution_count": 264,
   "id": "4fdb2413-0dd4-499d-8076-23435b1e4a65",
   "metadata": {
    "tags": []
   },
   "outputs": [
    {
     "name": "stdout",
     "output_type": "stream",
     "text": [
      "Found 4 files in s3://sagemaker-us-east-1-906545278380/from-idea-to-prod/xgboost/data-capture\n",
      "Latest data capture S3 url: s3://sagemaker-us-east-1-906545278380/from-idea-to-prod/xgboost/data-capture/from-idea-to-prod-endpoint-13-15-39-04/AllTraffic/2023/02/14/10\n"
     ]
    }
   ],
   "source": [
    "latest_data_capture_s3_url = get_latest_data_capture_s3_url(data_capture_bucket, data_capture_prefix)"
   ]
  },
  {
   "cell_type": "code",
   "execution_count": 115,
   "id": "5a1e975f-83ea-4cf1-8883-71b2875a7432",
   "metadata": {
    "tags": []
   },
   "outputs": [
    {
     "name": "stdout",
     "output_type": "stream",
     "text": [
      "Data capture path: s3://sagemaker-us-east-1-906545278380/from-idea-to-prod/xgboost/data-capture/from-idea-to-prod-endpoint-13-15-39-04/AllTraffic/2023/02/13/16\n",
      "Data baseline statistics file: s3://sagemaker-us-east-1-906545278380/from-idea-to-prod/xgboost/baseline/results/statistics.json\n",
      "Data baseline constraints file: s3://sagemaker-us-east-1-906545278380/from-idea-to-prod/xgboost/baseline/results/constraints.json\n",
      "Data monitor report output path: s3://sagemaker-us-east-1-906545278380/from-idea-to-prod/xgboost/baseline/reports\n",
      "Record preprocessor script path: s3://sagemaker-us-east-1-906545278380/from-idea-to-prod/xgboost/code\n"
     ]
    }
   ],
   "source": [
    "print(f\"Data capture path: {latest_data_capture_s3_url}\")\n",
    "print(f\"Data baseline statistics file: {data_statistics_s3_url}\")\n",
    "print(f\"Data baseline constraints file: {data_constraints_s3_url}\")\n",
    "print(f\"Data monitor report output path: {data_mon_reports_s3_url}\")\n",
    "print(f\"Record preprocessor script path: {record_preprocessor_s3_url}\")"
   ]
  },
  {
   "cell_type": "markdown",
   "id": "f45d63e6-ec35-4568-a20f-6f64de9490cb",
   "metadata": {},
   "source": [
    "Run a monitoring job, it takes about 7 minutes:"
   ]
  },
  {
   "cell_type": "code",
   "execution_count": null,
   "id": "ceb8dbcd-61c9-4b7e-8d15-7c3efbd40601",
   "metadata": {
    "tags": []
   },
   "outputs": [
    {
     "name": "stderr",
     "output_type": "stream",
     "text": [
      "INFO:sagemaker:Creating processing-job with name sagemaker-model-monitor-analyzer-2023-02-13-16-08-44-980\n"
     ]
    },
    {
     "name": "stdout",
     "output_type": "stream",
     "text": [
      ".....................................................................!"
     ]
    }
   ],
   "source": [
    "from utils.monitoring_utils import run_model_monitor_job\n",
    "\n",
    "run_model_monitor_job(\n",
    "    region=region,\n",
    "    instance_type=\"ml.m5.xlarge\",\n",
    "    role=sm_role,\n",
    "    data_capture_path=latest_data_capture_s3_url,\n",
    "    statistics_path=data_statistics_s3_url,\n",
    "    constraints_path=data_constraints_s3_url,\n",
    "    reports_path=data_mon_reports_s3_url,\n",
    "    instance_count=1,\n",
    "    preprocessor_path=f\"{record_preprocessor_s3_url}/record_preprocessor.py\",\n",
    "    postprocessor_path=None,\n",
    "    publish_cloudwatch_metrics=\"Disabled\",\n",
    "    logs=False,\n",
    ")"
   ]
  },
  {
   "cell_type": "markdown",
   "id": "715c8ff4-e24d-49a9-a212-be635fbff216",
   "metadata": {},
   "source": [
    "### See the monitoring job output\n",
    "Let's check what reports the monitoring job generated. "
   ]
  },
  {
   "cell_type": "code",
   "execution_count": 117,
   "id": "30aaec02-b385-4c96-9db5-4454d9916db1",
   "metadata": {
    "tags": []
   },
   "outputs": [
    {
     "name": "stdout",
     "output_type": "stream",
     "text": [
      "Latest monitoring report S3 url: s3://sagemaker-us-east-1-906545278380/from-idea-to-prod/xgboost/baseline/reports/6\n"
     ]
    }
   ],
   "source": [
    "manual_monitoring_job_output_s3_url = get_latest_monitoring_report_s3_url(\"sagemaker-model-monitor-analyzer\")"
   ]
  },
  {
   "cell_type": "code",
   "execution_count": 118,
   "id": "dedfef20-9df8-4969-ab18-8606a325c28c",
   "metadata": {
    "tags": []
   },
   "outputs": [
    {
     "name": "stdout",
     "output_type": "stream",
     "text": [
      "2023-02-13 16:14:26         24 constraint_violations.json\n",
      "2023-02-13 16:14:24       9272 constraints.json\n",
      "2023-02-13 16:14:24     125280 statistics.json\n"
     ]
    }
   ],
   "source": [
    "!aws s3 ls {manual_monitoring_job_output_s3_url}/"
   ]
  },
  {
   "cell_type": "markdown",
   "id": "3770d68a-42a8-4f60-be4d-b424f52d16f0",
   "metadata": {},
   "source": [
    "Load the monitoring report and see if there are any violations:"
   ]
  },
  {
   "cell_type": "code",
   "execution_count": 277,
   "id": "223f61e2-a6bc-4c78-8724-a72367d12f15",
   "metadata": {
    "tags": []
   },
   "outputs": [
    {
     "name": "stdout",
     "output_type": "stream",
     "text": [
      "Load JSON from: sagemaker-us-east-1-906545278380/from-idea-to-prod/xgboost/baseline/reports/0/constraint_violations.json\n"
     ]
    }
   ],
   "source": [
    "violations = load_json_from_file(f\"{manual_monitoring_job_output_s3_url}/constraint_violations.json\")"
   ]
  },
  {
   "cell_type": "code",
   "execution_count": 278,
   "id": "a1c2f5b8-d1da-4eb8-9c7d-94d782c6ae11",
   "metadata": {
    "tags": []
   },
   "outputs": [
    {
     "data": {
      "text/html": [
       "<div>\n",
       "<style scoped>\n",
       "    .dataframe tbody tr th:only-of-type {\n",
       "        vertical-align: middle;\n",
       "    }\n",
       "\n",
       "    .dataframe tbody tr th {\n",
       "        vertical-align: top;\n",
       "    }\n",
       "\n",
       "    .dataframe thead th {\n",
       "        text-align: right;\n",
       "    }\n",
       "</style>\n",
       "<table border=\"1\" class=\"dataframe\">\n",
       "  <thead>\n",
       "    <tr style=\"text-align: right;\">\n",
       "      <th></th>\n",
       "      <th>feature_name</th>\n",
       "      <th>constraint_check_type</th>\n",
       "      <th>description</th>\n",
       "    </tr>\n",
       "  </thead>\n",
       "  <tbody>\n",
       "    <tr>\n",
       "      <th>0</th>\n",
       "      <td>_c41</td>\n",
       "      <td>data_type_check</td>\n",
       "      <td>Data type match requirement is not met. Expected data type: Integral, Expected match: 100.0%. Observed: Only 0.0% of data is Integral.</td>\n",
       "    </tr>\n",
       "    <tr>\n",
       "      <th>1</th>\n",
       "      <td>_c34</td>\n",
       "      <td>data_type_check</td>\n",
       "      <td>Data type match requirement is not met. Expected data type: Integral, Expected match: 100.0%. Observed: Only 0.0% of data is Integral.</td>\n",
       "    </tr>\n",
       "    <tr>\n",
       "      <th>2</th>\n",
       "      <td>_c17</td>\n",
       "      <td>data_type_check</td>\n",
       "      <td>Data type match requirement is not met. Expected data type: Integral, Expected match: 100.0%. Observed: Only 0.0% of data is Integral.</td>\n",
       "    </tr>\n",
       "    <tr>\n",
       "      <th>3</th>\n",
       "      <td>_c51</td>\n",
       "      <td>data_type_check</td>\n",
       "      <td>Data type match requirement is not met. Expected data type: Integral, Expected match: 100.0%. Observed: Only 0.0% of data is Integral.</td>\n",
       "    </tr>\n",
       "    <tr>\n",
       "      <th>4</th>\n",
       "      <td>_c13</td>\n",
       "      <td>data_type_check</td>\n",
       "      <td>Data type match requirement is not met. Expected data type: Integral, Expected match: 100.0%. Observed: Only 0.0% of data is Integral.</td>\n",
       "    </tr>\n",
       "    <tr>\n",
       "      <th>5</th>\n",
       "      <td>_c37</td>\n",
       "      <td>data_type_check</td>\n",
       "      <td>Data type match requirement is not met. Expected data type: Integral, Expected match: 100.0%. Observed: Only 0.0% of data is Integral.</td>\n",
       "    </tr>\n",
       "    <tr>\n",
       "      <th>6</th>\n",
       "      <td>_c38</td>\n",
       "      <td>data_type_check</td>\n",
       "      <td>Data type match requirement is not met. Expected data type: Integral, Expected match: 100.0%. Observed: Only 0.0% of data is Integral.</td>\n",
       "    </tr>\n",
       "    <tr>\n",
       "      <th>7</th>\n",
       "      <td>_c5</td>\n",
       "      <td>data_type_check</td>\n",
       "      <td>Data type match requirement is not met. Expected data type: Integral, Expected match: 100.0%. Observed: Only 0.0% of data is Integral.</td>\n",
       "    </tr>\n",
       "    <tr>\n",
       "      <th>8</th>\n",
       "      <td>_c27</td>\n",
       "      <td>data_type_check</td>\n",
       "      <td>Data type match requirement is not met. Expected data type: Integral, Expected match: 100.0%. Observed: Only 0.0% of data is Integral.</td>\n",
       "    </tr>\n",
       "    <tr>\n",
       "      <th>9</th>\n",
       "      <td>_c23</td>\n",
       "      <td>data_type_check</td>\n",
       "      <td>Data type match requirement is not met. Expected data type: Integral, Expected match: 100.0%. Observed: Only 0.0% of data is Integral.</td>\n",
       "    </tr>\n",
       "    <tr>\n",
       "      <th>10</th>\n",
       "      <td>_c1</td>\n",
       "      <td>data_type_check</td>\n",
       "      <td>Data type match requirement is not met. Expected data type: Integral, Expected match: 100.0%. Observed: Only 0.0% of data is Integral.</td>\n",
       "    </tr>\n",
       "    <tr>\n",
       "      <th>11</th>\n",
       "      <td>_c48</td>\n",
       "      <td>data_type_check</td>\n",
       "      <td>Data type match requirement is not met. Expected data type: Integral, Expected match: 100.0%. Observed: Only 0.0% of data is Integral.</td>\n",
       "    </tr>\n",
       "    <tr>\n",
       "      <th>12</th>\n",
       "      <td>_c50</td>\n",
       "      <td>data_type_check</td>\n",
       "      <td>Data type match requirement is not met. Expected data type: Integral, Expected match: 100.0%. Observed: Only 0.0% of data is Integral.</td>\n",
       "    </tr>\n",
       "    <tr>\n",
       "      <th>13</th>\n",
       "      <td>_c18</td>\n",
       "      <td>data_type_check</td>\n",
       "      <td>Data type match requirement is not met. Expected data type: Integral, Expected match: 100.0%. Observed: Only 0.0% of data is Integral.</td>\n",
       "    </tr>\n",
       "    <tr>\n",
       "      <th>14</th>\n",
       "      <td>_c40</td>\n",
       "      <td>data_type_check</td>\n",
       "      <td>Data type match requirement is not met. Expected data type: Integral, Expected match: 100.0%. Observed: Only 0.0% of data is Integral.</td>\n",
       "    </tr>\n",
       "    <tr>\n",
       "      <th>15</th>\n",
       "      <td>_c28</td>\n",
       "      <td>data_type_check</td>\n",
       "      <td>Data type match requirement is not met. Expected data type: Integral, Expected match: 100.0%. Observed: Only 0.0% of data is Integral.</td>\n",
       "    </tr>\n",
       "    <tr>\n",
       "      <th>16</th>\n",
       "      <td>_c12</td>\n",
       "      <td>data_type_check</td>\n",
       "      <td>Data type match requirement is not met. Expected data type: Integral, Expected match: 100.0%. Observed: Only 0.0% of data is Integral.</td>\n",
       "    </tr>\n",
       "    <tr>\n",
       "      <th>17</th>\n",
       "      <td>_c4</td>\n",
       "      <td>data_type_check</td>\n",
       "      <td>Data type match requirement is not met. Expected data type: Integral, Expected match: 100.0%. Observed: Only 0.0% of data is Integral.</td>\n",
       "    </tr>\n",
       "    <tr>\n",
       "      <th>18</th>\n",
       "      <td>_c31</td>\n",
       "      <td>data_type_check</td>\n",
       "      <td>Data type match requirement is not met. Expected data type: Integral, Expected match: 100.0%. Observed: Only 0.0% of data is Integral.</td>\n",
       "    </tr>\n",
       "    <tr>\n",
       "      <th>19</th>\n",
       "      <td>_c29</td>\n",
       "      <td>data_type_check</td>\n",
       "      <td>Data type match requirement is not met. Expected data type: Integral, Expected match: 100.0%. Observed: Only 0.0% of data is Integral.</td>\n",
       "    </tr>\n",
       "    <tr>\n",
       "      <th>20</th>\n",
       "      <td>_c57</td>\n",
       "      <td>data_type_check</td>\n",
       "      <td>Data type match requirement is not met. Expected data type: Integral, Expected match: 100.0%. Observed: Only 0.0% of data is Integral.</td>\n",
       "    </tr>\n",
       "    <tr>\n",
       "      <th>21</th>\n",
       "      <td>_c21</td>\n",
       "      <td>data_type_check</td>\n",
       "      <td>Data type match requirement is not met. Expected data type: Integral, Expected match: 100.0%. Observed: Only 0.0% of data is Integral.</td>\n",
       "    </tr>\n",
       "    <tr>\n",
       "      <th>22</th>\n",
       "      <td>_c42</td>\n",
       "      <td>data_type_check</td>\n",
       "      <td>Data type match requirement is not met. Expected data type: Integral, Expected match: 100.0%. Observed: Only 0.0% of data is Integral.</td>\n",
       "    </tr>\n",
       "    <tr>\n",
       "      <th>23</th>\n",
       "      <td>_c30</td>\n",
       "      <td>data_type_check</td>\n",
       "      <td>Data type match requirement is not met. Expected data type: Integral, Expected match: 100.0%. Observed: Only 0.0% of data is Integral.</td>\n",
       "    </tr>\n",
       "    <tr>\n",
       "      <th>24</th>\n",
       "      <td>_c10</td>\n",
       "      <td>data_type_check</td>\n",
       "      <td>Data type match requirement is not met. Expected data type: Integral, Expected match: 100.0%. Observed: Only 0.0% of data is Integral.</td>\n",
       "    </tr>\n",
       "    <tr>\n",
       "      <th>25</th>\n",
       "      <td>_c2</td>\n",
       "      <td>data_type_check</td>\n",
       "      <td>Data type match requirement is not met. Expected data type: Integral, Expected match: 100.0%. Observed: Only 0.0% of data is Integral.</td>\n",
       "    </tr>\n",
       "    <tr>\n",
       "      <th>26</th>\n",
       "      <td>_c49</td>\n",
       "      <td>data_type_check</td>\n",
       "      <td>Data type match requirement is not met. Expected data type: Integral, Expected match: 100.0%. Observed: Only 0.0% of data is Integral.</td>\n",
       "    </tr>\n",
       "    <tr>\n",
       "      <th>27</th>\n",
       "      <td>_c22</td>\n",
       "      <td>data_type_check</td>\n",
       "      <td>Data type match requirement is not met. Expected data type: Integral, Expected match: 100.0%. Observed: Only 0.0% of data is Integral.</td>\n",
       "    </tr>\n",
       "    <tr>\n",
       "      <th>28</th>\n",
       "      <td>_c24</td>\n",
       "      <td>data_type_check</td>\n",
       "      <td>Data type match requirement is not met. Expected data type: Integral, Expected match: 100.0%. Observed: Only 0.0% of data is Integral.</td>\n",
       "    </tr>\n",
       "    <tr>\n",
       "      <th>29</th>\n",
       "      <td>_c35</td>\n",
       "      <td>data_type_check</td>\n",
       "      <td>Data type match requirement is not met. Expected data type: Integral, Expected match: 100.0%. Observed: Only 0.0% of data is Integral.</td>\n",
       "    </tr>\n",
       "    <tr>\n",
       "      <th>30</th>\n",
       "      <td>_c32</td>\n",
       "      <td>data_type_check</td>\n",
       "      <td>Data type match requirement is not met. Expected data type: Integral, Expected match: 100.0%. Observed: Only 0.0% of data is Integral.</td>\n",
       "    </tr>\n",
       "    <tr>\n",
       "      <th>31</th>\n",
       "      <td>_c16</td>\n",
       "      <td>data_type_check</td>\n",
       "      <td>Data type match requirement is not met. Expected data type: Integral, Expected match: 100.0%. Observed: Only 0.0% of data is Integral.</td>\n",
       "    </tr>\n",
       "    <tr>\n",
       "      <th>32</th>\n",
       "      <td>_c54</td>\n",
       "      <td>data_type_check</td>\n",
       "      <td>Data type match requirement is not met. Expected data type: Integral, Expected match: 100.0%. Observed: Only 0.0% of data is Integral.</td>\n",
       "    </tr>\n",
       "    <tr>\n",
       "      <th>33</th>\n",
       "      <td>_c20</td>\n",
       "      <td>data_type_check</td>\n",
       "      <td>Data type match requirement is not met. Expected data type: Integral, Expected match: 100.0%. Observed: Only 0.0% of data is Integral.</td>\n",
       "    </tr>\n",
       "    <tr>\n",
       "      <th>34</th>\n",
       "      <td>_c46</td>\n",
       "      <td>data_type_check</td>\n",
       "      <td>Data type match requirement is not met. Expected data type: Integral, Expected match: 100.0%. Observed: Only 0.0% of data is Integral.</td>\n",
       "    </tr>\n",
       "    <tr>\n",
       "      <th>35</th>\n",
       "      <td>_c0</td>\n",
       "      <td>data_type_check</td>\n",
       "      <td>Data type match requirement is not met. Expected data type: Integral, Expected match: 100.0%. Observed: Only 0.0% of data is Integral.</td>\n",
       "    </tr>\n",
       "    <tr>\n",
       "      <th>36</th>\n",
       "      <td>_c47</td>\n",
       "      <td>data_type_check</td>\n",
       "      <td>Data type match requirement is not met. Expected data type: Integral, Expected match: 100.0%. Observed: Only 0.0% of data is Integral.</td>\n",
       "    </tr>\n",
       "    <tr>\n",
       "      <th>37</th>\n",
       "      <td>_c33</td>\n",
       "      <td>data_type_check</td>\n",
       "      <td>Data type match requirement is not met. Expected data type: Integral, Expected match: 100.0%. Observed: Only 0.0% of data is Integral.</td>\n",
       "    </tr>\n",
       "    <tr>\n",
       "      <th>38</th>\n",
       "      <td>_c15</td>\n",
       "      <td>data_type_check</td>\n",
       "      <td>Data type match requirement is not met. Expected data type: Integral, Expected match: 100.0%. Observed: Only 0.0% of data is Integral.</td>\n",
       "    </tr>\n",
       "    <tr>\n",
       "      <th>39</th>\n",
       "      <td>_c52</td>\n",
       "      <td>data_type_check</td>\n",
       "      <td>Data type match requirement is not met. Expected data type: Integral, Expected match: 100.0%. Observed: Only 0.0% of data is Integral.</td>\n",
       "    </tr>\n",
       "    <tr>\n",
       "      <th>40</th>\n",
       "      <td>_c7</td>\n",
       "      <td>data_type_check</td>\n",
       "      <td>Data type match requirement is not met. Expected data type: Integral, Expected match: 100.0%. Observed: Only 0.0% of data is Integral.</td>\n",
       "    </tr>\n",
       "    <tr>\n",
       "      <th>41</th>\n",
       "      <td>_c53</td>\n",
       "      <td>data_type_check</td>\n",
       "      <td>Data type match requirement is not met. Expected data type: Integral, Expected match: 100.0%. Observed: Only 0.0% of data is Integral.</td>\n",
       "    </tr>\n",
       "    <tr>\n",
       "      <th>42</th>\n",
       "      <td>_c11</td>\n",
       "      <td>data_type_check</td>\n",
       "      <td>Data type match requirement is not met. Expected data type: Integral, Expected match: 100.0%. Observed: Only 0.0% of data is Integral.</td>\n",
       "    </tr>\n",
       "    <tr>\n",
       "      <th>43</th>\n",
       "      <td>_c25</td>\n",
       "      <td>data_type_check</td>\n",
       "      <td>Data type match requirement is not met. Expected data type: Integral, Expected match: 100.0%. Observed: Only 0.0% of data is Integral.</td>\n",
       "    </tr>\n",
       "    <tr>\n",
       "      <th>44</th>\n",
       "      <td>_c43</td>\n",
       "      <td>data_type_check</td>\n",
       "      <td>Data type match requirement is not met. Expected data type: Integral, Expected match: 100.0%. Observed: Only 0.0% of data is Integral.</td>\n",
       "    </tr>\n",
       "    <tr>\n",
       "      <th>45</th>\n",
       "      <td>_c44</td>\n",
       "      <td>data_type_check</td>\n",
       "      <td>Data type match requirement is not met. Expected data type: Integral, Expected match: 100.0%. Observed: Only 0.0% of data is Integral.</td>\n",
       "    </tr>\n",
       "    <tr>\n",
       "      <th>46</th>\n",
       "      <td>_c55</td>\n",
       "      <td>data_type_check</td>\n",
       "      <td>Data type match requirement is not met. Expected data type: Integral, Expected match: 100.0%. Observed: Only 0.0% of data is Integral.</td>\n",
       "    </tr>\n",
       "    <tr>\n",
       "      <th>47</th>\n",
       "      <td>_c26</td>\n",
       "      <td>data_type_check</td>\n",
       "      <td>Data type match requirement is not met. Expected data type: Integral, Expected match: 100.0%. Observed: Only 0.0% of data is Integral.</td>\n",
       "    </tr>\n",
       "    <tr>\n",
       "      <th>48</th>\n",
       "      <td>_c45</td>\n",
       "      <td>data_type_check</td>\n",
       "      <td>Data type match requirement is not met. Expected data type: Integral, Expected match: 100.0%. Observed: Only 0.0% of data is Integral.</td>\n",
       "    </tr>\n",
       "    <tr>\n",
       "      <th>49</th>\n",
       "      <td>_c39</td>\n",
       "      <td>data_type_check</td>\n",
       "      <td>Data type match requirement is not met. Expected data type: Integral, Expected match: 100.0%. Observed: Only 0.0% of data is Integral.</td>\n",
       "    </tr>\n",
       "    <tr>\n",
       "      <th>50</th>\n",
       "      <td>_c58</td>\n",
       "      <td>data_type_check</td>\n",
       "      <td>Data type match requirement is not met. Expected data type: Integral, Expected match: 100.0%. Observed: Only 0.0% of data is Integral.</td>\n",
       "    </tr>\n",
       "    <tr>\n",
       "      <th>51</th>\n",
       "      <td>_c14</td>\n",
       "      <td>data_type_check</td>\n",
       "      <td>Data type match requirement is not met. Expected data type: Integral, Expected match: 100.0%. Observed: Only 0.0% of data is Integral.</td>\n",
       "    </tr>\n",
       "    <tr>\n",
       "      <th>52</th>\n",
       "      <td>_c6</td>\n",
       "      <td>data_type_check</td>\n",
       "      <td>Data type match requirement is not met. Expected data type: Integral, Expected match: 100.0%. Observed: Only 0.0% of data is Integral.</td>\n",
       "    </tr>\n",
       "    <tr>\n",
       "      <th>53</th>\n",
       "      <td>_c56</td>\n",
       "      <td>data_type_check</td>\n",
       "      <td>Data type match requirement is not met. Expected data type: Integral, Expected match: 100.0%. Observed: Only 0.0% of data is Integral.</td>\n",
       "    </tr>\n",
       "    <tr>\n",
       "      <th>54</th>\n",
       "      <td>_c8</td>\n",
       "      <td>data_type_check</td>\n",
       "      <td>Data type match requirement is not met. Expected data type: Integral, Expected match: 100.0%. Observed: Only 0.0% of data is Integral.</td>\n",
       "    </tr>\n",
       "    <tr>\n",
       "      <th>55</th>\n",
       "      <td>_c36</td>\n",
       "      <td>data_type_check</td>\n",
       "      <td>Data type match requirement is not met. Expected data type: Integral, Expected match: 100.0%. Observed: Only 0.0% of data is Integral.</td>\n",
       "    </tr>\n",
       "    <tr>\n",
       "      <th>56</th>\n",
       "      <td>_c3</td>\n",
       "      <td>data_type_check</td>\n",
       "      <td>Data type match requirement is not met. Expected data type: Integral, Expected match: 100.0%. Observed: Only 0.0% of data is Integral.</td>\n",
       "    </tr>\n",
       "    <tr>\n",
       "      <th>57</th>\n",
       "      <td>_c19</td>\n",
       "      <td>data_type_check</td>\n",
       "      <td>Data type match requirement is not met. Expected data type: Integral, Expected match: 100.0%. Observed: Only 0.0% of data is Integral.</td>\n",
       "    </tr>\n",
       "    <tr>\n",
       "      <th>58</th>\n",
       "      <td>_c9</td>\n",
       "      <td>data_type_check</td>\n",
       "      <td>Data type match requirement is not met. Expected data type: Integral, Expected match: 100.0%. Observed: Only 0.0% of data is Integral.</td>\n",
       "    </tr>\n",
       "  </tbody>\n",
       "</table>\n",
       "</div>"
      ],
      "text/plain": [
       "   feature_name constraint_check_type  \\\n",
       "0          _c41       data_type_check   \n",
       "1          _c34       data_type_check   \n",
       "2          _c17       data_type_check   \n",
       "3          _c51       data_type_check   \n",
       "4          _c13       data_type_check   \n",
       "5          _c37       data_type_check   \n",
       "6          _c38       data_type_check   \n",
       "7           _c5       data_type_check   \n",
       "8          _c27       data_type_check   \n",
       "9          _c23       data_type_check   \n",
       "10          _c1       data_type_check   \n",
       "11         _c48       data_type_check   \n",
       "12         _c50       data_type_check   \n",
       "13         _c18       data_type_check   \n",
       "14         _c40       data_type_check   \n",
       "15         _c28       data_type_check   \n",
       "16         _c12       data_type_check   \n",
       "17          _c4       data_type_check   \n",
       "18         _c31       data_type_check   \n",
       "19         _c29       data_type_check   \n",
       "20         _c57       data_type_check   \n",
       "21         _c21       data_type_check   \n",
       "22         _c42       data_type_check   \n",
       "23         _c30       data_type_check   \n",
       "24         _c10       data_type_check   \n",
       "25          _c2       data_type_check   \n",
       "26         _c49       data_type_check   \n",
       "27         _c22       data_type_check   \n",
       "28         _c24       data_type_check   \n",
       "29         _c35       data_type_check   \n",
       "30         _c32       data_type_check   \n",
       "31         _c16       data_type_check   \n",
       "32         _c54       data_type_check   \n",
       "33         _c20       data_type_check   \n",
       "34         _c46       data_type_check   \n",
       "35          _c0       data_type_check   \n",
       "36         _c47       data_type_check   \n",
       "37         _c33       data_type_check   \n",
       "38         _c15       data_type_check   \n",
       "39         _c52       data_type_check   \n",
       "40          _c7       data_type_check   \n",
       "41         _c53       data_type_check   \n",
       "42         _c11       data_type_check   \n",
       "43         _c25       data_type_check   \n",
       "44         _c43       data_type_check   \n",
       "45         _c44       data_type_check   \n",
       "46         _c55       data_type_check   \n",
       "47         _c26       data_type_check   \n",
       "48         _c45       data_type_check   \n",
       "49         _c39       data_type_check   \n",
       "50         _c58       data_type_check   \n",
       "51         _c14       data_type_check   \n",
       "52          _c6       data_type_check   \n",
       "53         _c56       data_type_check   \n",
       "54          _c8       data_type_check   \n",
       "55         _c36       data_type_check   \n",
       "56          _c3       data_type_check   \n",
       "57         _c19       data_type_check   \n",
       "58          _c9       data_type_check   \n",
       "\n",
       "                                                                                                                               description  \n",
       "0   Data type match requirement is not met. Expected data type: Integral, Expected match: 100.0%. Observed: Only 0.0% of data is Integral.  \n",
       "1   Data type match requirement is not met. Expected data type: Integral, Expected match: 100.0%. Observed: Only 0.0% of data is Integral.  \n",
       "2   Data type match requirement is not met. Expected data type: Integral, Expected match: 100.0%. Observed: Only 0.0% of data is Integral.  \n",
       "3   Data type match requirement is not met. Expected data type: Integral, Expected match: 100.0%. Observed: Only 0.0% of data is Integral.  \n",
       "4   Data type match requirement is not met. Expected data type: Integral, Expected match: 100.0%. Observed: Only 0.0% of data is Integral.  \n",
       "5   Data type match requirement is not met. Expected data type: Integral, Expected match: 100.0%. Observed: Only 0.0% of data is Integral.  \n",
       "6   Data type match requirement is not met. Expected data type: Integral, Expected match: 100.0%. Observed: Only 0.0% of data is Integral.  \n",
       "7   Data type match requirement is not met. Expected data type: Integral, Expected match: 100.0%. Observed: Only 0.0% of data is Integral.  \n",
       "8   Data type match requirement is not met. Expected data type: Integral, Expected match: 100.0%. Observed: Only 0.0% of data is Integral.  \n",
       "9   Data type match requirement is not met. Expected data type: Integral, Expected match: 100.0%. Observed: Only 0.0% of data is Integral.  \n",
       "10  Data type match requirement is not met. Expected data type: Integral, Expected match: 100.0%. Observed: Only 0.0% of data is Integral.  \n",
       "11  Data type match requirement is not met. Expected data type: Integral, Expected match: 100.0%. Observed: Only 0.0% of data is Integral.  \n",
       "12  Data type match requirement is not met. Expected data type: Integral, Expected match: 100.0%. Observed: Only 0.0% of data is Integral.  \n",
       "13  Data type match requirement is not met. Expected data type: Integral, Expected match: 100.0%. Observed: Only 0.0% of data is Integral.  \n",
       "14  Data type match requirement is not met. Expected data type: Integral, Expected match: 100.0%. Observed: Only 0.0% of data is Integral.  \n",
       "15  Data type match requirement is not met. Expected data type: Integral, Expected match: 100.0%. Observed: Only 0.0% of data is Integral.  \n",
       "16  Data type match requirement is not met. Expected data type: Integral, Expected match: 100.0%. Observed: Only 0.0% of data is Integral.  \n",
       "17  Data type match requirement is not met. Expected data type: Integral, Expected match: 100.0%. Observed: Only 0.0% of data is Integral.  \n",
       "18  Data type match requirement is not met. Expected data type: Integral, Expected match: 100.0%. Observed: Only 0.0% of data is Integral.  \n",
       "19  Data type match requirement is not met. Expected data type: Integral, Expected match: 100.0%. Observed: Only 0.0% of data is Integral.  \n",
       "20  Data type match requirement is not met. Expected data type: Integral, Expected match: 100.0%. Observed: Only 0.0% of data is Integral.  \n",
       "21  Data type match requirement is not met. Expected data type: Integral, Expected match: 100.0%. Observed: Only 0.0% of data is Integral.  \n",
       "22  Data type match requirement is not met. Expected data type: Integral, Expected match: 100.0%. Observed: Only 0.0% of data is Integral.  \n",
       "23  Data type match requirement is not met. Expected data type: Integral, Expected match: 100.0%. Observed: Only 0.0% of data is Integral.  \n",
       "24  Data type match requirement is not met. Expected data type: Integral, Expected match: 100.0%. Observed: Only 0.0% of data is Integral.  \n",
       "25  Data type match requirement is not met. Expected data type: Integral, Expected match: 100.0%. Observed: Only 0.0% of data is Integral.  \n",
       "26  Data type match requirement is not met. Expected data type: Integral, Expected match: 100.0%. Observed: Only 0.0% of data is Integral.  \n",
       "27  Data type match requirement is not met. Expected data type: Integral, Expected match: 100.0%. Observed: Only 0.0% of data is Integral.  \n",
       "28  Data type match requirement is not met. Expected data type: Integral, Expected match: 100.0%. Observed: Only 0.0% of data is Integral.  \n",
       "29  Data type match requirement is not met. Expected data type: Integral, Expected match: 100.0%. Observed: Only 0.0% of data is Integral.  \n",
       "30  Data type match requirement is not met. Expected data type: Integral, Expected match: 100.0%. Observed: Only 0.0% of data is Integral.  \n",
       "31  Data type match requirement is not met. Expected data type: Integral, Expected match: 100.0%. Observed: Only 0.0% of data is Integral.  \n",
       "32  Data type match requirement is not met. Expected data type: Integral, Expected match: 100.0%. Observed: Only 0.0% of data is Integral.  \n",
       "33  Data type match requirement is not met. Expected data type: Integral, Expected match: 100.0%. Observed: Only 0.0% of data is Integral.  \n",
       "34  Data type match requirement is not met. Expected data type: Integral, Expected match: 100.0%. Observed: Only 0.0% of data is Integral.  \n",
       "35  Data type match requirement is not met. Expected data type: Integral, Expected match: 100.0%. Observed: Only 0.0% of data is Integral.  \n",
       "36  Data type match requirement is not met. Expected data type: Integral, Expected match: 100.0%. Observed: Only 0.0% of data is Integral.  \n",
       "37  Data type match requirement is not met. Expected data type: Integral, Expected match: 100.0%. Observed: Only 0.0% of data is Integral.  \n",
       "38  Data type match requirement is not met. Expected data type: Integral, Expected match: 100.0%. Observed: Only 0.0% of data is Integral.  \n",
       "39  Data type match requirement is not met. Expected data type: Integral, Expected match: 100.0%. Observed: Only 0.0% of data is Integral.  \n",
       "40  Data type match requirement is not met. Expected data type: Integral, Expected match: 100.0%. Observed: Only 0.0% of data is Integral.  \n",
       "41  Data type match requirement is not met. Expected data type: Integral, Expected match: 100.0%. Observed: Only 0.0% of data is Integral.  \n",
       "42  Data type match requirement is not met. Expected data type: Integral, Expected match: 100.0%. Observed: Only 0.0% of data is Integral.  \n",
       "43  Data type match requirement is not met. Expected data type: Integral, Expected match: 100.0%. Observed: Only 0.0% of data is Integral.  \n",
       "44  Data type match requirement is not met. Expected data type: Integral, Expected match: 100.0%. Observed: Only 0.0% of data is Integral.  \n",
       "45  Data type match requirement is not met. Expected data type: Integral, Expected match: 100.0%. Observed: Only 0.0% of data is Integral.  \n",
       "46  Data type match requirement is not met. Expected data type: Integral, Expected match: 100.0%. Observed: Only 0.0% of data is Integral.  \n",
       "47  Data type match requirement is not met. Expected data type: Integral, Expected match: 100.0%. Observed: Only 0.0% of data is Integral.  \n",
       "48  Data type match requirement is not met. Expected data type: Integral, Expected match: 100.0%. Observed: Only 0.0% of data is Integral.  \n",
       "49  Data type match requirement is not met. Expected data type: Integral, Expected match: 100.0%. Observed: Only 0.0% of data is Integral.  \n",
       "50  Data type match requirement is not met. Expected data type: Integral, Expected match: 100.0%. Observed: Only 0.0% of data is Integral.  \n",
       "51  Data type match requirement is not met. Expected data type: Integral, Expected match: 100.0%. Observed: Only 0.0% of data is Integral.  \n",
       "52  Data type match requirement is not met. Expected data type: Integral, Expected match: 100.0%. Observed: Only 0.0% of data is Integral.  \n",
       "53  Data type match requirement is not met. Expected data type: Integral, Expected match: 100.0%. Observed: Only 0.0% of data is Integral.  \n",
       "54  Data type match requirement is not met. Expected data type: Integral, Expected match: 100.0%. Observed: Only 0.0% of data is Integral.  \n",
       "55  Data type match requirement is not met. Expected data type: Integral, Expected match: 100.0%. Observed: Only 0.0% of data is Integral.  \n",
       "56  Data type match requirement is not met. Expected data type: Integral, Expected match: 100.0%. Observed: Only 0.0% of data is Integral.  \n",
       "57  Data type match requirement is not met. Expected data type: Integral, Expected match: 100.0%. Observed: Only 0.0% of data is Integral.  \n",
       "58  Data type match requirement is not met. Expected data type: Integral, Expected match: 100.0%. Observed: Only 0.0% of data is Integral.  "
      ]
     },
     "execution_count": 278,
     "metadata": {},
     "output_type": "execute_result"
    }
   ],
   "source": [
    "pd.json_normalize(violations[\"violations\"])"
   ]
  },
  {
   "cell_type": "markdown",
   "id": "3c825cba-ca1e-4b68-8bdd-c262138a2674",
   "metadata": {},
   "source": [
    "You can also copy the constraint violations report to the Studio EFS and print the content of the file:"
   ]
  },
  {
   "cell_type": "code",
   "execution_count": 175,
   "id": "81603aa4-5742-4c04-b1a3-c48060885520",
   "metadata": {
    "tags": []
   },
   "outputs": [
    {
     "name": "stdout",
     "output_type": "stream",
     "text": [
      "download: s3://sagemaker-us-east-1-906545278380/from-idea-to-prod/xgboost/baseline/reports/6/constraint_violations.json to tmp/constraint_violations.json\n"
     ]
    }
   ],
   "source": [
    "!aws s3 cp {manual_monitoring_job_output_s3_url}/constraint_violations.json ./tmp/"
   ]
  },
  {
   "cell_type": "code",
   "execution_count": 176,
   "id": "f505dfb5-d64a-4066-bb02-dbba1b79e839",
   "metadata": {
    "tags": []
   },
   "outputs": [
    {
     "name": "stdout",
     "output_type": "stream",
     "text": [
      "{\n",
      "  \"violations\" : [ ]\n",
      "}"
     ]
    }
   ],
   "source": [
    "!head ./tmp/constraint_violations.json"
   ]
  },
  {
   "cell_type": "markdown",
   "id": "a1a445bd-39a9-489d-9911-e9cfaefb1aa6",
   "metadata": {},
   "source": [
    "Now load the newly calculated statistics and constratins based on the captured dataset."
   ]
  },
  {
   "cell_type": "code",
   "execution_count": 123,
   "id": "266d95b7-8c3b-4bdf-a820-77d884c43c50",
   "metadata": {
    "tags": []
   },
   "outputs": [
    {
     "name": "stdout",
     "output_type": "stream",
     "text": [
      "Load JSON from: sagemaker-us-east-1-906545278380/from-idea-to-prod/xgboost/baseline/reports/6/statistics.json\n",
      "Load JSON from: sagemaker-us-east-1-906545278380/from-idea-to-prod/xgboost/baseline/reports/6/constraints.json\n",
      "Records processed: 100\n"
     ]
    }
   ],
   "source": [
    "statistics = load_json_from_file(f\"{data_statistics_s3_url}\")\n",
    "constraints = load_json_from_file(f\"{data_constraints_s3_url}\")\n",
    "\n",
    "print(f\"Records processed: {statistics['dataset']['item_count']}\")"
   ]
  },
  {
   "cell_type": "code",
   "execution_count": 125,
   "id": "f572e5ac-3519-48b9-b4c9-e611c8e71d5d",
   "metadata": {
    "tags": []
   },
   "outputs": [
    {
     "data": {
      "text/html": [
       "<div>\n",
       "<style scoped>\n",
       "    .dataframe tbody tr th:only-of-type {\n",
       "        vertical-align: middle;\n",
       "    }\n",
       "\n",
       "    .dataframe tbody tr th {\n",
       "        vertical-align: top;\n",
       "    }\n",
       "\n",
       "    .dataframe thead th {\n",
       "        text-align: right;\n",
       "    }\n",
       "</style>\n",
       "<table border=\"1\" class=\"dataframe\">\n",
       "  <thead>\n",
       "    <tr style=\"text-align: right;\">\n",
       "      <th></th>\n",
       "      <th>name</th>\n",
       "      <th>inferred_type</th>\n",
       "      <th>numerical_statistics.common.num_present</th>\n",
       "      <th>numerical_statistics.common.num_missing</th>\n",
       "      <th>numerical_statistics.mean</th>\n",
       "      <th>numerical_statistics.sum</th>\n",
       "      <th>numerical_statistics.std_dev</th>\n",
       "      <th>numerical_statistics.min</th>\n",
       "      <th>numerical_statistics.max</th>\n",
       "      <th>numerical_statistics.distribution.kll.buckets</th>\n",
       "      <th>numerical_statistics.distribution.kll.sketch.parameters.c</th>\n",
       "      <th>numerical_statistics.distribution.kll.sketch.parameters.k</th>\n",
       "      <th>numerical_statistics.distribution.kll.sketch.data</th>\n",
       "    </tr>\n",
       "  </thead>\n",
       "  <tbody>\n",
       "    <tr>\n",
       "      <th>0</th>\n",
       "      <td>_c0</td>\n",
       "      <td>Integral</td>\n",
       "      <td>100</td>\n",
       "      <td>0</td>\n",
       "      <td>39.80</td>\n",
       "      <td>3980.0</td>\n",
       "      <td>11.027239</td>\n",
       "      <td>24.0</td>\n",
       "      <td>74.0</td>\n",
       "      <td>[{'lower_bound': 24.0, 'upper_bound': 29.0, 'count': 13.0}, {'lower_bound': 29.0, 'upper_bound': 34.0, 'count': 21.0}, {'lower_bound': 34.0, 'upper_bound': 39.0, 'count': 20.0}, {'lower_bound': 39.0, 'upper_bound': 44.0, 'count': 16.0}, {'lower_bound': 44.0, 'upper_bound': 49.0, 'count': 10.0}, {'lower_bound': 49.0, 'upper_bound': 54.0, 'count': 5.0}, {'lower_bound': 54.0, 'upper_bound': 59.0, 'count': 10.0}, {'lower_bound': 59.0, 'upper_bound': 64.0, 'count': 2.0}, {'lower_bound': 64.0, 'upper_bound': 69.0, 'count': 0.0}, {'lower_bound': 69.0, 'upper_bound': 74.0, 'count': 3.0}]</td>\n",
       "      <td>0.64</td>\n",
       "      <td>2048.0</td>\n",
       "      <td>[[37.0, 40.0, 27.0, 35.0, 24.0, 46.0, 47.0, 25.0, 34.0, 74.0, 37.0, 30.0, 60.0, 30.0, 41.0, 59.0, 25.0, 31.0, 27.0, 31.0, 26.0, 58.0, 44.0, 31.0, 43.0, 42.0, 31.0, 39.0, 26.0, 38.0, 43.0, 39.0, 49.0, 55.0, 44.0, 43.0, 57.0, 37.0, 47.0, 32.0, 36.0, 48.0, 43.0, 29.0, 30.0, 55.0, 40.0, 31.0, 37.0, 31.0, 51.0, 34.0, 71.0, 49.0, 57.0, 42.0, 51.0, 38.0, 26.0, 29.0, 43.0, 32.0, 33.0, 33.0, 38.0, 41.0, 51.0, 40.0, 57.0, 30.0, 32.0, 32.0, 58.0, 38.0, 32.0, 58.0, 48.0, 24.0, 35.0, 47.0, 33.0, 34.0, 28.0, 25.0, 39.0, 34.0, 35.0, 69.0, 41.0, 28.0, 29.0, 34.0, 47.0, 35.0, 48.0, 35.0, 37.0, 26.0, 55.0, 54.0]]</td>\n",
       "    </tr>\n",
       "    <tr>\n",
       "      <th>1</th>\n",
       "      <td>_c1</td>\n",
       "      <td>Integral</td>\n",
       "      <td>100</td>\n",
       "      <td>0</td>\n",
       "      <td>2.62</td>\n",
       "      <td>262.0</td>\n",
       "      <td>2.777697</td>\n",
       "      <td>1.0</td>\n",
       "      <td>22.0</td>\n",
       "      <td>[{'lower_bound': 1.0, 'upper_bound': 3.1, 'count': 82.0}, {'lower_bound': 3.1, 'upper_bound': 5.2, 'count': 10.0}, {'lower_bound': 5.2, 'upper_bound': 7.3, 'count': 2.0}, {'lower_bound': 7.3, 'upper_bound': 9.4, 'count': 3.0}, {'lower_bound': 9.4, 'upper_bound': 11.5, 'count': 2.0}, {'lower_bound': 11.5, 'upper_bound': 13.6, 'count': 0.0}, {'lower_bound': 13.6, 'upper_bound': 15.7, 'count': 0.0}, {'lower_bound': 15.7, 'upper_bound': 17.8, 'count': 0.0}, {'lower_bound': 17.8, 'upper_bound': 19.9, 'count': 0.0}, {'lower_bound': 19.9, 'upper_bound': 22.0, 'count': 1.0}]</td>\n",
       "      <td>0.64</td>\n",
       "      <td>2048.0</td>\n",
       "      <td>[[1.0, 3.0, 4.0, 2.0, 1.0, 5.0, 22.0, 4.0, 3.0, 3.0, 2.0, 2.0, 3.0, 10.0, 1.0, 1.0, 1.0, 1.0, 3.0, 2.0, 1.0, 1.0, 1.0, 1.0, 1.0, 3.0, 1.0, 3.0, 1.0, 3.0, 1.0, 2.0, 3.0, 3.0, 1.0, 3.0, 1.0, 1.0, 10.0, 1.0, 1.0, 1.0, 3.0, 1.0, 5.0, 2.0, 6.0, 4.0, 1.0, 1.0, 1.0, 1.0, 3.0, 3.0, 1.0, 4.0, 1.0, 2.0, 1.0, 3.0, 5.0, 2.0, 1.0, 1.0, 6.0, 8.0, 5.0, 3.0, 2.0, 1.0, 4.0, 1.0, 2.0, 2.0, 1.0, 1.0, 3.0, 4.0, 3.0, 3.0, 1.0, 8.0, 1.0, 2.0, 2.0, 3.0, 1.0, 1.0, 1.0, 1.0, 1.0, 1.0, 3.0, 9.0, 1.0, 1.0, 3.0, 1.0, 1.0, 1.0]]</td>\n",
       "    </tr>\n",
       "    <tr>\n",
       "      <th>2</th>\n",
       "      <td>_c2</td>\n",
       "      <td>Integral</td>\n",
       "      <td>100</td>\n",
       "      <td>0</td>\n",
       "      <td>0.05</td>\n",
       "      <td>5.0</td>\n",
       "      <td>0.217945</td>\n",
       "      <td>0.0</td>\n",
       "      <td>1.0</td>\n",
       "      <td>[{'lower_bound': 0.0, 'upper_bound': 0.1, 'count': 95.0}, {'lower_bound': 0.1, 'upper_bound': 0.2, 'count': 0.0}, {'lower_bound': 0.2, 'upper_bound': 0.3, 'count': 0.0}, {'lower_bound': 0.3, 'upper_bound': 0.4, 'count': 0.0}, {'lower_bound': 0.4, 'upper_bound': 0.5, 'count': 0.0}, {'lower_bound': 0.5, 'upper_bound': 0.6, 'count': 0.0}, {'lower_bound': 0.6, 'upper_bound': 0.7, 'count': 0.0}, {'lower_bound': 0.7, 'upper_bound': 0.8, 'count': 0.0}, {'lower_bound': 0.8, 'upper_bound': 0.9, 'count': 0.0}, {'lower_bound': 0.9, 'upper_bound': 1.0, 'count': 5.0}]</td>\n",
       "      <td>0.64</td>\n",
       "      <td>2048.0</td>\n",
       "      <td>[[0.0, 1.0, 0.0, 0.0, 0.0, 0.0, 1.0, 0.0, 0.0, 0.0, 0.0, 0.0, 0.0, 0.0, 0.0, 0.0, 0.0, 0.0, 0.0, 0.0, 0.0, 0.0, 0.0, 0.0, 0.0, 0.0, 0.0, 0.0, 0.0, 0.0, 0.0, 0.0, 1.0, 0.0, 0.0, 0.0, 0.0, 0.0, 0.0, 0.0, 0.0, 0.0, 0.0, 0.0, 0.0, 0.0, 0.0, 0.0, 0.0, 1.0, 0.0, 0.0, 0.0, 0.0, 0.0, 1.0, 0.0, 0.0, 0.0, 0.0, 0.0, 0.0, 0.0, 0.0, 0.0, 0.0, 0.0, 0.0, 0.0, 0.0, 0.0, 0.0, 0.0, 0.0, 0.0, 0.0, 0.0, 0.0, 0.0, 0.0, 0.0, 0.0, 0.0, 0.0, 0.0, 0.0, 0.0, 0.0, 0.0, 0.0, 0.0, 0.0, 0.0, 0.0, 0.0, 0.0, 0.0, 0.0, 0.0, 0.0]]</td>\n",
       "    </tr>\n",
       "    <tr>\n",
       "      <th>3</th>\n",
       "      <td>_c3</td>\n",
       "      <td>Integral</td>\n",
       "      <td>100</td>\n",
       "      <td>0</td>\n",
       "      <td>0.06</td>\n",
       "      <td>6.0</td>\n",
       "      <td>0.237487</td>\n",
       "      <td>0.0</td>\n",
       "      <td>1.0</td>\n",
       "      <td>[{'lower_bound': 0.0, 'upper_bound': 0.1, 'count': 94.0}, {'lower_bound': 0.1, 'upper_bound': 0.2, 'count': 0.0}, {'lower_bound': 0.2, 'upper_bound': 0.3, 'count': 0.0}, {'lower_bound': 0.3, 'upper_bound': 0.4, 'count': 0.0}, {'lower_bound': 0.4, 'upper_bound': 0.5, 'count': 0.0}, {'lower_bound': 0.5, 'upper_bound': 0.6, 'count': 0.0}, {'lower_bound': 0.6, 'upper_bound': 0.7, 'count': 0.0}, {'lower_bound': 0.7, 'upper_bound': 0.8, 'count': 0.0}, {'lower_bound': 0.8, 'upper_bound': 0.9, 'count': 0.0}, {'lower_bound': 0.9, 'upper_bound': 1.0, 'count': 6.0}]</td>\n",
       "      <td>0.64</td>\n",
       "      <td>2048.0</td>\n",
       "      <td>[[0.0, 0.0, 0.0, 0.0, 0.0, 0.0, 0.0, 0.0, 0.0, 1.0, 0.0, 0.0, 0.0, 0.0, 0.0, 0.0, 0.0, 0.0, 0.0, 0.0, 0.0, 1.0, 0.0, 0.0, 0.0, 0.0, 0.0, 0.0, 0.0, 0.0, 0.0, 0.0, 0.0, 0.0, 0.0, 0.0, 0.0, 0.0, 0.0, 0.0, 0.0, 0.0, 0.0, 0.0, 0.0, 0.0, 0.0, 0.0, 0.0, 0.0, 0.0, 0.0, 1.0, 0.0, 1.0, 0.0, 0.0, 0.0, 0.0, 0.0, 0.0, 0.0, 0.0, 0.0, 0.0, 0.0, 0.0, 0.0, 0.0, 0.0, 0.0, 0.0, 1.0, 0.0, 0.0, 0.0, 0.0, 0.0, 0.0, 0.0, 0.0, 0.0, 0.0, 0.0, 0.0, 0.0, 0.0, 1.0, 0.0, 0.0, 0.0, 0.0, 0.0, 0.0, 0.0, 0.0, 0.0, 0.0, 0.0, 0.0]]</td>\n",
       "    </tr>\n",
       "    <tr>\n",
       "      <th>4</th>\n",
       "      <td>_c4</td>\n",
       "      <td>Integral</td>\n",
       "      <td>100</td>\n",
       "      <td>0</td>\n",
       "      <td>0.02</td>\n",
       "      <td>2.0</td>\n",
       "      <td>0.140000</td>\n",
       "      <td>0.0</td>\n",
       "      <td>1.0</td>\n",
       "      <td>[{'lower_bound': 0.0, 'upper_bound': 0.1, 'count': 98.0}, {'lower_bound': 0.1, 'upper_bound': 0.2, 'count': 0.0}, {'lower_bound': 0.2, 'upper_bound': 0.3, 'count': 0.0}, {'lower_bound': 0.3, 'upper_bound': 0.4, 'count': 0.0}, {'lower_bound': 0.4, 'upper_bound': 0.5, 'count': 0.0}, {'lower_bound': 0.5, 'upper_bound': 0.6, 'count': 0.0}, {'lower_bound': 0.6, 'upper_bound': 0.7, 'count': 0.0}, {'lower_bound': 0.7, 'upper_bound': 0.8, 'count': 0.0}, {'lower_bound': 0.8, 'upper_bound': 0.9, 'count': 0.0}, {'lower_bound': 0.9, 'upper_bound': 1.0, 'count': 2.0}]</td>\n",
       "      <td>0.64</td>\n",
       "      <td>2048.0</td>\n",
       "      <td>[[0.0, 0.0, 0.0, 0.0, 0.0, 0.0, 0.0, 0.0, 0.0, 0.0, 0.0, 0.0, 0.0, 0.0, 0.0, 0.0, 0.0, 0.0, 0.0, 0.0, 0.0, 0.0, 0.0, 0.0, 0.0, 0.0, 0.0, 0.0, 0.0, 0.0, 0.0, 0.0, 0.0, 0.0, 0.0, 0.0, 0.0, 0.0, 0.0, 0.0, 0.0, 0.0, 0.0, 0.0, 0.0, 0.0, 0.0, 0.0, 0.0, 0.0, 0.0, 0.0, 0.0, 0.0, 0.0, 0.0, 0.0, 0.0, 0.0, 0.0, 0.0, 0.0, 0.0, 0.0, 0.0, 0.0, 0.0, 0.0, 0.0, 0.0, 0.0, 0.0, 0.0, 0.0, 0.0, 0.0, 0.0, 0.0, 0.0, 0.0, 0.0, 0.0, 0.0, 0.0, 0.0, 0.0, 0.0, 0.0, 0.0, 1.0, 0.0, 0.0, 1.0, 0.0, 0.0, 0.0, 0.0, 0.0, 0.0, 0.0]]</td>\n",
       "    </tr>\n",
       "  </tbody>\n",
       "</table>\n",
       "</div>"
      ],
      "text/plain": [
       "  name inferred_type  numerical_statistics.common.num_present  \\\n",
       "0  _c0      Integral                                      100   \n",
       "1  _c1      Integral                                      100   \n",
       "2  _c2      Integral                                      100   \n",
       "3  _c3      Integral                                      100   \n",
       "4  _c4      Integral                                      100   \n",
       "\n",
       "   numerical_statistics.common.num_missing  numerical_statistics.mean  \\\n",
       "0                                        0                      39.80   \n",
       "1                                        0                       2.62   \n",
       "2                                        0                       0.05   \n",
       "3                                        0                       0.06   \n",
       "4                                        0                       0.02   \n",
       "\n",
       "   numerical_statistics.sum  numerical_statistics.std_dev  \\\n",
       "0                    3980.0                     11.027239   \n",
       "1                     262.0                      2.777697   \n",
       "2                       5.0                      0.217945   \n",
       "3                       6.0                      0.237487   \n",
       "4                       2.0                      0.140000   \n",
       "\n",
       "   numerical_statistics.min  numerical_statistics.max  \\\n",
       "0                      24.0                      74.0   \n",
       "1                       1.0                      22.0   \n",
       "2                       0.0                       1.0   \n",
       "3                       0.0                       1.0   \n",
       "4                       0.0                       1.0   \n",
       "\n",
       "                                                                                                                                                                                                                                                                                                                                                                                                                                                                                                                                                                numerical_statistics.distribution.kll.buckets  \\\n",
       "0  [{'lower_bound': 24.0, 'upper_bound': 29.0, 'count': 13.0}, {'lower_bound': 29.0, 'upper_bound': 34.0, 'count': 21.0}, {'lower_bound': 34.0, 'upper_bound': 39.0, 'count': 20.0}, {'lower_bound': 39.0, 'upper_bound': 44.0, 'count': 16.0}, {'lower_bound': 44.0, 'upper_bound': 49.0, 'count': 10.0}, {'lower_bound': 49.0, 'upper_bound': 54.0, 'count': 5.0}, {'lower_bound': 54.0, 'upper_bound': 59.0, 'count': 10.0}, {'lower_bound': 59.0, 'upper_bound': 64.0, 'count': 2.0}, {'lower_bound': 64.0, 'upper_bound': 69.0, 'count': 0.0}, {'lower_bound': 69.0, 'upper_bound': 74.0, 'count': 3.0}]   \n",
       "1               [{'lower_bound': 1.0, 'upper_bound': 3.1, 'count': 82.0}, {'lower_bound': 3.1, 'upper_bound': 5.2, 'count': 10.0}, {'lower_bound': 5.2, 'upper_bound': 7.3, 'count': 2.0}, {'lower_bound': 7.3, 'upper_bound': 9.4, 'count': 3.0}, {'lower_bound': 9.4, 'upper_bound': 11.5, 'count': 2.0}, {'lower_bound': 11.5, 'upper_bound': 13.6, 'count': 0.0}, {'lower_bound': 13.6, 'upper_bound': 15.7, 'count': 0.0}, {'lower_bound': 15.7, 'upper_bound': 17.8, 'count': 0.0}, {'lower_bound': 17.8, 'upper_bound': 19.9, 'count': 0.0}, {'lower_bound': 19.9, 'upper_bound': 22.0, 'count': 1.0}]   \n",
       "2                           [{'lower_bound': 0.0, 'upper_bound': 0.1, 'count': 95.0}, {'lower_bound': 0.1, 'upper_bound': 0.2, 'count': 0.0}, {'lower_bound': 0.2, 'upper_bound': 0.3, 'count': 0.0}, {'lower_bound': 0.3, 'upper_bound': 0.4, 'count': 0.0}, {'lower_bound': 0.4, 'upper_bound': 0.5, 'count': 0.0}, {'lower_bound': 0.5, 'upper_bound': 0.6, 'count': 0.0}, {'lower_bound': 0.6, 'upper_bound': 0.7, 'count': 0.0}, {'lower_bound': 0.7, 'upper_bound': 0.8, 'count': 0.0}, {'lower_bound': 0.8, 'upper_bound': 0.9, 'count': 0.0}, {'lower_bound': 0.9, 'upper_bound': 1.0, 'count': 5.0}]   \n",
       "3                           [{'lower_bound': 0.0, 'upper_bound': 0.1, 'count': 94.0}, {'lower_bound': 0.1, 'upper_bound': 0.2, 'count': 0.0}, {'lower_bound': 0.2, 'upper_bound': 0.3, 'count': 0.0}, {'lower_bound': 0.3, 'upper_bound': 0.4, 'count': 0.0}, {'lower_bound': 0.4, 'upper_bound': 0.5, 'count': 0.0}, {'lower_bound': 0.5, 'upper_bound': 0.6, 'count': 0.0}, {'lower_bound': 0.6, 'upper_bound': 0.7, 'count': 0.0}, {'lower_bound': 0.7, 'upper_bound': 0.8, 'count': 0.0}, {'lower_bound': 0.8, 'upper_bound': 0.9, 'count': 0.0}, {'lower_bound': 0.9, 'upper_bound': 1.0, 'count': 6.0}]   \n",
       "4                           [{'lower_bound': 0.0, 'upper_bound': 0.1, 'count': 98.0}, {'lower_bound': 0.1, 'upper_bound': 0.2, 'count': 0.0}, {'lower_bound': 0.2, 'upper_bound': 0.3, 'count': 0.0}, {'lower_bound': 0.3, 'upper_bound': 0.4, 'count': 0.0}, {'lower_bound': 0.4, 'upper_bound': 0.5, 'count': 0.0}, {'lower_bound': 0.5, 'upper_bound': 0.6, 'count': 0.0}, {'lower_bound': 0.6, 'upper_bound': 0.7, 'count': 0.0}, {'lower_bound': 0.7, 'upper_bound': 0.8, 'count': 0.0}, {'lower_bound': 0.8, 'upper_bound': 0.9, 'count': 0.0}, {'lower_bound': 0.9, 'upper_bound': 1.0, 'count': 2.0}]   \n",
       "\n",
       "   numerical_statistics.distribution.kll.sketch.parameters.c  \\\n",
       "0                                                       0.64   \n",
       "1                                                       0.64   \n",
       "2                                                       0.64   \n",
       "3                                                       0.64   \n",
       "4                                                       0.64   \n",
       "\n",
       "   numerical_statistics.distribution.kll.sketch.parameters.k  \\\n",
       "0                                                     2048.0   \n",
       "1                                                     2048.0   \n",
       "2                                                     2048.0   \n",
       "3                                                     2048.0   \n",
       "4                                                     2048.0   \n",
       "\n",
       "                                                                                                                                                                                                                                                                                                                                                                                                                                                                                                                                                                            numerical_statistics.distribution.kll.sketch.data  \n",
       "0  [[37.0, 40.0, 27.0, 35.0, 24.0, 46.0, 47.0, 25.0, 34.0, 74.0, 37.0, 30.0, 60.0, 30.0, 41.0, 59.0, 25.0, 31.0, 27.0, 31.0, 26.0, 58.0, 44.0, 31.0, 43.0, 42.0, 31.0, 39.0, 26.0, 38.0, 43.0, 39.0, 49.0, 55.0, 44.0, 43.0, 57.0, 37.0, 47.0, 32.0, 36.0, 48.0, 43.0, 29.0, 30.0, 55.0, 40.0, 31.0, 37.0, 31.0, 51.0, 34.0, 71.0, 49.0, 57.0, 42.0, 51.0, 38.0, 26.0, 29.0, 43.0, 32.0, 33.0, 33.0, 38.0, 41.0, 51.0, 40.0, 57.0, 30.0, 32.0, 32.0, 58.0, 38.0, 32.0, 58.0, 48.0, 24.0, 35.0, 47.0, 33.0, 34.0, 28.0, 25.0, 39.0, 34.0, 35.0, 69.0, 41.0, 28.0, 29.0, 34.0, 47.0, 35.0, 48.0, 35.0, 37.0, 26.0, 55.0, 54.0]]  \n",
       "1                                                                                                   [[1.0, 3.0, 4.0, 2.0, 1.0, 5.0, 22.0, 4.0, 3.0, 3.0, 2.0, 2.0, 3.0, 10.0, 1.0, 1.0, 1.0, 1.0, 3.0, 2.0, 1.0, 1.0, 1.0, 1.0, 1.0, 3.0, 1.0, 3.0, 1.0, 3.0, 1.0, 2.0, 3.0, 3.0, 1.0, 3.0, 1.0, 1.0, 10.0, 1.0, 1.0, 1.0, 3.0, 1.0, 5.0, 2.0, 6.0, 4.0, 1.0, 1.0, 1.0, 1.0, 3.0, 3.0, 1.0, 4.0, 1.0, 2.0, 1.0, 3.0, 5.0, 2.0, 1.0, 1.0, 6.0, 8.0, 5.0, 3.0, 2.0, 1.0, 4.0, 1.0, 2.0, 2.0, 1.0, 1.0, 3.0, 4.0, 3.0, 3.0, 1.0, 8.0, 1.0, 2.0, 2.0, 3.0, 1.0, 1.0, 1.0, 1.0, 1.0, 1.0, 3.0, 9.0, 1.0, 1.0, 3.0, 1.0, 1.0, 1.0]]  \n",
       "2                                                                                                      [[0.0, 1.0, 0.0, 0.0, 0.0, 0.0, 1.0, 0.0, 0.0, 0.0, 0.0, 0.0, 0.0, 0.0, 0.0, 0.0, 0.0, 0.0, 0.0, 0.0, 0.0, 0.0, 0.0, 0.0, 0.0, 0.0, 0.0, 0.0, 0.0, 0.0, 0.0, 0.0, 1.0, 0.0, 0.0, 0.0, 0.0, 0.0, 0.0, 0.0, 0.0, 0.0, 0.0, 0.0, 0.0, 0.0, 0.0, 0.0, 0.0, 1.0, 0.0, 0.0, 0.0, 0.0, 0.0, 1.0, 0.0, 0.0, 0.0, 0.0, 0.0, 0.0, 0.0, 0.0, 0.0, 0.0, 0.0, 0.0, 0.0, 0.0, 0.0, 0.0, 0.0, 0.0, 0.0, 0.0, 0.0, 0.0, 0.0, 0.0, 0.0, 0.0, 0.0, 0.0, 0.0, 0.0, 0.0, 0.0, 0.0, 0.0, 0.0, 0.0, 0.0, 0.0, 0.0, 0.0, 0.0, 0.0, 0.0, 0.0]]  \n",
       "3                                                                                                      [[0.0, 0.0, 0.0, 0.0, 0.0, 0.0, 0.0, 0.0, 0.0, 1.0, 0.0, 0.0, 0.0, 0.0, 0.0, 0.0, 0.0, 0.0, 0.0, 0.0, 0.0, 1.0, 0.0, 0.0, 0.0, 0.0, 0.0, 0.0, 0.0, 0.0, 0.0, 0.0, 0.0, 0.0, 0.0, 0.0, 0.0, 0.0, 0.0, 0.0, 0.0, 0.0, 0.0, 0.0, 0.0, 0.0, 0.0, 0.0, 0.0, 0.0, 0.0, 0.0, 1.0, 0.0, 1.0, 0.0, 0.0, 0.0, 0.0, 0.0, 0.0, 0.0, 0.0, 0.0, 0.0, 0.0, 0.0, 0.0, 0.0, 0.0, 0.0, 0.0, 1.0, 0.0, 0.0, 0.0, 0.0, 0.0, 0.0, 0.0, 0.0, 0.0, 0.0, 0.0, 0.0, 0.0, 0.0, 1.0, 0.0, 0.0, 0.0, 0.0, 0.0, 0.0, 0.0, 0.0, 0.0, 0.0, 0.0, 0.0]]  \n",
       "4                                                                                                      [[0.0, 0.0, 0.0, 0.0, 0.0, 0.0, 0.0, 0.0, 0.0, 0.0, 0.0, 0.0, 0.0, 0.0, 0.0, 0.0, 0.0, 0.0, 0.0, 0.0, 0.0, 0.0, 0.0, 0.0, 0.0, 0.0, 0.0, 0.0, 0.0, 0.0, 0.0, 0.0, 0.0, 0.0, 0.0, 0.0, 0.0, 0.0, 0.0, 0.0, 0.0, 0.0, 0.0, 0.0, 0.0, 0.0, 0.0, 0.0, 0.0, 0.0, 0.0, 0.0, 0.0, 0.0, 0.0, 0.0, 0.0, 0.0, 0.0, 0.0, 0.0, 0.0, 0.0, 0.0, 0.0, 0.0, 0.0, 0.0, 0.0, 0.0, 0.0, 0.0, 0.0, 0.0, 0.0, 0.0, 0.0, 0.0, 0.0, 0.0, 0.0, 0.0, 0.0, 0.0, 0.0, 0.0, 0.0, 0.0, 0.0, 1.0, 0.0, 0.0, 1.0, 0.0, 0.0, 0.0, 0.0, 0.0, 0.0, 0.0]]  "
      ]
     },
     "execution_count": 125,
     "metadata": {},
     "output_type": "execute_result"
    }
   ],
   "source": [
    "pd.json_normalize(statistics[\"features\"]).head()"
   ]
  },
  {
   "cell_type": "code",
   "execution_count": 126,
   "id": "19f99d6e-b261-4f89-be20-dacde27ae18d",
   "metadata": {
    "tags": []
   },
   "outputs": [
    {
     "data": {
      "text/html": [
       "<div>\n",
       "<style scoped>\n",
       "    .dataframe tbody tr th:only-of-type {\n",
       "        vertical-align: middle;\n",
       "    }\n",
       "\n",
       "    .dataframe tbody tr th {\n",
       "        vertical-align: top;\n",
       "    }\n",
       "\n",
       "    .dataframe thead th {\n",
       "        text-align: right;\n",
       "    }\n",
       "</style>\n",
       "<table border=\"1\" class=\"dataframe\">\n",
       "  <thead>\n",
       "    <tr style=\"text-align: right;\">\n",
       "      <th></th>\n",
       "      <th>name</th>\n",
       "      <th>inferred_type</th>\n",
       "      <th>completeness</th>\n",
       "      <th>num_constraints.is_non_negative</th>\n",
       "    </tr>\n",
       "  </thead>\n",
       "  <tbody>\n",
       "    <tr>\n",
       "      <th>0</th>\n",
       "      <td>_c0</td>\n",
       "      <td>Integral</td>\n",
       "      <td>1.0</td>\n",
       "      <td>True</td>\n",
       "    </tr>\n",
       "    <tr>\n",
       "      <th>1</th>\n",
       "      <td>_c1</td>\n",
       "      <td>Integral</td>\n",
       "      <td>1.0</td>\n",
       "      <td>True</td>\n",
       "    </tr>\n",
       "    <tr>\n",
       "      <th>2</th>\n",
       "      <td>_c2</td>\n",
       "      <td>Integral</td>\n",
       "      <td>1.0</td>\n",
       "      <td>True</td>\n",
       "    </tr>\n",
       "    <tr>\n",
       "      <th>3</th>\n",
       "      <td>_c3</td>\n",
       "      <td>Integral</td>\n",
       "      <td>1.0</td>\n",
       "      <td>True</td>\n",
       "    </tr>\n",
       "    <tr>\n",
       "      <th>4</th>\n",
       "      <td>_c4</td>\n",
       "      <td>Integral</td>\n",
       "      <td>1.0</td>\n",
       "      <td>True</td>\n",
       "    </tr>\n",
       "  </tbody>\n",
       "</table>\n",
       "</div>"
      ],
      "text/plain": [
       "  name inferred_type  completeness  num_constraints.is_non_negative\n",
       "0  _c0      Integral           1.0                             True\n",
       "1  _c1      Integral           1.0                             True\n",
       "2  _c2      Integral           1.0                             True\n",
       "3  _c3      Integral           1.0                             True\n",
       "4  _c4      Integral           1.0                             True"
      ]
     },
     "execution_count": 126,
     "metadata": {},
     "output_type": "execute_result"
    }
   ],
   "source": [
    "pd.json_normalize(constraints[\"features\"]).head()"
   ]
  },
  {
   "cell_type": "markdown",
   "id": "7ea3529c-f664-490f-b240-d11574e62183",
   "metadata": {},
   "source": [
    "### What is monitored\n",
    "Refer to [Schema for Violations](https://docs.aws.amazon.com/sagemaker/latest/dg/model-monitor-interpreting-violations.html) in the Developer Guide to see what constraints are monitored by the model monitor. You can configure a tolerance threshold that fits your specific data quality requirements.  To configure the thresholds, you must change the `monitoring_config` section of the baseline `constraints.json` file:"
   ]
  },
  {
   "cell_type": "code",
   "execution_count": 127,
   "id": "831436ca-15dc-4f6a-abf0-e8d1e2a92ce4",
   "metadata": {
    "tags": []
   },
   "outputs": [
    {
     "name": "stdout",
     "output_type": "stream",
     "text": [
      "{\n",
      "  \"evaluate_constraints\": \"Enabled\",\n",
      "  \"emit_metrics\": \"Enabled\",\n",
      "  \"datatype_check_threshold\": 1.0,\n",
      "  \"domain_content_threshold\": 1.0,\n",
      "  \"distribution_constraints\": {\n",
      "    \"perform_comparison\": \"Enabled\",\n",
      "    \"comparison_threshold\": 0.1,\n",
      "    \"comparison_method\": \"Robust\"\n",
      "  }\n",
      "}\n"
     ]
    }
   ],
   "source": [
    "with open(\"tmp/constraints.json\", \"r\") as c:\n",
    "    data = c.read()\n",
    "    \n",
    "print(json.dumps(json.loads(data)[\"monitoring_config\"], indent=2))"
   ]
  },
  {
   "cell_type": "markdown",
   "id": "579f1f2d-7f8c-4c7e-a5f0-94acf855b1ea",
   "metadata": {},
   "source": [
    "To modify monitoring configuration, change this section and upload the file to Amazon S3.\n",
    "You can use `Robust` or `Simple` method to detect a data distribution drift, refer to [Schema for Constraints](https://docs.aws.amazon.com/sagemaker/latest/dg/model-monitor-byoc-constraints.html) in the Developer Guide. `Robust` method is recommended for small datasets and based on the [Two-sample Kolmogorov-Smirnov test](https://en.m.wikipedia.org/wiki/Kolmogorov%E2%80%93Smirnov_test)."
   ]
  },
  {
   "cell_type": "markdown",
   "id": "d567b72b-805b-43e7-b926-db97015d00f4",
   "metadata": {
    "tags": []
   },
   "source": [
    "### Generate non-compliant traffic\n",
    "Now generate traffic that will trigger the violation in the model monitor data quality check."
   ]
  },
  {
   "cell_type": "code",
   "execution_count": 245,
   "id": "49fa53a9-fcf8-42a3-a4a5-b0460d1e0919",
   "metadata": {
    "tags": []
   },
   "outputs": [],
   "source": [
    "non_compliant_pd = test_x.copy()\n",
    "non_compliant_pd.iloc[:,0] = -99.99"
   ]
  },
  {
   "cell_type": "code",
   "execution_count": 231,
   "id": "5473dd5b-e403-493a-8290-ec72606decd0",
   "metadata": {
    "tags": []
   },
   "outputs": [],
   "source": [
    "non_compliant_pd.drop(columns=['_c0'], inplace=True)"
   ]
  },
  {
   "cell_type": "code",
   "execution_count": 246,
   "id": "9907bf99-f24e-4d86-ad2d-a87433ca43c7",
   "metadata": {
    "tags": []
   },
   "outputs": [
    {
     "data": {
      "text/html": [
       "<div>\n",
       "<style scoped>\n",
       "    .dataframe tbody tr th:only-of-type {\n",
       "        vertical-align: middle;\n",
       "    }\n",
       "\n",
       "    .dataframe tbody tr th {\n",
       "        vertical-align: top;\n",
       "    }\n",
       "\n",
       "    .dataframe thead th {\n",
       "        text-align: right;\n",
       "    }\n",
       "</style>\n",
       "<table border=\"1\" class=\"dataframe\">\n",
       "  <thead>\n",
       "    <tr style=\"text-align: right;\">\n",
       "      <th></th>\n",
       "      <th>_c0</th>\n",
       "      <th>_c1</th>\n",
       "      <th>_c2</th>\n",
       "      <th>_c3</th>\n",
       "      <th>_c4</th>\n",
       "      <th>_c5</th>\n",
       "      <th>_c6</th>\n",
       "      <th>_c7</th>\n",
       "      <th>_c8</th>\n",
       "      <th>_c9</th>\n",
       "      <th>...</th>\n",
       "      <th>_c49</th>\n",
       "      <th>_c50</th>\n",
       "      <th>_c51</th>\n",
       "      <th>_c52</th>\n",
       "      <th>_c53</th>\n",
       "      <th>_c54</th>\n",
       "      <th>_c55</th>\n",
       "      <th>_c56</th>\n",
       "      <th>_c57</th>\n",
       "      <th>_c58</th>\n",
       "    </tr>\n",
       "  </thead>\n",
       "  <tbody>\n",
       "    <tr>\n",
       "      <th>3376</th>\n",
       "      <td>-99.99</td>\n",
       "      <td>1</td>\n",
       "      <td>999</td>\n",
       "      <td>0</td>\n",
       "      <td>1</td>\n",
       "      <td>0</td>\n",
       "      <td>0</td>\n",
       "      <td>0</td>\n",
       "      <td>0</td>\n",
       "      <td>0</td>\n",
       "      <td>...</td>\n",
       "      <td>0</td>\n",
       "      <td>0</td>\n",
       "      <td>0</td>\n",
       "      <td>0</td>\n",
       "      <td>0</td>\n",
       "      <td>0</td>\n",
       "      <td>1</td>\n",
       "      <td>0</td>\n",
       "      <td>1</td>\n",
       "      <td>0</td>\n",
       "    </tr>\n",
       "    <tr>\n",
       "      <th>3218</th>\n",
       "      <td>-99.99</td>\n",
       "      <td>1</td>\n",
       "      <td>999</td>\n",
       "      <td>0</td>\n",
       "      <td>1</td>\n",
       "      <td>0</td>\n",
       "      <td>0</td>\n",
       "      <td>1</td>\n",
       "      <td>0</td>\n",
       "      <td>0</td>\n",
       "      <td>...</td>\n",
       "      <td>0</td>\n",
       "      <td>1</td>\n",
       "      <td>0</td>\n",
       "      <td>0</td>\n",
       "      <td>0</td>\n",
       "      <td>1</td>\n",
       "      <td>0</td>\n",
       "      <td>0</td>\n",
       "      <td>1</td>\n",
       "      <td>0</td>\n",
       "    </tr>\n",
       "    <tr>\n",
       "      <th>1336</th>\n",
       "      <td>-99.99</td>\n",
       "      <td>1</td>\n",
       "      <td>999</td>\n",
       "      <td>0</td>\n",
       "      <td>1</td>\n",
       "      <td>0</td>\n",
       "      <td>0</td>\n",
       "      <td>0</td>\n",
       "      <td>0</td>\n",
       "      <td>0</td>\n",
       "      <td>...</td>\n",
       "      <td>0</td>\n",
       "      <td>0</td>\n",
       "      <td>0</td>\n",
       "      <td>0</td>\n",
       "      <td>0</td>\n",
       "      <td>1</td>\n",
       "      <td>0</td>\n",
       "      <td>0</td>\n",
       "      <td>1</td>\n",
       "      <td>0</td>\n",
       "    </tr>\n",
       "    <tr>\n",
       "      <th>1709</th>\n",
       "      <td>-99.99</td>\n",
       "      <td>3</td>\n",
       "      <td>999</td>\n",
       "      <td>0</td>\n",
       "      <td>1</td>\n",
       "      <td>1</td>\n",
       "      <td>0</td>\n",
       "      <td>0</td>\n",
       "      <td>0</td>\n",
       "      <td>0</td>\n",
       "      <td>...</td>\n",
       "      <td>0</td>\n",
       "      <td>0</td>\n",
       "      <td>0</td>\n",
       "      <td>1</td>\n",
       "      <td>0</td>\n",
       "      <td>0</td>\n",
       "      <td>0</td>\n",
       "      <td>0</td>\n",
       "      <td>1</td>\n",
       "      <td>0</td>\n",
       "    </tr>\n",
       "    <tr>\n",
       "      <th>447</th>\n",
       "      <td>-99.99</td>\n",
       "      <td>3</td>\n",
       "      <td>999</td>\n",
       "      <td>0</td>\n",
       "      <td>1</td>\n",
       "      <td>0</td>\n",
       "      <td>0</td>\n",
       "      <td>0</td>\n",
       "      <td>0</td>\n",
       "      <td>0</td>\n",
       "      <td>...</td>\n",
       "      <td>0</td>\n",
       "      <td>0</td>\n",
       "      <td>0</td>\n",
       "      <td>0</td>\n",
       "      <td>0</td>\n",
       "      <td>0</td>\n",
       "      <td>1</td>\n",
       "      <td>0</td>\n",
       "      <td>1</td>\n",
       "      <td>0</td>\n",
       "    </tr>\n",
       "  </tbody>\n",
       "</table>\n",
       "<p>5 rows × 59 columns</p>\n",
       "</div>"
      ],
      "text/plain": [
       "        _c0  _c1  _c2  _c3  _c4  _c5  _c6  _c7  _c8  _c9  ...  _c49  _c50  \\\n",
       "3376 -99.99    1  999    0    1    0    0    0    0    0  ...     0     0   \n",
       "3218 -99.99    1  999    0    1    0    0    1    0    0  ...     0     1   \n",
       "1336 -99.99    1  999    0    1    0    0    0    0    0  ...     0     0   \n",
       "1709 -99.99    3  999    0    1    1    0    0    0    0  ...     0     0   \n",
       "447  -99.99    3  999    0    1    0    0    0    0    0  ...     0     0   \n",
       "\n",
       "      _c51  _c52  _c53  _c54  _c55  _c56  _c57  _c58  \n",
       "3376     0     0     0     0     1     0     1     0  \n",
       "3218     0     0     0     1     0     0     1     0  \n",
       "1336     0     0     0     1     0     0     1     0  \n",
       "1709     0     1     0     0     0     0     1     0  \n",
       "447      0     0     0     0     1     0     1     0  \n",
       "\n",
       "[5 rows x 59 columns]"
      ]
     },
     "execution_count": 246,
     "metadata": {},
     "output_type": "execute_result"
    }
   ],
   "source": [
    "non_compliant_pd.head()"
   ]
  },
  {
   "cell_type": "code",
   "execution_count": 249,
   "id": "8ef3d752-cf16-4614-94fd-90c09190b9c6",
   "metadata": {
    "tags": []
   },
   "outputs": [
    {
     "name": "stdout",
     "output_type": "stream",
     "text": [
      "Found 3 files in s3://sagemaker-us-east-1-906545278380/from-idea-to-prod/xgboost/data-capture\n",
      "Latest data capture S3 url: s3://sagemaker-us-east-1-906545278380/from-idea-to-prod/xgboost/data-capture/from-idea-to-prod-endpoint-13-15-39-04/AllTraffic/2023/02/13/21\n"
     ]
    }
   ],
   "source": [
    "# Remove previous saved data capture from the S3 bucket\n",
    "latest_data_capture_s3_url = get_latest_data_capture_s3_url(data_capture_bucket, data_capture_prefix)"
   ]
  },
  {
   "cell_type": "code",
   "execution_count": 248,
   "id": "f47f60b6-b24d-4f32-88d3-b69d75d8ab67",
   "metadata": {
    "tags": []
   },
   "outputs": [
    {
     "name": "stdout",
     "output_type": "stream",
     "text": [
      "delete: s3://sagemaker-us-east-1-906545278380/from-idea-to-prod/xgboost/data-capture/from-idea-to-prod-endpoint-13-15-39-04/AllTraffic/2023/02/14/09/45-50-619-7e16df8a-1ccf-4ad4-890a-d244a3e6dc72.jsonl\n"
     ]
    }
   ],
   "source": [
    "# uncomment the next line to remove the previous data capture files\n",
    "# !aws s3 rm {latest_data_capture_s3_url} --recursive"
   ]
  },
  {
   "cell_type": "code",
   "execution_count": 250,
   "id": "6df19f6a-f6e2-4c75-94e7-fb7211faa557",
   "metadata": {
    "tags": []
   },
   "outputs": [
    {
     "name": "stderr",
     "output_type": "stream",
     "text": [
      "100%|██████████| 100/100 [00:01<00:00, 77.59it/s]\n"
     ]
    }
   ],
   "source": [
    "generate_endpoint_traffic(predictor, non_compliant_pd)"
   ]
  },
  {
   "cell_type": "markdown",
   "id": "c348cd59-9925-4d29-97ae-e90baef5e3f6",
   "metadata": {},
   "source": [
    "### See the captured data\n",
    "List captured data files under `data_capture_s3_url`. Wait couple of minutes before the captured data appears in the Amazon S3 bucket."
   ]
  },
  {
   "cell_type": "code",
   "execution_count": 252,
   "id": "4b729c49-8118-4229-a260-6fcdf455b29d",
   "metadata": {
    "tags": []
   },
   "outputs": [
    {
     "name": "stdout",
     "output_type": "stream",
     "text": [
      "2023-02-13 15:53:40      48702 from-idea-to-prod/xgboost/data-capture/from-idea-to-prod-endpoint-13-15-39-04/AllTraffic/2023/02/13/15/52-32-739-b3380519-6e72-4079-ac47-13312a2eb253.jsonl\n",
      "2023-02-13 16:21:30      48890 from-idea-to-prod/xgboost/data-capture/from-idea-to-prod-endpoint-13-15-39-04/AllTraffic/2023/02/13/16/20-24-369-8f1b57e7-8215-4711-9889-c908d356f5fc.jsonl\n",
      "2023-02-13 21:04:40      48702 from-idea-to-prod/xgboost/data-capture/from-idea-to-prod-endpoint-13-15-39-04/AllTraffic/2023/02/13/21/03-35-139-5a322d84-4197-4e5e-86e2-8ec9b36f5fb7.jsonl\n",
      "2023-02-14 10:01:10      60690 from-idea-to-prod/xgboost/data-capture/from-idea-to-prod-endpoint-13-15-39-04/AllTraffic/2023/02/14/10/00-05-920-b3f34273-1268-422b-ab84-2a9a2161b20b.jsonl\n"
     ]
    }
   ],
   "source": [
    "!aws s3 ls {data_capture_s3_url} --recursive"
   ]
  },
  {
   "cell_type": "markdown",
   "id": "8b59387d-d96f-47c6-b058-3a4d7168c4ab",
   "metadata": {},
   "source": [
    "### Launch a manual monitoring job\n",
    "Let's run a manual monitoring job again to analyze the capture data:"
   ]
  },
  {
   "cell_type": "code",
   "execution_count": 253,
   "id": "4615cb98-2c7d-4656-b714-18f5f30a5dcc",
   "metadata": {
    "tags": []
   },
   "outputs": [
    {
     "name": "stdout",
     "output_type": "stream",
     "text": [
      "Found 4 files in s3://sagemaker-us-east-1-906545278380/from-idea-to-prod/xgboost/data-capture\n",
      "Latest data capture S3 url: s3://sagemaker-us-east-1-906545278380/from-idea-to-prod/xgboost/data-capture/from-idea-to-prod-endpoint-13-15-39-04/AllTraffic/2023/02/14/10\n"
     ]
    }
   ],
   "source": [
    "latest_data_capture_s3_url = get_latest_data_capture_s3_url(data_capture_bucket, data_capture_prefix)"
   ]
  },
  {
   "cell_type": "code",
   "execution_count": null,
   "id": "97db3837-3b58-4c7d-85b5-495bce6f7d5f",
   "metadata": {
    "tags": []
   },
   "outputs": [
    {
     "name": "stderr",
     "output_type": "stream",
     "text": [
      "INFO:sagemaker:Creating processing-job with name sagemaker-model-monitor-analyzer-2023-02-14-10-21-03-307\n"
     ]
    },
    {
     "name": "stdout",
     "output_type": "stream",
     "text": [
      "................................................."
     ]
    }
   ],
   "source": [
    "run_model_monitor_job(\n",
    "    region=region,\n",
    "    instance_type=\"ml.m5.xlarge\",\n",
    "    role=sm_role,\n",
    "    data_capture_path=latest_data_capture_s3_url,\n",
    "    statistics_path=data_statistics_s3_url,\n",
    "    constraints_path=data_constraints_s3_url,\n",
    "    reports_path=data_mon_reports_s3_url,\n",
    "    instance_count=1,\n",
    "    preprocessor_path=f\"{record_preprocessor_s3_url}/record_preprocessor.py\",\n",
    "    postprocessor_path=None,\n",
    "    publish_cloudwatch_metrics=\"Disabled\",\n",
    "    logs=False,\n",
    ")"
   ]
  },
  {
   "cell_type": "markdown",
   "id": "4e1b92c6-5a1f-4908-bb95-df4059111ef4",
   "metadata": {},
   "source": [
    "### See the monitoring job output\n",
    "Let's check what reports the monitoring job generated. Since you send non-compliant data to the endpoint, you must see a violation report."
   ]
  },
  {
   "cell_type": "code",
   "execution_count": 256,
   "id": "f01e44ce-e861-4113-90e7-c0281511447e",
   "metadata": {
    "tags": []
   },
   "outputs": [
    {
     "name": "stdout",
     "output_type": "stream",
     "text": [
      "Latest monitoring report S3 url: s3://sagemaker-us-east-1-906545278380/from-idea-to-prod/xgboost/baseline/reports/0\n"
     ]
    }
   ],
   "source": [
    "manual_monitoring_job_output_s3_url = get_latest_monitoring_report_s3_url(\"sagemaker-model-monitor-analyzer\")"
   ]
  },
  {
   "cell_type": "code",
   "execution_count": 257,
   "id": "f8fe74d1-e7d0-4978-ae6f-7907058ac68a",
   "metadata": {
    "tags": []
   },
   "outputs": [
    {
     "name": "stdout",
     "output_type": "stream",
     "text": [
      "2023-02-14 10:26:47      14291 constraint_violations.json\n",
      "2023-02-14 10:26:46       9391 constraints.json\n",
      "2023-02-14 10:26:46     125649 statistics.json\n"
     ]
    }
   ],
   "source": [
    "!aws s3 ls {manual_monitoring_job_output_s3_url}/"
   ]
  },
  {
   "cell_type": "markdown",
   "id": "2bccea03-786f-4dfc-902e-60568d09131a",
   "metadata": {},
   "source": [
    "Load the monitoring report and see the violations:"
   ]
  },
  {
   "cell_type": "code",
   "execution_count": 258,
   "id": "1e1d51d6-8ba8-4ecc-a437-70a76e2ec172",
   "metadata": {
    "tags": []
   },
   "outputs": [
    {
     "name": "stdout",
     "output_type": "stream",
     "text": [
      "Load JSON from: sagemaker-us-east-1-906545278380/from-idea-to-prod/xgboost/baseline/reports/0/constraint_violations.json\n"
     ]
    },
    {
     "data": {
      "text/plain": [
       "{'violations': [{'feature_name': '_c41',\n",
       "   'constraint_check_type': 'data_type_check',\n",
       "   'description': 'Data type match requirement is not met. Expected data type: Integral, Expected match: 100.0%. Observed: Only 0.0% of data is Integral.'},\n",
       "  {'feature_name': '_c34',\n",
       "   'constraint_check_type': 'data_type_check',\n",
       "   'description': 'Data type match requirement is not met. Expected data type: Integral, Expected match: 100.0%. Observed: Only 0.0% of data is Integral.'},\n",
       "  {'feature_name': '_c17',\n",
       "   'constraint_check_type': 'data_type_check',\n",
       "   'description': 'Data type match requirement is not met. Expected data type: Integral, Expected match: 100.0%. Observed: Only 0.0% of data is Integral.'},\n",
       "  {'feature_name': '_c51',\n",
       "   'constraint_check_type': 'data_type_check',\n",
       "   'description': 'Data type match requirement is not met. Expected data type: Integral, Expected match: 100.0%. Observed: Only 0.0% of data is Integral.'},\n",
       "  {'feature_name': '_c13',\n",
       "   'constraint_check_type': 'data_type_check',\n",
       "   'description': 'Data type match requirement is not met. Expected data type: Integral, Expected match: 100.0%. Observed: Only 0.0% of data is Integral.'},\n",
       "  {'feature_name': '_c37',\n",
       "   'constraint_check_type': 'data_type_check',\n",
       "   'description': 'Data type match requirement is not met. Expected data type: Integral, Expected match: 100.0%. Observed: Only 0.0% of data is Integral.'},\n",
       "  {'feature_name': '_c38',\n",
       "   'constraint_check_type': 'data_type_check',\n",
       "   'description': 'Data type match requirement is not met. Expected data type: Integral, Expected match: 100.0%. Observed: Only 0.0% of data is Integral.'},\n",
       "  {'feature_name': '_c5',\n",
       "   'constraint_check_type': 'data_type_check',\n",
       "   'description': 'Data type match requirement is not met. Expected data type: Integral, Expected match: 100.0%. Observed: Only 0.0% of data is Integral.'},\n",
       "  {'feature_name': '_c27',\n",
       "   'constraint_check_type': 'data_type_check',\n",
       "   'description': 'Data type match requirement is not met. Expected data type: Integral, Expected match: 100.0%. Observed: Only 0.0% of data is Integral.'},\n",
       "  {'feature_name': '_c23',\n",
       "   'constraint_check_type': 'data_type_check',\n",
       "   'description': 'Data type match requirement is not met. Expected data type: Integral, Expected match: 100.0%. Observed: Only 0.0% of data is Integral.'},\n",
       "  {'feature_name': '_c1',\n",
       "   'constraint_check_type': 'data_type_check',\n",
       "   'description': 'Data type match requirement is not met. Expected data type: Integral, Expected match: 100.0%. Observed: Only 0.0% of data is Integral.'},\n",
       "  {'feature_name': '_c48',\n",
       "   'constraint_check_type': 'data_type_check',\n",
       "   'description': 'Data type match requirement is not met. Expected data type: Integral, Expected match: 100.0%. Observed: Only 0.0% of data is Integral.'},\n",
       "  {'feature_name': '_c50',\n",
       "   'constraint_check_type': 'data_type_check',\n",
       "   'description': 'Data type match requirement is not met. Expected data type: Integral, Expected match: 100.0%. Observed: Only 0.0% of data is Integral.'},\n",
       "  {'feature_name': '_c18',\n",
       "   'constraint_check_type': 'data_type_check',\n",
       "   'description': 'Data type match requirement is not met. Expected data type: Integral, Expected match: 100.0%. Observed: Only 0.0% of data is Integral.'},\n",
       "  {'feature_name': '_c40',\n",
       "   'constraint_check_type': 'data_type_check',\n",
       "   'description': 'Data type match requirement is not met. Expected data type: Integral, Expected match: 100.0%. Observed: Only 0.0% of data is Integral.'},\n",
       "  {'feature_name': '_c28',\n",
       "   'constraint_check_type': 'data_type_check',\n",
       "   'description': 'Data type match requirement is not met. Expected data type: Integral, Expected match: 100.0%. Observed: Only 0.0% of data is Integral.'},\n",
       "  {'feature_name': '_c12',\n",
       "   'constraint_check_type': 'data_type_check',\n",
       "   'description': 'Data type match requirement is not met. Expected data type: Integral, Expected match: 100.0%. Observed: Only 0.0% of data is Integral.'},\n",
       "  {'feature_name': '_c4',\n",
       "   'constraint_check_type': 'data_type_check',\n",
       "   'description': 'Data type match requirement is not met. Expected data type: Integral, Expected match: 100.0%. Observed: Only 0.0% of data is Integral.'},\n",
       "  {'feature_name': '_c31',\n",
       "   'constraint_check_type': 'data_type_check',\n",
       "   'description': 'Data type match requirement is not met. Expected data type: Integral, Expected match: 100.0%. Observed: Only 0.0% of data is Integral.'},\n",
       "  {'feature_name': '_c29',\n",
       "   'constraint_check_type': 'data_type_check',\n",
       "   'description': 'Data type match requirement is not met. Expected data type: Integral, Expected match: 100.0%. Observed: Only 0.0% of data is Integral.'},\n",
       "  {'feature_name': '_c57',\n",
       "   'constraint_check_type': 'data_type_check',\n",
       "   'description': 'Data type match requirement is not met. Expected data type: Integral, Expected match: 100.0%. Observed: Only 0.0% of data is Integral.'},\n",
       "  {'feature_name': '_c21',\n",
       "   'constraint_check_type': 'data_type_check',\n",
       "   'description': 'Data type match requirement is not met. Expected data type: Integral, Expected match: 100.0%. Observed: Only 0.0% of data is Integral.'},\n",
       "  {'feature_name': '_c42',\n",
       "   'constraint_check_type': 'data_type_check',\n",
       "   'description': 'Data type match requirement is not met. Expected data type: Integral, Expected match: 100.0%. Observed: Only 0.0% of data is Integral.'},\n",
       "  {'feature_name': '_c30',\n",
       "   'constraint_check_type': 'data_type_check',\n",
       "   'description': 'Data type match requirement is not met. Expected data type: Integral, Expected match: 100.0%. Observed: Only 0.0% of data is Integral.'},\n",
       "  {'feature_name': '_c10',\n",
       "   'constraint_check_type': 'data_type_check',\n",
       "   'description': 'Data type match requirement is not met. Expected data type: Integral, Expected match: 100.0%. Observed: Only 0.0% of data is Integral.'},\n",
       "  {'feature_name': '_c2',\n",
       "   'constraint_check_type': 'data_type_check',\n",
       "   'description': 'Data type match requirement is not met. Expected data type: Integral, Expected match: 100.0%. Observed: Only 0.0% of data is Integral.'},\n",
       "  {'feature_name': '_c49',\n",
       "   'constraint_check_type': 'data_type_check',\n",
       "   'description': 'Data type match requirement is not met. Expected data type: Integral, Expected match: 100.0%. Observed: Only 0.0% of data is Integral.'},\n",
       "  {'feature_name': '_c22',\n",
       "   'constraint_check_type': 'data_type_check',\n",
       "   'description': 'Data type match requirement is not met. Expected data type: Integral, Expected match: 100.0%. Observed: Only 0.0% of data is Integral.'},\n",
       "  {'feature_name': '_c24',\n",
       "   'constraint_check_type': 'data_type_check',\n",
       "   'description': 'Data type match requirement is not met. Expected data type: Integral, Expected match: 100.0%. Observed: Only 0.0% of data is Integral.'},\n",
       "  {'feature_name': '_c35',\n",
       "   'constraint_check_type': 'data_type_check',\n",
       "   'description': 'Data type match requirement is not met. Expected data type: Integral, Expected match: 100.0%. Observed: Only 0.0% of data is Integral.'},\n",
       "  {'feature_name': '_c32',\n",
       "   'constraint_check_type': 'data_type_check',\n",
       "   'description': 'Data type match requirement is not met. Expected data type: Integral, Expected match: 100.0%. Observed: Only 0.0% of data is Integral.'},\n",
       "  {'feature_name': '_c16',\n",
       "   'constraint_check_type': 'data_type_check',\n",
       "   'description': 'Data type match requirement is not met. Expected data type: Integral, Expected match: 100.0%. Observed: Only 0.0% of data is Integral.'},\n",
       "  {'feature_name': '_c54',\n",
       "   'constraint_check_type': 'data_type_check',\n",
       "   'description': 'Data type match requirement is not met. Expected data type: Integral, Expected match: 100.0%. Observed: Only 0.0% of data is Integral.'},\n",
       "  {'feature_name': '_c20',\n",
       "   'constraint_check_type': 'data_type_check',\n",
       "   'description': 'Data type match requirement is not met. Expected data type: Integral, Expected match: 100.0%. Observed: Only 0.0% of data is Integral.'},\n",
       "  {'feature_name': '_c46',\n",
       "   'constraint_check_type': 'data_type_check',\n",
       "   'description': 'Data type match requirement is not met. Expected data type: Integral, Expected match: 100.0%. Observed: Only 0.0% of data is Integral.'},\n",
       "  {'feature_name': '_c0',\n",
       "   'constraint_check_type': 'data_type_check',\n",
       "   'description': 'Data type match requirement is not met. Expected data type: Integral, Expected match: 100.0%. Observed: Only 0.0% of data is Integral.'},\n",
       "  {'feature_name': '_c47',\n",
       "   'constraint_check_type': 'data_type_check',\n",
       "   'description': 'Data type match requirement is not met. Expected data type: Integral, Expected match: 100.0%. Observed: Only 0.0% of data is Integral.'},\n",
       "  {'feature_name': '_c33',\n",
       "   'constraint_check_type': 'data_type_check',\n",
       "   'description': 'Data type match requirement is not met. Expected data type: Integral, Expected match: 100.0%. Observed: Only 0.0% of data is Integral.'},\n",
       "  {'feature_name': '_c15',\n",
       "   'constraint_check_type': 'data_type_check',\n",
       "   'description': 'Data type match requirement is not met. Expected data type: Integral, Expected match: 100.0%. Observed: Only 0.0% of data is Integral.'},\n",
       "  {'feature_name': '_c52',\n",
       "   'constraint_check_type': 'data_type_check',\n",
       "   'description': 'Data type match requirement is not met. Expected data type: Integral, Expected match: 100.0%. Observed: Only 0.0% of data is Integral.'},\n",
       "  {'feature_name': '_c7',\n",
       "   'constraint_check_type': 'data_type_check',\n",
       "   'description': 'Data type match requirement is not met. Expected data type: Integral, Expected match: 100.0%. Observed: Only 0.0% of data is Integral.'},\n",
       "  {'feature_name': '_c53',\n",
       "   'constraint_check_type': 'data_type_check',\n",
       "   'description': 'Data type match requirement is not met. Expected data type: Integral, Expected match: 100.0%. Observed: Only 0.0% of data is Integral.'},\n",
       "  {'feature_name': '_c11',\n",
       "   'constraint_check_type': 'data_type_check',\n",
       "   'description': 'Data type match requirement is not met. Expected data type: Integral, Expected match: 100.0%. Observed: Only 0.0% of data is Integral.'},\n",
       "  {'feature_name': '_c25',\n",
       "   'constraint_check_type': 'data_type_check',\n",
       "   'description': 'Data type match requirement is not met. Expected data type: Integral, Expected match: 100.0%. Observed: Only 0.0% of data is Integral.'},\n",
       "  {'feature_name': '_c43',\n",
       "   'constraint_check_type': 'data_type_check',\n",
       "   'description': 'Data type match requirement is not met. Expected data type: Integral, Expected match: 100.0%. Observed: Only 0.0% of data is Integral.'},\n",
       "  {'feature_name': '_c44',\n",
       "   'constraint_check_type': 'data_type_check',\n",
       "   'description': 'Data type match requirement is not met. Expected data type: Integral, Expected match: 100.0%. Observed: Only 0.0% of data is Integral.'},\n",
       "  {'feature_name': '_c55',\n",
       "   'constraint_check_type': 'data_type_check',\n",
       "   'description': 'Data type match requirement is not met. Expected data type: Integral, Expected match: 100.0%. Observed: Only 0.0% of data is Integral.'},\n",
       "  {'feature_name': '_c26',\n",
       "   'constraint_check_type': 'data_type_check',\n",
       "   'description': 'Data type match requirement is not met. Expected data type: Integral, Expected match: 100.0%. Observed: Only 0.0% of data is Integral.'},\n",
       "  {'feature_name': '_c45',\n",
       "   'constraint_check_type': 'data_type_check',\n",
       "   'description': 'Data type match requirement is not met. Expected data type: Integral, Expected match: 100.0%. Observed: Only 0.0% of data is Integral.'},\n",
       "  {'feature_name': '_c39',\n",
       "   'constraint_check_type': 'data_type_check',\n",
       "   'description': 'Data type match requirement is not met. Expected data type: Integral, Expected match: 100.0%. Observed: Only 0.0% of data is Integral.'},\n",
       "  {'feature_name': '_c58',\n",
       "   'constraint_check_type': 'data_type_check',\n",
       "   'description': 'Data type match requirement is not met. Expected data type: Integral, Expected match: 100.0%. Observed: Only 0.0% of data is Integral.'},\n",
       "  {'feature_name': '_c14',\n",
       "   'constraint_check_type': 'data_type_check',\n",
       "   'description': 'Data type match requirement is not met. Expected data type: Integral, Expected match: 100.0%. Observed: Only 0.0% of data is Integral.'},\n",
       "  {'feature_name': '_c6',\n",
       "   'constraint_check_type': 'data_type_check',\n",
       "   'description': 'Data type match requirement is not met. Expected data type: Integral, Expected match: 100.0%. Observed: Only 0.0% of data is Integral.'},\n",
       "  {'feature_name': '_c56',\n",
       "   'constraint_check_type': 'data_type_check',\n",
       "   'description': 'Data type match requirement is not met. Expected data type: Integral, Expected match: 100.0%. Observed: Only 0.0% of data is Integral.'},\n",
       "  {'feature_name': '_c8',\n",
       "   'constraint_check_type': 'data_type_check',\n",
       "   'description': 'Data type match requirement is not met. Expected data type: Integral, Expected match: 100.0%. Observed: Only 0.0% of data is Integral.'},\n",
       "  {'feature_name': '_c36',\n",
       "   'constraint_check_type': 'data_type_check',\n",
       "   'description': 'Data type match requirement is not met. Expected data type: Integral, Expected match: 100.0%. Observed: Only 0.0% of data is Integral.'},\n",
       "  {'feature_name': '_c3',\n",
       "   'constraint_check_type': 'data_type_check',\n",
       "   'description': 'Data type match requirement is not met. Expected data type: Integral, Expected match: 100.0%. Observed: Only 0.0% of data is Integral.'},\n",
       "  {'feature_name': '_c19',\n",
       "   'constraint_check_type': 'data_type_check',\n",
       "   'description': 'Data type match requirement is not met. Expected data type: Integral, Expected match: 100.0%. Observed: Only 0.0% of data is Integral.'},\n",
       "  {'feature_name': '_c9',\n",
       "   'constraint_check_type': 'data_type_check',\n",
       "   'description': 'Data type match requirement is not met. Expected data type: Integral, Expected match: 100.0%. Observed: Only 0.0% of data is Integral.'}]}"
      ]
     },
     "execution_count": 258,
     "metadata": {},
     "output_type": "execute_result"
    }
   ],
   "source": [
    "violations = load_json_from_file(f\"{manual_monitoring_job_output_s3_url}/constraint_violations.json\")\n",
    "violations"
   ]
  },
  {
   "cell_type": "code",
   "execution_count": 259,
   "id": "df85c386-46a2-446f-bbb3-e674799a2fa7",
   "metadata": {
    "tags": []
   },
   "outputs": [
    {
     "data": {
      "text/html": [
       "<div>\n",
       "<style scoped>\n",
       "    .dataframe tbody tr th:only-of-type {\n",
       "        vertical-align: middle;\n",
       "    }\n",
       "\n",
       "    .dataframe tbody tr th {\n",
       "        vertical-align: top;\n",
       "    }\n",
       "\n",
       "    .dataframe thead th {\n",
       "        text-align: right;\n",
       "    }\n",
       "</style>\n",
       "<table border=\"1\" class=\"dataframe\">\n",
       "  <thead>\n",
       "    <tr style=\"text-align: right;\">\n",
       "      <th></th>\n",
       "      <th>feature_name</th>\n",
       "      <th>constraint_check_type</th>\n",
       "      <th>description</th>\n",
       "    </tr>\n",
       "  </thead>\n",
       "  <tbody>\n",
       "    <tr>\n",
       "      <th>0</th>\n",
       "      <td>_c41</td>\n",
       "      <td>data_type_check</td>\n",
       "      <td>Data type match requirement is not met. Expected data type: Integral, Expected match: 100.0%. Observed: Only 0.0% of data is Integral.</td>\n",
       "    </tr>\n",
       "    <tr>\n",
       "      <th>1</th>\n",
       "      <td>_c34</td>\n",
       "      <td>data_type_check</td>\n",
       "      <td>Data type match requirement is not met. Expected data type: Integral, Expected match: 100.0%. Observed: Only 0.0% of data is Integral.</td>\n",
       "    </tr>\n",
       "    <tr>\n",
       "      <th>2</th>\n",
       "      <td>_c17</td>\n",
       "      <td>data_type_check</td>\n",
       "      <td>Data type match requirement is not met. Expected data type: Integral, Expected match: 100.0%. Observed: Only 0.0% of data is Integral.</td>\n",
       "    </tr>\n",
       "    <tr>\n",
       "      <th>3</th>\n",
       "      <td>_c51</td>\n",
       "      <td>data_type_check</td>\n",
       "      <td>Data type match requirement is not met. Expected data type: Integral, Expected match: 100.0%. Observed: Only 0.0% of data is Integral.</td>\n",
       "    </tr>\n",
       "    <tr>\n",
       "      <th>4</th>\n",
       "      <td>_c13</td>\n",
       "      <td>data_type_check</td>\n",
       "      <td>Data type match requirement is not met. Expected data type: Integral, Expected match: 100.0%. Observed: Only 0.0% of data is Integral.</td>\n",
       "    </tr>\n",
       "    <tr>\n",
       "      <th>5</th>\n",
       "      <td>_c37</td>\n",
       "      <td>data_type_check</td>\n",
       "      <td>Data type match requirement is not met. Expected data type: Integral, Expected match: 100.0%. Observed: Only 0.0% of data is Integral.</td>\n",
       "    </tr>\n",
       "    <tr>\n",
       "      <th>6</th>\n",
       "      <td>_c38</td>\n",
       "      <td>data_type_check</td>\n",
       "      <td>Data type match requirement is not met. Expected data type: Integral, Expected match: 100.0%. Observed: Only 0.0% of data is Integral.</td>\n",
       "    </tr>\n",
       "    <tr>\n",
       "      <th>7</th>\n",
       "      <td>_c5</td>\n",
       "      <td>data_type_check</td>\n",
       "      <td>Data type match requirement is not met. Expected data type: Integral, Expected match: 100.0%. Observed: Only 0.0% of data is Integral.</td>\n",
       "    </tr>\n",
       "    <tr>\n",
       "      <th>8</th>\n",
       "      <td>_c27</td>\n",
       "      <td>data_type_check</td>\n",
       "      <td>Data type match requirement is not met. Expected data type: Integral, Expected match: 100.0%. Observed: Only 0.0% of data is Integral.</td>\n",
       "    </tr>\n",
       "    <tr>\n",
       "      <th>9</th>\n",
       "      <td>_c23</td>\n",
       "      <td>data_type_check</td>\n",
       "      <td>Data type match requirement is not met. Expected data type: Integral, Expected match: 100.0%. Observed: Only 0.0% of data is Integral.</td>\n",
       "    </tr>\n",
       "    <tr>\n",
       "      <th>10</th>\n",
       "      <td>_c1</td>\n",
       "      <td>data_type_check</td>\n",
       "      <td>Data type match requirement is not met. Expected data type: Integral, Expected match: 100.0%. Observed: Only 0.0% of data is Integral.</td>\n",
       "    </tr>\n",
       "    <tr>\n",
       "      <th>11</th>\n",
       "      <td>_c48</td>\n",
       "      <td>data_type_check</td>\n",
       "      <td>Data type match requirement is not met. Expected data type: Integral, Expected match: 100.0%. Observed: Only 0.0% of data is Integral.</td>\n",
       "    </tr>\n",
       "    <tr>\n",
       "      <th>12</th>\n",
       "      <td>_c50</td>\n",
       "      <td>data_type_check</td>\n",
       "      <td>Data type match requirement is not met. Expected data type: Integral, Expected match: 100.0%. Observed: Only 0.0% of data is Integral.</td>\n",
       "    </tr>\n",
       "    <tr>\n",
       "      <th>13</th>\n",
       "      <td>_c18</td>\n",
       "      <td>data_type_check</td>\n",
       "      <td>Data type match requirement is not met. Expected data type: Integral, Expected match: 100.0%. Observed: Only 0.0% of data is Integral.</td>\n",
       "    </tr>\n",
       "    <tr>\n",
       "      <th>14</th>\n",
       "      <td>_c40</td>\n",
       "      <td>data_type_check</td>\n",
       "      <td>Data type match requirement is not met. Expected data type: Integral, Expected match: 100.0%. Observed: Only 0.0% of data is Integral.</td>\n",
       "    </tr>\n",
       "    <tr>\n",
       "      <th>15</th>\n",
       "      <td>_c28</td>\n",
       "      <td>data_type_check</td>\n",
       "      <td>Data type match requirement is not met. Expected data type: Integral, Expected match: 100.0%. Observed: Only 0.0% of data is Integral.</td>\n",
       "    </tr>\n",
       "    <tr>\n",
       "      <th>16</th>\n",
       "      <td>_c12</td>\n",
       "      <td>data_type_check</td>\n",
       "      <td>Data type match requirement is not met. Expected data type: Integral, Expected match: 100.0%. Observed: Only 0.0% of data is Integral.</td>\n",
       "    </tr>\n",
       "    <tr>\n",
       "      <th>17</th>\n",
       "      <td>_c4</td>\n",
       "      <td>data_type_check</td>\n",
       "      <td>Data type match requirement is not met. Expected data type: Integral, Expected match: 100.0%. Observed: Only 0.0% of data is Integral.</td>\n",
       "    </tr>\n",
       "    <tr>\n",
       "      <th>18</th>\n",
       "      <td>_c31</td>\n",
       "      <td>data_type_check</td>\n",
       "      <td>Data type match requirement is not met. Expected data type: Integral, Expected match: 100.0%. Observed: Only 0.0% of data is Integral.</td>\n",
       "    </tr>\n",
       "    <tr>\n",
       "      <th>19</th>\n",
       "      <td>_c29</td>\n",
       "      <td>data_type_check</td>\n",
       "      <td>Data type match requirement is not met. Expected data type: Integral, Expected match: 100.0%. Observed: Only 0.0% of data is Integral.</td>\n",
       "    </tr>\n",
       "    <tr>\n",
       "      <th>20</th>\n",
       "      <td>_c57</td>\n",
       "      <td>data_type_check</td>\n",
       "      <td>Data type match requirement is not met. Expected data type: Integral, Expected match: 100.0%. Observed: Only 0.0% of data is Integral.</td>\n",
       "    </tr>\n",
       "    <tr>\n",
       "      <th>21</th>\n",
       "      <td>_c21</td>\n",
       "      <td>data_type_check</td>\n",
       "      <td>Data type match requirement is not met. Expected data type: Integral, Expected match: 100.0%. Observed: Only 0.0% of data is Integral.</td>\n",
       "    </tr>\n",
       "    <tr>\n",
       "      <th>22</th>\n",
       "      <td>_c42</td>\n",
       "      <td>data_type_check</td>\n",
       "      <td>Data type match requirement is not met. Expected data type: Integral, Expected match: 100.0%. Observed: Only 0.0% of data is Integral.</td>\n",
       "    </tr>\n",
       "    <tr>\n",
       "      <th>23</th>\n",
       "      <td>_c30</td>\n",
       "      <td>data_type_check</td>\n",
       "      <td>Data type match requirement is not met. Expected data type: Integral, Expected match: 100.0%. Observed: Only 0.0% of data is Integral.</td>\n",
       "    </tr>\n",
       "    <tr>\n",
       "      <th>24</th>\n",
       "      <td>_c10</td>\n",
       "      <td>data_type_check</td>\n",
       "      <td>Data type match requirement is not met. Expected data type: Integral, Expected match: 100.0%. Observed: Only 0.0% of data is Integral.</td>\n",
       "    </tr>\n",
       "    <tr>\n",
       "      <th>25</th>\n",
       "      <td>_c2</td>\n",
       "      <td>data_type_check</td>\n",
       "      <td>Data type match requirement is not met. Expected data type: Integral, Expected match: 100.0%. Observed: Only 0.0% of data is Integral.</td>\n",
       "    </tr>\n",
       "    <tr>\n",
       "      <th>26</th>\n",
       "      <td>_c49</td>\n",
       "      <td>data_type_check</td>\n",
       "      <td>Data type match requirement is not met. Expected data type: Integral, Expected match: 100.0%. Observed: Only 0.0% of data is Integral.</td>\n",
       "    </tr>\n",
       "    <tr>\n",
       "      <th>27</th>\n",
       "      <td>_c22</td>\n",
       "      <td>data_type_check</td>\n",
       "      <td>Data type match requirement is not met. Expected data type: Integral, Expected match: 100.0%. Observed: Only 0.0% of data is Integral.</td>\n",
       "    </tr>\n",
       "    <tr>\n",
       "      <th>28</th>\n",
       "      <td>_c24</td>\n",
       "      <td>data_type_check</td>\n",
       "      <td>Data type match requirement is not met. Expected data type: Integral, Expected match: 100.0%. Observed: Only 0.0% of data is Integral.</td>\n",
       "    </tr>\n",
       "    <tr>\n",
       "      <th>29</th>\n",
       "      <td>_c35</td>\n",
       "      <td>data_type_check</td>\n",
       "      <td>Data type match requirement is not met. Expected data type: Integral, Expected match: 100.0%. Observed: Only 0.0% of data is Integral.</td>\n",
       "    </tr>\n",
       "    <tr>\n",
       "      <th>30</th>\n",
       "      <td>_c32</td>\n",
       "      <td>data_type_check</td>\n",
       "      <td>Data type match requirement is not met. Expected data type: Integral, Expected match: 100.0%. Observed: Only 0.0% of data is Integral.</td>\n",
       "    </tr>\n",
       "    <tr>\n",
       "      <th>31</th>\n",
       "      <td>_c16</td>\n",
       "      <td>data_type_check</td>\n",
       "      <td>Data type match requirement is not met. Expected data type: Integral, Expected match: 100.0%. Observed: Only 0.0% of data is Integral.</td>\n",
       "    </tr>\n",
       "    <tr>\n",
       "      <th>32</th>\n",
       "      <td>_c54</td>\n",
       "      <td>data_type_check</td>\n",
       "      <td>Data type match requirement is not met. Expected data type: Integral, Expected match: 100.0%. Observed: Only 0.0% of data is Integral.</td>\n",
       "    </tr>\n",
       "    <tr>\n",
       "      <th>33</th>\n",
       "      <td>_c20</td>\n",
       "      <td>data_type_check</td>\n",
       "      <td>Data type match requirement is not met. Expected data type: Integral, Expected match: 100.0%. Observed: Only 0.0% of data is Integral.</td>\n",
       "    </tr>\n",
       "    <tr>\n",
       "      <th>34</th>\n",
       "      <td>_c46</td>\n",
       "      <td>data_type_check</td>\n",
       "      <td>Data type match requirement is not met. Expected data type: Integral, Expected match: 100.0%. Observed: Only 0.0% of data is Integral.</td>\n",
       "    </tr>\n",
       "    <tr>\n",
       "      <th>35</th>\n",
       "      <td>_c0</td>\n",
       "      <td>data_type_check</td>\n",
       "      <td>Data type match requirement is not met. Expected data type: Integral, Expected match: 100.0%. Observed: Only 0.0% of data is Integral.</td>\n",
       "    </tr>\n",
       "    <tr>\n",
       "      <th>36</th>\n",
       "      <td>_c47</td>\n",
       "      <td>data_type_check</td>\n",
       "      <td>Data type match requirement is not met. Expected data type: Integral, Expected match: 100.0%. Observed: Only 0.0% of data is Integral.</td>\n",
       "    </tr>\n",
       "    <tr>\n",
       "      <th>37</th>\n",
       "      <td>_c33</td>\n",
       "      <td>data_type_check</td>\n",
       "      <td>Data type match requirement is not met. Expected data type: Integral, Expected match: 100.0%. Observed: Only 0.0% of data is Integral.</td>\n",
       "    </tr>\n",
       "    <tr>\n",
       "      <th>38</th>\n",
       "      <td>_c15</td>\n",
       "      <td>data_type_check</td>\n",
       "      <td>Data type match requirement is not met. Expected data type: Integral, Expected match: 100.0%. Observed: Only 0.0% of data is Integral.</td>\n",
       "    </tr>\n",
       "    <tr>\n",
       "      <th>39</th>\n",
       "      <td>_c52</td>\n",
       "      <td>data_type_check</td>\n",
       "      <td>Data type match requirement is not met. Expected data type: Integral, Expected match: 100.0%. Observed: Only 0.0% of data is Integral.</td>\n",
       "    </tr>\n",
       "    <tr>\n",
       "      <th>40</th>\n",
       "      <td>_c7</td>\n",
       "      <td>data_type_check</td>\n",
       "      <td>Data type match requirement is not met. Expected data type: Integral, Expected match: 100.0%. Observed: Only 0.0% of data is Integral.</td>\n",
       "    </tr>\n",
       "    <tr>\n",
       "      <th>41</th>\n",
       "      <td>_c53</td>\n",
       "      <td>data_type_check</td>\n",
       "      <td>Data type match requirement is not met. Expected data type: Integral, Expected match: 100.0%. Observed: Only 0.0% of data is Integral.</td>\n",
       "    </tr>\n",
       "    <tr>\n",
       "      <th>42</th>\n",
       "      <td>_c11</td>\n",
       "      <td>data_type_check</td>\n",
       "      <td>Data type match requirement is not met. Expected data type: Integral, Expected match: 100.0%. Observed: Only 0.0% of data is Integral.</td>\n",
       "    </tr>\n",
       "    <tr>\n",
       "      <th>43</th>\n",
       "      <td>_c25</td>\n",
       "      <td>data_type_check</td>\n",
       "      <td>Data type match requirement is not met. Expected data type: Integral, Expected match: 100.0%. Observed: Only 0.0% of data is Integral.</td>\n",
       "    </tr>\n",
       "    <tr>\n",
       "      <th>44</th>\n",
       "      <td>_c43</td>\n",
       "      <td>data_type_check</td>\n",
       "      <td>Data type match requirement is not met. Expected data type: Integral, Expected match: 100.0%. Observed: Only 0.0% of data is Integral.</td>\n",
       "    </tr>\n",
       "    <tr>\n",
       "      <th>45</th>\n",
       "      <td>_c44</td>\n",
       "      <td>data_type_check</td>\n",
       "      <td>Data type match requirement is not met. Expected data type: Integral, Expected match: 100.0%. Observed: Only 0.0% of data is Integral.</td>\n",
       "    </tr>\n",
       "    <tr>\n",
       "      <th>46</th>\n",
       "      <td>_c55</td>\n",
       "      <td>data_type_check</td>\n",
       "      <td>Data type match requirement is not met. Expected data type: Integral, Expected match: 100.0%. Observed: Only 0.0% of data is Integral.</td>\n",
       "    </tr>\n",
       "    <tr>\n",
       "      <th>47</th>\n",
       "      <td>_c26</td>\n",
       "      <td>data_type_check</td>\n",
       "      <td>Data type match requirement is not met. Expected data type: Integral, Expected match: 100.0%. Observed: Only 0.0% of data is Integral.</td>\n",
       "    </tr>\n",
       "    <tr>\n",
       "      <th>48</th>\n",
       "      <td>_c45</td>\n",
       "      <td>data_type_check</td>\n",
       "      <td>Data type match requirement is not met. Expected data type: Integral, Expected match: 100.0%. Observed: Only 0.0% of data is Integral.</td>\n",
       "    </tr>\n",
       "    <tr>\n",
       "      <th>49</th>\n",
       "      <td>_c39</td>\n",
       "      <td>data_type_check</td>\n",
       "      <td>Data type match requirement is not met. Expected data type: Integral, Expected match: 100.0%. Observed: Only 0.0% of data is Integral.</td>\n",
       "    </tr>\n",
       "    <tr>\n",
       "      <th>50</th>\n",
       "      <td>_c58</td>\n",
       "      <td>data_type_check</td>\n",
       "      <td>Data type match requirement is not met. Expected data type: Integral, Expected match: 100.0%. Observed: Only 0.0% of data is Integral.</td>\n",
       "    </tr>\n",
       "    <tr>\n",
       "      <th>51</th>\n",
       "      <td>_c14</td>\n",
       "      <td>data_type_check</td>\n",
       "      <td>Data type match requirement is not met. Expected data type: Integral, Expected match: 100.0%. Observed: Only 0.0% of data is Integral.</td>\n",
       "    </tr>\n",
       "    <tr>\n",
       "      <th>52</th>\n",
       "      <td>_c6</td>\n",
       "      <td>data_type_check</td>\n",
       "      <td>Data type match requirement is not met. Expected data type: Integral, Expected match: 100.0%. Observed: Only 0.0% of data is Integral.</td>\n",
       "    </tr>\n",
       "    <tr>\n",
       "      <th>53</th>\n",
       "      <td>_c56</td>\n",
       "      <td>data_type_check</td>\n",
       "      <td>Data type match requirement is not met. Expected data type: Integral, Expected match: 100.0%. Observed: Only 0.0% of data is Integral.</td>\n",
       "    </tr>\n",
       "    <tr>\n",
       "      <th>54</th>\n",
       "      <td>_c8</td>\n",
       "      <td>data_type_check</td>\n",
       "      <td>Data type match requirement is not met. Expected data type: Integral, Expected match: 100.0%. Observed: Only 0.0% of data is Integral.</td>\n",
       "    </tr>\n",
       "    <tr>\n",
       "      <th>55</th>\n",
       "      <td>_c36</td>\n",
       "      <td>data_type_check</td>\n",
       "      <td>Data type match requirement is not met. Expected data type: Integral, Expected match: 100.0%. Observed: Only 0.0% of data is Integral.</td>\n",
       "    </tr>\n",
       "    <tr>\n",
       "      <th>56</th>\n",
       "      <td>_c3</td>\n",
       "      <td>data_type_check</td>\n",
       "      <td>Data type match requirement is not met. Expected data type: Integral, Expected match: 100.0%. Observed: Only 0.0% of data is Integral.</td>\n",
       "    </tr>\n",
       "    <tr>\n",
       "      <th>57</th>\n",
       "      <td>_c19</td>\n",
       "      <td>data_type_check</td>\n",
       "      <td>Data type match requirement is not met. Expected data type: Integral, Expected match: 100.0%. Observed: Only 0.0% of data is Integral.</td>\n",
       "    </tr>\n",
       "    <tr>\n",
       "      <th>58</th>\n",
       "      <td>_c9</td>\n",
       "      <td>data_type_check</td>\n",
       "      <td>Data type match requirement is not met. Expected data type: Integral, Expected match: 100.0%. Observed: Only 0.0% of data is Integral.</td>\n",
       "    </tr>\n",
       "  </tbody>\n",
       "</table>\n",
       "</div>"
      ],
      "text/plain": [
       "   feature_name constraint_check_type  \\\n",
       "0          _c41       data_type_check   \n",
       "1          _c34       data_type_check   \n",
       "2          _c17       data_type_check   \n",
       "3          _c51       data_type_check   \n",
       "4          _c13       data_type_check   \n",
       "5          _c37       data_type_check   \n",
       "6          _c38       data_type_check   \n",
       "7           _c5       data_type_check   \n",
       "8          _c27       data_type_check   \n",
       "9          _c23       data_type_check   \n",
       "10          _c1       data_type_check   \n",
       "11         _c48       data_type_check   \n",
       "12         _c50       data_type_check   \n",
       "13         _c18       data_type_check   \n",
       "14         _c40       data_type_check   \n",
       "15         _c28       data_type_check   \n",
       "16         _c12       data_type_check   \n",
       "17          _c4       data_type_check   \n",
       "18         _c31       data_type_check   \n",
       "19         _c29       data_type_check   \n",
       "20         _c57       data_type_check   \n",
       "21         _c21       data_type_check   \n",
       "22         _c42       data_type_check   \n",
       "23         _c30       data_type_check   \n",
       "24         _c10       data_type_check   \n",
       "25          _c2       data_type_check   \n",
       "26         _c49       data_type_check   \n",
       "27         _c22       data_type_check   \n",
       "28         _c24       data_type_check   \n",
       "29         _c35       data_type_check   \n",
       "30         _c32       data_type_check   \n",
       "31         _c16       data_type_check   \n",
       "32         _c54       data_type_check   \n",
       "33         _c20       data_type_check   \n",
       "34         _c46       data_type_check   \n",
       "35          _c0       data_type_check   \n",
       "36         _c47       data_type_check   \n",
       "37         _c33       data_type_check   \n",
       "38         _c15       data_type_check   \n",
       "39         _c52       data_type_check   \n",
       "40          _c7       data_type_check   \n",
       "41         _c53       data_type_check   \n",
       "42         _c11       data_type_check   \n",
       "43         _c25       data_type_check   \n",
       "44         _c43       data_type_check   \n",
       "45         _c44       data_type_check   \n",
       "46         _c55       data_type_check   \n",
       "47         _c26       data_type_check   \n",
       "48         _c45       data_type_check   \n",
       "49         _c39       data_type_check   \n",
       "50         _c58       data_type_check   \n",
       "51         _c14       data_type_check   \n",
       "52          _c6       data_type_check   \n",
       "53         _c56       data_type_check   \n",
       "54          _c8       data_type_check   \n",
       "55         _c36       data_type_check   \n",
       "56          _c3       data_type_check   \n",
       "57         _c19       data_type_check   \n",
       "58          _c9       data_type_check   \n",
       "\n",
       "                                                                                                                               description  \n",
       "0   Data type match requirement is not met. Expected data type: Integral, Expected match: 100.0%. Observed: Only 0.0% of data is Integral.  \n",
       "1   Data type match requirement is not met. Expected data type: Integral, Expected match: 100.0%. Observed: Only 0.0% of data is Integral.  \n",
       "2   Data type match requirement is not met. Expected data type: Integral, Expected match: 100.0%. Observed: Only 0.0% of data is Integral.  \n",
       "3   Data type match requirement is not met. Expected data type: Integral, Expected match: 100.0%. Observed: Only 0.0% of data is Integral.  \n",
       "4   Data type match requirement is not met. Expected data type: Integral, Expected match: 100.0%. Observed: Only 0.0% of data is Integral.  \n",
       "5   Data type match requirement is not met. Expected data type: Integral, Expected match: 100.0%. Observed: Only 0.0% of data is Integral.  \n",
       "6   Data type match requirement is not met. Expected data type: Integral, Expected match: 100.0%. Observed: Only 0.0% of data is Integral.  \n",
       "7   Data type match requirement is not met. Expected data type: Integral, Expected match: 100.0%. Observed: Only 0.0% of data is Integral.  \n",
       "8   Data type match requirement is not met. Expected data type: Integral, Expected match: 100.0%. Observed: Only 0.0% of data is Integral.  \n",
       "9   Data type match requirement is not met. Expected data type: Integral, Expected match: 100.0%. Observed: Only 0.0% of data is Integral.  \n",
       "10  Data type match requirement is not met. Expected data type: Integral, Expected match: 100.0%. Observed: Only 0.0% of data is Integral.  \n",
       "11  Data type match requirement is not met. Expected data type: Integral, Expected match: 100.0%. Observed: Only 0.0% of data is Integral.  \n",
       "12  Data type match requirement is not met. Expected data type: Integral, Expected match: 100.0%. Observed: Only 0.0% of data is Integral.  \n",
       "13  Data type match requirement is not met. Expected data type: Integral, Expected match: 100.0%. Observed: Only 0.0% of data is Integral.  \n",
       "14  Data type match requirement is not met. Expected data type: Integral, Expected match: 100.0%. Observed: Only 0.0% of data is Integral.  \n",
       "15  Data type match requirement is not met. Expected data type: Integral, Expected match: 100.0%. Observed: Only 0.0% of data is Integral.  \n",
       "16  Data type match requirement is not met. Expected data type: Integral, Expected match: 100.0%. Observed: Only 0.0% of data is Integral.  \n",
       "17  Data type match requirement is not met. Expected data type: Integral, Expected match: 100.0%. Observed: Only 0.0% of data is Integral.  \n",
       "18  Data type match requirement is not met. Expected data type: Integral, Expected match: 100.0%. Observed: Only 0.0% of data is Integral.  \n",
       "19  Data type match requirement is not met. Expected data type: Integral, Expected match: 100.0%. Observed: Only 0.0% of data is Integral.  \n",
       "20  Data type match requirement is not met. Expected data type: Integral, Expected match: 100.0%. Observed: Only 0.0% of data is Integral.  \n",
       "21  Data type match requirement is not met. Expected data type: Integral, Expected match: 100.0%. Observed: Only 0.0% of data is Integral.  \n",
       "22  Data type match requirement is not met. Expected data type: Integral, Expected match: 100.0%. Observed: Only 0.0% of data is Integral.  \n",
       "23  Data type match requirement is not met. Expected data type: Integral, Expected match: 100.0%. Observed: Only 0.0% of data is Integral.  \n",
       "24  Data type match requirement is not met. Expected data type: Integral, Expected match: 100.0%. Observed: Only 0.0% of data is Integral.  \n",
       "25  Data type match requirement is not met. Expected data type: Integral, Expected match: 100.0%. Observed: Only 0.0% of data is Integral.  \n",
       "26  Data type match requirement is not met. Expected data type: Integral, Expected match: 100.0%. Observed: Only 0.0% of data is Integral.  \n",
       "27  Data type match requirement is not met. Expected data type: Integral, Expected match: 100.0%. Observed: Only 0.0% of data is Integral.  \n",
       "28  Data type match requirement is not met. Expected data type: Integral, Expected match: 100.0%. Observed: Only 0.0% of data is Integral.  \n",
       "29  Data type match requirement is not met. Expected data type: Integral, Expected match: 100.0%. Observed: Only 0.0% of data is Integral.  \n",
       "30  Data type match requirement is not met. Expected data type: Integral, Expected match: 100.0%. Observed: Only 0.0% of data is Integral.  \n",
       "31  Data type match requirement is not met. Expected data type: Integral, Expected match: 100.0%. Observed: Only 0.0% of data is Integral.  \n",
       "32  Data type match requirement is not met. Expected data type: Integral, Expected match: 100.0%. Observed: Only 0.0% of data is Integral.  \n",
       "33  Data type match requirement is not met. Expected data type: Integral, Expected match: 100.0%. Observed: Only 0.0% of data is Integral.  \n",
       "34  Data type match requirement is not met. Expected data type: Integral, Expected match: 100.0%. Observed: Only 0.0% of data is Integral.  \n",
       "35  Data type match requirement is not met. Expected data type: Integral, Expected match: 100.0%. Observed: Only 0.0% of data is Integral.  \n",
       "36  Data type match requirement is not met. Expected data type: Integral, Expected match: 100.0%. Observed: Only 0.0% of data is Integral.  \n",
       "37  Data type match requirement is not met. Expected data type: Integral, Expected match: 100.0%. Observed: Only 0.0% of data is Integral.  \n",
       "38  Data type match requirement is not met. Expected data type: Integral, Expected match: 100.0%. Observed: Only 0.0% of data is Integral.  \n",
       "39  Data type match requirement is not met. Expected data type: Integral, Expected match: 100.0%. Observed: Only 0.0% of data is Integral.  \n",
       "40  Data type match requirement is not met. Expected data type: Integral, Expected match: 100.0%. Observed: Only 0.0% of data is Integral.  \n",
       "41  Data type match requirement is not met. Expected data type: Integral, Expected match: 100.0%. Observed: Only 0.0% of data is Integral.  \n",
       "42  Data type match requirement is not met. Expected data type: Integral, Expected match: 100.0%. Observed: Only 0.0% of data is Integral.  \n",
       "43  Data type match requirement is not met. Expected data type: Integral, Expected match: 100.0%. Observed: Only 0.0% of data is Integral.  \n",
       "44  Data type match requirement is not met. Expected data type: Integral, Expected match: 100.0%. Observed: Only 0.0% of data is Integral.  \n",
       "45  Data type match requirement is not met. Expected data type: Integral, Expected match: 100.0%. Observed: Only 0.0% of data is Integral.  \n",
       "46  Data type match requirement is not met. Expected data type: Integral, Expected match: 100.0%. Observed: Only 0.0% of data is Integral.  \n",
       "47  Data type match requirement is not met. Expected data type: Integral, Expected match: 100.0%. Observed: Only 0.0% of data is Integral.  \n",
       "48  Data type match requirement is not met. Expected data type: Integral, Expected match: 100.0%. Observed: Only 0.0% of data is Integral.  \n",
       "49  Data type match requirement is not met. Expected data type: Integral, Expected match: 100.0%. Observed: Only 0.0% of data is Integral.  \n",
       "50  Data type match requirement is not met. Expected data type: Integral, Expected match: 100.0%. Observed: Only 0.0% of data is Integral.  \n",
       "51  Data type match requirement is not met. Expected data type: Integral, Expected match: 100.0%. Observed: Only 0.0% of data is Integral.  \n",
       "52  Data type match requirement is not met. Expected data type: Integral, Expected match: 100.0%. Observed: Only 0.0% of data is Integral.  \n",
       "53  Data type match requirement is not met. Expected data type: Integral, Expected match: 100.0%. Observed: Only 0.0% of data is Integral.  \n",
       "54  Data type match requirement is not met. Expected data type: Integral, Expected match: 100.0%. Observed: Only 0.0% of data is Integral.  \n",
       "55  Data type match requirement is not met. Expected data type: Integral, Expected match: 100.0%. Observed: Only 0.0% of data is Integral.  \n",
       "56  Data type match requirement is not met. Expected data type: Integral, Expected match: 100.0%. Observed: Only 0.0% of data is Integral.  \n",
       "57  Data type match requirement is not met. Expected data type: Integral, Expected match: 100.0%. Observed: Only 0.0% of data is Integral.  \n",
       "58  Data type match requirement is not met. Expected data type: Integral, Expected match: 100.0%. Observed: Only 0.0% of data is Integral.  "
      ]
     },
     "execution_count": 259,
     "metadata": {},
     "output_type": "execute_result"
    }
   ],
   "source": [
    "pd.json_normalize(violations[\"violations\"])"
   ]
  },
  {
   "cell_type": "code",
   "execution_count": 260,
   "id": "15ff077d-7ad3-4648-890f-7c0cd60a51a4",
   "metadata": {
    "tags": []
   },
   "outputs": [
    {
     "name": "stdout",
     "output_type": "stream",
     "text": [
      "Load JSON from: sagemaker-us-east-1-906545278380/from-idea-to-prod/xgboost/baseline/reports/0/statistics.json\n",
      "Load JSON from: sagemaker-us-east-1-906545278380/from-idea-to-prod/xgboost/baseline/reports/0/constraints.json\n",
      "Records processed: 100\n"
     ]
    }
   ],
   "source": [
    "statistics = load_json_from_file(f\"{manual_monitoring_job_output_s3_url}/statistics.json\")\n",
    "constraints = load_json_from_file(f\"{manual_monitoring_job_output_s3_url}/constraints.json\")\n",
    "\n",
    "print(f\"Records processed: {statistics['dataset']['item_count']}\")"
   ]
  },
  {
   "cell_type": "code",
   "execution_count": 261,
   "id": "74aac0c2-374f-4f88-b114-19419025ac90",
   "metadata": {
    "tags": []
   },
   "outputs": [
    {
     "data": {
      "text/html": [
       "<div>\n",
       "<style scoped>\n",
       "    .dataframe tbody tr th:only-of-type {\n",
       "        vertical-align: middle;\n",
       "    }\n",
       "\n",
       "    .dataframe tbody tr th {\n",
       "        vertical-align: top;\n",
       "    }\n",
       "\n",
       "    .dataframe thead th {\n",
       "        text-align: right;\n",
       "    }\n",
       "</style>\n",
       "<table border=\"1\" class=\"dataframe\">\n",
       "  <thead>\n",
       "    <tr style=\"text-align: right;\">\n",
       "      <th></th>\n",
       "      <th>name</th>\n",
       "      <th>inferred_type</th>\n",
       "      <th>numerical_statistics.common.num_present</th>\n",
       "      <th>numerical_statistics.common.num_missing</th>\n",
       "      <th>numerical_statistics.mean</th>\n",
       "      <th>numerical_statistics.sum</th>\n",
       "      <th>numerical_statistics.std_dev</th>\n",
       "      <th>numerical_statistics.min</th>\n",
       "      <th>numerical_statistics.max</th>\n",
       "      <th>numerical_statistics.distribution.kll.buckets</th>\n",
       "      <th>numerical_statistics.distribution.kll.sketch.parameters.c</th>\n",
       "      <th>numerical_statistics.distribution.kll.sketch.parameters.k</th>\n",
       "      <th>numerical_statistics.distribution.kll.sketch.data</th>\n",
       "    </tr>\n",
       "  </thead>\n",
       "  <tbody>\n",
       "    <tr>\n",
       "      <th>0</th>\n",
       "      <td>_c0</td>\n",
       "      <td>Fractional</td>\n",
       "      <td>100</td>\n",
       "      <td>0</td>\n",
       "      <td>-99.99</td>\n",
       "      <td>-9999.0</td>\n",
       "      <td>0.000000</td>\n",
       "      <td>-99.99</td>\n",
       "      <td>-99.99</td>\n",
       "      <td>[{'lower_bound': -99.99, 'upper_bound': -99.99, 'count': 0.0}, {'lower_bound': -99.99, 'upper_bound': -99.99, 'count': 0.0}, {'lower_bound': -99.99, 'upper_bound': -99.99, 'count': 0.0}, {'lower_bound': -99.99, 'upper_bound': -99.99, 'count': 0.0}, {'lower_bound': -99.99, 'upper_bound': -99.99, 'count': 0.0}, {'lower_bound': -99.99, 'upper_bound': -99.99, 'count': 0.0}, {'lower_bound': -99.99, 'upper_bound': -99.99, 'count': 0.0}, {'lower_bound': -99.99, 'upper_bound': -99.99, 'count': 0.0}, {'lower_bound': -99.99, 'upper_bound': -99.99, 'count': 0.0}, {'lower_bound': -99.99, 'upper_bound': -99.99, 'count': 100.0}]</td>\n",
       "      <td>0.64</td>\n",
       "      <td>2048.0</td>\n",
       "      <td>[[-99.99, -99.99, -99.99, -99.99, -99.99, -99.99, -99.99, -99.99, -99.99, -99.99, -99.99, -99.99, -99.99, -99.99, -99.99, -99.99, -99.99, -99.99, -99.99, -99.99, -99.99, -99.99, -99.99, -99.99, -99.99, -99.99, -99.99, -99.99, -99.99, -99.99, -99.99, -99.99, -99.99, -99.99, -99.99, -99.99, -99.99, -99.99, -99.99, -99.99, -99.99, -99.99, -99.99, -99.99, -99.99, -99.99, -99.99, -99.99, -99.99, -99.99, -99.99, -99.99, -99.99, -99.99, -99.99, -99.99, -99.99, -99.99, -99.99, -99.99, -99.99, -99.99, -99.99, -99.99, -99.99, -99.99, -99.99, -99.99, -99.99, -99.99, -99.99, -99.99, -99.99, -99.99, -99.99, -99.99, -99.99, -99.99, -99.99, -99.99, -99.99, -99.99, -99.99, -99.99, -99.99, -99.99, -99.99, -99.99, -99.99, -99.99, -99.99, -99.99, -99.99, -99.99, -99.99, -99.99, -99.99, -99.99, -99.99, -99.99]]</td>\n",
       "    </tr>\n",
       "    <tr>\n",
       "      <th>1</th>\n",
       "      <td>_c1</td>\n",
       "      <td>Fractional</td>\n",
       "      <td>100</td>\n",
       "      <td>0</td>\n",
       "      <td>2.62</td>\n",
       "      <td>262.0</td>\n",
       "      <td>2.777697</td>\n",
       "      <td>1.00</td>\n",
       "      <td>22.00</td>\n",
       "      <td>[{'lower_bound': 1.0, 'upper_bound': 3.1, 'count': 82.0}, {'lower_bound': 3.1, 'upper_bound': 5.2, 'count': 10.0}, {'lower_bound': 5.2, 'upper_bound': 7.3, 'count': 2.0}, {'lower_bound': 7.3, 'upper_bound': 9.4, 'count': 3.0}, {'lower_bound': 9.4, 'upper_bound': 11.5, 'count': 2.0}, {'lower_bound': 11.5, 'upper_bound': 13.6, 'count': 0.0}, {'lower_bound': 13.6, 'upper_bound': 15.7, 'count': 0.0}, {'lower_bound': 15.7, 'upper_bound': 17.8, 'count': 0.0}, {'lower_bound': 17.8, 'upper_bound': 19.9, 'count': 0.0}, {'lower_bound': 19.9, 'upper_bound': 22.0, 'count': 1.0}]</td>\n",
       "      <td>0.64</td>\n",
       "      <td>2048.0</td>\n",
       "      <td>[[1.0, 3.0, 4.0, 2.0, 1.0, 5.0, 22.0, 4.0, 3.0, 3.0, 2.0, 2.0, 3.0, 10.0, 1.0, 1.0, 1.0, 1.0, 3.0, 2.0, 1.0, 1.0, 1.0, 1.0, 1.0, 3.0, 1.0, 3.0, 1.0, 3.0, 1.0, 2.0, 3.0, 3.0, 1.0, 3.0, 1.0, 1.0, 10.0, 1.0, 1.0, 1.0, 3.0, 1.0, 5.0, 2.0, 6.0, 4.0, 1.0, 1.0, 1.0, 1.0, 3.0, 3.0, 1.0, 4.0, 1.0, 2.0, 1.0, 3.0, 5.0, 2.0, 1.0, 1.0, 6.0, 8.0, 5.0, 3.0, 2.0, 1.0, 4.0, 1.0, 2.0, 2.0, 1.0, 1.0, 3.0, 4.0, 3.0, 3.0, 1.0, 8.0, 1.0, 2.0, 2.0, 3.0, 1.0, 1.0, 1.0, 1.0, 1.0, 1.0, 3.0, 9.0, 1.0, 1.0, 3.0, 1.0, 1.0, 1.0]]</td>\n",
       "    </tr>\n",
       "    <tr>\n",
       "      <th>2</th>\n",
       "      <td>_c2</td>\n",
       "      <td>Fractional</td>\n",
       "      <td>100</td>\n",
       "      <td>0</td>\n",
       "      <td>0.05</td>\n",
       "      <td>5.0</td>\n",
       "      <td>0.217945</td>\n",
       "      <td>0.00</td>\n",
       "      <td>1.00</td>\n",
       "      <td>[{'lower_bound': 0.0, 'upper_bound': 0.1, 'count': 95.0}, {'lower_bound': 0.1, 'upper_bound': 0.2, 'count': 0.0}, {'lower_bound': 0.2, 'upper_bound': 0.3, 'count': 0.0}, {'lower_bound': 0.3, 'upper_bound': 0.4, 'count': 0.0}, {'lower_bound': 0.4, 'upper_bound': 0.5, 'count': 0.0}, {'lower_bound': 0.5, 'upper_bound': 0.6, 'count': 0.0}, {'lower_bound': 0.6, 'upper_bound': 0.7, 'count': 0.0}, {'lower_bound': 0.7, 'upper_bound': 0.8, 'count': 0.0}, {'lower_bound': 0.8, 'upper_bound': 0.9, 'count': 0.0}, {'lower_bound': 0.9, 'upper_bound': 1.0, 'count': 5.0}]</td>\n",
       "      <td>0.64</td>\n",
       "      <td>2048.0</td>\n",
       "      <td>[[0.0, 1.0, 0.0, 0.0, 0.0, 0.0, 1.0, 0.0, 0.0, 0.0, 0.0, 0.0, 0.0, 0.0, 0.0, 0.0, 0.0, 0.0, 0.0, 0.0, 0.0, 0.0, 0.0, 0.0, 0.0, 0.0, 0.0, 0.0, 0.0, 0.0, 0.0, 0.0, 1.0, 0.0, 0.0, 0.0, 0.0, 0.0, 0.0, 0.0, 0.0, 0.0, 0.0, 0.0, 0.0, 0.0, 0.0, 0.0, 0.0, 1.0, 0.0, 0.0, 0.0, 0.0, 0.0, 1.0, 0.0, 0.0, 0.0, 0.0, 0.0, 0.0, 0.0, 0.0, 0.0, 0.0, 0.0, 0.0, 0.0, 0.0, 0.0, 0.0, 0.0, 0.0, 0.0, 0.0, 0.0, 0.0, 0.0, 0.0, 0.0, 0.0, 0.0, 0.0, 0.0, 0.0, 0.0, 0.0, 0.0, 0.0, 0.0, 0.0, 0.0, 0.0, 0.0, 0.0, 0.0, 0.0, 0.0, 0.0]]</td>\n",
       "    </tr>\n",
       "    <tr>\n",
       "      <th>3</th>\n",
       "      <td>_c3</td>\n",
       "      <td>Fractional</td>\n",
       "      <td>100</td>\n",
       "      <td>0</td>\n",
       "      <td>0.06</td>\n",
       "      <td>6.0</td>\n",
       "      <td>0.237487</td>\n",
       "      <td>0.00</td>\n",
       "      <td>1.00</td>\n",
       "      <td>[{'lower_bound': 0.0, 'upper_bound': 0.1, 'count': 94.0}, {'lower_bound': 0.1, 'upper_bound': 0.2, 'count': 0.0}, {'lower_bound': 0.2, 'upper_bound': 0.3, 'count': 0.0}, {'lower_bound': 0.3, 'upper_bound': 0.4, 'count': 0.0}, {'lower_bound': 0.4, 'upper_bound': 0.5, 'count': 0.0}, {'lower_bound': 0.5, 'upper_bound': 0.6, 'count': 0.0}, {'lower_bound': 0.6, 'upper_bound': 0.7, 'count': 0.0}, {'lower_bound': 0.7, 'upper_bound': 0.8, 'count': 0.0}, {'lower_bound': 0.8, 'upper_bound': 0.9, 'count': 0.0}, {'lower_bound': 0.9, 'upper_bound': 1.0, 'count': 6.0}]</td>\n",
       "      <td>0.64</td>\n",
       "      <td>2048.0</td>\n",
       "      <td>[[0.0, 0.0, 0.0, 0.0, 0.0, 0.0, 0.0, 0.0, 0.0, 1.0, 0.0, 0.0, 0.0, 0.0, 0.0, 0.0, 0.0, 0.0, 0.0, 0.0, 0.0, 1.0, 0.0, 0.0, 0.0, 0.0, 0.0, 0.0, 0.0, 0.0, 0.0, 0.0, 0.0, 0.0, 0.0, 0.0, 0.0, 0.0, 0.0, 0.0, 0.0, 0.0, 0.0, 0.0, 0.0, 0.0, 0.0, 0.0, 0.0, 0.0, 0.0, 0.0, 1.0, 0.0, 1.0, 0.0, 0.0, 0.0, 0.0, 0.0, 0.0, 0.0, 0.0, 0.0, 0.0, 0.0, 0.0, 0.0, 0.0, 0.0, 0.0, 0.0, 1.0, 0.0, 0.0, 0.0, 0.0, 0.0, 0.0, 0.0, 0.0, 0.0, 0.0, 0.0, 0.0, 0.0, 0.0, 1.0, 0.0, 0.0, 0.0, 0.0, 0.0, 0.0, 0.0, 0.0, 0.0, 0.0, 0.0, 0.0]]</td>\n",
       "    </tr>\n",
       "    <tr>\n",
       "      <th>4</th>\n",
       "      <td>_c4</td>\n",
       "      <td>Fractional</td>\n",
       "      <td>100</td>\n",
       "      <td>0</td>\n",
       "      <td>0.02</td>\n",
       "      <td>2.0</td>\n",
       "      <td>0.140000</td>\n",
       "      <td>0.00</td>\n",
       "      <td>1.00</td>\n",
       "      <td>[{'lower_bound': 0.0, 'upper_bound': 0.1, 'count': 98.0}, {'lower_bound': 0.1, 'upper_bound': 0.2, 'count': 0.0}, {'lower_bound': 0.2, 'upper_bound': 0.3, 'count': 0.0}, {'lower_bound': 0.3, 'upper_bound': 0.4, 'count': 0.0}, {'lower_bound': 0.4, 'upper_bound': 0.5, 'count': 0.0}, {'lower_bound': 0.5, 'upper_bound': 0.6, 'count': 0.0}, {'lower_bound': 0.6, 'upper_bound': 0.7, 'count': 0.0}, {'lower_bound': 0.7, 'upper_bound': 0.8, 'count': 0.0}, {'lower_bound': 0.8, 'upper_bound': 0.9, 'count': 0.0}, {'lower_bound': 0.9, 'upper_bound': 1.0, 'count': 2.0}]</td>\n",
       "      <td>0.64</td>\n",
       "      <td>2048.0</td>\n",
       "      <td>[[0.0, 0.0, 0.0, 0.0, 0.0, 0.0, 0.0, 0.0, 0.0, 0.0, 0.0, 0.0, 0.0, 0.0, 0.0, 0.0, 0.0, 0.0, 0.0, 0.0, 0.0, 0.0, 0.0, 0.0, 0.0, 0.0, 0.0, 0.0, 0.0, 0.0, 0.0, 0.0, 0.0, 0.0, 0.0, 0.0, 0.0, 0.0, 0.0, 0.0, 0.0, 0.0, 0.0, 0.0, 0.0, 0.0, 0.0, 0.0, 0.0, 0.0, 0.0, 0.0, 0.0, 0.0, 0.0, 0.0, 0.0, 0.0, 0.0, 0.0, 0.0, 0.0, 0.0, 0.0, 0.0, 0.0, 0.0, 0.0, 0.0, 0.0, 0.0, 0.0, 0.0, 0.0, 0.0, 0.0, 0.0, 0.0, 0.0, 0.0, 0.0, 0.0, 0.0, 0.0, 0.0, 0.0, 0.0, 0.0, 0.0, 1.0, 0.0, 0.0, 1.0, 0.0, 0.0, 0.0, 0.0, 0.0, 0.0, 0.0]]</td>\n",
       "    </tr>\n",
       "  </tbody>\n",
       "</table>\n",
       "</div>"
      ],
      "text/plain": [
       "  name inferred_type  numerical_statistics.common.num_present  \\\n",
       "0  _c0    Fractional                                      100   \n",
       "1  _c1    Fractional                                      100   \n",
       "2  _c2    Fractional                                      100   \n",
       "3  _c3    Fractional                                      100   \n",
       "4  _c4    Fractional                                      100   \n",
       "\n",
       "   numerical_statistics.common.num_missing  numerical_statistics.mean  \\\n",
       "0                                        0                     -99.99   \n",
       "1                                        0                       2.62   \n",
       "2                                        0                       0.05   \n",
       "3                                        0                       0.06   \n",
       "4                                        0                       0.02   \n",
       "\n",
       "   numerical_statistics.sum  numerical_statistics.std_dev  \\\n",
       "0                   -9999.0                      0.000000   \n",
       "1                     262.0                      2.777697   \n",
       "2                       5.0                      0.217945   \n",
       "3                       6.0                      0.237487   \n",
       "4                       2.0                      0.140000   \n",
       "\n",
       "   numerical_statistics.min  numerical_statistics.max  \\\n",
       "0                    -99.99                    -99.99   \n",
       "1                      1.00                     22.00   \n",
       "2                      0.00                      1.00   \n",
       "3                      0.00                      1.00   \n",
       "4                      0.00                      1.00   \n",
       "\n",
       "                                                                                                                                                                                                                                                                                                                                                                                                                                                                                                                                                                                                    numerical_statistics.distribution.kll.buckets  \\\n",
       "0  [{'lower_bound': -99.99, 'upper_bound': -99.99, 'count': 0.0}, {'lower_bound': -99.99, 'upper_bound': -99.99, 'count': 0.0}, {'lower_bound': -99.99, 'upper_bound': -99.99, 'count': 0.0}, {'lower_bound': -99.99, 'upper_bound': -99.99, 'count': 0.0}, {'lower_bound': -99.99, 'upper_bound': -99.99, 'count': 0.0}, {'lower_bound': -99.99, 'upper_bound': -99.99, 'count': 0.0}, {'lower_bound': -99.99, 'upper_bound': -99.99, 'count': 0.0}, {'lower_bound': -99.99, 'upper_bound': -99.99, 'count': 0.0}, {'lower_bound': -99.99, 'upper_bound': -99.99, 'count': 0.0}, {'lower_bound': -99.99, 'upper_bound': -99.99, 'count': 100.0}]   \n",
       "1                                                   [{'lower_bound': 1.0, 'upper_bound': 3.1, 'count': 82.0}, {'lower_bound': 3.1, 'upper_bound': 5.2, 'count': 10.0}, {'lower_bound': 5.2, 'upper_bound': 7.3, 'count': 2.0}, {'lower_bound': 7.3, 'upper_bound': 9.4, 'count': 3.0}, {'lower_bound': 9.4, 'upper_bound': 11.5, 'count': 2.0}, {'lower_bound': 11.5, 'upper_bound': 13.6, 'count': 0.0}, {'lower_bound': 13.6, 'upper_bound': 15.7, 'count': 0.0}, {'lower_bound': 15.7, 'upper_bound': 17.8, 'count': 0.0}, {'lower_bound': 17.8, 'upper_bound': 19.9, 'count': 0.0}, {'lower_bound': 19.9, 'upper_bound': 22.0, 'count': 1.0}]   \n",
       "2                                                               [{'lower_bound': 0.0, 'upper_bound': 0.1, 'count': 95.0}, {'lower_bound': 0.1, 'upper_bound': 0.2, 'count': 0.0}, {'lower_bound': 0.2, 'upper_bound': 0.3, 'count': 0.0}, {'lower_bound': 0.3, 'upper_bound': 0.4, 'count': 0.0}, {'lower_bound': 0.4, 'upper_bound': 0.5, 'count': 0.0}, {'lower_bound': 0.5, 'upper_bound': 0.6, 'count': 0.0}, {'lower_bound': 0.6, 'upper_bound': 0.7, 'count': 0.0}, {'lower_bound': 0.7, 'upper_bound': 0.8, 'count': 0.0}, {'lower_bound': 0.8, 'upper_bound': 0.9, 'count': 0.0}, {'lower_bound': 0.9, 'upper_bound': 1.0, 'count': 5.0}]   \n",
       "3                                                               [{'lower_bound': 0.0, 'upper_bound': 0.1, 'count': 94.0}, {'lower_bound': 0.1, 'upper_bound': 0.2, 'count': 0.0}, {'lower_bound': 0.2, 'upper_bound': 0.3, 'count': 0.0}, {'lower_bound': 0.3, 'upper_bound': 0.4, 'count': 0.0}, {'lower_bound': 0.4, 'upper_bound': 0.5, 'count': 0.0}, {'lower_bound': 0.5, 'upper_bound': 0.6, 'count': 0.0}, {'lower_bound': 0.6, 'upper_bound': 0.7, 'count': 0.0}, {'lower_bound': 0.7, 'upper_bound': 0.8, 'count': 0.0}, {'lower_bound': 0.8, 'upper_bound': 0.9, 'count': 0.0}, {'lower_bound': 0.9, 'upper_bound': 1.0, 'count': 6.0}]   \n",
       "4                                                               [{'lower_bound': 0.0, 'upper_bound': 0.1, 'count': 98.0}, {'lower_bound': 0.1, 'upper_bound': 0.2, 'count': 0.0}, {'lower_bound': 0.2, 'upper_bound': 0.3, 'count': 0.0}, {'lower_bound': 0.3, 'upper_bound': 0.4, 'count': 0.0}, {'lower_bound': 0.4, 'upper_bound': 0.5, 'count': 0.0}, {'lower_bound': 0.5, 'upper_bound': 0.6, 'count': 0.0}, {'lower_bound': 0.6, 'upper_bound': 0.7, 'count': 0.0}, {'lower_bound': 0.7, 'upper_bound': 0.8, 'count': 0.0}, {'lower_bound': 0.8, 'upper_bound': 0.9, 'count': 0.0}, {'lower_bound': 0.9, 'upper_bound': 1.0, 'count': 2.0}]   \n",
       "\n",
       "   numerical_statistics.distribution.kll.sketch.parameters.c  \\\n",
       "0                                                       0.64   \n",
       "1                                                       0.64   \n",
       "2                                                       0.64   \n",
       "3                                                       0.64   \n",
       "4                                                       0.64   \n",
       "\n",
       "   numerical_statistics.distribution.kll.sketch.parameters.k  \\\n",
       "0                                                     2048.0   \n",
       "1                                                     2048.0   \n",
       "2                                                     2048.0   \n",
       "3                                                     2048.0   \n",
       "4                                                     2048.0   \n",
       "\n",
       "                                                                                                                                                                                                                                                                                                                                                                                                                                                                                                                                                                                                                                                                                                                                                                                    numerical_statistics.distribution.kll.sketch.data  \n",
       "0  [[-99.99, -99.99, -99.99, -99.99, -99.99, -99.99, -99.99, -99.99, -99.99, -99.99, -99.99, -99.99, -99.99, -99.99, -99.99, -99.99, -99.99, -99.99, -99.99, -99.99, -99.99, -99.99, -99.99, -99.99, -99.99, -99.99, -99.99, -99.99, -99.99, -99.99, -99.99, -99.99, -99.99, -99.99, -99.99, -99.99, -99.99, -99.99, -99.99, -99.99, -99.99, -99.99, -99.99, -99.99, -99.99, -99.99, -99.99, -99.99, -99.99, -99.99, -99.99, -99.99, -99.99, -99.99, -99.99, -99.99, -99.99, -99.99, -99.99, -99.99, -99.99, -99.99, -99.99, -99.99, -99.99, -99.99, -99.99, -99.99, -99.99, -99.99, -99.99, -99.99, -99.99, -99.99, -99.99, -99.99, -99.99, -99.99, -99.99, -99.99, -99.99, -99.99, -99.99, -99.99, -99.99, -99.99, -99.99, -99.99, -99.99, -99.99, -99.99, -99.99, -99.99, -99.99, -99.99, -99.99, -99.99, -99.99, -99.99, -99.99]]  \n",
       "1                                                                                                                                                                                                                                                                                                           [[1.0, 3.0, 4.0, 2.0, 1.0, 5.0, 22.0, 4.0, 3.0, 3.0, 2.0, 2.0, 3.0, 10.0, 1.0, 1.0, 1.0, 1.0, 3.0, 2.0, 1.0, 1.0, 1.0, 1.0, 1.0, 3.0, 1.0, 3.0, 1.0, 3.0, 1.0, 2.0, 3.0, 3.0, 1.0, 3.0, 1.0, 1.0, 10.0, 1.0, 1.0, 1.0, 3.0, 1.0, 5.0, 2.0, 6.0, 4.0, 1.0, 1.0, 1.0, 1.0, 3.0, 3.0, 1.0, 4.0, 1.0, 2.0, 1.0, 3.0, 5.0, 2.0, 1.0, 1.0, 6.0, 8.0, 5.0, 3.0, 2.0, 1.0, 4.0, 1.0, 2.0, 2.0, 1.0, 1.0, 3.0, 4.0, 3.0, 3.0, 1.0, 8.0, 1.0, 2.0, 2.0, 3.0, 1.0, 1.0, 1.0, 1.0, 1.0, 1.0, 3.0, 9.0, 1.0, 1.0, 3.0, 1.0, 1.0, 1.0]]  \n",
       "2                                                                                                                                                                                                                                                                                                              [[0.0, 1.0, 0.0, 0.0, 0.0, 0.0, 1.0, 0.0, 0.0, 0.0, 0.0, 0.0, 0.0, 0.0, 0.0, 0.0, 0.0, 0.0, 0.0, 0.0, 0.0, 0.0, 0.0, 0.0, 0.0, 0.0, 0.0, 0.0, 0.0, 0.0, 0.0, 0.0, 1.0, 0.0, 0.0, 0.0, 0.0, 0.0, 0.0, 0.0, 0.0, 0.0, 0.0, 0.0, 0.0, 0.0, 0.0, 0.0, 0.0, 1.0, 0.0, 0.0, 0.0, 0.0, 0.0, 1.0, 0.0, 0.0, 0.0, 0.0, 0.0, 0.0, 0.0, 0.0, 0.0, 0.0, 0.0, 0.0, 0.0, 0.0, 0.0, 0.0, 0.0, 0.0, 0.0, 0.0, 0.0, 0.0, 0.0, 0.0, 0.0, 0.0, 0.0, 0.0, 0.0, 0.0, 0.0, 0.0, 0.0, 0.0, 0.0, 0.0, 0.0, 0.0, 0.0, 0.0, 0.0, 0.0, 0.0, 0.0]]  \n",
       "3                                                                                                                                                                                                                                                                                                              [[0.0, 0.0, 0.0, 0.0, 0.0, 0.0, 0.0, 0.0, 0.0, 1.0, 0.0, 0.0, 0.0, 0.0, 0.0, 0.0, 0.0, 0.0, 0.0, 0.0, 0.0, 1.0, 0.0, 0.0, 0.0, 0.0, 0.0, 0.0, 0.0, 0.0, 0.0, 0.0, 0.0, 0.0, 0.0, 0.0, 0.0, 0.0, 0.0, 0.0, 0.0, 0.0, 0.0, 0.0, 0.0, 0.0, 0.0, 0.0, 0.0, 0.0, 0.0, 0.0, 1.0, 0.0, 1.0, 0.0, 0.0, 0.0, 0.0, 0.0, 0.0, 0.0, 0.0, 0.0, 0.0, 0.0, 0.0, 0.0, 0.0, 0.0, 0.0, 0.0, 1.0, 0.0, 0.0, 0.0, 0.0, 0.0, 0.0, 0.0, 0.0, 0.0, 0.0, 0.0, 0.0, 0.0, 0.0, 1.0, 0.0, 0.0, 0.0, 0.0, 0.0, 0.0, 0.0, 0.0, 0.0, 0.0, 0.0, 0.0]]  \n",
       "4                                                                                                                                                                                                                                                                                                              [[0.0, 0.0, 0.0, 0.0, 0.0, 0.0, 0.0, 0.0, 0.0, 0.0, 0.0, 0.0, 0.0, 0.0, 0.0, 0.0, 0.0, 0.0, 0.0, 0.0, 0.0, 0.0, 0.0, 0.0, 0.0, 0.0, 0.0, 0.0, 0.0, 0.0, 0.0, 0.0, 0.0, 0.0, 0.0, 0.0, 0.0, 0.0, 0.0, 0.0, 0.0, 0.0, 0.0, 0.0, 0.0, 0.0, 0.0, 0.0, 0.0, 0.0, 0.0, 0.0, 0.0, 0.0, 0.0, 0.0, 0.0, 0.0, 0.0, 0.0, 0.0, 0.0, 0.0, 0.0, 0.0, 0.0, 0.0, 0.0, 0.0, 0.0, 0.0, 0.0, 0.0, 0.0, 0.0, 0.0, 0.0, 0.0, 0.0, 0.0, 0.0, 0.0, 0.0, 0.0, 0.0, 0.0, 0.0, 0.0, 0.0, 1.0, 0.0, 0.0, 1.0, 0.0, 0.0, 0.0, 0.0, 0.0, 0.0, 0.0]]  "
      ]
     },
     "execution_count": 261,
     "metadata": {},
     "output_type": "execute_result"
    }
   ],
   "source": [
    "pd.json_normalize(statistics[\"features\"]).head()"
   ]
  },
  {
   "cell_type": "code",
   "execution_count": 262,
   "id": "1f56dec7-dd76-419a-ac0f-db7c18234044",
   "metadata": {
    "tags": []
   },
   "outputs": [
    {
     "data": {
      "text/html": [
       "<div>\n",
       "<style scoped>\n",
       "    .dataframe tbody tr th:only-of-type {\n",
       "        vertical-align: middle;\n",
       "    }\n",
       "\n",
       "    .dataframe tbody tr th {\n",
       "        vertical-align: top;\n",
       "    }\n",
       "\n",
       "    .dataframe thead th {\n",
       "        text-align: right;\n",
       "    }\n",
       "</style>\n",
       "<table border=\"1\" class=\"dataframe\">\n",
       "  <thead>\n",
       "    <tr style=\"text-align: right;\">\n",
       "      <th></th>\n",
       "      <th>name</th>\n",
       "      <th>inferred_type</th>\n",
       "      <th>completeness</th>\n",
       "      <th>num_constraints.is_non_negative</th>\n",
       "    </tr>\n",
       "  </thead>\n",
       "  <tbody>\n",
       "    <tr>\n",
       "      <th>0</th>\n",
       "      <td>_c0</td>\n",
       "      <td>Fractional</td>\n",
       "      <td>1.0</td>\n",
       "      <td>False</td>\n",
       "    </tr>\n",
       "    <tr>\n",
       "      <th>1</th>\n",
       "      <td>_c1</td>\n",
       "      <td>Fractional</td>\n",
       "      <td>1.0</td>\n",
       "      <td>True</td>\n",
       "    </tr>\n",
       "    <tr>\n",
       "      <th>2</th>\n",
       "      <td>_c2</td>\n",
       "      <td>Fractional</td>\n",
       "      <td>1.0</td>\n",
       "      <td>True</td>\n",
       "    </tr>\n",
       "    <tr>\n",
       "      <th>3</th>\n",
       "      <td>_c3</td>\n",
       "      <td>Fractional</td>\n",
       "      <td>1.0</td>\n",
       "      <td>True</td>\n",
       "    </tr>\n",
       "    <tr>\n",
       "      <th>4</th>\n",
       "      <td>_c4</td>\n",
       "      <td>Fractional</td>\n",
       "      <td>1.0</td>\n",
       "      <td>True</td>\n",
       "    </tr>\n",
       "  </tbody>\n",
       "</table>\n",
       "</div>"
      ],
      "text/plain": [
       "  name inferred_type  completeness  num_constraints.is_non_negative\n",
       "0  _c0    Fractional           1.0                            False\n",
       "1  _c1    Fractional           1.0                             True\n",
       "2  _c2    Fractional           1.0                             True\n",
       "3  _c3    Fractional           1.0                             True\n",
       "4  _c4    Fractional           1.0                             True"
      ]
     },
     "execution_count": 262,
     "metadata": {},
     "output_type": "execute_result"
    }
   ],
   "source": [
    "pd.json_normalize(constraints[\"features\"]).head()"
   ]
  },
  {
   "cell_type": "markdown",
   "id": "68e46a76-d556-4d75-8b38-454fba95d419",
   "metadata": {},
   "source": [
    "### List schedule executions and monitoring reports\n",
    "You created a hourly schedule above that begins executions on the hour plus 0-20 min buffer. You will have to wait till the clock hit the hour. You can also change the schedule.\n",
    "\n",
    "This section demonstrates how to work with scheduled monitoring job execution. The Python SDK class [`DefaultModelMonitor`](https://sagemaker.readthedocs.io/en/stable/api/inference/model_monitor.html#sagemaker.model_monitor.model_monitoring.DefaultModelMonitor) implements helper methods to load and see the executions and monitoring reports."
   ]
  },
  {
   "cell_type": "markdown",
   "id": "f301094d-8039-42a0-b17d-5539d26a7c87",
   "metadata": {},
   "source": [
    "List executions and view a monitoring job details:"
   ]
  },
  {
   "cell_type": "code",
   "execution_count": 189,
   "id": "0534df39-4cbc-4562-bef8-bbd2a776502e",
   "metadata": {
    "tags": []
   },
   "outputs": [
    {
     "name": "stdout",
     "output_type": "stream",
     "text": [
      "!Latest execution status: Completed\n",
      "Latest execution result: Completed: Job completed successfully with no violations.\n",
      "Report Uri: s3://sagemaker-us-east-1-906545278380/from-idea-to-prod/xgboost/baseline/reports/from-idea-to-prod-endpoint-13-15-39-04/from-idea-to-prod-data-monitor-schedule-2023-02-13-16-06-24/2023/02/13/17\n"
     ]
    }
   ],
   "source": [
    "latest_execution = get_latest_monitor_execution(data_monitor)"
   ]
  },
  {
   "cell_type": "markdown",
   "id": "c119d4c3-fca4-4146-9079-483f15df8b18",
   "metadata": {},
   "source": [
    "See details about the latest scheduled monitoring execution:"
   ]
  },
  {
   "cell_type": "code",
   "execution_count": 152,
   "id": "bef16c05-4f41-487d-9e4b-fb40780338e8",
   "metadata": {
    "tags": []
   },
   "outputs": [
    {
     "data": {
      "text/plain": [
       "{'ProcessingInputs': [{'InputName': 'baseline',\n",
       "   'AppManaged': False,\n",
       "   'S3Input': {'S3Uri': 's3://sagemaker-us-east-1-906545278380/from-idea-to-prod/xgboost/baseline/results/statistics.json',\n",
       "    'LocalPath': '/opt/ml/processing/baseline/stats',\n",
       "    'S3DataType': 'S3Prefix',\n",
       "    'S3InputMode': 'File',\n",
       "    'S3DataDistributionType': 'FullyReplicated'}},\n",
       "  {'InputName': 'constraints',\n",
       "   'AppManaged': False,\n",
       "   'S3Input': {'S3Uri': 's3://sagemaker-us-east-1-906545278380/from-idea-to-prod/xgboost/baseline/results/constraints.json',\n",
       "    'LocalPath': '/opt/ml/processing/baseline/constraints',\n",
       "    'S3DataType': 'S3Prefix',\n",
       "    'S3InputMode': 'File',\n",
       "    'S3DataDistributionType': 'FullyReplicated'}},\n",
       "  {'InputName': 'pre_processor_script',\n",
       "   'AppManaged': False,\n",
       "   'S3Input': {'S3Uri': 's3://sagemaker-us-east-1-906545278380/from-idea-to-prod/xgboost/code/record_preprocessor.py',\n",
       "    'LocalPath': '/opt/ml/processing/code/preprocessing',\n",
       "    'S3DataType': 'S3Prefix',\n",
       "    'S3InputMode': 'File',\n",
       "    'S3DataDistributionType': 'FullyReplicated'}},\n",
       "  {'InputName': 'endpoint_input_1',\n",
       "   'AppManaged': False,\n",
       "   'S3Input': {'S3Uri': 's3://sagemaker-us-east-1-906545278380/from-idea-to-prod/xgboost/data-capture/from-idea-to-prod-endpoint-13-15-39-04/AllTraffic/2023/02/13/16',\n",
       "    'LocalPath': '/opt/ml/processing/input/endpoint/from-idea-to-prod-endpoint-13-15-39-04/AllTraffic/2023/02/13/16',\n",
       "    'S3DataType': 'S3Prefix',\n",
       "    'S3InputMode': 'File',\n",
       "    'S3DataDistributionType': 'FullyReplicated',\n",
       "    'S3CompressionType': 'None'}}],\n",
       " 'ProcessingOutputConfig': {'Outputs': [{'OutputName': 'result',\n",
       "    'S3Output': {'S3Uri': 's3://sagemaker-us-east-1-906545278380/from-idea-to-prod/xgboost/baseline/reports/from-idea-to-prod-endpoint-13-15-39-04/from-idea-to-prod-data-monitor-schedule-2023-02-13-16-06-24/2023/02/13/17',\n",
       "     'LocalPath': '/opt/ml/processing/output',\n",
       "     'S3UploadMode': 'Continuous'},\n",
       "    'AppManaged': False}]},\n",
       " 'ProcessingJobName': 'model-monitoring-202302131700-2380a120b4182cad1daa9eb5',\n",
       " 'ProcessingResources': {'ClusterConfig': {'InstanceCount': 1,\n",
       "   'InstanceType': 'ml.m5.xlarge',\n",
       "   'VolumeSizeInGB': 20}},\n",
       " 'StoppingCondition': {'MaxRuntimeInSeconds': 3600},\n",
       " 'AppSpecification': {'ImageUri': '156813124566.dkr.ecr.us-east-1.amazonaws.com/sagemaker-model-monitor-analyzer'},\n",
       " 'Environment': {'baseline_constraints': '/opt/ml/processing/baseline/constraints/constraints.json',\n",
       "  'baseline_statistics': '/opt/ml/processing/baseline/stats/statistics.json',\n",
       "  'dataset_format': '{\"sagemakerCaptureJson\":{\"captureIndexNames\":[\"endpointInput\",\"endpointOutput\"]}}',\n",
       "  'dataset_source': '/opt/ml/processing/input/endpoint',\n",
       "  'end_time': '2023-02-13T17:00:00Z',\n",
       "  'metric_time': '2023-02-13T16:00:00Z',\n",
       "  'monitoring_input_type': 'ENDPOINT_INPUT',\n",
       "  'output_path': '/opt/ml/processing/output',\n",
       "  'publish_cloudwatch_metrics': 'Enabled',\n",
       "  'record_preprocessor_script': '/opt/ml/processing/code/preprocessing/record_preprocessor.py',\n",
       "  'sagemaker_endpoint_name': 'from-idea-to-prod-endpoint-13-15-39-04',\n",
       "  'sagemaker_monitoring_schedule_name': 'from-idea-to-prod-data-monitor-schedule-2023-02-13-16-06-24',\n",
       "  'start_time': '2023-02-13T16:00:00Z'},\n",
       " 'RoleArn': 'arn:aws:iam::906545278380:role/mlops-workshop-domain-SageMakerExecutionRole-1SVJGI42GHMS9',\n",
       " 'ProcessingJobArn': 'arn:aws:sagemaker:us-east-1:906545278380:processing-job/model-monitoring-202302131700-2380a120b4182cad1daa9eb5',\n",
       " 'ProcessingJobStatus': 'Completed',\n",
       " 'ExitMessage': 'Completed: Job completed successfully with no violations.',\n",
       " 'ProcessingEndTime': datetime.datetime(2023, 2, 13, 17, 8, 28, 379000, tzinfo=tzlocal()),\n",
       " 'ProcessingStartTime': datetime.datetime(2023, 2, 13, 17, 6, 45, 997000, tzinfo=tzlocal()),\n",
       " 'LastModifiedTime': datetime.datetime(2023, 2, 13, 17, 8, 28, 762000, tzinfo=tzlocal()),\n",
       " 'CreationTime': datetime.datetime(2023, 2, 13, 17, 1, 49, 55000, tzinfo=tzlocal()),\n",
       " 'MonitoringScheduleArn': 'arn:aws:sagemaker:us-east-1:906545278380:monitoring-schedule/from-idea-to-prod-data-monitor-schedule-2023-02-13-16-06-24',\n",
       " 'ResponseMetadata': {'RequestId': '6307a29b-f92e-47c2-86e5-b84e8162b6df',\n",
       "  'HTTPStatusCode': 200,\n",
       "  'HTTPHeaders': {'x-amzn-requestid': '6307a29b-f92e-47c2-86e5-b84e8162b6df',\n",
       "   'content-type': 'application/x-amz-json-1.1',\n",
       "   'content-length': '3551',\n",
       "   'date': 'Mon, 13 Feb 2023 18:08:17 GMT'},\n",
       "  'RetryAttempts': 0}}"
      ]
     },
     "execution_count": 152,
     "metadata": {},
     "output_type": "execute_result"
    }
   ],
   "source": [
    "latest_execution.describe()"
   ]
  },
  {
   "cell_type": "markdown",
   "id": "898dc7bb-364f-40c0-9181-9130fe2ec9d7",
   "metadata": {},
   "source": [
    "Get the latest execution statistics and constraint violations as objects:"
   ]
  },
  {
   "cell_type": "code",
   "execution_count": 153,
   "id": "4a9a5590-5fc9-4fd5-a094-33c5fc2c996d",
   "metadata": {
    "tags": []
   },
   "outputs": [],
   "source": [
    "last_execution_statistics = latest_execution.statistics()\n",
    "last_execution_violations = latest_execution.constraint_violations()"
   ]
  },
  {
   "cell_type": "markdown",
   "id": "8bdeae78-a391-4f36-a781-95024b7bc9c1",
   "metadata": {},
   "source": [
    "Load reports into Pandas DataFrame:"
   ]
  },
  {
   "cell_type": "code",
   "execution_count": 155,
   "id": "c8f37f50-6aed-4489-b50d-a8476ace0ee6",
   "metadata": {
    "tags": []
   },
   "outputs": [
    {
     "data": {
      "text/html": [
       "<div>\n",
       "<style scoped>\n",
       "    .dataframe tbody tr th:only-of-type {\n",
       "        vertical-align: middle;\n",
       "    }\n",
       "\n",
       "    .dataframe tbody tr th {\n",
       "        vertical-align: top;\n",
       "    }\n",
       "\n",
       "    .dataframe thead th {\n",
       "        text-align: right;\n",
       "    }\n",
       "</style>\n",
       "<table border=\"1\" class=\"dataframe\">\n",
       "  <thead>\n",
       "    <tr style=\"text-align: right;\">\n",
       "      <th></th>\n",
       "      <th>name</th>\n",
       "      <th>inferred_type</th>\n",
       "      <th>numerical_statistics.common.num_present</th>\n",
       "      <th>numerical_statistics.common.num_missing</th>\n",
       "      <th>numerical_statistics.mean</th>\n",
       "      <th>numerical_statistics.sum</th>\n",
       "      <th>numerical_statistics.std_dev</th>\n",
       "      <th>numerical_statistics.min</th>\n",
       "      <th>numerical_statistics.max</th>\n",
       "      <th>numerical_statistics.distribution.kll.buckets</th>\n",
       "      <th>numerical_statistics.distribution.kll.sketch.parameters.c</th>\n",
       "      <th>numerical_statistics.distribution.kll.sketch.parameters.k</th>\n",
       "      <th>numerical_statistics.distribution.kll.sketch.data</th>\n",
       "    </tr>\n",
       "  </thead>\n",
       "  <tbody>\n",
       "    <tr>\n",
       "      <th>0</th>\n",
       "      <td>_c0</td>\n",
       "      <td>Integral</td>\n",
       "      <td>100</td>\n",
       "      <td>0</td>\n",
       "      <td>-100.00</td>\n",
       "      <td>-10000.0</td>\n",
       "      <td>0.000000</td>\n",
       "      <td>-100.0</td>\n",
       "      <td>-100.0</td>\n",
       "      <td>[{'lower_bound': -100.0, 'upper_bound': -100.0, 'count': 0.0}, {'lower_bound': -100.0, 'upper_bound': -100.0, 'count': 0.0}, {'lower_bound': -100.0, 'upper_bound': -100.0, 'count': 0.0}, {'lower_bound': -100.0, 'upper_bound': -100.0, 'count': 0.0}, {'lower_bound': -100.0, 'upper_bound': -100.0, 'count': 0.0}, {'lower_bound': -100.0, 'upper_bound': -100.0, 'count': 0.0}, {'lower_bound': -100.0, 'upper_bound': -100.0, 'count': 0.0}, {'lower_bound': -100.0, 'upper_bound': -100.0, 'count': 0.0}, {'lower_bound': -100.0, 'upper_bound': -100.0, 'count': 0.0}, {'lower_bound': -100.0, 'upper_bound': -100.0, 'count': 100.0}]</td>\n",
       "      <td>0.64</td>\n",
       "      <td>2048.0</td>\n",
       "      <td>[[-100.0, -100.0, -100.0, -100.0, -100.0, -100.0, -100.0, -100.0, -100.0, -100.0, -100.0, -100.0, -100.0, -100.0, -100.0, -100.0, -100.0, -100.0, -100.0, -100.0, -100.0, -100.0, -100.0, -100.0, -100.0, -100.0, -100.0, -100.0, -100.0, -100.0, -100.0, -100.0, -100.0, -100.0, -100.0, -100.0, -100.0, -100.0, -100.0, -100.0, -100.0, -100.0, -100.0, -100.0, -100.0, -100.0, -100.0, -100.0, -100.0, -100.0, -100.0, -100.0, -100.0, -100.0, -100.0, -100.0, -100.0, -100.0, -100.0, -100.0, -100.0, -100.0, -100.0, -100.0, -100.0, -100.0, -100.0, -100.0, -100.0, -100.0, -100.0, -100.0, -100.0, -100.0, -100.0, -100.0, -100.0, -100.0, -100.0, -100.0, -100.0, -100.0, -100.0, -100.0, -100.0, -100.0, -100.0, -100.0, -100.0, -100.0, -100.0, -100.0, -100.0, -100.0, -100.0, -100.0, -100.0, -100.0, -100.0, -100.0]]</td>\n",
       "    </tr>\n",
       "    <tr>\n",
       "      <th>1</th>\n",
       "      <td>_c1</td>\n",
       "      <td>Integral</td>\n",
       "      <td>100</td>\n",
       "      <td>0</td>\n",
       "      <td>2.62</td>\n",
       "      <td>262.0</td>\n",
       "      <td>2.777697</td>\n",
       "      <td>1.0</td>\n",
       "      <td>22.0</td>\n",
       "      <td>[{'lower_bound': 1.0, 'upper_bound': 3.1, 'count': 82.0}, {'lower_bound': 3.1, 'upper_bound': 5.2, 'count': 10.0}, {'lower_bound': 5.2, 'upper_bound': 7.3, 'count': 2.0}, {'lower_bound': 7.3, 'upper_bound': 9.4, 'count': 3.0}, {'lower_bound': 9.4, 'upper_bound': 11.5, 'count': 2.0}, {'lower_bound': 11.5, 'upper_bound': 13.6, 'count': 0.0}, {'lower_bound': 13.6, 'upper_bound': 15.7, 'count': 0.0}, {'lower_bound': 15.7, 'upper_bound': 17.8, 'count': 0.0}, {'lower_bound': 17.8, 'upper_bound': 19.9, 'count': 0.0}, {'lower_bound': 19.9, 'upper_bound': 22.0, 'count': 1.0}]</td>\n",
       "      <td>0.64</td>\n",
       "      <td>2048.0</td>\n",
       "      <td>[[1.0, 3.0, 4.0, 2.0, 1.0, 5.0, 22.0, 4.0, 3.0, 3.0, 2.0, 2.0, 3.0, 10.0, 1.0, 1.0, 1.0, 1.0, 3.0, 2.0, 1.0, 1.0, 1.0, 1.0, 1.0, 3.0, 1.0, 3.0, 1.0, 3.0, 1.0, 2.0, 3.0, 3.0, 1.0, 3.0, 1.0, 1.0, 10.0, 1.0, 1.0, 1.0, 3.0, 1.0, 5.0, 2.0, 6.0, 4.0, 1.0, 1.0, 1.0, 1.0, 3.0, 3.0, 1.0, 4.0, 1.0, 2.0, 1.0, 3.0, 5.0, 2.0, 1.0, 1.0, 6.0, 8.0, 5.0, 3.0, 2.0, 1.0, 4.0, 1.0, 2.0, 2.0, 1.0, 1.0, 3.0, 4.0, 3.0, 3.0, 1.0, 8.0, 1.0, 2.0, 2.0, 3.0, 1.0, 1.0, 1.0, 1.0, 1.0, 1.0, 3.0, 9.0, 1.0, 1.0, 3.0, 1.0, 1.0, 1.0]]</td>\n",
       "    </tr>\n",
       "    <tr>\n",
       "      <th>2</th>\n",
       "      <td>_c2</td>\n",
       "      <td>Integral</td>\n",
       "      <td>100</td>\n",
       "      <td>0</td>\n",
       "      <td>0.05</td>\n",
       "      <td>5.0</td>\n",
       "      <td>0.217945</td>\n",
       "      <td>0.0</td>\n",
       "      <td>1.0</td>\n",
       "      <td>[{'lower_bound': 0.0, 'upper_bound': 0.1, 'count': 95.0}, {'lower_bound': 0.1, 'upper_bound': 0.2, 'count': 0.0}, {'lower_bound': 0.2, 'upper_bound': 0.3, 'count': 0.0}, {'lower_bound': 0.3, 'upper_bound': 0.4, 'count': 0.0}, {'lower_bound': 0.4, 'upper_bound': 0.5, 'count': 0.0}, {'lower_bound': 0.5, 'upper_bound': 0.6, 'count': 0.0}, {'lower_bound': 0.6, 'upper_bound': 0.7, 'count': 0.0}, {'lower_bound': 0.7, 'upper_bound': 0.8, 'count': 0.0}, {'lower_bound': 0.8, 'upper_bound': 0.9, 'count': 0.0}, {'lower_bound': 0.9, 'upper_bound': 1.0, 'count': 5.0}]</td>\n",
       "      <td>0.64</td>\n",
       "      <td>2048.0</td>\n",
       "      <td>[[0.0, 1.0, 0.0, 0.0, 0.0, 0.0, 1.0, 0.0, 0.0, 0.0, 0.0, 0.0, 0.0, 0.0, 0.0, 0.0, 0.0, 0.0, 0.0, 0.0, 0.0, 0.0, 0.0, 0.0, 0.0, 0.0, 0.0, 0.0, 0.0, 0.0, 0.0, 0.0, 1.0, 0.0, 0.0, 0.0, 0.0, 0.0, 0.0, 0.0, 0.0, 0.0, 0.0, 0.0, 0.0, 0.0, 0.0, 0.0, 0.0, 1.0, 0.0, 0.0, 0.0, 0.0, 0.0, 1.0, 0.0, 0.0, 0.0, 0.0, 0.0, 0.0, 0.0, 0.0, 0.0, 0.0, 0.0, 0.0, 0.0, 0.0, 0.0, 0.0, 0.0, 0.0, 0.0, 0.0, 0.0, 0.0, 0.0, 0.0, 0.0, 0.0, 0.0, 0.0, 0.0, 0.0, 0.0, 0.0, 0.0, 0.0, 0.0, 0.0, 0.0, 0.0, 0.0, 0.0, 0.0, 0.0, 0.0, 0.0]]</td>\n",
       "    </tr>\n",
       "    <tr>\n",
       "      <th>3</th>\n",
       "      <td>_c3</td>\n",
       "      <td>Integral</td>\n",
       "      <td>100</td>\n",
       "      <td>0</td>\n",
       "      <td>0.06</td>\n",
       "      <td>6.0</td>\n",
       "      <td>0.237487</td>\n",
       "      <td>0.0</td>\n",
       "      <td>1.0</td>\n",
       "      <td>[{'lower_bound': 0.0, 'upper_bound': 0.1, 'count': 94.0}, {'lower_bound': 0.1, 'upper_bound': 0.2, 'count': 0.0}, {'lower_bound': 0.2, 'upper_bound': 0.3, 'count': 0.0}, {'lower_bound': 0.3, 'upper_bound': 0.4, 'count': 0.0}, {'lower_bound': 0.4, 'upper_bound': 0.5, 'count': 0.0}, {'lower_bound': 0.5, 'upper_bound': 0.6, 'count': 0.0}, {'lower_bound': 0.6, 'upper_bound': 0.7, 'count': 0.0}, {'lower_bound': 0.7, 'upper_bound': 0.8, 'count': 0.0}, {'lower_bound': 0.8, 'upper_bound': 0.9, 'count': 0.0}, {'lower_bound': 0.9, 'upper_bound': 1.0, 'count': 6.0}]</td>\n",
       "      <td>0.64</td>\n",
       "      <td>2048.0</td>\n",
       "      <td>[[0.0, 0.0, 0.0, 0.0, 0.0, 0.0, 0.0, 0.0, 0.0, 1.0, 0.0, 0.0, 0.0, 0.0, 0.0, 0.0, 0.0, 0.0, 0.0, 0.0, 0.0, 1.0, 0.0, 0.0, 0.0, 0.0, 0.0, 0.0, 0.0, 0.0, 0.0, 0.0, 0.0, 0.0, 0.0, 0.0, 0.0, 0.0, 0.0, 0.0, 0.0, 0.0, 0.0, 0.0, 0.0, 0.0, 0.0, 0.0, 0.0, 0.0, 0.0, 0.0, 1.0, 0.0, 1.0, 0.0, 0.0, 0.0, 0.0, 0.0, 0.0, 0.0, 0.0, 0.0, 0.0, 0.0, 0.0, 0.0, 0.0, 0.0, 0.0, 0.0, 1.0, 0.0, 0.0, 0.0, 0.0, 0.0, 0.0, 0.0, 0.0, 0.0, 0.0, 0.0, 0.0, 0.0, 0.0, 1.0, 0.0, 0.0, 0.0, 0.0, 0.0, 0.0, 0.0, 0.0, 0.0, 0.0, 0.0, 0.0]]</td>\n",
       "    </tr>\n",
       "    <tr>\n",
       "      <th>4</th>\n",
       "      <td>_c4</td>\n",
       "      <td>Integral</td>\n",
       "      <td>100</td>\n",
       "      <td>0</td>\n",
       "      <td>0.02</td>\n",
       "      <td>2.0</td>\n",
       "      <td>0.140000</td>\n",
       "      <td>0.0</td>\n",
       "      <td>1.0</td>\n",
       "      <td>[{'lower_bound': 0.0, 'upper_bound': 0.1, 'count': 98.0}, {'lower_bound': 0.1, 'upper_bound': 0.2, 'count': 0.0}, {'lower_bound': 0.2, 'upper_bound': 0.3, 'count': 0.0}, {'lower_bound': 0.3, 'upper_bound': 0.4, 'count': 0.0}, {'lower_bound': 0.4, 'upper_bound': 0.5, 'count': 0.0}, {'lower_bound': 0.5, 'upper_bound': 0.6, 'count': 0.0}, {'lower_bound': 0.6, 'upper_bound': 0.7, 'count': 0.0}, {'lower_bound': 0.7, 'upper_bound': 0.8, 'count': 0.0}, {'lower_bound': 0.8, 'upper_bound': 0.9, 'count': 0.0}, {'lower_bound': 0.9, 'upper_bound': 1.0, 'count': 2.0}]</td>\n",
       "      <td>0.64</td>\n",
       "      <td>2048.0</td>\n",
       "      <td>[[0.0, 0.0, 0.0, 0.0, 0.0, 0.0, 0.0, 0.0, 0.0, 0.0, 0.0, 0.0, 0.0, 0.0, 0.0, 0.0, 0.0, 0.0, 0.0, 0.0, 0.0, 0.0, 0.0, 0.0, 0.0, 0.0, 0.0, 0.0, 0.0, 0.0, 0.0, 0.0, 0.0, 0.0, 0.0, 0.0, 0.0, 0.0, 0.0, 0.0, 0.0, 0.0, 0.0, 0.0, 0.0, 0.0, 0.0, 0.0, 0.0, 0.0, 0.0, 0.0, 0.0, 0.0, 0.0, 0.0, 0.0, 0.0, 0.0, 0.0, 0.0, 0.0, 0.0, 0.0, 0.0, 0.0, 0.0, 0.0, 0.0, 0.0, 0.0, 0.0, 0.0, 0.0, 0.0, 0.0, 0.0, 0.0, 0.0, 0.0, 0.0, 0.0, 0.0, 0.0, 0.0, 0.0, 0.0, 0.0, 0.0, 1.0, 0.0, 0.0, 1.0, 0.0, 0.0, 0.0, 0.0, 0.0, 0.0, 0.0]]</td>\n",
       "    </tr>\n",
       "  </tbody>\n",
       "</table>\n",
       "</div>"
      ],
      "text/plain": [
       "  name inferred_type  numerical_statistics.common.num_present  \\\n",
       "0  _c0      Integral                                      100   \n",
       "1  _c1      Integral                                      100   \n",
       "2  _c2      Integral                                      100   \n",
       "3  _c3      Integral                                      100   \n",
       "4  _c4      Integral                                      100   \n",
       "\n",
       "   numerical_statistics.common.num_missing  numerical_statistics.mean  \\\n",
       "0                                        0                    -100.00   \n",
       "1                                        0                       2.62   \n",
       "2                                        0                       0.05   \n",
       "3                                        0                       0.06   \n",
       "4                                        0                       0.02   \n",
       "\n",
       "   numerical_statistics.sum  numerical_statistics.std_dev  \\\n",
       "0                  -10000.0                      0.000000   \n",
       "1                     262.0                      2.777697   \n",
       "2                       5.0                      0.217945   \n",
       "3                       6.0                      0.237487   \n",
       "4                       2.0                      0.140000   \n",
       "\n",
       "   numerical_statistics.min  numerical_statistics.max  \\\n",
       "0                    -100.0                    -100.0   \n",
       "1                       1.0                      22.0   \n",
       "2                       0.0                       1.0   \n",
       "3                       0.0                       1.0   \n",
       "4                       0.0                       1.0   \n",
       "\n",
       "                                                                                                                                                                                                                                                                                                                                                                                                                                                                                                                                                                                                    numerical_statistics.distribution.kll.buckets  \\\n",
       "0  [{'lower_bound': -100.0, 'upper_bound': -100.0, 'count': 0.0}, {'lower_bound': -100.0, 'upper_bound': -100.0, 'count': 0.0}, {'lower_bound': -100.0, 'upper_bound': -100.0, 'count': 0.0}, {'lower_bound': -100.0, 'upper_bound': -100.0, 'count': 0.0}, {'lower_bound': -100.0, 'upper_bound': -100.0, 'count': 0.0}, {'lower_bound': -100.0, 'upper_bound': -100.0, 'count': 0.0}, {'lower_bound': -100.0, 'upper_bound': -100.0, 'count': 0.0}, {'lower_bound': -100.0, 'upper_bound': -100.0, 'count': 0.0}, {'lower_bound': -100.0, 'upper_bound': -100.0, 'count': 0.0}, {'lower_bound': -100.0, 'upper_bound': -100.0, 'count': 100.0}]   \n",
       "1                                                   [{'lower_bound': 1.0, 'upper_bound': 3.1, 'count': 82.0}, {'lower_bound': 3.1, 'upper_bound': 5.2, 'count': 10.0}, {'lower_bound': 5.2, 'upper_bound': 7.3, 'count': 2.0}, {'lower_bound': 7.3, 'upper_bound': 9.4, 'count': 3.0}, {'lower_bound': 9.4, 'upper_bound': 11.5, 'count': 2.0}, {'lower_bound': 11.5, 'upper_bound': 13.6, 'count': 0.0}, {'lower_bound': 13.6, 'upper_bound': 15.7, 'count': 0.0}, {'lower_bound': 15.7, 'upper_bound': 17.8, 'count': 0.0}, {'lower_bound': 17.8, 'upper_bound': 19.9, 'count': 0.0}, {'lower_bound': 19.9, 'upper_bound': 22.0, 'count': 1.0}]   \n",
       "2                                                               [{'lower_bound': 0.0, 'upper_bound': 0.1, 'count': 95.0}, {'lower_bound': 0.1, 'upper_bound': 0.2, 'count': 0.0}, {'lower_bound': 0.2, 'upper_bound': 0.3, 'count': 0.0}, {'lower_bound': 0.3, 'upper_bound': 0.4, 'count': 0.0}, {'lower_bound': 0.4, 'upper_bound': 0.5, 'count': 0.0}, {'lower_bound': 0.5, 'upper_bound': 0.6, 'count': 0.0}, {'lower_bound': 0.6, 'upper_bound': 0.7, 'count': 0.0}, {'lower_bound': 0.7, 'upper_bound': 0.8, 'count': 0.0}, {'lower_bound': 0.8, 'upper_bound': 0.9, 'count': 0.0}, {'lower_bound': 0.9, 'upper_bound': 1.0, 'count': 5.0}]   \n",
       "3                                                               [{'lower_bound': 0.0, 'upper_bound': 0.1, 'count': 94.0}, {'lower_bound': 0.1, 'upper_bound': 0.2, 'count': 0.0}, {'lower_bound': 0.2, 'upper_bound': 0.3, 'count': 0.0}, {'lower_bound': 0.3, 'upper_bound': 0.4, 'count': 0.0}, {'lower_bound': 0.4, 'upper_bound': 0.5, 'count': 0.0}, {'lower_bound': 0.5, 'upper_bound': 0.6, 'count': 0.0}, {'lower_bound': 0.6, 'upper_bound': 0.7, 'count': 0.0}, {'lower_bound': 0.7, 'upper_bound': 0.8, 'count': 0.0}, {'lower_bound': 0.8, 'upper_bound': 0.9, 'count': 0.0}, {'lower_bound': 0.9, 'upper_bound': 1.0, 'count': 6.0}]   \n",
       "4                                                               [{'lower_bound': 0.0, 'upper_bound': 0.1, 'count': 98.0}, {'lower_bound': 0.1, 'upper_bound': 0.2, 'count': 0.0}, {'lower_bound': 0.2, 'upper_bound': 0.3, 'count': 0.0}, {'lower_bound': 0.3, 'upper_bound': 0.4, 'count': 0.0}, {'lower_bound': 0.4, 'upper_bound': 0.5, 'count': 0.0}, {'lower_bound': 0.5, 'upper_bound': 0.6, 'count': 0.0}, {'lower_bound': 0.6, 'upper_bound': 0.7, 'count': 0.0}, {'lower_bound': 0.7, 'upper_bound': 0.8, 'count': 0.0}, {'lower_bound': 0.8, 'upper_bound': 0.9, 'count': 0.0}, {'lower_bound': 0.9, 'upper_bound': 1.0, 'count': 2.0}]   \n",
       "\n",
       "   numerical_statistics.distribution.kll.sketch.parameters.c  \\\n",
       "0                                                       0.64   \n",
       "1                                                       0.64   \n",
       "2                                                       0.64   \n",
       "3                                                       0.64   \n",
       "4                                                       0.64   \n",
       "\n",
       "   numerical_statistics.distribution.kll.sketch.parameters.k  \\\n",
       "0                                                     2048.0   \n",
       "1                                                     2048.0   \n",
       "2                                                     2048.0   \n",
       "3                                                     2048.0   \n",
       "4                                                     2048.0   \n",
       "\n",
       "                                                                                                                                                                                                                                                                                                                                                                                                                                                                                                                                                                                                                                                                                                                                                                                    numerical_statistics.distribution.kll.sketch.data  \n",
       "0  [[-100.0, -100.0, -100.0, -100.0, -100.0, -100.0, -100.0, -100.0, -100.0, -100.0, -100.0, -100.0, -100.0, -100.0, -100.0, -100.0, -100.0, -100.0, -100.0, -100.0, -100.0, -100.0, -100.0, -100.0, -100.0, -100.0, -100.0, -100.0, -100.0, -100.0, -100.0, -100.0, -100.0, -100.0, -100.0, -100.0, -100.0, -100.0, -100.0, -100.0, -100.0, -100.0, -100.0, -100.0, -100.0, -100.0, -100.0, -100.0, -100.0, -100.0, -100.0, -100.0, -100.0, -100.0, -100.0, -100.0, -100.0, -100.0, -100.0, -100.0, -100.0, -100.0, -100.0, -100.0, -100.0, -100.0, -100.0, -100.0, -100.0, -100.0, -100.0, -100.0, -100.0, -100.0, -100.0, -100.0, -100.0, -100.0, -100.0, -100.0, -100.0, -100.0, -100.0, -100.0, -100.0, -100.0, -100.0, -100.0, -100.0, -100.0, -100.0, -100.0, -100.0, -100.0, -100.0, -100.0, -100.0, -100.0, -100.0, -100.0]]  \n",
       "1                                                                                                                                                                                                                                                                                                           [[1.0, 3.0, 4.0, 2.0, 1.0, 5.0, 22.0, 4.0, 3.0, 3.0, 2.0, 2.0, 3.0, 10.0, 1.0, 1.0, 1.0, 1.0, 3.0, 2.0, 1.0, 1.0, 1.0, 1.0, 1.0, 3.0, 1.0, 3.0, 1.0, 3.0, 1.0, 2.0, 3.0, 3.0, 1.0, 3.0, 1.0, 1.0, 10.0, 1.0, 1.0, 1.0, 3.0, 1.0, 5.0, 2.0, 6.0, 4.0, 1.0, 1.0, 1.0, 1.0, 3.0, 3.0, 1.0, 4.0, 1.0, 2.0, 1.0, 3.0, 5.0, 2.0, 1.0, 1.0, 6.0, 8.0, 5.0, 3.0, 2.0, 1.0, 4.0, 1.0, 2.0, 2.0, 1.0, 1.0, 3.0, 4.0, 3.0, 3.0, 1.0, 8.0, 1.0, 2.0, 2.0, 3.0, 1.0, 1.0, 1.0, 1.0, 1.0, 1.0, 3.0, 9.0, 1.0, 1.0, 3.0, 1.0, 1.0, 1.0]]  \n",
       "2                                                                                                                                                                                                                                                                                                              [[0.0, 1.0, 0.0, 0.0, 0.0, 0.0, 1.0, 0.0, 0.0, 0.0, 0.0, 0.0, 0.0, 0.0, 0.0, 0.0, 0.0, 0.0, 0.0, 0.0, 0.0, 0.0, 0.0, 0.0, 0.0, 0.0, 0.0, 0.0, 0.0, 0.0, 0.0, 0.0, 1.0, 0.0, 0.0, 0.0, 0.0, 0.0, 0.0, 0.0, 0.0, 0.0, 0.0, 0.0, 0.0, 0.0, 0.0, 0.0, 0.0, 1.0, 0.0, 0.0, 0.0, 0.0, 0.0, 1.0, 0.0, 0.0, 0.0, 0.0, 0.0, 0.0, 0.0, 0.0, 0.0, 0.0, 0.0, 0.0, 0.0, 0.0, 0.0, 0.0, 0.0, 0.0, 0.0, 0.0, 0.0, 0.0, 0.0, 0.0, 0.0, 0.0, 0.0, 0.0, 0.0, 0.0, 0.0, 0.0, 0.0, 0.0, 0.0, 0.0, 0.0, 0.0, 0.0, 0.0, 0.0, 0.0, 0.0, 0.0]]  \n",
       "3                                                                                                                                                                                                                                                                                                              [[0.0, 0.0, 0.0, 0.0, 0.0, 0.0, 0.0, 0.0, 0.0, 1.0, 0.0, 0.0, 0.0, 0.0, 0.0, 0.0, 0.0, 0.0, 0.0, 0.0, 0.0, 1.0, 0.0, 0.0, 0.0, 0.0, 0.0, 0.0, 0.0, 0.0, 0.0, 0.0, 0.0, 0.0, 0.0, 0.0, 0.0, 0.0, 0.0, 0.0, 0.0, 0.0, 0.0, 0.0, 0.0, 0.0, 0.0, 0.0, 0.0, 0.0, 0.0, 0.0, 1.0, 0.0, 1.0, 0.0, 0.0, 0.0, 0.0, 0.0, 0.0, 0.0, 0.0, 0.0, 0.0, 0.0, 0.0, 0.0, 0.0, 0.0, 0.0, 0.0, 1.0, 0.0, 0.0, 0.0, 0.0, 0.0, 0.0, 0.0, 0.0, 0.0, 0.0, 0.0, 0.0, 0.0, 0.0, 1.0, 0.0, 0.0, 0.0, 0.0, 0.0, 0.0, 0.0, 0.0, 0.0, 0.0, 0.0, 0.0]]  \n",
       "4                                                                                                                                                                                                                                                                                                              [[0.0, 0.0, 0.0, 0.0, 0.0, 0.0, 0.0, 0.0, 0.0, 0.0, 0.0, 0.0, 0.0, 0.0, 0.0, 0.0, 0.0, 0.0, 0.0, 0.0, 0.0, 0.0, 0.0, 0.0, 0.0, 0.0, 0.0, 0.0, 0.0, 0.0, 0.0, 0.0, 0.0, 0.0, 0.0, 0.0, 0.0, 0.0, 0.0, 0.0, 0.0, 0.0, 0.0, 0.0, 0.0, 0.0, 0.0, 0.0, 0.0, 0.0, 0.0, 0.0, 0.0, 0.0, 0.0, 0.0, 0.0, 0.0, 0.0, 0.0, 0.0, 0.0, 0.0, 0.0, 0.0, 0.0, 0.0, 0.0, 0.0, 0.0, 0.0, 0.0, 0.0, 0.0, 0.0, 0.0, 0.0, 0.0, 0.0, 0.0, 0.0, 0.0, 0.0, 0.0, 0.0, 0.0, 0.0, 0.0, 0.0, 1.0, 0.0, 0.0, 1.0, 0.0, 0.0, 0.0, 0.0, 0.0, 0.0, 0.0]]  "
      ]
     },
     "execution_count": 155,
     "metadata": {},
     "output_type": "execute_result"
    }
   ],
   "source": [
    "pd.json_normalize(last_execution_statistics.body_dict[\"features\"]).head()"
   ]
  },
  {
   "cell_type": "code",
   "execution_count": 156,
   "id": "ec57f3eb-4fb1-4a0d-ba61-9f4aef53298e",
   "metadata": {
    "tags": []
   },
   "outputs": [
    {
     "data": {
      "text/html": [
       "<div>\n",
       "<style scoped>\n",
       "    .dataframe tbody tr th:only-of-type {\n",
       "        vertical-align: middle;\n",
       "    }\n",
       "\n",
       "    .dataframe tbody tr th {\n",
       "        vertical-align: top;\n",
       "    }\n",
       "\n",
       "    .dataframe thead th {\n",
       "        text-align: right;\n",
       "    }\n",
       "</style>\n",
       "<table border=\"1\" class=\"dataframe\">\n",
       "  <thead>\n",
       "    <tr style=\"text-align: right;\">\n",
       "      <th></th>\n",
       "    </tr>\n",
       "  </thead>\n",
       "  <tbody>\n",
       "  </tbody>\n",
       "</table>\n",
       "</div>"
      ],
      "text/plain": [
       "Empty DataFrame\n",
       "Columns: []\n",
       "Index: []"
      ]
     },
     "execution_count": 156,
     "metadata": {},
     "output_type": "execute_result"
    }
   ],
   "source": [
    "pd.json_normalize(last_execution_violations.body_dict[\"violations\"]).head()"
   ]
  },
  {
   "cell_type": "markdown",
   "id": "c59e3043-775a-4d6b-8890-136095c28a85",
   "metadata": {},
   "source": [
    "See the baseline and the latest data profiling statistics:"
   ]
  },
  {
   "cell_type": "code",
   "execution_count": 157,
   "id": "4e0fc10e-fc5a-46c4-8690-372864c8b03b",
   "metadata": {
    "tags": []
   },
   "outputs": [
    {
     "data": {
      "text/html": [
       "<div>\n",
       "<style scoped>\n",
       "    .dataframe tbody tr th:only-of-type {\n",
       "        vertical-align: middle;\n",
       "    }\n",
       "\n",
       "    .dataframe tbody tr th {\n",
       "        vertical-align: top;\n",
       "    }\n",
       "\n",
       "    .dataframe thead th {\n",
       "        text-align: right;\n",
       "    }\n",
       "</style>\n",
       "<table border=\"1\" class=\"dataframe\">\n",
       "  <thead>\n",
       "    <tr style=\"text-align: right;\">\n",
       "      <th></th>\n",
       "      <th>name</th>\n",
       "      <th>inferred_type</th>\n",
       "      <th>numerical_statistics.common.num_present</th>\n",
       "      <th>numerical_statistics.common.num_missing</th>\n",
       "      <th>numerical_statistics.mean</th>\n",
       "      <th>numerical_statistics.sum</th>\n",
       "      <th>numerical_statistics.std_dev</th>\n",
       "      <th>numerical_statistics.min</th>\n",
       "      <th>numerical_statistics.max</th>\n",
       "      <th>numerical_statistics.distribution.kll.buckets</th>\n",
       "      <th>numerical_statistics.distribution.kll.sketch.parameters.c</th>\n",
       "      <th>numerical_statistics.distribution.kll.sketch.parameters.k</th>\n",
       "      <th>numerical_statistics.distribution.kll.sketch.data</th>\n",
       "    </tr>\n",
       "  </thead>\n",
       "  <tbody>\n",
       "    <tr>\n",
       "      <th>0</th>\n",
       "      <td>_c0</td>\n",
       "      <td>Integral</td>\n",
       "      <td>41188</td>\n",
       "      <td>0</td>\n",
       "      <td>40.024060</td>\n",
       "      <td>1648511.0</td>\n",
       "      <td>10.421123</td>\n",
       "      <td>17.0</td>\n",
       "      <td>98.0</td>\n",
       "      <td>[{'lower_bound': 17.0, 'upper_bound': 25.1, 'count': 1676.0}, {'lower_bound': 25.1, 'upper_bound': 33.2, 'count': 11336.0}, {'lower_bound': 33.2, 'upper_bound': 41.3, 'count': 12040.0}, {'lower_bound': 41.3, 'upper_bound': 49.4, 'count': 8072.0}, {'lower_bound': 49.4, 'upper_bound': 57.5, 'count': 5856.0}, {'lower_bound': 57.5, 'upper_bound': 65.6, 'count': 1600.0}, {'lower_bound': 65.6, 'upper_bound': 73.7, 'count': 308.0}, {'lower_bound': 73.7, 'upper_bound': 81.8, 'count': 192.0}, {'lower_bound': 81.8, 'upper_bound': 89.9, 'count': 96.0}, {'lower_bound': 89.9, 'upper_bound': 98.0, 'count': 12.0}]</td>\n",
       "      <td>0.64</td>\n",
       "      <td>2048.0</td>\n",
       "      <td>[[], [], [17.0, 18.0, 18.0, 18.0, 18.0, 19.0, 19.0, 20.0, 20.0, 20.0, 20.0, 20.0, 20.0, 21.0, 21.0, 21.0, 21.0, 21.0, 21.0, 21.0, 21.0, 21.0, 22.0, 22.0, 22.0, 22.0, 22.0, 22.0, 22.0, 22.0, 22.0, 22.0, 23.0, 23.0, 23.0, 23.0, 23.0, 23.0, 23.0, 23.0, 23.0, 23.0, 23.0, 23.0, 23.0, 24.0, 24.0, 24.0, 24.0, 24.0, 24.0, 24.0, 24.0, 24.0, 24.0, 24.0, 24.0, 24.0, 24.0, 24.0, 24.0, 24.0, 24.0, 24.0, 24.0, 24.0, 24.0, 24.0, 24.0, 24.0, 24.0, 25.0, 25.0, 25.0, 25.0, 25.0, 25.0, 25.0, 25.0, 25.0, 25.0, 25.0, 25.0, 25.0, 25.0, 25.0, 25.0, 25.0, 25.0, 25.0, 25.0, 25.0, 25.0, 25.0, 25.0, 25.0, 25.0, 25.0, 25.0, 25.0, ...], [88.0], [88.0], [19.0, 21.0, 22.0, 22.0, 23.0, 23.0, 23.0, 24.0, 24.0, 24.0, 24.0, 24.0, 24.0, 24.0, 24.0, 25.0, 25.0, 25.0, 25.0, 25.0, 25.0, 25.0, 25.0, 25.0, 25.0, 25.0, 25.0, 26.0, 26.0, 26.0, 26.0, 26.0, 26.0, 26.0, 26.0, 26.0, 26.0, 26.0, 26.0, 26.0, 27.0, 27.0, 27.0, 27.0, 27.0, 27.0, 27.0, 27.0, 27.0, 27.0, 27.0, 27.0, 27.0, 27.0, 27.0, 28.0, 28.0, 28.0, 28.0, 28.0, 28.0, 28.0, 28.0, 28.0, 28.0, 28.0, 28.0, 28.0, 28.0, 28.0, 28.0, 28.0, 28.0, 28.0, 29.0, 29.0, 29.0, 29.0, 29.0, 29.0, 29.0, 29.0, 29.0, 29.0, 29.0, 29.0, 29.0, 29.0, 29.0, 29.0, 29.0, 29.0, 29.0, 29.0, 29.0, 29.0, 29.0, 29.0, 29.0, 29.0, ...]]</td>\n",
       "    </tr>\n",
       "    <tr>\n",
       "      <th>1</th>\n",
       "      <td>_c1</td>\n",
       "      <td>Integral</td>\n",
       "      <td>41188</td>\n",
       "      <td>0</td>\n",
       "      <td>2.567593</td>\n",
       "      <td>105754.0</td>\n",
       "      <td>2.769980</td>\n",
       "      <td>1.0</td>\n",
       "      <td>56.0</td>\n",
       "      <td>[{'lower_bound': 1.0, 'upper_bound': 6.5, 'count': 38792.0}, {'lower_bound': 6.5, 'upper_bound': 12.0, 'count': 1712.0}, {'lower_bound': 12.0, 'upper_bound': 17.5, 'count': 444.0}, {'lower_bound': 17.5, 'upper_bound': 23.0, 'count': 128.0}, {'lower_bound': 23.0, 'upper_bound': 28.5, 'count': 64.0}, {'lower_bound': 28.5, 'upper_bound': 34.0, 'count': 48.0}, {'lower_bound': 34.0, 'upper_bound': 39.5, 'count': 0.0}, {'lower_bound': 39.5, 'upper_bound': 45.0, 'count': 0.0}, {'lower_bound': 45.0, 'upper_bound': 50.5, 'count': 0.0}, {'lower_bound': 50.5, 'upper_bound': 56.0, 'count': 0.0}]</td>\n",
       "      <td>0.64</td>\n",
       "      <td>2048.0</td>\n",
       "      <td>[[], [], [1.0, 1.0, 1.0, 1.0, 1.0, 1.0, 1.0, 1.0, 1.0, 1.0, 1.0, 1.0, 1.0, 1.0, 1.0, 1.0, 1.0, 1.0, 1.0, 1.0, 1.0, 1.0, 1.0, 1.0, 1.0, 1.0, 1.0, 1.0, 1.0, 1.0, 1.0, 1.0, 1.0, 1.0, 1.0, 1.0, 1.0, 1.0, 1.0, 1.0, 1.0, 1.0, 1.0, 1.0, 1.0, 1.0, 1.0, 1.0, 1.0, 1.0, 1.0, 1.0, 1.0, 1.0, 1.0, 1.0, 1.0, 1.0, 1.0, 1.0, 1.0, 1.0, 1.0, 1.0, 1.0, 1.0, 1.0, 1.0, 1.0, 1.0, 1.0, 1.0, 1.0, 1.0, 1.0, 1.0, 1.0, 1.0, 1.0, 1.0, 1.0, 1.0, 1.0, 1.0, 1.0, 1.0, 1.0, 1.0, 1.0, 1.0, 1.0, 1.0, 1.0, 1.0, 1.0, 1.0, 1.0, 1.0, 1.0, 1.0, ...], [13.0], [33.0], [1.0, 1.0, 1.0, 1.0, 1.0, 1.0, 1.0, 1.0, 1.0, 1.0, 1.0, 1.0, 1.0, 1.0, 1.0, 1.0, 1.0, 1.0, 1.0, 1.0, 1.0, 1.0, 1.0, 1.0, 1.0, 1.0, 1.0, 1.0, 1.0, 1.0, 1.0, 1.0, 1.0, 1.0, 1.0, 1.0, 1.0, 1.0, 1.0, 1.0, 1.0, 1.0, 1.0, 1.0, 1.0, 1.0, 1.0, 1.0, 1.0, 1.0, 1.0, 1.0, 1.0, 1.0, 1.0, 1.0, 1.0, 1.0, 1.0, 1.0, 1.0, 1.0, 1.0, 1.0, 1.0, 1.0, 1.0, 1.0, 1.0, 1.0, 1.0, 1.0, 1.0, 1.0, 1.0, 1.0, 1.0, 1.0, 1.0, 1.0, 1.0, 1.0, 1.0, 1.0, 1.0, 1.0, 1.0, 1.0, 1.0, 1.0, 1.0, 1.0, 1.0, 1.0, 1.0, 1.0, 1.0, 1.0, 1.0, 1.0, ...]]</td>\n",
       "    </tr>\n",
       "    <tr>\n",
       "      <th>2</th>\n",
       "      <td>_c2</td>\n",
       "      <td>Integral</td>\n",
       "      <td>41188</td>\n",
       "      <td>0</td>\n",
       "      <td>962.475454</td>\n",
       "      <td>39642439.0</td>\n",
       "      <td>186.908638</td>\n",
       "      <td>0.0</td>\n",
       "      <td>999.0</td>\n",
       "      <td>[{'lower_bound': 0.0, 'upper_bound': 99.9, 'count': 1516.0}, {'lower_bound': 99.9, 'upper_bound': 199.8, 'count': 0.0}, {'lower_bound': 199.8, 'upper_bound': 299.7, 'count': 0.0}, {'lower_bound': 299.7, 'upper_bound': 399.6, 'count': 0.0}, {'lower_bound': 399.6, 'upper_bound': 499.5, 'count': 0.0}, {'lower_bound': 499.5, 'upper_bound': 599.4, 'count': 0.0}, {'lower_bound': 599.4, 'upper_bound': 699.3, 'count': 0.0}, {'lower_bound': 699.3, 'upper_bound': 799.2, 'count': 0.0}, {'lower_bound': 799.2, 'upper_bound': 899.1, 'count': 0.0}, {'lower_bound': 899.1, 'upper_bound': 999.0, 'count': 39672.0}]</td>\n",
       "      <td>0.64</td>\n",
       "      <td>2048.0</td>\n",
       "      <td>[[], [], [1.0, 1.0, 1.0, 2.0, 2.0, 2.0, 2.0, 2.0, 3.0, 3.0, 3.0, 3.0, 3.0, 3.0, 3.0, 3.0, 3.0, 3.0, 3.0, 3.0, 3.0, 3.0, 3.0, 3.0, 3.0, 3.0, 3.0, 3.0, 3.0, 3.0, 3.0, 3.0, 3.0, 3.0, 3.0, 3.0, 3.0, 3.0, 3.0, 3.0, 3.0, 3.0, 3.0, 3.0, 3.0, 3.0, 3.0, 3.0, 3.0, 3.0, 3.0, 3.0, 3.0, 3.0, 3.0, 3.0, 3.0, 3.0, 3.0, 3.0, 3.0, 3.0, 3.0, 3.0, 3.0, 3.0, 4.0, 4.0, 4.0, 4.0, 4.0, 4.0, 4.0, 4.0, 4.0, 4.0, 4.0, 4.0, 4.0, 4.0, 4.0, 4.0, 4.0, 4.0, 4.0, 4.0, 4.0, 5.0, 5.0, 6.0, 6.0, 6.0, 6.0, 6.0, 6.0, 6.0, 6.0, 6.0, 6.0, 6.0, ...], [999.0], [999.0], [3.0, 6.0, 999.0, 999.0, 999.0, 999.0, 999.0, 999.0, 999.0, 999.0, 999.0, 999.0, 999.0, 999.0, 999.0, 999.0, 999.0, 999.0, 999.0, 999.0, 999.0, 999.0, 999.0, 999.0, 999.0, 999.0, 999.0, 999.0, 999.0, 999.0, 999.0, 999.0, 999.0, 999.0, 999.0, 999.0, 999.0, 999.0, 999.0, 999.0, 999.0, 999.0, 999.0, 999.0, 999.0, 999.0, 999.0, 999.0, 999.0, 999.0, 999.0, 999.0, 999.0, 999.0, 999.0, 999.0, 999.0, 999.0, 999.0, 999.0, 999.0, 999.0, 999.0, 999.0, 999.0, 999.0, 999.0, 999.0, 999.0, 999.0, 999.0, 999.0, 999.0, 999.0, 999.0, 999.0, 999.0, 999.0, 999.0, 999.0, 999.0, 999.0, 999.0, 999.0, 999.0, 999.0, 999.0, 999.0, 999.0, 999.0, 999.0, 999.0, 999.0, 999.0, 999.0, 999.0, 999.0, 999.0, 999.0, 999.0, ...]]</td>\n",
       "    </tr>\n",
       "    <tr>\n",
       "      <th>3</th>\n",
       "      <td>_c3</td>\n",
       "      <td>Integral</td>\n",
       "      <td>41188</td>\n",
       "      <td>0</td>\n",
       "      <td>0.172963</td>\n",
       "      <td>7124.0</td>\n",
       "      <td>0.494895</td>\n",
       "      <td>0.0</td>\n",
       "      <td>7.0</td>\n",
       "      <td>[{'lower_bound': 0.0, 'upper_bound': 0.7, 'count': 35572.0}, {'lower_bound': 0.7, 'upper_bound': 1.4, 'count': 4548.0}, {'lower_bound': 1.4, 'upper_bound': 2.1, 'count': 760.0}, {'lower_bound': 2.1, 'upper_bound': 2.8, 'count': 0.0}, {'lower_bound': 2.8, 'upper_bound': 3.5, 'count': 216.0}, {'lower_bound': 3.5, 'upper_bound': 4.2, 'count': 68.0}, {'lower_bound': 4.2, 'upper_bound': 4.9, 'count': 0.0}, {'lower_bound': 4.9, 'upper_bound': 5.6, 'count': 16.0}, {'lower_bound': 5.6, 'upper_bound': 6.3, 'count': 4.0}, {'lower_bound': 6.3, 'upper_bound': 7.0, 'count': 4.0}]</td>\n",
       "      <td>0.64</td>\n",
       "      <td>2048.0</td>\n",
       "      <td>[[], [], [0.0, 0.0, 0.0, 0.0, 0.0, 0.0, 0.0, 0.0, 0.0, 0.0, 0.0, 0.0, 0.0, 0.0, 0.0, 0.0, 0.0, 0.0, 0.0, 0.0, 0.0, 0.0, 0.0, 0.0, 0.0, 0.0, 0.0, 0.0, 0.0, 0.0, 0.0, 0.0, 0.0, 0.0, 0.0, 0.0, 0.0, 0.0, 0.0, 0.0, 0.0, 0.0, 0.0, 0.0, 0.0, 0.0, 0.0, 0.0, 0.0, 0.0, 0.0, 0.0, 0.0, 0.0, 0.0, 0.0, 0.0, 0.0, 0.0, 0.0, 0.0, 0.0, 0.0, 0.0, 0.0, 0.0, 0.0, 0.0, 0.0, 0.0, 0.0, 0.0, 0.0, 0.0, 0.0, 0.0, 0.0, 0.0, 0.0, 0.0, 0.0, 0.0, 0.0, 0.0, 0.0, 0.0, 0.0, 0.0, 0.0, 0.0, 0.0, 0.0, 0.0, 0.0, 0.0, 0.0, 0.0, 0.0, 0.0, 0.0, ...], [2.0], [2.0], [0.0, 0.0, 0.0, 0.0, 0.0, 0.0, 0.0, 0.0, 0.0, 0.0, 0.0, 0.0, 0.0, 0.0, 0.0, 0.0, 0.0, 0.0, 0.0, 0.0, 0.0, 0.0, 0.0, 0.0, 0.0, 0.0, 0.0, 0.0, 0.0, 0.0, 0.0, 0.0, 0.0, 0.0, 0.0, 0.0, 0.0, 0.0, 0.0, 0.0, 0.0, 0.0, 0.0, 0.0, 0.0, 0.0, 0.0, 0.0, 0.0, 0.0, 0.0, 0.0, 0.0, 0.0, 0.0, 0.0, 0.0, 0.0, 0.0, 0.0, 0.0, 0.0, 0.0, 0.0, 0.0, 0.0, 0.0, 0.0, 0.0, 0.0, 0.0, 0.0, 0.0, 0.0, 0.0, 0.0, 0.0, 0.0, 0.0, 0.0, 0.0, 0.0, 0.0, 0.0, 0.0, 0.0, 0.0, 0.0, 0.0, 0.0, 0.0, 0.0, 0.0, 0.0, 0.0, 0.0, 0.0, 0.0, 0.0, 0.0, ...]]</td>\n",
       "    </tr>\n",
       "    <tr>\n",
       "      <th>4</th>\n",
       "      <td>_c4</td>\n",
       "      <td>Integral</td>\n",
       "      <td>41188</td>\n",
       "      <td>0</td>\n",
       "      <td>0.963217</td>\n",
       "      <td>39673.0</td>\n",
       "      <td>0.188228</td>\n",
       "      <td>0.0</td>\n",
       "      <td>1.0</td>\n",
       "      <td>[{'lower_bound': 0.0, 'upper_bound': 0.1, 'count': 1516.0}, {'lower_bound': 0.1, 'upper_bound': 0.2, 'count': 0.0}, {'lower_bound': 0.2, 'upper_bound': 0.3, 'count': 0.0}, {'lower_bound': 0.3, 'upper_bound': 0.4, 'count': 0.0}, {'lower_bound': 0.4, 'upper_bound': 0.5, 'count': 0.0}, {'lower_bound': 0.5, 'upper_bound': 0.6, 'count': 0.0}, {'lower_bound': 0.6, 'upper_bound': 0.7, 'count': 0.0}, {'lower_bound': 0.7, 'upper_bound': 0.8, 'count': 0.0}, {'lower_bound': 0.8, 'upper_bound': 0.9, 'count': 0.0}, {'lower_bound': 0.9, 'upper_bound': 1.0, 'count': 39672.0}]</td>\n",
       "      <td>0.64</td>\n",
       "      <td>2048.0</td>\n",
       "      <td>[[], [], [0.0, 0.0, 0.0, 0.0, 0.0, 0.0, 0.0, 0.0, 0.0, 0.0, 0.0, 0.0, 0.0, 0.0, 0.0, 0.0, 0.0, 0.0, 0.0, 0.0, 0.0, 0.0, 0.0, 0.0, 0.0, 0.0, 0.0, 0.0, 0.0, 0.0, 0.0, 0.0, 0.0, 0.0, 0.0, 0.0, 0.0, 0.0, 0.0, 0.0, 0.0, 0.0, 0.0, 0.0, 0.0, 0.0, 0.0, 0.0, 0.0, 0.0, 0.0, 0.0, 0.0, 0.0, 0.0, 0.0, 0.0, 0.0, 0.0, 0.0, 0.0, 0.0, 0.0, 0.0, 0.0, 0.0, 0.0, 0.0, 0.0, 0.0, 0.0, 0.0, 0.0, 0.0, 0.0, 0.0, 0.0, 0.0, 0.0, 0.0, 0.0, 0.0, 0.0, 0.0, 0.0, 0.0, 0.0, 0.0, 0.0, 0.0, 0.0, 0.0, 0.0, 0.0, 0.0, 0.0, 0.0, 0.0, 0.0, 0.0, ...], [1.0], [1.0], [0.0, 0.0, 1.0, 1.0, 1.0, 1.0, 1.0, 1.0, 1.0, 1.0, 1.0, 1.0, 1.0, 1.0, 1.0, 1.0, 1.0, 1.0, 1.0, 1.0, 1.0, 1.0, 1.0, 1.0, 1.0, 1.0, 1.0, 1.0, 1.0, 1.0, 1.0, 1.0, 1.0, 1.0, 1.0, 1.0, 1.0, 1.0, 1.0, 1.0, 1.0, 1.0, 1.0, 1.0, 1.0, 1.0, 1.0, 1.0, 1.0, 1.0, 1.0, 1.0, 1.0, 1.0, 1.0, 1.0, 1.0, 1.0, 1.0, 1.0, 1.0, 1.0, 1.0, 1.0, 1.0, 1.0, 1.0, 1.0, 1.0, 1.0, 1.0, 1.0, 1.0, 1.0, 1.0, 1.0, 1.0, 1.0, 1.0, 1.0, 1.0, 1.0, 1.0, 1.0, 1.0, 1.0, 1.0, 1.0, 1.0, 1.0, 1.0, 1.0, 1.0, 1.0, 1.0, 1.0, 1.0, 1.0, 1.0, 1.0, ...]]</td>\n",
       "    </tr>\n",
       "  </tbody>\n",
       "</table>\n",
       "</div>"
      ],
      "text/plain": [
       "  name inferred_type  numerical_statistics.common.num_present  \\\n",
       "0  _c0      Integral                                    41188   \n",
       "1  _c1      Integral                                    41188   \n",
       "2  _c2      Integral                                    41188   \n",
       "3  _c3      Integral                                    41188   \n",
       "4  _c4      Integral                                    41188   \n",
       "\n",
       "   numerical_statistics.common.num_missing  numerical_statistics.mean  \\\n",
       "0                                        0                  40.024060   \n",
       "1                                        0                   2.567593   \n",
       "2                                        0                 962.475454   \n",
       "3                                        0                   0.172963   \n",
       "4                                        0                   0.963217   \n",
       "\n",
       "   numerical_statistics.sum  numerical_statistics.std_dev  \\\n",
       "0                 1648511.0                     10.421123   \n",
       "1                  105754.0                      2.769980   \n",
       "2                39642439.0                    186.908638   \n",
       "3                    7124.0                      0.494895   \n",
       "4                   39673.0                      0.188228   \n",
       "\n",
       "   numerical_statistics.min  numerical_statistics.max  \\\n",
       "0                      17.0                      98.0   \n",
       "1                       1.0                      56.0   \n",
       "2                       0.0                     999.0   \n",
       "3                       0.0                       7.0   \n",
       "4                       0.0                       1.0   \n",
       "\n",
       "                                                                                                                                                                                                                                                                                                                                                                                                                                                                                                                                                                                    numerical_statistics.distribution.kll.buckets  \\\n",
       "0  [{'lower_bound': 17.0, 'upper_bound': 25.1, 'count': 1676.0}, {'lower_bound': 25.1, 'upper_bound': 33.2, 'count': 11336.0}, {'lower_bound': 33.2, 'upper_bound': 41.3, 'count': 12040.0}, {'lower_bound': 41.3, 'upper_bound': 49.4, 'count': 8072.0}, {'lower_bound': 49.4, 'upper_bound': 57.5, 'count': 5856.0}, {'lower_bound': 57.5, 'upper_bound': 65.6, 'count': 1600.0}, {'lower_bound': 65.6, 'upper_bound': 73.7, 'count': 308.0}, {'lower_bound': 73.7, 'upper_bound': 81.8, 'count': 192.0}, {'lower_bound': 81.8, 'upper_bound': 89.9, 'count': 96.0}, {'lower_bound': 89.9, 'upper_bound': 98.0, 'count': 12.0}]   \n",
       "1                  [{'lower_bound': 1.0, 'upper_bound': 6.5, 'count': 38792.0}, {'lower_bound': 6.5, 'upper_bound': 12.0, 'count': 1712.0}, {'lower_bound': 12.0, 'upper_bound': 17.5, 'count': 444.0}, {'lower_bound': 17.5, 'upper_bound': 23.0, 'count': 128.0}, {'lower_bound': 23.0, 'upper_bound': 28.5, 'count': 64.0}, {'lower_bound': 28.5, 'upper_bound': 34.0, 'count': 48.0}, {'lower_bound': 34.0, 'upper_bound': 39.5, 'count': 0.0}, {'lower_bound': 39.5, 'upper_bound': 45.0, 'count': 0.0}, {'lower_bound': 45.0, 'upper_bound': 50.5, 'count': 0.0}, {'lower_bound': 50.5, 'upper_bound': 56.0, 'count': 0.0}]   \n",
       "2     [{'lower_bound': 0.0, 'upper_bound': 99.9, 'count': 1516.0}, {'lower_bound': 99.9, 'upper_bound': 199.8, 'count': 0.0}, {'lower_bound': 199.8, 'upper_bound': 299.7, 'count': 0.0}, {'lower_bound': 299.7, 'upper_bound': 399.6, 'count': 0.0}, {'lower_bound': 399.6, 'upper_bound': 499.5, 'count': 0.0}, {'lower_bound': 499.5, 'upper_bound': 599.4, 'count': 0.0}, {'lower_bound': 599.4, 'upper_bound': 699.3, 'count': 0.0}, {'lower_bound': 699.3, 'upper_bound': 799.2, 'count': 0.0}, {'lower_bound': 799.2, 'upper_bound': 899.1, 'count': 0.0}, {'lower_bound': 899.1, 'upper_bound': 999.0, 'count': 39672.0}]   \n",
       "3                                   [{'lower_bound': 0.0, 'upper_bound': 0.7, 'count': 35572.0}, {'lower_bound': 0.7, 'upper_bound': 1.4, 'count': 4548.0}, {'lower_bound': 1.4, 'upper_bound': 2.1, 'count': 760.0}, {'lower_bound': 2.1, 'upper_bound': 2.8, 'count': 0.0}, {'lower_bound': 2.8, 'upper_bound': 3.5, 'count': 216.0}, {'lower_bound': 3.5, 'upper_bound': 4.2, 'count': 68.0}, {'lower_bound': 4.2, 'upper_bound': 4.9, 'count': 0.0}, {'lower_bound': 4.9, 'upper_bound': 5.6, 'count': 16.0}, {'lower_bound': 5.6, 'upper_bound': 6.3, 'count': 4.0}, {'lower_bound': 6.3, 'upper_bound': 7.0, 'count': 4.0}]   \n",
       "4                                         [{'lower_bound': 0.0, 'upper_bound': 0.1, 'count': 1516.0}, {'lower_bound': 0.1, 'upper_bound': 0.2, 'count': 0.0}, {'lower_bound': 0.2, 'upper_bound': 0.3, 'count': 0.0}, {'lower_bound': 0.3, 'upper_bound': 0.4, 'count': 0.0}, {'lower_bound': 0.4, 'upper_bound': 0.5, 'count': 0.0}, {'lower_bound': 0.5, 'upper_bound': 0.6, 'count': 0.0}, {'lower_bound': 0.6, 'upper_bound': 0.7, 'count': 0.0}, {'lower_bound': 0.7, 'upper_bound': 0.8, 'count': 0.0}, {'lower_bound': 0.8, 'upper_bound': 0.9, 'count': 0.0}, {'lower_bound': 0.9, 'upper_bound': 1.0, 'count': 39672.0}]   \n",
       "\n",
       "   numerical_statistics.distribution.kll.sketch.parameters.c  \\\n",
       "0                                                       0.64   \n",
       "1                                                       0.64   \n",
       "2                                                       0.64   \n",
       "3                                                       0.64   \n",
       "4                                                       0.64   \n",
       "\n",
       "   numerical_statistics.distribution.kll.sketch.parameters.k  \\\n",
       "0                                                     2048.0   \n",
       "1                                                     2048.0   \n",
       "2                                                     2048.0   \n",
       "3                                                     2048.0   \n",
       "4                                                     2048.0   \n",
       "\n",
       "                                                                                                                                                                                                                                                                                                                                                                                                                                                                                                                                                                                                                                                                                                                                                                                                                                                                                                                                                                                                                                                                                                                                                                                                                                        numerical_statistics.distribution.kll.sketch.data  \n",
       "0  [[], [], [17.0, 18.0, 18.0, 18.0, 18.0, 19.0, 19.0, 20.0, 20.0, 20.0, 20.0, 20.0, 20.0, 21.0, 21.0, 21.0, 21.0, 21.0, 21.0, 21.0, 21.0, 21.0, 22.0, 22.0, 22.0, 22.0, 22.0, 22.0, 22.0, 22.0, 22.0, 22.0, 23.0, 23.0, 23.0, 23.0, 23.0, 23.0, 23.0, 23.0, 23.0, 23.0, 23.0, 23.0, 23.0, 24.0, 24.0, 24.0, 24.0, 24.0, 24.0, 24.0, 24.0, 24.0, 24.0, 24.0, 24.0, 24.0, 24.0, 24.0, 24.0, 24.0, 24.0, 24.0, 24.0, 24.0, 24.0, 24.0, 24.0, 24.0, 24.0, 25.0, 25.0, 25.0, 25.0, 25.0, 25.0, 25.0, 25.0, 25.0, 25.0, 25.0, 25.0, 25.0, 25.0, 25.0, 25.0, 25.0, 25.0, 25.0, 25.0, 25.0, 25.0, 25.0, 25.0, 25.0, 25.0, 25.0, 25.0, 25.0, ...], [88.0], [88.0], [19.0, 21.0, 22.0, 22.0, 23.0, 23.0, 23.0, 24.0, 24.0, 24.0, 24.0, 24.0, 24.0, 24.0, 24.0, 25.0, 25.0, 25.0, 25.0, 25.0, 25.0, 25.0, 25.0, 25.0, 25.0, 25.0, 25.0, 26.0, 26.0, 26.0, 26.0, 26.0, 26.0, 26.0, 26.0, 26.0, 26.0, 26.0, 26.0, 26.0, 27.0, 27.0, 27.0, 27.0, 27.0, 27.0, 27.0, 27.0, 27.0, 27.0, 27.0, 27.0, 27.0, 27.0, 27.0, 28.0, 28.0, 28.0, 28.0, 28.0, 28.0, 28.0, 28.0, 28.0, 28.0, 28.0, 28.0, 28.0, 28.0, 28.0, 28.0, 28.0, 28.0, 28.0, 29.0, 29.0, 29.0, 29.0, 29.0, 29.0, 29.0, 29.0, 29.0, 29.0, 29.0, 29.0, 29.0, 29.0, 29.0, 29.0, 29.0, 29.0, 29.0, 29.0, 29.0, 29.0, 29.0, 29.0, 29.0, 29.0, ...]]  \n",
       "1                                                                                                                                                                                                          [[], [], [1.0, 1.0, 1.0, 1.0, 1.0, 1.0, 1.0, 1.0, 1.0, 1.0, 1.0, 1.0, 1.0, 1.0, 1.0, 1.0, 1.0, 1.0, 1.0, 1.0, 1.0, 1.0, 1.0, 1.0, 1.0, 1.0, 1.0, 1.0, 1.0, 1.0, 1.0, 1.0, 1.0, 1.0, 1.0, 1.0, 1.0, 1.0, 1.0, 1.0, 1.0, 1.0, 1.0, 1.0, 1.0, 1.0, 1.0, 1.0, 1.0, 1.0, 1.0, 1.0, 1.0, 1.0, 1.0, 1.0, 1.0, 1.0, 1.0, 1.0, 1.0, 1.0, 1.0, 1.0, 1.0, 1.0, 1.0, 1.0, 1.0, 1.0, 1.0, 1.0, 1.0, 1.0, 1.0, 1.0, 1.0, 1.0, 1.0, 1.0, 1.0, 1.0, 1.0, 1.0, 1.0, 1.0, 1.0, 1.0, 1.0, 1.0, 1.0, 1.0, 1.0, 1.0, 1.0, 1.0, 1.0, 1.0, 1.0, 1.0, ...], [13.0], [33.0], [1.0, 1.0, 1.0, 1.0, 1.0, 1.0, 1.0, 1.0, 1.0, 1.0, 1.0, 1.0, 1.0, 1.0, 1.0, 1.0, 1.0, 1.0, 1.0, 1.0, 1.0, 1.0, 1.0, 1.0, 1.0, 1.0, 1.0, 1.0, 1.0, 1.0, 1.0, 1.0, 1.0, 1.0, 1.0, 1.0, 1.0, 1.0, 1.0, 1.0, 1.0, 1.0, 1.0, 1.0, 1.0, 1.0, 1.0, 1.0, 1.0, 1.0, 1.0, 1.0, 1.0, 1.0, 1.0, 1.0, 1.0, 1.0, 1.0, 1.0, 1.0, 1.0, 1.0, 1.0, 1.0, 1.0, 1.0, 1.0, 1.0, 1.0, 1.0, 1.0, 1.0, 1.0, 1.0, 1.0, 1.0, 1.0, 1.0, 1.0, 1.0, 1.0, 1.0, 1.0, 1.0, 1.0, 1.0, 1.0, 1.0, 1.0, 1.0, 1.0, 1.0, 1.0, 1.0, 1.0, 1.0, 1.0, 1.0, 1.0, ...]]  \n",
       "2    [[], [], [1.0, 1.0, 1.0, 2.0, 2.0, 2.0, 2.0, 2.0, 3.0, 3.0, 3.0, 3.0, 3.0, 3.0, 3.0, 3.0, 3.0, 3.0, 3.0, 3.0, 3.0, 3.0, 3.0, 3.0, 3.0, 3.0, 3.0, 3.0, 3.0, 3.0, 3.0, 3.0, 3.0, 3.0, 3.0, 3.0, 3.0, 3.0, 3.0, 3.0, 3.0, 3.0, 3.0, 3.0, 3.0, 3.0, 3.0, 3.0, 3.0, 3.0, 3.0, 3.0, 3.0, 3.0, 3.0, 3.0, 3.0, 3.0, 3.0, 3.0, 3.0, 3.0, 3.0, 3.0, 3.0, 3.0, 4.0, 4.0, 4.0, 4.0, 4.0, 4.0, 4.0, 4.0, 4.0, 4.0, 4.0, 4.0, 4.0, 4.0, 4.0, 4.0, 4.0, 4.0, 4.0, 4.0, 4.0, 5.0, 5.0, 6.0, 6.0, 6.0, 6.0, 6.0, 6.0, 6.0, 6.0, 6.0, 6.0, 6.0, ...], [999.0], [999.0], [3.0, 6.0, 999.0, 999.0, 999.0, 999.0, 999.0, 999.0, 999.0, 999.0, 999.0, 999.0, 999.0, 999.0, 999.0, 999.0, 999.0, 999.0, 999.0, 999.0, 999.0, 999.0, 999.0, 999.0, 999.0, 999.0, 999.0, 999.0, 999.0, 999.0, 999.0, 999.0, 999.0, 999.0, 999.0, 999.0, 999.0, 999.0, 999.0, 999.0, 999.0, 999.0, 999.0, 999.0, 999.0, 999.0, 999.0, 999.0, 999.0, 999.0, 999.0, 999.0, 999.0, 999.0, 999.0, 999.0, 999.0, 999.0, 999.0, 999.0, 999.0, 999.0, 999.0, 999.0, 999.0, 999.0, 999.0, 999.0, 999.0, 999.0, 999.0, 999.0, 999.0, 999.0, 999.0, 999.0, 999.0, 999.0, 999.0, 999.0, 999.0, 999.0, 999.0, 999.0, 999.0, 999.0, 999.0, 999.0, 999.0, 999.0, 999.0, 999.0, 999.0, 999.0, 999.0, 999.0, 999.0, 999.0, 999.0, 999.0, ...]]  \n",
       "3                                                                                                                                                                                                            [[], [], [0.0, 0.0, 0.0, 0.0, 0.0, 0.0, 0.0, 0.0, 0.0, 0.0, 0.0, 0.0, 0.0, 0.0, 0.0, 0.0, 0.0, 0.0, 0.0, 0.0, 0.0, 0.0, 0.0, 0.0, 0.0, 0.0, 0.0, 0.0, 0.0, 0.0, 0.0, 0.0, 0.0, 0.0, 0.0, 0.0, 0.0, 0.0, 0.0, 0.0, 0.0, 0.0, 0.0, 0.0, 0.0, 0.0, 0.0, 0.0, 0.0, 0.0, 0.0, 0.0, 0.0, 0.0, 0.0, 0.0, 0.0, 0.0, 0.0, 0.0, 0.0, 0.0, 0.0, 0.0, 0.0, 0.0, 0.0, 0.0, 0.0, 0.0, 0.0, 0.0, 0.0, 0.0, 0.0, 0.0, 0.0, 0.0, 0.0, 0.0, 0.0, 0.0, 0.0, 0.0, 0.0, 0.0, 0.0, 0.0, 0.0, 0.0, 0.0, 0.0, 0.0, 0.0, 0.0, 0.0, 0.0, 0.0, 0.0, 0.0, ...], [2.0], [2.0], [0.0, 0.0, 0.0, 0.0, 0.0, 0.0, 0.0, 0.0, 0.0, 0.0, 0.0, 0.0, 0.0, 0.0, 0.0, 0.0, 0.0, 0.0, 0.0, 0.0, 0.0, 0.0, 0.0, 0.0, 0.0, 0.0, 0.0, 0.0, 0.0, 0.0, 0.0, 0.0, 0.0, 0.0, 0.0, 0.0, 0.0, 0.0, 0.0, 0.0, 0.0, 0.0, 0.0, 0.0, 0.0, 0.0, 0.0, 0.0, 0.0, 0.0, 0.0, 0.0, 0.0, 0.0, 0.0, 0.0, 0.0, 0.0, 0.0, 0.0, 0.0, 0.0, 0.0, 0.0, 0.0, 0.0, 0.0, 0.0, 0.0, 0.0, 0.0, 0.0, 0.0, 0.0, 0.0, 0.0, 0.0, 0.0, 0.0, 0.0, 0.0, 0.0, 0.0, 0.0, 0.0, 0.0, 0.0, 0.0, 0.0, 0.0, 0.0, 0.0, 0.0, 0.0, 0.0, 0.0, 0.0, 0.0, 0.0, 0.0, ...]]  \n",
       "4                                                                                                                                                                                                            [[], [], [0.0, 0.0, 0.0, 0.0, 0.0, 0.0, 0.0, 0.0, 0.0, 0.0, 0.0, 0.0, 0.0, 0.0, 0.0, 0.0, 0.0, 0.0, 0.0, 0.0, 0.0, 0.0, 0.0, 0.0, 0.0, 0.0, 0.0, 0.0, 0.0, 0.0, 0.0, 0.0, 0.0, 0.0, 0.0, 0.0, 0.0, 0.0, 0.0, 0.0, 0.0, 0.0, 0.0, 0.0, 0.0, 0.0, 0.0, 0.0, 0.0, 0.0, 0.0, 0.0, 0.0, 0.0, 0.0, 0.0, 0.0, 0.0, 0.0, 0.0, 0.0, 0.0, 0.0, 0.0, 0.0, 0.0, 0.0, 0.0, 0.0, 0.0, 0.0, 0.0, 0.0, 0.0, 0.0, 0.0, 0.0, 0.0, 0.0, 0.0, 0.0, 0.0, 0.0, 0.0, 0.0, 0.0, 0.0, 0.0, 0.0, 0.0, 0.0, 0.0, 0.0, 0.0, 0.0, 0.0, 0.0, 0.0, 0.0, 0.0, ...], [1.0], [1.0], [0.0, 0.0, 1.0, 1.0, 1.0, 1.0, 1.0, 1.0, 1.0, 1.0, 1.0, 1.0, 1.0, 1.0, 1.0, 1.0, 1.0, 1.0, 1.0, 1.0, 1.0, 1.0, 1.0, 1.0, 1.0, 1.0, 1.0, 1.0, 1.0, 1.0, 1.0, 1.0, 1.0, 1.0, 1.0, 1.0, 1.0, 1.0, 1.0, 1.0, 1.0, 1.0, 1.0, 1.0, 1.0, 1.0, 1.0, 1.0, 1.0, 1.0, 1.0, 1.0, 1.0, 1.0, 1.0, 1.0, 1.0, 1.0, 1.0, 1.0, 1.0, 1.0, 1.0, 1.0, 1.0, 1.0, 1.0, 1.0, 1.0, 1.0, 1.0, 1.0, 1.0, 1.0, 1.0, 1.0, 1.0, 1.0, 1.0, 1.0, 1.0, 1.0, 1.0, 1.0, 1.0, 1.0, 1.0, 1.0, 1.0, 1.0, 1.0, 1.0, 1.0, 1.0, 1.0, 1.0, 1.0, 1.0, 1.0, 1.0, ...]]  "
      ]
     },
     "execution_count": 157,
     "metadata": {},
     "output_type": "execute_result"
    }
   ],
   "source": [
    "pd.json_normalize(data_monitor.baseline_statistics().body_dict[\"features\"]).head()"
   ]
  },
  {
   "cell_type": "code",
   "execution_count": 158,
   "id": "56a18ba4-5a16-4026-a3aa-794f3a2410b8",
   "metadata": {
    "tags": []
   },
   "outputs": [
    {
     "data": {
      "text/html": [
       "<div>\n",
       "<style scoped>\n",
       "    .dataframe tbody tr th:only-of-type {\n",
       "        vertical-align: middle;\n",
       "    }\n",
       "\n",
       "    .dataframe tbody tr th {\n",
       "        vertical-align: top;\n",
       "    }\n",
       "\n",
       "    .dataframe thead th {\n",
       "        text-align: right;\n",
       "    }\n",
       "</style>\n",
       "<table border=\"1\" class=\"dataframe\">\n",
       "  <thead>\n",
       "    <tr style=\"text-align: right;\">\n",
       "      <th></th>\n",
       "      <th>name</th>\n",
       "      <th>inferred_type</th>\n",
       "      <th>numerical_statistics.common.num_present</th>\n",
       "      <th>numerical_statistics.common.num_missing</th>\n",
       "      <th>numerical_statistics.mean</th>\n",
       "      <th>numerical_statistics.sum</th>\n",
       "      <th>numerical_statistics.std_dev</th>\n",
       "      <th>numerical_statistics.min</th>\n",
       "      <th>numerical_statistics.max</th>\n",
       "      <th>numerical_statistics.distribution.kll.buckets</th>\n",
       "      <th>numerical_statistics.distribution.kll.sketch.parameters.c</th>\n",
       "      <th>numerical_statistics.distribution.kll.sketch.parameters.k</th>\n",
       "      <th>numerical_statistics.distribution.kll.sketch.data</th>\n",
       "    </tr>\n",
       "  </thead>\n",
       "  <tbody>\n",
       "    <tr>\n",
       "      <th>0</th>\n",
       "      <td>_c0</td>\n",
       "      <td>Integral</td>\n",
       "      <td>100</td>\n",
       "      <td>0</td>\n",
       "      <td>-100.00</td>\n",
       "      <td>-10000.0</td>\n",
       "      <td>0.000000</td>\n",
       "      <td>-100.0</td>\n",
       "      <td>-100.0</td>\n",
       "      <td>[{'lower_bound': -100.0, 'upper_bound': -100.0, 'count': 0.0}, {'lower_bound': -100.0, 'upper_bound': -100.0, 'count': 0.0}, {'lower_bound': -100.0, 'upper_bound': -100.0, 'count': 0.0}, {'lower_bound': -100.0, 'upper_bound': -100.0, 'count': 0.0}, {'lower_bound': -100.0, 'upper_bound': -100.0, 'count': 0.0}, {'lower_bound': -100.0, 'upper_bound': -100.0, 'count': 0.0}, {'lower_bound': -100.0, 'upper_bound': -100.0, 'count': 0.0}, {'lower_bound': -100.0, 'upper_bound': -100.0, 'count': 0.0}, {'lower_bound': -100.0, 'upper_bound': -100.0, 'count': 0.0}, {'lower_bound': -100.0, 'upper_bound': -100.0, 'count': 100.0}]</td>\n",
       "      <td>0.64</td>\n",
       "      <td>2048.0</td>\n",
       "      <td>[[-100.0, -100.0, -100.0, -100.0, -100.0, -100.0, -100.0, -100.0, -100.0, -100.0, -100.0, -100.0, -100.0, -100.0, -100.0, -100.0, -100.0, -100.0, -100.0, -100.0, -100.0, -100.0, -100.0, -100.0, -100.0, -100.0, -100.0, -100.0, -100.0, -100.0, -100.0, -100.0, -100.0, -100.0, -100.0, -100.0, -100.0, -100.0, -100.0, -100.0, -100.0, -100.0, -100.0, -100.0, -100.0, -100.0, -100.0, -100.0, -100.0, -100.0, -100.0, -100.0, -100.0, -100.0, -100.0, -100.0, -100.0, -100.0, -100.0, -100.0, -100.0, -100.0, -100.0, -100.0, -100.0, -100.0, -100.0, -100.0, -100.0, -100.0, -100.0, -100.0, -100.0, -100.0, -100.0, -100.0, -100.0, -100.0, -100.0, -100.0, -100.0, -100.0, -100.0, -100.0, -100.0, -100.0, -100.0, -100.0, -100.0, -100.0, -100.0, -100.0, -100.0, -100.0, -100.0, -100.0, -100.0, -100.0, -100.0, -100.0]]</td>\n",
       "    </tr>\n",
       "    <tr>\n",
       "      <th>1</th>\n",
       "      <td>_c1</td>\n",
       "      <td>Integral</td>\n",
       "      <td>100</td>\n",
       "      <td>0</td>\n",
       "      <td>2.62</td>\n",
       "      <td>262.0</td>\n",
       "      <td>2.777697</td>\n",
       "      <td>1.0</td>\n",
       "      <td>22.0</td>\n",
       "      <td>[{'lower_bound': 1.0, 'upper_bound': 3.1, 'count': 82.0}, {'lower_bound': 3.1, 'upper_bound': 5.2, 'count': 10.0}, {'lower_bound': 5.2, 'upper_bound': 7.3, 'count': 2.0}, {'lower_bound': 7.3, 'upper_bound': 9.4, 'count': 3.0}, {'lower_bound': 9.4, 'upper_bound': 11.5, 'count': 2.0}, {'lower_bound': 11.5, 'upper_bound': 13.6, 'count': 0.0}, {'lower_bound': 13.6, 'upper_bound': 15.7, 'count': 0.0}, {'lower_bound': 15.7, 'upper_bound': 17.8, 'count': 0.0}, {'lower_bound': 17.8, 'upper_bound': 19.9, 'count': 0.0}, {'lower_bound': 19.9, 'upper_bound': 22.0, 'count': 1.0}]</td>\n",
       "      <td>0.64</td>\n",
       "      <td>2048.0</td>\n",
       "      <td>[[1.0, 3.0, 4.0, 2.0, 1.0, 5.0, 22.0, 4.0, 3.0, 3.0, 2.0, 2.0, 3.0, 10.0, 1.0, 1.0, 1.0, 1.0, 3.0, 2.0, 1.0, 1.0, 1.0, 1.0, 1.0, 3.0, 1.0, 3.0, 1.0, 3.0, 1.0, 2.0, 3.0, 3.0, 1.0, 3.0, 1.0, 1.0, 10.0, 1.0, 1.0, 1.0, 3.0, 1.0, 5.0, 2.0, 6.0, 4.0, 1.0, 1.0, 1.0, 1.0, 3.0, 3.0, 1.0, 4.0, 1.0, 2.0, 1.0, 3.0, 5.0, 2.0, 1.0, 1.0, 6.0, 8.0, 5.0, 3.0, 2.0, 1.0, 4.0, 1.0, 2.0, 2.0, 1.0, 1.0, 3.0, 4.0, 3.0, 3.0, 1.0, 8.0, 1.0, 2.0, 2.0, 3.0, 1.0, 1.0, 1.0, 1.0, 1.0, 1.0, 3.0, 9.0, 1.0, 1.0, 3.0, 1.0, 1.0, 1.0]]</td>\n",
       "    </tr>\n",
       "    <tr>\n",
       "      <th>2</th>\n",
       "      <td>_c2</td>\n",
       "      <td>Integral</td>\n",
       "      <td>100</td>\n",
       "      <td>0</td>\n",
       "      <td>0.05</td>\n",
       "      <td>5.0</td>\n",
       "      <td>0.217945</td>\n",
       "      <td>0.0</td>\n",
       "      <td>1.0</td>\n",
       "      <td>[{'lower_bound': 0.0, 'upper_bound': 0.1, 'count': 95.0}, {'lower_bound': 0.1, 'upper_bound': 0.2, 'count': 0.0}, {'lower_bound': 0.2, 'upper_bound': 0.3, 'count': 0.0}, {'lower_bound': 0.3, 'upper_bound': 0.4, 'count': 0.0}, {'lower_bound': 0.4, 'upper_bound': 0.5, 'count': 0.0}, {'lower_bound': 0.5, 'upper_bound': 0.6, 'count': 0.0}, {'lower_bound': 0.6, 'upper_bound': 0.7, 'count': 0.0}, {'lower_bound': 0.7, 'upper_bound': 0.8, 'count': 0.0}, {'lower_bound': 0.8, 'upper_bound': 0.9, 'count': 0.0}, {'lower_bound': 0.9, 'upper_bound': 1.0, 'count': 5.0}]</td>\n",
       "      <td>0.64</td>\n",
       "      <td>2048.0</td>\n",
       "      <td>[[0.0, 1.0, 0.0, 0.0, 0.0, 0.0, 1.0, 0.0, 0.0, 0.0, 0.0, 0.0, 0.0, 0.0, 0.0, 0.0, 0.0, 0.0, 0.0, 0.0, 0.0, 0.0, 0.0, 0.0, 0.0, 0.0, 0.0, 0.0, 0.0, 0.0, 0.0, 0.0, 1.0, 0.0, 0.0, 0.0, 0.0, 0.0, 0.0, 0.0, 0.0, 0.0, 0.0, 0.0, 0.0, 0.0, 0.0, 0.0, 0.0, 1.0, 0.0, 0.0, 0.0, 0.0, 0.0, 1.0, 0.0, 0.0, 0.0, 0.0, 0.0, 0.0, 0.0, 0.0, 0.0, 0.0, 0.0, 0.0, 0.0, 0.0, 0.0, 0.0, 0.0, 0.0, 0.0, 0.0, 0.0, 0.0, 0.0, 0.0, 0.0, 0.0, 0.0, 0.0, 0.0, 0.0, 0.0, 0.0, 0.0, 0.0, 0.0, 0.0, 0.0, 0.0, 0.0, 0.0, 0.0, 0.0, 0.0, 0.0]]</td>\n",
       "    </tr>\n",
       "    <tr>\n",
       "      <th>3</th>\n",
       "      <td>_c3</td>\n",
       "      <td>Integral</td>\n",
       "      <td>100</td>\n",
       "      <td>0</td>\n",
       "      <td>0.06</td>\n",
       "      <td>6.0</td>\n",
       "      <td>0.237487</td>\n",
       "      <td>0.0</td>\n",
       "      <td>1.0</td>\n",
       "      <td>[{'lower_bound': 0.0, 'upper_bound': 0.1, 'count': 94.0}, {'lower_bound': 0.1, 'upper_bound': 0.2, 'count': 0.0}, {'lower_bound': 0.2, 'upper_bound': 0.3, 'count': 0.0}, {'lower_bound': 0.3, 'upper_bound': 0.4, 'count': 0.0}, {'lower_bound': 0.4, 'upper_bound': 0.5, 'count': 0.0}, {'lower_bound': 0.5, 'upper_bound': 0.6, 'count': 0.0}, {'lower_bound': 0.6, 'upper_bound': 0.7, 'count': 0.0}, {'lower_bound': 0.7, 'upper_bound': 0.8, 'count': 0.0}, {'lower_bound': 0.8, 'upper_bound': 0.9, 'count': 0.0}, {'lower_bound': 0.9, 'upper_bound': 1.0, 'count': 6.0}]</td>\n",
       "      <td>0.64</td>\n",
       "      <td>2048.0</td>\n",
       "      <td>[[0.0, 0.0, 0.0, 0.0, 0.0, 0.0, 0.0, 0.0, 0.0, 1.0, 0.0, 0.0, 0.0, 0.0, 0.0, 0.0, 0.0, 0.0, 0.0, 0.0, 0.0, 1.0, 0.0, 0.0, 0.0, 0.0, 0.0, 0.0, 0.0, 0.0, 0.0, 0.0, 0.0, 0.0, 0.0, 0.0, 0.0, 0.0, 0.0, 0.0, 0.0, 0.0, 0.0, 0.0, 0.0, 0.0, 0.0, 0.0, 0.0, 0.0, 0.0, 0.0, 1.0, 0.0, 1.0, 0.0, 0.0, 0.0, 0.0, 0.0, 0.0, 0.0, 0.0, 0.0, 0.0, 0.0, 0.0, 0.0, 0.0, 0.0, 0.0, 0.0, 1.0, 0.0, 0.0, 0.0, 0.0, 0.0, 0.0, 0.0, 0.0, 0.0, 0.0, 0.0, 0.0, 0.0, 0.0, 1.0, 0.0, 0.0, 0.0, 0.0, 0.0, 0.0, 0.0, 0.0, 0.0, 0.0, 0.0, 0.0]]</td>\n",
       "    </tr>\n",
       "    <tr>\n",
       "      <th>4</th>\n",
       "      <td>_c4</td>\n",
       "      <td>Integral</td>\n",
       "      <td>100</td>\n",
       "      <td>0</td>\n",
       "      <td>0.02</td>\n",
       "      <td>2.0</td>\n",
       "      <td>0.140000</td>\n",
       "      <td>0.0</td>\n",
       "      <td>1.0</td>\n",
       "      <td>[{'lower_bound': 0.0, 'upper_bound': 0.1, 'count': 98.0}, {'lower_bound': 0.1, 'upper_bound': 0.2, 'count': 0.0}, {'lower_bound': 0.2, 'upper_bound': 0.3, 'count': 0.0}, {'lower_bound': 0.3, 'upper_bound': 0.4, 'count': 0.0}, {'lower_bound': 0.4, 'upper_bound': 0.5, 'count': 0.0}, {'lower_bound': 0.5, 'upper_bound': 0.6, 'count': 0.0}, {'lower_bound': 0.6, 'upper_bound': 0.7, 'count': 0.0}, {'lower_bound': 0.7, 'upper_bound': 0.8, 'count': 0.0}, {'lower_bound': 0.8, 'upper_bound': 0.9, 'count': 0.0}, {'lower_bound': 0.9, 'upper_bound': 1.0, 'count': 2.0}]</td>\n",
       "      <td>0.64</td>\n",
       "      <td>2048.0</td>\n",
       "      <td>[[0.0, 0.0, 0.0, 0.0, 0.0, 0.0, 0.0, 0.0, 0.0, 0.0, 0.0, 0.0, 0.0, 0.0, 0.0, 0.0, 0.0, 0.0, 0.0, 0.0, 0.0, 0.0, 0.0, 0.0, 0.0, 0.0, 0.0, 0.0, 0.0, 0.0, 0.0, 0.0, 0.0, 0.0, 0.0, 0.0, 0.0, 0.0, 0.0, 0.0, 0.0, 0.0, 0.0, 0.0, 0.0, 0.0, 0.0, 0.0, 0.0, 0.0, 0.0, 0.0, 0.0, 0.0, 0.0, 0.0, 0.0, 0.0, 0.0, 0.0, 0.0, 0.0, 0.0, 0.0, 0.0, 0.0, 0.0, 0.0, 0.0, 0.0, 0.0, 0.0, 0.0, 0.0, 0.0, 0.0, 0.0, 0.0, 0.0, 0.0, 0.0, 0.0, 0.0, 0.0, 0.0, 0.0, 0.0, 0.0, 0.0, 1.0, 0.0, 0.0, 1.0, 0.0, 0.0, 0.0, 0.0, 0.0, 0.0, 0.0]]</td>\n",
       "    </tr>\n",
       "  </tbody>\n",
       "</table>\n",
       "</div>"
      ],
      "text/plain": [
       "  name inferred_type  numerical_statistics.common.num_present  \\\n",
       "0  _c0      Integral                                      100   \n",
       "1  _c1      Integral                                      100   \n",
       "2  _c2      Integral                                      100   \n",
       "3  _c3      Integral                                      100   \n",
       "4  _c4      Integral                                      100   \n",
       "\n",
       "   numerical_statistics.common.num_missing  numerical_statistics.mean  \\\n",
       "0                                        0                    -100.00   \n",
       "1                                        0                       2.62   \n",
       "2                                        0                       0.05   \n",
       "3                                        0                       0.06   \n",
       "4                                        0                       0.02   \n",
       "\n",
       "   numerical_statistics.sum  numerical_statistics.std_dev  \\\n",
       "0                  -10000.0                      0.000000   \n",
       "1                     262.0                      2.777697   \n",
       "2                       5.0                      0.217945   \n",
       "3                       6.0                      0.237487   \n",
       "4                       2.0                      0.140000   \n",
       "\n",
       "   numerical_statistics.min  numerical_statistics.max  \\\n",
       "0                    -100.0                    -100.0   \n",
       "1                       1.0                      22.0   \n",
       "2                       0.0                       1.0   \n",
       "3                       0.0                       1.0   \n",
       "4                       0.0                       1.0   \n",
       "\n",
       "                                                                                                                                                                                                                                                                                                                                                                                                                                                                                                                                                                                                    numerical_statistics.distribution.kll.buckets  \\\n",
       "0  [{'lower_bound': -100.0, 'upper_bound': -100.0, 'count': 0.0}, {'lower_bound': -100.0, 'upper_bound': -100.0, 'count': 0.0}, {'lower_bound': -100.0, 'upper_bound': -100.0, 'count': 0.0}, {'lower_bound': -100.0, 'upper_bound': -100.0, 'count': 0.0}, {'lower_bound': -100.0, 'upper_bound': -100.0, 'count': 0.0}, {'lower_bound': -100.0, 'upper_bound': -100.0, 'count': 0.0}, {'lower_bound': -100.0, 'upper_bound': -100.0, 'count': 0.0}, {'lower_bound': -100.0, 'upper_bound': -100.0, 'count': 0.0}, {'lower_bound': -100.0, 'upper_bound': -100.0, 'count': 0.0}, {'lower_bound': -100.0, 'upper_bound': -100.0, 'count': 100.0}]   \n",
       "1                                                   [{'lower_bound': 1.0, 'upper_bound': 3.1, 'count': 82.0}, {'lower_bound': 3.1, 'upper_bound': 5.2, 'count': 10.0}, {'lower_bound': 5.2, 'upper_bound': 7.3, 'count': 2.0}, {'lower_bound': 7.3, 'upper_bound': 9.4, 'count': 3.0}, {'lower_bound': 9.4, 'upper_bound': 11.5, 'count': 2.0}, {'lower_bound': 11.5, 'upper_bound': 13.6, 'count': 0.0}, {'lower_bound': 13.6, 'upper_bound': 15.7, 'count': 0.0}, {'lower_bound': 15.7, 'upper_bound': 17.8, 'count': 0.0}, {'lower_bound': 17.8, 'upper_bound': 19.9, 'count': 0.0}, {'lower_bound': 19.9, 'upper_bound': 22.0, 'count': 1.0}]   \n",
       "2                                                               [{'lower_bound': 0.0, 'upper_bound': 0.1, 'count': 95.0}, {'lower_bound': 0.1, 'upper_bound': 0.2, 'count': 0.0}, {'lower_bound': 0.2, 'upper_bound': 0.3, 'count': 0.0}, {'lower_bound': 0.3, 'upper_bound': 0.4, 'count': 0.0}, {'lower_bound': 0.4, 'upper_bound': 0.5, 'count': 0.0}, {'lower_bound': 0.5, 'upper_bound': 0.6, 'count': 0.0}, {'lower_bound': 0.6, 'upper_bound': 0.7, 'count': 0.0}, {'lower_bound': 0.7, 'upper_bound': 0.8, 'count': 0.0}, {'lower_bound': 0.8, 'upper_bound': 0.9, 'count': 0.0}, {'lower_bound': 0.9, 'upper_bound': 1.0, 'count': 5.0}]   \n",
       "3                                                               [{'lower_bound': 0.0, 'upper_bound': 0.1, 'count': 94.0}, {'lower_bound': 0.1, 'upper_bound': 0.2, 'count': 0.0}, {'lower_bound': 0.2, 'upper_bound': 0.3, 'count': 0.0}, {'lower_bound': 0.3, 'upper_bound': 0.4, 'count': 0.0}, {'lower_bound': 0.4, 'upper_bound': 0.5, 'count': 0.0}, {'lower_bound': 0.5, 'upper_bound': 0.6, 'count': 0.0}, {'lower_bound': 0.6, 'upper_bound': 0.7, 'count': 0.0}, {'lower_bound': 0.7, 'upper_bound': 0.8, 'count': 0.0}, {'lower_bound': 0.8, 'upper_bound': 0.9, 'count': 0.0}, {'lower_bound': 0.9, 'upper_bound': 1.0, 'count': 6.0}]   \n",
       "4                                                               [{'lower_bound': 0.0, 'upper_bound': 0.1, 'count': 98.0}, {'lower_bound': 0.1, 'upper_bound': 0.2, 'count': 0.0}, {'lower_bound': 0.2, 'upper_bound': 0.3, 'count': 0.0}, {'lower_bound': 0.3, 'upper_bound': 0.4, 'count': 0.0}, {'lower_bound': 0.4, 'upper_bound': 0.5, 'count': 0.0}, {'lower_bound': 0.5, 'upper_bound': 0.6, 'count': 0.0}, {'lower_bound': 0.6, 'upper_bound': 0.7, 'count': 0.0}, {'lower_bound': 0.7, 'upper_bound': 0.8, 'count': 0.0}, {'lower_bound': 0.8, 'upper_bound': 0.9, 'count': 0.0}, {'lower_bound': 0.9, 'upper_bound': 1.0, 'count': 2.0}]   \n",
       "\n",
       "   numerical_statistics.distribution.kll.sketch.parameters.c  \\\n",
       "0                                                       0.64   \n",
       "1                                                       0.64   \n",
       "2                                                       0.64   \n",
       "3                                                       0.64   \n",
       "4                                                       0.64   \n",
       "\n",
       "   numerical_statistics.distribution.kll.sketch.parameters.k  \\\n",
       "0                                                     2048.0   \n",
       "1                                                     2048.0   \n",
       "2                                                     2048.0   \n",
       "3                                                     2048.0   \n",
       "4                                                     2048.0   \n",
       "\n",
       "                                                                                                                                                                                                                                                                                                                                                                                                                                                                                                                                                                                                                                                                                                                                                                                    numerical_statistics.distribution.kll.sketch.data  \n",
       "0  [[-100.0, -100.0, -100.0, -100.0, -100.0, -100.0, -100.0, -100.0, -100.0, -100.0, -100.0, -100.0, -100.0, -100.0, -100.0, -100.0, -100.0, -100.0, -100.0, -100.0, -100.0, -100.0, -100.0, -100.0, -100.0, -100.0, -100.0, -100.0, -100.0, -100.0, -100.0, -100.0, -100.0, -100.0, -100.0, -100.0, -100.0, -100.0, -100.0, -100.0, -100.0, -100.0, -100.0, -100.0, -100.0, -100.0, -100.0, -100.0, -100.0, -100.0, -100.0, -100.0, -100.0, -100.0, -100.0, -100.0, -100.0, -100.0, -100.0, -100.0, -100.0, -100.0, -100.0, -100.0, -100.0, -100.0, -100.0, -100.0, -100.0, -100.0, -100.0, -100.0, -100.0, -100.0, -100.0, -100.0, -100.0, -100.0, -100.0, -100.0, -100.0, -100.0, -100.0, -100.0, -100.0, -100.0, -100.0, -100.0, -100.0, -100.0, -100.0, -100.0, -100.0, -100.0, -100.0, -100.0, -100.0, -100.0, -100.0, -100.0]]  \n",
       "1                                                                                                                                                                                                                                                                                                           [[1.0, 3.0, 4.0, 2.0, 1.0, 5.0, 22.0, 4.0, 3.0, 3.0, 2.0, 2.0, 3.0, 10.0, 1.0, 1.0, 1.0, 1.0, 3.0, 2.0, 1.0, 1.0, 1.0, 1.0, 1.0, 3.0, 1.0, 3.0, 1.0, 3.0, 1.0, 2.0, 3.0, 3.0, 1.0, 3.0, 1.0, 1.0, 10.0, 1.0, 1.0, 1.0, 3.0, 1.0, 5.0, 2.0, 6.0, 4.0, 1.0, 1.0, 1.0, 1.0, 3.0, 3.0, 1.0, 4.0, 1.0, 2.0, 1.0, 3.0, 5.0, 2.0, 1.0, 1.0, 6.0, 8.0, 5.0, 3.0, 2.0, 1.0, 4.0, 1.0, 2.0, 2.0, 1.0, 1.0, 3.0, 4.0, 3.0, 3.0, 1.0, 8.0, 1.0, 2.0, 2.0, 3.0, 1.0, 1.0, 1.0, 1.0, 1.0, 1.0, 3.0, 9.0, 1.0, 1.0, 3.0, 1.0, 1.0, 1.0]]  \n",
       "2                                                                                                                                                                                                                                                                                                              [[0.0, 1.0, 0.0, 0.0, 0.0, 0.0, 1.0, 0.0, 0.0, 0.0, 0.0, 0.0, 0.0, 0.0, 0.0, 0.0, 0.0, 0.0, 0.0, 0.0, 0.0, 0.0, 0.0, 0.0, 0.0, 0.0, 0.0, 0.0, 0.0, 0.0, 0.0, 0.0, 1.0, 0.0, 0.0, 0.0, 0.0, 0.0, 0.0, 0.0, 0.0, 0.0, 0.0, 0.0, 0.0, 0.0, 0.0, 0.0, 0.0, 1.0, 0.0, 0.0, 0.0, 0.0, 0.0, 1.0, 0.0, 0.0, 0.0, 0.0, 0.0, 0.0, 0.0, 0.0, 0.0, 0.0, 0.0, 0.0, 0.0, 0.0, 0.0, 0.0, 0.0, 0.0, 0.0, 0.0, 0.0, 0.0, 0.0, 0.0, 0.0, 0.0, 0.0, 0.0, 0.0, 0.0, 0.0, 0.0, 0.0, 0.0, 0.0, 0.0, 0.0, 0.0, 0.0, 0.0, 0.0, 0.0, 0.0, 0.0]]  \n",
       "3                                                                                                                                                                                                                                                                                                              [[0.0, 0.0, 0.0, 0.0, 0.0, 0.0, 0.0, 0.0, 0.0, 1.0, 0.0, 0.0, 0.0, 0.0, 0.0, 0.0, 0.0, 0.0, 0.0, 0.0, 0.0, 1.0, 0.0, 0.0, 0.0, 0.0, 0.0, 0.0, 0.0, 0.0, 0.0, 0.0, 0.0, 0.0, 0.0, 0.0, 0.0, 0.0, 0.0, 0.0, 0.0, 0.0, 0.0, 0.0, 0.0, 0.0, 0.0, 0.0, 0.0, 0.0, 0.0, 0.0, 1.0, 0.0, 1.0, 0.0, 0.0, 0.0, 0.0, 0.0, 0.0, 0.0, 0.0, 0.0, 0.0, 0.0, 0.0, 0.0, 0.0, 0.0, 0.0, 0.0, 1.0, 0.0, 0.0, 0.0, 0.0, 0.0, 0.0, 0.0, 0.0, 0.0, 0.0, 0.0, 0.0, 0.0, 0.0, 1.0, 0.0, 0.0, 0.0, 0.0, 0.0, 0.0, 0.0, 0.0, 0.0, 0.0, 0.0, 0.0]]  \n",
       "4                                                                                                                                                                                                                                                                                                              [[0.0, 0.0, 0.0, 0.0, 0.0, 0.0, 0.0, 0.0, 0.0, 0.0, 0.0, 0.0, 0.0, 0.0, 0.0, 0.0, 0.0, 0.0, 0.0, 0.0, 0.0, 0.0, 0.0, 0.0, 0.0, 0.0, 0.0, 0.0, 0.0, 0.0, 0.0, 0.0, 0.0, 0.0, 0.0, 0.0, 0.0, 0.0, 0.0, 0.0, 0.0, 0.0, 0.0, 0.0, 0.0, 0.0, 0.0, 0.0, 0.0, 0.0, 0.0, 0.0, 0.0, 0.0, 0.0, 0.0, 0.0, 0.0, 0.0, 0.0, 0.0, 0.0, 0.0, 0.0, 0.0, 0.0, 0.0, 0.0, 0.0, 0.0, 0.0, 0.0, 0.0, 0.0, 0.0, 0.0, 0.0, 0.0, 0.0, 0.0, 0.0, 0.0, 0.0, 0.0, 0.0, 0.0, 0.0, 0.0, 0.0, 1.0, 0.0, 0.0, 1.0, 0.0, 0.0, 0.0, 0.0, 0.0, 0.0, 0.0]]  "
      ]
     },
     "execution_count": 158,
     "metadata": {},
     "output_type": "execute_result"
    }
   ],
   "source": [
    "pd.json_normalize(data_monitor.latest_monitoring_statistics().body_dict[\"features\"]).head()"
   ]
  },
  {
   "cell_type": "markdown",
   "id": "4ba1d859-3753-49ea-ad78-d18f0b5a8bec",
   "metadata": {},
   "source": [
    "#### View a violation report\n",
    "Model monitor outputs any violations compared to the baseline to a violation report."
   ]
  },
  {
   "cell_type": "code",
   "execution_count": 168,
   "id": "7e31de1c-77b3-4992-a2ab-237367c96340",
   "metadata": {
    "tags": []
   },
   "outputs": [],
   "source": [
    "violations = data_monitor.latest_monitoring_constraint_violations()"
   ]
  },
  {
   "cell_type": "code",
   "execution_count": 166,
   "id": "a1d74e83-0c67-41cf-9b61-e53eb42125e2",
   "metadata": {
    "tags": []
   },
   "outputs": [
    {
     "data": {
      "text/plain": [
       "<sagemaker.model_monitor.monitoring_files.ConstraintViolations at 0x7efc8a8ebdd0>"
      ]
     },
     "execution_count": 166,
     "metadata": {},
     "output_type": "execute_result"
    }
   ],
   "source": [
    "violations"
   ]
  },
  {
   "cell_type": "code",
   "execution_count": 160,
   "id": "5e9773b1-0f77-48f7-8090-7dcacfc0f15c",
   "metadata": {
    "tags": []
   },
   "outputs": [],
   "source": [
    "if not violations:\n",
    "    print(\"No constraint violations report found\")\n",
    "else:\n",
    "    violations_df = pd.json_normalize(violations.body_dict[\"violations\"]).head()"
   ]
  },
  {
   "cell_type": "code",
   "execution_count": 161,
   "id": "a5e698a8-68ee-493f-bf1b-ffddea569762",
   "metadata": {
    "tags": []
   },
   "outputs": [
    {
     "data": {
      "text/html": [
       "<div>\n",
       "<style scoped>\n",
       "    .dataframe tbody tr th:only-of-type {\n",
       "        vertical-align: middle;\n",
       "    }\n",
       "\n",
       "    .dataframe tbody tr th {\n",
       "        vertical-align: top;\n",
       "    }\n",
       "\n",
       "    .dataframe thead th {\n",
       "        text-align: right;\n",
       "    }\n",
       "</style>\n",
       "<table border=\"1\" class=\"dataframe\">\n",
       "  <thead>\n",
       "    <tr style=\"text-align: right;\">\n",
       "      <th></th>\n",
       "    </tr>\n",
       "  </thead>\n",
       "  <tbody>\n",
       "  </tbody>\n",
       "</table>\n",
       "</div>"
      ],
      "text/plain": [
       "Empty DataFrame\n",
       "Columns: []\n",
       "Index: []"
      ]
     },
     "execution_count": 161,
     "metadata": {},
     "output_type": "execute_result"
    }
   ],
   "source": [
    "violations_df"
   ]
  },
  {
   "cell_type": "markdown",
   "id": "438f0f52-484c-4600-98e6-ea85e03f4507",
   "metadata": {},
   "source": [
    "---"
   ]
  },
  {
   "cell_type": "markdown",
   "id": "ef2669f3-a09b-4ca8-9a17-a706239f16c4",
   "metadata": {},
   "source": [
    "## Part 2: Monitor model quality\n",
    "Model quality monitoring jobs monitor the performance of a model by comparing the predictions that the model makes with the actual ground truth labels that the model attempts to predict. To do this, model quality monitoring merges data that is captured from real-time inference with actual labels (ground truth labels) that you store in an Amazon S3 bucket, and then compares the predictions with the ground truth labels.\n",
    "\n",
    "Model quality monitoring follows the same steps as data quality monitoring, but adds an additional step of merging the ground truth labels from Amazon S3 with the predictions captured from the real-time inference endpoint.\n",
    "\n",
    "To monitor model quality, follow these steps:\n",
    "1. Enable [data capture](https://docs.aws.amazon.com/sagemaker/latest/dg/model-monitor-data-capture.html)\n",
    "1. [Create a baseline](https://docs.aws.amazon.com/sagemaker/latest/dg/model-monitor-model-quality-baseline.html). A baseline job compares predictions from the model with ground truth labels in a baseline dataset\n",
    "1. [Schedule monitoring jobs](https://docs.aws.amazon.com/sagemaker/latest/dg/model-monitor-model-quality-schedule.html)\n",
    "1. [Ingest ground truth labels](https://docs.aws.amazon.com/sagemaker/latest/dg/model-monitor-model-quality-merge.html) that model monitor merges with captured prediction data from real-time inference endpoint\n",
    "1. [Intepret the results](https://docs.aws.amazon.com/sagemaker/latest/dg/model-monitor-interpreting-results.html)\n",
    "1. [Integrate model quality monitoring](https://docs.aws.amazon.com/sagemaker/latest/dg/model-monitor-model-quality-cw.html) with Amazon CloudWatch and Amazon EventBridge\n",
    "\n",
    "![](img/model-monitoring-architecture.png)\n",
    "\n",
    "In the following sections you implement the model quality monitoring in this lab environment."
   ]
  },
  {
   "cell_type": "markdown",
   "id": "eb60e48d-2299-4538-9c5d-0a7d70d2d397",
   "metadata": {},
   "source": [
    "### Define helper functions\n",
    "Some helper functions for model quality monitoring setup."
   ]
  },
  {
   "cell_type": "code",
   "execution_count": 190,
   "id": "77eaeb16-580e-4bf2-bab2-2b0ee7ef9a43",
   "metadata": {
    "tags": []
   },
   "outputs": [],
   "source": [
    "def generate_ground_truth_with_id(inference_id):\n",
    "    # set random seed to get consistent results\n",
    "    random.seed(inference_id) \n",
    "    rand = random.random()\n",
    "    \n",
    "    # format required by the merge container.\n",
    "    return {\n",
    "        \"groundTruthData\": {\n",
    "            \"data\": \"0\" if rand < 0.5 else \"1\", #str(rand),\n",
    "            \"encoding\": \"CSV\",\n",
    "        },\n",
    "        \"eventMetadata\": {\n",
    "            \"eventId\": str(inference_id), # eventId must correlate with the eventId in the data capture file\n",
    "        },\n",
    "        \"eventVersion\": \"0\",\n",
    "    }"
   ]
  },
  {
   "cell_type": "code",
   "execution_count": 191,
   "id": "10f7761d-11f9-4d6c-8881-71739bbcb8f1",
   "metadata": {
    "tags": []
   },
   "outputs": [],
   "source": [
    "def upload_ground_truth(ground_truth_upload_s3_url, file_name, records, upload_time):\n",
    "    target_s3_uri = f\"{ground_truth_upload_s3_url}/{upload_time:%Y/%m/%d/%H}/{file_name}\"\n",
    "    number_of_records = len(records.split('\\n'))\n",
    "    print(f\"Uploading {number_of_records} records to {target_s3_uri}\")\n",
    "    \n",
    "    S3Uploader.upload_string_as_file_body(records, target_s3_uri)\n",
    "    \n",
    "    return target_s3_uri"
   ]
  },
  {
   "cell_type": "markdown",
   "id": "424b2e00-e78f-4240-9e2d-036eeda422c2",
   "metadata": {},
   "source": [
    "### Create a model quality monitor\n",
    "Use the Python SDK class [`ModelQualityMonitor`](https://sagemaker.readthedocs.io/en/stable/api/inference/model_monitor.html#sagemaker.model_monitor.model_monitoring.ModelQualityMonitor) to create a model quality monitor and interact with it:"
   ]
  },
  {
   "cell_type": "code",
   "execution_count": 192,
   "id": "de436c73-5f6e-462e-af0e-bf9b9888dbc3",
   "metadata": {
    "tags": []
   },
   "outputs": [
    {
     "name": "stderr",
     "output_type": "stream",
     "text": [
      "INFO:sagemaker.image_uris:Defaulting to the only supported framework/algorithm version: .\n",
      "INFO:sagemaker.image_uris:Ignoring unnecessary instance type: None.\n"
     ]
    }
   ],
   "source": [
    "model_monitor = ModelQualityMonitor(\n",
    "    role=sm_role,\n",
    "    instance_count=1,\n",
    "    instance_type='ml.m5.xlarge',\n",
    "    volume_size_in_gb=20,\n",
    "    max_runtime_in_seconds=1800,\n",
    "    sagemaker_session=session\n",
    ")"
   ]
  },
  {
   "cell_type": "markdown",
   "id": "9cb71347-f441-4bcf-b992-ef175b147f8d",
   "metadata": {},
   "source": [
    "### Run a model quality baseline job\n",
    "Your model building pipeline in the [step 3](03-sagemaker-pipeline.ipynb) notebook saved the model predictions on the test dataset. Now you use the model monitor to establish a [model performance baseline](https://docs.aws.amazon.com/sagemaker/latest/dg/model-monitor-model-quality-baseline.html). The baseline dataset contains three columns with `predictions`, `probability`, and `label` values."
   ]
  },
  {
   "cell_type": "code",
   "execution_count": 193,
   "id": "24e53a69-7442-4ca4-ab9d-4284361e11e9",
   "metadata": {
    "tags": []
   },
   "outputs": [
    {
     "name": "stdout",
     "output_type": "stream",
     "text": [
      "2023-02-13 10:58:31      63064 prediction_baseline.csv\n"
     ]
    }
   ],
   "source": [
    "!aws s3 ls {prediction_baseline_s3_url}/"
   ]
  },
  {
   "cell_type": "code",
   "execution_count": 194,
   "id": "46ac144f-2021-4c11-a700-78c0a0d4986d",
   "metadata": {
    "tags": []
   },
   "outputs": [],
   "source": [
    "prediction_baseline_results_s3_url = f\"{prediction_baseline_s3_url}/results\"\n",
    "model_mon_reports_s3_url = f\"{prediction_baseline_s3_url}/reports\"\n",
    "prediction_baseline_dataset_uri = f\"{prediction_baseline_s3_url}/prediction_baseline.csv\""
   ]
  },
  {
   "cell_type": "code",
   "execution_count": 195,
   "id": "bd45888f-ce36-4123-b2dd-0ad5b04af059",
   "metadata": {
    "tags": []
   },
   "outputs": [
    {
     "name": "stderr",
     "output_type": "stream",
     "text": [
      "INFO:sagemaker:Creating processing-job with name from-idea-to-prod-model-baselining-13-20-51-05-baa3f00d\n"
     ]
    },
    {
     "name": "stdout",
     "output_type": "stream",
     "text": [
      "from-idea-to-prod-model-baselining-13-20-51-05-baa3f00d\n"
     ]
    }
   ],
   "source": [
    "model_baseline_job_name = f\"from-idea-to-prod-model-baselining-{strftime('%d-%H-%M-%S', gmtime())}-{str(uuid.uuid4())[:8]}\"\n",
    "\n",
    "model_baseline_job = model_monitor.suggest_baseline(\n",
    "    baseline_dataset=prediction_baseline_dataset_uri,\n",
    "    dataset_format=DatasetFormat.csv(header=True),\n",
    "    output_s3_uri = prediction_baseline_results_s3_url, \n",
    "    problem_type=\"BinaryClassification\",\n",
    "    inference_attribute= \"prediction\", # The column in the dataset that contains predictions\n",
    "    probability_attribute= \"probability\", # The column in the dataset that contains probabilities\n",
    "    ground_truth_attribute= \"label\", # The column in the dataset that contains ground truth labels\n",
    "    job_name=model_baseline_job_name,\n",
    ")\n",
    "\n",
    "print(model_baseline_job_name)"
   ]
  },
  {
   "cell_type": "code",
   "execution_count": 196,
   "id": "baa07041-8a17-4119-9e0e-eb01d292f5bc",
   "metadata": {
    "tags": []
   },
   "outputs": [
    {
     "name": "stdout",
     "output_type": "stream",
     "text": [
      "!"
     ]
    }
   ],
   "source": [
    "model_baseline_job.wait(logs=False)"
   ]
  },
  {
   "cell_type": "markdown",
   "id": "8e523654-e418-471f-a1ef-792c8b5c2c65",
   "metadata": {},
   "source": [
    "### Inspect the generated baseline statistics and constraints\n"
   ]
  },
  {
   "cell_type": "code",
   "execution_count": 197,
   "id": "822be080-92db-4bc9-8d44-1f0fc5de7c74",
   "metadata": {
    "tags": []
   },
   "outputs": [
    {
     "name": "stdout",
     "output_type": "stream",
     "text": [
      "2023-02-13 20:56:44       1372 constraints.json\n",
      "2023-02-13 20:56:44      86674 statistics.json\n"
     ]
    }
   ],
   "source": [
    "!aws s3 ls {prediction_baseline_results_s3_url}/"
   ]
  },
  {
   "cell_type": "code",
   "execution_count": 198,
   "id": "a574b321-d852-4fc0-a365-50d467df4ab3",
   "metadata": {
    "tags": []
   },
   "outputs": [
    {
     "data": {
      "text/html": [
       "<div>\n",
       "<style scoped>\n",
       "    .dataframe tbody tr th:only-of-type {\n",
       "        vertical-align: middle;\n",
       "    }\n",
       "\n",
       "    .dataframe tbody tr th {\n",
       "        vertical-align: top;\n",
       "    }\n",
       "\n",
       "    .dataframe thead th {\n",
       "        text-align: right;\n",
       "    }\n",
       "</style>\n",
       "<table border=\"1\" class=\"dataframe\">\n",
       "  <thead>\n",
       "    <tr style=\"text-align: right;\">\n",
       "      <th></th>\n",
       "      <th>threshold</th>\n",
       "      <th>comparison_operator</th>\n",
       "    </tr>\n",
       "  </thead>\n",
       "  <tbody>\n",
       "    <tr>\n",
       "      <th>recall</th>\n",
       "      <td>0.196687</td>\n",
       "      <td>LessThanThreshold</td>\n",
       "    </tr>\n",
       "    <tr>\n",
       "      <th>precision</th>\n",
       "      <td>0.693431</td>\n",
       "      <td>LessThanThreshold</td>\n",
       "    </tr>\n",
       "    <tr>\n",
       "      <th>accuracy</th>\n",
       "      <td>0.895606</td>\n",
       "      <td>LessThanThreshold</td>\n",
       "    </tr>\n",
       "    <tr>\n",
       "      <th>true_positive_rate</th>\n",
       "      <td>0.196687</td>\n",
       "      <td>LessThanThreshold</td>\n",
       "    </tr>\n",
       "    <tr>\n",
       "      <th>true_negative_rate</th>\n",
       "      <td>0.988449</td>\n",
       "      <td>LessThanThreshold</td>\n",
       "    </tr>\n",
       "    <tr>\n",
       "      <th>false_positive_rate</th>\n",
       "      <td>0.011551</td>\n",
       "      <td>GreaterThanThreshold</td>\n",
       "    </tr>\n",
       "    <tr>\n",
       "      <th>false_negative_rate</th>\n",
       "      <td>0.803313</td>\n",
       "      <td>GreaterThanThreshold</td>\n",
       "    </tr>\n",
       "    <tr>\n",
       "      <th>auc</th>\n",
       "      <td>0.770121</td>\n",
       "      <td>LessThanThreshold</td>\n",
       "    </tr>\n",
       "    <tr>\n",
       "      <th>f0_5</th>\n",
       "      <td>0.460718</td>\n",
       "      <td>LessThanThreshold</td>\n",
       "    </tr>\n",
       "    <tr>\n",
       "      <th>f1</th>\n",
       "      <td>0.306452</td>\n",
       "      <td>LessThanThreshold</td>\n",
       "    </tr>\n",
       "    <tr>\n",
       "      <th>f2</th>\n",
       "      <td>0.22958</td>\n",
       "      <td>LessThanThreshold</td>\n",
       "    </tr>\n",
       "  </tbody>\n",
       "</table>\n",
       "</div>"
      ],
      "text/plain": [
       "                    threshold   comparison_operator\n",
       "recall               0.196687     LessThanThreshold\n",
       "precision            0.693431     LessThanThreshold\n",
       "accuracy             0.895606     LessThanThreshold\n",
       "true_positive_rate   0.196687     LessThanThreshold\n",
       "true_negative_rate   0.988449     LessThanThreshold\n",
       "false_positive_rate  0.011551  GreaterThanThreshold\n",
       "false_negative_rate  0.803313  GreaterThanThreshold\n",
       "auc                  0.770121     LessThanThreshold\n",
       "f0_5                 0.460718     LessThanThreshold\n",
       "f1                   0.306452     LessThanThreshold\n",
       "f2                    0.22958     LessThanThreshold"
      ]
     },
     "execution_count": 198,
     "metadata": {},
     "output_type": "execute_result"
    }
   ],
   "source": [
    "latest_model_baseline_job = model_monitor.latest_baselining_job\n",
    "pd.DataFrame(latest_model_baseline_job.suggested_constraints().body_dict[\"binary_classification_constraints\"]).T"
   ]
  },
  {
   "cell_type": "code",
   "execution_count": 199,
   "id": "33693b7a-1939-43aa-b386-68f8e6fb4001",
   "metadata": {
    "tags": []
   },
   "outputs": [
    {
     "data": {
      "text/html": [
       "<div>\n",
       "<style scoped>\n",
       "    .dataframe tbody tr th:only-of-type {\n",
       "        vertical-align: middle;\n",
       "    }\n",
       "\n",
       "    .dataframe tbody tr th {\n",
       "        vertical-align: top;\n",
       "    }\n",
       "\n",
       "    .dataframe thead th {\n",
       "        text-align: right;\n",
       "    }\n",
       "</style>\n",
       "<table border=\"1\" class=\"dataframe\">\n",
       "  <thead>\n",
       "    <tr style=\"text-align: right;\">\n",
       "      <th></th>\n",
       "      <th>0</th>\n",
       "      <th>1</th>\n",
       "    </tr>\n",
       "  </thead>\n",
       "  <tbody>\n",
       "    <tr>\n",
       "      <th>0</th>\n",
       "      <td>3594</td>\n",
       "      <td>388</td>\n",
       "    </tr>\n",
       "    <tr>\n",
       "      <th>1</th>\n",
       "      <td>42</td>\n",
       "      <td>95</td>\n",
       "    </tr>\n",
       "  </tbody>\n",
       "</table>\n",
       "</div>"
      ],
      "text/plain": [
       "      0    1\n",
       "0  3594  388\n",
       "1    42   95"
      ]
     },
     "execution_count": 199,
     "metadata": {},
     "output_type": "execute_result"
    }
   ],
   "source": [
    "pd.DataFrame(latest_model_baseline_job.baseline_statistics().body_dict[\"binary_classification_metrics\"][\"confusion_matrix\"])"
   ]
  },
  {
   "cell_type": "code",
   "execution_count": 200,
   "id": "357a3234-3711-498b-a6f1-41c5e75a6f16",
   "metadata": {
    "tags": []
   },
   "outputs": [
    {
     "data": {
      "text/html": [
       "<div>\n",
       "<style scoped>\n",
       "    .dataframe tbody tr th:only-of-type {\n",
       "        vertical-align: middle;\n",
       "    }\n",
       "\n",
       "    .dataframe tbody tr th {\n",
       "        vertical-align: top;\n",
       "    }\n",
       "\n",
       "    .dataframe thead th {\n",
       "        text-align: right;\n",
       "    }\n",
       "</style>\n",
       "<table border=\"1\" class=\"dataframe\">\n",
       "  <thead>\n",
       "    <tr style=\"text-align: right;\">\n",
       "      <th></th>\n",
       "      <th>0</th>\n",
       "    </tr>\n",
       "  </thead>\n",
       "  <tbody>\n",
       "    <tr>\n",
       "      <th>confusion_matrix.0.0</th>\n",
       "      <td>3594</td>\n",
       "    </tr>\n",
       "    <tr>\n",
       "      <th>confusion_matrix.0.1</th>\n",
       "      <td>42</td>\n",
       "    </tr>\n",
       "    <tr>\n",
       "      <th>confusion_matrix.1.0</th>\n",
       "      <td>388</td>\n",
       "    </tr>\n",
       "    <tr>\n",
       "      <th>confusion_matrix.1.1</th>\n",
       "      <td>95</td>\n",
       "    </tr>\n",
       "    <tr>\n",
       "      <th>recall.value</th>\n",
       "      <td>0.196687</td>\n",
       "    </tr>\n",
       "    <tr>\n",
       "      <th>recall.standard_deviation</th>\n",
       "      <td>0.005727</td>\n",
       "    </tr>\n",
       "    <tr>\n",
       "      <th>precision.value</th>\n",
       "      <td>0.693431</td>\n",
       "    </tr>\n",
       "    <tr>\n",
       "      <th>precision.standard_deviation</th>\n",
       "      <td>0.013516</td>\n",
       "    </tr>\n",
       "    <tr>\n",
       "      <th>accuracy.value</th>\n",
       "      <td>0.895606</td>\n",
       "    </tr>\n",
       "    <tr>\n",
       "      <th>accuracy.standard_deviation</th>\n",
       "      <td>0.001225</td>\n",
       "    </tr>\n",
       "    <tr>\n",
       "      <th>recall_best_constant_classifier.value</th>\n",
       "      <td>0.0</td>\n",
       "    </tr>\n",
       "    <tr>\n",
       "      <th>recall_best_constant_classifier.standard_deviation</th>\n",
       "      <td>0.0</td>\n",
       "    </tr>\n",
       "    <tr>\n",
       "      <th>precision_best_constant_classifier.value</th>\n",
       "      <td>0.0</td>\n",
       "    </tr>\n",
       "    <tr>\n",
       "      <th>precision_best_constant_classifier.standard_deviation</th>\n",
       "      <td>0.0</td>\n",
       "    </tr>\n",
       "    <tr>\n",
       "      <th>accuracy_best_constant_classifier.value</th>\n",
       "      <td>0.882739</td>\n",
       "    </tr>\n",
       "    <tr>\n",
       "      <th>accuracy_best_constant_classifier.standard_deviation</th>\n",
       "      <td>0.001565</td>\n",
       "    </tr>\n",
       "    <tr>\n",
       "      <th>true_positive_rate.value</th>\n",
       "      <td>0.196687</td>\n",
       "    </tr>\n",
       "    <tr>\n",
       "      <th>true_positive_rate.standard_deviation</th>\n",
       "      <td>0.005727</td>\n",
       "    </tr>\n",
       "    <tr>\n",
       "      <th>true_negative_rate.value</th>\n",
       "      <td>0.988449</td>\n",
       "    </tr>\n",
       "    <tr>\n",
       "      <th>true_negative_rate.standard_deviation</th>\n",
       "      <td>0.000705</td>\n",
       "    </tr>\n",
       "    <tr>\n",
       "      <th>false_positive_rate.value</th>\n",
       "      <td>0.011551</td>\n",
       "    </tr>\n",
       "    <tr>\n",
       "      <th>false_positive_rate.standard_deviation</th>\n",
       "      <td>0.000705</td>\n",
       "    </tr>\n",
       "    <tr>\n",
       "      <th>false_negative_rate.value</th>\n",
       "      <td>0.803313</td>\n",
       "    </tr>\n",
       "    <tr>\n",
       "      <th>false_negative_rate.standard_deviation</th>\n",
       "      <td>0.005727</td>\n",
       "    </tr>\n",
       "    <tr>\n",
       "      <th>receiver_operating_characteristic_curve.false_positive_rates</th>\n",
       "      <td>[0.0, 0.0, 0.0, 0.0, 0.000275027502750275, 0.000275027502750275, 0.000275027502750275, 0.00055005500550055, 0.00055005500550055, 0.00055005500550055, 0.00055005500550055, 0.0008250825082508251, 0.0011001100110011, 0.0011001100110011, 0.0011001100110011, 0.0016501650165016502, 0.0016501650165016502, 0.0019251925192519251, 0.0024752475247524753, 0.0024752475247524753, 0.0024752475247524753, 0.0027502750275027505, 0.003025302530253025, 0.003025302530253025, 0.003025302530253025, 0.0038503850385038503, 0.0038503850385038503, 0.004125412541254125, 0.004675467546754675, 0.004675467546754675, 0.0049504950495049506, 0.0049504950495049506, 0.0049504950495049506, 0.0049504950495049506, 0.005225522552255226, 0.005225522552255226, 0.005500550055005501, 0.005500550055005501, 0.005775577557755775, 0.00605060506050605, 0.00605060506050605, 0.00605060506050605, 0.0063256325632563256, 0.0063256325632563256, 0.0063256325632563256, 0.006600660066006601, 0.006875687568756876, 0.007150715071507151, 0.007425742574257425, 0.007425742574257425, 0.007975797579757976, 0.00825082508250825, 0.00825082508250825, 0.008525852585258526, 0.0088008800880088, 0.0088008800880088, 0.009075907590759076, 0.00935093509350935, 0.00935093509350935, 0.009625962596259627, 0.009900990099009901, 0.010176017601760175, 0.010451045104510451, 0.010451045104510451, 0.011001100110011002, 0.011276127612761276, 0.01155115511551155, 0.011826182618261826, 0.0121012101210121, 0.012376237623762377, 0.012651265126512651, 0.012926292629262925, 0.013476347634763476, 0.014026402640264026, 0.014576457645764576, 0.01485148514851485, 0.015126512651265127, 0.015126512651265127, 0.015126512651265127, 0.01595159515951595, 0.016226622662266228, 0.0165016501650165, 0.016776677667766776, 0.016776677667766776, 0.017051705170517052, 0.0176017601760176, 0.017876787678767877, 0.018151815181518153, 0.018426842684268425, 0.019251925192519254, 0.019251925192519254, 0.019251925192519254, 0.019526952695269526, 0.020077007700770078, 0.02035203520352035, 0.020902090209020903, 0.020902090209020903, 0.021177117711771175, 0.02145214521452145, 0.021727172717271728, ...]</td>\n",
       "    </tr>\n",
       "    <tr>\n",
       "      <th>receiver_operating_characteristic_curve.true_positive_rates</th>\n",
       "      <td>[0.0, 0.004140786749482402, 0.008281573498964804, 0.012422360248447204, 0.014492753623188406, 0.018633540372670808, 0.022774327122153208, 0.024844720496894408, 0.028985507246376812, 0.033126293995859216, 0.037267080745341616, 0.039337474120082816, 0.041407867494824016, 0.045548654244306416, 0.049689440993788817, 0.049689440993788817, 0.053830227743271224, 0.057971014492753624, 0.057971014492753624, 0.062111801242236024, 0.06625258799171843, 0.06832298136645963, 0.07039337474120083, 0.07453416149068323, 0.07867494824016563, 0.07867494824016563, 0.08281573498964803, 0.08488612836438923, 0.08488612836438923, 0.08902691511387163, 0.09109730848861283, 0.09523809523809523, 0.09937888198757763, 0.10351966873706005, 0.10559006211180125, 0.10973084886128365, 0.11180124223602485, 0.11594202898550725, 0.11801242236024845, 0.12008281573498965, 0.12422360248447205, 0.12836438923395446, 0.13043478260869565, 0.13457556935817805, 0.13871635610766045, 0.14078674948240166, 0.14285714285714285, 0.14492753623188406, 0.14699792960662525, 0.15113871635610765, 0.15113871635610765, 0.15320910973084886, 0.15734989648033126, 0.15942028985507245, 0.16149068322981366, 0.16770186335403728, 0.16977225672877846, 0.17391304347826086, 0.17805383022774326, 0.18012422360248448, 0.18219461697722567, 0.18426501035196688, 0.18633540372670807, 0.19047619047619047, 0.19047619047619047, 0.19254658385093168, 0.19668737060041408, 0.19875776397515527, 0.20082815734989648, 0.2028985507246377, 0.20496894409937888, 0.2070393374741201, 0.2070393374741201, 0.2070393374741201, 0.20910973084886128, 0.2111801242236025, 0.21325051759834368, 0.21739130434782608, 0.22153209109730848, 0.2236024844720497, 0.22567287784679088, 0.22981366459627328, 0.2318840579710145, 0.2360248447204969, 0.23809523809523808, 0.23809523809523808, 0.2401656314699793, 0.2422360248447205, 0.2443064182194617, 0.2463768115942029, 0.2505175983436853, 0.2546583850931677, 0.2567287784679089, 0.2567287784679089, 0.2608695652173913, 0.2608695652173913, 0.2650103519668737, 0.2691511387163561, 0.2712215320910973, 0.2732919254658385, ...]</td>\n",
       "    </tr>\n",
       "    <tr>\n",
       "      <th>precision_recall_curve.precisions</th>\n",
       "      <td>[1.0, 1.0, 1.0, 1.0, 0.875, 0.9, 0.9166666666666666, 0.8571428571428571, 0.875, 0.8888888888888888, 0.9, 0.8636363636363636, 0.8333333333333334, 0.8461538461538461, 0.8571428571428571, 0.8, 0.8125, 0.8, 0.7567567567567568, 0.7692307692307693, 0.7804878048780488, 0.7674418604651163, 0.7555555555555555, 0.7659574468085106, 0.7755102040816326, 0.7307692307692307, 0.7407407407407407, 0.7321428571428571, 0.7068965517241379, 0.7166666666666667, 0.7096774193548387, 0.71875, 0.7272727272727273, 0.7352941176470589, 0.7285714285714285, 0.7361111111111112, 0.7297297297297297, 0.7368421052631579, 0.7307692307692307, 0.725, 0.7317073170731707, 0.7380952380952381, 0.7325581395348837, 0.7386363636363636, 0.7444444444444445, 0.7391304347826086, 0.7340425531914894, 0.7291666666666666, 0.7244897959183674, 0.73, 0.7156862745098039, 0.7115384615384616, 0.7169811320754716, 0.7129629629629629, 0.7090909090909091, 0.7168141592920354, 0.7130434782608696, 0.711864406779661, 0.7166666666666667, 0.7131147540983607, 0.7096774193548387, 0.7063492063492064, 0.703125, 0.7076923076923077, 0.696969696969697, 0.6940298507462687, 0.6934306569343066, 0.6906474820143885, 0.6879432624113475, 0.6853146853146853, 0.6827586206896552, 0.6802721088435374, 0.6711409395973155, 0.6622516556291391, 0.6558441558441559, 0.6538461538461539, 0.6518987341772152, 0.65625, 0.6604938271604939, 0.6506024096385542, 0.6488095238095238, 0.6491228070175439, 0.6473988439306358, 0.6514285714285715, 0.6497175141242938, 0.6424581005586593, 0.6408839779005525, 0.639344262295082, 0.6378378378378379, 0.6296296296296297, 0.6335078534031413, 0.6373056994818653, 0.6358974358974359, 0.6294416243654822, 0.63, 0.6237623762376238, 0.6274509803921569, 0.6280193236714976, 0.6267942583732058, 0.6255924170616114, ...]</td>\n",
       "    </tr>\n",
       "    <tr>\n",
       "      <th>precision_recall_curve.recalls</th>\n",
       "      <td>[0.0, 0.004140786749482402, 0.008281573498964804, 0.012422360248447204, 0.014492753623188406, 0.018633540372670808, 0.022774327122153208, 0.024844720496894408, 0.028985507246376812, 0.033126293995859216, 0.037267080745341616, 0.039337474120082816, 0.041407867494824016, 0.045548654244306416, 0.049689440993788817, 0.049689440993788817, 0.053830227743271224, 0.057971014492753624, 0.057971014492753624, 0.062111801242236024, 0.06625258799171843, 0.06832298136645963, 0.07039337474120083, 0.07453416149068323, 0.07867494824016563, 0.07867494824016563, 0.08281573498964803, 0.08488612836438923, 0.08488612836438923, 0.08902691511387163, 0.09109730848861283, 0.09523809523809523, 0.09937888198757763, 0.10351966873706005, 0.10559006211180125, 0.10973084886128365, 0.11180124223602485, 0.11594202898550725, 0.11801242236024845, 0.12008281573498965, 0.12422360248447205, 0.12836438923395446, 0.13043478260869565, 0.13457556935817805, 0.13871635610766045, 0.14078674948240166, 0.14285714285714285, 0.14492753623188406, 0.14699792960662525, 0.15113871635610765, 0.15113871635610765, 0.15320910973084886, 0.15734989648033126, 0.15942028985507245, 0.16149068322981366, 0.16770186335403728, 0.16977225672877846, 0.17391304347826086, 0.17805383022774326, 0.18012422360248448, 0.18219461697722567, 0.18426501035196688, 0.18633540372670807, 0.19047619047619047, 0.19047619047619047, 0.19254658385093168, 0.19668737060041408, 0.19875776397515527, 0.20082815734989648, 0.2028985507246377, 0.20496894409937888, 0.2070393374741201, 0.2070393374741201, 0.2070393374741201, 0.20910973084886128, 0.2111801242236025, 0.21325051759834368, 0.21739130434782608, 0.22153209109730848, 0.2236024844720497, 0.22567287784679088, 0.22981366459627328, 0.2318840579710145, 0.2360248447204969, 0.23809523809523808, 0.23809523809523808, 0.2401656314699793, 0.2422360248447205, 0.2443064182194617, 0.2463768115942029, 0.2505175983436853, 0.2546583850931677, 0.2567287784679089, 0.2567287784679089, 0.2608695652173913, 0.2608695652173913, 0.2650103519668737, 0.2691511387163561, 0.2712215320910973, 0.2732919254658385, ...]</td>\n",
       "    </tr>\n",
       "    <tr>\n",
       "      <th>auc.value</th>\n",
       "      <td>0.770121</td>\n",
       "    </tr>\n",
       "    <tr>\n",
       "      <th>auc.standard_deviation</th>\n",
       "      <td>0.00405</td>\n",
       "    </tr>\n",
       "    <tr>\n",
       "      <th>au_prc.value</th>\n",
       "      <td>0.438358</td>\n",
       "    </tr>\n",
       "    <tr>\n",
       "      <th>au_prc.standard_deviation</th>\n",
       "      <td>0.004435</td>\n",
       "    </tr>\n",
       "    <tr>\n",
       "      <th>f0_5.value</th>\n",
       "      <td>0.460718</td>\n",
       "    </tr>\n",
       "    <tr>\n",
       "      <th>f0_5.standard_deviation</th>\n",
       "      <td>0.00921</td>\n",
       "    </tr>\n",
       "    <tr>\n",
       "      <th>f1.value</th>\n",
       "      <td>0.306452</td>\n",
       "    </tr>\n",
       "    <tr>\n",
       "      <th>f1.standard_deviation</th>\n",
       "      <td>0.007551</td>\n",
       "    </tr>\n",
       "    <tr>\n",
       "      <th>f2.value</th>\n",
       "      <td>0.22958</td>\n",
       "    </tr>\n",
       "    <tr>\n",
       "      <th>f2.standard_deviation</th>\n",
       "      <td>0.00636</td>\n",
       "    </tr>\n",
       "    <tr>\n",
       "      <th>f0_5_best_constant_classifier.value</th>\n",
       "      <td>0.0</td>\n",
       "    </tr>\n",
       "    <tr>\n",
       "      <th>f0_5_best_constant_classifier.standard_deviation</th>\n",
       "      <td>0.0</td>\n",
       "    </tr>\n",
       "    <tr>\n",
       "      <th>f1_best_constant_classifier.value</th>\n",
       "      <td>0.0</td>\n",
       "    </tr>\n",
       "    <tr>\n",
       "      <th>f1_best_constant_classifier.standard_deviation</th>\n",
       "      <td>0.0</td>\n",
       "    </tr>\n",
       "    <tr>\n",
       "      <th>f2_best_constant_classifier.value</th>\n",
       "      <td>0.0</td>\n",
       "    </tr>\n",
       "    <tr>\n",
       "      <th>f2_best_constant_classifier.standard_deviation</th>\n",
       "      <td>0.0</td>\n",
       "    </tr>\n",
       "  </tbody>\n",
       "</table>\n",
       "</div>"
      ],
      "text/plain": [
       "                                                                                                                                                                                                                                                                                                                                                                                                                                                                                                                                                                                                                                                                                                                                                                                                                                                                                                                                                                                                                                                                                                                                                                                                                                                                                                                                                                                                                                                                                                                                                                                                                                                                                                                                                                                                                                                                                                                                                                                                                                                                                                                                                                                                                                                                       0\n",
       "confusion_matrix.0.0                                                                                                                                                                                                                                                                                                                                                                                                                                                                                                                                                                                                                                                                                                                                                                                                                                                                                                                                                                                                                                                                                                                                                                                                                                                                                                                                                                                                                                                                                                                                                                                                                                                                                                                                                                                                                                                                                                                                                                                                                                                                                                                                                                                                                                                3594\n",
       "confusion_matrix.0.1                                                                                                                                                                                                                                                                                                                                                                                                                                                                                                                                                                                                                                                                                                                                                                                                                                                                                                                                                                                                                                                                                                                                                                                                                                                                                                                                                                                                                                                                                                                                                                                                                                                                                                                                                                                                                                                                                                                                                                                                                                                                                                                                                                                                                                                  42\n",
       "confusion_matrix.1.0                                                                                                                                                                                                                                                                                                                                                                                                                                                                                                                                                                                                                                                                                                                                                                                                                                                                                                                                                                                                                                                                                                                                                                                                                                                                                                                                                                                                                                                                                                                                                                                                                                                                                                                                                                                                                                                                                                                                                                                                                                                                                                                                                                                                                                                 388\n",
       "confusion_matrix.1.1                                                                                                                                                                                                                                                                                                                                                                                                                                                                                                                                                                                                                                                                                                                                                                                                                                                                                                                                                                                                                                                                                                                                                                                                                                                                                                                                                                                                                                                                                                                                                                                                                                                                                                                                                                                                                                                                                                                                                                                                                                                                                                                                                                                                                                                  95\n",
       "recall.value                                                                                                                                                                                                                                                                                                                                                                                                                                                                                                                                                                                                                                                                                                                                                                                                                                                                                                                                                                                                                                                                                                                                                                                                                                                                                                                                                                                                                                                                                                                                                                                                                                                                                                                                                                                                                                                                                                                                                                                                                                                                                                                                                                                                                                                    0.196687\n",
       "recall.standard_deviation                                                                                                                                                                                                                                                                                                                                                                                                                                                                                                                                                                                                                                                                                                                                                                                                                                                                                                                                                                                                                                                                                                                                                                                                                                                                                                                                                                                                                                                                                                                                                                                                                                                                                                                                                                                                                                                                                                                                                                                                                                                                                                                                                                                                                                       0.005727\n",
       "precision.value                                                                                                                                                                                                                                                                                                                                                                                                                                                                                                                                                                                                                                                                                                                                                                                                                                                                                                                                                                                                                                                                                                                                                                                                                                                                                                                                                                                                                                                                                                                                                                                                                                                                                                                                                                                                                                                                                                                                                                                                                                                                                                                                                                                                                                                 0.693431\n",
       "precision.standard_deviation                                                                                                                                                                                                                                                                                                                                                                                                                                                                                                                                                                                                                                                                                                                                                                                                                                                                                                                                                                                                                                                                                                                                                                                                                                                                                                                                                                                                                                                                                                                                                                                                                                                                                                                                                                                                                                                                                                                                                                                                                                                                                                                                                                                                                                    0.013516\n",
       "accuracy.value                                                                                                                                                                                                                                                                                                                                                                                                                                                                                                                                                                                                                                                                                                                                                                                                                                                                                                                                                                                                                                                                                                                                                                                                                                                                                                                                                                                                                                                                                                                                                                                                                                                                                                                                                                                                                                                                                                                                                                                                                                                                                                                                                                                                                                                  0.895606\n",
       "accuracy.standard_deviation                                                                                                                                                                                                                                                                                                                                                                                                                                                                                                                                                                                                                                                                                                                                                                                                                                                                                                                                                                                                                                                                                                                                                                                                                                                                                                                                                                                                                                                                                                                                                                                                                                                                                                                                                                                                                                                                                                                                                                                                                                                                                                                                                                                                                                     0.001225\n",
       "recall_best_constant_classifier.value                                                                                                                                                                                                                                                                                                                                                                                                                                                                                                                                                                                                                                                                                                                                                                                                                                                                                                                                                                                                                                                                                                                                                                                                                                                                                                                                                                                                                                                                                                                                                                                                                                                                                                                                                                                                                                                                                                                                                                                                                                                                                                                                                                                                                                0.0\n",
       "recall_best_constant_classifier.standard_deviation                                                                                                                                                                                                                                                                                                                                                                                                                                                                                                                                                                                                                                                                                                                                                                                                                                                                                                                                                                                                                                                                                                                                                                                                                                                                                                                                                                                                                                                                                                                                                                                                                                                                                                                                                                                                                                                                                                                                                                                                                                                                                                                                                                                                                   0.0\n",
       "precision_best_constant_classifier.value                                                                                                                                                                                                                                                                                                                                                                                                                                                                                                                                                                                                                                                                                                                                                                                                                                                                                                                                                                                                                                                                                                                                                                                                                                                                                                                                                                                                                                                                                                                                                                                                                                                                                                                                                                                                                                                                                                                                                                                                                                                                                                                                                                                                                             0.0\n",
       "precision_best_constant_classifier.standard_deviation                                                                                                                                                                                                                                                                                                                                                                                                                                                                                                                                                                                                                                                                                                                                                                                                                                                                                                                                                                                                                                                                                                                                                                                                                                                                                                                                                                                                                                                                                                                                                                                                                                                                                                                                                                                                                                                                                                                                                                                                                                                                                                                                                                                                                0.0\n",
       "accuracy_best_constant_classifier.value                                                                                                                                                                                                                                                                                                                                                                                                                                                                                                                                                                                                                                                                                                                                                                                                                                                                                                                                                                                                                                                                                                                                                                                                                                                                                                                                                                                                                                                                                                                                                                                                                                                                                                                                                                                                                                                                                                                                                                                                                                                                                                                                                                                                                         0.882739\n",
       "accuracy_best_constant_classifier.standard_deviation                                                                                                                                                                                                                                                                                                                                                                                                                                                                                                                                                                                                                                                                                                                                                                                                                                                                                                                                                                                                                                                                                                                                                                                                                                                                                                                                                                                                                                                                                                                                                                                                                                                                                                                                                                                                                                                                                                                                                                                                                                                                                                                                                                                                            0.001565\n",
       "true_positive_rate.value                                                                                                                                                                                                                                                                                                                                                                                                                                                                                                                                                                                                                                                                                                                                                                                                                                                                                                                                                                                                                                                                                                                                                                                                                                                                                                                                                                                                                                                                                                                                                                                                                                                                                                                                                                                                                                                                                                                                                                                                                                                                                                                                                                                                                                        0.196687\n",
       "true_positive_rate.standard_deviation                                                                                                                                                                                                                                                                                                                                                                                                                                                                                                                                                                                                                                                                                                                                                                                                                                                                                                                                                                                                                                                                                                                                                                                                                                                                                                                                                                                                                                                                                                                                                                                                                                                                                                                                                                                                                                                                                                                                                                                                                                                                                                                                                                                                                           0.005727\n",
       "true_negative_rate.value                                                                                                                                                                                                                                                                                                                                                                                                                                                                                                                                                                                                                                                                                                                                                                                                                                                                                                                                                                                                                                                                                                                                                                                                                                                                                                                                                                                                                                                                                                                                                                                                                                                                                                                                                                                                                                                                                                                                                                                                                                                                                                                                                                                                                                        0.988449\n",
       "true_negative_rate.standard_deviation                                                                                                                                                                                                                                                                                                                                                                                                                                                                                                                                                                                                                                                                                                                                                                                                                                                                                                                                                                                                                                                                                                                                                                                                                                                                                                                                                                                                                                                                                                                                                                                                                                                                                                                                                                                                                                                                                                                                                                                                                                                                                                                                                                                                                           0.000705\n",
       "false_positive_rate.value                                                                                                                                                                                                                                                                                                                                                                                                                                                                                                                                                                                                                                                                                                                                                                                                                                                                                                                                                                                                                                                                                                                                                                                                                                                                                                                                                                                                                                                                                                                                                                                                                                                                                                                                                                                                                                                                                                                                                                                                                                                                                                                                                                                                                                       0.011551\n",
       "false_positive_rate.standard_deviation                                                                                                                                                                                                                                                                                                                                                                                                                                                                                                                                                                                                                                                                                                                                                                                                                                                                                                                                                                                                                                                                                                                                                                                                                                                                                                                                                                                                                                                                                                                                                                                                                                                                                                                                                                                                                                                                                                                                                                                                                                                                                                                                                                                                                          0.000705\n",
       "false_negative_rate.value                                                                                                                                                                                                                                                                                                                                                                                                                                                                                                                                                                                                                                                                                                                                                                                                                                                                                                                                                                                                                                                                                                                                                                                                                                                                                                                                                                                                                                                                                                                                                                                                                                                                                                                                                                                                                                                                                                                                                                                                                                                                                                                                                                                                                                       0.803313\n",
       "false_negative_rate.standard_deviation                                                                                                                                                                                                                                                                                                                                                                                                                                                                                                                                                                                                                                                                                                                                                                                                                                                                                                                                                                                                                                                                                                                                                                                                                                                                                                                                                                                                                                                                                                                                                                                                                                                                                                                                                                                                                                                                                                                                                                                                                                                                                                                                                                                                                          0.005727\n",
       "receiver_operating_characteristic_curve.false_positive_rates  [0.0, 0.0, 0.0, 0.0, 0.000275027502750275, 0.000275027502750275, 0.000275027502750275, 0.00055005500550055, 0.00055005500550055, 0.00055005500550055, 0.00055005500550055, 0.0008250825082508251, 0.0011001100110011, 0.0011001100110011, 0.0011001100110011, 0.0016501650165016502, 0.0016501650165016502, 0.0019251925192519251, 0.0024752475247524753, 0.0024752475247524753, 0.0024752475247524753, 0.0027502750275027505, 0.003025302530253025, 0.003025302530253025, 0.003025302530253025, 0.0038503850385038503, 0.0038503850385038503, 0.004125412541254125, 0.004675467546754675, 0.004675467546754675, 0.0049504950495049506, 0.0049504950495049506, 0.0049504950495049506, 0.0049504950495049506, 0.005225522552255226, 0.005225522552255226, 0.005500550055005501, 0.005500550055005501, 0.005775577557755775, 0.00605060506050605, 0.00605060506050605, 0.00605060506050605, 0.0063256325632563256, 0.0063256325632563256, 0.0063256325632563256, 0.006600660066006601, 0.006875687568756876, 0.007150715071507151, 0.007425742574257425, 0.007425742574257425, 0.007975797579757976, 0.00825082508250825, 0.00825082508250825, 0.008525852585258526, 0.0088008800880088, 0.0088008800880088, 0.009075907590759076, 0.00935093509350935, 0.00935093509350935, 0.009625962596259627, 0.009900990099009901, 0.010176017601760175, 0.010451045104510451, 0.010451045104510451, 0.011001100110011002, 0.011276127612761276, 0.01155115511551155, 0.011826182618261826, 0.0121012101210121, 0.012376237623762377, 0.012651265126512651, 0.012926292629262925, 0.013476347634763476, 0.014026402640264026, 0.014576457645764576, 0.01485148514851485, 0.015126512651265127, 0.015126512651265127, 0.015126512651265127, 0.01595159515951595, 0.016226622662266228, 0.0165016501650165, 0.016776677667766776, 0.016776677667766776, 0.017051705170517052, 0.0176017601760176, 0.017876787678767877, 0.018151815181518153, 0.018426842684268425, 0.019251925192519254, 0.019251925192519254, 0.019251925192519254, 0.019526952695269526, 0.020077007700770078, 0.02035203520352035, 0.020902090209020903, 0.020902090209020903, 0.021177117711771175, 0.02145214521452145, 0.021727172717271728, ...]\n",
       "receiver_operating_characteristic_curve.true_positive_rates                                       [0.0, 0.004140786749482402, 0.008281573498964804, 0.012422360248447204, 0.014492753623188406, 0.018633540372670808, 0.022774327122153208, 0.024844720496894408, 0.028985507246376812, 0.033126293995859216, 0.037267080745341616, 0.039337474120082816, 0.041407867494824016, 0.045548654244306416, 0.049689440993788817, 0.049689440993788817, 0.053830227743271224, 0.057971014492753624, 0.057971014492753624, 0.062111801242236024, 0.06625258799171843, 0.06832298136645963, 0.07039337474120083, 0.07453416149068323, 0.07867494824016563, 0.07867494824016563, 0.08281573498964803, 0.08488612836438923, 0.08488612836438923, 0.08902691511387163, 0.09109730848861283, 0.09523809523809523, 0.09937888198757763, 0.10351966873706005, 0.10559006211180125, 0.10973084886128365, 0.11180124223602485, 0.11594202898550725, 0.11801242236024845, 0.12008281573498965, 0.12422360248447205, 0.12836438923395446, 0.13043478260869565, 0.13457556935817805, 0.13871635610766045, 0.14078674948240166, 0.14285714285714285, 0.14492753623188406, 0.14699792960662525, 0.15113871635610765, 0.15113871635610765, 0.15320910973084886, 0.15734989648033126, 0.15942028985507245, 0.16149068322981366, 0.16770186335403728, 0.16977225672877846, 0.17391304347826086, 0.17805383022774326, 0.18012422360248448, 0.18219461697722567, 0.18426501035196688, 0.18633540372670807, 0.19047619047619047, 0.19047619047619047, 0.19254658385093168, 0.19668737060041408, 0.19875776397515527, 0.20082815734989648, 0.2028985507246377, 0.20496894409937888, 0.2070393374741201, 0.2070393374741201, 0.2070393374741201, 0.20910973084886128, 0.2111801242236025, 0.21325051759834368, 0.21739130434782608, 0.22153209109730848, 0.2236024844720497, 0.22567287784679088, 0.22981366459627328, 0.2318840579710145, 0.2360248447204969, 0.23809523809523808, 0.23809523809523808, 0.2401656314699793, 0.2422360248447205, 0.2443064182194617, 0.2463768115942029, 0.2505175983436853, 0.2546583850931677, 0.2567287784679089, 0.2567287784679089, 0.2608695652173913, 0.2608695652173913, 0.2650103519668737, 0.2691511387163561, 0.2712215320910973, 0.2732919254658385, ...]\n",
       "precision_recall_curve.precisions                                                                                                                                                                                                                                                                                                                                                                                            [1.0, 1.0, 1.0, 1.0, 0.875, 0.9, 0.9166666666666666, 0.8571428571428571, 0.875, 0.8888888888888888, 0.9, 0.8636363636363636, 0.8333333333333334, 0.8461538461538461, 0.8571428571428571, 0.8, 0.8125, 0.8, 0.7567567567567568, 0.7692307692307693, 0.7804878048780488, 0.7674418604651163, 0.7555555555555555, 0.7659574468085106, 0.7755102040816326, 0.7307692307692307, 0.7407407407407407, 0.7321428571428571, 0.7068965517241379, 0.7166666666666667, 0.7096774193548387, 0.71875, 0.7272727272727273, 0.7352941176470589, 0.7285714285714285, 0.7361111111111112, 0.7297297297297297, 0.7368421052631579, 0.7307692307692307, 0.725, 0.7317073170731707, 0.7380952380952381, 0.7325581395348837, 0.7386363636363636, 0.7444444444444445, 0.7391304347826086, 0.7340425531914894, 0.7291666666666666, 0.7244897959183674, 0.73, 0.7156862745098039, 0.7115384615384616, 0.7169811320754716, 0.7129629629629629, 0.7090909090909091, 0.7168141592920354, 0.7130434782608696, 0.711864406779661, 0.7166666666666667, 0.7131147540983607, 0.7096774193548387, 0.7063492063492064, 0.703125, 0.7076923076923077, 0.696969696969697, 0.6940298507462687, 0.6934306569343066, 0.6906474820143885, 0.6879432624113475, 0.6853146853146853, 0.6827586206896552, 0.6802721088435374, 0.6711409395973155, 0.6622516556291391, 0.6558441558441559, 0.6538461538461539, 0.6518987341772152, 0.65625, 0.6604938271604939, 0.6506024096385542, 0.6488095238095238, 0.6491228070175439, 0.6473988439306358, 0.6514285714285715, 0.6497175141242938, 0.6424581005586593, 0.6408839779005525, 0.639344262295082, 0.6378378378378379, 0.6296296296296297, 0.6335078534031413, 0.6373056994818653, 0.6358974358974359, 0.6294416243654822, 0.63, 0.6237623762376238, 0.6274509803921569, 0.6280193236714976, 0.6267942583732058, 0.6255924170616114, ...]\n",
       "precision_recall_curve.recalls                                                                    [0.0, 0.004140786749482402, 0.008281573498964804, 0.012422360248447204, 0.014492753623188406, 0.018633540372670808, 0.022774327122153208, 0.024844720496894408, 0.028985507246376812, 0.033126293995859216, 0.037267080745341616, 0.039337474120082816, 0.041407867494824016, 0.045548654244306416, 0.049689440993788817, 0.049689440993788817, 0.053830227743271224, 0.057971014492753624, 0.057971014492753624, 0.062111801242236024, 0.06625258799171843, 0.06832298136645963, 0.07039337474120083, 0.07453416149068323, 0.07867494824016563, 0.07867494824016563, 0.08281573498964803, 0.08488612836438923, 0.08488612836438923, 0.08902691511387163, 0.09109730848861283, 0.09523809523809523, 0.09937888198757763, 0.10351966873706005, 0.10559006211180125, 0.10973084886128365, 0.11180124223602485, 0.11594202898550725, 0.11801242236024845, 0.12008281573498965, 0.12422360248447205, 0.12836438923395446, 0.13043478260869565, 0.13457556935817805, 0.13871635610766045, 0.14078674948240166, 0.14285714285714285, 0.14492753623188406, 0.14699792960662525, 0.15113871635610765, 0.15113871635610765, 0.15320910973084886, 0.15734989648033126, 0.15942028985507245, 0.16149068322981366, 0.16770186335403728, 0.16977225672877846, 0.17391304347826086, 0.17805383022774326, 0.18012422360248448, 0.18219461697722567, 0.18426501035196688, 0.18633540372670807, 0.19047619047619047, 0.19047619047619047, 0.19254658385093168, 0.19668737060041408, 0.19875776397515527, 0.20082815734989648, 0.2028985507246377, 0.20496894409937888, 0.2070393374741201, 0.2070393374741201, 0.2070393374741201, 0.20910973084886128, 0.2111801242236025, 0.21325051759834368, 0.21739130434782608, 0.22153209109730848, 0.2236024844720497, 0.22567287784679088, 0.22981366459627328, 0.2318840579710145, 0.2360248447204969, 0.23809523809523808, 0.23809523809523808, 0.2401656314699793, 0.2422360248447205, 0.2443064182194617, 0.2463768115942029, 0.2505175983436853, 0.2546583850931677, 0.2567287784679089, 0.2567287784679089, 0.2608695652173913, 0.2608695652173913, 0.2650103519668737, 0.2691511387163561, 0.2712215320910973, 0.2732919254658385, ...]\n",
       "auc.value                                                                                                                                                                                                                                                                                                                                                                                                                                                                                                                                                                                                                                                                                                                                                                                                                                                                                                                                                                                                                                                                                                                                                                                                                                                                                                                                                                                                                                                                                                                                                                                                                                                                                                                                                                                                                                                                                                                                                                                                                                                                                                                                                                                                                                                       0.770121\n",
       "auc.standard_deviation                                                                                                                                                                                                                                                                                                                                                                                                                                                                                                                                                                                                                                                                                                                                                                                                                                                                                                                                                                                                                                                                                                                                                                                                                                                                                                                                                                                                                                                                                                                                                                                                                                                                                                                                                                                                                                                                                                                                                                                                                                                                                                                                                                                                                                           0.00405\n",
       "au_prc.value                                                                                                                                                                                                                                                                                                                                                                                                                                                                                                                                                                                                                                                                                                                                                                                                                                                                                                                                                                                                                                                                                                                                                                                                                                                                                                                                                                                                                                                                                                                                                                                                                                                                                                                                                                                                                                                                                                                                                                                                                                                                                                                                                                                                                                                    0.438358\n",
       "au_prc.standard_deviation                                                                                                                                                                                                                                                                                                                                                                                                                                                                                                                                                                                                                                                                                                                                                                                                                                                                                                                                                                                                                                                                                                                                                                                                                                                                                                                                                                                                                                                                                                                                                                                                                                                                                                                                                                                                                                                                                                                                                                                                                                                                                                                                                                                                                                       0.004435\n",
       "f0_5.value                                                                                                                                                                                                                                                                                                                                                                                                                                                                                                                                                                                                                                                                                                                                                                                                                                                                                                                                                                                                                                                                                                                                                                                                                                                                                                                                                                                                                                                                                                                                                                                                                                                                                                                                                                                                                                                                                                                                                                                                                                                                                                                                                                                                                                                      0.460718\n",
       "f0_5.standard_deviation                                                                                                                                                                                                                                                                                                                                                                                                                                                                                                                                                                                                                                                                                                                                                                                                                                                                                                                                                                                                                                                                                                                                                                                                                                                                                                                                                                                                                                                                                                                                                                                                                                                                                                                                                                                                                                                                                                                                                                                                                                                                                                                                                                                                                                          0.00921\n",
       "f1.value                                                                                                                                                                                                                                                                                                                                                                                                                                                                                                                                                                                                                                                                                                                                                                                                                                                                                                                                                                                                                                                                                                                                                                                                                                                                                                                                                                                                                                                                                                                                                                                                                                                                                                                                                                                                                                                                                                                                                                                                                                                                                                                                                                                                                                                        0.306452\n",
       "f1.standard_deviation                                                                                                                                                                                                                                                                                                                                                                                                                                                                                                                                                                                                                                                                                                                                                                                                                                                                                                                                                                                                                                                                                                                                                                                                                                                                                                                                                                                                                                                                                                                                                                                                                                                                                                                                                                                                                                                                                                                                                                                                                                                                                                                                                                                                                                           0.007551\n",
       "f2.value                                                                                                                                                                                                                                                                                                                                                                                                                                                                                                                                                                                                                                                                                                                                                                                                                                                                                                                                                                                                                                                                                                                                                                                                                                                                                                                                                                                                                                                                                                                                                                                                                                                                                                                                                                                                                                                                                                                                                                                                                                                                                                                                                                                                                                                         0.22958\n",
       "f2.standard_deviation                                                                                                                                                                                                                                                                                                                                                                                                                                                                                                                                                                                                                                                                                                                                                                                                                                                                                                                                                                                                                                                                                                                                                                                                                                                                                                                                                                                                                                                                                                                                                                                                                                                                                                                                                                                                                                                                                                                                                                                                                                                                                                                                                                                                                                            0.00636\n",
       "f0_5_best_constant_classifier.value                                                                                                                                                                                                                                                                                                                                                                                                                                                                                                                                                                                                                                                                                                                                                                                                                                                                                                                                                                                                                                                                                                                                                                                                                                                                                                                                                                                                                                                                                                                                                                                                                                                                                                                                                                                                                                                                                                                                                                                                                                                                                                                                                                                                                                  0.0\n",
       "f0_5_best_constant_classifier.standard_deviation                                                                                                                                                                                                                                                                                                                                                                                                                                                                                                                                                                                                                                                                                                                                                                                                                                                                                                                                                                                                                                                                                                                                                                                                                                                                                                                                                                                                                                                                                                                                                                                                                                                                                                                                                                                                                                                                                                                                                                                                                                                                                                                                                                                                                     0.0\n",
       "f1_best_constant_classifier.value                                                                                                                                                                                                                                                                                                                                                                                                                                                                                                                                                                                                                                                                                                                                                                                                                                                                                                                                                                                                                                                                                                                                                                                                                                                                                                                                                                                                                                                                                                                                                                                                                                                                                                                                                                                                                                                                                                                                                                                                                                                                                                                                                                                                                                    0.0\n",
       "f1_best_constant_classifier.standard_deviation                                                                                                                                                                                                                                                                                                                                                                                                                                                                                                                                                                                                                                                                                                                                                                                                                                                                                                                                                                                                                                                                                                                                                                                                                                                                                                                                                                                                                                                                                                                                                                                                                                                                                                                                                                                                                                                                                                                                                                                                                                                                                                                                                                                                                       0.0\n",
       "f2_best_constant_classifier.value                                                                                                                                                                                                                                                                                                                                                                                                                                                                                                                                                                                                                                                                                                                                                                                                                                                                                                                                                                                                                                                                                                                                                                                                                                                                                                                                                                                                                                                                                                                                                                                                                                                                                                                                                                                                                                                                                                                                                                                                                                                                                                                                                                                                                                    0.0\n",
       "f2_best_constant_classifier.standard_deviation                                                                                                                                                                                                                                                                                                                                                                                                                                                                                                                                                                                                                                                                                                                                                                                                                                                                                                                                                                                                                                                                                                                                                                                                                                                                                                                                                                                                                                                                                                                                                                                                                                                                                                                                                                                                                                                                                                                                                                                                                                                                                                                                                                                                                       0.0"
      ]
     },
     "execution_count": 200,
     "metadata": {},
     "output_type": "execute_result"
    }
   ],
   "source": [
    "pd.json_normalize(latest_model_baseline_job.baseline_statistics().body_dict[\"binary_classification_metrics\"]).T"
   ]
  },
  {
   "cell_type": "markdown",
   "id": "684e7f90-9d9a-4f56-a2f2-53fdd20dd7db",
   "metadata": {
    "tags": []
   },
   "source": [
    "### Generate endpoint traffic\n",
    "Generate synthetic traffic to the endpoint to capture inference input and output."
   ]
  },
  {
   "cell_type": "code",
   "execution_count": 201,
   "id": "a2264390-6e98-49bd-b6cb-c44a1b537543",
   "metadata": {
    "tags": []
   },
   "outputs": [
    {
     "name": "stdout",
     "output_type": "stream",
     "text": [
      "Found 2 files in s3://sagemaker-us-east-1-906545278380/from-idea-to-prod/xgboost/data-capture\n",
      "Latest data capture S3 url: s3://sagemaker-us-east-1-906545278380/from-idea-to-prod/xgboost/data-capture/from-idea-to-prod-endpoint-13-15-39-04/AllTraffic/2023/02/13/16\n"
     ]
    }
   ],
   "source": [
    "# Remove previous data capture saved to the S3 bucket\n",
    "latest_data_capture_s3_url = get_latest_data_capture_s3_url(data_capture_bucket, data_capture_prefix)"
   ]
  },
  {
   "cell_type": "code",
   "execution_count": 202,
   "id": "90f61c9b-930f-4386-a19e-79aeb05a84d6",
   "metadata": {
    "tags": []
   },
   "outputs": [],
   "source": [
    "# uncomment the next line to remove the previous data capture files\n",
    "# !aws s3 rm {latest_data_capture_s3_url} --recursive"
   ]
  },
  {
   "cell_type": "code",
   "execution_count": 203,
   "id": "9c7a800a-2ade-4351-853b-f664e548380d",
   "metadata": {
    "tags": []
   },
   "outputs": [
    {
     "data": {
      "text/plain": [
       "(100, 59)"
      ]
     },
     "execution_count": 203,
     "metadata": {},
     "output_type": "execute_result"
    }
   ],
   "source": [
    "test_x.shape"
   ]
  },
  {
   "cell_type": "code",
   "execution_count": 204,
   "id": "e2f37968-40d3-4cbb-a385-b6584b0b4292",
   "metadata": {
    "tags": []
   },
   "outputs": [
    {
     "name": "stderr",
     "output_type": "stream",
     "text": [
      "100%|██████████| 100/100 [00:01<00:00, 77.46it/s]\n"
     ]
    }
   ],
   "source": [
    "generate_endpoint_traffic(predictor, test_x)"
   ]
  },
  {
   "cell_type": "markdown",
   "id": "f7f40678-d789-465c-9203-3e820712b8c6",
   "metadata": {},
   "source": [
    "Wait until captured data appears in the Amazon S3 bucket, it may take several minutes. The capture data is delivered to the Amazon S3 prefix `{data-capture-prefix}/{EndpointName}/{VariantName}/{year}/{month}/{day}/{UTC hour}`."
   ]
  },
  {
   "cell_type": "code",
   "execution_count": 206,
   "id": "f1cf1d60-12af-45e4-8f46-4a43900e9438",
   "metadata": {
    "tags": []
   },
   "outputs": [
    {
     "name": "stdout",
     "output_type": "stream",
     "text": [
      "2023-02-13 15:53:40      48702 from-idea-to-prod/xgboost/data-capture/from-idea-to-prod-endpoint-13-15-39-04/AllTraffic/2023/02/13/15/52-32-739-b3380519-6e72-4079-ac47-13312a2eb253.jsonl\n",
      "2023-02-13 16:21:30      48890 from-idea-to-prod/xgboost/data-capture/from-idea-to-prod-endpoint-13-15-39-04/AllTraffic/2023/02/13/16/20-24-369-8f1b57e7-8215-4711-9889-c908d356f5fc.jsonl\n",
      "2023-02-13 21:04:40      48702 from-idea-to-prod/xgboost/data-capture/from-idea-to-prod-endpoint-13-15-39-04/AllTraffic/2023/02/13/21/03-35-139-5a322d84-4197-4e5e-86e2-8ec9b36f5fb7.jsonl\n"
     ]
    }
   ],
   "source": [
    "!aws s3 ls {data_capture_s3_url} --recursive"
   ]
  },
  {
   "cell_type": "markdown",
   "id": "70d39787-cad6-4939-be12-230e3100bc6a",
   "metadata": {},
   "source": [
    "### Ingest ground truth data\n",
    "<div class=\"alert alert-info\"> 💡 <strong> Run this section only after the capture data from the latest endpoint invocations has appeared in the Amazon S3 bucket. The capture data is organized based on the UTC hour in which the invocation happened.</strong>\n",
    "</div>\n",
    "\n",
    "For model monitoring you must have ground truths labels that the model monitor merges with captured inference data from the endpoint.\n",
    "\n",
    "In this lab environment you generate synthetic ground truth data to use with the model quality monitoring. In a real-time project you need to implement a workflow to produce and store the ground truth labels to evaluate the quality of the model predictions.\n",
    "\n",
    "The following code cells generate and save synthetic ground truth labels for all inference records in the latest capture data files."
   ]
  },
  {
   "cell_type": "code",
   "execution_count": 207,
   "id": "01919bfe-55e4-4c0f-b1bd-343f61b0454e",
   "metadata": {
    "tags": []
   },
   "outputs": [
    {
     "data": {
      "text/plain": [
       "'s3://sagemaker-us-east-1-906545278380/ground_truth_data/from-idea-to-prod-endpoint-13-15-39-04/AllTraffic'"
      ]
     },
     "execution_count": 207,
     "metadata": {},
     "output_type": "execute_result"
    }
   ],
   "source": [
    "# Set the S3 url where to store the ground truth labels\n",
    "variant_name = sm.describe_endpoint(EndpointName=predictor.endpoint_name)[\"ProductionVariants\"][0][\"VariantName\"]\n",
    "ground_truth_upload_s3_url = f\"s3://{data_capture_bucket}/ground_truth_data/{predictor.endpoint_name}/{variant_name}\"\n",
    "ground_truth_upload_s3_url"
   ]
  },
  {
   "cell_type": "code",
   "execution_count": 208,
   "id": "bd62a82a-248d-48f5-a500-501cd89d1929",
   "metadata": {
    "tags": []
   },
   "outputs": [
    {
     "name": "stdout",
     "output_type": "stream",
     "text": [
      "Found 3 files in s3://sagemaker-us-east-1-906545278380/from-idea-to-prod/xgboost/data-capture\n",
      "Latest data capture S3 url: s3://sagemaker-us-east-1-906545278380/from-idea-to-prod/xgboost/data-capture/from-idea-to-prod-endpoint-13-15-39-04/AllTraffic/2023/02/13/21\n"
     ]
    }
   ],
   "source": [
    "# Get the S3 prefix where the latest capture data has been delivered\n",
    "latest_data_capture_s3_url = get_latest_data_capture_s3_url(data_capture_bucket, data_capture_prefix)\n",
    "latest_data_capture_prefix = '/'.join(latest_data_capture_s3_url.split('/')[3:])"
   ]
  },
  {
   "cell_type": "code",
   "execution_count": 209,
   "id": "8421cde5-a756-4549-a4bb-79b5b8eeb78f",
   "metadata": {
    "tags": []
   },
   "outputs": [
    {
     "name": "stdout",
     "output_type": "stream",
     "text": [
      "Found 1 files in s3://sagemaker-us-east-1-906545278380/from-idea-to-prod/xgboost/data-capture/from-idea-to-prod-endpoint-13-15-39-04/AllTraffic/2023/02/13/21\n",
      "Downloading from-idea-to-prod/xgboost/data-capture/from-idea-to-prod-endpoint-13-15-39-04/AllTraffic/2023/02/13/21/03-35-139-5a322d84-4197-4e5e-86e2-8ec9b36f5fb7.jsonl\n",
      "Reading inference ids from the file: ./tmp/03-35-139-5a322d84-4197-4e5e-86e2-8ec9b36f5fb7.jsonl\n",
      "Uploading 100 records to s3://sagemaker-us-east-1-906545278380/ground_truth_data/from-idea-to-prod-endpoint-13-15-39-04/AllTraffic/2023/02/13/21/gt-03-35-139-5a322d84-4197-4e5e-86e2-8ec9b36f5fb7.jsonl\n"
     ]
    }
   ],
   "source": [
    "# Get the list of capture data file prefixes in the latest capture data location\n",
    "capture_files = get_file_list(data_capture_bucket, latest_data_capture_prefix)\n",
    "\n",
    "assert capture_files, f\"No capture data files found in {latest_data_capture_prefix}. Generate endpoint traffic and wait until capture data appears in the bucket!\"\n",
    "\n",
    "# For each capture data file get the eventIds and generate correlated ground truth labels\n",
    "for f in capture_files:\n",
    "    f_name = f.split('/')[-1]\n",
    "    \n",
    "    print(f\"Downloading {f}\")\n",
    "    S3Downloader.download(f\"s3://{data_capture_bucket}/{f}\", \"./tmp\")\n",
    "    \n",
    "    print(f\"Reading inference ids from the file: ./tmp/{f_name}\")\n",
    "    with jsonlines.open(f\"./tmp/{f_name}\") as reader: \n",
    "        ground_truth_records = \"\\n\".join([\n",
    "            json.dumps(r) for r in [generate_ground_truth_with_id(l[\"eventMetadata\"][\"eventId\"]) for l in reader]\n",
    "        ])\n",
    "    lastest_ground_truth_s3_uri = upload_ground_truth(ground_truth_upload_s3_url, f\"gt-{f_name}\", ground_truth_records, datetime.utcnow())"
   ]
  },
  {
   "cell_type": "code",
   "execution_count": 210,
   "id": "499403b3-a5bc-4983-9fbc-3c60a39e3c8f",
   "metadata": {
    "tags": []
   },
   "outputs": [
    {
     "name": "stdout",
     "output_type": "stream",
     "text": [
      "2023-02-13 21:13:05      14499 ground_truth_data/from-idea-to-prod-endpoint-13-15-39-04/AllTraffic/2023/02/13/21/gt-03-35-139-5a322d84-4197-4e5e-86e2-8ec9b36f5fb7.jsonl\n"
     ]
    }
   ],
   "source": [
    "# List uploaded ground truth files\n",
    "!aws s3 ls {ground_truth_upload_s3_url} --recursive"
   ]
  },
  {
   "cell_type": "markdown",
   "id": "9e8011e9-76b6-4cda-8b33-8e04acaf29b8",
   "metadata": {},
   "source": [
    "Download the last ingested ground truth data file and see it's content:"
   ]
  },
  {
   "cell_type": "code",
   "execution_count": 211,
   "id": "8e22dc2f-625a-40ac-a064-7cc51dfe928d",
   "metadata": {
    "tags": []
   },
   "outputs": [
    {
     "name": "stdout",
     "output_type": "stream",
     "text": [
      "download: s3://sagemaker-us-east-1-906545278380/ground_truth_data/from-idea-to-prod-endpoint-13-15-39-04/AllTraffic/2023/02/13/21/gt-03-35-139-5a322d84-4197-4e5e-86e2-8ec9b36f5fb7.jsonl to tmp/groundtruth.jsonl\n"
     ]
    }
   ],
   "source": [
    "# Download the last ground truth file to Studio's EFS\n",
    "!aws s3 cp {lastest_ground_truth_s3_uri} ./tmp/groundtruth.jsonl"
   ]
  },
  {
   "cell_type": "code",
   "execution_count": 212,
   "id": "5d2036e2-1722-4932-bf8f-d57af9650549",
   "metadata": {
    "tags": []
   },
   "outputs": [
    {
     "name": "stdout",
     "output_type": "stream",
     "text": [
      "{\"groundTruthData\": {\"data\": \"0\", \"encoding\": \"CSV\"}, \"eventMetadata\": {\"eventId\": \"24a6c6fb-f252-4e74-899a-c5c689aeecef\"}, \"eventVersion\": \"0\"}\n",
      "{\"groundTruthData\": {\"data\": \"0\", \"encoding\": \"CSV\"}, \"eventMetadata\": {\"eventId\": \"c57f8e54-1e74-41c6-9ad0-5aec10f23918\"}, \"eventVersion\": \"0\"}\n",
      "{\"groundTruthData\": {\"data\": \"1\", \"encoding\": \"CSV\"}, \"eventMetadata\": {\"eventId\": \"76a4d9ed-8491-4de7-9046-07203614aa5b\"}, \"eventVersion\": \"0\"}\n",
      "{\"groundTruthData\": {\"data\": \"0\", \"encoding\": \"CSV\"}, \"eventMetadata\": {\"eventId\": \"1f55c427-0476-4d8f-9b73-404c875a9a18\"}, \"eventVersion\": \"0\"}\n",
      "{\"groundTruthData\": {\"data\": \"1\", \"encoding\": \"CSV\"}, \"eventMetadata\": {\"eventId\": \"91393a9d-ad0d-47af-a47f-5228afce8f4b\"}, \"eventVersion\": \"0\"}\n",
      "{\"groundTruthData\": {\"data\": \"0\", \"encoding\": \"CSV\"}, \"eventMetadata\": {\"eventId\": \"ca7760a5-3ec7-4385-b509-86cb4804743c\"}, \"eventVersion\": \"0\"}\n",
      "{\"groundTruthData\": {\"data\": \"0\", \"encoding\": \"CSV\"}, \"eventMetadata\": {\"eventId\": \"ace0b5f2-17f2-4454-b797-660ec923b260\"}, \"eventVersion\": \"0\"}\n",
      "{\"groundTruthData\": {\"data\": \"1\", \"encoding\": \"CSV\"}, \"eventMetadata\": {\"eventId\": \"cefd9289-03d0-4143-a187-9086a85b0c21\"}, \"eventVersion\": \"0\"}\n",
      "{\"groundTruthData\": {\"data\": \"0\", \"encoding\": \"CSV\"}, \"eventMetadata\": {\"eventId\": \"119f04b5-5a9f-4b84-af3c-554581ceb919\"}, \"eventVersion\": \"0\"}\n",
      "{\"groundTruthData\": {\"data\": \"1\", \"encoding\": \"CSV\"}, \"eventMetadata\": {\"eventId\": \"4a758e37-e065-4f11-8c9e-7076a55764d1\"}, \"eventVersion\": \"0\"}\n"
     ]
    }
   ],
   "source": [
    "!head ./tmp/groundtruth.jsonl"
   ]
  },
  {
   "cell_type": "markdown",
   "id": "45ff543f-4d49-47e5-9138-fe69ef775b5c",
   "metadata": {},
   "source": [
    "### Create a model monitoring schedule\n",
    "Now after you have the capture data and the ground truth data, you can create a model monitoring schedule.\n",
    "Use [`create_monitoring_schedule()`](https://sagemaker.readthedocs.io/en/stable/api/inference/model_monitor.html#sagemaker.model_monitor.model_monitoring.ModelQualityMonitor.create_monitoring_schedule) method of the `ModelQualityMonitor` class to create a model quality monitoring schedule."
   ]
  },
  {
   "cell_type": "code",
   "execution_count": 213,
   "id": "df813eb3-1ad0-4e41-97ad-f8021128f856",
   "metadata": {
    "tags": []
   },
   "outputs": [],
   "source": [
    "endpoint_input = EndpointInput(\n",
    "    endpoint_name=predictor.endpoint_name,\n",
    "    probability_attribute=\"0\",\n",
    "    probability_threshold_attribute=0.5,\n",
    "    destination=\"/opt/ml/processing/input_data\",\n",
    ")"
   ]
  },
  {
   "cell_type": "code",
   "execution_count": 214,
   "id": "c5fbed44-580e-4997-afe9-7f1c5635bb99",
   "metadata": {
    "tags": []
   },
   "outputs": [
    {
     "name": "stderr",
     "output_type": "stream",
     "text": [
      "INFO:sagemaker.model_monitor.model_monitoring:Creating Monitoring Schedule with name: from-idea-to-prod-model-monitor-schedule-2023-02-13-21-13-30\n"
     ]
    }
   ],
   "source": [
    "model_mon_schedule_name = \"from-idea-to-prod-model-monitor-schedule-\" + strftime(\n",
    "    \"%Y-%m-%d-%H-%M-%S\", gmtime()\n",
    ")\n",
    "\n",
    "model_monitor.create_monitoring_schedule(\n",
    "    monitor_schedule_name=model_mon_schedule_name,\n",
    "    endpoint_input=endpoint_input,\n",
    "    problem_type=\"BinaryClassification\",\n",
    "    # record_preprocessor_script=f\"{record_preprocessor_s3_url}/record_preprocessor.py\",\n",
    "    # post_analytics_processor_script=s3_code_postprocessor_uri,\n",
    "    output_s3_uri=model_mon_reports_s3_url,\n",
    "    ground_truth_input=ground_truth_upload_s3_url,\n",
    "    constraints=model_monitor.suggested_constraints() if model_monitor.latest_baselining_job else f\"{prediction_baseline_results_s3_url}/constraints.json\",\n",
    "    schedule_cron_expression=CronExpressionGenerator.hourly(),\n",
    "    enable_cloudwatch_metrics=True,\n",
    ")"
   ]
  },
  {
   "cell_type": "code",
   "execution_count": 215,
   "id": "d1c54675-c6d7-4d05-bd5c-d430489ce799",
   "metadata": {
    "tags": []
   },
   "outputs": [
    {
     "name": "stdout",
     "output_type": "stream",
     "text": [
      "Waiting until model monitoring status becomes Scheduled\n",
      "Waiting until model monitoring status becomes Scheduled\n"
     ]
    },
    {
     "data": {
      "text/plain": [
       "{'MonitoringScheduleArn': 'arn:aws:sagemaker:us-east-1:906545278380:monitoring-schedule/from-idea-to-prod-model-monitor-schedule-2023-02-13-21-13-30',\n",
       " 'MonitoringScheduleName': 'from-idea-to-prod-model-monitor-schedule-2023-02-13-21-13-30',\n",
       " 'MonitoringScheduleStatus': 'Scheduled',\n",
       " 'MonitoringType': 'ModelQuality',\n",
       " 'CreationTime': datetime.datetime(2023, 2, 13, 21, 13, 30, 605000, tzinfo=tzlocal()),\n",
       " 'LastModifiedTime': datetime.datetime(2023, 2, 13, 21, 13, 38, 776000, tzinfo=tzlocal()),\n",
       " 'MonitoringScheduleConfig': {'ScheduleConfig': {'ScheduleExpression': 'cron(0 * ? * * *)'},\n",
       "  'MonitoringJobDefinitionName': 'model-quality-job-definition-2023-02-13-21-13-30-269',\n",
       "  'MonitoringType': 'ModelQuality'},\n",
       " 'EndpointName': 'from-idea-to-prod-endpoint-13-15-39-04',\n",
       " 'ResponseMetadata': {'RequestId': 'f1e56b82-f307-4dc8-8405-49d91899e403',\n",
       "  'HTTPStatusCode': 200,\n",
       "  'HTTPHeaders': {'x-amzn-requestid': 'f1e56b82-f307-4dc8-8405-49d91899e403',\n",
       "   'content-type': 'application/x-amz-json-1.1',\n",
       "   'content-length': '638',\n",
       "   'date': 'Mon, 13 Feb 2023 21:13:40 GMT'},\n",
       "  'RetryAttempts': 0}}"
      ]
     },
     "execution_count": 215,
     "metadata": {},
     "output_type": "execute_result"
    }
   ],
   "source": [
    "while model_monitor.describe_schedule()['MonitoringScheduleStatus'] != \"Scheduled\":\n",
    "    print(f\"Waiting until model monitoring status becomes Scheduled\")\n",
    "    time.sleep(3)\n",
    "    \n",
    "model_monitor.describe_schedule()"
   ]
  },
  {
   "cell_type": "markdown",
   "id": "384a0f86-6b37-43c2-9992-d20661b5679f",
   "metadata": {},
   "source": [
    "The endpoint has two scheduled monitors now, a data quality and a model quality monitor:"
   ]
  },
  {
   "cell_type": "code",
   "execution_count": 216,
   "id": "40335a7c-5d6b-4c2f-8e06-00bdb680f2dc",
   "metadata": {
    "tags": []
   },
   "outputs": [
    {
     "name": "stderr",
     "output_type": "stream",
     "text": [
      "INFO:sagemaker.image_uris:Defaulting to the only supported framework/algorithm version: .\n",
      "INFO:sagemaker.image_uris:Ignoring unnecessary instance type: None.\n",
      "INFO:sagemaker.image_uris:Defaulting to the only supported framework/algorithm version: .\n",
      "INFO:sagemaker.image_uris:Ignoring unnecessary instance type: None.\n"
     ]
    },
    {
     "data": {
      "text/plain": [
       "[<sagemaker.model_monitor.model_monitoring.ModelQualityMonitor at 0x7efc82031cd0>,\n",
       " <sagemaker.model_monitor.model_monitoring.DefaultModelMonitor at 0x7efc8205e0d0>]"
      ]
     },
     "execution_count": 216,
     "metadata": {},
     "output_type": "execute_result"
    }
   ],
   "source": [
    "predictor.list_monitors()"
   ]
  },
  {
   "cell_type": "markdown",
   "id": "428f1f22-ba50-44e4-a1de-b750c9ace1ca",
   "metadata": {},
   "source": [
    "### See model monitoring schedule executions\n",
    "<div class=\"alert alert-info\"> 💡 You created a model monitoring schedule which runs every hour. <strong>You need to wait until you cross the hour boundary to see any executions.</strong>\n",
    "</div>\n",
    " \n",
    "A monitoring job started by the schedule looks for the ground truth data under the Amazon S3 prefix `{ground_truth_upload_s3_url}/{year}/{month}/{day}/{UTC hour}/`. If there is no ground truth label datasets under this prefix, the model monitoring job fails with an exception `No S3 objects found under S3 URL ...`. In the previous section **Ingest ground truth data** you created a synthetic ground truth dataset and saved it under the correct prefix.\n",
    "\n",
    "Model quality monitor runs two processing jobs for each schedule execution:\n",
    "1. A ground truth merge job to contatenate capture data and ground truth label datasets based on the `eventId`\n",
    "2. A model quality monitoring job to evaluate model performance compared to the baseline\n",
    "\n",
    "You can see these two jobs for each monitor execution in the SageMaker console under **Processing jobs**:\n",
    "![](img/model-quality-monitor-execution.png)"
   ]
  },
  {
   "cell_type": "markdown",
   "id": "720b8ab8-6568-4902-ad4f-7879ff0492dd",
   "metadata": {},
   "source": [
    "#### Inspect the lastest model monitor execution"
   ]
  },
  {
   "cell_type": "code",
   "execution_count": 219,
   "id": "7b1ca57b-52b6-4187-984a-6a0c02909970",
   "metadata": {
    "tags": []
   },
   "outputs": [
    {
     "data": {
      "text/plain": [
       "{'MonitoringScheduleArn': 'arn:aws:sagemaker:us-east-1:906545278380:monitoring-schedule/from-idea-to-prod-model-monitor-schedule-2023-02-13-21-13-30',\n",
       " 'MonitoringScheduleName': 'from-idea-to-prod-model-monitor-schedule-2023-02-13-21-13-30',\n",
       " 'MonitoringScheduleStatus': 'Scheduled',\n",
       " 'MonitoringType': 'ModelQuality',\n",
       " 'CreationTime': datetime.datetime(2023, 2, 13, 21, 13, 30, 605000, tzinfo=tzlocal()),\n",
       " 'LastModifiedTime': datetime.datetime(2023, 2, 14, 9, 14, 21, 835000, tzinfo=tzlocal()),\n",
       " 'MonitoringScheduleConfig': {'ScheduleConfig': {'ScheduleExpression': 'cron(0 * ? * * *)'},\n",
       "  'MonitoringJobDefinitionName': 'model-quality-job-definition-2023-02-13-21-13-30-269',\n",
       "  'MonitoringType': 'ModelQuality'},\n",
       " 'EndpointName': 'from-idea-to-prod-endpoint-13-15-39-04',\n",
       " 'LastMonitoringExecutionSummary': {'MonitoringScheduleName': 'from-idea-to-prod-model-monitor-schedule-2023-02-13-21-13-30',\n",
       "  'ScheduledTime': datetime.datetime(2023, 2, 14, 9, 0, tzinfo=tzlocal()),\n",
       "  'CreationTime': datetime.datetime(2023, 2, 14, 9, 8, 15, 457000, tzinfo=tzlocal()),\n",
       "  'LastModifiedTime': datetime.datetime(2023, 2, 14, 9, 14, 21, 827000, tzinfo=tzlocal()),\n",
       "  'MonitoringExecutionStatus': 'Failed',\n",
       "  'EndpointName': 'from-idea-to-prod-endpoint-13-15-39-04',\n",
       "  'FailureReason': 'No S3 objects found under S3 URL \"s3://sagemaker-us-east-1-906545278380/ground_truth_data/from-idea-to-prod-endpoint-13-15-39-04/AllTraffic/2023/02/14/08\" given in input data source. Please ensure that the bucket exists in the selected region (us-east-1), that objects exist under that S3 prefix, and that the role \"arn:aws:iam::906545278380:role/mlops-workshop-domain-SageMakerExecutionRole-1SVJGI42GHMS9\" has \"s3:ListBucket\" permissions on bucket \"sagemaker-us-east-1-906545278380\".'},\n",
       " 'ResponseMetadata': {'RequestId': '01c4bff9-fe5f-46d5-84f8-e83732bbb8c6',\n",
       "  'HTTPStatusCode': 200,\n",
       "  'HTTPHeaders': {'x-amzn-requestid': '01c4bff9-fe5f-46d5-84f8-e83732bbb8c6',\n",
       "   'content-type': 'application/x-amz-json-1.1',\n",
       "   'content-length': '1461',\n",
       "   'date': 'Tue, 14 Feb 2023 09:18:41 GMT'},\n",
       "  'RetryAttempts': 0}}"
      ]
     },
     "execution_count": 219,
     "metadata": {},
     "output_type": "execute_result"
    }
   ],
   "source": [
    "# call describe_schedule to see the status of the latest completed execution\n",
    "model_monitor.describe_schedule()"
   ]
  },
  {
   "cell_type": "code",
   "execution_count": 220,
   "id": "e8087765-9d5a-4eef-b064-1a757e313c7f",
   "metadata": {
    "tags": []
   },
   "outputs": [],
   "source": [
    "# List all _completed_ model monitor executions\n",
    "model_mon_executions = model_monitor.list_executions()"
   ]
  },
  {
   "cell_type": "code",
   "execution_count": 221,
   "id": "286fdb24-37f0-4545-a206-20b73a7c8b5f",
   "metadata": {
    "tags": []
   },
   "outputs": [
    {
     "data": {
      "text/plain": [
       "[<sagemaker.model_monitor.model_monitoring.MonitoringExecution at 0x7efc81ce8f10>]"
      ]
     },
     "execution_count": 221,
     "metadata": {},
     "output_type": "execute_result"
    }
   ],
   "source": [
    "model_mon_executions"
   ]
  },
  {
   "cell_type": "code",
   "execution_count": 222,
   "id": "e01eb7ea-c815-4c8b-91a4-f7a9039240ba",
   "metadata": {
    "tags": []
   },
   "outputs": [
    {
     "name": "stdout",
     "output_type": "stream",
     "text": [
      "!Latest execution status: Completed\n",
      "Latest execution result: CompletedWithViolations: Job completed successfully with 10 violations.\n",
      "Report Uri: s3://sagemaker-us-east-1-906545278380/from-idea-to-prod/xgboost/prediction_baseline/reports/from-idea-to-prod-endpoint-13-15-39-04/from-idea-to-prod-model-monitor-schedule-2023-02-13-21-13-30/2023/02/13/22\n"
     ]
    },
    {
     "data": {
      "text/plain": [
       "{'ProcessingInputs': [{'InputName': 'constraints',\n",
       "   'AppManaged': False,\n",
       "   'S3Input': {'S3Uri': 's3://sagemaker-us-east-1-906545278380/from-idea-to-prod/xgboost/prediction_baseline/results/constraints.json',\n",
       "    'LocalPath': '/opt/ml/processing/baseline/constraints',\n",
       "    'S3DataType': 'S3Prefix',\n",
       "    'S3InputMode': 'File',\n",
       "    'S3DataDistributionType': 'FullyReplicated'}},\n",
       "  {'InputName': 'endpoint_input_1',\n",
       "   'AppManaged': False,\n",
       "   'S3Input': {'S3Uri': 's3://sagemaker-us-east-1-906545278380/from-idea-to-prod/xgboost/prediction_baseline/reports/merge/from-idea-to-prod-endpoint-13-15-39-04/AllTraffic/2023/02/13/21',\n",
       "    'LocalPath': '/opt/ml/processing/input_data/from-idea-to-prod-endpoint-13-15-39-04/AllTraffic/2023/02/13/21',\n",
       "    'S3DataType': 'S3Prefix',\n",
       "    'S3InputMode': 'File',\n",
       "    'S3DataDistributionType': 'FullyReplicated',\n",
       "    'S3CompressionType': 'None'}}],\n",
       " 'ProcessingOutputConfig': {'Outputs': [{'OutputName': 'result',\n",
       "    'S3Output': {'S3Uri': 's3://sagemaker-us-east-1-906545278380/from-idea-to-prod/xgboost/prediction_baseline/reports/from-idea-to-prod-endpoint-13-15-39-04/from-idea-to-prod-model-monitor-schedule-2023-02-13-21-13-30/2023/02/13/22',\n",
       "     'LocalPath': '/opt/ml/processing/output',\n",
       "     'S3UploadMode': 'Continuous'},\n",
       "    'AppManaged': False}]},\n",
       " 'ProcessingJobName': 'model-quality-monitoring-202302132200-c5f189607b7467cf7d45972f',\n",
       " 'ProcessingResources': {'ClusterConfig': {'InstanceCount': 1,\n",
       "   'InstanceType': 'ml.m5.xlarge',\n",
       "   'VolumeSizeInGB': 20}},\n",
       " 'StoppingCondition': {'MaxRuntimeInSeconds': 1800},\n",
       " 'AppSpecification': {'ImageUri': '156813124566.dkr.ecr.us-east-1.amazonaws.com/sagemaker-model-monitor-analyzer'},\n",
       " 'Environment': {'analysis_type': 'MODEL_QUALITY',\n",
       "  'baseline_constraints': '/opt/ml/processing/baseline/constraints/constraints.json',\n",
       "  'dataset_format': '{\"sagemakerMergeJson\":{\"captureIndexNames\":[\"endpointOutput\"]}}',\n",
       "  'dataset_source': '/opt/ml/processing/input_data',\n",
       "  'end_time': '2023-02-13T22:00:00Z',\n",
       "  'metric_time': '2023-02-13T21:00:00Z',\n",
       "  'monitoring_input_type': 'ENDPOINT_INPUT',\n",
       "  'output_path': '/opt/ml/processing/output',\n",
       "  'probability_attribute': '0',\n",
       "  'probability_threshold_attribute': '0.500000',\n",
       "  'problem_type': 'BinaryClassification',\n",
       "  'publish_cloudwatch_metrics': 'Enabled',\n",
       "  'sagemaker_endpoint_name': 'from-idea-to-prod-endpoint-13-15-39-04',\n",
       "  'sagemaker_monitoring_schedule_name': 'from-idea-to-prod-model-monitor-schedule-2023-02-13-21-13-30',\n",
       "  'start_time': '2023-02-13T21:00:00Z'},\n",
       " 'RoleArn': 'arn:aws:iam::906545278380:role/mlops-workshop-domain-SageMakerExecutionRole-1SVJGI42GHMS9',\n",
       " 'ProcessingJobArn': 'arn:aws:sagemaker:us-east-1:906545278380:processing-job/model-quality-monitoring-202302132200-c5f189607b7467cf7d45972f',\n",
       " 'ProcessingJobStatus': 'Completed',\n",
       " 'ExitMessage': 'CompletedWithViolations: Job completed successfully with 10 violations.',\n",
       " 'ProcessingEndTime': datetime.datetime(2023, 2, 13, 22, 23, 5, 380000, tzinfo=tzlocal()),\n",
       " 'ProcessingStartTime': datetime.datetime(2023, 2, 13, 22, 21, 18, 95000, tzinfo=tzlocal()),\n",
       " 'LastModifiedTime': datetime.datetime(2023, 2, 13, 22, 23, 5, 704000, tzinfo=tzlocal()),\n",
       " 'CreationTime': datetime.datetime(2023, 2, 13, 22, 16, 17, 82000, tzinfo=tzlocal()),\n",
       " 'MonitoringScheduleArn': 'arn:aws:sagemaker:us-east-1:906545278380:monitoring-schedule/from-idea-to-prod-model-monitor-schedule-2023-02-13-21-13-30',\n",
       " 'ResponseMetadata': {'RequestId': 'b725d55e-41ce-4ae2-adbb-f7415ff3af3e',\n",
       "  'HTTPStatusCode': 200,\n",
       "  'HTTPHeaders': {'x-amzn-requestid': 'b725d55e-41ce-4ae2-adbb-f7415ff3af3e',\n",
       "   'content-type': 'application/x-amz-json-1.1',\n",
       "   'content-length': '2966',\n",
       "   'date': 'Tue, 14 Feb 2023 09:18:57 GMT'},\n",
       "  'RetryAttempts': 0}}"
      ]
     },
     "execution_count": 222,
     "metadata": {},
     "output_type": "execute_result"
    }
   ],
   "source": [
    "# See the details of the latest model monitor execution\n",
    "latest_model_mon_execution = get_latest_monitor_execution(model_monitor)\n",
    "execution_details = latest_model_mon_execution.describe()\n",
    "execution_details"
   ]
  },
  {
   "cell_type": "markdown",
   "id": "a94d5085-d022-45f5-88f3-b12bca0a9599",
   "metadata": {},
   "source": [
    "#### See the execution reports\n",
    "Each completed model monitor execution produces new statistics, constraints, and violations reports for the capture data. You have various ways to access these reports:\n",
    "- directly access the files on Amazon S3 under the job output S3 uri\n",
    "- use the Python SDK class [`MonitoringExecution`](https://sagemaker.readthedocs.io/en/stable/api/inference/model_monitor.html#sagemaker.model_monitor.model_monitoring.MonitoringExecution)\n",
    "- use [`latest_monitoring_statistics`](https://sagemaker.readthedocs.io/en/stable/api/inference/model_monitor.html#sagemaker.model_monitor.model_monitoring.ModelMonitor.latest_monitoring_statistics) and [`latest_monitoring_constraint_violations`](https://sagemaker.readthedocs.io/en/stable/api/inference/model_monitor.html#sagemaker.model_monitor.model_monitoring.ModelMonitor.latest_monitoring_constraint_violations) methods of the [`ModelMonitor`](https://sagemaker.readthedocs.io/en/stable/api/inference/model_monitor.html#sagemaker.model_monitor.model_monitoring.ModelMonitor) class"
   ]
  },
  {
   "cell_type": "code",
   "execution_count": 223,
   "id": "20112efa-8372-4123-aedc-1e37a0534276",
   "metadata": {
    "tags": []
   },
   "outputs": [
    {
     "data": {
      "text/plain": [
       "'s3://sagemaker-us-east-1-906545278380/from-idea-to-prod/xgboost/prediction_baseline/reports/from-idea-to-prod-endpoint-13-15-39-04/from-idea-to-prod-model-monitor-schedule-2023-02-13-21-13-30/2023/02/13/22'"
      ]
     },
     "execution_count": 223,
     "metadata": {},
     "output_type": "execute_result"
    }
   ],
   "source": [
    "# Get the job output S3 uri\n",
    "mon_job_output_s3_uri = execution_details[\"ProcessingOutputConfig\"][\"Outputs\"][0][\"S3Output\"][\"S3Uri\"]\n",
    "mon_job_output_s3_uri"
   ]
  },
  {
   "cell_type": "code",
   "execution_count": 224,
   "id": "896d72ec-c106-435d-929e-07c56a322047",
   "metadata": {
    "tags": []
   },
   "outputs": [
    {
     "data": {
      "text/plain": [
       "'s3://sagemaker-us-east-1-906545278380/from-idea-to-prod/xgboost/prediction_baseline/reports/from-idea-to-prod-endpoint-13-15-39-04/from-idea-to-prod-model-monitor-schedule-2023-02-13-21-13-30/2023/02/13/22'"
      ]
     },
     "execution_count": 224,
     "metadata": {},
     "output_type": "execute_result"
    }
   ],
   "source": [
    "# Same S3 uri is accessible via the MonitoringExecution class\n",
    "latest_model_mon_execution.output.destination"
   ]
  },
  {
   "cell_type": "code",
   "execution_count": 225,
   "id": "86b5bf7d-f909-443a-8225-93524c834eb9",
   "metadata": {
    "tags": []
   },
   "outputs": [
    {
     "name": "stdout",
     "output_type": "stream",
     "text": [
      "2023-02-13 22:22:58       2002 from-idea-to-prod/xgboost/prediction_baseline/reports/from-idea-to-prod-endpoint-13-15-39-04/from-idea-to-prod-model-monitor-schedule-2023-02-13-21-13-30/2023/02/13/22/constraint_violations.json\n",
      "2023-02-13 22:22:58       1351 from-idea-to-prod/xgboost/prediction_baseline/reports/from-idea-to-prod-endpoint-13-15-39-04/from-idea-to-prod-model-monitor-schedule-2023-02-13-21-13-30/2023/02/13/22/constraints.json\n",
      "2023-02-13 22:22:58       9202 from-idea-to-prod/xgboost/prediction_baseline/reports/from-idea-to-prod-endpoint-13-15-39-04/from-idea-to-prod-model-monitor-schedule-2023-02-13-21-13-30/2023/02/13/22/statistics.json\n"
     ]
    }
   ],
   "source": [
    "# See the generated files - new statistics, constraints, and violations\n",
    "!aws s3 ls {mon_job_output_s3_uri} --recursive"
   ]
  },
  {
   "cell_type": "markdown",
   "id": "d59ab484-6689-4a09-8994-f8b7a89c8a2e",
   "metadata": {},
   "source": [
    "<div class=\"alert alert-info\"> 💡 Since you generated random synthetic ground truth labels, you expect to see some violations, more specifically, `LessThanThreshold` constraint violation for various model performance metrics, such as `auc`, `accuracy`, and `precision`.\n",
    "</div>"
   ]
  },
  {
   "cell_type": "code",
   "execution_count": 279,
   "id": "86d5dcb9-660a-4422-931d-01c38661b15c",
   "metadata": {
    "tags": []
   },
   "outputs": [],
   "source": [
    "# Get the violation report from the MonitoringExecution class\n",
    "last_execution_violations = latest_model_mon_execution.constraint_violations()"
   ]
  },
  {
   "cell_type": "code",
   "execution_count": 280,
   "id": "4c8dae03-ff18-4435-9e9e-e25d57711f6d",
   "metadata": {
    "tags": []
   },
   "outputs": [
    {
     "data": {
      "text/html": [
       "<div>\n",
       "<style scoped>\n",
       "    .dataframe tbody tr th:only-of-type {\n",
       "        vertical-align: middle;\n",
       "    }\n",
       "\n",
       "    .dataframe tbody tr th {\n",
       "        vertical-align: top;\n",
       "    }\n",
       "\n",
       "    .dataframe thead th {\n",
       "        text-align: right;\n",
       "    }\n",
       "</style>\n",
       "<table border=\"1\" class=\"dataframe\">\n",
       "  <thead>\n",
       "    <tr style=\"text-align: right;\">\n",
       "      <th></th>\n",
       "      <th>constraint_check_type</th>\n",
       "      <th>description</th>\n",
       "      <th>metric_name</th>\n",
       "    </tr>\n",
       "  </thead>\n",
       "  <tbody>\n",
       "    <tr>\n",
       "      <th>0</th>\n",
       "      <td>LessThanThreshold</td>\n",
       "      <td>Metric auc with 0.5276442307692306 was LessThanThreshold '0.7701214220800956'</td>\n",
       "      <td>auc</td>\n",
       "    </tr>\n",
       "    <tr>\n",
       "      <th>1</th>\n",
       "      <td>LessThanThreshold</td>\n",
       "      <td>Metric precision with 0.5 was LessThanThreshold '0.6934306569343066'</td>\n",
       "      <td>precision</td>\n",
       "    </tr>\n",
       "    <tr>\n",
       "      <th>2</th>\n",
       "      <td>LessThanThreshold</td>\n",
       "      <td>Metric truePositiveRate with 0.020833333333333332 was LessThanThreshold '0.19668737060041408'</td>\n",
       "      <td>truePositiveRate</td>\n",
       "    </tr>\n",
       "    <tr>\n",
       "      <th>3</th>\n",
       "      <td>LessThanThreshold</td>\n",
       "      <td>Metric f1 with 0.039999999999999994 was LessThanThreshold '0.3064516129032258'</td>\n",
       "      <td>f1</td>\n",
       "    </tr>\n",
       "    <tr>\n",
       "      <th>4</th>\n",
       "      <td>LessThanThreshold</td>\n",
       "      <td>Metric accuracy with 0.52 was LessThanThreshold '0.8956057295460063'</td>\n",
       "      <td>accuracy</td>\n",
       "    </tr>\n",
       "  </tbody>\n",
       "</table>\n",
       "</div>"
      ],
      "text/plain": [
       "  constraint_check_type  \\\n",
       "0     LessThanThreshold   \n",
       "1     LessThanThreshold   \n",
       "2     LessThanThreshold   \n",
       "3     LessThanThreshold   \n",
       "4     LessThanThreshold   \n",
       "\n",
       "                                                                                     description  \\\n",
       "0                  Metric auc with 0.5276442307692306 was LessThanThreshold '0.7701214220800956'   \n",
       "1                           Metric precision with 0.5 was LessThanThreshold '0.6934306569343066'   \n",
       "2  Metric truePositiveRate with 0.020833333333333332 was LessThanThreshold '0.19668737060041408'   \n",
       "3                 Metric f1 with 0.039999999999999994 was LessThanThreshold '0.3064516129032258'   \n",
       "4                           Metric accuracy with 0.52 was LessThanThreshold '0.8956057295460063'   \n",
       "\n",
       "        metric_name  \n",
       "0               auc  \n",
       "1         precision  \n",
       "2  truePositiveRate  \n",
       "3                f1  \n",
       "4          accuracy  "
      ]
     },
     "execution_count": 280,
     "metadata": {},
     "output_type": "execute_result"
    }
   ],
   "source": [
    "pd.json_normalize(last_execution_violations.body_dict[\"violations\"]).head()"
   ]
  },
  {
   "cell_type": "markdown",
   "id": "b658cdda-c533-461c-8033-ec135c035c44",
   "metadata": {},
   "source": [
    "You can access the violation report directly from the model monitor class:"
   ]
  },
  {
   "cell_type": "code",
   "execution_count": 228,
   "id": "fa734732-5542-4481-af50-233f862e865d",
   "metadata": {
    "tags": []
   },
   "outputs": [
    {
     "data": {
      "text/html": [
       "<div>\n",
       "<style scoped>\n",
       "    .dataframe tbody tr th:only-of-type {\n",
       "        vertical-align: middle;\n",
       "    }\n",
       "\n",
       "    .dataframe tbody tr th {\n",
       "        vertical-align: top;\n",
       "    }\n",
       "\n",
       "    .dataframe thead th {\n",
       "        text-align: right;\n",
       "    }\n",
       "</style>\n",
       "<table border=\"1\" class=\"dataframe\">\n",
       "  <thead>\n",
       "    <tr style=\"text-align: right;\">\n",
       "      <th></th>\n",
       "      <th>constraint_check_type</th>\n",
       "      <th>description</th>\n",
       "      <th>metric_name</th>\n",
       "    </tr>\n",
       "  </thead>\n",
       "  <tbody>\n",
       "    <tr>\n",
       "      <th>0</th>\n",
       "      <td>LessThanThreshold</td>\n",
       "      <td>Metric auc with 0.5276442307692306 was LessThanThreshold '0.7701214220800956'</td>\n",
       "      <td>auc</td>\n",
       "    </tr>\n",
       "    <tr>\n",
       "      <th>1</th>\n",
       "      <td>LessThanThreshold</td>\n",
       "      <td>Metric precision with 0.5 was LessThanThreshold '0.6934306569343066'</td>\n",
       "      <td>precision</td>\n",
       "    </tr>\n",
       "    <tr>\n",
       "      <th>2</th>\n",
       "      <td>LessThanThreshold</td>\n",
       "      <td>Metric truePositiveRate with 0.020833333333333332 was LessThanThreshold '0.19668737060041408'</td>\n",
       "      <td>truePositiveRate</td>\n",
       "    </tr>\n",
       "    <tr>\n",
       "      <th>3</th>\n",
       "      <td>LessThanThreshold</td>\n",
       "      <td>Metric f1 with 0.039999999999999994 was LessThanThreshold '0.3064516129032258'</td>\n",
       "      <td>f1</td>\n",
       "    </tr>\n",
       "    <tr>\n",
       "      <th>4</th>\n",
       "      <td>LessThanThreshold</td>\n",
       "      <td>Metric accuracy with 0.52 was LessThanThreshold '0.8956057295460063'</td>\n",
       "      <td>accuracy</td>\n",
       "    </tr>\n",
       "  </tbody>\n",
       "</table>\n",
       "</div>"
      ],
      "text/plain": [
       "  constraint_check_type  \\\n",
       "0     LessThanThreshold   \n",
       "1     LessThanThreshold   \n",
       "2     LessThanThreshold   \n",
       "3     LessThanThreshold   \n",
       "4     LessThanThreshold   \n",
       "\n",
       "                                                                                     description  \\\n",
       "0                  Metric auc with 0.5276442307692306 was LessThanThreshold '0.7701214220800956'   \n",
       "1                           Metric precision with 0.5 was LessThanThreshold '0.6934306569343066'   \n",
       "2  Metric truePositiveRate with 0.020833333333333332 was LessThanThreshold '0.19668737060041408'   \n",
       "3                 Metric f1 with 0.039999999999999994 was LessThanThreshold '0.3064516129032258'   \n",
       "4                           Metric accuracy with 0.52 was LessThanThreshold '0.8956057295460063'   \n",
       "\n",
       "        metric_name  \n",
       "0               auc  \n",
       "1         precision  \n",
       "2  truePositiveRate  \n",
       "3                f1  \n",
       "4          accuracy  "
      ]
     },
     "execution_count": 228,
     "metadata": {},
     "output_type": "execute_result"
    }
   ],
   "source": [
    "# Use the ModelMonitor class\n",
    "violations = model_monitor.latest_monitoring_constraint_violations()\n",
    "pd.json_normalize(violations.body_dict[\"violations\"]).head()"
   ]
  },
  {
   "cell_type": "markdown",
   "id": "026cca77-b033-48fc-bb97-513685ad13b3",
   "metadata": {
    "tags": []
   },
   "source": [
    "#### See the merged datasets\n",
    "Finally let's take a look on the merged datasets generated by the merge job. The merged dataset contains inference input, inference output, and the ingested ground truth labels. The inference output and the ground truth are connected via `eventMetadata.eventId` identifier."
   ]
  },
  {
   "cell_type": "code",
   "execution_count": 229,
   "id": "3c3afef7-08d7-45d7-9e5c-afc353075a7e",
   "metadata": {
    "tags": []
   },
   "outputs": [],
   "source": [
    "# Get the S3 url to the merge datasets from the monitor job inputs\n",
    "mon_job_merge_input_s3_uri = execution_details[\"ProcessingInputs\"][1][\"S3Input\"][\"S3Uri\"]\n",
    "\n",
    "mon_job_merge_bucket = mon_job_merge_input_s3_uri.split('/')[2]\n",
    "mon_job_merge_prefix = '/'.join(mon_job_merge_input_s3_uri.split('/')[3:])"
   ]
  },
  {
   "cell_type": "code",
   "execution_count": 230,
   "id": "84bcd4fd-de01-49d2-bbb8-2ec1d602ff38",
   "metadata": {
    "tags": []
   },
   "outputs": [
    {
     "name": "stdout",
     "output_type": "stream",
     "text": [
      "Found 1 files in s3://sagemaker-us-east-1-906545278380/from-idea-to-prod/xgboost/prediction_baseline/reports/merge/from-idea-to-prod-endpoint-13-15-39-04/AllTraffic/2023/02/13/21\n",
      "Content of the merge file:\n",
      "{\n",
      "  \"eventVersion\": \"0\",\n",
      "  \"groundTruthData\": {\n",
      "    \"data\": \"0\",\n",
      "    \"encoding\": \"CSV\"\n",
      "  },\n",
      "  \"captureData\": {\n",
      "    \"endpointInput\": {\n",
      "      \"data\": \"31,1,999,0,1,0,0,0,0,0,1,0,0,0,0,0,0,0,0,1,0,0,0,0,0,0,0,0,1,0,1,0,0,0,0,1,1,0,0,1,0,0,0,0,0,0,0,0,1,0,0,0,0,0,0,1,0,1,0\",\n",
      "      \"encoding\": \"CSV\",\n",
      "      \"mode\": \"INPUT\",\n",
      "      \"observedContentType\": \"text/csv\"\n",
      "    },\n",
      "    \"endpointOutput\": {\n",
      "      \"data\": \"0.09129378944635391\\n\",\n",
      "      \"encoding\": \"CSV\",\n",
      "      \"mode\": \"OUTPUT\",\n",
      "      \"observedContentType\": \"text/csv; charset=utf-8\"\n",
      "    }\n",
      "  },\n",
      "  \"eventMetadata\": {\n",
      "    \"eventId\": \"24a6c6fb-f252-4e74-899a-c5c689aeecef\",\n",
      "    \"inferenceTime\": \"2023-02-13T21:03:35Z\"\n",
      "  }\n",
      "}\n",
      "{\n",
      "  \"eventVersion\": \"0\",\n",
      "  \"groundTruthData\": {\n",
      "    \"data\": \"0\",\n",
      "    \"encoding\": \"CSV\"\n",
      "  },\n",
      "  \"captureData\": {\n",
      "    \"endpointInput\": {\n",
      "      \"data\": \"51,1,999,0,1,0,0,1,0,0,0,0,0,0,0,0,0,0,0,1,0,0,0,0,0,0,0,1,0,0,1,0,0,0,0,1,1,0,0,1,0,0,0,0,0,0,0,0,0,0,1,0,0,0,1,0,0,1,0\",\n",
      "      \"encoding\": \"CSV\",\n",
      "      \"mode\": \"INPUT\",\n",
      "      \"observedContentType\": \"text/csv\"\n",
      "    },\n",
      "    \"endpointOutput\": {\n",
      "      \"data\": \"0.33281731605529785\\n\",\n",
      "      \"encoding\": \"CSV\",\n",
      "      \"mode\": \"OUTPUT\",\n",
      "      \"observedContentType\": \"text/csv; charset=utf-8\"\n",
      "    }\n",
      "  },\n",
      "  \"eventMetadata\": {\n",
      "    \"eventId\": \"c57f8e54-1e74-41c6-9ad0-5aec10f23918\",\n",
      "    \"inferenceTime\": \"2023-02-13T21:03:35Z\"\n",
      "  }\n",
      "}\n"
     ]
    }
   ],
   "source": [
    "merge_files = get_file_list(mon_job_merge_bucket, mon_job_merge_prefix)\n",
    "\n",
    "if merge_files:\n",
    "    S3Downloader.download(f\"s3://{mon_job_merge_bucket}/{merge_files[0]}\", f\"./tmp\")\n",
    "\n",
    "    print(f\"Content of the merge file:\")\n",
    "    # Read the jsonl file and show two first objects\n",
    "    with jsonlines.open(f\"./tmp/{merge_files[0].split('/')[-1]}\") as reader:      \n",
    "        print(json.dumps(reader.read(), indent=2))\n",
    "        print(json.dumps(reader.read(), indent=2))"
   ]
  },
  {
   "cell_type": "markdown",
   "id": "59071f22-f07e-446e-834e-f7bc2d44f40b",
   "metadata": {},
   "source": [
    "## Additional monitoring\n",
    "Additionally to data and model quality monitoring with Model Monitor, you can use Amazon SageMaker Clarify to:\n",
    "- [Monitor bias drift](https://docs.aws.amazon.com/sagemaker/latest/dg/clarify-model-monitor-bias-drift.html)\n",
    "- [Monitor feature attribution drift](https://docs.aws.amazon.com/sagemaker/latest/dg/clarify-model-monitor-feature-attribution-drift.html)\n",
    "\n",
    "Refer to a sample notebook [Monitoring bias drift and feature attribution drift Amazon SageMaker Clarify](https://sagemaker-examples.readthedocs.io/en/latest/sagemaker_model_monitor/fairness_and_explainability/SageMaker-Model-Monitor-Fairness-and-Explainability.html) for a hands-on example and more details."
   ]
  },
  {
   "cell_type": "markdown",
   "id": "2057c12f-1aae-4087-8930-4150543ff38a",
   "metadata": {},
   "source": [
    "## Use SageMaker Studio for data and model monitoring\n",
    "You can use Studio UX to enable and configure data and model monitoring and to visualize results. You can view the details of any monitoring job run, and you can create charts that show the baseline and captured values for any metric that the monitoring job calculates.\n",
    "\n",
    "Navigate to **Home** to the left side bar and choose **Deployments** and then **Endpoints** in the list. Click on an endpoint for which you would like to configure the model monitoring:\n",
    "\n",
    "![](img/endpoints.png)\n",
    "\n",
    "In the displayed **Endpoint details** pane you can configure data and model monitoring:\n",
    "\n",
    "![](img/model-monitoring-ux.png)"
   ]
  },
  {
   "cell_type": "markdown",
   "id": "14ed36be-5547-481a-90c4-3d8647db0957",
   "metadata": {},
   "source": [
    "## Clean-up resources\n",
    "Stop and remove monitoring schedule for the endpont."
   ]
  },
  {
   "cell_type": "code",
   "execution_count": null,
   "id": "75f003d8-48b0-432d-9a6a-6fea273098c5",
   "metadata": {
    "tags": []
   },
   "outputs": [],
   "source": [
    "for monitor in predictor.list_monitors():\n",
    "    try:\n",
    "        monitor.stop_monitoring_schedule()\n",
    "        monitor.delete_monitoring_schedule()\n",
    "    except botocore.exceptions.ClientError as e:\n",
    "        if e.response['Error']['Code'] == 'ValidationException':\n",
    "            print(f\"ValidationException: {e.response['Error']['Message']}. Wait until the monitoring job is done and run the cell again.\")\n",
    "        else:\n",
    "            raise e"
   ]
  },
  {
   "cell_type": "markdown",
   "id": "aa3fc9ec-caa3-4adf-9b9a-66bf6ba3ec71",
   "metadata": {},
   "source": [
    "### Final clean-up\n",
    "This is the last notebook in this workshop. If you are finished with exploration, to avoid charges on your AWS account, run the [clean-up notebook](99-clean-up.ipynb).\n",
    "\n",
    "<div class=\"alert alert-info\">\n",
    "You have at least one real-time endpoint active in your AWS account. To avoid charges, you must delete the endpoint. Go to the clean-up notebook.\n",
    "</div>"
   ]
  },
  {
   "cell_type": "markdown",
   "id": "8ea675fa-2d8f-4b15-b9cd-91104a96edee",
   "metadata": {},
   "source": [
    "## Further development ideas for your real-world projects\n",
    "- Add [visualizations](https://sagemaker-examples.readthedocs.io/en/latest/sagemaker_model_monitor/visualization/SageMaker-Model-Monitor-Visualize.html) for model monitoring reports\n",
    "- Add data baselining, explainability report generation, and bias report to the model building pipeline\n",
    "- Implement [model quality monitoring](https://docs.aws.amazon.com/sagemaker/latest/dg/model-monitor-model-quality.html)\n",
    "- Try different inference options such as [serverless](https://docs.aws.amazon.com/sagemaker/latest/dg/serverless-endpoints.html) or [asynchronous](https://docs.aws.amazon.com/sagemaker/latest/dg/async-inference.html) inference\n",
    "- Address security considerations for your ML environment and solutions. Start with the developer guide [Security in Amazon SageMaker](https://docs.aws.amazon.com/sagemaker/latest/dg/security.html)\n",
    "- Implement [deployment guardrails](https://docs.aws.amazon.com/sagemaker/latest/dg/deployment-guardrails.html) to control how to update your models in production"
   ]
  },
  {
   "cell_type": "markdown",
   "id": "82b9b6df-94d1-49ee-a21b-42b153d3fe4c",
   "metadata": {},
   "source": [
    "## Additional resources\n",
    "- [AmazonSageMaker Model Monitor: A System for Real-Time Insights into Deployed Machine Learning Models](https://assets.amazon.science/97/cc/8dc8526547859351f46d2710aba9/amazon-sagemaker-model-monitor-a-system-for-real-time-insights-into-deployed-machine-learning-models.pdf)\n",
    "- [Monitor models for data and model quality, bias, and explainability](https://docs.aws.amazon.com/sagemaker/latest/dg/model-monitor.html)\n",
    "- [Monitor data quality](https://docs.aws.amazon.com/sagemaker/latest/dg/model-monitor-data-quality.html)\n",
    "- [Model Monitor visualizations](https://sagemaker-examples.readthedocs.io/en/latest/sagemaker_model_monitor/visualization/SageMaker-Model-Monitor-Visualize.html)\n",
    "- [Monitor Amazon SageMaker](https://docs.aws.amazon.com/sagemaker/latest/dg/monitoring-overview.html)\n",
    "- [Monitoring a Model in Production](https://docs.aws.amazon.com/sagemaker/latest/dg/how-it-works-model-monitor.html)\n",
    "- [ModelMonitor for batch transform jobs](https://aws.amazon.com/about-aws/whats-new/2022/10/amazon-sagemaker-model-monitor-batch-transform-jobs/)\n",
    "- [Security in Amazon SageMaker](https://docs.aws.amazon.com/sagemaker/latest/dg/security.html)\n",
    "- [Deployment guardrails](https://docs.aws.amazon.com/sagemaker/latest/dg/deployment-guardrails.html)\n",
    "- [Design a compelling record filtering method with Amazon SageMaker Model Monitor](https://aws.amazon.com/blogs/machine-learning/design-a-compelling-record-filtering-method-with-amazon-sagemaker-model-monitor/)"
   ]
  },
  {
   "cell_type": "markdown",
   "id": "ee54a7b1-0e4a-424c-9283-07c62c1a4e2a",
   "metadata": {},
   "source": [
    "# Shutdown kernel"
   ]
  },
  {
   "cell_type": "code",
   "execution_count": null,
   "id": "c9cc068d-e111-46db-aaef-01fc30fa5069",
   "metadata": {},
   "outputs": [],
   "source": [
    "%%html\n",
    "\n",
    "<p><b>Shutting down your kernel for this notebook to release resources.</b></p>\n",
    "<button class=\"sm-command-button\" data-commandlinker-command=\"kernelmenu:shutdown\" style=\"display:none;\">Shutdown Kernel</button>\n",
    "        \n",
    "<script>\n",
    "try {\n",
    "    els = document.getElementsByClassName(\"sm-command-button\");\n",
    "    els[0].click();\n",
    "}\n",
    "catch(err) {\n",
    "    // NoOp\n",
    "}    \n",
    "</script>"
   ]
  },
  {
   "cell_type": "code",
   "execution_count": null,
   "id": "a0c5fa65-6e71-4e91-9449-0ea57a5261c1",
   "metadata": {},
   "outputs": [],
   "source": []
  }
 ],
 "metadata": {
  "availableInstances": [
   {
    "_defaultOrder": 0,
    "_isFastLaunch": true,
    "category": "General purpose",
    "gpuNum": 0,
    "memoryGiB": 4,
    "name": "ml.t3.medium",
    "vcpuNum": 2
   },
   {
    "_defaultOrder": 1,
    "_isFastLaunch": false,
    "category": "General purpose",
    "gpuNum": 0,
    "memoryGiB": 8,
    "name": "ml.t3.large",
    "vcpuNum": 2
   },
   {
    "_defaultOrder": 2,
    "_isFastLaunch": false,
    "category": "General purpose",
    "gpuNum": 0,
    "memoryGiB": 16,
    "name": "ml.t3.xlarge",
    "vcpuNum": 4
   },
   {
    "_defaultOrder": 3,
    "_isFastLaunch": false,
    "category": "General purpose",
    "gpuNum": 0,
    "memoryGiB": 32,
    "name": "ml.t3.2xlarge",
    "vcpuNum": 8
   },
   {
    "_defaultOrder": 4,
    "_isFastLaunch": true,
    "category": "General purpose",
    "gpuNum": 0,
    "memoryGiB": 8,
    "name": "ml.m5.large",
    "vcpuNum": 2
   },
   {
    "_defaultOrder": 5,
    "_isFastLaunch": false,
    "category": "General purpose",
    "gpuNum": 0,
    "memoryGiB": 16,
    "name": "ml.m5.xlarge",
    "vcpuNum": 4
   },
   {
    "_defaultOrder": 6,
    "_isFastLaunch": false,
    "category": "General purpose",
    "gpuNum": 0,
    "memoryGiB": 32,
    "name": "ml.m5.2xlarge",
    "vcpuNum": 8
   },
   {
    "_defaultOrder": 7,
    "_isFastLaunch": false,
    "category": "General purpose",
    "gpuNum": 0,
    "memoryGiB": 64,
    "name": "ml.m5.4xlarge",
    "vcpuNum": 16
   },
   {
    "_defaultOrder": 8,
    "_isFastLaunch": false,
    "category": "General purpose",
    "gpuNum": 0,
    "memoryGiB": 128,
    "name": "ml.m5.8xlarge",
    "vcpuNum": 32
   },
   {
    "_defaultOrder": 9,
    "_isFastLaunch": false,
    "category": "General purpose",
    "gpuNum": 0,
    "memoryGiB": 192,
    "name": "ml.m5.12xlarge",
    "vcpuNum": 48
   },
   {
    "_defaultOrder": 10,
    "_isFastLaunch": false,
    "category": "General purpose",
    "gpuNum": 0,
    "memoryGiB": 256,
    "name": "ml.m5.16xlarge",
    "vcpuNum": 64
   },
   {
    "_defaultOrder": 11,
    "_isFastLaunch": false,
    "category": "General purpose",
    "gpuNum": 0,
    "memoryGiB": 384,
    "name": "ml.m5.24xlarge",
    "vcpuNum": 96
   },
   {
    "_defaultOrder": 12,
    "_isFastLaunch": false,
    "category": "General purpose",
    "gpuNum": 0,
    "memoryGiB": 8,
    "name": "ml.m5d.large",
    "vcpuNum": 2
   },
   {
    "_defaultOrder": 13,
    "_isFastLaunch": false,
    "category": "General purpose",
    "gpuNum": 0,
    "memoryGiB": 16,
    "name": "ml.m5d.xlarge",
    "vcpuNum": 4
   },
   {
    "_defaultOrder": 14,
    "_isFastLaunch": false,
    "category": "General purpose",
    "gpuNum": 0,
    "memoryGiB": 32,
    "name": "ml.m5d.2xlarge",
    "vcpuNum": 8
   },
   {
    "_defaultOrder": 15,
    "_isFastLaunch": false,
    "category": "General purpose",
    "gpuNum": 0,
    "memoryGiB": 64,
    "name": "ml.m5d.4xlarge",
    "vcpuNum": 16
   },
   {
    "_defaultOrder": 16,
    "_isFastLaunch": false,
    "category": "General purpose",
    "gpuNum": 0,
    "memoryGiB": 128,
    "name": "ml.m5d.8xlarge",
    "vcpuNum": 32
   },
   {
    "_defaultOrder": 17,
    "_isFastLaunch": false,
    "category": "General purpose",
    "gpuNum": 0,
    "memoryGiB": 192,
    "name": "ml.m5d.12xlarge",
    "vcpuNum": 48
   },
   {
    "_defaultOrder": 18,
    "_isFastLaunch": false,
    "category": "General purpose",
    "gpuNum": 0,
    "memoryGiB": 256,
    "name": "ml.m5d.16xlarge",
    "vcpuNum": 64
   },
   {
    "_defaultOrder": 19,
    "_isFastLaunch": false,
    "category": "General purpose",
    "gpuNum": 0,
    "memoryGiB": 384,
    "name": "ml.m5d.24xlarge",
    "vcpuNum": 96
   },
   {
    "_defaultOrder": 20,
    "_isFastLaunch": true,
    "category": "Compute optimized",
    "gpuNum": 0,
    "memoryGiB": 4,
    "name": "ml.c5.large",
    "vcpuNum": 2
   },
   {
    "_defaultOrder": 21,
    "_isFastLaunch": false,
    "category": "Compute optimized",
    "gpuNum": 0,
    "memoryGiB": 8,
    "name": "ml.c5.xlarge",
    "vcpuNum": 4
   },
   {
    "_defaultOrder": 22,
    "_isFastLaunch": false,
    "category": "Compute optimized",
    "gpuNum": 0,
    "memoryGiB": 16,
    "name": "ml.c5.2xlarge",
    "vcpuNum": 8
   },
   {
    "_defaultOrder": 23,
    "_isFastLaunch": false,
    "category": "Compute optimized",
    "gpuNum": 0,
    "memoryGiB": 32,
    "name": "ml.c5.4xlarge",
    "vcpuNum": 16
   },
   {
    "_defaultOrder": 24,
    "_isFastLaunch": false,
    "category": "Compute optimized",
    "gpuNum": 0,
    "memoryGiB": 72,
    "name": "ml.c5.9xlarge",
    "vcpuNum": 36
   },
   {
    "_defaultOrder": 25,
    "_isFastLaunch": false,
    "category": "Compute optimized",
    "gpuNum": 0,
    "memoryGiB": 96,
    "name": "ml.c5.12xlarge",
    "vcpuNum": 48
   },
   {
    "_defaultOrder": 26,
    "_isFastLaunch": false,
    "category": "Compute optimized",
    "gpuNum": 0,
    "memoryGiB": 144,
    "name": "ml.c5.18xlarge",
    "vcpuNum": 72
   },
   {
    "_defaultOrder": 27,
    "_isFastLaunch": false,
    "category": "Compute optimized",
    "gpuNum": 0,
    "memoryGiB": 192,
    "name": "ml.c5.24xlarge",
    "vcpuNum": 96
   },
   {
    "_defaultOrder": 28,
    "_isFastLaunch": true,
    "category": "Accelerated computing",
    "gpuNum": 1,
    "memoryGiB": 16,
    "name": "ml.g4dn.xlarge",
    "vcpuNum": 4
   },
   {
    "_defaultOrder": 29,
    "_isFastLaunch": false,
    "category": "Accelerated computing",
    "gpuNum": 1,
    "memoryGiB": 32,
    "name": "ml.g4dn.2xlarge",
    "vcpuNum": 8
   },
   {
    "_defaultOrder": 30,
    "_isFastLaunch": false,
    "category": "Accelerated computing",
    "gpuNum": 1,
    "memoryGiB": 64,
    "name": "ml.g4dn.4xlarge",
    "vcpuNum": 16
   },
   {
    "_defaultOrder": 31,
    "_isFastLaunch": false,
    "category": "Accelerated computing",
    "gpuNum": 1,
    "memoryGiB": 128,
    "name": "ml.g4dn.8xlarge",
    "vcpuNum": 32
   },
   {
    "_defaultOrder": 32,
    "_isFastLaunch": false,
    "category": "Accelerated computing",
    "gpuNum": 4,
    "memoryGiB": 192,
    "name": "ml.g4dn.12xlarge",
    "vcpuNum": 48
   },
   {
    "_defaultOrder": 33,
    "_isFastLaunch": false,
    "category": "Accelerated computing",
    "gpuNum": 1,
    "memoryGiB": 256,
    "name": "ml.g4dn.16xlarge",
    "vcpuNum": 64
   },
   {
    "_defaultOrder": 34,
    "_isFastLaunch": false,
    "category": "Accelerated computing",
    "gpuNum": 1,
    "memoryGiB": 61,
    "name": "ml.p3.2xlarge",
    "vcpuNum": 8
   },
   {
    "_defaultOrder": 35,
    "_isFastLaunch": false,
    "category": "Accelerated computing",
    "gpuNum": 4,
    "memoryGiB": 244,
    "name": "ml.p3.8xlarge",
    "vcpuNum": 32
   },
   {
    "_defaultOrder": 36,
    "_isFastLaunch": false,
    "category": "Accelerated computing",
    "gpuNum": 8,
    "memoryGiB": 488,
    "name": "ml.p3.16xlarge",
    "vcpuNum": 64
   },
   {
    "_defaultOrder": 37,
    "_isFastLaunch": false,
    "category": "Accelerated computing",
    "gpuNum": 8,
    "memoryGiB": 768,
    "name": "ml.p3dn.24xlarge",
    "vcpuNum": 96
   },
   {
    "_defaultOrder": 38,
    "_isFastLaunch": false,
    "category": "Memory Optimized",
    "gpuNum": 0,
    "memoryGiB": 16,
    "name": "ml.r5.large",
    "vcpuNum": 2
   },
   {
    "_defaultOrder": 39,
    "_isFastLaunch": false,
    "category": "Memory Optimized",
    "gpuNum": 0,
    "memoryGiB": 32,
    "name": "ml.r5.xlarge",
    "vcpuNum": 4
   },
   {
    "_defaultOrder": 40,
    "_isFastLaunch": false,
    "category": "Memory Optimized",
    "gpuNum": 0,
    "memoryGiB": 64,
    "name": "ml.r5.2xlarge",
    "vcpuNum": 8
   },
   {
    "_defaultOrder": 41,
    "_isFastLaunch": false,
    "category": "Memory Optimized",
    "gpuNum": 0,
    "memoryGiB": 128,
    "name": "ml.r5.4xlarge",
    "vcpuNum": 16
   },
   {
    "_defaultOrder": 42,
    "_isFastLaunch": false,
    "category": "Memory Optimized",
    "gpuNum": 0,
    "memoryGiB": 256,
    "name": "ml.r5.8xlarge",
    "vcpuNum": 32
   },
   {
    "_defaultOrder": 43,
    "_isFastLaunch": false,
    "category": "Memory Optimized",
    "gpuNum": 0,
    "memoryGiB": 384,
    "name": "ml.r5.12xlarge",
    "vcpuNum": 48
   },
   {
    "_defaultOrder": 44,
    "_isFastLaunch": false,
    "category": "Memory Optimized",
    "gpuNum": 0,
    "memoryGiB": 512,
    "name": "ml.r5.16xlarge",
    "vcpuNum": 64
   },
   {
    "_defaultOrder": 45,
    "_isFastLaunch": false,
    "category": "Memory Optimized",
    "gpuNum": 0,
    "memoryGiB": 768,
    "name": "ml.r5.24xlarge",
    "vcpuNum": 96
   },
   {
    "_defaultOrder": 46,
    "_isFastLaunch": false,
    "category": "Accelerated computing",
    "gpuNum": 1,
    "memoryGiB": 16,
    "name": "ml.g5.xlarge",
    "vcpuNum": 4
   },
   {
    "_defaultOrder": 47,
    "_isFastLaunch": false,
    "category": "Accelerated computing",
    "gpuNum": 1,
    "memoryGiB": 32,
    "name": "ml.g5.2xlarge",
    "vcpuNum": 8
   },
   {
    "_defaultOrder": 48,
    "_isFastLaunch": false,
    "category": "Accelerated computing",
    "gpuNum": 1,
    "memoryGiB": 64,
    "name": "ml.g5.4xlarge",
    "vcpuNum": 16
   },
   {
    "_defaultOrder": 49,
    "_isFastLaunch": false,
    "category": "Accelerated computing",
    "gpuNum": 1,
    "memoryGiB": 128,
    "name": "ml.g5.8xlarge",
    "vcpuNum": 32
   },
   {
    "_defaultOrder": 50,
    "_isFastLaunch": false,
    "category": "Accelerated computing",
    "gpuNum": 1,
    "memoryGiB": 256,
    "name": "ml.g5.16xlarge",
    "vcpuNum": 64
   },
   {
    "_defaultOrder": 51,
    "_isFastLaunch": false,
    "category": "Accelerated computing",
    "gpuNum": 4,
    "memoryGiB": 192,
    "name": "ml.g5.12xlarge",
    "vcpuNum": 48
   },
   {
    "_defaultOrder": 52,
    "_isFastLaunch": false,
    "category": "Accelerated computing",
    "gpuNum": 4,
    "memoryGiB": 384,
    "name": "ml.g5.24xlarge",
    "vcpuNum": 96
   },
   {
    "_defaultOrder": 53,
    "_isFastLaunch": false,
    "category": "Accelerated computing",
    "gpuNum": 8,
    "memoryGiB": 768,
    "name": "ml.g5.48xlarge",
    "vcpuNum": 192
   }
  ],
  "instance_type": "ml.t3.medium",
  "kernelspec": {
   "display_name": "Python 3 (Data Science)",
   "language": "python",
   "name": "python3__SAGEMAKER_INTERNAL__arn:aws:sagemaker:us-east-1:081325390199:image/datascience-1.0"
  },
  "language_info": {
   "codemirror_mode": {
    "name": "ipython",
    "version": 3
   },
   "file_extension": ".py",
   "mimetype": "text/x-python",
   "name": "python",
   "nbconvert_exporter": "python",
   "pygments_lexer": "ipython3",
   "version": "3.7.10"
  },
  "vscode": {
   "interpreter": {
    "hash": "aee8b7b246df8f9039afb4144a1f6fd8d2ca17a180786b69acc140d282b71a49"
   }
  }
 },
 "nbformat": 4,
 "nbformat_minor": 5
}
