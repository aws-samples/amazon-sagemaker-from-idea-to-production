{
 "cells": [
  {
   "cell_type": "markdown",
   "id": "0551f521-eaea-4e5c-a9a9-60a93aaa018e",
   "metadata": {},
   "source": [
    "# Step 6: Add data and model monitoring\n",
    "\n",
    "<div class=\"alert alert-warning\"> This notebook has been last tested on a SageMaker Studio JupyterLab instance using the <code>SageMaker Distribution Image 3.0.1</code> and with the SageMaker Python SDK version <code>2.245.0</code></div>\n",
    "\n",
    "After executing five previous notebooks, you have a production-ready solution with automated model building and model deployment CI/CD pipelines.\n",
    "\n",
    "In this notebook you are going to use [Amazon SageMaker model monitor](https://aws.amazon.com/sagemaker/model-monitor/) to add continuous and automated [monitoring of the data quality](https://docs.aws.amazon.com/sagemaker/latest/dg/model-monitor-data-quality.html) for the traffic to your real-time SageMaker inference endpoints. You also implement [model monitoring](https://docs.aws.amazon.com/sagemaker/latest/dg/model-monitor-model-quality.html) to detect performance drift and model metric anomalies.\n",
    "\n",
    "Using Model Monitor integration with [Amazon EventBridge](https://aws.amazon.com/eventbridge/) you can implement automated response and remediation to any detected issues with data and model quality. For example, you can launch an automated model retraining if the model performance falls below a specific threshold.\n",
    "\n",
    "Additionally to data and model quality monitoring you can implement [bias drift](https://docs.aws.amazon.com/sagemaker/latest/dg/clarify-model-monitor-bias-drift.html) and [feature attribution drift](https://docs.aws.amazon.com/sagemaker/latest/dg/clarify-model-monitor-feature-attribution-drift.html) monitoring.\n",
    "\n",
    "||||\n",
    "|---|---|---|\n",
    "|1. |Experiment in a notebook ||\n",
    "|2. |Scale with SageMaker AI processing jobs and SageMaker SDK ||\n",
    "|3. |Operationalize with ML pipeline, model registry, and feature store ||\n",
    "|4. |Add a model building CI/CD pipeline ||\n",
    "|5. |Add a model deployment pipeline ||\n",
    "|6. |Add model and data monitoring |**<<<< YOU ARE HERE**|"
   ]
  },
  {
   "cell_type": "markdown",
   "id": "5a6f0591-a821-44e7-b6d7-c3d518b55b4c",
   "metadata": {},
   "source": [
    "<div class=\"alert alert-info\"> 💡\n",
    "The minimal prerequisite for this notebook is to complete the setup (00-start-here.ipynb) and step 3 (03-sagemaker-pipeline.ipynb) notebooks.\n",
    "</div>\n",
    "\n",
    "<div class=\"alert alert-info\"> 💡\n",
    "This notebook contains two parts:<br/>\n",
    "- Part 1: Monitor data quality<br/>\n",
    "- Part 2: Monitor model quality<br/>\n",
    "<br/>\n",
    "\n",
    "You need approximately between 60 and 90 minutes to go through this notebook. To optimize time you can execute both parts independently. For both parts you must execute all following sections up to the <strong>Part 1</storng>.\n",
    "</div>\n",
    "\n",
    "<div class=\"alert alert-info\"> Make sure you using <code>Python 3</code> kernel in JupyterLab for this notebook.</div>"
   ]
  },
  {
   "cell_type": "code",
   "execution_count": 1,
   "id": "6dcada1a-d8a5-4f5a-9d2b-e8da352aa3cf",
   "metadata": {
    "tags": []
   },
   "outputs": [
    {
     "name": "stdout",
     "output_type": "stream",
     "text": [
      "Collecting jsonlines\n",
      "  Downloading jsonlines-4.0.0-py3-none-any.whl.metadata (1.6 kB)\n",
      "Requirement already satisfied: tqdm in /opt/conda/lib/python3.11/site-packages (4.67.1)\n",
      "Requirement already satisfied: attrs>=19.2.0 in /opt/conda/lib/python3.11/site-packages (from jsonlines) (23.2.0)\n",
      "Downloading jsonlines-4.0.0-py3-none-any.whl (8.7 kB)\n",
      "Installing collected packages: jsonlines\n",
      "Successfully installed jsonlines-4.0.0\n",
      "Note: you may need to restart the kernel to use updated packages.\n"
     ]
    }
   ],
   "source": [
    "%pip install jsonlines tqdm"
   ]
  },
  {
   "cell_type": "code",
   "execution_count": 2,
   "id": "a2681315-b19c-4e97-a49e-21f04efb6bfd",
   "metadata": {
    "tags": []
   },
   "outputs": [
    {
     "name": "stderr",
     "output_type": "stream",
     "text": [
      "/opt/conda/lib/python3.11/site-packages/pydantic/_internal/_fields.py:192: UserWarning: Field name \"json\" in \"MonitoringDatasetFormat\" shadows an attribute in parent \"Base\"\n",
      "  warnings.warn(\n"
     ]
    },
    {
     "name": "stdout",
     "output_type": "stream",
     "text": [
      "sagemaker.config INFO - Not applying SDK defaults from location: /etc/xdg/sagemaker/config.yaml\n",
      "sagemaker.config INFO - Fetched defaults config from location: /home/sagemaker-user/.config/sagemaker/config.yaml\n"
     ]
    },
    {
     "data": {
      "text/plain": [
       "'2.239.0'"
      ]
     },
     "execution_count": 2,
     "metadata": {},
     "output_type": "execute_result"
    }
   ],
   "source": [
    "import boto3\n",
    "import botocore\n",
    "import sagemaker \n",
    "import json\n",
    "import jsonlines\n",
    "import random\n",
    "from tqdm import trange\n",
    "from sagemaker.predictor import Predictor\n",
    "from sagemaker import ModelPackage\n",
    "import time\n",
    "from time import gmtime, strftime\n",
    "from datetime import datetime, timedelta\n",
    "import uuid\n",
    "import pandas as pd\n",
    "import numpy as np\n",
    "from sagemaker.model_monitor import (\n",
    "    DefaultModelMonitor,\n",
    "    DataCaptureConfig,\n",
    "    CronExpressionGenerator,\n",
    "    ModelQualityMonitor,\n",
    "    EndpointInput,\n",
    ")\n",
    "from sagemaker.model_monitor.dataset_format import DatasetFormat\n",
    "from sagemaker.model_monitor import DataCaptureConfig\n",
    "from utils.monitoring_utils import run_model_monitor_job\n",
    "from sagemaker.s3 import S3Downloader, S3Uploader\n",
    "from sagemaker.clarify import (\n",
    "    BiasConfig,\n",
    "    DataConfig,\n",
    "    ModelConfig,\n",
    "    ModelPredictedLabelConfig,\n",
    "    SHAPConfig,\n",
    ")\n",
    "from urllib.parse import urlparse\n",
    "\n",
    "sagemaker.__version__"
   ]
  },
  {
   "cell_type": "code",
   "execution_count": 3,
   "id": "f8b8d993-1c33-40ad-96ee-7340edadcc31",
   "metadata": {
    "tags": []
   },
   "outputs": [],
   "source": [
    "sm = boto3.client(\"sagemaker\")\n",
    "s3 = boto3.client(\"s3\")"
   ]
  },
  {
   "cell_type": "code",
   "execution_count": 4,
   "id": "9d0204aa-0ff1-4397-ac89-5b148da9bdd5",
   "metadata": {
    "tags": []
   },
   "outputs": [],
   "source": [
    "session = sagemaker.Session()"
   ]
  },
  {
   "cell_type": "code",
   "execution_count": 5,
   "id": "bb9517dc-86bc-446d-938d-164b80828158",
   "metadata": {
    "tags": []
   },
   "outputs": [],
   "source": [
    "pd.set_option(\"display.max_colwidth\", None)"
   ]
  },
  {
   "cell_type": "code",
   "execution_count": 6,
   "id": "9d2fb029-39b2-48ee-a3d6-38f1a42f25ab",
   "metadata": {
    "tags": []
   },
   "outputs": [
    {
     "name": "stdout",
     "output_type": "stream",
     "text": [
      "Stored variables and their in-db values:\n",
      "baseline_s3_url                         -> 's3://sagemaker-us-east-1-906545278380/from-idea-t\n",
      "bucket_name                             -> 'sagemaker-us-east-1-906545278380'\n",
      "bucket_prefix                           -> 'from-idea-to-prod/xgboost'\n",
      "dataset_feature_group_name              -> 'from-idea-to-prod-12-06-30-53'\n",
      "dataset_file_local_path                 -> 'data/bank-additional/bank-additional-full.csv'\n",
      "domain_id                               -> 'd-igloxuzrs3z2'\n",
      "evaluation_s3_url                       -> 's3://sagemaker-us-east-1-906545278380/from-idea-t\n",
      "experiment_name                         -> 'from-idea-to-prod-experiment-11-21-33-07'\n",
      "feature_store_bucket_prefix             -> 'from-idea-to-prod/feature-store'\n",
      "initialized                             -> True\n",
      "input_s3_url                            -> 's3://sagemaker-us-east-1-906545278380/from-idea-t\n",
      "mlflow_arn                              -> 'arn:aws:sagemaker:us-east-1:906545278380:mlflow-t\n",
      "mlflow_name                             -> 'test-mlflow'\n",
      "model_package_group_name                -> 'from-idea-to-prod-pipeline-model-12-06-30-22'\n",
      "output_s3_url                           -> 's3://sagemaker-us-east-1-906545278380/from-idea-t\n",
      "pipeline_name                           -> 'from-idea-to-prod-pipeline-12-06-30-22'\n",
      "prediction_baseline_s3_url              -> 's3://sagemaker-us-east-1-906545278380/from-idea-t\n",
      "project_arn                             -> 'arn:aws:sagemaker:us-east-1:906545278380:project/\n",
      "project_id                              -> 'p-ca7phmcraepa'\n",
      "project_name                            -> 'mlops-02-14-11-03-33'\n",
      "region                                  -> 'us-east-1'\n",
      "sm_image                                -> 'arn:aws:sagemaker:us-east-1:885854791233:image/sa\n",
      "sm_image_version                        -> '2.3.0'\n",
      "sm_role                                 -> 'arn:aws:iam::906545278380:role/mlops-workshop-dom\n",
      "space_name                              -> 'mlops-workshop-update'\n",
      "target_col                              -> 'y'\n",
      "test_s3_url                             -> 's3://sagemaker-us-east-1-906545278380/from-idea-t\n",
      "train_s3_url                            -> 's3://sagemaker-us-east-1-906545278380/from-idea-t\n",
      "training_job_name                       -> 'from-idea-to-prod-training-2025-02-11-14-33-37-00\n",
      "user_profile_name                       -> 'studio-user-fb6d0370'\n",
      "validation_s3_url                       -> 's3://sagemaker-us-east-1-906545278380/from-idea-t\n"
     ]
    }
   ],
   "source": [
    "%store -r \n",
    "\n",
    "%store\n",
    "\n",
    "try:\n",
    "    initialized\n",
    "except NameError:\n",
    "    print(\"+++++++++++++++++++++++++++++++++++++++++++++++++\")\n",
    "    print(\"[ERROR] YOU HAVE TO RUN 00-start-here notebook   \")\n",
    "    print(\"+++++++++++++++++++++++++++++++++++++++++++++++++\")"
   ]
  },
  {
   "cell_type": "markdown",
   "id": "45ae4a24-1294-4bda-8f68-4e811025932d",
   "metadata": {},
   "source": [
    "## How Model Monitor works\n",
    "Amazon SageMaker Model Monitor automatically monitors ML models in production and notifies you when quality issues arise. Model Monitor uses rules to detect drift in your models and data and alerts you when it happens. The following figure shows how this process works.\n",
    "\n",
    "![](img/data-monitoring-architecture.png)\n",
    "\n",
    "The process for setting up and using the data monitoring:\n",
    "1. Enable the SageMaker endpoint to capture data from incoming requests to a trained ML model and the resulting model predictions\n",
    "2. Create a baseline from the dataset that was used to train the model. The baseline computes metrics and suggests constraints for the metrics. \n",
    "3. Create a monitoring schedule specifying what data to collect, how often to collect it, and how to analyze it. Data traffic to your model and predictions from the model are compared to the constraints, and are reported as violations if they are outside the constrained values. You can define multiple monitoring schedule per endpoint\n",
    "4. Inspect the reports, which compare the latest data with the baseline, and watch for any violations reported and for metrics and notifications from Amazon CloudWatch\n",
    "5. Implement observability for your ML models with Amazon CloudWatch and event-based architecture with Amazon EventBridge. You can automate data and model updates, model retraining, and user notification based on the data and model quality events"
   ]
  },
  {
   "cell_type": "markdown",
   "id": "51d0e422-8fc2-40eb-b0e4-b2b36e8bb37e",
   "metadata": {},
   "source": [
    "## Real-time inference data capture from a SageMaker endpoint\n",
    "To work with the model monitor in this notebook, you need a real-time inference endpoint and data capture configured on that endpoint. \n",
    "If you completed the [step 5](05-deploy.ipynb) notebook, there is at least one deployed endpoint with the name like `model-deploy-19-20-31-59-staging`. If you don't have an active endpoint, you need to create one."
   ]
  },
  {
   "cell_type": "code",
   "execution_count": 7,
   "id": "ea47c022-a154-46f3-8d5e-aaf268467977",
   "metadata": {
    "tags": []
   },
   "outputs": [
    {
     "name": "stdout",
     "output_type": "stream",
     "text": [
      "There are 2 active inference endpoints. Checking the data capture configuration:\n",
      "Data capture configuration for mlops-02-14-11-03-33-prod:\n",
      "{\n",
      "  \"EnableCapture\": true,\n",
      "  \"CaptureStatus\": \"Started\",\n",
      "  \"CurrentSamplingPercentage\": 80,\n",
      "  \"DestinationS3Uri\": \"s3://sagemaker-project-p-ca7phmcraepa/datacapture-prod\"\n",
      "}\n",
      "Data capture configuration for mlops-02-14-11-03-33-staging:\n",
      "{\n",
      "  \"EnableCapture\": true,\n",
      "  \"CaptureStatus\": \"Started\",\n",
      "  \"CurrentSamplingPercentage\": 100,\n",
      "  \"DestinationS3Uri\": \"s3://sagemaker-project-p-ca7phmcraepa/datacapture-staging\"\n",
      "}\n"
     ]
    }
   ],
   "source": [
    "# List all deployed real-time endpoints. Depending on your existing environment you might have multiple endpoints\n",
    "endpoints = sm.list_endpoints(StatusEquals=\"InService\")[\"Endpoints\"]\n",
    "endpoint_name = \"\"\n",
    "\n",
    "if not len(endpoints):\n",
    "    print(f\"There is no deployed active endpoints. You must have at least one endpoint. Run the step 3 pipeline to create a model\")\n",
    "else:\n",
    "    endpoint_name = endpoints[0]['EndpointName']\n",
    "    print(f\"There are {len(endpoints)} active inference endpoints. Checking the data capture configuration:\")\n",
    "    \n",
    "for ep in endpoints:\n",
    "    print(f\"Data capture configuration for {ep['EndpointName']}:\")\n",
    "    dcc = sm.describe_endpoint(EndpointName=ep['EndpointName']).get('DataCaptureConfig')\n",
    "    print(f\"{json.dumps(dcc, indent=2)}\" if dcc else f\"<No data capture config for this endpoint>\")"
   ]
  },
  {
   "cell_type": "markdown",
   "id": "6f313a21-fcf5-42ed-82e5-bc8306b46cd5",
   "metadata": {},
   "source": [
    "<div class=\"alert alert-info\"> 💡\n",
    "If there is no active endpoints, you can run the step 3 notebook to create a model and register the model in the model registry.\n",
    "If you have an active endpoint, you can go to the <strong>Check the data capture configuration</strong> section.\n",
    "</div>"
   ]
  },
  {
   "cell_type": "markdown",
   "id": "de9355bb-bb6f-4f48-be15-425ccddb17cb",
   "metadata": {},
   "source": [
    "### Deploy a model from the model registry as a real-time endpoint\n",
    "\n",
    "<div style=\"border: 4px solid coral; text-align: center; margin: auto;\">\n",
    "    <p style=\" text-align: center; margin: auto;\">Run this section only if you'd like to create a new endpoint with a model from the model registry you created in the step 3 pipeline. If you already have an active endpoint you'd like to use for model monitoring, skip this section and go to the section <b>Check the data capture configuration</b>.\n",
    "    </p>\n",
    "</div>\n",
    "\n",
    "<br/>\n",
    "<br/>\n",
    "\n",
    "The following code checks if there is a model package group created by the step 3 pipeline and if there are any registered model versions in the package."
   ]
  },
  {
   "cell_type": "code",
   "execution_count": null,
   "id": "9bf19768-cd0e-4dcb-9bbb-93a37e5cf103",
   "metadata": {
    "tags": []
   },
   "outputs": [],
   "source": [
    "try:\n",
    "    model_package_group = sm.describe_model_package_group(ModelPackageGroupName=model_package_group_name)\n",
    "    print(f\"There is model package group {model_package_group_name} in the model registry\")\n",
    "except botocore.exceptions.ClientError as e:\n",
    "    if e.response['Error']['Code'] == 'ValidationException':\n",
    "        print(\"******* ERROR *********\")\n",
    "        print(f\"Model package group with the name {model_package_group_name} is not found. You need to run the step 3 pipeline to create a model\")"
   ]
  },
  {
   "cell_type": "code",
   "execution_count": null,
   "id": "97e5b728-2423-4b7c-b3b1-717a5099130e",
   "metadata": {
    "tags": []
   },
   "outputs": [],
   "source": [
    "model_packages = []\n",
    "\n",
    "# Find the latest model package\n",
    "# Set the parameter ModelApprovalStatus='Approved' if you'd like to get only the approved packages\n",
    "# Sort by the CreationTime\n",
    "for p in sm.get_paginator('list_model_packages').paginate(\n",
    "    ModelPackageGroupName=model_package_group_name,\n",
    "    # ModelApprovalStatus='Approved',\n",
    "    SortBy=\"CreationTime\",\n",
    "    SortOrder=\"Descending\",\n",
    "    ):\n",
    "    model_packages.extend(p[\"ModelPackageSummaryList\"])\n",
    "    \n",
    "if not len(model_packages):\n",
    "    print(\"There is no model packages in the model package group {model_package_group_name}. You need to run the step 3 pipeline to create a model\")\n",
    "    \n",
    "latest_model_package_arn = model_packages[0]['ModelPackageArn']\n",
    "print(f\"The most recent model package is version {model_packages[0]['ModelPackageVersion']}, {latest_model_package_arn}\")\n"
   ]
  },
  {
   "cell_type": "markdown",
   "id": "aabe171e-9347-475a-b407-fd21e41cd6a5",
   "metadata": {},
   "source": [
    "You can only deploy a model with the model approval status `Approved`, so the next code cell updates the status."
   ]
  },
  {
   "cell_type": "code",
   "execution_count": null,
   "id": "62ef15db-8bef-40bd-9c5e-567d67c1dd8e",
   "metadata": {
    "tags": []
   },
   "outputs": [],
   "source": [
    "r = sm.describe_model_package(ModelPackageName=latest_model_package_arn)\n",
    "\n",
    "if r['ModelApprovalStatus'] not in ['Approved']:\n",
    "    sm.update_model_package(\n",
    "        ModelPackageArn=latest_model_package_arn,\n",
    "        ModelApprovalStatus=\"Approved\",\n",
    "    )\n",
    "else:\n",
    "    print(f\"Model approval status is {r['ModelApprovalStatus']} for the model package {latest_model_package_arn}\")"
   ]
  },
  {
   "cell_type": "code",
   "execution_count": null,
   "id": "c23c7d8a-0ee1-4e6d-8052-543c8d6d73a2",
   "metadata": {
    "tags": []
   },
   "outputs": [],
   "source": [
    "# Create a model from the registry using Python SDK\n",
    "model = ModelPackage(role=sm_role, \n",
    "                     model_package_arn=model_packages[0]['ModelPackageArn'], \n",
    "                     sagemaker_session=session)"
   ]
  },
  {
   "cell_type": "code",
   "execution_count": null,
   "id": "4859df53-8d40-44f5-b07e-8e7e2bf1dda7",
   "metadata": {
    "tags": []
   },
   "outputs": [],
   "source": [
    "endpoint_name = f\"from-idea-to-prod-endpoint-{strftime('%d-%H-%M-%S', gmtime())}\"\n",
    "\n",
    "data_capture_config = DataCaptureConfig(\n",
    "            enable_capture=True,\n",
    "            sampling_percentage=100,\n",
    "            destination_s3_uri=f\"s3://{bucket_name}/{bucket_prefix}/data-capture\",\n",
    "            csv_content_types=[\"text/csv\"],\n",
    "        )"
   ]
  },
  {
   "cell_type": "markdown",
   "id": "44c7f4d6",
   "metadata": {},
   "source": [
    "<img src=\"data:image/svg+xml;base64,Cjxzdmcgd2lkdGg9IjgwMCIgaGVpZ2h0PSIxMjUiIHZpZXdCb3g9IjAgMCA4MDAgMTI1IiB4bWxucz0iaHR0cDovL3d3dy53My5vcmcvMjAwMC9zdmciPgogICAgPGRlZnM+CiAgICAgICAgPGxpbmVhckdyYWRpZW50IGlkPSJmYWRlR3JhZGllbnQiIHgxPSIwIiB4Mj0iMSI+CiAgICAgICAgICAgIDxzdG9wIG9mZnNldD0iMCUiIHN0b3AtY29sb3I9IiNGMEYwRjAiLz4KICAgICAgICAgICAgPHN0b3Agb2Zmc2V0PSIxMDAlIiBzdG9wLWNvbG9yPSIjRjBGMEYwIiBzdG9wLW9wYWNpdHk9IjAiLz4KICAgICAgICA8L2xpbmVhckdyYWRpZW50PgogICAgICAgIDxtYXNrIGlkPSJmYWRlTWFzayI+CiAgICAgICAgICAgIDxyZWN0IHg9IjAiIHk9IjAiIHdpZHRoPSI3NTAiIGhlaWdodD0iMTI1IiBmaWxsPSJ3aGl0ZSIvPgogICAgICAgICAgICA8cmVjdCB4PSI3NTAiIHk9IjAiIHdpZHRoPSI1MCIgaGVpZ2h0PSIxMjUiIGZpbGw9InVybCgjZmFkZUdyYWRpZW50KSIvPgogICAgICAgIDwvbWFzaz4KICAgIDwvZGVmcz4KICAgIDxwYXRoIGQ9Ik0zLDUwIEE1MCw1MCAwIDAgMSA1MywzIEw3OTcsMyBMNzk3LDk3IEw5Nyw5NyBMNTAsMTE1IEwzLDk3IFoiIGZpbGw9IiNGMEYwRjAiIHN0cm9rZT0iI0UwRTBFMCIgc3Ryb2tlLXdpZHRoPSIxIiBtYXNrPSJ1cmwoI2ZhZGVNYXNrKSIvPgogICAgPGNpcmNsZSBjeD0iNTAiIGN5PSI1MCIgcj0iMzAiIGZpbGw9IiM1N2M0ZjgiIHN0cm9rZT0iIzU3YzRmOCIgc3Ryb2tlLXdpZHRoPSIxIi8+CiAgICA8Y2lyY2xlIGN4PSI1MCIgY3k9IjUwIiByPSIyNSIgZmlsbD0iI0YwRjBGMCIvPgogICAgPGxpbmUgeDE9IjUwIiB5MT0iNTAiIHgyPSI1MCIgeTI9IjMwIiBzdHJva2U9IiM1N2M0ZjgiIHN0cm9rZS13aWR0aD0iMyIgc3Ryb2tlLWxpbmVjYXA9InJvdW5kIi8+CiAgICA8bGluZSB4MT0iNTAiIHkxPSI1MCIgeDI9IjY1IiB5Mj0iNTAiIHN0cm9rZT0iIzU3YzRmOCIgc3Ryb2tlLXdpZHRoPSIzIiBzdHJva2UtbGluZWNhcD0icm91bmQiLz4KICAgIDx0ZXh0IHg9IjEwMCIgeT0iMzQiIGZvbnQtZmFtaWx5PSJBcmlhbCwgc2Fucy1zZXJpZiIgZm9udC1zaXplPSIxNCIgZmlsbD0iIzMzMzMzMyI+VGhlIG5leHQgY2VsbCBtYXkgdGFrZSBhIGZldyBtaW51dGVzIHRvIHJ1bi48L3RleHQ+Cjwvc3ZnPgo=\" alt=\"Time alert open medium\"/>"
   ]
  },
  {
   "cell_type": "code",
   "execution_count": null,
   "id": "75c16a7d-f8f1-426c-bd44-5527f21f71df",
   "metadata": {
    "tags": []
   },
   "outputs": [],
   "source": [
    "# Deploy the model\n",
    "model.deploy(\n",
    "    initial_instance_count=1,\n",
    "    instance_type=\"ml.m5.large\",\n",
    "    wait=False,\n",
    "    data_capture_config=data_capture_config,\n",
    "    endpoint_name=endpoint_name,\n",
    "    serializer=sagemaker.serializers.CSVSerializer(),\n",
    "    deserializer=sagemaker.deserializers.CSVDeserializer(),\n",
    ")"
   ]
  },
  {
   "cell_type": "code",
   "execution_count": null,
   "id": "6b7d312b-84c9-4cc0-9467-451759cb809b",
   "metadata": {
    "tags": []
   },
   "outputs": [],
   "source": [
    "# Wait until the endpoint has the status InService, it takes approximately 5 min\n",
    "waiter = session.sagemaker_client.get_waiter('endpoint_in_service')\n",
    "waiter.wait(EndpointName=endpoint_name)"
   ]
  },
  {
   "cell_type": "markdown",
   "id": "3bf1454b",
   "metadata": {},
   "source": [
    "<img src=\"data:image/svg+xml;base64,Cjxzdmcgd2lkdGg9IjgwMCIgaGVpZ2h0PSI1MCIgdmlld0JveD0iMCAwIDgwMCA1MCIgeG1sbnM9Imh0dHA6Ly93d3cudzMub3JnLzIwMDAvc3ZnIj4KICAgIDxkZWZzPgogICAgICAgIDxsaW5lYXJHcmFkaWVudCBpZD0iZmFkZUdyYWRpZW50IiB4MT0iMCIgeDI9IjEiPgogICAgICAgICAgICA8c3RvcCBvZmZzZXQ9IjAlIiBzdG9wLWNvbG9yPSIjRjBGMEYwIi8+CiAgICAgICAgICAgIDxzdG9wIG9mZnNldD0iMTAwJSIgc3RvcC1jb2xvcj0iI0YwRjBGMCIgc3RvcC1vcGFjaXR5PSIwIi8+CiAgICAgICAgPC9saW5lYXJHcmFkaWVudD4KICAgICAgICA8bWFzayBpZD0iZmFkZU1hc2siPgogICAgICAgICAgICA8cmVjdCB4PSIwIiB5PSIwIiB3aWR0aD0iNzUwIiBoZWlnaHQ9IjUwIiBmaWxsPSJ3aGl0ZSIvPgogICAgICAgICAgICA8cmVjdCB4PSI3NTAiIHk9IjAiIHdpZHRoPSI1MCIgaGVpZ2h0PSI1MCIgZmlsbD0idXJsKCNmYWRlR3JhZGllbnQpIi8+CiAgICAgICAgPC9tYXNrPgogICAgPC9kZWZzPgogICAgPHBhdGggZD0iTTI1LDUwIFEwLDUwIDAsMjUgTDUwLDMgTDk3LDI1IEw3OTcsMjUgTDc5Nyw1MCBMMjUsNTAgWiIgZmlsbD0iI0YwRjBGMCIgc3Ryb2tlPSIjRTBFMEUwIiBzdHJva2Utd2lkdGg9IjEiIG1hc2s9InVybCgjZmFkZU1hc2spIi8+Cjwvc3ZnPgo=\" alt=\"Time alert close\"/>"
   ]
  },
  {
   "cell_type": "markdown",
   "id": "8f977d10-057f-4d9f-85ba-17b5dd7ebff6",
   "metadata": {},
   "source": [
    "### Check the data capture configuration\n",
    "If you completed the step 5 [notebook](05-deploy.ipynb), the model deployment CI/CD pipeline contains an infrastructure as code (IaS) data capture configuration for the deployed endpoints. If you clone the project's code repository to the Studio file system, you can browse the project files. Let's take a look into the endpoint configuration.\n",
    "\n",
    "The CloudFormation deployment template `endpoint-config-template.yml` in the project directory enables data capture for the endpoint configuration:\n",
    "```yaml\n",
    "EndpointConfig:\n",
    "    Type: AWS::SageMaker::EndpointConfig\n",
    "    Properties:\n",
    "      ProductionVariants:\n",
    "        - InitialInstanceCount: !Ref EndpointInstanceCount\n",
    "          InitialVariantWeight: 1.0\n",
    "          InstanceType: !Ref EndpointInstanceType\n",
    "          ModelName: !GetAtt Model.ModelName\n",
    "          VariantName: AllTraffic\n",
    "      DataCaptureConfig:\n",
    "          EnableCapture: !Ref EnableDataCapture \n",
    "          InitialSamplingPercentage: !Ref SamplingPercentage\n",
    "          DestinationS3Uri: !Ref DataCaptureUploadPath\n",
    "          CaptureOptions:\n",
    "            - CaptureMode: Input\n",
    "            - CaptureMode: Output\n",
    "          CaptureContentTypeHeader:\n",
    "            CsvContentTypes:\n",
    "              - \"text/csv\"\n",
    "```\n",
    "\n",
    "The MLOps deploy project you created in the step 4 parametrizes all settings in the CloudFormation template.\n",
    "The configuration files `prod-config.json` and `staging-config.json` provide the actual values for `EnableCapture`, `InitialSamplingPercentage`, and `DestinationS3Uri`:\n",
    "```json\n",
    "{\n",
    "  \"Parameters\": {\n",
    "    \"StageName\": \"prod\",\n",
    "    \"EndpointInstanceCount\": \"1\",\n",
    "    \"EndpointInstanceType\": \"ml.m5.large\",\n",
    "    \"SamplingPercentage\": \"80\",\n",
    "    \"EnableDataCapture\": \"true\"\n",
    "  }\n",
    "}\n",
    "```\n",
    "\n",
    "If you haven't executed step 4 notebook and deployed an endpoint with the model version from the model registry, let's check the endpoint configuration and see how data capture is confgured."
   ]
  },
  {
   "cell_type": "markdown",
   "id": "97579f3b-2f8e-41e9-93b1-391695c6419f",
   "metadata": {
    "tags": []
   },
   "source": [
    "<div class=\"alert alert-info\"> 💡\n",
    "The endpoint_name variable must be set by now by the previous code cells. If it's not set, highly probably you don't have any active endpoint. Make sure you completed the section <strong>Deploy a model from the model registry as a real-time endpoint</strong>. \n",
    "</div>"
   ]
  },
  {
   "cell_type": "code",
   "execution_count": 8,
   "id": "a891b9fe-37a3-44fa-a1d6-2fe94262410c",
   "metadata": {
    "tags": []
   },
   "outputs": [
    {
     "name": "stdout",
     "output_type": "stream",
     "text": [
      "Checking the data capture configuration for the endpoint mlops-02-14-11-03-33-prod\n",
      "{\n",
      "  \"EnableCapture\": true,\n",
      "  \"CaptureStatus\": \"Started\",\n",
      "  \"CurrentSamplingPercentage\": 80,\n",
      "  \"DestinationS3Uri\": \"s3://sagemaker-project-p-ca7phmcraepa/datacapture-prod\"\n",
      "}\n",
      "Data capture S3 url: s3://sagemaker-project-p-ca7phmcraepa/datacapture-prod\n"
     ]
    }
   ],
   "source": [
    "# Get the data capture configuration for the endpoint\n",
    "# endpoint_name = \"model-deploy-16-21-26-26-staging\" # must be set before, but you can use any suitable endpoint\n",
    "\n",
    "if not endpoint_name:\n",
    "    print(f\"You must have at least on endpoint with data capture configuration enabled!\")\n",
    "else:\n",
    "    print(f\"Checking the data capture configuration for the endpoint {endpoint_name}\")\n",
    "    data_capture_config = sm.describe_endpoint(EndpointName=endpoint_name)['DataCaptureConfig']\n",
    "    data_capture_s3_url = data_capture_config['DestinationS3Uri']\n",
    "    data_capture_bucket = data_capture_s3_url.split('/')[2]\n",
    "    data_capture_prefix = '/'.join(data_capture_s3_url.split('/')[3:])\n",
    "\n",
    "    print(json.dumps(data_capture_config, indent=2))\n",
    "    print(f\"Data capture S3 url: {data_capture_s3_url}\")\n",
    "    \n",
    "    if not data_capture_config['EnableCapture']:\n",
    "        print(f\"Data capture config for the endpoint {endpoint_name} IS NOT ENABLED. You need to enable data capture for monitoring\")"
   ]
  },
  {
   "cell_type": "markdown",
   "id": "a7cbc4f7-ccd9-4399-8ffe-a736e2cc6cc4",
   "metadata": {},
   "source": [
    "### Define helper functions\n",
    "Define some helper functions with code snippets that you're going to use throughout this notebook."
   ]
  },
  {
   "cell_type": "code",
   "execution_count": 9,
   "id": "d880ebc0-f728-42e0-82fa-84a8daddda87",
   "metadata": {
    "tags": []
   },
   "outputs": [],
   "source": [
    "# Send data to the endpoint\n",
    "def generate_endpoint_traffic(predictor, data):\n",
    "    l = len(data)\n",
    "    for i in trange(l):\n",
    "        predictions = np.array(predictor.predict(data.iloc[i].values), dtype=float).squeeze()"
   ]
  },
  {
   "cell_type": "code",
   "execution_count": 10,
   "id": "2d86ff79-55f5-42d6-b390-38b8e4220d6d",
   "metadata": {
    "tags": []
   },
   "outputs": [],
   "source": [
    "# Get all file keys under a specified prefix\n",
    "def get_file_list(bucket, prefix):\n",
    "    try:\n",
    "        files = [f.get(\"Key\") for f in s3.list_objects(Bucket=bucket, Prefix=prefix).get(\"Contents\")]\n",
    "        print(f\"Found {len(files)} files in s3://{bucket}/{prefix}\")\n",
    "        \n",
    "        return files\n",
    "    except TypeError:\n",
    "        print(f\"No files found in s3://{bucket}/{prefix}\")\n",
    "        return []"
   ]
  },
  {
   "cell_type": "code",
   "execution_count": 11,
   "id": "9297bbfc-8360-42a1-bc2a-2932372aee8e",
   "metadata": {
    "tags": []
   },
   "outputs": [],
   "source": [
    "# Get S3 url for the latest captured data\n",
    "def get_latest_data_capture_s3_url(bucket, prefix):\n",
    "    capture_files = get_file_list(bucket, prefix)\n",
    "    \n",
    "    if capture_files:\n",
    "        latest_data_capture_s3_url = f\"s3://{bucket}/{'/'.join(capture_files[-1].split('/')[:-1])}\"\n",
    "\n",
    "        print(f\"Latest data capture S3 url: {latest_data_capture_s3_url}\")\n",
    "        \n",
    "        return latest_data_capture_s3_url\n",
    "    else:\n",
    "        return None"
   ]
  },
  {
   "cell_type": "code",
   "execution_count": 12,
   "id": "b9921dd5-3a14-4354-9731-479b1088393e",
   "metadata": {
    "tags": []
   },
   "outputs": [],
   "source": [
    "# Get S3 url for the latest monitoring job output\n",
    "def get_latest_monitoring_report_s3_url(job_name):\n",
    "    monitor_job = sm.list_processing_jobs(\n",
    "        NameContains=job_name,\n",
    "        SortOrder='Descending',\n",
    "        MaxResults=2\n",
    "    )['ProcessingJobSummaries'][0]['ProcessingJobName']\n",
    "\n",
    "    monitoring_job_output_s3_url = sm.describe_processing_job(\n",
    "        ProcessingJobName=monitor_job\n",
    "    )['ProcessingOutputConfig']['Outputs'][0]['S3Output']['S3Uri']\n",
    "\n",
    "    print(f\"Latest monitoring report S3 url: {monitoring_job_output_s3_url}\")\n",
    "    \n",
    "    return monitoring_job_output_s3_url"
   ]
  },
  {
   "cell_type": "code",
   "execution_count": 13,
   "id": "6d571446-c518-4f34-8532-81fce2298091",
   "metadata": {
    "tags": []
   },
   "outputs": [],
   "source": [
    "# Helper to load a json file from S3\n",
    "def load_json_from_file(file_s3_url):\n",
    "    bucket = file_s3_url.split('/')[2]\n",
    "    key = '/'.join(file_s3_url.split('/')[3:])\n",
    "    print(f\"Load JSON from: {bucket}/{key}\")\n",
    "    \n",
    "    return json.loads(\n",
    "        s3.get_object(Bucket=bucket, \n",
    "                      Key=key)[\"Body\"].read().decode(\"utf-8\")\n",
    "    )"
   ]
  },
  {
   "cell_type": "code",
   "execution_count": 14,
   "id": "2fceb53a-a099-4ad0-8b12-dadd72127a4a",
   "metadata": {
    "tags": []
   },
   "outputs": [],
   "source": [
    "def get_latest_monitor_execution(monitor):\n",
    "    mon_executions = monitor.list_executions()\n",
    "\n",
    "    if len(mon_executions):\n",
    "        latest_execution = mon_executions[-1]  # get the latest execution\n",
    "        latest_execution.wait(logs=False)\n",
    "\n",
    "        print(f\"Latest execution status: {latest_execution.describe().get('ProcessingJobStatus')}\")\n",
    "        print(f\"Latest execution result: {latest_execution.describe().get('ExitMessage')}\")\n",
    "\n",
    "        latest_job = latest_execution.describe()\n",
    "        if latest_job[\"ProcessingJobStatus\"] != \"Completed\":\n",
    "            print(\"No completed executions to inspect further\")\n",
    "        else:\n",
    "            report_uri = latest_execution.output.destination\n",
    "            print(f\"Report Uri: {report_uri}\")\n",
    "        \n",
    "        return latest_execution\n",
    "    else:\n",
    "        print(\"No monitoring schedule executions found\")\n",
    "        return None"
   ]
  },
  {
   "cell_type": "markdown",
   "id": "190e011d-ba01-43c8-8af9-959bb7835574",
   "metadata": {},
   "source": [
    "### Generate endpoint traffic and captured data\n",
    "You must send some data to an endpoint for inference to generate data capture.\n",
    "If you need to add or update the data capture configuration for the endpoint, you can use `DataCaptureConfig` and call [`update_data_capture_config()`](https://sagemaker.readthedocs.io/en/stable/api/inference/predictors.html#sagemaker.predictor.Predictor.update_data_capture_config) method of the predictor."
   ]
  },
  {
   "cell_type": "code",
   "execution_count": 15,
   "id": "58229914-7fa6-4d5c-841b-2bbc32c6add5",
   "metadata": {
    "tags": []
   },
   "outputs": [],
   "source": [
    "# Create a predictor class for the endpoint\n",
    "predictor = Predictor(\n",
    "    endpoint_name=endpoint_name, \n",
    "    serializer=sagemaker.serializers.CSVSerializer(),\n",
    "    deserializer=sagemaker.deserializers.CSVDeserializer()\n",
    ")"
   ]
  },
  {
   "cell_type": "code",
   "execution_count": 16,
   "id": "080c580c-f31b-47e3-aa8b-566ad765e6b7",
   "metadata": {
    "tags": []
   },
   "outputs": [],
   "source": [
    "# If data capture is not enabled, enable it. \n",
    "# Note, that the call to update_data_capture_config updates the endpoint and it can take up to 10 min\n",
    "if not data_capture_config['EnableCapture']:\n",
    "    # Update data capture config for settings we use in this notebook\n",
    "    data_capture_config = DataCaptureConfig(\n",
    "        enable_capture=True,\n",
    "        sampling_percentage=100,\n",
    "        destination_s3_uri=data_capture_s3_url,\n",
    "        csv_content_types=[\"text/csv\"],\n",
    "    )\n",
    "\n",
    "    predictor.update_data_capture_config(data_capture_config)"
   ]
  },
  {
   "cell_type": "markdown",
   "id": "a4229045-c339-42ba-8116-f21d6d8ea3e6",
   "metadata": {},
   "source": [
    "Use test dataset prepared in the [step 2](02-sagemaker-containers.ipynb) or produced by the pipeline in the [step 3](02-sagemaker-pipeline.ipynb) notebooks and saved on the EFS volume:"
   ]
  },
  {
   "cell_type": "code",
   "execution_count": 17,
   "id": "c7c56788-bf83-47c6-89c9-dbc78c147601",
   "metadata": {
    "tags": []
   },
   "outputs": [
    {
     "name": "stdout",
     "output_type": "stream",
     "text": [
      "download: s3://sagemaker-us-east-1-906545278380/from-idea-to-prod/xgboost/test/test_x.csv to tmp/test_x.csv\n",
      "download: s3://sagemaker-us-east-1-906545278380/from-idea-to-prod/xgboost/test/test_y.csv to tmp/test_y.csv\n"
     ]
    }
   ],
   "source": [
    "!aws s3 cp $test_s3_url/test_x.csv tmp/test_x.csv\n",
    "!aws s3 cp $test_s3_url/test_y.csv tmp/test_y.csv"
   ]
  },
  {
   "cell_type": "code",
   "execution_count": 18,
   "id": "00648691-bede-4b15-8127-3711cc9b5449",
   "metadata": {
    "tags": []
   },
   "outputs": [],
   "source": [
    "# Set the number of data vectors from the test dataset sent to the inference endpoint\n",
    "number_of_vectors = 100"
   ]
  },
  {
   "cell_type": "code",
   "execution_count": 19,
   "id": "b7f616d6-d420-4af3-af1a-ac1cb45f2b04",
   "metadata": {
    "tags": []
   },
   "outputs": [],
   "source": [
    "test_x = pd.read_csv(\"tmp/test_x.csv\", header=None).sample(number_of_vectors)"
   ]
  },
  {
   "cell_type": "code",
   "execution_count": 20,
   "id": "9cd62c72-c752-46b5-8182-ab01fb091f6b",
   "metadata": {
    "tags": []
   },
   "outputs": [
    {
     "data": {
      "text/html": [
       "<div>\n",
       "<style scoped>\n",
       "    .dataframe tbody tr th:only-of-type {\n",
       "        vertical-align: middle;\n",
       "    }\n",
       "\n",
       "    .dataframe tbody tr th {\n",
       "        vertical-align: top;\n",
       "    }\n",
       "\n",
       "    .dataframe thead th {\n",
       "        text-align: right;\n",
       "    }\n",
       "</style>\n",
       "<table border=\"1\" class=\"dataframe\">\n",
       "  <thead>\n",
       "    <tr style=\"text-align: right;\">\n",
       "      <th></th>\n",
       "      <th>0</th>\n",
       "      <th>1</th>\n",
       "      <th>2</th>\n",
       "      <th>3</th>\n",
       "      <th>4</th>\n",
       "      <th>5</th>\n",
       "      <th>6</th>\n",
       "      <th>7</th>\n",
       "      <th>8</th>\n",
       "      <th>9</th>\n",
       "      <th>...</th>\n",
       "      <th>49</th>\n",
       "      <th>50</th>\n",
       "      <th>51</th>\n",
       "      <th>52</th>\n",
       "      <th>53</th>\n",
       "      <th>54</th>\n",
       "      <th>55</th>\n",
       "      <th>56</th>\n",
       "      <th>57</th>\n",
       "      <th>58</th>\n",
       "    </tr>\n",
       "  </thead>\n",
       "  <tbody>\n",
       "    <tr>\n",
       "      <th>1073</th>\n",
       "      <td>31</td>\n",
       "      <td>2</td>\n",
       "      <td>999</td>\n",
       "      <td>0</td>\n",
       "      <td>1</td>\n",
       "      <td>0</td>\n",
       "      <td>0</td>\n",
       "      <td>0</td>\n",
       "      <td>1</td>\n",
       "      <td>0</td>\n",
       "      <td>...</td>\n",
       "      <td>0</td>\n",
       "      <td>0</td>\n",
       "      <td>0</td>\n",
       "      <td>1</td>\n",
       "      <td>0</td>\n",
       "      <td>0</td>\n",
       "      <td>0</td>\n",
       "      <td>0</td>\n",
       "      <td>1</td>\n",
       "      <td>0</td>\n",
       "    </tr>\n",
       "    <tr>\n",
       "      <th>1294</th>\n",
       "      <td>57</td>\n",
       "      <td>1</td>\n",
       "      <td>999</td>\n",
       "      <td>0</td>\n",
       "      <td>1</td>\n",
       "      <td>0</td>\n",
       "      <td>0</td>\n",
       "      <td>0</td>\n",
       "      <td>0</td>\n",
       "      <td>0</td>\n",
       "      <td>...</td>\n",
       "      <td>0</td>\n",
       "      <td>0</td>\n",
       "      <td>0</td>\n",
       "      <td>1</td>\n",
       "      <td>0</td>\n",
       "      <td>0</td>\n",
       "      <td>0</td>\n",
       "      <td>0</td>\n",
       "      <td>1</td>\n",
       "      <td>0</td>\n",
       "    </tr>\n",
       "    <tr>\n",
       "      <th>1723</th>\n",
       "      <td>34</td>\n",
       "      <td>3</td>\n",
       "      <td>999</td>\n",
       "      <td>1</td>\n",
       "      <td>1</td>\n",
       "      <td>0</td>\n",
       "      <td>0</td>\n",
       "      <td>1</td>\n",
       "      <td>0</td>\n",
       "      <td>0</td>\n",
       "      <td>...</td>\n",
       "      <td>0</td>\n",
       "      <td>0</td>\n",
       "      <td>0</td>\n",
       "      <td>0</td>\n",
       "      <td>1</td>\n",
       "      <td>0</td>\n",
       "      <td>0</td>\n",
       "      <td>1</td>\n",
       "      <td>0</td>\n",
       "      <td>0</td>\n",
       "    </tr>\n",
       "    <tr>\n",
       "      <th>2357</th>\n",
       "      <td>41</td>\n",
       "      <td>2</td>\n",
       "      <td>999</td>\n",
       "      <td>0</td>\n",
       "      <td>1</td>\n",
       "      <td>0</td>\n",
       "      <td>0</td>\n",
       "      <td>0</td>\n",
       "      <td>0</td>\n",
       "      <td>0</td>\n",
       "      <td>...</td>\n",
       "      <td>0</td>\n",
       "      <td>0</td>\n",
       "      <td>0</td>\n",
       "      <td>0</td>\n",
       "      <td>0</td>\n",
       "      <td>0</td>\n",
       "      <td>1</td>\n",
       "      <td>0</td>\n",
       "      <td>1</td>\n",
       "      <td>0</td>\n",
       "    </tr>\n",
       "    <tr>\n",
       "      <th>1563</th>\n",
       "      <td>35</td>\n",
       "      <td>2</td>\n",
       "      <td>999</td>\n",
       "      <td>1</td>\n",
       "      <td>1</td>\n",
       "      <td>0</td>\n",
       "      <td>0</td>\n",
       "      <td>0</td>\n",
       "      <td>0</td>\n",
       "      <td>0</td>\n",
       "      <td>...</td>\n",
       "      <td>0</td>\n",
       "      <td>0</td>\n",
       "      <td>0</td>\n",
       "      <td>1</td>\n",
       "      <td>0</td>\n",
       "      <td>0</td>\n",
       "      <td>0</td>\n",
       "      <td>1</td>\n",
       "      <td>0</td>\n",
       "      <td>0</td>\n",
       "    </tr>\n",
       "  </tbody>\n",
       "</table>\n",
       "<p>5 rows × 59 columns</p>\n",
       "</div>"
      ],
      "text/plain": [
       "      0   1    2   3   4   5   6   7   8   9   ...  49  50  51  52  53  54  \\\n",
       "1073  31   2  999   0   1   0   0   0   1   0  ...   0   0   0   1   0   0   \n",
       "1294  57   1  999   0   1   0   0   0   0   0  ...   0   0   0   1   0   0   \n",
       "1723  34   3  999   1   1   0   0   1   0   0  ...   0   0   0   0   1   0   \n",
       "2357  41   2  999   0   1   0   0   0   0   0  ...   0   0   0   0   0   0   \n",
       "1563  35   2  999   1   1   0   0   0   0   0  ...   0   0   0   1   0   0   \n",
       "\n",
       "      55  56  57  58  \n",
       "1073   0   0   1   0  \n",
       "1294   0   0   1   0  \n",
       "1723   0   1   0   0  \n",
       "2357   1   0   1   0  \n",
       "1563   0   1   0   0  \n",
       "\n",
       "[5 rows x 59 columns]"
      ]
     },
     "execution_count": 20,
     "metadata": {},
     "output_type": "execute_result"
    }
   ],
   "source": [
    "test_x.head()"
   ]
  },
  {
   "cell_type": "code",
   "execution_count": 21,
   "id": "85ff7ca5-2778-4587-ae18-4c1fe10bdcbc",
   "metadata": {
    "tags": []
   },
   "outputs": [],
   "source": [
    "test_x.columns = [f'_c{i}' for i in range(len(test_x.columns))]"
   ]
  },
  {
   "cell_type": "code",
   "execution_count": 22,
   "id": "79b145f1-2e5d-49a2-a855-82375351eb65",
   "metadata": {
    "tags": []
   },
   "outputs": [
    {
     "data": {
      "text/html": [
       "<div>\n",
       "<style scoped>\n",
       "    .dataframe tbody tr th:only-of-type {\n",
       "        vertical-align: middle;\n",
       "    }\n",
       "\n",
       "    .dataframe tbody tr th {\n",
       "        vertical-align: top;\n",
       "    }\n",
       "\n",
       "    .dataframe thead th {\n",
       "        text-align: right;\n",
       "    }\n",
       "</style>\n",
       "<table border=\"1\" class=\"dataframe\">\n",
       "  <thead>\n",
       "    <tr style=\"text-align: right;\">\n",
       "      <th></th>\n",
       "      <th>_c0</th>\n",
       "      <th>_c1</th>\n",
       "      <th>_c2</th>\n",
       "      <th>_c3</th>\n",
       "      <th>_c4</th>\n",
       "      <th>_c5</th>\n",
       "      <th>_c6</th>\n",
       "      <th>_c7</th>\n",
       "      <th>_c8</th>\n",
       "      <th>_c9</th>\n",
       "      <th>...</th>\n",
       "      <th>_c49</th>\n",
       "      <th>_c50</th>\n",
       "      <th>_c51</th>\n",
       "      <th>_c52</th>\n",
       "      <th>_c53</th>\n",
       "      <th>_c54</th>\n",
       "      <th>_c55</th>\n",
       "      <th>_c56</th>\n",
       "      <th>_c57</th>\n",
       "      <th>_c58</th>\n",
       "    </tr>\n",
       "  </thead>\n",
       "  <tbody>\n",
       "    <tr>\n",
       "      <th>1073</th>\n",
       "      <td>31</td>\n",
       "      <td>2</td>\n",
       "      <td>999</td>\n",
       "      <td>0</td>\n",
       "      <td>1</td>\n",
       "      <td>0</td>\n",
       "      <td>0</td>\n",
       "      <td>0</td>\n",
       "      <td>1</td>\n",
       "      <td>0</td>\n",
       "      <td>...</td>\n",
       "      <td>0</td>\n",
       "      <td>0</td>\n",
       "      <td>0</td>\n",
       "      <td>1</td>\n",
       "      <td>0</td>\n",
       "      <td>0</td>\n",
       "      <td>0</td>\n",
       "      <td>0</td>\n",
       "      <td>1</td>\n",
       "      <td>0</td>\n",
       "    </tr>\n",
       "  </tbody>\n",
       "</table>\n",
       "<p>1 rows × 59 columns</p>\n",
       "</div>"
      ],
      "text/plain": [
       "      _c0  _c1  _c2  _c3  _c4  _c5  _c6  _c7  _c8  _c9  ...  _c49  _c50  _c51  \\\n",
       "1073   31    2  999    0    1    0    0    0    1    0  ...     0     0     0   \n",
       "\n",
       "      _c52  _c53  _c54  _c55  _c56  _c57  _c58  \n",
       "1073     1     0     0     0     0     1     0  \n",
       "\n",
       "[1 rows x 59 columns]"
      ]
     },
     "execution_count": 22,
     "metadata": {},
     "output_type": "execute_result"
    }
   ],
   "source": [
    "test_x.head(1)"
   ]
  },
  {
   "cell_type": "code",
   "execution_count": 24,
   "id": "33fd5eec-8fcb-40c7-a7f2-b27638691f55",
   "metadata": {
    "tags": []
   },
   "outputs": [],
   "source": [
    "# test_x.dtypes"
   ]
  },
  {
   "cell_type": "markdown",
   "id": "ff7266a4-a744-4339-9da1-e1b87a4144c9",
   "metadata": {},
   "source": [
    "Send the data to the endpoint:"
   ]
  },
  {
   "cell_type": "code",
   "execution_count": 25,
   "id": "150cdd96-de42-4b63-9925-415097ecc680",
   "metadata": {
    "tags": []
   },
   "outputs": [
    {
     "name": "stderr",
     "output_type": "stream",
     "text": [
      "100%|██████████| 100/100 [00:01<00:00, 56.81it/s]\n"
     ]
    }
   ],
   "source": [
    "generate_endpoint_traffic(predictor, test_x)"
   ]
  },
  {
   "cell_type": "code",
   "execution_count": 28,
   "id": "a38c676f-9749-4e1f-811c-a2d8b2af467a",
   "metadata": {
    "tags": []
   },
   "outputs": [],
   "source": [
    "# If you run this notebook not the first time, there might be some data capture files from the previous runs\n",
    "# We recommend to delete all existing files under the data capture S3 path to avoid any inconsistences\n",
    "# Uncomment and run the following line to delete all files under the data capture S3 path\n",
    "\n",
    "# !aws s3 rm {data_capture_s3_url} --recursive"
   ]
  },
  {
   "cell_type": "markdown",
   "id": "4f1ca97e-2129-4371-9695-c08d3e46f11b",
   "metadata": {},
   "source": [
    "### View captured data\n",
    "Now list the data capture files stored in Amazon S3. The data is stored as `jsonl` an Amazon S3 path format is `s3://{data-capture-destination-s3-url}/{endpoint-name}/{variant-name}/yyyy/mm/dd/hh/filename.jsonl`."
   ]
  },
  {
   "cell_type": "markdown",
   "id": "100bbce5-2904-4eaf-8088-6392349b991e",
   "metadata": {
    "tags": []
   },
   "source": [
    "<div style=\"border: 4px solid coral; text-align: center; margin: auto;\">\n",
    "    <p style=\" text-align: center; margin: auto;\">\n",
    "    Wait until data capture files appears in the S3 bucket. It might take about 2 minutes for files to arrive.\n",
    "    </p>\n",
    "</div>"
   ]
  },
  {
   "cell_type": "code",
   "execution_count": 31,
   "id": "b1d0fd2a-65e6-48d2-ab50-2e6cf8597f78",
   "metadata": {
    "tags": []
   },
   "outputs": [
    {
     "name": "stdout",
     "output_type": "stream",
     "text": [
      "2025-02-15 21:30:29      34074 datacapture-prod/mlops-02-14-11-03-33-prod/AllTraffic/2025/02/15/21/29-20-227-06f6a337-a6ae-419f-9af0-be9a6cdc54a6.jsonl\n"
     ]
    }
   ],
   "source": [
    "# You might need to execute this line several times until you see the captured data\n",
    "!aws s3 ls {data_capture_s3_url} --recursive"
   ]
  },
  {
   "cell_type": "code",
   "execution_count": 32,
   "id": "88b6a4c5-09ae-464e-a24a-9c474e6ae10d",
   "metadata": {
    "tags": []
   },
   "outputs": [
    {
     "name": "stdout",
     "output_type": "stream",
     "text": [
      "Found 1 files in s3://sagemaker-project-p-ca7phmcraepa/datacapture-prod\n"
     ]
    }
   ],
   "source": [
    "capture_files = get_file_list(data_capture_bucket, data_capture_prefix)"
   ]
  },
  {
   "cell_type": "code",
   "execution_count": 33,
   "id": "60bb593e-cc43-454d-8f75-40fcb795a466",
   "metadata": {
    "tags": []
   },
   "outputs": [],
   "source": [
    "assert len(capture_files) > 0, \"Wait until the capture data delivered to the Amazon S3 bucket\""
   ]
  },
  {
   "cell_type": "code",
   "execution_count": 34,
   "id": "37b77066-75e3-497a-b39b-e4a9f2c092ff",
   "metadata": {
    "tags": []
   },
   "outputs": [
    {
     "data": {
      "text/plain": [
       "'datacapture-prod/mlops-02-14-11-03-33-prod/AllTraffic/2025/02/15/21/29-20-227-06f6a337-a6ae-419f-9af0-be9a6cdc54a6.jsonl'"
      ]
     },
     "execution_count": 34,
     "metadata": {},
     "output_type": "execute_result"
    }
   ],
   "source": [
    "capture_files[0]"
   ]
  },
  {
   "cell_type": "markdown",
   "id": "e60ba1b4-8e39-4b1b-8f17-3253e6cb0a9b",
   "metadata": {},
   "source": [
    "Each inference request is captured in one line in the `jsonl` file. The line contains both the input and output merged together. In the example, you provided the ContentType as `text/csv` which is reflected in the `observedContentType` value. Also, you expose the encoding that you used to encode the input and output payloads in the capture format with the encoding value."
   ]
  },
  {
   "cell_type": "code",
   "execution_count": 35,
   "id": "77aed2f6-6430-4356-a6de-aff5f29fbc1b",
   "metadata": {
    "tags": []
   },
   "outputs": [
    {
     "name": "stdout",
     "output_type": "stream",
     "text": [
      "Content of the capture file:\n",
      "{\n",
      "  \"captureData\": {\n",
      "    \"endpointInput\": {\n",
      "      \"observedContentType\": \"text/csv\",\n",
      "      \"mode\": \"INPUT\",\n",
      "      \"data\": \"31,2,999,0,1,0,0,0,1,0,0,0,0,0,0,0,0,0,0,1,0,0,0,0,0,0,0,0,1,0,0,1,0,1,0,0,1,0,0,1,0,0,0,0,1,0,0,0,0,0,0,0,1,0,0,0,0,1,0\",\n",
      "      \"encoding\": \"CSV\"\n",
      "    },\n",
      "    \"endpointOutput\": {\n",
      "      \"observedContentType\": \"text/csv; charset=utf-8\",\n",
      "      \"mode\": \"OUTPUT\",\n",
      "      \"data\": \"0.1255551427602768\\n\",\n",
      "      \"encoding\": \"CSV\"\n",
      "    }\n",
      "  },\n",
      "  \"eventMetadata\": {\n",
      "    \"eventId\": \"b1bfa55b-1ea7-451f-b531-6f844e5af789\",\n",
      "    \"inferenceTime\": \"2025-02-15T21:29:20Z\"\n",
      "  },\n",
      "  \"eventVersion\": \"0\"\n",
      "}\n"
     ]
    }
   ],
   "source": [
    "# Download a capture data file and print it's content\n",
    "file_key = capture_files[-1]\n",
    "S3Downloader.download(f\"s3://{data_capture_bucket}/{file_key}\", f\"./tmp\")\n",
    "\n",
    "print(f\"Content of the capture file:\")\n",
    "# Read the jsonl file and show the first object\n",
    "with jsonlines.open(f\"./tmp/{file_key.split('/')[-1]}\") as reader:      \n",
    "    print(json.dumps(reader.read(), indent=2))\n",
    "    # print(json.dumps(reader.read(), indent=2))"
   ]
  },
  {
   "cell_type": "markdown",
   "id": "0ada3476-3067-47e8-bcc1-f515972048c2",
   "metadata": {},
   "source": [
    "## Part 1: Monitor data quality\n",
    "In this part you learn how to setup data quality monitoring for SageMaker real-time endpoints.\n",
    "\n",
    "To enable inference data quality monitoring and evaluation you must:\n",
    "1. Enable [data capture](https://docs.aws.amazon.com/sagemaker/latest/dg/model-monitor-data-capture.html)\n",
    "1. [Create a baseline](https://docs.aws.amazon.com/sagemaker/latest/dg/model-monitor-create-baseline.html) with which you compare the realtime traffic\n",
    "1. Once a baseline is ready, [schedule monitoring jobs](https://docs.aws.amazon.com/sagemaker/latest/dg/model-monitor-scheduling.html) to continously evaluate and compare against the baseline\n",
    "1. [See and interpret the results](https://docs.aws.amazon.com/sagemaker/latest/dg/model-monitor-interpreting-results.html) of monitoring jobs\n",
    "1. [Integrate data quality monitoring](https://docs.aws.amazon.com/sagemaker/latest/dg/model-monitor-interpreting-cloudwatch.html) with Amazon CloudWatch"
   ]
  },
  {
   "cell_type": "markdown",
   "id": "84268bba-f44e-4cb4-a53f-67251253c1a4",
   "metadata": {},
   "source": [
    "### Create a baselining job with the training dataset\n",
    "The whole dataset with which you trained and tested the model is usually a good baseline dataset. Note that the baseline dataset data schema and the inference dataset schema should exactly match (i.e. the number and order of the features).\n",
    "\n",
    "From the baseline dataset you can ask Amazon SageMaker to suggest a set of baseline _constraints_ and generate descriptive _statistics_ to explore the data. Model Monitor provides a [built-in container](https://docs.aws.amazon.com/sagemaker/latest/dg/model-monitor-pre-built-container.html) that provides the ability to suggest the constraints automatically for CSV and flat JSON input. This `sagemaker-model-monitor-analyzer` container also provides you with a range of model monitoring capabilities, including constraint validation against a baseline, and emitting Amazon CloudWatch metrics. This container is based on Spark and is built with [Deequ](https://github.com/awslabs/deequ). \n",
    "\n",
    "<div class=\"alert alert-info\"> 💡 <strong> All column names in your baseline dataset must be compliant with Spark. For column names, use only lowercase characters, and _ as the only special character. </strong>\n",
    "</div>\n",
    "\n",
    "Use the baseline dataset you created in the [step 2](02-sagemaker-containers.ipynb) notebook data processing. The baseline dataset is the full dataset without header, index, and label column."
   ]
  },
  {
   "cell_type": "code",
   "execution_count": 36,
   "id": "fbaac6de-b3a9-4f4d-b6e2-2f2a66b86a11",
   "metadata": {
    "tags": []
   },
   "outputs": [
    {
     "name": "stdout",
     "output_type": "stream",
     "text": [
      "                           PRE reports/\n",
      "                           PRE results/\n",
      "2025-02-15 11:38:16    4982068 baseline.csv\n"
     ]
    }
   ],
   "source": [
    "!aws s3 ls {baseline_s3_url}/"
   ]
  },
  {
   "cell_type": "code",
   "execution_count": 37,
   "id": "632362d5-c4e0-4bf5-bca4-b4da6ad34377",
   "metadata": {
    "tags": []
   },
   "outputs": [],
   "source": [
    "baseline_results_s3_url = f\"{baseline_s3_url}/results\"\n",
    "data_mon_reports_s3_url = f\"{baseline_s3_url}/reports\"\n",
    "baseline_dataset_uri = f\"{baseline_s3_url}/baseline.csv\""
   ]
  },
  {
   "cell_type": "markdown",
   "id": "c436412f-0daf-46bc-ab5f-682ad8bdeecc",
   "metadata": {},
   "source": [
    "Use the Python SDK class [`DefaultModelMonitor`](https://sagemaker.readthedocs.io/en/stable/api/inference/model_monitor.html#sagemaker.model_monitor.model_monitoring.DefaultModelMonitor) to create a data monitor and interact with it:"
   ]
  },
  {
   "cell_type": "code",
   "execution_count": 38,
   "id": "70b94a46-00ca-4e2b-bc4c-7e70d59b35ec",
   "metadata": {
    "tags": []
   },
   "outputs": [
    {
     "data": {
      "text/html": [
       "<pre style=\"white-space:pre;overflow-x:auto;line-height:normal;font-family:Menlo,'DejaVu Sans Mono',consolas,'Courier New',monospace\"><span style=\"color: #7fbfbf; text-decoration-color: #7fbfbf\">[02/15/25 21:44:41] </span><span style=\"color: #0069ff; text-decoration-color: #0069ff; font-weight: bold\">INFO    </span> Ignoring unnecessary instance type: <span style=\"color: #e100e1; text-decoration-color: #e100e1; font-style: italic\">None</span>.                            <a href=\"file:///opt/conda/lib/python3.11/site-packages/sagemaker/image_uris.py\" target=\"_blank\"><span style=\"color: #7f7f7f; text-decoration-color: #7f7f7f\">image_uris.py</span></a><span style=\"color: #7f7f7f; text-decoration-color: #7f7f7f\">:</span><a href=\"file:///opt/conda/lib/python3.11/site-packages/sagemaker/image_uris.py#528\" target=\"_blank\"><span style=\"color: #7f7f7f; text-decoration-color: #7f7f7f\">528</span></a>\n",
       "</pre>\n"
      ],
      "text/plain": [
       "\u001b[2;36m[02/15/25 21:44:41]\u001b[0m\u001b[2;36m \u001b[0m\u001b[1;38;2;0;105;255mINFO    \u001b[0m Ignoring unnecessary instance type: \u001b[3;38;2;225;0;225mNone\u001b[0m.                            \u001b]8;id=346880;file:///opt/conda/lib/python3.11/site-packages/sagemaker/image_uris.py\u001b\\\u001b[2mimage_uris.py\u001b[0m\u001b]8;;\u001b\\\u001b[2m:\u001b[0m\u001b]8;id=154690;file:///opt/conda/lib/python3.11/site-packages/sagemaker/image_uris.py#528\u001b\\\u001b[2m528\u001b[0m\u001b]8;;\u001b\\\n"
      ]
     },
     "metadata": {},
     "output_type": "display_data"
    }
   ],
   "source": [
    "data_monitor = DefaultModelMonitor(\n",
    "    role=sm_role,\n",
    "    instance_count=1,\n",
    "    instance_type=\"ml.m5.xlarge\",\n",
    "    volume_size_in_gb=20,\n",
    "    max_runtime_in_seconds=3600,\n",
    "    sagemaker_session=session,\n",
    ")"
   ]
  },
  {
   "cell_type": "markdown",
   "id": "4d49b158-9859-4053-8ec9-8f99577ed07e",
   "metadata": {},
   "source": [
    "Start a SageMaker processing job on the baseline data to profile data and suggest constraints."
   ]
  },
  {
   "cell_type": "code",
   "execution_count": 39,
   "id": "5443d53d-00e9-4320-9c72-1751fe796778",
   "metadata": {
    "tags": []
   },
   "outputs": [
    {
     "data": {
      "text/html": [
       "<pre style=\"white-space:pre;overflow-x:auto;line-height:normal;font-family:Menlo,'DejaVu Sans Mono',consolas,'Courier New',monospace\"><span style=\"color: #7fbfbf; text-decoration-color: #7fbfbf\">[02/15/25 21:44:44] </span><span style=\"color: #0069ff; text-decoration-color: #0069ff; font-weight: bold\">INFO    </span> Creating processing-job with name                                      <a href=\"file:///opt/conda/lib/python3.11/site-packages/sagemaker/session.py\" target=\"_blank\"><span style=\"color: #7f7f7f; text-decoration-color: #7f7f7f\">session.py</span></a><span style=\"color: #7f7f7f; text-decoration-color: #7f7f7f\">:</span><a href=\"file:///opt/conda/lib/python3.11/site-packages/sagemaker/session.py#1575\" target=\"_blank\"><span style=\"color: #7f7f7f; text-decoration-color: #7f7f7f\">1575</span></a>\n",
       "<span style=\"color: #7fbfbf; text-decoration-color: #7fbfbf\">                    </span>         from-idea-to-prod-data-baselining-<span style=\"color: #008080; text-decoration-color: #008080; font-weight: bold\">15</span>-<span style=\"color: #008080; text-decoration-color: #008080; font-weight: bold\">21</span>-<span style=\"color: #008080; text-decoration-color: #008080; font-weight: bold\">44</span>-<span style=\"color: #008080; text-decoration-color: #008080; font-weight: bold\">42</span>-7cfad4f6                 <span style=\"color: #7f7f7f; text-decoration-color: #7f7f7f\">               </span>\n",
       "</pre>\n"
      ],
      "text/plain": [
       "\u001b[2;36m[02/15/25 21:44:44]\u001b[0m\u001b[2;36m \u001b[0m\u001b[1;38;2;0;105;255mINFO    \u001b[0m Creating processing-job with name                                      \u001b]8;id=712023;file:///opt/conda/lib/python3.11/site-packages/sagemaker/session.py\u001b\\\u001b[2msession.py\u001b[0m\u001b]8;;\u001b\\\u001b[2m:\u001b[0m\u001b]8;id=22391;file:///opt/conda/lib/python3.11/site-packages/sagemaker/session.py#1575\u001b\\\u001b[2m1575\u001b[0m\u001b]8;;\u001b\\\n",
       "\u001b[2;36m                    \u001b[0m         from-idea-to-prod-data-baselining-\u001b[1;36m15\u001b[0m-\u001b[1;36m21\u001b[0m-\u001b[1;36m44\u001b[0m-\u001b[1;36m42\u001b[0m-7cfad4f6                 \u001b[2m               \u001b[0m\n"
      ]
     },
     "metadata": {},
     "output_type": "display_data"
    },
    {
     "name": "stdout",
     "output_type": "stream",
     "text": [
      "from-idea-to-prod-data-baselining-15-21-44-42-7cfad4f6\n"
     ]
    }
   ],
   "source": [
    "data_baseline_job_name = f\"from-idea-to-prod-data-baselining-{strftime('%d-%H-%M-%S', gmtime())}-{str(uuid.uuid4())[:8]}\"\n",
    "\n",
    "data_baseline_job = data_monitor.suggest_baseline(\n",
    "    baseline_dataset=baseline_dataset_uri,\n",
    "    dataset_format=DatasetFormat.csv(header=False),\n",
    "    output_s3_uri=baseline_results_s3_url,\n",
    "    wait=False,\n",
    "    logs=False,\n",
    "    job_name=data_baseline_job_name,\n",
    ")\n",
    "\n",
    "print(data_baseline_job_name)"
   ]
  },
  {
   "cell_type": "markdown",
   "id": "f4f878c9-c820-47e2-a61c-51b3155ea34f",
   "metadata": {},
   "source": [
    "The baselining job takes about 7 minutes to complete:\n",
    "\n",
    "<img src=\"data:image/svg+xml;base64,Cjxzdmcgd2lkdGg9IjgwMCIgaGVpZ2h0PSIxMjUiIHZpZXdCb3g9IjAgMCA4MDAgMTI1IiB4bWxucz0iaHR0cDovL3d3dy53My5vcmcvMjAwMC9zdmciPgogICAgPGRlZnM+CiAgICAgICAgPGxpbmVhckdyYWRpZW50IGlkPSJmYWRlR3JhZGllbnQiIHgxPSIwIiB4Mj0iMSI+CiAgICAgICAgICAgIDxzdG9wIG9mZnNldD0iMCUiIHN0b3AtY29sb3I9IiNGMEYwRjAiLz4KICAgICAgICAgICAgPHN0b3Agb2Zmc2V0PSIxMDAlIiBzdG9wLWNvbG9yPSIjRjBGMEYwIiBzdG9wLW9wYWNpdHk9IjAiLz4KICAgICAgICA8L2xpbmVhckdyYWRpZW50PgogICAgICAgIDxtYXNrIGlkPSJmYWRlTWFzayI+CiAgICAgICAgICAgIDxyZWN0IHg9IjAiIHk9IjAiIHdpZHRoPSI3NTAiIGhlaWdodD0iMTI1IiBmaWxsPSJ3aGl0ZSIvPgogICAgICAgICAgICA8cmVjdCB4PSI3NTAiIHk9IjAiIHdpZHRoPSI1MCIgaGVpZ2h0PSIxMjUiIGZpbGw9InVybCgjZmFkZUdyYWRpZW50KSIvPgogICAgICAgIDwvbWFzaz4KICAgIDwvZGVmcz4KICAgIDxwYXRoIGQ9Ik0zLDUwIEE1MCw1MCAwIDAgMSA1MywzIEw3OTcsMyBMNzk3LDk3IEw5Nyw5NyBMNTAsMTE1IEwzLDk3IFoiIGZpbGw9IiNGMEYwRjAiIHN0cm9rZT0iI0UwRTBFMCIgc3Ryb2tlLXdpZHRoPSIxIiBtYXNrPSJ1cmwoI2ZhZGVNYXNrKSIvPgogICAgPGNpcmNsZSBjeD0iNTAiIGN5PSI1MCIgcj0iMzAiIGZpbGw9IiM1N2M0ZjgiIHN0cm9rZT0iIzU3YzRmOCIgc3Ryb2tlLXdpZHRoPSIxIi8+CiAgICA8Y2lyY2xlIGN4PSI1MCIgY3k9IjUwIiByPSIyNSIgZmlsbD0iI0YwRjBGMCIvPgogICAgPGxpbmUgeDE9IjUwIiB5MT0iNTAiIHgyPSI1MCIgeTI9IjMwIiBzdHJva2U9IiM1N2M0ZjgiIHN0cm9rZS13aWR0aD0iMyIgc3Ryb2tlLWxpbmVjYXA9InJvdW5kIi8+CiAgICA8bGluZSB4MT0iNTAiIHkxPSI1MCIgeDI9IjY1IiB5Mj0iNTAiIHN0cm9rZT0iIzU3YzRmOCIgc3Ryb2tlLXdpZHRoPSIzIiBzdHJva2UtbGluZWNhcD0icm91bmQiLz4KICAgIDx0ZXh0IHg9IjEwMCIgeT0iMzQiIGZvbnQtZmFtaWx5PSJBcmlhbCwgc2Fucy1zZXJpZiIgZm9udC1zaXplPSIxNCIgZmlsbD0iIzMzMzMzMyI+VGhlIG5leHQgY2VsbCBtYXkgdGFrZSBhIGZldyBtaW51dGVzIHRvIHJ1bi48L3RleHQ+Cjwvc3ZnPgo=\" alt=\"Time alert open medium\"/>"
   ]
  },
  {
   "cell_type": "code",
   "execution_count": 40,
   "id": "09659b6e-f061-4e4a-aaba-da4fb9771d5a",
   "metadata": {
    "tags": []
   },
   "outputs": [
    {
     "name": "stdout",
     "output_type": "stream",
     "text": [
      "...........................................................!"
     ]
    }
   ],
   "source": [
    "data_baseline_job.wait(logs=False)"
   ]
  },
  {
   "cell_type": "markdown",
   "id": "1958022d",
   "metadata": {},
   "source": [
    "<img src=\"data:image/svg+xml;base64,Cjxzdmcgd2lkdGg9IjgwMCIgaGVpZ2h0PSI1MCIgdmlld0JveD0iMCAwIDgwMCA1MCIgeG1sbnM9Imh0dHA6Ly93d3cudzMub3JnLzIwMDAvc3ZnIj4KICAgIDxkZWZzPgogICAgICAgIDxsaW5lYXJHcmFkaWVudCBpZD0iZmFkZUdyYWRpZW50IiB4MT0iMCIgeDI9IjEiPgogICAgICAgICAgICA8c3RvcCBvZmZzZXQ9IjAlIiBzdG9wLWNvbG9yPSIjRjBGMEYwIi8+CiAgICAgICAgICAgIDxzdG9wIG9mZnNldD0iMTAwJSIgc3RvcC1jb2xvcj0iI0YwRjBGMCIgc3RvcC1vcGFjaXR5PSIwIi8+CiAgICAgICAgPC9saW5lYXJHcmFkaWVudD4KICAgICAgICA8bWFzayBpZD0iZmFkZU1hc2siPgogICAgICAgICAgICA8cmVjdCB4PSIwIiB5PSIwIiB3aWR0aD0iNzUwIiBoZWlnaHQ9IjUwIiBmaWxsPSJ3aGl0ZSIvPgogICAgICAgICAgICA8cmVjdCB4PSI3NTAiIHk9IjAiIHdpZHRoPSI1MCIgaGVpZ2h0PSI1MCIgZmlsbD0idXJsKCNmYWRlR3JhZGllbnQpIi8+CiAgICAgICAgPC9tYXNrPgogICAgPC9kZWZzPgogICAgPHBhdGggZD0iTTI1LDUwIFEwLDUwIDAsMjUgTDUwLDMgTDk3LDI1IEw3OTcsMjUgTDc5Nyw1MCBMMjUsNTAgWiIgZmlsbD0iI0YwRjBGMCIgc3Ryb2tlPSIjRTBFMEUwIiBzdHJva2Utd2lkdGg9IjEiIG1hc2s9InVybCgjZmFkZU1hc2spIi8+Cjwvc3ZnPgo=\" alt=\"Time alert close\"/>"
   ]
  },
  {
   "cell_type": "markdown",
   "id": "d29e9063-5fb6-4bda-86c1-d33b2b0ca10b",
   "metadata": {
    "tags": []
   },
   "source": [
    "### See the generated statistics and constraints\n",
    "After the baselining jobs finished, it saves the baseline statistics to the `statistics.json` file and the suggested baseline constraints to the `constraints.json` file in the location you specify with `output_s3_uri`."
   ]
  },
  {
   "cell_type": "code",
   "execution_count": 41,
   "id": "7c89c5ec-eb0b-491b-8f0a-9b6b8a037e59",
   "metadata": {
    "tags": []
   },
   "outputs": [
    {
     "data": {
      "text/plain": [
       "{'ProcessingInputs': [{'InputName': 'baseline_dataset_input',\n",
       "   'AppManaged': False,\n",
       "   'S3Input': {'S3Uri': 's3://sagemaker-us-east-1-906545278380/from-idea-to-prod/xgboost/baseline/baseline.csv',\n",
       "    'LocalPath': '/opt/ml/processing/input/baseline_dataset_input',\n",
       "    'S3DataType': 'S3Prefix',\n",
       "    'S3InputMode': 'File',\n",
       "    'S3DataDistributionType': 'FullyReplicated',\n",
       "    'S3CompressionType': 'None'}}],\n",
       " 'ProcessingOutputConfig': {'Outputs': [{'OutputName': 'monitoring_output',\n",
       "    'S3Output': {'S3Uri': 's3://sagemaker-us-east-1-906545278380/from-idea-to-prod/xgboost/baseline/results',\n",
       "     'LocalPath': '/opt/ml/processing/output',\n",
       "     'S3UploadMode': 'EndOfJob'},\n",
       "    'AppManaged': False}]},\n",
       " 'ProcessingJobName': 'from-idea-to-prod-data-baselining-15-21-44-42-7cfad4f6',\n",
       " 'ProcessingResources': {'ClusterConfig': {'InstanceCount': 1,\n",
       "   'InstanceType': 'ml.m5.xlarge',\n",
       "   'VolumeSizeInGB': 20}},\n",
       " 'StoppingCondition': {'MaxRuntimeInSeconds': 3600},\n",
       " 'AppSpecification': {'ImageUri': '156813124566.dkr.ecr.us-east-1.amazonaws.com/sagemaker-model-monitor-analyzer'},\n",
       " 'Environment': {'dataset_format': '{\"csv\": {\"header\": false, \"output_columns_position\": \"START\"}}',\n",
       "  'dataset_source': '/opt/ml/processing/input/baseline_dataset_input',\n",
       "  'output_path': '/opt/ml/processing/output',\n",
       "  'publish_cloudwatch_metrics': 'Disabled'},\n",
       " 'RoleArn': 'arn:aws:iam::906545278380:role/mlops-workshop-domain-SageMakerExecutionRole-rIgas55nwmQD',\n",
       " 'ProcessingJobArn': 'arn:aws:sagemaker:us-east-1:906545278380:processing-job/from-idea-to-prod-data-baselining-15-21-44-42-7cfad4f6',\n",
       " 'ProcessingJobStatus': 'Completed',\n",
       " 'ExitMessage': 'Completed: Job completed successfully with no violations.',\n",
       " 'ProcessingEndTime': datetime.datetime(2025, 2, 15, 21, 48, 22, tzinfo=tzlocal()),\n",
       " 'ProcessingStartTime': datetime.datetime(2025, 2, 15, 21, 45, 17, tzinfo=tzlocal()),\n",
       " 'LastModifiedTime': datetime.datetime(2025, 2, 15, 21, 49, 46, 68000, tzinfo=tzlocal()),\n",
       " 'CreationTime': datetime.datetime(2025, 2, 15, 21, 44, 44, 256000, tzinfo=tzlocal()),\n",
       " 'ResponseMetadata': {'RequestId': '68970653-32a9-4c0a-a7ab-e009ecacd9ce',\n",
       "  'HTTPStatusCode': 200,\n",
       "  'HTTPHeaders': {'x-amzn-requestid': '68970653-32a9-4c0a-a7ab-e009ecacd9ce',\n",
       "   'content-type': 'application/x-amz-json-1.1',\n",
       "   'content-length': '1902',\n",
       "   'date': 'Sat, 15 Feb 2025 21:51:56 GMT'},\n",
       "  'RetryAttempts': 0}}"
      ]
     },
     "execution_count": 41,
     "metadata": {},
     "output_type": "execute_result"
    }
   ],
   "source": [
    "data_monitor.describe_latest_baselining_job()"
   ]
  },
  {
   "cell_type": "code",
   "execution_count": 42,
   "id": "ff77ab21-f595-417e-a880-a3cb73be87c0",
   "metadata": {
    "tags": []
   },
   "outputs": [
    {
     "name": "stdout",
     "output_type": "stream",
     "text": [
      "2025-02-15 21:48:21       9368 constraints.json\n",
      "2025-02-15 21:48:21    1496024 statistics.json\n"
     ]
    }
   ],
   "source": [
    "!aws s3 ls {baseline_results_s3_url}/"
   ]
  },
  {
   "cell_type": "code",
   "execution_count": 43,
   "id": "a377fca9-436d-45cd-818c-4a8c88f84c4b",
   "metadata": {
    "tags": []
   },
   "outputs": [],
   "source": [
    "data_statistics_s3_url = f\"{baseline_results_s3_url}/statistics.json\"\n",
    "data_constraints_s3_url = f\"{baseline_results_s3_url}/constraints.json\""
   ]
  },
  {
   "cell_type": "markdown",
   "id": "305d2e3b-c707-4b34-bd68-36fc3da9fee0",
   "metadata": {},
   "source": [
    "Copy statistics and constraints JSON files to the Studio EFS:"
   ]
  },
  {
   "cell_type": "code",
   "execution_count": 44,
   "id": "24301fbd-6e71-4c35-b478-c8b076d4e285",
   "metadata": {
    "tags": []
   },
   "outputs": [
    {
     "name": "stdout",
     "output_type": "stream",
     "text": [
      "download: s3://sagemaker-us-east-1-906545278380/from-idea-to-prod/xgboost/baseline/results/constraints.json to tmp/constraints.json\n",
      "download: s3://sagemaker-us-east-1-906545278380/from-idea-to-prod/xgboost/baseline/results/statistics.json to tmp/statistics.json\n"
     ]
    }
   ],
   "source": [
    "!aws s3 cp {data_constraints_s3_url} ./tmp/\n",
    "!aws s3 cp {data_statistics_s3_url} ./tmp/"
   ]
  },
  {
   "cell_type": "code",
   "execution_count": 45,
   "id": "c45e8f3d-65bb-4bd0-9176-5f0bc8e44b2e",
   "metadata": {
    "tags": []
   },
   "outputs": [
    {
     "name": "stdout",
     "output_type": "stream",
     "text": [
      "{\n",
      "  \"version\" : 0.0,\n",
      "  \"features\" : [ {\n",
      "    \"name\" : \"_c0\",\n",
      "    \"inferred_type\" : \"Integral\",\n",
      "    \"completeness\" : 1.0,\n",
      "    \"num_constraints\" : {\n",
      "      \"is_non_negative\" : true\n",
      "    }\n",
      "  }, {\n",
      "    \"name\" : \"_c1\",\n",
      "    \"inferred_type\" : \"Integral\",\n",
      "    \"completeness\" : 1.0,\n",
      "    \"num_constraints\" : {\n",
      "      \"is_non_negative\" : true\n",
      "    }\n",
      "  }, {\n",
      "    \"name\" : \"_c2\",\n",
      "    \"inferred_type\" : \"Integral\",\n",
      "    \"completeness\" : 1.0,\n"
     ]
    }
   ],
   "source": [
    "!head -20 tmp/constraints.json"
   ]
  },
  {
   "cell_type": "code",
   "execution_count": 46,
   "id": "5bd77f24-182e-4bea-819a-bcc60795e22b",
   "metadata": {
    "tags": []
   },
   "outputs": [
    {
     "name": "stdout",
     "output_type": "stream",
     "text": [
      "{\n",
      "  \"version\" : 0.0,\n",
      "  \"dataset\" : {\n",
      "    \"item_count\" : 41188\n",
      "  },\n",
      "  \"features\" : [ {\n",
      "    \"name\" : \"_c0\",\n",
      "    \"inferred_type\" : \"Integral\",\n",
      "    \"numerical_statistics\" : {\n",
      "      \"common\" : {\n",
      "        \"num_present\" : 41188,\n",
      "        \"num_missing\" : 0\n",
      "      },\n",
      "      \"mean\" : 40.02406040594348,\n",
      "      \"sum\" : 1648511.0,\n",
      "      \"std_dev\" : 10.421123471838728,\n",
      "      \"min\" : 17.0,\n",
      "      \"max\" : 98.0,\n",
      "      \"approximate_num_distinct_values\" : 82,\n",
      "      \"completeness\" : 1.0,\n"
     ]
    }
   ],
   "source": [
    "!head -20 tmp/statistics.json"
   ]
  },
  {
   "cell_type": "markdown",
   "id": "366806e0-fae7-41a1-8f67-a46ac297d9c1",
   "metadata": {},
   "source": [
    "Load the generated JSON as Pandas DataFrame and see the content of `statistics.json` and `constaints.json`:"
   ]
  },
  {
   "cell_type": "code",
   "execution_count": null,
   "id": "dc1f849c-8ca0-4c7f-a3a4-eac7b7553b37",
   "metadata": {
    "tags": []
   },
   "outputs": [],
   "source": [
    "baseline_job = data_monitor.latest_baselining_job\n",
    "statistics_df = pd.json_normalize(baseline_job.baseline_statistics().body_dict[\"features\"])\n",
    "statistics_df.head()"
   ]
  },
  {
   "cell_type": "code",
   "execution_count": null,
   "id": "2fdb5f66-da5c-477f-b66a-3997713404bd",
   "metadata": {
    "tags": []
   },
   "outputs": [],
   "source": [
    "constraints_df = pd.json_normalize(\n",
    "    baseline_job.suggested_constraints().body_dict[\"features\"]\n",
    ")\n",
    "constraints_df"
   ]
  },
  {
   "cell_type": "markdown",
   "id": "ecf40e47-2c22-4ca3-8fe1-02f428e5e0b8",
   "metadata": {},
   "source": [
    "For this dataset the baselining job suggest three constraints:\n",
    "1. DataType\n",
    "2. Completeness\n",
    "3. Is non-negative\n",
    "\n",
    "Additionally, the Model Monitor prebuilt container does missing and extra column check, baseline drift check, and categorical values check. Refer to [Developer Guide](https://docs.aws.amazon.com/sagemaker/latest/dg/model-monitor-interpreting-violations.html) for more details.\n",
    "\n",
    "In a real-world project you can add your own constraints the data must comply with.\n",
    "\n",
    "Next you schedule and run a monitoring job to validate incoming data against these constraints and statistics."
   ]
  },
  {
   "cell_type": "markdown",
   "id": "cf89bdfa-87a8-4a23-a299-0a303bbd9bcd",
   "metadata": {},
   "source": [
    "### Create a data monitoring schedule\n",
    "With a monitoring schedule, SageMaker launches processing jobs at a specified frequency to analyze the data collected during a given period. SageMaker provides a [built-in container](https://docs.aws.amazon.com/sagemaker/latest/dg/model-monitor-pre-built-container.html) for performing analysis on tabular datasets. In the processing job, SageMaker compares the dataset for the current analysis with the baseline statistics and constraints and generates a violations report. In addition, CloudWatch metrics are emitted for each data feature under analysis.\n",
    "\n",
    "#### Implement custom record processing with a preprocessing script\n",
    "You can extend Model Monitor by providing a custom record preprocessing function. In this function you can implement your own filtering or preprocessing of every data record. For example, you can skip some records from analysis based on values or some event metadata. Refer to [Preprocessing and Postprocessing](https://docs.aws.amazon.com/sagemaker/latest/dg/model-monitor-pre-and-post-processing.html) documentation for more details and examples.\n",
    "\n",
    "When you created a monitoring baseline, you used the baseline dataset with all features but without the target column. The Model Monitor by default concatenates model input and output, resulting in a dataset which contains all features plus the label. If you don't preprocess records before passing them to Model Monitor, the number of columns in the baseline dataset won't match the number of columns in the data capture record, and Model Monitor will report a `extra_column_check` violation. To avoid this situation, you need either to include the target column in the baselining or remove model output from the monitored records. This notebook uses the latter approach and provides a preprocessing script that returns only input data without the target column.\n",
    "\n",
    "For another example of custom preprocessing see the blog post [Design a compelling record filtering method with Amazon SageMaker Model Monitor](https://aws.amazon.com/blogs/machine-learning/design-a-compelling-record-filtering-method-with-amazon-sagemaker-model-monitor/)."
   ]
  },
  {
   "cell_type": "code",
   "execution_count": 49,
   "id": "6d83eb20-f98c-4579-9de7-a3147cb7c15d",
   "metadata": {
    "tags": []
   },
   "outputs": [],
   "source": [
    "# uncomment to see the file\n",
    "# !pygmentize ./record_preprocessor.py"
   ]
  },
  {
   "cell_type": "code",
   "execution_count": 50,
   "id": "73a8a258-18ee-495f-aa97-e1f61890619c",
   "metadata": {
    "tags": []
   },
   "outputs": [],
   "source": [
    "# Upload the preprocessing script to S3\n",
    "record_preprocessor_s3_url = f\"s3://{bucket_name}/{bucket_prefix}/code\""
   ]
  },
  {
   "cell_type": "code",
   "execution_count": 51,
   "id": "b8cca5a8-7af8-44f0-b4a4-33daf44e9468",
   "metadata": {
    "tags": []
   },
   "outputs": [
    {
     "name": "stdout",
     "output_type": "stream",
     "text": [
      "upload: ./record_preprocessor.py to s3://sagemaker-us-east-1-906545278380/from-idea-to-prod/xgboost/code/record_preprocessor.py\n"
     ]
    }
   ],
   "source": [
    "!aws s3 cp ./record_preprocessor.py {record_preprocessor_s3_url}/"
   ]
  },
  {
   "cell_type": "code",
   "execution_count": 52,
   "id": "d179ca01-f71e-4544-9ebb-daa61b74d866",
   "metadata": {
    "tags": []
   },
   "outputs": [
    {
     "data": {
      "text/html": [
       "<pre style=\"white-space:pre;overflow-x:auto;line-height:normal;font-family:Menlo,'DejaVu Sans Mono',consolas,'Courier New',monospace\"><span style=\"color: #7fbfbf; text-decoration-color: #7fbfbf\">[02/15/25 21:52:23] </span><span style=\"color: #0069ff; text-decoration-color: #0069ff; font-weight: bold\">INFO    </span> Creating Monitoring Schedule with name:                       <a href=\"file:///opt/conda/lib/python3.11/site-packages/sagemaker/model_monitor/model_monitoring.py\" target=\"_blank\"><span style=\"color: #7f7f7f; text-decoration-color: #7f7f7f\">model_monitoring.py</span></a><span style=\"color: #7f7f7f; text-decoration-color: #7f7f7f\">:</span><a href=\"file:///opt/conda/lib/python3.11/site-packages/sagemaker/model_monitor/model_monitoring.py#1560\" target=\"_blank\"><span style=\"color: #7f7f7f; text-decoration-color: #7f7f7f\">1560</span></a>\n",
       "<span style=\"color: #7fbfbf; text-decoration-color: #7fbfbf\">                    </span>         from-idea-to-prod-data-monitor-schedule-<span style=\"color: #008080; text-decoration-color: #008080; font-weight: bold\">2025</span>-<span style=\"color: #008080; text-decoration-color: #008080; font-weight: bold\">02</span>-<span style=\"color: #008080; text-decoration-color: #008080; font-weight: bold\">15</span>-<span style=\"color: #008080; text-decoration-color: #008080; font-weight: bold\">21</span>-<span style=\"color: #008080; text-decoration-color: #008080; font-weight: bold\">52</span>-<span style=\"color: #008080; text-decoration-color: #008080; font-weight: bold\">22</span>   <span style=\"color: #7f7f7f; text-decoration-color: #7f7f7f\">                        </span>\n",
       "</pre>\n"
      ],
      "text/plain": [
       "\u001b[2;36m[02/15/25 21:52:23]\u001b[0m\u001b[2;36m \u001b[0m\u001b[1;38;2;0;105;255mINFO    \u001b[0m Creating Monitoring Schedule with name:                       \u001b]8;id=716322;file:///opt/conda/lib/python3.11/site-packages/sagemaker/model_monitor/model_monitoring.py\u001b\\\u001b[2mmodel_monitoring.py\u001b[0m\u001b]8;;\u001b\\\u001b[2m:\u001b[0m\u001b]8;id=631884;file:///opt/conda/lib/python3.11/site-packages/sagemaker/model_monitor/model_monitoring.py#1560\u001b\\\u001b[2m1560\u001b[0m\u001b]8;;\u001b\\\n",
       "\u001b[2;36m                    \u001b[0m         from-idea-to-prod-data-monitor-schedule-\u001b[1;36m2025\u001b[0m-\u001b[1;36m02\u001b[0m-\u001b[1;36m15\u001b[0m-\u001b[1;36m21\u001b[0m-\u001b[1;36m52\u001b[0m-\u001b[1;36m22\u001b[0m   \u001b[2m                        \u001b[0m\n"
      ]
     },
     "metadata": {},
     "output_type": "display_data"
    }
   ],
   "source": [
    "data_mon_schedule_name = \"from-idea-to-prod-data-monitor-schedule-\" + strftime(\n",
    "    \"%Y-%m-%d-%H-%M-%S\", gmtime()\n",
    ")\n",
    "\n",
    "data_monitor.create_monitoring_schedule(\n",
    "    monitor_schedule_name=data_mon_schedule_name,\n",
    "    endpoint_input=predictor.endpoint_name,\n",
    "    record_preprocessor_script=f\"{record_preprocessor_s3_url}/record_preprocessor.py\",\n",
    "    # post_analytics_processor_script=s3_code_postprocessor_uri,\n",
    "    output_s3_uri=data_mon_reports_s3_url,\n",
    "    statistics=data_monitor.baseline_statistics(),\n",
    "    constraints=data_monitor.suggested_constraints(),\n",
    "    schedule_cron_expression=CronExpressionGenerator.hourly(),\n",
    "    enable_cloudwatch_metrics=True,\n",
    ")"
   ]
  },
  {
   "cell_type": "code",
   "execution_count": 53,
   "id": "99355b13-4f45-4b53-87e3-57774d9b9e61",
   "metadata": {
    "tags": []
   },
   "outputs": [
    {
     "name": "stdout",
     "output_type": "stream",
     "text": [
      "Waiting until data monitoring schedule status becomes Scheduled\n",
      "Waiting until data monitoring schedule status becomes Scheduled\n",
      "Waiting until data monitoring schedule status becomes Scheduled\n"
     ]
    },
    {
     "data": {
      "text/plain": [
       "{'MonitoringScheduleArn': 'arn:aws:sagemaker:us-east-1:906545278380:monitoring-schedule/from-idea-to-prod-data-monitor-schedule-2025-02-15-21-52-22',\n",
       " 'MonitoringScheduleName': 'from-idea-to-prod-data-monitor-schedule-2025-02-15-21-52-22',\n",
       " 'MonitoringScheduleStatus': 'Scheduled',\n",
       " 'MonitoringType': 'DataQuality',\n",
       " 'CreationTime': datetime.datetime(2025, 2, 15, 21, 52, 23, 796000, tzinfo=tzlocal()),\n",
       " 'LastModifiedTime': datetime.datetime(2025, 2, 15, 21, 52, 31, 672000, tzinfo=tzlocal()),\n",
       " 'MonitoringScheduleConfig': {'ScheduleConfig': {'ScheduleExpression': 'cron(0 * ? * * *)'},\n",
       "  'MonitoringJobDefinitionName': 'data-quality-job-definition-2025-02-15-21-52-23-138',\n",
       "  'MonitoringType': 'DataQuality'},\n",
       " 'EndpointName': 'mlops-02-14-11-03-33-prod',\n",
       " 'ResponseMetadata': {'RequestId': '8821ec86-7f9c-49cf-8228-a3f62689d9fd',\n",
       "  'HTTPStatusCode': 200,\n",
       "  'HTTPHeaders': {'x-amzn-requestid': '8821ec86-7f9c-49cf-8228-a3f62689d9fd',\n",
       "   'content-type': 'application/x-amz-json-1.1',\n",
       "   'content-length': '620',\n",
       "   'date': 'Sat, 15 Feb 2025 21:52:33 GMT'},\n",
       "  'RetryAttempts': 0}}"
      ]
     },
     "execution_count": 53,
     "metadata": {},
     "output_type": "execute_result"
    }
   ],
   "source": [
    "while data_monitor.describe_schedule()[\"MonitoringScheduleStatus\"] != \"Scheduled\":\n",
    "    print(f\"Waiting until data monitoring schedule status becomes Scheduled\")\n",
    "    time.sleep(3)\n",
    "\n",
    "data_monitor.describe_schedule()"
   ]
  },
  {
   "cell_type": "markdown",
   "id": "0597276a-420c-457d-a545-dcf7378c4234",
   "metadata": {},
   "source": [
    "### Generate compliant traffic\n",
    "Generate traffic that won't trigger any violations. Use the `test_x.csv` dataset to send requests to the endpoint."
   ]
  },
  {
   "cell_type": "code",
   "execution_count": 54,
   "id": "bbfe425f-579f-4ae2-bfb4-7fc53d01b906",
   "metadata": {
    "tags": []
   },
   "outputs": [
    {
     "data": {
      "text/html": [
       "<div>\n",
       "<style scoped>\n",
       "    .dataframe tbody tr th:only-of-type {\n",
       "        vertical-align: middle;\n",
       "    }\n",
       "\n",
       "    .dataframe tbody tr th {\n",
       "        vertical-align: top;\n",
       "    }\n",
       "\n",
       "    .dataframe thead th {\n",
       "        text-align: right;\n",
       "    }\n",
       "</style>\n",
       "<table border=\"1\" class=\"dataframe\">\n",
       "  <thead>\n",
       "    <tr style=\"text-align: right;\">\n",
       "      <th></th>\n",
       "      <th>_c0</th>\n",
       "      <th>_c1</th>\n",
       "      <th>_c2</th>\n",
       "      <th>_c3</th>\n",
       "      <th>_c4</th>\n",
       "      <th>_c5</th>\n",
       "      <th>_c6</th>\n",
       "      <th>_c7</th>\n",
       "      <th>_c8</th>\n",
       "      <th>_c9</th>\n",
       "      <th>...</th>\n",
       "      <th>_c49</th>\n",
       "      <th>_c50</th>\n",
       "      <th>_c51</th>\n",
       "      <th>_c52</th>\n",
       "      <th>_c53</th>\n",
       "      <th>_c54</th>\n",
       "      <th>_c55</th>\n",
       "      <th>_c56</th>\n",
       "      <th>_c57</th>\n",
       "      <th>_c58</th>\n",
       "    </tr>\n",
       "  </thead>\n",
       "  <tbody>\n",
       "    <tr>\n",
       "      <th>1073</th>\n",
       "      <td>31</td>\n",
       "      <td>2</td>\n",
       "      <td>999</td>\n",
       "      <td>0</td>\n",
       "      <td>1</td>\n",
       "      <td>0</td>\n",
       "      <td>0</td>\n",
       "      <td>0</td>\n",
       "      <td>1</td>\n",
       "      <td>0</td>\n",
       "      <td>...</td>\n",
       "      <td>0</td>\n",
       "      <td>0</td>\n",
       "      <td>0</td>\n",
       "      <td>1</td>\n",
       "      <td>0</td>\n",
       "      <td>0</td>\n",
       "      <td>0</td>\n",
       "      <td>0</td>\n",
       "      <td>1</td>\n",
       "      <td>0</td>\n",
       "    </tr>\n",
       "    <tr>\n",
       "      <th>1294</th>\n",
       "      <td>57</td>\n",
       "      <td>1</td>\n",
       "      <td>999</td>\n",
       "      <td>0</td>\n",
       "      <td>1</td>\n",
       "      <td>0</td>\n",
       "      <td>0</td>\n",
       "      <td>0</td>\n",
       "      <td>0</td>\n",
       "      <td>0</td>\n",
       "      <td>...</td>\n",
       "      <td>0</td>\n",
       "      <td>0</td>\n",
       "      <td>0</td>\n",
       "      <td>1</td>\n",
       "      <td>0</td>\n",
       "      <td>0</td>\n",
       "      <td>0</td>\n",
       "      <td>0</td>\n",
       "      <td>1</td>\n",
       "      <td>0</td>\n",
       "    </tr>\n",
       "    <tr>\n",
       "      <th>1723</th>\n",
       "      <td>34</td>\n",
       "      <td>3</td>\n",
       "      <td>999</td>\n",
       "      <td>1</td>\n",
       "      <td>1</td>\n",
       "      <td>0</td>\n",
       "      <td>0</td>\n",
       "      <td>1</td>\n",
       "      <td>0</td>\n",
       "      <td>0</td>\n",
       "      <td>...</td>\n",
       "      <td>0</td>\n",
       "      <td>0</td>\n",
       "      <td>0</td>\n",
       "      <td>0</td>\n",
       "      <td>1</td>\n",
       "      <td>0</td>\n",
       "      <td>0</td>\n",
       "      <td>1</td>\n",
       "      <td>0</td>\n",
       "      <td>0</td>\n",
       "    </tr>\n",
       "    <tr>\n",
       "      <th>2357</th>\n",
       "      <td>41</td>\n",
       "      <td>2</td>\n",
       "      <td>999</td>\n",
       "      <td>0</td>\n",
       "      <td>1</td>\n",
       "      <td>0</td>\n",
       "      <td>0</td>\n",
       "      <td>0</td>\n",
       "      <td>0</td>\n",
       "      <td>0</td>\n",
       "      <td>...</td>\n",
       "      <td>0</td>\n",
       "      <td>0</td>\n",
       "      <td>0</td>\n",
       "      <td>0</td>\n",
       "      <td>0</td>\n",
       "      <td>0</td>\n",
       "      <td>1</td>\n",
       "      <td>0</td>\n",
       "      <td>1</td>\n",
       "      <td>0</td>\n",
       "    </tr>\n",
       "    <tr>\n",
       "      <th>1563</th>\n",
       "      <td>35</td>\n",
       "      <td>2</td>\n",
       "      <td>999</td>\n",
       "      <td>1</td>\n",
       "      <td>1</td>\n",
       "      <td>0</td>\n",
       "      <td>0</td>\n",
       "      <td>0</td>\n",
       "      <td>0</td>\n",
       "      <td>0</td>\n",
       "      <td>...</td>\n",
       "      <td>0</td>\n",
       "      <td>0</td>\n",
       "      <td>0</td>\n",
       "      <td>1</td>\n",
       "      <td>0</td>\n",
       "      <td>0</td>\n",
       "      <td>0</td>\n",
       "      <td>1</td>\n",
       "      <td>0</td>\n",
       "      <td>0</td>\n",
       "    </tr>\n",
       "    <tr>\n",
       "      <th>...</th>\n",
       "      <td>...</td>\n",
       "      <td>...</td>\n",
       "      <td>...</td>\n",
       "      <td>...</td>\n",
       "      <td>...</td>\n",
       "      <td>...</td>\n",
       "      <td>...</td>\n",
       "      <td>...</td>\n",
       "      <td>...</td>\n",
       "      <td>...</td>\n",
       "      <td>...</td>\n",
       "      <td>...</td>\n",
       "      <td>...</td>\n",
       "      <td>...</td>\n",
       "      <td>...</td>\n",
       "      <td>...</td>\n",
       "      <td>...</td>\n",
       "      <td>...</td>\n",
       "      <td>...</td>\n",
       "      <td>...</td>\n",
       "      <td>...</td>\n",
       "    </tr>\n",
       "    <tr>\n",
       "      <th>3885</th>\n",
       "      <td>27</td>\n",
       "      <td>1</td>\n",
       "      <td>999</td>\n",
       "      <td>0</td>\n",
       "      <td>1</td>\n",
       "      <td>0</td>\n",
       "      <td>0</td>\n",
       "      <td>1</td>\n",
       "      <td>0</td>\n",
       "      <td>0</td>\n",
       "      <td>...</td>\n",
       "      <td>0</td>\n",
       "      <td>0</td>\n",
       "      <td>0</td>\n",
       "      <td>0</td>\n",
       "      <td>1</td>\n",
       "      <td>0</td>\n",
       "      <td>0</td>\n",
       "      <td>0</td>\n",
       "      <td>1</td>\n",
       "      <td>0</td>\n",
       "    </tr>\n",
       "    <tr>\n",
       "      <th>3990</th>\n",
       "      <td>46</td>\n",
       "      <td>4</td>\n",
       "      <td>999</td>\n",
       "      <td>0</td>\n",
       "      <td>1</td>\n",
       "      <td>0</td>\n",
       "      <td>0</td>\n",
       "      <td>0</td>\n",
       "      <td>0</td>\n",
       "      <td>0</td>\n",
       "      <td>...</td>\n",
       "      <td>0</td>\n",
       "      <td>0</td>\n",
       "      <td>0</td>\n",
       "      <td>0</td>\n",
       "      <td>0</td>\n",
       "      <td>1</td>\n",
       "      <td>0</td>\n",
       "      <td>0</td>\n",
       "      <td>1</td>\n",
       "      <td>0</td>\n",
       "    </tr>\n",
       "    <tr>\n",
       "      <th>3306</th>\n",
       "      <td>62</td>\n",
       "      <td>1</td>\n",
       "      <td>16</td>\n",
       "      <td>1</td>\n",
       "      <td>0</td>\n",
       "      <td>0</td>\n",
       "      <td>0</td>\n",
       "      <td>0</td>\n",
       "      <td>0</td>\n",
       "      <td>0</td>\n",
       "      <td>...</td>\n",
       "      <td>0</td>\n",
       "      <td>0</td>\n",
       "      <td>0</td>\n",
       "      <td>1</td>\n",
       "      <td>0</td>\n",
       "      <td>0</td>\n",
       "      <td>0</td>\n",
       "      <td>0</td>\n",
       "      <td>0</td>\n",
       "      <td>1</td>\n",
       "    </tr>\n",
       "    <tr>\n",
       "      <th>2366</th>\n",
       "      <td>33</td>\n",
       "      <td>1</td>\n",
       "      <td>999</td>\n",
       "      <td>0</td>\n",
       "      <td>1</td>\n",
       "      <td>0</td>\n",
       "      <td>0</td>\n",
       "      <td>1</td>\n",
       "      <td>0</td>\n",
       "      <td>0</td>\n",
       "      <td>...</td>\n",
       "      <td>0</td>\n",
       "      <td>0</td>\n",
       "      <td>0</td>\n",
       "      <td>0</td>\n",
       "      <td>0</td>\n",
       "      <td>1</td>\n",
       "      <td>0</td>\n",
       "      <td>0</td>\n",
       "      <td>1</td>\n",
       "      <td>0</td>\n",
       "    </tr>\n",
       "    <tr>\n",
       "      <th>413</th>\n",
       "      <td>49</td>\n",
       "      <td>3</td>\n",
       "      <td>999</td>\n",
       "      <td>0</td>\n",
       "      <td>1</td>\n",
       "      <td>0</td>\n",
       "      <td>0</td>\n",
       "      <td>0</td>\n",
       "      <td>0</td>\n",
       "      <td>0</td>\n",
       "      <td>...</td>\n",
       "      <td>0</td>\n",
       "      <td>0</td>\n",
       "      <td>0</td>\n",
       "      <td>1</td>\n",
       "      <td>0</td>\n",
       "      <td>0</td>\n",
       "      <td>0</td>\n",
       "      <td>0</td>\n",
       "      <td>1</td>\n",
       "      <td>0</td>\n",
       "    </tr>\n",
       "  </tbody>\n",
       "</table>\n",
       "<p>100 rows × 59 columns</p>\n",
       "</div>"
      ],
      "text/plain": [
       "      _c0  _c1  _c2  _c3  _c4  _c5  _c6  _c7  _c8  _c9  ...  _c49  _c50  _c51  \\\n",
       "1073   31    2  999    0    1    0    0    0    1    0  ...     0     0     0   \n",
       "1294   57    1  999    0    1    0    0    0    0    0  ...     0     0     0   \n",
       "1723   34    3  999    1    1    0    0    1    0    0  ...     0     0     0   \n",
       "2357   41    2  999    0    1    0    0    0    0    0  ...     0     0     0   \n",
       "1563   35    2  999    1    1    0    0    0    0    0  ...     0     0     0   \n",
       "...   ...  ...  ...  ...  ...  ...  ...  ...  ...  ...  ...   ...   ...   ...   \n",
       "3885   27    1  999    0    1    0    0    1    0    0  ...     0     0     0   \n",
       "3990   46    4  999    0    1    0    0    0    0    0  ...     0     0     0   \n",
       "3306   62    1   16    1    0    0    0    0    0    0  ...     0     0     0   \n",
       "2366   33    1  999    0    1    0    0    1    0    0  ...     0     0     0   \n",
       "413    49    3  999    0    1    0    0    0    0    0  ...     0     0     0   \n",
       "\n",
       "      _c52  _c53  _c54  _c55  _c56  _c57  _c58  \n",
       "1073     1     0     0     0     0     1     0  \n",
       "1294     1     0     0     0     0     1     0  \n",
       "1723     0     1     0     0     1     0     0  \n",
       "2357     0     0     0     1     0     1     0  \n",
       "1563     1     0     0     0     1     0     0  \n",
       "...    ...   ...   ...   ...   ...   ...   ...  \n",
       "3885     0     1     0     0     0     1     0  \n",
       "3990     0     0     1     0     0     1     0  \n",
       "3306     1     0     0     0     0     0     1  \n",
       "2366     0     0     1     0     0     1     0  \n",
       "413      1     0     0     0     0     1     0  \n",
       "\n",
       "[100 rows x 59 columns]"
      ]
     },
     "execution_count": 54,
     "metadata": {},
     "output_type": "execute_result"
    }
   ],
   "source": [
    "test_x"
   ]
  },
  {
   "cell_type": "code",
   "execution_count": 55,
   "id": "ed4a44fa-2ebf-4cf4-b34f-f72aeba5837a",
   "metadata": {
    "tags": []
   },
   "outputs": [
    {
     "name": "stderr",
     "output_type": "stream",
     "text": [
      "100%|██████████| 100/100 [00:01<00:00, 74.33it/s]\n"
     ]
    }
   ],
   "source": [
    "generate_endpoint_traffic(predictor, test_x)"
   ]
  },
  {
   "cell_type": "markdown",
   "id": "62e2001d-62ed-465f-b273-4c7ce16fa39f",
   "metadata": {},
   "source": [
    "### See the captured data\n",
    "List captured data files under `data_capture_s3_url`. Wait couple of minutes before the captured data appears in the Amazon S3 bucket."
   ]
  },
  {
   "cell_type": "code",
   "execution_count": 56,
   "id": "4200659a-542c-4de6-8b23-ba98f2c81dfe",
   "metadata": {
    "tags": []
   },
   "outputs": [],
   "source": [
    "# If you run this notebook not the first time, there might be some data capture files from the previous runs\n",
    "# We recommend to delete all previous captured files under the data capture S3 path to avoid any inconsistences\n",
    "# Uncomment and run the following line to delete all files under the data capture S3 path\n",
    "\n",
    "# !aws s3 rm {data_capture_s3_url} --recursive"
   ]
  },
  {
   "cell_type": "markdown",
   "id": "c7d3e7d1-df28-4caa-a016-b88502debe08",
   "metadata": {
    "tags": []
   },
   "source": [
    "<div style=\"border: 4px solid coral; text-align: center; margin: auto;\">\n",
    "    <p style=\" text-align: center; margin: auto;\">\n",
    "    Wait until data capture files appears in the S3 bucket. It might take about 2 minutes for files to arrive.\n",
    "    </p>\n",
    "</div>"
   ]
  },
  {
   "cell_type": "code",
   "execution_count": 59,
   "id": "c42cc853-a4d1-43b4-947a-06b0a7d9880f",
   "metadata": {
    "tags": []
   },
   "outputs": [
    {
     "name": "stdout",
     "output_type": "stream",
     "text": [
      "2025-02-15 21:30:29      34074 datacapture-prod/mlops-02-14-11-03-33-prod/AllTraffic/2025/02/15/21/29-20-227-06f6a337-a6ae-419f-9af0-be9a6cdc54a6.jsonl\n",
      "2025-02-15 21:53:39      39429 datacapture-prod/mlops-02-14-11-03-33-prod/AllTraffic/2025/02/15/21/52-33-432-72237081-a8ae-45ba-ae6d-320adab0a782.jsonl\n"
     ]
    }
   ],
   "source": [
    "!aws s3 ls {data_capture_s3_url} --recursive"
   ]
  },
  {
   "cell_type": "markdown",
   "id": "13b7477a-d418-48fb-83b1-f72830644d92",
   "metadata": {},
   "source": [
    "### Launch a manual monitoring job\n",
    "You can launch a monitoring job manually and don't wait until a configured data monitor schedule execution. You created an hourly schedule, so you need to wait until you cross the hour boundary to see some schedule executions.\n",
    "\n",
    "Since the Model Monitor uses a [built-in container](https://docs.aws.amazon.com/sagemaker/latest/dg/model-monitor-pre-built-container.html) and a SageMaker [processing job](https://docs.aws.amazon.com/sagemaker/latest/dg/processing-job.html) to run analysis of the captured data, you can manually configure and run a monitoring job. \n",
    "\n",
    "This [repository](https://github.com/aws-samples/reinvent2019-aim362-sagemaker-debugger-model-monitor/tree/master/02_deploy_and_monitor) contains an implementation of a helper function to manually run a monitoring job."
   ]
  },
  {
   "cell_type": "code",
   "execution_count": 60,
   "id": "0cd005eb-b66b-4650-a702-311549cb5b65",
   "metadata": {
    "tags": []
   },
   "outputs": [],
   "source": [
    "# uncomment to see the code\n",
    "# !pygmentize ./utils/monitoring_utils.py"
   ]
  },
  {
   "cell_type": "markdown",
   "id": "b8f50e08-ab18-48e2-9241-ce73d4643c68",
   "metadata": {},
   "source": [
    "Get an S3 url for the latest captured data files:"
   ]
  },
  {
   "cell_type": "code",
   "execution_count": 61,
   "id": "4fdb2413-0dd4-499d-8076-23435b1e4a65",
   "metadata": {
    "tags": []
   },
   "outputs": [
    {
     "name": "stdout",
     "output_type": "stream",
     "text": [
      "Found 2 files in s3://sagemaker-project-p-ca7phmcraepa/datacapture-prod\n",
      "Latest data capture S3 url: s3://sagemaker-project-p-ca7phmcraepa/datacapture-prod/mlops-02-14-11-03-33-prod/AllTraffic/2025/02/15/21\n"
     ]
    }
   ],
   "source": [
    "latest_data_capture_s3_url = get_latest_data_capture_s3_url(data_capture_bucket, data_capture_prefix)"
   ]
  },
  {
   "cell_type": "code",
   "execution_count": 62,
   "id": "5a1e975f-83ea-4cf1-8883-71b2875a7432",
   "metadata": {
    "tags": []
   },
   "outputs": [
    {
     "name": "stdout",
     "output_type": "stream",
     "text": [
      "Data capture path: s3://sagemaker-project-p-ca7phmcraepa/datacapture-prod/mlops-02-14-11-03-33-prod/AllTraffic/2025/02/15/21\n",
      "Data baseline statistics file: s3://sagemaker-us-east-1-906545278380/from-idea-to-prod/xgboost/baseline/results/statistics.json\n",
      "Data baseline constraints file: s3://sagemaker-us-east-1-906545278380/from-idea-to-prod/xgboost/baseline/results/constraints.json\n",
      "Data monitor report output path: s3://sagemaker-us-east-1-906545278380/from-idea-to-prod/xgboost/baseline/reports\n",
      "Record preprocessor script path: s3://sagemaker-us-east-1-906545278380/from-idea-to-prod/xgboost/code\n"
     ]
    }
   ],
   "source": [
    "print(f\"Data capture path: {latest_data_capture_s3_url}\")\n",
    "print(f\"Data baseline statistics file: {data_statistics_s3_url}\")\n",
    "print(f\"Data baseline constraints file: {data_constraints_s3_url}\")\n",
    "print(f\"Data monitor report output path: {data_mon_reports_s3_url}\")\n",
    "print(f\"Record preprocessor script path: {record_preprocessor_s3_url}\")"
   ]
  },
  {
   "cell_type": "markdown",
   "id": "f45d63e6-ec35-4568-a20f-6f64de9490cb",
   "metadata": {},
   "source": [
    "Run a monitoring job, it takes about 7 minutes:\n",
    "\n",
    "<img src=\"data:image/svg+xml;base64,Cjxzdmcgd2lkdGg9IjgwMCIgaGVpZ2h0PSIxMjUiIHZpZXdCb3g9IjAgMCA4MDAgMTI1IiB4bWxucz0iaHR0cDovL3d3dy53My5vcmcvMjAwMC9zdmciPgogICAgPGRlZnM+CiAgICAgICAgPGxpbmVhckdyYWRpZW50IGlkPSJmYWRlR3JhZGllbnQiIHgxPSIwIiB4Mj0iMSI+CiAgICAgICAgICAgIDxzdG9wIG9mZnNldD0iMCUiIHN0b3AtY29sb3I9IiNGMEYwRjAiLz4KICAgICAgICAgICAgPHN0b3Agb2Zmc2V0PSIxMDAlIiBzdG9wLWNvbG9yPSIjRjBGMEYwIiBzdG9wLW9wYWNpdHk9IjAiLz4KICAgICAgICA8L2xpbmVhckdyYWRpZW50PgogICAgICAgIDxtYXNrIGlkPSJmYWRlTWFzayI+CiAgICAgICAgICAgIDxyZWN0IHg9IjAiIHk9IjAiIHdpZHRoPSI3NTAiIGhlaWdodD0iMTI1IiBmaWxsPSJ3aGl0ZSIvPgogICAgICAgICAgICA8cmVjdCB4PSI3NTAiIHk9IjAiIHdpZHRoPSI1MCIgaGVpZ2h0PSIxMjUiIGZpbGw9InVybCgjZmFkZUdyYWRpZW50KSIvPgogICAgICAgIDwvbWFzaz4KICAgIDwvZGVmcz4KICAgIDxwYXRoIGQ9Ik0zLDUwIEE1MCw1MCAwIDAgMSA1MywzIEw3OTcsMyBMNzk3LDk3IEw5Nyw5NyBMNTAsMTE1IEwzLDk3IFoiIGZpbGw9IiNGMEYwRjAiIHN0cm9rZT0iI0UwRTBFMCIgc3Ryb2tlLXdpZHRoPSIxIiBtYXNrPSJ1cmwoI2ZhZGVNYXNrKSIvPgogICAgPGNpcmNsZSBjeD0iNTAiIGN5PSI1MCIgcj0iMzAiIGZpbGw9IiM1N2M0ZjgiIHN0cm9rZT0iIzU3YzRmOCIgc3Ryb2tlLXdpZHRoPSIxIi8+CiAgICA8Y2lyY2xlIGN4PSI1MCIgY3k9IjUwIiByPSIyNSIgZmlsbD0iI0YwRjBGMCIvPgogICAgPGxpbmUgeDE9IjUwIiB5MT0iNTAiIHgyPSI1MCIgeTI9IjMwIiBzdHJva2U9IiM1N2M0ZjgiIHN0cm9rZS13aWR0aD0iMyIgc3Ryb2tlLWxpbmVjYXA9InJvdW5kIi8+CiAgICA8bGluZSB4MT0iNTAiIHkxPSI1MCIgeDI9IjY1IiB5Mj0iNTAiIHN0cm9rZT0iIzU3YzRmOCIgc3Ryb2tlLXdpZHRoPSIzIiBzdHJva2UtbGluZWNhcD0icm91bmQiLz4KICAgIDx0ZXh0IHg9IjEwMCIgeT0iMzQiIGZvbnQtZmFtaWx5PSJBcmlhbCwgc2Fucy1zZXJpZiIgZm9udC1zaXplPSIxNCIgZmlsbD0iIzMzMzMzMyI+VGhlIG5leHQgY2VsbCBtYXkgdGFrZSBhIGZldyBtaW51dGVzIHRvIHJ1bi48L3RleHQ+Cjwvc3ZnPgo=\" alt=\"Time alert open medium\"/>"
   ]
  },
  {
   "cell_type": "code",
   "execution_count": 63,
   "id": "ceb8dbcd-61c9-4b7e-8d15-7c3efbd40601",
   "metadata": {
    "tags": []
   },
   "outputs": [
    {
     "data": {
      "text/html": [
       "<pre style=\"white-space:pre;overflow-x:auto;line-height:normal;font-family:Menlo,'DejaVu Sans Mono',consolas,'Courier New',monospace\"><span style=\"color: #7fbfbf; text-decoration-color: #7fbfbf\">[02/15/25 21:58:27] </span><span style=\"color: #0069ff; text-decoration-color: #0069ff; font-weight: bold\">INFO    </span> Creating processing-job with name                                      <a href=\"file:///opt/conda/lib/python3.11/site-packages/sagemaker/session.py\" target=\"_blank\"><span style=\"color: #7f7f7f; text-decoration-color: #7f7f7f\">session.py</span></a><span style=\"color: #7f7f7f; text-decoration-color: #7f7f7f\">:</span><a href=\"file:///opt/conda/lib/python3.11/site-packages/sagemaker/session.py#1575\" target=\"_blank\"><span style=\"color: #7f7f7f; text-decoration-color: #7f7f7f\">1575</span></a>\n",
       "<span style=\"color: #7fbfbf; text-decoration-color: #7fbfbf\">                    </span>         sagemaker-model-monitor-analyzer-<span style=\"color: #008080; text-decoration-color: #008080; font-weight: bold\">2025</span>-02-15-21-58-26-656               <span style=\"color: #7f7f7f; text-decoration-color: #7f7f7f\">               </span>\n",
       "</pre>\n"
      ],
      "text/plain": [
       "\u001b[2;36m[02/15/25 21:58:27]\u001b[0m\u001b[2;36m \u001b[0m\u001b[1;38;2;0;105;255mINFO    \u001b[0m Creating processing-job with name                                      \u001b]8;id=731689;file:///opt/conda/lib/python3.11/site-packages/sagemaker/session.py\u001b\\\u001b[2msession.py\u001b[0m\u001b]8;;\u001b\\\u001b[2m:\u001b[0m\u001b]8;id=388987;file:///opt/conda/lib/python3.11/site-packages/sagemaker/session.py#1575\u001b\\\u001b[2m1575\u001b[0m\u001b]8;;\u001b\\\n",
       "\u001b[2;36m                    \u001b[0m         sagemaker-model-monitor-analyzer-\u001b[1;36m2025\u001b[0m-02-15-21-58-26-656               \u001b[2m               \u001b[0m\n"
      ]
     },
     "metadata": {},
     "output_type": "display_data"
    },
    {
     "name": "stdout",
     "output_type": "stream",
     "text": [
      "...........................................................!"
     ]
    }
   ],
   "source": [
    "from utils.monitoring_utils import run_model_monitor_job\n",
    "\n",
    "run_model_monitor_job(\n",
    "    region=region,\n",
    "    instance_type=\"ml.m5.xlarge\",\n",
    "    role=sm_role,\n",
    "    data_capture_path=latest_data_capture_s3_url,\n",
    "    statistics_path=data_statistics_s3_url,\n",
    "    constraints_path=data_constraints_s3_url,\n",
    "    reports_path=data_mon_reports_s3_url,\n",
    "    instance_count=1,\n",
    "    preprocessor_path=f\"{record_preprocessor_s3_url}/record_preprocessor.py\",\n",
    "    postprocessor_path=None,\n",
    "    publish_cloudwatch_metrics=\"Disabled\",\n",
    "    logs=False,\n",
    ")"
   ]
  },
  {
   "cell_type": "markdown",
   "id": "6dbcac89",
   "metadata": {},
   "source": [
    "<img src=\"data:image/svg+xml;base64,Cjxzdmcgd2lkdGg9IjgwMCIgaGVpZ2h0PSI1MCIgdmlld0JveD0iMCAwIDgwMCA1MCIgeG1sbnM9Imh0dHA6Ly93d3cudzMub3JnLzIwMDAvc3ZnIj4KICAgIDxkZWZzPgogICAgICAgIDxsaW5lYXJHcmFkaWVudCBpZD0iZmFkZUdyYWRpZW50IiB4MT0iMCIgeDI9IjEiPgogICAgICAgICAgICA8c3RvcCBvZmZzZXQ9IjAlIiBzdG9wLWNvbG9yPSIjRjBGMEYwIi8+CiAgICAgICAgICAgIDxzdG9wIG9mZnNldD0iMTAwJSIgc3RvcC1jb2xvcj0iI0YwRjBGMCIgc3RvcC1vcGFjaXR5PSIwIi8+CiAgICAgICAgPC9saW5lYXJHcmFkaWVudD4KICAgICAgICA8bWFzayBpZD0iZmFkZU1hc2siPgogICAgICAgICAgICA8cmVjdCB4PSIwIiB5PSIwIiB3aWR0aD0iNzUwIiBoZWlnaHQ9IjUwIiBmaWxsPSJ3aGl0ZSIvPgogICAgICAgICAgICA8cmVjdCB4PSI3NTAiIHk9IjAiIHdpZHRoPSI1MCIgaGVpZ2h0PSI1MCIgZmlsbD0idXJsKCNmYWRlR3JhZGllbnQpIi8+CiAgICAgICAgPC9tYXNrPgogICAgPC9kZWZzPgogICAgPHBhdGggZD0iTTI1LDUwIFEwLDUwIDAsMjUgTDUwLDMgTDk3LDI1IEw3OTcsMjUgTDc5Nyw1MCBMMjUsNTAgWiIgZmlsbD0iI0YwRjBGMCIgc3Ryb2tlPSIjRTBFMEUwIiBzdHJva2Utd2lkdGg9IjEiIG1hc2s9InVybCgjZmFkZU1hc2spIi8+Cjwvc3ZnPgo=\" alt=\"Time alert close\"/>"
   ]
  },
  {
   "cell_type": "markdown",
   "id": "715c8ff4-e24d-49a9-a212-be635fbff216",
   "metadata": {},
   "source": [
    "### See the monitoring job output\n",
    "Let's check what reports the monitoring job generated. "
   ]
  },
  {
   "cell_type": "code",
   "execution_count": 64,
   "id": "30aaec02-b385-4c96-9db5-4454d9916db1",
   "metadata": {
    "tags": []
   },
   "outputs": [
    {
     "name": "stdout",
     "output_type": "stream",
     "text": [
      "Latest monitoring report S3 url: s3://sagemaker-us-east-1-906545278380/from-idea-to-prod/xgboost/baseline/reports/mlops-02-14-11-03-33-prod/AllTraffic/2025/02/15/21\n"
     ]
    }
   ],
   "source": [
    "manual_monitoring_job_output_s3_url = get_latest_monitoring_report_s3_url(\"sagemaker-model-monitor-analyzer\")"
   ]
  },
  {
   "cell_type": "code",
   "execution_count": 65,
   "id": "dedfef20-9df8-4969-ab18-8606a325c28c",
   "metadata": {
    "tags": []
   },
   "outputs": [
    {
     "name": "stdout",
     "output_type": "stream",
     "text": [
      "2025-02-15 22:01:55        747 constraint_violations.json\n",
      "2025-02-15 22:01:53       9374 constraints.json\n",
      "2025-02-15 22:01:53     145625 statistics.json\n"
     ]
    }
   ],
   "source": [
    "!aws s3 ls {manual_monitoring_job_output_s3_url}/"
   ]
  },
  {
   "cell_type": "markdown",
   "id": "3770d68a-42a8-4f60-be4d-b424f52d16f0",
   "metadata": {},
   "source": [
    "Load the monitoring report and see if there are any violations:"
   ]
  },
  {
   "cell_type": "code",
   "execution_count": 66,
   "id": "223f61e2-a6bc-4c78-8724-a72367d12f15",
   "metadata": {
    "tags": []
   },
   "outputs": [
    {
     "name": "stdout",
     "output_type": "stream",
     "text": [
      "Load JSON from: sagemaker-us-east-1-906545278380/from-idea-to-prod/xgboost/baseline/reports/mlops-02-14-11-03-33-prod/AllTraffic/2025/02/15/21/constraint_violations.json\n"
     ]
    }
   ],
   "source": [
    "violations = load_json_from_file(f\"{manual_monitoring_job_output_s3_url}/constraint_violations.json\")"
   ]
  },
  {
   "cell_type": "markdown",
   "id": "d4ad56db-54bd-4051-b7db-49ddb7af9c66",
   "metadata": {},
   "source": [
    "As you sent only compliant data to the endpoint, there must be no violations for the captured data."
   ]
  },
  {
   "cell_type": "code",
   "execution_count": 67,
   "id": "a1c2f5b8-d1da-4eb8-9c7d-94d782c6ae11",
   "metadata": {
    "tags": []
   },
   "outputs": [
    {
     "data": {
      "text/html": [
       "<div>\n",
       "<style scoped>\n",
       "    .dataframe tbody tr th:only-of-type {\n",
       "        vertical-align: middle;\n",
       "    }\n",
       "\n",
       "    .dataframe tbody tr th {\n",
       "        vertical-align: top;\n",
       "    }\n",
       "\n",
       "    .dataframe thead th {\n",
       "        text-align: right;\n",
       "    }\n",
       "</style>\n",
       "<table border=\"1\" class=\"dataframe\">\n",
       "  <thead>\n",
       "    <tr style=\"text-align: right;\">\n",
       "      <th></th>\n",
       "      <th>feature_name</th>\n",
       "      <th>constraint_check_type</th>\n",
       "      <th>description</th>\n",
       "    </tr>\n",
       "  </thead>\n",
       "  <tbody>\n",
       "    <tr>\n",
       "      <th>0</th>\n",
       "      <td>_c0</td>\n",
       "      <td>data_type_check</td>\n",
       "      <td>Data type match requirement is not met. Expected data type: Integral, Expected match: 100.0%. Observed: Only 0.0% of data is Integral.</td>\n",
       "    </tr>\n",
       "    <tr>\n",
       "      <th>1</th>\n",
       "      <td>_c12</td>\n",
       "      <td>data_type_check</td>\n",
       "      <td>Data type match requirement is not met. Expected data type: Integral, Expected match: 100.0%. Observed: Only 0.0% of data is Integral.</td>\n",
       "    </tr>\n",
       "    <tr>\n",
       "      <th>2</th>\n",
       "      <td>_c1</td>\n",
       "      <td>data_type_check</td>\n",
       "      <td>Data type match requirement is not met. Expected data type: Integral, Expected match: 100.0%. Observed: Only 0.0% of data is Integral.</td>\n",
       "    </tr>\n",
       "  </tbody>\n",
       "</table>\n",
       "</div>"
      ],
      "text/plain": [
       "  feature_name constraint_check_type  \\\n",
       "0          _c0       data_type_check   \n",
       "1         _c12       data_type_check   \n",
       "2          _c1       data_type_check   \n",
       "\n",
       "                                                                                                                              description  \n",
       "0  Data type match requirement is not met. Expected data type: Integral, Expected match: 100.0%. Observed: Only 0.0% of data is Integral.  \n",
       "1  Data type match requirement is not met. Expected data type: Integral, Expected match: 100.0%. Observed: Only 0.0% of data is Integral.  \n",
       "2  Data type match requirement is not met. Expected data type: Integral, Expected match: 100.0%. Observed: Only 0.0% of data is Integral.  "
      ]
     },
     "execution_count": 67,
     "metadata": {},
     "output_type": "execute_result"
    }
   ],
   "source": [
    "pd.json_normalize(violations[\"violations\"])"
   ]
  },
  {
   "cell_type": "markdown",
   "id": "3c825cba-ca1e-4b68-8bdd-c262138a2674",
   "metadata": {},
   "source": [
    "You can also copy the constraint violations report to the Studio EFS and print the content of the file:"
   ]
  },
  {
   "cell_type": "code",
   "execution_count": 68,
   "id": "81603aa4-5742-4c04-b1a3-c48060885520",
   "metadata": {
    "tags": []
   },
   "outputs": [
    {
     "name": "stdout",
     "output_type": "stream",
     "text": [
      "download: s3://sagemaker-us-east-1-906545278380/from-idea-to-prod/xgboost/baseline/reports/mlops-02-14-11-03-33-prod/AllTraffic/2025/02/15/21/constraint_violations.json to tmp/constraint_violations.json\n"
     ]
    }
   ],
   "source": [
    "!aws s3 cp {manual_monitoring_job_output_s3_url}/constraint_violations.json ./tmp/"
   ]
  },
  {
   "cell_type": "code",
   "execution_count": 69,
   "id": "f505dfb5-d64a-4066-bb02-dbba1b79e839",
   "metadata": {
    "tags": []
   },
   "outputs": [
    {
     "name": "stdout",
     "output_type": "stream",
     "text": [
      "{\n",
      "  \"violations\" : [ {\n",
      "    \"feature_name\" : \"_c0\",\n",
      "    \"constraint_check_type\" : \"data_type_check\",\n",
      "    \"description\" : \"Data type match requirement is not met. Expected data type: Integral, Expected match: 100.0%. Observed: Only 0.0% of data is Integral.\"\n",
      "  }, {\n",
      "    \"feature_name\" : \"_c12\",\n",
      "    \"constraint_check_type\" : \"data_type_check\",\n",
      "    \"description\" : \"Data type match requirement is not met. Expected data type: Integral, Expected match: 100.0%. Observed: Only 0.0% of data is Integral.\"\n",
      "  }, {\n"
     ]
    }
   ],
   "source": [
    "!head ./tmp/constraint_violations.json"
   ]
  },
  {
   "cell_type": "markdown",
   "id": "a1a445bd-39a9-489d-9911-e9cfaefb1aa6",
   "metadata": {},
   "source": [
    "Now load the newly calculated statistics and constratins based on the captured dataset."
   ]
  },
  {
   "cell_type": "code",
   "execution_count": 70,
   "id": "266d95b7-8c3b-4bdf-a820-77d884c43c50",
   "metadata": {
    "tags": []
   },
   "outputs": [
    {
     "name": "stdout",
     "output_type": "stream",
     "text": [
      "Load JSON from: sagemaker-us-east-1-906545278380/from-idea-to-prod/xgboost/baseline/reports/mlops-02-14-11-03-33-prod/AllTraffic/2025/02/15/21/statistics.json\n",
      "Load JSON from: sagemaker-us-east-1-906545278380/from-idea-to-prod/xgboost/baseline/reports/mlops-02-14-11-03-33-prod/AllTraffic/2025/02/15/21/constraints.json\n",
      "Records processed: 151\n"
     ]
    }
   ],
   "source": [
    "statistics = load_json_from_file(f\"{manual_monitoring_job_output_s3_url}/statistics.json\")\n",
    "constraints = load_json_from_file(f\"{manual_monitoring_job_output_s3_url}/constraints.json\")\n",
    "\n",
    "print(f\"Records processed: {statistics['dataset']['item_count']}\")"
   ]
  },
  {
   "cell_type": "code",
   "execution_count": null,
   "id": "f572e5ac-3519-48b9-b4c9-e611c8e71d5d",
   "metadata": {
    "tags": []
   },
   "outputs": [],
   "source": [
    "pd.json_normalize(statistics[\"features\"]).head()"
   ]
  },
  {
   "cell_type": "code",
   "execution_count": 72,
   "id": "19f99d6e-b261-4f89-be20-dacde27ae18d",
   "metadata": {
    "tags": []
   },
   "outputs": [
    {
     "data": {
      "text/html": [
       "<div>\n",
       "<style scoped>\n",
       "    .dataframe tbody tr th:only-of-type {\n",
       "        vertical-align: middle;\n",
       "    }\n",
       "\n",
       "    .dataframe tbody tr th {\n",
       "        vertical-align: top;\n",
       "    }\n",
       "\n",
       "    .dataframe thead th {\n",
       "        text-align: right;\n",
       "    }\n",
       "</style>\n",
       "<table border=\"1\" class=\"dataframe\">\n",
       "  <thead>\n",
       "    <tr style=\"text-align: right;\">\n",
       "      <th></th>\n",
       "      <th>name</th>\n",
       "      <th>inferred_type</th>\n",
       "      <th>completeness</th>\n",
       "      <th>num_constraints.is_non_negative</th>\n",
       "    </tr>\n",
       "  </thead>\n",
       "  <tbody>\n",
       "    <tr>\n",
       "      <th>0</th>\n",
       "      <td>_c0</td>\n",
       "      <td>Fractional</td>\n",
       "      <td>1.0</td>\n",
       "      <td>True</td>\n",
       "    </tr>\n",
       "    <tr>\n",
       "      <th>1</th>\n",
       "      <td>_c1</td>\n",
       "      <td>Fractional</td>\n",
       "      <td>1.0</td>\n",
       "      <td>True</td>\n",
       "    </tr>\n",
       "    <tr>\n",
       "      <th>2</th>\n",
       "      <td>_c2</td>\n",
       "      <td>Integral</td>\n",
       "      <td>1.0</td>\n",
       "      <td>True</td>\n",
       "    </tr>\n",
       "    <tr>\n",
       "      <th>3</th>\n",
       "      <td>_c3</td>\n",
       "      <td>Integral</td>\n",
       "      <td>1.0</td>\n",
       "      <td>True</td>\n",
       "    </tr>\n",
       "    <tr>\n",
       "      <th>4</th>\n",
       "      <td>_c4</td>\n",
       "      <td>Integral</td>\n",
       "      <td>1.0</td>\n",
       "      <td>True</td>\n",
       "    </tr>\n",
       "  </tbody>\n",
       "</table>\n",
       "</div>"
      ],
      "text/plain": [
       "  name inferred_type  completeness  num_constraints.is_non_negative\n",
       "0  _c0    Fractional           1.0                             True\n",
       "1  _c1    Fractional           1.0                             True\n",
       "2  _c2      Integral           1.0                             True\n",
       "3  _c3      Integral           1.0                             True\n",
       "4  _c4      Integral           1.0                             True"
      ]
     },
     "execution_count": 72,
     "metadata": {},
     "output_type": "execute_result"
    }
   ],
   "source": [
    "pd.json_normalize(constraints[\"features\"]).head()"
   ]
  },
  {
   "cell_type": "markdown",
   "id": "7ea3529c-f664-490f-b240-d11574e62183",
   "metadata": {},
   "source": [
    "### What is monitored\n",
    "Refer to [Schema for Violations](https://docs.aws.amazon.com/sagemaker/latest/dg/model-monitor-interpreting-violations.html) in the Developer Guide to see what constraints are monitored by the model monitor. You can configure a tolerance threshold that fits your specific data quality requirements.  To configure the thresholds, you must change the `monitoring_config` section of the baseline `constraints.json` file:"
   ]
  },
  {
   "cell_type": "code",
   "execution_count": 73,
   "id": "831436ca-15dc-4f6a-abf0-e8d1e2a92ce4",
   "metadata": {
    "tags": []
   },
   "outputs": [
    {
     "name": "stdout",
     "output_type": "stream",
     "text": [
      "{\n",
      "  \"evaluate_constraints\": \"Enabled\",\n",
      "  \"emit_metrics\": \"Enabled\",\n",
      "  \"datatype_check_threshold\": 1.0,\n",
      "  \"domain_content_threshold\": 1.0,\n",
      "  \"distribution_constraints\": {\n",
      "    \"perform_comparison\": \"Enabled\",\n",
      "    \"comparison_threshold\": 0.1,\n",
      "    \"comparison_method\": \"Robust\",\n",
      "    \"categorical_comparison_threshold\": 0.1,\n",
      "    \"categorical_drift_method\": \"LInfinity\"\n",
      "  }\n",
      "}\n"
     ]
    }
   ],
   "source": [
    "with open(\"tmp/constraints.json\", \"r\") as c:\n",
    "    data = c.read()\n",
    "    \n",
    "print(json.dumps(json.loads(data)[\"monitoring_config\"], indent=2))"
   ]
  },
  {
   "cell_type": "markdown",
   "id": "579f1f2d-7f8c-4c7e-a5f0-94acf855b1ea",
   "metadata": {},
   "source": [
    "To modify monitoring configuration, change this section and upload the file to Amazon S3.\n",
    "You can use `Robust` or `Simple` method to detect a data distribution drift, refer to [Schema for Constraints](https://docs.aws.amazon.com/sagemaker/latest/dg/model-monitor-byoc-constraints.html) in the Developer Guide. `Robust` method is recommended for small datasets and based on the [Two-sample Kolmogorov-Smirnov test](https://en.m.wikipedia.org/wiki/Kolmogorov%E2%80%93Smirnov_test)."
   ]
  },
  {
   "cell_type": "markdown",
   "id": "d567b72b-805b-43e7-b926-db97015d00f4",
   "metadata": {
    "tags": []
   },
   "source": [
    "### Generate non-compliant traffic\n",
    "Now generate traffic that will trigger the violation in the model monitor data quality check."
   ]
  },
  {
   "cell_type": "code",
   "execution_count": 74,
   "id": "49fa53a9-fcf8-42a3-a4a5-b0460d1e0919",
   "metadata": {
    "tags": []
   },
   "outputs": [],
   "source": [
    "non_compliant_pd = test_x.copy()\n",
    "non_compliant_pd.iloc[:,0] = -1.0"
   ]
  },
  {
   "cell_type": "code",
   "execution_count": 75,
   "id": "9907bf99-f24e-4d86-ad2d-a87433ca43c7",
   "metadata": {
    "tags": []
   },
   "outputs": [
    {
     "data": {
      "text/html": [
       "<div>\n",
       "<style scoped>\n",
       "    .dataframe tbody tr th:only-of-type {\n",
       "        vertical-align: middle;\n",
       "    }\n",
       "\n",
       "    .dataframe tbody tr th {\n",
       "        vertical-align: top;\n",
       "    }\n",
       "\n",
       "    .dataframe thead th {\n",
       "        text-align: right;\n",
       "    }\n",
       "</style>\n",
       "<table border=\"1\" class=\"dataframe\">\n",
       "  <thead>\n",
       "    <tr style=\"text-align: right;\">\n",
       "      <th></th>\n",
       "      <th>_c0</th>\n",
       "      <th>_c1</th>\n",
       "      <th>_c2</th>\n",
       "      <th>_c3</th>\n",
       "      <th>_c4</th>\n",
       "      <th>_c5</th>\n",
       "      <th>_c6</th>\n",
       "      <th>_c7</th>\n",
       "      <th>_c8</th>\n",
       "      <th>_c9</th>\n",
       "      <th>...</th>\n",
       "      <th>_c49</th>\n",
       "      <th>_c50</th>\n",
       "      <th>_c51</th>\n",
       "      <th>_c52</th>\n",
       "      <th>_c53</th>\n",
       "      <th>_c54</th>\n",
       "      <th>_c55</th>\n",
       "      <th>_c56</th>\n",
       "      <th>_c57</th>\n",
       "      <th>_c58</th>\n",
       "    </tr>\n",
       "  </thead>\n",
       "  <tbody>\n",
       "    <tr>\n",
       "      <th>1073</th>\n",
       "      <td>-1</td>\n",
       "      <td>2</td>\n",
       "      <td>999</td>\n",
       "      <td>0</td>\n",
       "      <td>1</td>\n",
       "      <td>0</td>\n",
       "      <td>0</td>\n",
       "      <td>0</td>\n",
       "      <td>1</td>\n",
       "      <td>0</td>\n",
       "      <td>...</td>\n",
       "      <td>0</td>\n",
       "      <td>0</td>\n",
       "      <td>0</td>\n",
       "      <td>1</td>\n",
       "      <td>0</td>\n",
       "      <td>0</td>\n",
       "      <td>0</td>\n",
       "      <td>0</td>\n",
       "      <td>1</td>\n",
       "      <td>0</td>\n",
       "    </tr>\n",
       "    <tr>\n",
       "      <th>1294</th>\n",
       "      <td>-1</td>\n",
       "      <td>1</td>\n",
       "      <td>999</td>\n",
       "      <td>0</td>\n",
       "      <td>1</td>\n",
       "      <td>0</td>\n",
       "      <td>0</td>\n",
       "      <td>0</td>\n",
       "      <td>0</td>\n",
       "      <td>0</td>\n",
       "      <td>...</td>\n",
       "      <td>0</td>\n",
       "      <td>0</td>\n",
       "      <td>0</td>\n",
       "      <td>1</td>\n",
       "      <td>0</td>\n",
       "      <td>0</td>\n",
       "      <td>0</td>\n",
       "      <td>0</td>\n",
       "      <td>1</td>\n",
       "      <td>0</td>\n",
       "    </tr>\n",
       "    <tr>\n",
       "      <th>1723</th>\n",
       "      <td>-1</td>\n",
       "      <td>3</td>\n",
       "      <td>999</td>\n",
       "      <td>1</td>\n",
       "      <td>1</td>\n",
       "      <td>0</td>\n",
       "      <td>0</td>\n",
       "      <td>1</td>\n",
       "      <td>0</td>\n",
       "      <td>0</td>\n",
       "      <td>...</td>\n",
       "      <td>0</td>\n",
       "      <td>0</td>\n",
       "      <td>0</td>\n",
       "      <td>0</td>\n",
       "      <td>1</td>\n",
       "      <td>0</td>\n",
       "      <td>0</td>\n",
       "      <td>1</td>\n",
       "      <td>0</td>\n",
       "      <td>0</td>\n",
       "    </tr>\n",
       "    <tr>\n",
       "      <th>2357</th>\n",
       "      <td>-1</td>\n",
       "      <td>2</td>\n",
       "      <td>999</td>\n",
       "      <td>0</td>\n",
       "      <td>1</td>\n",
       "      <td>0</td>\n",
       "      <td>0</td>\n",
       "      <td>0</td>\n",
       "      <td>0</td>\n",
       "      <td>0</td>\n",
       "      <td>...</td>\n",
       "      <td>0</td>\n",
       "      <td>0</td>\n",
       "      <td>0</td>\n",
       "      <td>0</td>\n",
       "      <td>0</td>\n",
       "      <td>0</td>\n",
       "      <td>1</td>\n",
       "      <td>0</td>\n",
       "      <td>1</td>\n",
       "      <td>0</td>\n",
       "    </tr>\n",
       "    <tr>\n",
       "      <th>1563</th>\n",
       "      <td>-1</td>\n",
       "      <td>2</td>\n",
       "      <td>999</td>\n",
       "      <td>1</td>\n",
       "      <td>1</td>\n",
       "      <td>0</td>\n",
       "      <td>0</td>\n",
       "      <td>0</td>\n",
       "      <td>0</td>\n",
       "      <td>0</td>\n",
       "      <td>...</td>\n",
       "      <td>0</td>\n",
       "      <td>0</td>\n",
       "      <td>0</td>\n",
       "      <td>1</td>\n",
       "      <td>0</td>\n",
       "      <td>0</td>\n",
       "      <td>0</td>\n",
       "      <td>1</td>\n",
       "      <td>0</td>\n",
       "      <td>0</td>\n",
       "    </tr>\n",
       "  </tbody>\n",
       "</table>\n",
       "<p>5 rows × 59 columns</p>\n",
       "</div>"
      ],
      "text/plain": [
       "      _c0  _c1  _c2  _c3  _c4  _c5  _c6  _c7  _c8  _c9  ...  _c49  _c50  _c51  \\\n",
       "1073   -1    2  999    0    1    0    0    0    1    0  ...     0     0     0   \n",
       "1294   -1    1  999    0    1    0    0    0    0    0  ...     0     0     0   \n",
       "1723   -1    3  999    1    1    0    0    1    0    0  ...     0     0     0   \n",
       "2357   -1    2  999    0    1    0    0    0    0    0  ...     0     0     0   \n",
       "1563   -1    2  999    1    1    0    0    0    0    0  ...     0     0     0   \n",
       "\n",
       "      _c52  _c53  _c54  _c55  _c56  _c57  _c58  \n",
       "1073     1     0     0     0     0     1     0  \n",
       "1294     1     0     0     0     0     1     0  \n",
       "1723     0     1     0     0     1     0     0  \n",
       "2357     0     0     0     1     0     1     0  \n",
       "1563     1     0     0     0     1     0     0  \n",
       "\n",
       "[5 rows x 59 columns]"
      ]
     },
     "execution_count": 75,
     "metadata": {},
     "output_type": "execute_result"
    }
   ],
   "source": [
    "non_compliant_pd.head()"
   ]
  },
  {
   "cell_type": "code",
   "execution_count": 76,
   "id": "8ef3d752-cf16-4614-94fd-90c09190b9c6",
   "metadata": {
    "tags": []
   },
   "outputs": [
    {
     "name": "stdout",
     "output_type": "stream",
     "text": [
      "Found 2 files in s3://sagemaker-project-p-ca7phmcraepa/datacapture-prod\n",
      "Latest data capture S3 url: s3://sagemaker-project-p-ca7phmcraepa/datacapture-prod/mlops-02-14-11-03-33-prod/AllTraffic/2025/02/15/21\n"
     ]
    }
   ],
   "source": [
    "# Remove previous saved data capture from the S3 bucket\n",
    "latest_data_capture_s3_url = get_latest_data_capture_s3_url(data_capture_bucket, data_capture_prefix)"
   ]
  },
  {
   "cell_type": "code",
   "execution_count": 77,
   "id": "f47f60b6-b24d-4f32-88d3-b69d75d8ab67",
   "metadata": {
    "tags": []
   },
   "outputs": [],
   "source": [
    "# If you run this notebook not the first time, there might be some data capture files from the previous runs\n",
    "# We recommend to delete all existing files under the data capture S3 path to avoid any inconsistences\n",
    "# Uncomment and run the following line to delete all files under the data capture S3 path\n",
    "\n",
    "# !aws s3 rm {latest_data_capture_s3_url} --recursive"
   ]
  },
  {
   "cell_type": "code",
   "execution_count": 78,
   "id": "6df19f6a-f6e2-4c75-94e7-fb7211faa557",
   "metadata": {
    "tags": []
   },
   "outputs": [
    {
     "name": "stderr",
     "output_type": "stream",
     "text": [
      "100%|██████████| 100/100 [00:01<00:00, 95.06it/s]\n"
     ]
    }
   ],
   "source": [
    "generate_endpoint_traffic(predictor, non_compliant_pd)"
   ]
  },
  {
   "cell_type": "markdown",
   "id": "c348cd59-9925-4d29-97ae-e90baef5e3f6",
   "metadata": {},
   "source": [
    "### See the captured data\n",
    "List captured data files under `data_capture_s3_url`. Wait couple of minutes before the captured data appears in the Amazon S3 bucket."
   ]
  },
  {
   "cell_type": "code",
   "execution_count": 80,
   "id": "4b729c49-8118-4229-a260-6fcdf455b29d",
   "metadata": {
    "tags": []
   },
   "outputs": [
    {
     "name": "stdout",
     "output_type": "stream",
     "text": [
      "2025-02-15 21:30:29      34074 datacapture-prod/mlops-02-14-11-03-33-prod/AllTraffic/2025/02/15/21/29-20-227-06f6a337-a6ae-419f-9af0-be9a6cdc54a6.jsonl\n",
      "2025-02-15 21:53:39      39429 datacapture-prod/mlops-02-14-11-03-33-prod/AllTraffic/2025/02/15/21/52-33-432-72237081-a8ae-45ba-ae6d-320adab0a782.jsonl\n",
      "2025-02-16 11:20:09      34051 datacapture-prod/mlops-02-14-11-03-33-prod/AllTraffic/2025/02/16/11/19-01-920-70f9078e-1765-4c8f-9f9c-1845bd3e6de4.jsonl\n"
     ]
    }
   ],
   "source": [
    "!aws s3 ls {data_capture_s3_url} --recursive"
   ]
  },
  {
   "cell_type": "code",
   "execution_count": 81,
   "id": "be219c7a-e455-4a29-9e52-bfbfeff07b08",
   "metadata": {
    "tags": []
   },
   "outputs": [
    {
     "name": "stdout",
     "output_type": "stream",
     "text": [
      "Found 3 files in s3://sagemaker-project-p-ca7phmcraepa/datacapture-prod\n"
     ]
    }
   ],
   "source": [
    "capture_files = get_file_list(data_capture_bucket, data_capture_prefix)"
   ]
  },
  {
   "cell_type": "code",
   "execution_count": 82,
   "id": "4ac69c24-c143-4c21-8c99-d77bd0d91790",
   "metadata": {
    "tags": []
   },
   "outputs": [
    {
     "name": "stdout",
     "output_type": "stream",
     "text": [
      "Content of the capture file:\n",
      "{\n",
      "  \"captureData\": {\n",
      "    \"endpointInput\": {\n",
      "      \"observedContentType\": \"text/csv\",\n",
      "      \"mode\": \"INPUT\",\n",
      "      \"data\": \"-1,2,999,0,1,0,0,0,1,0,0,0,0,0,0,0,0,0,0,1,0,0,0,0,0,0,0,0,1,0,0,1,0,1,0,0,1,0,0,1,0,0,0,0,1,0,0,0,0,0,0,0,1,0,0,0,0,1,0\",\n",
      "      \"encoding\": \"CSV\"\n",
      "    },\n",
      "    \"endpointOutput\": {\n",
      "      \"observedContentType\": \"text/csv; charset=utf-8\",\n",
      "      \"mode\": \"OUTPUT\",\n",
      "      \"data\": \"0.2893185019493103\\n\",\n",
      "      \"encoding\": \"CSV\"\n",
      "    }\n",
      "  },\n",
      "  \"eventMetadata\": {\n",
      "    \"eventId\": \"a51faf5d-da3e-400d-b776-f02ac8725d6c\",\n",
      "    \"inferenceTime\": \"2025-02-16T11:19:01Z\"\n",
      "  },\n",
      "  \"eventVersion\": \"0\"\n",
      "}\n"
     ]
    }
   ],
   "source": [
    "# Download a capture data file and print it's content\n",
    "file_key = capture_files[-1]\n",
    "S3Downloader.download(f\"s3://{data_capture_bucket}/{file_key}\", f\"./tmp\")\n",
    "\n",
    "print(f\"Content of the capture file:\")\n",
    "# Read the jsonl file and show the first object\n",
    "with jsonlines.open(f\"./tmp/{file_key.split('/')[-1]}\") as reader:      \n",
    "    print(json.dumps(reader.read(), indent=2))"
   ]
  },
  {
   "cell_type": "markdown",
   "id": "8b59387d-d96f-47c6-b058-3a4d7168c4ab",
   "metadata": {},
   "source": [
    "### Launch a manual monitoring job\n",
    "Let's run a manual monitoring job again to analyze the capture data:"
   ]
  },
  {
   "cell_type": "code",
   "execution_count": 83,
   "id": "4615cb98-2c7d-4656-b714-18f5f30a5dcc",
   "metadata": {
    "tags": []
   },
   "outputs": [
    {
     "name": "stdout",
     "output_type": "stream",
     "text": [
      "Found 3 files in s3://sagemaker-project-p-ca7phmcraepa/datacapture-prod\n",
      "Latest data capture S3 url: s3://sagemaker-project-p-ca7phmcraepa/datacapture-prod/mlops-02-14-11-03-33-prod/AllTraffic/2025/02/16/11\n"
     ]
    }
   ],
   "source": [
    "latest_data_capture_s3_url = get_latest_data_capture_s3_url(data_capture_bucket, data_capture_prefix)"
   ]
  },
  {
   "cell_type": "markdown",
   "id": "4a1009c7",
   "metadata": {},
   "source": [
    "<img src=\"data:image/svg+xml;base64,Cjxzdmcgd2lkdGg9IjgwMCIgaGVpZ2h0PSIxMjUiIHZpZXdCb3g9IjAgMCA4MDAgMTI1IiB4bWxucz0iaHR0cDovL3d3dy53My5vcmcvMjAwMC9zdmciPgogICAgPGRlZnM+CiAgICAgICAgPGxpbmVhckdyYWRpZW50IGlkPSJmYWRlR3JhZGllbnQiIHgxPSIwIiB4Mj0iMSI+CiAgICAgICAgICAgIDxzdG9wIG9mZnNldD0iMCUiIHN0b3AtY29sb3I9IiNGMEYwRjAiLz4KICAgICAgICAgICAgPHN0b3Agb2Zmc2V0PSIxMDAlIiBzdG9wLWNvbG9yPSIjRjBGMEYwIiBzdG9wLW9wYWNpdHk9IjAiLz4KICAgICAgICA8L2xpbmVhckdyYWRpZW50PgogICAgICAgIDxtYXNrIGlkPSJmYWRlTWFzayI+CiAgICAgICAgICAgIDxyZWN0IHg9IjAiIHk9IjAiIHdpZHRoPSI3NTAiIGhlaWdodD0iMTI1IiBmaWxsPSJ3aGl0ZSIvPgogICAgICAgICAgICA8cmVjdCB4PSI3NTAiIHk9IjAiIHdpZHRoPSI1MCIgaGVpZ2h0PSIxMjUiIGZpbGw9InVybCgjZmFkZUdyYWRpZW50KSIvPgogICAgICAgIDwvbWFzaz4KICAgIDwvZGVmcz4KICAgIDxwYXRoIGQ9Ik0zLDUwIEE1MCw1MCAwIDAgMSA1MywzIEw3OTcsMyBMNzk3LDk3IEw5Nyw5NyBMNTAsMTE1IEwzLDk3IFoiIGZpbGw9IiNGMEYwRjAiIHN0cm9rZT0iI0UwRTBFMCIgc3Ryb2tlLXdpZHRoPSIxIiBtYXNrPSJ1cmwoI2ZhZGVNYXNrKSIvPgogICAgPGNpcmNsZSBjeD0iNTAiIGN5PSI1MCIgcj0iMzAiIGZpbGw9IiM1N2M0ZjgiIHN0cm9rZT0iIzU3YzRmOCIgc3Ryb2tlLXdpZHRoPSIxIi8+CiAgICA8Y2lyY2xlIGN4PSI1MCIgY3k9IjUwIiByPSIyNSIgZmlsbD0iI0YwRjBGMCIvPgogICAgPGxpbmUgeDE9IjUwIiB5MT0iNTAiIHgyPSI1MCIgeTI9IjMwIiBzdHJva2U9IiM1N2M0ZjgiIHN0cm9rZS13aWR0aD0iMyIgc3Ryb2tlLWxpbmVjYXA9InJvdW5kIi8+CiAgICA8bGluZSB4MT0iNTAiIHkxPSI1MCIgeDI9IjY1IiB5Mj0iNTAiIHN0cm9rZT0iIzU3YzRmOCIgc3Ryb2tlLXdpZHRoPSIzIiBzdHJva2UtbGluZWNhcD0icm91bmQiLz4KICAgIDx0ZXh0IHg9IjEwMCIgeT0iMzQiIGZvbnQtZmFtaWx5PSJBcmlhbCwgc2Fucy1zZXJpZiIgZm9udC1zaXplPSIxNCIgZmlsbD0iIzMzMzMzMyI+VGhlIG5leHQgY2VsbCBtYXkgdGFrZSBhIGZldyBtaW51dGVzIHRvIHJ1bi48L3RleHQ+Cjwvc3ZnPgo=\" alt=\"Time alert open medium\"/>"
   ]
  },
  {
   "cell_type": "code",
   "execution_count": 84,
   "id": "97db3837-3b58-4c7d-85b5-495bce6f7d5f",
   "metadata": {
    "tags": []
   },
   "outputs": [
    {
     "data": {
      "text/html": [
       "<pre style=\"white-space:pre;overflow-x:auto;line-height:normal;font-family:Menlo,'DejaVu Sans Mono',consolas,'Courier New',monospace\"><span style=\"color: #7fbfbf; text-decoration-color: #7fbfbf\">[02/16/25 14:34:01] </span><span style=\"color: #0069ff; text-decoration-color: #0069ff; font-weight: bold\">INFO    </span> Creating processing-job with name                                      <a href=\"file:///opt/conda/lib/python3.11/site-packages/sagemaker/session.py\" target=\"_blank\"><span style=\"color: #7f7f7f; text-decoration-color: #7f7f7f\">session.py</span></a><span style=\"color: #7f7f7f; text-decoration-color: #7f7f7f\">:</span><a href=\"file:///opt/conda/lib/python3.11/site-packages/sagemaker/session.py#1575\" target=\"_blank\"><span style=\"color: #7f7f7f; text-decoration-color: #7f7f7f\">1575</span></a>\n",
       "<span style=\"color: #7fbfbf; text-decoration-color: #7fbfbf\">                    </span>         sagemaker-model-monitor-analyzer-<span style=\"color: #008080; text-decoration-color: #008080; font-weight: bold\">2025</span>-02-16-14-34-01-134               <span style=\"color: #7f7f7f; text-decoration-color: #7f7f7f\">               </span>\n",
       "</pre>\n"
      ],
      "text/plain": [
       "\u001b[2;36m[02/16/25 14:34:01]\u001b[0m\u001b[2;36m \u001b[0m\u001b[1;38;2;0;105;255mINFO    \u001b[0m Creating processing-job with name                                      \u001b]8;id=168004;file:///opt/conda/lib/python3.11/site-packages/sagemaker/session.py\u001b\\\u001b[2msession.py\u001b[0m\u001b]8;;\u001b\\\u001b[2m:\u001b[0m\u001b]8;id=612574;file:///opt/conda/lib/python3.11/site-packages/sagemaker/session.py#1575\u001b\\\u001b[2m1575\u001b[0m\u001b]8;;\u001b\\\n",
       "\u001b[2;36m                    \u001b[0m         sagemaker-model-monitor-analyzer-\u001b[1;36m2025\u001b[0m-02-16-14-34-01-134               \u001b[2m               \u001b[0m\n"
      ]
     },
     "metadata": {},
     "output_type": "display_data"
    },
    {
     "name": "stdout",
     "output_type": "stream",
     "text": [
      "...........................................................!"
     ]
    }
   ],
   "source": [
    "run_model_monitor_job(\n",
    "    region=region,\n",
    "    instance_type=\"ml.m5.xlarge\",\n",
    "    role=sm_role,\n",
    "    data_capture_path=latest_data_capture_s3_url,\n",
    "    statistics_path=data_statistics_s3_url,\n",
    "    constraints_path=data_constraints_s3_url,\n",
    "    reports_path=data_mon_reports_s3_url,\n",
    "    instance_count=1,\n",
    "    preprocessor_path=f\"{record_preprocessor_s3_url}/record_preprocessor.py\",\n",
    "    postprocessor_path=None,\n",
    "    publish_cloudwatch_metrics=\"Disabled\",\n",
    "    logs=False,\n",
    ")"
   ]
  },
  {
   "cell_type": "markdown",
   "id": "19650f49",
   "metadata": {},
   "source": [
    "<img src=\"data:image/svg+xml;base64,Cjxzdmcgd2lkdGg9IjgwMCIgaGVpZ2h0PSI1MCIgdmlld0JveD0iMCAwIDgwMCA1MCIgeG1sbnM9Imh0dHA6Ly93d3cudzMub3JnLzIwMDAvc3ZnIj4KICAgIDxkZWZzPgogICAgICAgIDxsaW5lYXJHcmFkaWVudCBpZD0iZmFkZUdyYWRpZW50IiB4MT0iMCIgeDI9IjEiPgogICAgICAgICAgICA8c3RvcCBvZmZzZXQ9IjAlIiBzdG9wLWNvbG9yPSIjRjBGMEYwIi8+CiAgICAgICAgICAgIDxzdG9wIG9mZnNldD0iMTAwJSIgc3RvcC1jb2xvcj0iI0YwRjBGMCIgc3RvcC1vcGFjaXR5PSIwIi8+CiAgICAgICAgPC9saW5lYXJHcmFkaWVudD4KICAgICAgICA8bWFzayBpZD0iZmFkZU1hc2siPgogICAgICAgICAgICA8cmVjdCB4PSIwIiB5PSIwIiB3aWR0aD0iNzUwIiBoZWlnaHQ9IjUwIiBmaWxsPSJ3aGl0ZSIvPgogICAgICAgICAgICA8cmVjdCB4PSI3NTAiIHk9IjAiIHdpZHRoPSI1MCIgaGVpZ2h0PSI1MCIgZmlsbD0idXJsKCNmYWRlR3JhZGllbnQpIi8+CiAgICAgICAgPC9tYXNrPgogICAgPC9kZWZzPgogICAgPHBhdGggZD0iTTI1LDUwIFEwLDUwIDAsMjUgTDUwLDMgTDk3LDI1IEw3OTcsMjUgTDc5Nyw1MCBMMjUsNTAgWiIgZmlsbD0iI0YwRjBGMCIgc3Ryb2tlPSIjRTBFMEUwIiBzdHJva2Utd2lkdGg9IjEiIG1hc2s9InVybCgjZmFkZU1hc2spIi8+Cjwvc3ZnPgo=\" alt=\"Time alert close\"/>"
   ]
  },
  {
   "cell_type": "markdown",
   "id": "4e1b92c6-5a1f-4908-bb95-df4059111ef4",
   "metadata": {},
   "source": [
    "### See the monitoring job output\n",
    "Let's check what reports the monitoring job generated. Since you send non-compliant data to the endpoint, you must see a violation report."
   ]
  },
  {
   "cell_type": "code",
   "execution_count": 85,
   "id": "f01e44ce-e861-4113-90e7-c0281511447e",
   "metadata": {
    "tags": []
   },
   "outputs": [
    {
     "name": "stdout",
     "output_type": "stream",
     "text": [
      "Latest monitoring report S3 url: s3://sagemaker-us-east-1-906545278380/from-idea-to-prod/xgboost/baseline/reports/mlops-02-14-11-03-33-prod/AllTraffic/2025/02/16/11\n"
     ]
    }
   ],
   "source": [
    "manual_monitoring_job_output_s3_url = get_latest_monitoring_report_s3_url(\"sagemaker-model-monitor-analyzer\")"
   ]
  },
  {
   "cell_type": "code",
   "execution_count": 86,
   "id": "f8fe74d1-e7d0-4978-ae6f-7907058ac68a",
   "metadata": {
    "tags": []
   },
   "outputs": [
    {
     "name": "stdout",
     "output_type": "stream",
     "text": [
      "2025-02-16 14:37:26        747 constraint_violations.json\n",
      "2025-02-16 14:37:24       9375 constraints.json\n",
      "2025-02-16 14:37:24     121226 statistics.json\n"
     ]
    }
   ],
   "source": [
    "!aws s3 ls {manual_monitoring_job_output_s3_url}/"
   ]
  },
  {
   "cell_type": "markdown",
   "id": "2bccea03-786f-4dfc-902e-60568d09131a",
   "metadata": {},
   "source": [
    "Load the monitoring report and see the violations:"
   ]
  },
  {
   "cell_type": "code",
   "execution_count": 87,
   "id": "1e1d51d6-8ba8-4ecc-a437-70a76e2ec172",
   "metadata": {
    "tags": []
   },
   "outputs": [
    {
     "name": "stdout",
     "output_type": "stream",
     "text": [
      "Load JSON from: sagemaker-us-east-1-906545278380/from-idea-to-prod/xgboost/baseline/reports/mlops-02-14-11-03-33-prod/AllTraffic/2025/02/16/11/constraint_violations.json\n"
     ]
    },
    {
     "data": {
      "text/plain": [
       "{'violations': [{'feature_name': '_c0',\n",
       "   'constraint_check_type': 'data_type_check',\n",
       "   'description': 'Data type match requirement is not met. Expected data type: Integral, Expected match: 100.0%. Observed: Only 0.0% of data is Integral.'},\n",
       "  {'feature_name': '_c12',\n",
       "   'constraint_check_type': 'data_type_check',\n",
       "   'description': 'Data type match requirement is not met. Expected data type: Integral, Expected match: 100.0%. Observed: Only 0.0% of data is Integral.'},\n",
       "  {'feature_name': '_c1',\n",
       "   'constraint_check_type': 'data_type_check',\n",
       "   'description': 'Data type match requirement is not met. Expected data type: Integral, Expected match: 100.0%. Observed: Only 0.0% of data is Integral.'}]}"
      ]
     },
     "execution_count": 87,
     "metadata": {},
     "output_type": "execute_result"
    }
   ],
   "source": [
    "violations = load_json_from_file(f\"{manual_monitoring_job_output_s3_url}/constraint_violations.json\")\n",
    "violations"
   ]
  },
  {
   "cell_type": "code",
   "execution_count": 88,
   "id": "df85c386-46a2-446f-bbb3-e674799a2fa7",
   "metadata": {
    "tags": []
   },
   "outputs": [
    {
     "data": {
      "text/html": [
       "<div>\n",
       "<style scoped>\n",
       "    .dataframe tbody tr th:only-of-type {\n",
       "        vertical-align: middle;\n",
       "    }\n",
       "\n",
       "    .dataframe tbody tr th {\n",
       "        vertical-align: top;\n",
       "    }\n",
       "\n",
       "    .dataframe thead th {\n",
       "        text-align: right;\n",
       "    }\n",
       "</style>\n",
       "<table border=\"1\" class=\"dataframe\">\n",
       "  <thead>\n",
       "    <tr style=\"text-align: right;\">\n",
       "      <th></th>\n",
       "      <th>feature_name</th>\n",
       "      <th>constraint_check_type</th>\n",
       "      <th>description</th>\n",
       "    </tr>\n",
       "  </thead>\n",
       "  <tbody>\n",
       "    <tr>\n",
       "      <th>0</th>\n",
       "      <td>_c0</td>\n",
       "      <td>data_type_check</td>\n",
       "      <td>Data type match requirement is not met. Expected data type: Integral, Expected match: 100.0%. Observed: Only 0.0% of data is Integral.</td>\n",
       "    </tr>\n",
       "    <tr>\n",
       "      <th>1</th>\n",
       "      <td>_c12</td>\n",
       "      <td>data_type_check</td>\n",
       "      <td>Data type match requirement is not met. Expected data type: Integral, Expected match: 100.0%. Observed: Only 0.0% of data is Integral.</td>\n",
       "    </tr>\n",
       "    <tr>\n",
       "      <th>2</th>\n",
       "      <td>_c1</td>\n",
       "      <td>data_type_check</td>\n",
       "      <td>Data type match requirement is not met. Expected data type: Integral, Expected match: 100.0%. Observed: Only 0.0% of data is Integral.</td>\n",
       "    </tr>\n",
       "  </tbody>\n",
       "</table>\n",
       "</div>"
      ],
      "text/plain": [
       "  feature_name constraint_check_type  \\\n",
       "0          _c0       data_type_check   \n",
       "1         _c12       data_type_check   \n",
       "2          _c1       data_type_check   \n",
       "\n",
       "                                                                                                                              description  \n",
       "0  Data type match requirement is not met. Expected data type: Integral, Expected match: 100.0%. Observed: Only 0.0% of data is Integral.  \n",
       "1  Data type match requirement is not met. Expected data type: Integral, Expected match: 100.0%. Observed: Only 0.0% of data is Integral.  \n",
       "2  Data type match requirement is not met. Expected data type: Integral, Expected match: 100.0%. Observed: Only 0.0% of data is Integral.  "
      ]
     },
     "execution_count": 88,
     "metadata": {},
     "output_type": "execute_result"
    }
   ],
   "source": [
    "pd.json_normalize(violations[\"violations\"])"
   ]
  },
  {
   "cell_type": "code",
   "execution_count": 89,
   "id": "15ff077d-7ad3-4648-890f-7c0cd60a51a4",
   "metadata": {
    "tags": []
   },
   "outputs": [
    {
     "name": "stdout",
     "output_type": "stream",
     "text": [
      "Load JSON from: sagemaker-us-east-1-906545278380/from-idea-to-prod/xgboost/baseline/reports/mlops-02-14-11-03-33-prod/AllTraffic/2025/02/16/11/statistics.json\n",
      "Load JSON from: sagemaker-us-east-1-906545278380/from-idea-to-prod/xgboost/baseline/reports/mlops-02-14-11-03-33-prod/AllTraffic/2025/02/16/11/constraints.json\n",
      "Records processed: 70\n"
     ]
    }
   ],
   "source": [
    "statistics = load_json_from_file(f\"{manual_monitoring_job_output_s3_url}/statistics.json\")\n",
    "constraints = load_json_from_file(f\"{manual_monitoring_job_output_s3_url}/constraints.json\")\n",
    "\n",
    "print(f\"Records processed: {statistics['dataset']['item_count']}\")"
   ]
  },
  {
   "cell_type": "code",
   "execution_count": null,
   "id": "74aac0c2-374f-4f88-b114-19419025ac90",
   "metadata": {
    "tags": []
   },
   "outputs": [],
   "source": [
    "pd.json_normalize(statistics[\"features\"]).head()"
   ]
  },
  {
   "cell_type": "code",
   "execution_count": 92,
   "id": "1f56dec7-dd76-419a-ac0f-db7c18234044",
   "metadata": {
    "tags": []
   },
   "outputs": [
    {
     "data": {
      "text/html": [
       "<div>\n",
       "<style scoped>\n",
       "    .dataframe tbody tr th:only-of-type {\n",
       "        vertical-align: middle;\n",
       "    }\n",
       "\n",
       "    .dataframe tbody tr th {\n",
       "        vertical-align: top;\n",
       "    }\n",
       "\n",
       "    .dataframe thead th {\n",
       "        text-align: right;\n",
       "    }\n",
       "</style>\n",
       "<table border=\"1\" class=\"dataframe\">\n",
       "  <thead>\n",
       "    <tr style=\"text-align: right;\">\n",
       "      <th></th>\n",
       "      <th>name</th>\n",
       "      <th>inferred_type</th>\n",
       "      <th>completeness</th>\n",
       "      <th>num_constraints.is_non_negative</th>\n",
       "    </tr>\n",
       "  </thead>\n",
       "  <tbody>\n",
       "    <tr>\n",
       "      <th>0</th>\n",
       "      <td>_c0</td>\n",
       "      <td>Fractional</td>\n",
       "      <td>1.0</td>\n",
       "      <td>False</td>\n",
       "    </tr>\n",
       "    <tr>\n",
       "      <th>1</th>\n",
       "      <td>_c1</td>\n",
       "      <td>Fractional</td>\n",
       "      <td>1.0</td>\n",
       "      <td>True</td>\n",
       "    </tr>\n",
       "    <tr>\n",
       "      <th>2</th>\n",
       "      <td>_c2</td>\n",
       "      <td>Integral</td>\n",
       "      <td>1.0</td>\n",
       "      <td>True</td>\n",
       "    </tr>\n",
       "    <tr>\n",
       "      <th>3</th>\n",
       "      <td>_c3</td>\n",
       "      <td>Integral</td>\n",
       "      <td>1.0</td>\n",
       "      <td>True</td>\n",
       "    </tr>\n",
       "    <tr>\n",
       "      <th>4</th>\n",
       "      <td>_c4</td>\n",
       "      <td>Integral</td>\n",
       "      <td>1.0</td>\n",
       "      <td>True</td>\n",
       "    </tr>\n",
       "  </tbody>\n",
       "</table>\n",
       "</div>"
      ],
      "text/plain": [
       "  name inferred_type  completeness  num_constraints.is_non_negative\n",
       "0  _c0    Fractional           1.0                            False\n",
       "1  _c1    Fractional           1.0                             True\n",
       "2  _c2      Integral           1.0                             True\n",
       "3  _c3      Integral           1.0                             True\n",
       "4  _c4      Integral           1.0                             True"
      ]
     },
     "execution_count": 92,
     "metadata": {},
     "output_type": "execute_result"
    }
   ],
   "source": [
    "pd.json_normalize(constraints[\"features\"]).head()"
   ]
  },
  {
   "cell_type": "markdown",
   "id": "68e46a76-d556-4d75-8b38-454fba95d419",
   "metadata": {},
   "source": [
    "### List schedule executions and monitoring reports\n",
    "<div class=\"alert alert-info\"> \n",
    "In this section you explore the scheduled executions of the monitoring job and their results. To have any executions and reports you have to wait until the top of the hour for an execution to complete. If you don't have any executions of the monitor scheduled, check if you send any traffic to the endpoint and if your monitor schedule is properly configured.\n",
    "</div>\n",
    "\n",
    "You created a hourly schedule above that begins executions on the hour plus 0-20 min buffer. You will have to wait till the clock hit the hour. You can also change the schedule.\n",
    "\n",
    "<div class=\"alert alert-info\"> \n",
    "While waiting for the scheduled execution of the monitoring job, you can continue with the <strong>Part 2: Monitor model quality</strong> and come back to this section to check the monitor job executions.\n",
    "</div>\n",
    "\n",
    "This section demonstrates how to work with scheduled monitoring job execution. The Python SDK class [`DefaultModelMonitor`](https://sagemaker.readthedocs.io/en/stable/api/inference/model_monitor.html#sagemaker.model_monitor.model_monitoring.DefaultModelMonitor) implements helper methods to load and see the executions and monitoring reports."
   ]
  },
  {
   "cell_type": "markdown",
   "id": "f301094d-8039-42a0-b17d-5539d26a7c87",
   "metadata": {},
   "source": [
    "List executions and view a monitoring job details:"
   ]
  },
  {
   "cell_type": "code",
   "execution_count": 93,
   "id": "0534df39-4cbc-4562-bef8-bbd2a776502e",
   "metadata": {
    "tags": []
   },
   "outputs": [
    {
     "name": "stdout",
     "output_type": "stream",
     "text": [
      "!Latest execution status: Completed\n",
      "Latest execution result: CompletedWithViolations: Job completed successfully with 3 violations.\n",
      "Report Uri: s3://sagemaker-us-east-1-906545278380/from-idea-to-prod/xgboost/baseline/reports/mlops-02-14-11-03-33-prod/from-idea-to-prod-data-monitor-schedule-2025-02-15-21-52-22/2025/02/16/12\n"
     ]
    }
   ],
   "source": [
    "latest_execution = get_latest_monitor_execution(data_monitor)"
   ]
  },
  {
   "cell_type": "markdown",
   "id": "c119d4c3-fca4-4146-9079-483f15df8b18",
   "metadata": {},
   "source": [
    "See details about the latest scheduled monitoring execution:"
   ]
  },
  {
   "cell_type": "code",
   "execution_count": null,
   "id": "bef16c05-4f41-487d-9e4b-fb40780338e8",
   "metadata": {
    "tags": []
   },
   "outputs": [],
   "source": [
    "# this line fails if there are no executions\n",
    "latest_execution.describe()"
   ]
  },
  {
   "cell_type": "markdown",
   "id": "898dc7bb-364f-40c0-9181-9130fe2ec9d7",
   "metadata": {},
   "source": [
    "Get the latest execution statistics and constraint violations as objects:"
   ]
  },
  {
   "cell_type": "code",
   "execution_count": 95,
   "id": "4a9a5590-5fc9-4fd5-a094-33c5fc2c996d",
   "metadata": {
    "tags": []
   },
   "outputs": [],
   "source": [
    "last_execution_statistics = latest_execution.statistics()\n",
    "last_execution_violations = latest_execution.constraint_violations()"
   ]
  },
  {
   "cell_type": "markdown",
   "id": "8bdeae78-a391-4f36-a781-95024b7bc9c1",
   "metadata": {},
   "source": [
    "Load reports into Pandas DataFrame:"
   ]
  },
  {
   "cell_type": "code",
   "execution_count": null,
   "id": "c8f37f50-6aed-4489-b50d-a8476ace0ee6",
   "metadata": {
    "tags": []
   },
   "outputs": [],
   "source": [
    "pd.json_normalize(last_execution_statistics.body_dict[\"features\"]).head()"
   ]
  },
  {
   "cell_type": "code",
   "execution_count": 98,
   "id": "ec57f3eb-4fb1-4a0d-ba61-9f4aef53298e",
   "metadata": {
    "tags": []
   },
   "outputs": [
    {
     "data": {
      "text/html": [
       "<div>\n",
       "<style scoped>\n",
       "    .dataframe tbody tr th:only-of-type {\n",
       "        vertical-align: middle;\n",
       "    }\n",
       "\n",
       "    .dataframe tbody tr th {\n",
       "        vertical-align: top;\n",
       "    }\n",
       "\n",
       "    .dataframe thead th {\n",
       "        text-align: right;\n",
       "    }\n",
       "</style>\n",
       "<table border=\"1\" class=\"dataframe\">\n",
       "  <thead>\n",
       "    <tr style=\"text-align: right;\">\n",
       "      <th></th>\n",
       "      <th>feature_name</th>\n",
       "      <th>constraint_check_type</th>\n",
       "      <th>description</th>\n",
       "    </tr>\n",
       "  </thead>\n",
       "  <tbody>\n",
       "    <tr>\n",
       "      <th>0</th>\n",
       "      <td>_c0</td>\n",
       "      <td>data_type_check</td>\n",
       "      <td>Data type match requirement is not met. Expected data type: Integral, Expected match: 100.0%. Observed: Only 0.0% of data is Integral.</td>\n",
       "    </tr>\n",
       "    <tr>\n",
       "      <th>1</th>\n",
       "      <td>_c12</td>\n",
       "      <td>data_type_check</td>\n",
       "      <td>Data type match requirement is not met. Expected data type: Integral, Expected match: 100.0%. Observed: Only 0.0% of data is Integral.</td>\n",
       "    </tr>\n",
       "    <tr>\n",
       "      <th>2</th>\n",
       "      <td>_c1</td>\n",
       "      <td>data_type_check</td>\n",
       "      <td>Data type match requirement is not met. Expected data type: Integral, Expected match: 100.0%. Observed: Only 0.0% of data is Integral.</td>\n",
       "    </tr>\n",
       "  </tbody>\n",
       "</table>\n",
       "</div>"
      ],
      "text/plain": [
       "  feature_name constraint_check_type  \\\n",
       "0          _c0       data_type_check   \n",
       "1         _c12       data_type_check   \n",
       "2          _c1       data_type_check   \n",
       "\n",
       "                                                                                                                              description  \n",
       "0  Data type match requirement is not met. Expected data type: Integral, Expected match: 100.0%. Observed: Only 0.0% of data is Integral.  \n",
       "1  Data type match requirement is not met. Expected data type: Integral, Expected match: 100.0%. Observed: Only 0.0% of data is Integral.  \n",
       "2  Data type match requirement is not met. Expected data type: Integral, Expected match: 100.0%. Observed: Only 0.0% of data is Integral.  "
      ]
     },
     "execution_count": 98,
     "metadata": {},
     "output_type": "execute_result"
    }
   ],
   "source": [
    "pd.json_normalize(last_execution_violations.body_dict[\"violations\"]).head()"
   ]
  },
  {
   "cell_type": "markdown",
   "id": "c59e3043-775a-4d6b-8890-136095c28a85",
   "metadata": {},
   "source": [
    "See the baseline and the latest data profiling statistics:"
   ]
  },
  {
   "cell_type": "code",
   "execution_count": null,
   "id": "4e0fc10e-fc5a-46c4-8690-372864c8b03b",
   "metadata": {
    "tags": []
   },
   "outputs": [],
   "source": [
    "pd.json_normalize(data_monitor.baseline_statistics().body_dict[\"features\"]).head()"
   ]
  },
  {
   "cell_type": "code",
   "execution_count": null,
   "id": "56a18ba4-5a16-4026-a3aa-794f3a2410b8",
   "metadata": {
    "tags": []
   },
   "outputs": [],
   "source": [
    "pd.json_normalize(data_monitor.latest_monitoring_statistics().body_dict[\"features\"]).head()"
   ]
  },
  {
   "cell_type": "markdown",
   "id": "4ba1d859-3753-49ea-ad78-d18f0b5a8bec",
   "metadata": {},
   "source": [
    "#### View a violation report\n",
    "Model monitor outputs any violations compared to the baseline to a violation report. You can access the latest violation report via the ModelMonitor object. \n",
    "Note, that the violation report returned by the following code cell might be empty, if there were no executions of the monitoring schedule. You must wait until the scheduled monitoring job finishes to see the violation report."
   ]
  },
  {
   "cell_type": "code",
   "execution_count": 102,
   "id": "7e31de1c-77b3-4992-a2ab-237367c96340",
   "metadata": {
    "tags": []
   },
   "outputs": [],
   "source": [
    "violations = data_monitor.latest_monitoring_constraint_violations()"
   ]
  },
  {
   "cell_type": "code",
   "execution_count": 103,
   "id": "a1d74e83-0c67-41cf-9b61-e53eb42125e2",
   "metadata": {
    "tags": []
   },
   "outputs": [
    {
     "data": {
      "text/plain": [
       "<sagemaker.model_monitor.monitoring_files.ConstraintViolations at 0x7fd6ad08b010>"
      ]
     },
     "execution_count": 103,
     "metadata": {},
     "output_type": "execute_result"
    }
   ],
   "source": [
    "violations"
   ]
  },
  {
   "cell_type": "code",
   "execution_count": 104,
   "id": "5e9773b1-0f77-48f7-8090-7dcacfc0f15c",
   "metadata": {
    "tags": []
   },
   "outputs": [],
   "source": [
    "if not violations:\n",
    "    print(\"No constraint violations report found\")\n",
    "else:\n",
    "    violations_df = pd.json_normalize(violations.body_dict[\"violations\"]).head()"
   ]
  },
  {
   "cell_type": "code",
   "execution_count": 105,
   "id": "a5e698a8-68ee-493f-bf1b-ffddea569762",
   "metadata": {
    "tags": []
   },
   "outputs": [
    {
     "data": {
      "text/html": [
       "<div>\n",
       "<style scoped>\n",
       "    .dataframe tbody tr th:only-of-type {\n",
       "        vertical-align: middle;\n",
       "    }\n",
       "\n",
       "    .dataframe tbody tr th {\n",
       "        vertical-align: top;\n",
       "    }\n",
       "\n",
       "    .dataframe thead th {\n",
       "        text-align: right;\n",
       "    }\n",
       "</style>\n",
       "<table border=\"1\" class=\"dataframe\">\n",
       "  <thead>\n",
       "    <tr style=\"text-align: right;\">\n",
       "      <th></th>\n",
       "      <th>feature_name</th>\n",
       "      <th>constraint_check_type</th>\n",
       "      <th>description</th>\n",
       "    </tr>\n",
       "  </thead>\n",
       "  <tbody>\n",
       "    <tr>\n",
       "      <th>0</th>\n",
       "      <td>_c0</td>\n",
       "      <td>data_type_check</td>\n",
       "      <td>Data type match requirement is not met. Expected data type: Integral, Expected match: 100.0%. Observed: Only 0.0% of data is Integral.</td>\n",
       "    </tr>\n",
       "    <tr>\n",
       "      <th>1</th>\n",
       "      <td>_c12</td>\n",
       "      <td>data_type_check</td>\n",
       "      <td>Data type match requirement is not met. Expected data type: Integral, Expected match: 100.0%. Observed: Only 0.0% of data is Integral.</td>\n",
       "    </tr>\n",
       "    <tr>\n",
       "      <th>2</th>\n",
       "      <td>_c1</td>\n",
       "      <td>data_type_check</td>\n",
       "      <td>Data type match requirement is not met. Expected data type: Integral, Expected match: 100.0%. Observed: Only 0.0% of data is Integral.</td>\n",
       "    </tr>\n",
       "  </tbody>\n",
       "</table>\n",
       "</div>"
      ],
      "text/plain": [
       "  feature_name constraint_check_type  \\\n",
       "0          _c0       data_type_check   \n",
       "1         _c12       data_type_check   \n",
       "2          _c1       data_type_check   \n",
       "\n",
       "                                                                                                                              description  \n",
       "0  Data type match requirement is not met. Expected data type: Integral, Expected match: 100.0%. Observed: Only 0.0% of data is Integral.  \n",
       "1  Data type match requirement is not met. Expected data type: Integral, Expected match: 100.0%. Observed: Only 0.0% of data is Integral.  \n",
       "2  Data type match requirement is not met. Expected data type: Integral, Expected match: 100.0%. Observed: Only 0.0% of data is Integral.  "
      ]
     },
     "execution_count": 105,
     "metadata": {},
     "output_type": "execute_result"
    }
   ],
   "source": [
    "violations_df"
   ]
  },
  {
   "cell_type": "markdown",
   "id": "438f0f52-484c-4600-98e6-ea85e03f4507",
   "metadata": {},
   "source": [
    "---"
   ]
  },
  {
   "cell_type": "markdown",
   "id": "ef2669f3-a09b-4ca8-9a17-a706239f16c4",
   "metadata": {},
   "source": [
    "## Part 2: Monitor model quality\n",
    "Model quality monitoring jobs monitor the performance of a model by comparing the predictions that the model makes with the actual ground truth labels that the model attempts to predict. To do this, model quality monitoring merges data that is captured from real-time inference with actual labels (ground truth labels) that you store in an Amazon S3 bucket, and then compares the predictions with the ground truth labels.\n",
    "\n",
    "Model quality monitoring follows the same steps as data quality monitoring, but adds an additional step of merging the ground truth labels from Amazon S3 with the predictions captured from the real-time inference endpoint.\n",
    "\n",
    "To monitor model quality, follow these steps:\n",
    "1. Enable [data capture](https://docs.aws.amazon.com/sagemaker/latest/dg/model-monitor-data-capture.html)\n",
    "1. [Create a baseline](https://docs.aws.amazon.com/sagemaker/latest/dg/model-monitor-model-quality-baseline.html). A baseline job compares predictions from the model with ground truth labels in a baseline dataset\n",
    "1. [Schedule monitoring jobs](https://docs.aws.amazon.com/sagemaker/latest/dg/model-monitor-model-quality-schedule.html)\n",
    "1. [Ingest ground truth labels](https://docs.aws.amazon.com/sagemaker/latest/dg/model-monitor-model-quality-merge.html) that model monitor merges with captured prediction data from real-time inference endpoint\n",
    "1. [Intepret the results](https://docs.aws.amazon.com/sagemaker/latest/dg/model-monitor-interpreting-results.html)\n",
    "1. [Integrate model quality monitoring](https://docs.aws.amazon.com/sagemaker/latest/dg/model-monitor-model-quality-cw.html) with Amazon CloudWatch and Amazon EventBridge\n",
    "\n",
    "![](img/model-monitoring-architecture.png)\n",
    "\n",
    "In the following sections you implement the model quality monitoring in this lab environment."
   ]
  },
  {
   "cell_type": "markdown",
   "id": "eb60e48d-2299-4538-9c5d-0a7d70d2d397",
   "metadata": {},
   "source": [
    "### Define helper functions\n",
    "Some helper functions for model quality monitoring setup."
   ]
  },
  {
   "cell_type": "code",
   "execution_count": 113,
   "id": "77eaeb16-580e-4bf2-bab2-2b0ee7ef9a43",
   "metadata": {
    "tags": []
   },
   "outputs": [],
   "source": [
    "def generate_ground_truth_with_id(inference_id):\n",
    "    # set random seed to get consistent results\n",
    "    random.seed(inference_id) \n",
    "    rand = random.random()\n",
    "    \n",
    "    # format required by the merge container.\n",
    "    return {\n",
    "        \"groundTruthData\": {\n",
    "            \"data\": \"0\" if rand < 0.5 else \"1\", #str(rand),\n",
    "            \"encoding\": \"CSV\",\n",
    "        },\n",
    "        \"eventMetadata\": {\n",
    "            \"eventId\": str(inference_id), # eventId must correlate with the eventId in the data capture file\n",
    "        },\n",
    "        \"eventVersion\": \"0\",\n",
    "    }"
   ]
  },
  {
   "cell_type": "code",
   "execution_count": 114,
   "id": "10f7761d-11f9-4d6c-8881-71739bbcb8f1",
   "metadata": {
    "tags": []
   },
   "outputs": [],
   "source": [
    "def upload_ground_truth(ground_truth_upload_s3_url, file_name, records, upload_time):\n",
    "    target_s3_uri = f\"{ground_truth_upload_s3_url}/{upload_time:%Y/%m/%d/%H}/{file_name}\"\n",
    "    number_of_records = len(records.split('\\n'))\n",
    "    print(f\"Uploading {number_of_records} records to {target_s3_uri}\")\n",
    "    \n",
    "    S3Uploader.upload_string_as_file_body(records, target_s3_uri)\n",
    "    \n",
    "    return target_s3_uri"
   ]
  },
  {
   "cell_type": "markdown",
   "id": "424b2e00-e78f-4240-9e2d-036eeda422c2",
   "metadata": {},
   "source": [
    "### Create a model quality monitor\n",
    "Use the Python SDK class [`ModelQualityMonitor`](https://sagemaker.readthedocs.io/en/stable/api/inference/model_monitor.html#sagemaker.model_monitor.model_monitoring.ModelQualityMonitor) to create a model quality monitor and interact with it:"
   ]
  },
  {
   "cell_type": "code",
   "execution_count": 115,
   "id": "de436c73-5f6e-462e-af0e-bf9b9888dbc3",
   "metadata": {
    "tags": []
   },
   "outputs": [
    {
     "data": {
      "text/html": [
       "<pre style=\"white-space:pre;overflow-x:auto;line-height:normal;font-family:Menlo,'DejaVu Sans Mono',consolas,'Courier New',monospace\"><span style=\"color: #7fbfbf; text-decoration-color: #7fbfbf\">[02/16/25 14:53:57] </span><span style=\"color: #0069ff; text-decoration-color: #0069ff; font-weight: bold\">INFO    </span> Ignoring unnecessary instance type: <span style=\"color: #e100e1; text-decoration-color: #e100e1; font-style: italic\">None</span>.                            <a href=\"file:///opt/conda/lib/python3.11/site-packages/sagemaker/image_uris.py\" target=\"_blank\"><span style=\"color: #7f7f7f; text-decoration-color: #7f7f7f\">image_uris.py</span></a><span style=\"color: #7f7f7f; text-decoration-color: #7f7f7f\">:</span><a href=\"file:///opt/conda/lib/python3.11/site-packages/sagemaker/image_uris.py#528\" target=\"_blank\"><span style=\"color: #7f7f7f; text-decoration-color: #7f7f7f\">528</span></a>\n",
       "</pre>\n"
      ],
      "text/plain": [
       "\u001b[2;36m[02/16/25 14:53:57]\u001b[0m\u001b[2;36m \u001b[0m\u001b[1;38;2;0;105;255mINFO    \u001b[0m Ignoring unnecessary instance type: \u001b[3;38;2;225;0;225mNone\u001b[0m.                            \u001b]8;id=305083;file:///opt/conda/lib/python3.11/site-packages/sagemaker/image_uris.py\u001b\\\u001b[2mimage_uris.py\u001b[0m\u001b]8;;\u001b\\\u001b[2m:\u001b[0m\u001b]8;id=624150;file:///opt/conda/lib/python3.11/site-packages/sagemaker/image_uris.py#528\u001b\\\u001b[2m528\u001b[0m\u001b]8;;\u001b\\\n"
      ]
     },
     "metadata": {},
     "output_type": "display_data"
    }
   ],
   "source": [
    "model_monitor = ModelQualityMonitor(\n",
    "    role=sm_role,\n",
    "    instance_count=1,\n",
    "    instance_type='ml.m5.xlarge',\n",
    "    volume_size_in_gb=20,\n",
    "    max_runtime_in_seconds=1800,\n",
    "    sagemaker_session=session\n",
    ")"
   ]
  },
  {
   "cell_type": "markdown",
   "id": "9cb71347-f441-4bcf-b992-ef175b147f8d",
   "metadata": {},
   "source": [
    "### Run a model quality baseline job\n",
    "Your model building pipeline in the [step 3](03-sagemaker-pipeline.ipynb) notebook saved the model predictions on the test dataset. Now you use the model monitor to establish a [model performance baseline](https://docs.aws.amazon.com/sagemaker/latest/dg/model-monitor-model-quality-baseline.html). The baseline dataset contains three columns with `predictions`, `probability`, and `label` values."
   ]
  },
  {
   "cell_type": "code",
   "execution_count": 116,
   "id": "24e53a69-7442-4ca4-ab9d-4284361e11e9",
   "metadata": {
    "tags": []
   },
   "outputs": [
    {
     "name": "stdout",
     "output_type": "stream",
     "text": [
      "                           PRE reports/\n",
      "                           PRE results/\n",
      "2025-02-12 06:58:25      63027 prediction_baseline.csv\n"
     ]
    }
   ],
   "source": [
    "!aws s3 ls {prediction_baseline_s3_url}/"
   ]
  },
  {
   "cell_type": "code",
   "execution_count": 117,
   "id": "46ac144f-2021-4c11-a700-78c0a0d4986d",
   "metadata": {
    "tags": []
   },
   "outputs": [],
   "source": [
    "prediction_baseline_results_s3_url = f\"{prediction_baseline_s3_url}/results\"\n",
    "model_mon_reports_s3_url = f\"{prediction_baseline_s3_url}/reports\"\n",
    "prediction_baseline_dataset_uri = f\"{prediction_baseline_s3_url}/prediction_baseline.csv\""
   ]
  },
  {
   "cell_type": "code",
   "execution_count": 118,
   "id": "bd45888f-ce36-4123-b2dd-0ad5b04af059",
   "metadata": {
    "tags": []
   },
   "outputs": [
    {
     "data": {
      "text/html": [
       "<pre style=\"white-space:pre;overflow-x:auto;line-height:normal;font-family:Menlo,'DejaVu Sans Mono',consolas,'Courier New',monospace\"><span style=\"color: #7fbfbf; text-decoration-color: #7fbfbf\">[02/16/25 14:54:01] </span><span style=\"color: #0069ff; text-decoration-color: #0069ff; font-weight: bold\">INFO    </span> Creating processing-job with name                                      <a href=\"file:///opt/conda/lib/python3.11/site-packages/sagemaker/session.py\" target=\"_blank\"><span style=\"color: #7f7f7f; text-decoration-color: #7f7f7f\">session.py</span></a><span style=\"color: #7f7f7f; text-decoration-color: #7f7f7f\">:</span><a href=\"file:///opt/conda/lib/python3.11/site-packages/sagemaker/session.py#1575\" target=\"_blank\"><span style=\"color: #7f7f7f; text-decoration-color: #7f7f7f\">1575</span></a>\n",
       "<span style=\"color: #7fbfbf; text-decoration-color: #7fbfbf\">                    </span>         from-idea-to-prod-model-baselining-<span style=\"color: #008080; text-decoration-color: #008080; font-weight: bold\">16</span>-<span style=\"color: #008080; text-decoration-color: #008080; font-weight: bold\">14</span>-<span style=\"color: #008080; text-decoration-color: #008080; font-weight: bold\">54</span>-<span style=\"color: #008080; text-decoration-color: #008080; font-weight: bold\">00</span>-686ddf96                <span style=\"color: #7f7f7f; text-decoration-color: #7f7f7f\">               </span>\n",
       "</pre>\n"
      ],
      "text/plain": [
       "\u001b[2;36m[02/16/25 14:54:01]\u001b[0m\u001b[2;36m \u001b[0m\u001b[1;38;2;0;105;255mINFO    \u001b[0m Creating processing-job with name                                      \u001b]8;id=889937;file:///opt/conda/lib/python3.11/site-packages/sagemaker/session.py\u001b\\\u001b[2msession.py\u001b[0m\u001b]8;;\u001b\\\u001b[2m:\u001b[0m\u001b]8;id=190844;file:///opt/conda/lib/python3.11/site-packages/sagemaker/session.py#1575\u001b\\\u001b[2m1575\u001b[0m\u001b]8;;\u001b\\\n",
       "\u001b[2;36m                    \u001b[0m         from-idea-to-prod-model-baselining-\u001b[1;36m16\u001b[0m-\u001b[1;36m14\u001b[0m-\u001b[1;36m54\u001b[0m-\u001b[1;36m00\u001b[0m-686ddf96                \u001b[2m               \u001b[0m\n"
      ]
     },
     "metadata": {},
     "output_type": "display_data"
    },
    {
     "name": "stdout",
     "output_type": "stream",
     "text": [
      "from-idea-to-prod-model-baselining-16-14-54-00-686ddf96\n"
     ]
    }
   ],
   "source": [
    "model_baseline_job_name = f\"from-idea-to-prod-model-baselining-{strftime('%d-%H-%M-%S', gmtime())}-{str(uuid.uuid4())[:8]}\"\n",
    "\n",
    "model_baseline_job = model_monitor.suggest_baseline(\n",
    "    baseline_dataset=prediction_baseline_dataset_uri,\n",
    "    dataset_format=DatasetFormat.csv(header=True),\n",
    "    output_s3_uri = prediction_baseline_results_s3_url, \n",
    "    problem_type=\"BinaryClassification\",\n",
    "    inference_attribute= \"prediction\", # The column in the dataset that contains predictions\n",
    "    probability_attribute= \"probability\", # The column in the dataset that contains probabilities\n",
    "    ground_truth_attribute= \"label\", # The column in the dataset that contains ground truth labels\n",
    "    job_name=model_baseline_job_name,\n",
    ")\n",
    "\n",
    "print(model_baseline_job_name)"
   ]
  },
  {
   "cell_type": "markdown",
   "id": "60e4afe1",
   "metadata": {},
   "source": [
    "<img src=\"data:image/svg+xml;base64,Cjxzdmcgd2lkdGg9IjgwMCIgaGVpZ2h0PSIxMjUiIHZpZXdCb3g9IjAgMCA4MDAgMTI1IiB4bWxucz0iaHR0cDovL3d3dy53My5vcmcvMjAwMC9zdmciPgogICAgPGRlZnM+CiAgICAgICAgPGxpbmVhckdyYWRpZW50IGlkPSJmYWRlR3JhZGllbnQiIHgxPSIwIiB4Mj0iMSI+CiAgICAgICAgICAgIDxzdG9wIG9mZnNldD0iMCUiIHN0b3AtY29sb3I9IiNGMEYwRjAiLz4KICAgICAgICAgICAgPHN0b3Agb2Zmc2V0PSIxMDAlIiBzdG9wLWNvbG9yPSIjRjBGMEYwIiBzdG9wLW9wYWNpdHk9IjAiLz4KICAgICAgICA8L2xpbmVhckdyYWRpZW50PgogICAgICAgIDxtYXNrIGlkPSJmYWRlTWFzayI+CiAgICAgICAgICAgIDxyZWN0IHg9IjAiIHk9IjAiIHdpZHRoPSI3NTAiIGhlaWdodD0iMTI1IiBmaWxsPSJ3aGl0ZSIvPgogICAgICAgICAgICA8cmVjdCB4PSI3NTAiIHk9IjAiIHdpZHRoPSI1MCIgaGVpZ2h0PSIxMjUiIGZpbGw9InVybCgjZmFkZUdyYWRpZW50KSIvPgogICAgICAgIDwvbWFzaz4KICAgIDwvZGVmcz4KICAgIDxwYXRoIGQ9Ik0zLDUwIEE1MCw1MCAwIDAgMSA1MywzIEw3OTcsMyBMNzk3LDk3IEw5Nyw5NyBMNTAsMTE1IEwzLDk3IFoiIGZpbGw9IiNGMEYwRjAiIHN0cm9rZT0iI0UwRTBFMCIgc3Ryb2tlLXdpZHRoPSIxIiBtYXNrPSJ1cmwoI2ZhZGVNYXNrKSIvPgogICAgPGNpcmNsZSBjeD0iNTAiIGN5PSI1MCIgcj0iMzAiIGZpbGw9IiM1N2M0ZjgiIHN0cm9rZT0iIzU3YzRmOCIgc3Ryb2tlLXdpZHRoPSIxIi8+CiAgICA8Y2lyY2xlIGN4PSI1MCIgY3k9IjUwIiByPSIyNSIgZmlsbD0iI0YwRjBGMCIvPgogICAgPGxpbmUgeDE9IjUwIiB5MT0iNTAiIHgyPSI1MCIgeTI9IjMwIiBzdHJva2U9IiM1N2M0ZjgiIHN0cm9rZS13aWR0aD0iMyIgc3Ryb2tlLWxpbmVjYXA9InJvdW5kIi8+CiAgICA8bGluZSB4MT0iNTAiIHkxPSI1MCIgeDI9IjY1IiB5Mj0iNTAiIHN0cm9rZT0iIzU3YzRmOCIgc3Ryb2tlLXdpZHRoPSIzIiBzdHJva2UtbGluZWNhcD0icm91bmQiLz4KICAgIDx0ZXh0IHg9IjEwMCIgeT0iMzQiIGZvbnQtZmFtaWx5PSJBcmlhbCwgc2Fucy1zZXJpZiIgZm9udC1zaXplPSIxNCIgZmlsbD0iIzMzMzMzMyI+VGhlIG5leHQgY2VsbCBtYXkgdGFrZSBhIGZldyBtaW51dGVzIHRvIHJ1bi48L3RleHQ+Cjwvc3ZnPgo=\" alt=\"Time alert open medium\"/>"
   ]
  },
  {
   "cell_type": "code",
   "execution_count": 119,
   "id": "baa07041-8a17-4119-9e0e-eb01d292f5bc",
   "metadata": {
    "tags": []
   },
   "outputs": [
    {
     "name": "stdout",
     "output_type": "stream",
     "text": [
      "...........................................................!"
     ]
    }
   ],
   "source": [
    "model_baseline_job.wait(logs=False)"
   ]
  },
  {
   "cell_type": "markdown",
   "id": "cb7e286c",
   "metadata": {},
   "source": [
    "<img src=\"data:image/svg+xml;base64,Cjxzdmcgd2lkdGg9IjgwMCIgaGVpZ2h0PSI1MCIgdmlld0JveD0iMCAwIDgwMCA1MCIgeG1sbnM9Imh0dHA6Ly93d3cudzMub3JnLzIwMDAvc3ZnIj4KICAgIDxkZWZzPgogICAgICAgIDxsaW5lYXJHcmFkaWVudCBpZD0iZmFkZUdyYWRpZW50IiB4MT0iMCIgeDI9IjEiPgogICAgICAgICAgICA8c3RvcCBvZmZzZXQ9IjAlIiBzdG9wLWNvbG9yPSIjRjBGMEYwIi8+CiAgICAgICAgICAgIDxzdG9wIG9mZnNldD0iMTAwJSIgc3RvcC1jb2xvcj0iI0YwRjBGMCIgc3RvcC1vcGFjaXR5PSIwIi8+CiAgICAgICAgPC9saW5lYXJHcmFkaWVudD4KICAgICAgICA8bWFzayBpZD0iZmFkZU1hc2siPgogICAgICAgICAgICA8cmVjdCB4PSIwIiB5PSIwIiB3aWR0aD0iNzUwIiBoZWlnaHQ9IjUwIiBmaWxsPSJ3aGl0ZSIvPgogICAgICAgICAgICA8cmVjdCB4PSI3NTAiIHk9IjAiIHdpZHRoPSI1MCIgaGVpZ2h0PSI1MCIgZmlsbD0idXJsKCNmYWRlR3JhZGllbnQpIi8+CiAgICAgICAgPC9tYXNrPgogICAgPC9kZWZzPgogICAgPHBhdGggZD0iTTI1LDUwIFEwLDUwIDAsMjUgTDUwLDMgTDk3LDI1IEw3OTcsMjUgTDc5Nyw1MCBMMjUsNTAgWiIgZmlsbD0iI0YwRjBGMCIgc3Ryb2tlPSIjRTBFMEUwIiBzdHJva2Utd2lkdGg9IjEiIG1hc2s9InVybCgjZmFkZU1hc2spIi8+Cjwvc3ZnPgo=\" alt=\"Time alert close\"/>"
   ]
  },
  {
   "cell_type": "markdown",
   "id": "8e523654-e418-471f-a1ef-792c8b5c2c65",
   "metadata": {},
   "source": [
    "### Inspect the generated baseline statistics and constraints\n"
   ]
  },
  {
   "cell_type": "code",
   "execution_count": 121,
   "id": "822be080-92db-4bc9-8d44-1f0fc5de7c74",
   "metadata": {
    "tags": []
   },
   "outputs": [
    {
     "name": "stdout",
     "output_type": "stream",
     "text": [
      "2025-02-16 14:57:22       1372 constraints.json\n",
      "2025-02-16 14:57:22      78532 statistics.json\n"
     ]
    }
   ],
   "source": [
    "!aws s3 ls {prediction_baseline_results_s3_url}/"
   ]
  },
  {
   "cell_type": "code",
   "execution_count": 122,
   "id": "a574b321-d852-4fc0-a365-50d467df4ab3",
   "metadata": {
    "tags": []
   },
   "outputs": [
    {
     "data": {
      "text/html": [
       "<div>\n",
       "<style scoped>\n",
       "    .dataframe tbody tr th:only-of-type {\n",
       "        vertical-align: middle;\n",
       "    }\n",
       "\n",
       "    .dataframe tbody tr th {\n",
       "        vertical-align: top;\n",
       "    }\n",
       "\n",
       "    .dataframe thead th {\n",
       "        text-align: right;\n",
       "    }\n",
       "</style>\n",
       "<table border=\"1\" class=\"dataframe\">\n",
       "  <thead>\n",
       "    <tr style=\"text-align: right;\">\n",
       "      <th></th>\n",
       "      <th>threshold</th>\n",
       "      <th>comparison_operator</th>\n",
       "    </tr>\n",
       "  </thead>\n",
       "  <tbody>\n",
       "    <tr>\n",
       "      <th>recall</th>\n",
       "      <td>0.222917</td>\n",
       "      <td>LessThanThreshold</td>\n",
       "    </tr>\n",
       "    <tr>\n",
       "      <th>precision</th>\n",
       "      <td>0.644578</td>\n",
       "      <td>LessThanThreshold</td>\n",
       "    </tr>\n",
       "    <tr>\n",
       "      <th>accuracy</th>\n",
       "      <td>0.89512</td>\n",
       "      <td>LessThanThreshold</td>\n",
       "    </tr>\n",
       "    <tr>\n",
       "      <th>true_positive_rate</th>\n",
       "      <td>0.222917</td>\n",
       "      <td>LessThanThreshold</td>\n",
       "    </tr>\n",
       "    <tr>\n",
       "      <th>true_negative_rate</th>\n",
       "      <td>0.983787</td>\n",
       "      <td>LessThanThreshold</td>\n",
       "    </tr>\n",
       "    <tr>\n",
       "      <th>false_positive_rate</th>\n",
       "      <td>0.016213</td>\n",
       "      <td>GreaterThanThreshold</td>\n",
       "    </tr>\n",
       "    <tr>\n",
       "      <th>false_negative_rate</th>\n",
       "      <td>0.777083</td>\n",
       "      <td>GreaterThanThreshold</td>\n",
       "    </tr>\n",
       "    <tr>\n",
       "      <th>auc</th>\n",
       "      <td>0.772685</td>\n",
       "      <td>LessThanThreshold</td>\n",
       "    </tr>\n",
       "    <tr>\n",
       "      <th>f0_5</th>\n",
       "      <td>0.467657</td>\n",
       "      <td>LessThanThreshold</td>\n",
       "    </tr>\n",
       "    <tr>\n",
       "      <th>f1</th>\n",
       "      <td>0.331269</td>\n",
       "      <td>LessThanThreshold</td>\n",
       "    </tr>\n",
       "    <tr>\n",
       "      <th>f2</th>\n",
       "      <td>0.256472</td>\n",
       "      <td>LessThanThreshold</td>\n",
       "    </tr>\n",
       "  </tbody>\n",
       "</table>\n",
       "</div>"
      ],
      "text/plain": [
       "                    threshold   comparison_operator\n",
       "recall               0.222917     LessThanThreshold\n",
       "precision            0.644578     LessThanThreshold\n",
       "accuracy              0.89512     LessThanThreshold\n",
       "true_positive_rate   0.222917     LessThanThreshold\n",
       "true_negative_rate   0.983787     LessThanThreshold\n",
       "false_positive_rate  0.016213  GreaterThanThreshold\n",
       "false_negative_rate  0.777083  GreaterThanThreshold\n",
       "auc                  0.772685     LessThanThreshold\n",
       "f0_5                 0.467657     LessThanThreshold\n",
       "f1                   0.331269     LessThanThreshold\n",
       "f2                   0.256472     LessThanThreshold"
      ]
     },
     "execution_count": 122,
     "metadata": {},
     "output_type": "execute_result"
    }
   ],
   "source": [
    "latest_model_baseline_job = model_monitor.latest_baselining_job\n",
    "pd.DataFrame(latest_model_baseline_job.suggested_constraints().body_dict[\"binary_classification_constraints\"]).T"
   ]
  },
  {
   "cell_type": "code",
   "execution_count": 123,
   "id": "33693b7a-1939-43aa-b386-68f8e6fb4001",
   "metadata": {
    "tags": []
   },
   "outputs": [
    {
     "data": {
      "text/html": [
       "<div>\n",
       "<style scoped>\n",
       "    .dataframe tbody tr th:only-of-type {\n",
       "        vertical-align: middle;\n",
       "    }\n",
       "\n",
       "    .dataframe tbody tr th {\n",
       "        vertical-align: top;\n",
       "    }\n",
       "\n",
       "    .dataframe thead th {\n",
       "        text-align: right;\n",
       "    }\n",
       "</style>\n",
       "<table border=\"1\" class=\"dataframe\">\n",
       "  <thead>\n",
       "    <tr style=\"text-align: right;\">\n",
       "      <th></th>\n",
       "      <th>0</th>\n",
       "      <th>1</th>\n",
       "    </tr>\n",
       "  </thead>\n",
       "  <tbody>\n",
       "    <tr>\n",
       "      <th>0</th>\n",
       "      <td>3580</td>\n",
       "      <td>373</td>\n",
       "    </tr>\n",
       "    <tr>\n",
       "      <th>1</th>\n",
       "      <td>59</td>\n",
       "      <td>107</td>\n",
       "    </tr>\n",
       "  </tbody>\n",
       "</table>\n",
       "</div>"
      ],
      "text/plain": [
       "      0    1\n",
       "0  3580  373\n",
       "1    59  107"
      ]
     },
     "execution_count": 123,
     "metadata": {},
     "output_type": "execute_result"
    }
   ],
   "source": [
    "pd.DataFrame(latest_model_baseline_job.baseline_statistics().body_dict[\"binary_classification_metrics\"][\"confusion_matrix\"])"
   ]
  },
  {
   "cell_type": "code",
   "execution_count": null,
   "id": "357a3234-3711-498b-a6f1-41c5e75a6f16",
   "metadata": {
    "tags": []
   },
   "outputs": [],
   "source": [
    "pd.json_normalize(latest_model_baseline_job.baseline_statistics().body_dict[\"binary_classification_metrics\"]).T"
   ]
  },
  {
   "cell_type": "markdown",
   "id": "684e7f90-9d9a-4f56-a2f2-53fdd20dd7db",
   "metadata": {
    "tags": []
   },
   "source": [
    "### Generate endpoint traffic\n",
    "Generate synthetic traffic to the endpoint to capture inference input and output."
   ]
  },
  {
   "cell_type": "code",
   "execution_count": 125,
   "id": "a2264390-6e98-49bd-b6cb-c44a1b537543",
   "metadata": {
    "tags": []
   },
   "outputs": [
    {
     "name": "stdout",
     "output_type": "stream",
     "text": [
      "Found 3 files in s3://sagemaker-project-p-ca7phmcraepa/datacapture-prod\n",
      "Latest data capture S3 url: s3://sagemaker-project-p-ca7phmcraepa/datacapture-prod/mlops-02-14-11-03-33-prod/AllTraffic/2025/02/16/11\n"
     ]
    }
   ],
   "source": [
    "# Remove previous data capture saved to the S3 bucket\n",
    "latest_data_capture_s3_url = get_latest_data_capture_s3_url(data_capture_bucket, data_capture_prefix)"
   ]
  },
  {
   "cell_type": "code",
   "execution_count": 126,
   "id": "90f61c9b-930f-4386-a19e-79aeb05a84d6",
   "metadata": {
    "tags": []
   },
   "outputs": [],
   "source": [
    "# If you run this notebook not the first time, there might be some data capture files from the previous runs\n",
    "# We recommend to delete all existing files under the data capture S3 path to avoid any inconsistences\n",
    "# Uncomment and run the following line to delete all files under the data capture S3 path\n",
    "\n",
    "# !aws s3 rm {latest_data_capture_s3_url} --recursive"
   ]
  },
  {
   "cell_type": "code",
   "execution_count": 127,
   "id": "9c7a800a-2ade-4351-853b-f664e548380d",
   "metadata": {
    "tags": []
   },
   "outputs": [
    {
     "data": {
      "text/plain": [
       "(100, 59)"
      ]
     },
     "execution_count": 127,
     "metadata": {},
     "output_type": "execute_result"
    }
   ],
   "source": [
    "test_x.shape"
   ]
  },
  {
   "cell_type": "code",
   "execution_count": 128,
   "id": "e2f37968-40d3-4cbb-a385-b6584b0b4292",
   "metadata": {
    "tags": []
   },
   "outputs": [
    {
     "name": "stderr",
     "output_type": "stream",
     "text": [
      "100%|██████████| 100/100 [00:00<00:00, 100.50it/s]\n"
     ]
    }
   ],
   "source": [
    "generate_endpoint_traffic(predictor, test_x)"
   ]
  },
  {
   "cell_type": "markdown",
   "id": "f7f40678-d789-465c-9203-3e820712b8c6",
   "metadata": {},
   "source": [
    "Wait until captured data appears in the Amazon S3 bucket, it may take several minutes. The capture data is delivered to the Amazon S3 prefix `{data-capture-prefix}/{EndpointName}/{VariantName}/{year}/{month}/{day}/{UTC hour}`."
   ]
  },
  {
   "cell_type": "code",
   "execution_count": 131,
   "id": "f1cf1d60-12af-45e4-8f46-4a43900e9438",
   "metadata": {
    "tags": []
   },
   "outputs": [
    {
     "name": "stdout",
     "output_type": "stream",
     "text": [
      "2025-02-15 21:30:29      34074 datacapture-prod/mlops-02-14-11-03-33-prod/AllTraffic/2025/02/15/21/29-20-227-06f6a337-a6ae-419f-9af0-be9a6cdc54a6.jsonl\n",
      "2025-02-15 21:53:39      39429 datacapture-prod/mlops-02-14-11-03-33-prod/AllTraffic/2025/02/15/21/52-33-432-72237081-a8ae-45ba-ae6d-320adab0a782.jsonl\n",
      "2025-02-16 11:20:09      34051 datacapture-prod/mlops-02-14-11-03-33-prod/AllTraffic/2025/02/16/11/19-01-920-70f9078e-1765-4c8f-9f9c-1845bd3e6de4.jsonl\n",
      "2025-02-16 15:01:49      37480 datacapture-prod/mlops-02-14-11-03-33-prod/AllTraffic/2025/02/16/15/00-44-130-fcebff3a-f559-47ea-beeb-98c6a0155f8a.jsonl\n"
     ]
    }
   ],
   "source": [
    "!aws s3 ls {data_capture_s3_url} --recursive"
   ]
  },
  {
   "cell_type": "markdown",
   "id": "70d39787-cad6-4939-be12-230e3100bc6a",
   "metadata": {},
   "source": [
    "### Ingest ground truth data\n",
    "<div class=\"alert alert-info\"> 💡 <strong> Run this section only after the capture data from the latest endpoint invocations has appeared in the Amazon S3 bucket. The capture data is organized based on the UTC hour in which the invocation happened.</strong>\n",
    "</div>\n",
    "\n",
    "For model monitoring you must have ground truths labels that the model monitor merges with captured inference data from the endpoint.\n",
    "\n",
    "In this lab environment you generate synthetic ground truth data to use with the model quality monitoring. In a real-time project you need to implement a workflow to produce and store the ground truth labels to evaluate the quality of the model predictions.\n",
    "\n",
    "The following code cells generate and save synthetic ground truth labels for all inference records in the latest capture data files."
   ]
  },
  {
   "cell_type": "code",
   "execution_count": 132,
   "id": "01919bfe-55e4-4c0f-b1bd-343f61b0454e",
   "metadata": {
    "tags": []
   },
   "outputs": [
    {
     "data": {
      "text/plain": [
       "'s3://sagemaker-project-p-ca7phmcraepa/ground_truth_data/mlops-02-14-11-03-33-prod/AllTraffic'"
      ]
     },
     "execution_count": 132,
     "metadata": {},
     "output_type": "execute_result"
    }
   ],
   "source": [
    "# Set the S3 url where to store the ground truth labels\n",
    "variant_name = sm.describe_endpoint(EndpointName=predictor.endpoint_name)[\"ProductionVariants\"][0][\"VariantName\"]\n",
    "ground_truth_upload_s3_url = f\"s3://{data_capture_bucket}/ground_truth_data/{predictor.endpoint_name}/{variant_name}\"\n",
    "ground_truth_upload_s3_url"
   ]
  },
  {
   "cell_type": "code",
   "execution_count": 133,
   "id": "bd62a82a-248d-48f5-a500-501cd89d1929",
   "metadata": {
    "tags": []
   },
   "outputs": [
    {
     "name": "stdout",
     "output_type": "stream",
     "text": [
      "Found 4 files in s3://sagemaker-project-p-ca7phmcraepa/datacapture-prod\n",
      "Latest data capture S3 url: s3://sagemaker-project-p-ca7phmcraepa/datacapture-prod/mlops-02-14-11-03-33-prod/AllTraffic/2025/02/16/15\n"
     ]
    }
   ],
   "source": [
    "# Get the S3 prefix where the latest capture data has been delivered\n",
    "latest_data_capture_s3_url = get_latest_data_capture_s3_url(data_capture_bucket, data_capture_prefix)\n",
    "latest_data_capture_prefix = '/'.join(latest_data_capture_s3_url.split('/')[3:])"
   ]
  },
  {
   "cell_type": "code",
   "execution_count": 134,
   "id": "8421cde5-a756-4549-a4bb-79b5b8eeb78f",
   "metadata": {
    "tags": []
   },
   "outputs": [
    {
     "name": "stdout",
     "output_type": "stream",
     "text": [
      "Found 1 files in s3://sagemaker-project-p-ca7phmcraepa/datacapture-prod/mlops-02-14-11-03-33-prod/AllTraffic/2025/02/16/15\n",
      "Downloading datacapture-prod/mlops-02-14-11-03-33-prod/AllTraffic/2025/02/16/15/00-44-130-fcebff3a-f559-47ea-beeb-98c6a0155f8a.jsonl\n",
      "Reading inference ids from the file: ./tmp/00-44-130-fcebff3a-f559-47ea-beeb-98c6a0155f8a.jsonl\n",
      "Uploading 77 records to s3://sagemaker-project-p-ca7phmcraepa/ground_truth_data/mlops-02-14-11-03-33-prod/AllTraffic/2025/02/16/15/gt-00-44-130-fcebff3a-f559-47ea-beeb-98c6a0155f8a.jsonl\n"
     ]
    }
   ],
   "source": [
    "# Get the list of capture data file prefixes in the latest capture data location\n",
    "capture_files = get_file_list(data_capture_bucket, latest_data_capture_prefix)\n",
    "\n",
    "assert capture_files, f\"No capture data files found in {latest_data_capture_prefix}. Generate endpoint traffic and wait until capture data appears in the bucket!\"\n",
    "\n",
    "# For each capture data file get the eventIds and generate correlated ground truth labels\n",
    "for f in capture_files:\n",
    "    f_name = f.split('/')[-1]\n",
    "    \n",
    "    print(f\"Downloading {f}\")\n",
    "    S3Downloader.download(f\"s3://{data_capture_bucket}/{f}\", \"./tmp\")\n",
    "    \n",
    "    print(f\"Reading inference ids from the file: ./tmp/{f_name}\")\n",
    "    with jsonlines.open(f\"./tmp/{f_name}\") as reader: \n",
    "        ground_truth_records = \"\\n\".join([\n",
    "            json.dumps(r) for r in [generate_ground_truth_with_id(l[\"eventMetadata\"][\"eventId\"]) for l in reader]\n",
    "        ])\n",
    "    lastest_ground_truth_s3_uri = upload_ground_truth(ground_truth_upload_s3_url, f\"gt-{f_name}\", ground_truth_records, datetime.utcnow())"
   ]
  },
  {
   "cell_type": "code",
   "execution_count": 135,
   "id": "499403b3-a5bc-4983-9fbc-3c60a39e3c8f",
   "metadata": {
    "tags": []
   },
   "outputs": [
    {
     "name": "stdout",
     "output_type": "stream",
     "text": [
      "2025-02-16 15:02:13      11164 ground_truth_data/mlops-02-14-11-03-33-prod/AllTraffic/2025/02/16/15/gt-00-44-130-fcebff3a-f559-47ea-beeb-98c6a0155f8a.jsonl\n"
     ]
    }
   ],
   "source": [
    "# List uploaded ground truth files\n",
    "!aws s3 ls {ground_truth_upload_s3_url} --recursive"
   ]
  },
  {
   "cell_type": "markdown",
   "id": "9e8011e9-76b6-4cda-8b33-8e04acaf29b8",
   "metadata": {},
   "source": [
    "Download the last ingested ground truth data file and see it's content:"
   ]
  },
  {
   "cell_type": "code",
   "execution_count": 136,
   "id": "8e22dc2f-625a-40ac-a064-7cc51dfe928d",
   "metadata": {
    "tags": []
   },
   "outputs": [
    {
     "name": "stdout",
     "output_type": "stream",
     "text": [
      "download: s3://sagemaker-project-p-ca7phmcraepa/ground_truth_data/mlops-02-14-11-03-33-prod/AllTraffic/2025/02/16/15/gt-00-44-130-fcebff3a-f559-47ea-beeb-98c6a0155f8a.jsonl to tmp/groundtruth.jsonl\n"
     ]
    }
   ],
   "source": [
    "# Download the last ground truth file to Studio's EFS\n",
    "!aws s3 cp {lastest_ground_truth_s3_uri} ./tmp/groundtruth.jsonl"
   ]
  },
  {
   "cell_type": "code",
   "execution_count": 137,
   "id": "5d2036e2-1722-4932-bf8f-d57af9650549",
   "metadata": {
    "tags": []
   },
   "outputs": [
    {
     "name": "stdout",
     "output_type": "stream",
     "text": [
      "{\"groundTruthData\": {\"data\": \"0\", \"encoding\": \"CSV\"}, \"eventMetadata\": {\"eventId\": \"88fdfecc-1a1a-4de9-b58e-70ce95a69c39\"}, \"eventVersion\": \"0\"}\n",
      "{\"groundTruthData\": {\"data\": \"0\", \"encoding\": \"CSV\"}, \"eventMetadata\": {\"eventId\": \"73a04cf8-1912-4559-8e5f-785dd7a58c4a\"}, \"eventVersion\": \"0\"}\n",
      "{\"groundTruthData\": {\"data\": \"0\", \"encoding\": \"CSV\"}, \"eventMetadata\": {\"eventId\": \"95b329ea-1729-4fbb-b455-9df943190b4f\"}, \"eventVersion\": \"0\"}\n",
      "{\"groundTruthData\": {\"data\": \"0\", \"encoding\": \"CSV\"}, \"eventMetadata\": {\"eventId\": \"dbb1d621-4404-48a2-ac79-7057594cdbc5\"}, \"eventVersion\": \"0\"}\n",
      "{\"groundTruthData\": {\"data\": \"0\", \"encoding\": \"CSV\"}, \"eventMetadata\": {\"eventId\": \"6dde1030-eb16-4621-b540-e4d85fb6e4f5\"}, \"eventVersion\": \"0\"}\n",
      "{\"groundTruthData\": {\"data\": \"1\", \"encoding\": \"CSV\"}, \"eventMetadata\": {\"eventId\": \"649df323-dc0d-480b-8c72-8be8faa81ba7\"}, \"eventVersion\": \"0\"}\n",
      "{\"groundTruthData\": {\"data\": \"0\", \"encoding\": \"CSV\"}, \"eventMetadata\": {\"eventId\": \"76f842be-14a8-4a3b-a850-d7eaa722b9ba\"}, \"eventVersion\": \"0\"}\n",
      "{\"groundTruthData\": {\"data\": \"0\", \"encoding\": \"CSV\"}, \"eventMetadata\": {\"eventId\": \"2b546c72-7f47-4c23-a581-5611f8ae34ae\"}, \"eventVersion\": \"0\"}\n",
      "{\"groundTruthData\": {\"data\": \"1\", \"encoding\": \"CSV\"}, \"eventMetadata\": {\"eventId\": \"6f7424cd-27b7-43b6-973a-d120a2c16b7d\"}, \"eventVersion\": \"0\"}\n",
      "{\"groundTruthData\": {\"data\": \"1\", \"encoding\": \"CSV\"}, \"eventMetadata\": {\"eventId\": \"bc8e7df6-4b33-48f5-a661-b50cbf8ca447\"}, \"eventVersion\": \"0\"}\n"
     ]
    }
   ],
   "source": [
    "!head ./tmp/groundtruth.jsonl"
   ]
  },
  {
   "cell_type": "markdown",
   "id": "45ff543f-4d49-47e5-9138-fe69ef775b5c",
   "metadata": {},
   "source": [
    "### Create a model monitoring schedule\n",
    "Now after you have the capture data and the ground truth data, you can create a model monitoring schedule.\n",
    "Use [`create_monitoring_schedule()`](https://sagemaker.readthedocs.io/en/stable/api/inference/model_monitor.html#sagemaker.model_monitor.model_monitoring.ModelQualityMonitor.create_monitoring_schedule) method of the `ModelQualityMonitor` class to create a model quality monitoring schedule."
   ]
  },
  {
   "cell_type": "code",
   "execution_count": 138,
   "id": "df813eb3-1ad0-4e41-97ad-f8021128f856",
   "metadata": {
    "tags": []
   },
   "outputs": [],
   "source": [
    "endpoint_input = EndpointInput(\n",
    "    endpoint_name=predictor.endpoint_name,\n",
    "    probability_attribute=\"0\",\n",
    "    probability_threshold_attribute=0.5,\n",
    "    destination=\"/opt/ml/processing/input_data\",\n",
    ")"
   ]
  },
  {
   "cell_type": "code",
   "execution_count": 139,
   "id": "c5fbed44-580e-4997-afe9-7f1c5635bb99",
   "metadata": {
    "tags": []
   },
   "outputs": [
    {
     "data": {
      "text/html": [
       "<pre style=\"white-space:pre;overflow-x:auto;line-height:normal;font-family:Menlo,'DejaVu Sans Mono',consolas,'Courier New',monospace\"><span style=\"color: #7fbfbf; text-decoration-color: #7fbfbf\">[02/16/25 15:02:28] </span><span style=\"color: #0069ff; text-decoration-color: #0069ff; font-weight: bold\">INFO    </span> Creating Monitoring Schedule with name:                       <a href=\"file:///opt/conda/lib/python3.11/site-packages/sagemaker/model_monitor/model_monitoring.py\" target=\"_blank\"><span style=\"color: #7f7f7f; text-decoration-color: #7f7f7f\">model_monitoring.py</span></a><span style=\"color: #7f7f7f; text-decoration-color: #7f7f7f\">:</span><a href=\"file:///opt/conda/lib/python3.11/site-packages/sagemaker/model_monitor/model_monitoring.py#1560\" target=\"_blank\"><span style=\"color: #7f7f7f; text-decoration-color: #7f7f7f\">1560</span></a>\n",
       "<span style=\"color: #7fbfbf; text-decoration-color: #7fbfbf\">                    </span>         from-idea-to-prod-model-monitor-schedule-<span style=\"color: #008080; text-decoration-color: #008080; font-weight: bold\">2025</span>-<span style=\"color: #008080; text-decoration-color: #008080; font-weight: bold\">02</span>-<span style=\"color: #008080; text-decoration-color: #008080; font-weight: bold\">16</span>-<span style=\"color: #008080; text-decoration-color: #008080; font-weight: bold\">15</span>-<span style=\"color: #008080; text-decoration-color: #008080; font-weight: bold\">02</span>-<span style=\"color: #008080; text-decoration-color: #008080; font-weight: bold\">27</span>  <span style=\"color: #7f7f7f; text-decoration-color: #7f7f7f\">                        </span>\n",
       "</pre>\n"
      ],
      "text/plain": [
       "\u001b[2;36m[02/16/25 15:02:28]\u001b[0m\u001b[2;36m \u001b[0m\u001b[1;38;2;0;105;255mINFO    \u001b[0m Creating Monitoring Schedule with name:                       \u001b]8;id=185324;file:///opt/conda/lib/python3.11/site-packages/sagemaker/model_monitor/model_monitoring.py\u001b\\\u001b[2mmodel_monitoring.py\u001b[0m\u001b]8;;\u001b\\\u001b[2m:\u001b[0m\u001b]8;id=139315;file:///opt/conda/lib/python3.11/site-packages/sagemaker/model_monitor/model_monitoring.py#1560\u001b\\\u001b[2m1560\u001b[0m\u001b]8;;\u001b\\\n",
       "\u001b[2;36m                    \u001b[0m         from-idea-to-prod-model-monitor-schedule-\u001b[1;36m2025\u001b[0m-\u001b[1;36m02\u001b[0m-\u001b[1;36m16\u001b[0m-\u001b[1;36m15\u001b[0m-\u001b[1;36m02\u001b[0m-\u001b[1;36m27\u001b[0m  \u001b[2m                        \u001b[0m\n"
      ]
     },
     "metadata": {},
     "output_type": "display_data"
    }
   ],
   "source": [
    "model_mon_schedule_name = \"from-idea-to-prod-model-monitor-schedule-\" + strftime(\n",
    "    \"%Y-%m-%d-%H-%M-%S\", gmtime()\n",
    ")\n",
    "\n",
    "model_monitor.create_monitoring_schedule(\n",
    "    monitor_schedule_name=model_mon_schedule_name,\n",
    "    endpoint_input=endpoint_input,\n",
    "    problem_type=\"BinaryClassification\",\n",
    "    # record_preprocessor_script=f\"{record_preprocessor_s3_url}/record_preprocessor.py\",\n",
    "    # post_analytics_processor_script=s3_code_postprocessor_uri,\n",
    "    output_s3_uri=model_mon_reports_s3_url,\n",
    "    ground_truth_input=ground_truth_upload_s3_url,\n",
    "    constraints=model_monitor.suggested_constraints() if model_monitor.latest_baselining_job else f\"{prediction_baseline_results_s3_url}/constraints.json\",\n",
    "    schedule_cron_expression=CronExpressionGenerator.hourly(),\n",
    "    enable_cloudwatch_metrics=True,\n",
    ")"
   ]
  },
  {
   "cell_type": "code",
   "execution_count": 140,
   "id": "d1c54675-c6d7-4d05-bd5c-d430489ce799",
   "metadata": {
    "tags": []
   },
   "outputs": [
    {
     "name": "stdout",
     "output_type": "stream",
     "text": [
      "Waiting until model monitoring status becomes Scheduled\n",
      "Waiting until model monitoring status becomes Scheduled\n",
      "Waiting until model monitoring status becomes Scheduled\n",
      "Waiting until model monitoring status becomes Scheduled\n"
     ]
    },
    {
     "data": {
      "text/plain": [
       "{'MonitoringScheduleArn': 'arn:aws:sagemaker:us-east-1:906545278380:monitoring-schedule/from-idea-to-prod-model-monitor-schedule-2025-02-16-15-02-27',\n",
       " 'MonitoringScheduleName': 'from-idea-to-prod-model-monitor-schedule-2025-02-16-15-02-27',\n",
       " 'MonitoringScheduleStatus': 'Scheduled',\n",
       " 'MonitoringType': 'ModelQuality',\n",
       " 'CreationTime': datetime.datetime(2025, 2, 16, 15, 2, 28, 889000, tzinfo=tzlocal()),\n",
       " 'LastModifiedTime': datetime.datetime(2025, 2, 16, 15, 2, 39, 978000, tzinfo=tzlocal()),\n",
       " 'MonitoringScheduleConfig': {'ScheduleConfig': {'ScheduleExpression': 'cron(0 * ? * * *)'},\n",
       "  'MonitoringJobDefinitionName': 'model-quality-job-definition-2025-02-16-15-02-28-074',\n",
       "  'MonitoringType': 'ModelQuality'},\n",
       " 'EndpointName': 'mlops-02-14-11-03-33-prod',\n",
       " 'ResponseMetadata': {'RequestId': 'cdf7ee1d-8deb-4cb1-ae7a-2c1f176fef64',\n",
       "  'HTTPStatusCode': 200,\n",
       "  'HTTPHeaders': {'x-amzn-requestid': 'cdf7ee1d-8deb-4cb1-ae7a-2c1f176fef64',\n",
       "   'content-type': 'application/x-amz-json-1.1',\n",
       "   'content-length': '625',\n",
       "   'date': 'Sun, 16 Feb 2025 15:02:42 GMT'},\n",
       "  'RetryAttempts': 0}}"
      ]
     },
     "execution_count": 140,
     "metadata": {},
     "output_type": "execute_result"
    }
   ],
   "source": [
    "while model_monitor.describe_schedule()['MonitoringScheduleStatus'] != \"Scheduled\":\n",
    "    print(f\"Waiting until model monitoring status becomes Scheduled\")\n",
    "    time.sleep(3)\n",
    "    \n",
    "model_monitor.describe_schedule()"
   ]
  },
  {
   "cell_type": "markdown",
   "id": "384a0f86-6b37-43c2-9992-d20661b5679f",
   "metadata": {},
   "source": [
    "The endpoint has two scheduled monitors now, a data quality and a model quality monitor:"
   ]
  },
  {
   "cell_type": "code",
   "execution_count": 141,
   "id": "40335a7c-5d6b-4c2f-8e06-00bdb680f2dc",
   "metadata": {
    "tags": []
   },
   "outputs": [
    {
     "data": {
      "text/html": [
       "<pre style=\"white-space:pre;overflow-x:auto;line-height:normal;font-family:Menlo,'DejaVu Sans Mono',consolas,'Courier New',monospace\"><span style=\"color: #7fbfbf; text-decoration-color: #7fbfbf\">[02/16/25 15:03:44] </span><span style=\"color: #0069ff; text-decoration-color: #0069ff; font-weight: bold\">INFO    </span> Ignoring unnecessary instance type: <span style=\"color: #e100e1; text-decoration-color: #e100e1; font-style: italic\">None</span>.                            <a href=\"file:///opt/conda/lib/python3.11/site-packages/sagemaker/image_uris.py\" target=\"_blank\"><span style=\"color: #7f7f7f; text-decoration-color: #7f7f7f\">image_uris.py</span></a><span style=\"color: #7f7f7f; text-decoration-color: #7f7f7f\">:</span><a href=\"file:///opt/conda/lib/python3.11/site-packages/sagemaker/image_uris.py#528\" target=\"_blank\"><span style=\"color: #7f7f7f; text-decoration-color: #7f7f7f\">528</span></a>\n",
       "</pre>\n"
      ],
      "text/plain": [
       "\u001b[2;36m[02/16/25 15:03:44]\u001b[0m\u001b[2;36m \u001b[0m\u001b[1;38;2;0;105;255mINFO    \u001b[0m Ignoring unnecessary instance type: \u001b[3;38;2;225;0;225mNone\u001b[0m.                            \u001b]8;id=480079;file:///opt/conda/lib/python3.11/site-packages/sagemaker/image_uris.py\u001b\\\u001b[2mimage_uris.py\u001b[0m\u001b]8;;\u001b\\\u001b[2m:\u001b[0m\u001b]8;id=25585;file:///opt/conda/lib/python3.11/site-packages/sagemaker/image_uris.py#528\u001b\\\u001b[2m528\u001b[0m\u001b]8;;\u001b\\\n"
      ]
     },
     "metadata": {},
     "output_type": "display_data"
    },
    {
     "data": {
      "text/html": [
       "<pre style=\"white-space:pre;overflow-x:auto;line-height:normal;font-family:Menlo,'DejaVu Sans Mono',consolas,'Courier New',monospace\"><span style=\"color: #7fbfbf; text-decoration-color: #7fbfbf\">[02/16/25 15:03:45] </span><span style=\"color: #0069ff; text-decoration-color: #0069ff; font-weight: bold\">INFO    </span> Ignoring unnecessary instance type: <span style=\"color: #e100e1; text-decoration-color: #e100e1; font-style: italic\">None</span>.                            <a href=\"file:///opt/conda/lib/python3.11/site-packages/sagemaker/image_uris.py\" target=\"_blank\"><span style=\"color: #7f7f7f; text-decoration-color: #7f7f7f\">image_uris.py</span></a><span style=\"color: #7f7f7f; text-decoration-color: #7f7f7f\">:</span><a href=\"file:///opt/conda/lib/python3.11/site-packages/sagemaker/image_uris.py#528\" target=\"_blank\"><span style=\"color: #7f7f7f; text-decoration-color: #7f7f7f\">528</span></a>\n",
       "</pre>\n"
      ],
      "text/plain": [
       "\u001b[2;36m[02/16/25 15:03:45]\u001b[0m\u001b[2;36m \u001b[0m\u001b[1;38;2;0;105;255mINFO    \u001b[0m Ignoring unnecessary instance type: \u001b[3;38;2;225;0;225mNone\u001b[0m.                            \u001b]8;id=478897;file:///opt/conda/lib/python3.11/site-packages/sagemaker/image_uris.py\u001b\\\u001b[2mimage_uris.py\u001b[0m\u001b]8;;\u001b\\\u001b[2m:\u001b[0m\u001b]8;id=847645;file:///opt/conda/lib/python3.11/site-packages/sagemaker/image_uris.py#528\u001b\\\u001b[2m528\u001b[0m\u001b]8;;\u001b\\\n"
      ]
     },
     "metadata": {},
     "output_type": "display_data"
    },
    {
     "data": {
      "text/plain": [
       "[<sagemaker.model_monitor.model_monitoring.ModelQualityMonitor at 0x7fd64ae9b490>,\n",
       " <sagemaker.model_monitor.model_monitoring.DefaultModelMonitor at 0x7fd6ad0f6250>]"
      ]
     },
     "execution_count": 141,
     "metadata": {},
     "output_type": "execute_result"
    }
   ],
   "source": [
    "predictor.list_monitors()"
   ]
  },
  {
   "cell_type": "markdown",
   "id": "428f1f22-ba50-44e4-a1de-b750c9ace1ca",
   "metadata": {},
   "source": [
    "### See model monitoring schedule executions\n",
    "<div class=\"alert alert-info\"> 💡 You created a model monitoring schedule which runs every hour. <strong>You need to wait until you cross the hour boundary to see any executions.</strong>\n",
    "</div>\n",
    " \n",
    "A monitoring job started by the schedule looks for the ground truth data under the Amazon S3 prefix `{ground_truth_upload_s3_url}/{year}/{month}/{day}/{UTC hour}/`. If there is no ground truth label datasets under this prefix, the model monitoring job fails with an exception `No S3 objects found under S3 URL ...`. In the previous section **Ingest ground truth data** you created a synthetic ground truth dataset and saved it under the correct prefix.\n",
    "\n",
    "Model quality monitor runs two processing jobs for each schedule execution:\n",
    "1. A ground truth merge job to contatenate capture data and ground truth label datasets based on the `eventId`\n",
    "2. A model quality monitoring job to evaluate model performance compared to the baseline\n",
    "\n",
    "You can see these two jobs for each monitor execution in the SageMaker console under **Processing jobs**:\n",
    "![](img/model-quality-monitor-execution.png)"
   ]
  },
  {
   "cell_type": "markdown",
   "id": "720b8ab8-6568-4902-ad4f-7879ff0492dd",
   "metadata": {},
   "source": [
    "#### Inspect the lastest model monitor execution"
   ]
  },
  {
   "cell_type": "code",
   "execution_count": 142,
   "id": "7b1ca57b-52b6-4187-984a-6a0c02909970",
   "metadata": {
    "tags": []
   },
   "outputs": [
    {
     "data": {
      "text/plain": [
       "{'MonitoringScheduleArn': 'arn:aws:sagemaker:us-east-1:906545278380:monitoring-schedule/from-idea-to-prod-model-monitor-schedule-2025-02-16-15-02-27',\n",
       " 'MonitoringScheduleName': 'from-idea-to-prod-model-monitor-schedule-2025-02-16-15-02-27',\n",
       " 'MonitoringScheduleStatus': 'Scheduled',\n",
       " 'MonitoringType': 'ModelQuality',\n",
       " 'CreationTime': datetime.datetime(2025, 2, 16, 15, 2, 28, 889000, tzinfo=tzlocal()),\n",
       " 'LastModifiedTime': datetime.datetime(2025, 2, 16, 15, 2, 39, 978000, tzinfo=tzlocal()),\n",
       " 'MonitoringScheduleConfig': {'ScheduleConfig': {'ScheduleExpression': 'cron(0 * ? * * *)'},\n",
       "  'MonitoringJobDefinitionName': 'model-quality-job-definition-2025-02-16-15-02-28-074',\n",
       "  'MonitoringType': 'ModelQuality'},\n",
       " 'EndpointName': 'mlops-02-14-11-03-33-prod',\n",
       " 'ResponseMetadata': {'RequestId': 'd98979a8-41e9-4cb3-b393-8463e5187ccf',\n",
       "  'HTTPStatusCode': 200,\n",
       "  'HTTPHeaders': {'x-amzn-requestid': 'd98979a8-41e9-4cb3-b393-8463e5187ccf',\n",
       "   'content-type': 'application/x-amz-json-1.1',\n",
       "   'content-length': '625',\n",
       "   'date': 'Sun, 16 Feb 2025 15:14:19 GMT'},\n",
       "  'RetryAttempts': 0}}"
      ]
     },
     "execution_count": 142,
     "metadata": {},
     "output_type": "execute_result"
    }
   ],
   "source": [
    "# call describe_schedule to see the status of the latest completed execution\n",
    "model_monitor.describe_schedule()"
   ]
  },
  {
   "cell_type": "code",
   "execution_count": 147,
   "id": "e8087765-9d5a-4eef-b064-1a757e313c7f",
   "metadata": {
    "tags": []
   },
   "outputs": [],
   "source": [
    "# List all _completed_ model monitor executions\n",
    "model_mon_executions = model_monitor.list_executions()"
   ]
  },
  {
   "cell_type": "code",
   "execution_count": 148,
   "id": "286fdb24-37f0-4545-a206-20b73a7c8b5f",
   "metadata": {
    "tags": []
   },
   "outputs": [
    {
     "data": {
      "text/plain": [
       "[<sagemaker.model_monitor.model_monitoring.MonitoringExecution at 0x7fd648fbc3d0>]"
      ]
     },
     "execution_count": 148,
     "metadata": {},
     "output_type": "execute_result"
    }
   ],
   "source": [
    "model_mon_executions"
   ]
  },
  {
   "cell_type": "code",
   "execution_count": 149,
   "id": "f859b7a3-b061-456b-a426-13ed01510bfe",
   "metadata": {},
   "outputs": [],
   "source": [
    "assert len(model_mon_executions) > 0, 'Wait until you cross the hour boundary to see any model monitor executions!'"
   ]
  },
  {
   "cell_type": "code",
   "execution_count": 150,
   "id": "e01eb7ea-c815-4c8b-91a4-f7a9039240ba",
   "metadata": {
    "tags": []
   },
   "outputs": [
    {
     "name": "stdout",
     "output_type": "stream",
     "text": [
      "!Latest execution status: Completed\n",
      "Latest execution result: CompletedWithViolations: Job completed successfully with 8 violations.\n",
      "Report Uri: s3://sagemaker-us-east-1-906545278380/from-idea-to-prod/xgboost/prediction_baseline/reports/mlops-02-14-11-03-33-prod/from-idea-to-prod-model-monitor-schedule-2025-02-16-15-02-27/2025/02/16/16\n"
     ]
    },
    {
     "data": {
      "text/plain": [
       "{'ProcessingInputs': [{'InputName': 'constraints',\n",
       "   'AppManaged': False,\n",
       "   'S3Input': {'S3Uri': 's3://sagemaker-us-east-1-906545278380/from-idea-to-prod/xgboost/prediction_baseline/results/constraints.json',\n",
       "    'LocalPath': '/opt/ml/processing/baseline/constraints',\n",
       "    'S3DataType': 'S3Prefix',\n",
       "    'S3InputMode': 'File',\n",
       "    'S3DataDistributionType': 'FullyReplicated'}},\n",
       "  {'InputName': 'endpoint_input_1',\n",
       "   'AppManaged': False,\n",
       "   'S3Input': {'S3Uri': 's3://sagemaker-us-east-1-906545278380/from-idea-to-prod/xgboost/prediction_baseline/reports/merge/mlops-02-14-11-03-33-prod/AllTraffic/2025/02/16/15',\n",
       "    'LocalPath': '/opt/ml/processing/input_data/mlops-02-14-11-03-33-prod/AllTraffic/2025/02/16/15',\n",
       "    'S3DataType': 'S3Prefix',\n",
       "    'S3InputMode': 'File',\n",
       "    'S3DataDistributionType': 'FullyReplicated',\n",
       "    'S3CompressionType': 'None'}}],\n",
       " 'ProcessingOutputConfig': {'Outputs': [{'OutputName': 'result',\n",
       "    'S3Output': {'S3Uri': 's3://sagemaker-us-east-1-906545278380/from-idea-to-prod/xgboost/prediction_baseline/reports/mlops-02-14-11-03-33-prod/from-idea-to-prod-model-monitor-schedule-2025-02-16-15-02-27/2025/02/16/16',\n",
       "     'LocalPath': '/opt/ml/processing/output',\n",
       "     'S3UploadMode': 'Continuous'},\n",
       "    'AppManaged': False}]},\n",
       " 'ProcessingJobName': 'model-quality-monitoring-202502161600-f11e6b196c487a7ddd610a5c',\n",
       " 'ProcessingResources': {'ClusterConfig': {'InstanceCount': 1,\n",
       "   'InstanceType': 'ml.m5.xlarge',\n",
       "   'VolumeSizeInGB': 20}},\n",
       " 'StoppingCondition': {'MaxRuntimeInSeconds': 1800},\n",
       " 'AppSpecification': {'ImageUri': '156813124566.dkr.ecr.us-east-1.amazonaws.com/sagemaker-model-monitor-analyzer'},\n",
       " 'Environment': {'analysis_type': 'MODEL_QUALITY',\n",
       "  'baseline_constraints': '/opt/ml/processing/baseline/constraints/constraints.json',\n",
       "  'dataset_format': '{\"sagemakerMergeJson\":{\"captureIndexNames\":[\"endpointOutput\"],\"originalDatasetFormat\":null}}',\n",
       "  'dataset_source': '/opt/ml/processing/input_data',\n",
       "  'end_time': '2025-02-16T16:00:00Z',\n",
       "  'metric_time': '2025-02-16T15:00:00Z',\n",
       "  'monitoring_input_type': 'ENDPOINT_INPUT',\n",
       "  'output_path': '/opt/ml/processing/output',\n",
       "  'probability_attribute': '0',\n",
       "  'probability_threshold_attribute': '0.500000',\n",
       "  'problem_type': 'BinaryClassification',\n",
       "  'publish_cloudwatch_metrics': 'Enabled',\n",
       "  'sagemaker_endpoint_name': 'mlops-02-14-11-03-33-prod',\n",
       "  'sagemaker_monitoring_schedule_name': 'from-idea-to-prod-model-monitor-schedule-2025-02-16-15-02-27',\n",
       "  'start_time': '2025-02-16T15:00:00Z'},\n",
       " 'RoleArn': 'arn:aws:iam::906545278380:role/mlops-workshop-domain-SageMakerExecutionRole-rIgas55nwmQD',\n",
       " 'ProcessingJobArn': 'arn:aws:sagemaker:us-east-1:906545278380:processing-job/model-quality-monitoring-202502161600-f11e6b196c487a7ddd610a5c',\n",
       " 'ProcessingJobStatus': 'Completed',\n",
       " 'ExitMessage': 'CompletedWithViolations: Job completed successfully with 8 violations.',\n",
       " 'ProcessingEndTime': datetime.datetime(2025, 2, 16, 16, 12, 19, tzinfo=tzlocal()),\n",
       " 'ProcessingStartTime': datetime.datetime(2025, 2, 16, 16, 9, 39, tzinfo=tzlocal()),\n",
       " 'LastModifiedTime': datetime.datetime(2025, 2, 16, 16, 14, 1, 312000, tzinfo=tzlocal()),\n",
       " 'CreationTime': datetime.datetime(2025, 2, 16, 16, 8, 59, 241000, tzinfo=tzlocal()),\n",
       " 'MonitoringScheduleArn': 'arn:aws:sagemaker:us-east-1:906545278380:monitoring-schedule/from-idea-to-prod-model-monitor-schedule-2025-02-16-15-02-27',\n",
       " 'ResponseMetadata': {'RequestId': '0850d024-4681-48a7-902e-d406b6958de2',\n",
       "  'HTTPStatusCode': 200,\n",
       "  'HTTPHeaders': {'x-amzn-requestid': '0850d024-4681-48a7-902e-d406b6958de2',\n",
       "   'content-type': 'application/x-amz-json-1.1',\n",
       "   'content-length': '2938',\n",
       "   'date': 'Sun, 16 Feb 2025 16:23:25 GMT'},\n",
       "  'RetryAttempts': 0}}"
      ]
     },
     "execution_count": 150,
     "metadata": {},
     "output_type": "execute_result"
    }
   ],
   "source": [
    "# See the details of the latest model monitor execution\n",
    "latest_model_mon_execution = get_latest_monitor_execution(model_monitor)\n",
    "execution_details = latest_model_mon_execution.describe()\n",
    "execution_details"
   ]
  },
  {
   "cell_type": "markdown",
   "id": "a94d5085-d022-45f5-88f3-b12bca0a9599",
   "metadata": {},
   "source": [
    "#### See the execution reports\n",
    "Each completed model monitor execution produces new statistics, constraints, and violations reports for the capture data. You have various ways to access these reports:\n",
    "- directly access the files on Amazon S3 under the job output S3 uri\n",
    "- use the Python SDK class [`MonitoringExecution`](https://sagemaker.readthedocs.io/en/stable/api/inference/model_monitor.html#sagemaker.model_monitor.model_monitoring.MonitoringExecution)\n",
    "- use [`latest_monitoring_statistics`](https://sagemaker.readthedocs.io/en/stable/api/inference/model_monitor.html#sagemaker.model_monitor.model_monitoring.ModelMonitor.latest_monitoring_statistics) and [`latest_monitoring_constraint_violations`](https://sagemaker.readthedocs.io/en/stable/api/inference/model_monitor.html#sagemaker.model_monitor.model_monitoring.ModelMonitor.latest_monitoring_constraint_violations) methods of the [`ModelMonitor`](https://sagemaker.readthedocs.io/en/stable/api/inference/model_monitor.html#sagemaker.model_monitor.model_monitoring.ModelMonitor) class"
   ]
  },
  {
   "cell_type": "code",
   "execution_count": 151,
   "id": "20112efa-8372-4123-aedc-1e37a0534276",
   "metadata": {
    "tags": []
   },
   "outputs": [
    {
     "data": {
      "text/plain": [
       "'s3://sagemaker-us-east-1-906545278380/from-idea-to-prod/xgboost/prediction_baseline/reports/mlops-02-14-11-03-33-prod/from-idea-to-prod-model-monitor-schedule-2025-02-16-15-02-27/2025/02/16/16'"
      ]
     },
     "execution_count": 151,
     "metadata": {},
     "output_type": "execute_result"
    }
   ],
   "source": [
    "# Get the job output S3 uri\n",
    "mon_job_output_s3_uri = execution_details[\"ProcessingOutputConfig\"][\"Outputs\"][0][\"S3Output\"][\"S3Uri\"]\n",
    "mon_job_output_s3_uri"
   ]
  },
  {
   "cell_type": "code",
   "execution_count": 152,
   "id": "896d72ec-c106-435d-929e-07c56a322047",
   "metadata": {
    "tags": []
   },
   "outputs": [
    {
     "data": {
      "text/plain": [
       "'s3://sagemaker-us-east-1-906545278380/from-idea-to-prod/xgboost/prediction_baseline/reports/mlops-02-14-11-03-33-prod/from-idea-to-prod-model-monitor-schedule-2025-02-16-15-02-27/2025/02/16/16'"
      ]
     },
     "execution_count": 152,
     "metadata": {},
     "output_type": "execute_result"
    }
   ],
   "source": [
    "# Same S3 uri is accessible via the MonitoringExecution class\n",
    "latest_model_mon_execution.output.destination"
   ]
  },
  {
   "cell_type": "code",
   "execution_count": 153,
   "id": "86b5bf7d-f909-443a-8225-93524c834eb9",
   "metadata": {
    "tags": []
   },
   "outputs": [
    {
     "name": "stdout",
     "output_type": "stream",
     "text": [
      "2025-02-16 16:12:09       1499 from-idea-to-prod/xgboost/prediction_baseline/reports/mlops-02-14-11-03-33-prod/from-idea-to-prod-model-monitor-schedule-2025-02-16-15-02-27/2025/02/16/16/constraint_violations.json\n",
      "2025-02-16 16:12:09       1234 from-idea-to-prod/xgboost/prediction_baseline/reports/mlops-02-14-11-03-33-prod/from-idea-to-prod-model-monitor-schedule-2025-02-16-15-02-27/2025/02/16/16/constraints.json\n",
      "2025-02-16 16:12:09       5815 from-idea-to-prod/xgboost/prediction_baseline/reports/mlops-02-14-11-03-33-prod/from-idea-to-prod-model-monitor-schedule-2025-02-16-15-02-27/2025/02/16/16/statistics.json\n"
     ]
    }
   ],
   "source": [
    "# See the generated files - new statistics, constraints, and violations\n",
    "!aws s3 ls {mon_job_output_s3_uri} --recursive"
   ]
  },
  {
   "cell_type": "markdown",
   "id": "d59ab484-6689-4a09-8994-f8b7a89c8a2e",
   "metadata": {},
   "source": [
    "<div class=\"alert alert-info\"> 💡 Since you generated random synthetic ground truth labels, you expect to see some violations, more specifically, `LessThanThreshold` constraint violation for various model performance metrics, such as `auc`, `accuracy`, and `precision`.\n",
    "</div>"
   ]
  },
  {
   "cell_type": "code",
   "execution_count": 154,
   "id": "86d5dcb9-660a-4422-931d-01c38661b15c",
   "metadata": {
    "tags": []
   },
   "outputs": [],
   "source": [
    "# Get the violation report from the MonitoringExecution class\n",
    "last_execution_violations = latest_model_mon_execution.constraint_violations()"
   ]
  },
  {
   "cell_type": "code",
   "execution_count": 155,
   "id": "4c8dae03-ff18-4435-9e9e-e25d57711f6d",
   "metadata": {
    "tags": []
   },
   "outputs": [
    {
     "data": {
      "text/html": [
       "<div>\n",
       "<style scoped>\n",
       "    .dataframe tbody tr th:only-of-type {\n",
       "        vertical-align: middle;\n",
       "    }\n",
       "\n",
       "    .dataframe tbody tr th {\n",
       "        vertical-align: top;\n",
       "    }\n",
       "\n",
       "    .dataframe thead th {\n",
       "        text-align: right;\n",
       "    }\n",
       "</style>\n",
       "<table border=\"1\" class=\"dataframe\">\n",
       "  <thead>\n",
       "    <tr style=\"text-align: right;\">\n",
       "      <th></th>\n",
       "      <th>constraint_check_type</th>\n",
       "      <th>description</th>\n",
       "      <th>metric_name</th>\n",
       "    </tr>\n",
       "  </thead>\n",
       "  <tbody>\n",
       "    <tr>\n",
       "      <th>0</th>\n",
       "      <td>LessThanThreshold</td>\n",
       "      <td>Metric auc with 0.5836805555555556 was LessThanThreshold '0.7726853760190512'</td>\n",
       "      <td>auc</td>\n",
       "    </tr>\n",
       "    <tr>\n",
       "      <th>1</th>\n",
       "      <td>LessThanThreshold</td>\n",
       "      <td>Metric precision with 0.0 was LessThanThreshold '0.6445783132530121'</td>\n",
       "      <td>precision</td>\n",
       "    </tr>\n",
       "    <tr>\n",
       "      <th>2</th>\n",
       "      <td>LessThanThreshold</td>\n",
       "      <td>Metric truePositiveRate with 0.0 was LessThanThreshold '0.22291666666666668'</td>\n",
       "      <td>truePositiveRate</td>\n",
       "    </tr>\n",
       "    <tr>\n",
       "      <th>3</th>\n",
       "      <td>LessThanThreshold</td>\n",
       "      <td>Metric f1 with 0.0 was LessThanThreshold '0.3312693498452013'</td>\n",
       "      <td>f1</td>\n",
       "    </tr>\n",
       "    <tr>\n",
       "      <th>4</th>\n",
       "      <td>LessThanThreshold</td>\n",
       "      <td>Metric accuracy with 0.5844155844155844 was LessThanThreshold '0.8951201747997086'</td>\n",
       "      <td>accuracy</td>\n",
       "    </tr>\n",
       "  </tbody>\n",
       "</table>\n",
       "</div>"
      ],
      "text/plain": [
       "  constraint_check_type  \\\n",
       "0     LessThanThreshold   \n",
       "1     LessThanThreshold   \n",
       "2     LessThanThreshold   \n",
       "3     LessThanThreshold   \n",
       "4     LessThanThreshold   \n",
       "\n",
       "                                                                          description  \\\n",
       "0       Metric auc with 0.5836805555555556 was LessThanThreshold '0.7726853760190512'   \n",
       "1                Metric precision with 0.0 was LessThanThreshold '0.6445783132530121'   \n",
       "2        Metric truePositiveRate with 0.0 was LessThanThreshold '0.22291666666666668'   \n",
       "3                       Metric f1 with 0.0 was LessThanThreshold '0.3312693498452013'   \n",
       "4  Metric accuracy with 0.5844155844155844 was LessThanThreshold '0.8951201747997086'   \n",
       "\n",
       "        metric_name  \n",
       "0               auc  \n",
       "1         precision  \n",
       "2  truePositiveRate  \n",
       "3                f1  \n",
       "4          accuracy  "
      ]
     },
     "execution_count": 155,
     "metadata": {},
     "output_type": "execute_result"
    }
   ],
   "source": [
    "pd.json_normalize(last_execution_violations.body_dict[\"violations\"]).head()"
   ]
  },
  {
   "cell_type": "markdown",
   "id": "b658cdda-c533-461c-8033-ec135c035c44",
   "metadata": {},
   "source": [
    "You can access the violation report directly from the model monitor class:"
   ]
  },
  {
   "cell_type": "code",
   "execution_count": 156,
   "id": "fa734732-5542-4481-af50-233f862e865d",
   "metadata": {
    "tags": []
   },
   "outputs": [
    {
     "data": {
      "text/html": [
       "<div>\n",
       "<style scoped>\n",
       "    .dataframe tbody tr th:only-of-type {\n",
       "        vertical-align: middle;\n",
       "    }\n",
       "\n",
       "    .dataframe tbody tr th {\n",
       "        vertical-align: top;\n",
       "    }\n",
       "\n",
       "    .dataframe thead th {\n",
       "        text-align: right;\n",
       "    }\n",
       "</style>\n",
       "<table border=\"1\" class=\"dataframe\">\n",
       "  <thead>\n",
       "    <tr style=\"text-align: right;\">\n",
       "      <th></th>\n",
       "      <th>constraint_check_type</th>\n",
       "      <th>description</th>\n",
       "      <th>metric_name</th>\n",
       "    </tr>\n",
       "  </thead>\n",
       "  <tbody>\n",
       "    <tr>\n",
       "      <th>0</th>\n",
       "      <td>LessThanThreshold</td>\n",
       "      <td>Metric auc with 0.5836805555555556 was LessThanThreshold '0.7726853760190512'</td>\n",
       "      <td>auc</td>\n",
       "    </tr>\n",
       "    <tr>\n",
       "      <th>1</th>\n",
       "      <td>LessThanThreshold</td>\n",
       "      <td>Metric precision with 0.0 was LessThanThreshold '0.6445783132530121'</td>\n",
       "      <td>precision</td>\n",
       "    </tr>\n",
       "    <tr>\n",
       "      <th>2</th>\n",
       "      <td>LessThanThreshold</td>\n",
       "      <td>Metric truePositiveRate with 0.0 was LessThanThreshold '0.22291666666666668'</td>\n",
       "      <td>truePositiveRate</td>\n",
       "    </tr>\n",
       "    <tr>\n",
       "      <th>3</th>\n",
       "      <td>LessThanThreshold</td>\n",
       "      <td>Metric f1 with 0.0 was LessThanThreshold '0.3312693498452013'</td>\n",
       "      <td>f1</td>\n",
       "    </tr>\n",
       "    <tr>\n",
       "      <th>4</th>\n",
       "      <td>LessThanThreshold</td>\n",
       "      <td>Metric accuracy with 0.5844155844155844 was LessThanThreshold '0.8951201747997086'</td>\n",
       "      <td>accuracy</td>\n",
       "    </tr>\n",
       "  </tbody>\n",
       "</table>\n",
       "</div>"
      ],
      "text/plain": [
       "  constraint_check_type  \\\n",
       "0     LessThanThreshold   \n",
       "1     LessThanThreshold   \n",
       "2     LessThanThreshold   \n",
       "3     LessThanThreshold   \n",
       "4     LessThanThreshold   \n",
       "\n",
       "                                                                          description  \\\n",
       "0       Metric auc with 0.5836805555555556 was LessThanThreshold '0.7726853760190512'   \n",
       "1                Metric precision with 0.0 was LessThanThreshold '0.6445783132530121'   \n",
       "2        Metric truePositiveRate with 0.0 was LessThanThreshold '0.22291666666666668'   \n",
       "3                       Metric f1 with 0.0 was LessThanThreshold '0.3312693498452013'   \n",
       "4  Metric accuracy with 0.5844155844155844 was LessThanThreshold '0.8951201747997086'   \n",
       "\n",
       "        metric_name  \n",
       "0               auc  \n",
       "1         precision  \n",
       "2  truePositiveRate  \n",
       "3                f1  \n",
       "4          accuracy  "
      ]
     },
     "execution_count": 156,
     "metadata": {},
     "output_type": "execute_result"
    }
   ],
   "source": [
    "# Use the ModelMonitor class\n",
    "violations = model_monitor.latest_monitoring_constraint_violations()\n",
    "pd.json_normalize(violations.body_dict[\"violations\"]).head()"
   ]
  },
  {
   "cell_type": "markdown",
   "id": "026cca77-b033-48fc-bb97-513685ad13b3",
   "metadata": {
    "tags": []
   },
   "source": [
    "#### See the merged datasets\n",
    "Finally let's take a look on the merged datasets generated by the merge job. The merged dataset contains inference input, inference output, and the ingested ground truth labels. The inference output and the ground truth are connected via `eventMetadata.eventId` identifier."
   ]
  },
  {
   "cell_type": "code",
   "execution_count": 157,
   "id": "3c3afef7-08d7-45d7-9e5c-afc353075a7e",
   "metadata": {
    "tags": []
   },
   "outputs": [],
   "source": [
    "# Get the S3 url to the merge datasets from the monitor job inputs\n",
    "mon_job_merge_input_s3_uri = execution_details[\"ProcessingInputs\"][1][\"S3Input\"][\"S3Uri\"]\n",
    "\n",
    "mon_job_merge_bucket = mon_job_merge_input_s3_uri.split('/')[2]\n",
    "mon_job_merge_prefix = '/'.join(mon_job_merge_input_s3_uri.split('/')[3:])"
   ]
  },
  {
   "cell_type": "code",
   "execution_count": 158,
   "id": "84bcd4fd-de01-49d2-bbb8-2ec1d602ff38",
   "metadata": {
    "tags": []
   },
   "outputs": [
    {
     "name": "stdout",
     "output_type": "stream",
     "text": [
      "Found 1 files in s3://sagemaker-us-east-1-906545278380/from-idea-to-prod/xgboost/prediction_baseline/reports/merge/mlops-02-14-11-03-33-prod/AllTraffic/2025/02/16/15\n",
      "Content of the merge file:\n",
      "{\n",
      "  \"eventVersion\": \"0\",\n",
      "  \"groundTruthData\": {\n",
      "    \"data\": \"0\",\n",
      "    \"encoding\": \"CSV\"\n",
      "  },\n",
      "  \"captureData\": {\n",
      "    \"endpointInput\": {\n",
      "      \"data\": \"31,2,999,0,1,0,0,0,1,0,0,0,0,0,0,0,0,0,0,1,0,0,0,0,0,0,0,0,1,0,0,1,0,1,0,0,1,0,0,1,0,0,0,0,1,0,0,0,0,0,0,0,1,0,0,0,0,1,0\",\n",
      "      \"encoding\": \"CSV\",\n",
      "      \"mode\": \"INPUT\",\n",
      "      \"observedContentType\": \"text/csv\"\n",
      "    },\n",
      "    \"endpointOutput\": {\n",
      "      \"data\": \"0.1255551427602768\\n\",\n",
      "      \"encoding\": \"CSV\",\n",
      "      \"mode\": \"OUTPUT\",\n",
      "      \"observedContentType\": \"text/csv; charset=utf-8\"\n",
      "    }\n",
      "  },\n",
      "  \"eventMetadata\": {\n",
      "    \"eventId\": \"88fdfecc-1a1a-4de9-b58e-70ce95a69c39\",\n",
      "    \"inferenceTime\": \"2025-02-16T15:00:44Z\"\n",
      "  }\n",
      "}\n",
      "{\n",
      "  \"eventVersion\": \"0\",\n",
      "  \"groundTruthData\": {\n",
      "    \"data\": \"0\",\n",
      "    \"encoding\": \"CSV\"\n",
      "  },\n",
      "  \"captureData\": {\n",
      "    \"endpointInput\": {\n",
      "      \"data\": \"34,3,999,1,1,0,0,1,0,0,0,0,0,0,0,0,0,0,0,1,0,0,0,0,1,0,0,0,0,0,1,0,0,0,0,1,0,0,1,1,0,0,0,0,0,0,0,1,0,0,0,0,0,1,0,0,1,0,0\",\n",
      "      \"encoding\": \"CSV\",\n",
      "      \"mode\": \"INPUT\",\n",
      "      \"observedContentType\": \"text/csv\"\n",
      "    },\n",
      "    \"endpointOutput\": {\n",
      "      \"data\": \"0.04593849927186966\\n\",\n",
      "      \"encoding\": \"CSV\",\n",
      "      \"mode\": \"OUTPUT\",\n",
      "      \"observedContentType\": \"text/csv; charset=utf-8\"\n",
      "    }\n",
      "  },\n",
      "  \"eventMetadata\": {\n",
      "    \"eventId\": \"73a04cf8-1912-4559-8e5f-785dd7a58c4a\",\n",
      "    \"inferenceTime\": \"2025-02-16T15:00:44Z\"\n",
      "  }\n",
      "}\n"
     ]
    }
   ],
   "source": [
    "merge_files = get_file_list(mon_job_merge_bucket, mon_job_merge_prefix)\n",
    "\n",
    "if merge_files:\n",
    "    S3Downloader.download(f\"s3://{mon_job_merge_bucket}/{merge_files[0]}\", f\"./tmp\")\n",
    "\n",
    "    print(f\"Content of the merge file:\")\n",
    "    # Read the jsonl file and show two first objects\n",
    "    with jsonlines.open(f\"./tmp/{merge_files[0].split('/')[-1]}\") as reader:      \n",
    "        print(json.dumps(reader.read(), indent=2))\n",
    "        print(json.dumps(reader.read(), indent=2))"
   ]
  },
  {
   "cell_type": "markdown",
   "id": "59071f22-f07e-446e-834e-f7bc2d44f40b",
   "metadata": {},
   "source": [
    "## Additional monitoring\n",
    "Additionally to data and model quality monitoring with Model Monitor, you can use Amazon SageMaker Clarify to:\n",
    "- [Monitor bias drift](https://docs.aws.amazon.com/sagemaker/latest/dg/clarify-model-monitor-bias-drift.html)\n",
    "- [Monitor feature attribution drift](https://docs.aws.amazon.com/sagemaker/latest/dg/clarify-model-monitor-feature-attribution-drift.html)\n",
    "\n",
    "Refer to a sample notebook [Monitoring bias drift and feature attribution drift Amazon SageMaker Clarify](https://sagemaker-examples.readthedocs.io/en/latest/sagemaker_model_monitor/fairness_and_explainability/SageMaker-Model-Monitor-Fairness-and-Explainability.html) for a hands-on example and more details."
   ]
  },
  {
   "cell_type": "markdown",
   "id": "14ed36be-5547-481a-90c4-3d8647db0957",
   "metadata": {},
   "source": [
    "## Clean-up resources\n",
    "Stop and remove monitoring schedule for the endpont."
   ]
  },
  {
   "cell_type": "code",
   "execution_count": 159,
   "id": "75f003d8-48b0-432d-9a6a-6fea273098c5",
   "metadata": {
    "tags": []
   },
   "outputs": [
    {
     "data": {
      "text/html": [
       "<pre style=\"white-space:pre;overflow-x:auto;line-height:normal;font-family:Menlo,'DejaVu Sans Mono',consolas,'Courier New',monospace\"><span style=\"color: #7fbfbf; text-decoration-color: #7fbfbf\">[02/16/25 16:23:49] </span><span style=\"color: #0069ff; text-decoration-color: #0069ff; font-weight: bold\">INFO    </span> Ignoring unnecessary instance type: <span style=\"color: #e100e1; text-decoration-color: #e100e1; font-style: italic\">None</span>.                            <a href=\"file:///opt/conda/lib/python3.11/site-packages/sagemaker/image_uris.py\" target=\"_blank\"><span style=\"color: #7f7f7f; text-decoration-color: #7f7f7f\">image_uris.py</span></a><span style=\"color: #7f7f7f; text-decoration-color: #7f7f7f\">:</span><a href=\"file:///opt/conda/lib/python3.11/site-packages/sagemaker/image_uris.py#528\" target=\"_blank\"><span style=\"color: #7f7f7f; text-decoration-color: #7f7f7f\">528</span></a>\n",
       "</pre>\n"
      ],
      "text/plain": [
       "\u001b[2;36m[02/16/25 16:23:49]\u001b[0m\u001b[2;36m \u001b[0m\u001b[1;38;2;0;105;255mINFO    \u001b[0m Ignoring unnecessary instance type: \u001b[3;38;2;225;0;225mNone\u001b[0m.                            \u001b]8;id=238417;file:///opt/conda/lib/python3.11/site-packages/sagemaker/image_uris.py\u001b\\\u001b[2mimage_uris.py\u001b[0m\u001b]8;;\u001b\\\u001b[2m:\u001b[0m\u001b]8;id=291423;file:///opt/conda/lib/python3.11/site-packages/sagemaker/image_uris.py#528\u001b\\\u001b[2m528\u001b[0m\u001b]8;;\u001b\\\n"
      ]
     },
     "metadata": {},
     "output_type": "display_data"
    },
    {
     "data": {
      "text/html": [
       "<pre style=\"white-space:pre;overflow-x:auto;line-height:normal;font-family:Menlo,'DejaVu Sans Mono',consolas,'Courier New',monospace\"><span style=\"color: #7fbfbf; text-decoration-color: #7fbfbf\">[02/16/25 16:23:50] </span><span style=\"color: #0069ff; text-decoration-color: #0069ff; font-weight: bold\">INFO    </span> Ignoring unnecessary instance type: <span style=\"color: #e100e1; text-decoration-color: #e100e1; font-style: italic\">None</span>.                            <a href=\"file:///opt/conda/lib/python3.11/site-packages/sagemaker/image_uris.py\" target=\"_blank\"><span style=\"color: #7f7f7f; text-decoration-color: #7f7f7f\">image_uris.py</span></a><span style=\"color: #7f7f7f; text-decoration-color: #7f7f7f\">:</span><a href=\"file:///opt/conda/lib/python3.11/site-packages/sagemaker/image_uris.py#528\" target=\"_blank\"><span style=\"color: #7f7f7f; text-decoration-color: #7f7f7f\">528</span></a>\n",
       "</pre>\n"
      ],
      "text/plain": [
       "\u001b[2;36m[02/16/25 16:23:50]\u001b[0m\u001b[2;36m \u001b[0m\u001b[1;38;2;0;105;255mINFO    \u001b[0m Ignoring unnecessary instance type: \u001b[3;38;2;225;0;225mNone\u001b[0m.                            \u001b]8;id=280645;file:///opt/conda/lib/python3.11/site-packages/sagemaker/image_uris.py\u001b\\\u001b[2mimage_uris.py\u001b[0m\u001b]8;;\u001b\\\u001b[2m:\u001b[0m\u001b]8;id=141322;file:///opt/conda/lib/python3.11/site-packages/sagemaker/image_uris.py#528\u001b\\\u001b[2m528\u001b[0m\u001b]8;;\u001b\\\n"
      ]
     },
     "metadata": {},
     "output_type": "display_data"
    },
    {
     "data": {
      "text/html": [
       "<pre style=\"white-space:pre;overflow-x:auto;line-height:normal;font-family:Menlo,'DejaVu Sans Mono',consolas,'Courier New',monospace\"><span style=\"color: #7fbfbf; text-decoration-color: #7fbfbf\">[02/16/25 16:23:51] </span><span style=\"color: #0069ff; text-decoration-color: #0069ff; font-weight: bold\">INFO    </span> Stopping Monitoring Schedule with name:                                <a href=\"file:///opt/conda/lib/python3.11/site-packages/sagemaker/session.py\" target=\"_blank\"><span style=\"color: #7f7f7f; text-decoration-color: #7f7f7f\">session.py</span></a><span style=\"color: #7f7f7f; text-decoration-color: #7f7f7f\">:</span><a href=\"file:///opt/conda/lib/python3.11/site-packages/sagemaker/session.py#2225\" target=\"_blank\"><span style=\"color: #7f7f7f; text-decoration-color: #7f7f7f\">2225</span></a>\n",
       "<span style=\"color: #7fbfbf; text-decoration-color: #7fbfbf\">                    </span>         from-idea-to-prod-model-monitor-schedule-<span style=\"color: #008080; text-decoration-color: #008080; font-weight: bold\">2025</span>-<span style=\"color: #008080; text-decoration-color: #008080; font-weight: bold\">02</span>-<span style=\"color: #008080; text-decoration-color: #008080; font-weight: bold\">16</span>-<span style=\"color: #008080; text-decoration-color: #008080; font-weight: bold\">15</span>-<span style=\"color: #008080; text-decoration-color: #008080; font-weight: bold\">02</span>-<span style=\"color: #008080; text-decoration-color: #008080; font-weight: bold\">27</span>           <span style=\"color: #7f7f7f; text-decoration-color: #7f7f7f\">               </span>\n",
       "</pre>\n"
      ],
      "text/plain": [
       "\u001b[2;36m[02/16/25 16:23:51]\u001b[0m\u001b[2;36m \u001b[0m\u001b[1;38;2;0;105;255mINFO    \u001b[0m Stopping Monitoring Schedule with name:                                \u001b]8;id=471700;file:///opt/conda/lib/python3.11/site-packages/sagemaker/session.py\u001b\\\u001b[2msession.py\u001b[0m\u001b]8;;\u001b\\\u001b[2m:\u001b[0m\u001b]8;id=845732;file:///opt/conda/lib/python3.11/site-packages/sagemaker/session.py#2225\u001b\\\u001b[2m2225\u001b[0m\u001b]8;;\u001b\\\n",
       "\u001b[2;36m                    \u001b[0m         from-idea-to-prod-model-monitor-schedule-\u001b[1;36m2025\u001b[0m-\u001b[1;36m02\u001b[0m-\u001b[1;36m16\u001b[0m-\u001b[1;36m15\u001b[0m-\u001b[1;36m02\u001b[0m-\u001b[1;36m27\u001b[0m           \u001b[2m               \u001b[0m\n"
      ]
     },
     "metadata": {},
     "output_type": "display_data"
    },
    {
     "data": {
      "text/html": [
       "<pre style=\"white-space:pre;overflow-x:auto;line-height:normal;font-family:Menlo,'DejaVu Sans Mono',consolas,'Courier New',monospace\"><span style=\"color: #7fbfbf; text-decoration-color: #7fbfbf\">[02/16/25 16:24:11] </span><span style=\"color: #0069ff; text-decoration-color: #0069ff; font-weight: bold\">INFO    </span> Deleting Monitoring Schedule with name:                                <a href=\"file:///opt/conda/lib/python3.11/site-packages/sagemaker/session.py\" target=\"_blank\"><span style=\"color: #7f7f7f; text-decoration-color: #7f7f7f\">session.py</span></a><span style=\"color: #7f7f7f; text-decoration-color: #7f7f7f\">:</span><a href=\"file:///opt/conda/lib/python3.11/site-packages/sagemaker/session.py#2237\" target=\"_blank\"><span style=\"color: #7f7f7f; text-decoration-color: #7f7f7f\">2237</span></a>\n",
       "<span style=\"color: #7fbfbf; text-decoration-color: #7fbfbf\">                    </span>         from-idea-to-prod-model-monitor-schedule-<span style=\"color: #008080; text-decoration-color: #008080; font-weight: bold\">2025</span>-<span style=\"color: #008080; text-decoration-color: #008080; font-weight: bold\">02</span>-<span style=\"color: #008080; text-decoration-color: #008080; font-weight: bold\">16</span>-<span style=\"color: #008080; text-decoration-color: #008080; font-weight: bold\">15</span>-<span style=\"color: #008080; text-decoration-color: #008080; font-weight: bold\">02</span>-<span style=\"color: #008080; text-decoration-color: #008080; font-weight: bold\">27</span>           <span style=\"color: #7f7f7f; text-decoration-color: #7f7f7f\">               </span>\n",
       "</pre>\n"
      ],
      "text/plain": [
       "\u001b[2;36m[02/16/25 16:24:11]\u001b[0m\u001b[2;36m \u001b[0m\u001b[1;38;2;0;105;255mINFO    \u001b[0m Deleting Monitoring Schedule with name:                                \u001b]8;id=777525;file:///opt/conda/lib/python3.11/site-packages/sagemaker/session.py\u001b\\\u001b[2msession.py\u001b[0m\u001b]8;;\u001b\\\u001b[2m:\u001b[0m\u001b]8;id=959921;file:///opt/conda/lib/python3.11/site-packages/sagemaker/session.py#2237\u001b\\\u001b[2m2237\u001b[0m\u001b]8;;\u001b\\\n",
       "\u001b[2;36m                    \u001b[0m         from-idea-to-prod-model-monitor-schedule-\u001b[1;36m2025\u001b[0m-\u001b[1;36m02\u001b[0m-\u001b[1;36m16\u001b[0m-\u001b[1;36m15\u001b[0m-\u001b[1;36m02\u001b[0m-\u001b[1;36m27\u001b[0m           \u001b[2m               \u001b[0m\n"
      ]
     },
     "metadata": {},
     "output_type": "display_data"
    },
    {
     "data": {
      "text/html": [
       "<pre style=\"white-space:pre;overflow-x:auto;line-height:normal;font-family:Menlo,'DejaVu Sans Mono',consolas,'Courier New',monospace\"><span style=\"color: #7fbfbf; text-decoration-color: #7fbfbf\">[02/16/25 16:24:42] </span><span style=\"color: #0069ff; text-decoration-color: #0069ff; font-weight: bold\">INFO    </span> Deleting Model Quality Job Definition with name:              <a href=\"file:///opt/conda/lib/python3.11/site-packages/sagemaker/model_monitor/model_monitoring.py\" target=\"_blank\"><span style=\"color: #7f7f7f; text-decoration-color: #7f7f7f\">model_monitoring.py</span></a><span style=\"color: #7f7f7f; text-decoration-color: #7f7f7f\">:</span><a href=\"file:///opt/conda/lib/python3.11/site-packages/sagemaker/model_monitor/model_monitoring.py#3366\" target=\"_blank\"><span style=\"color: #7f7f7f; text-decoration-color: #7f7f7f\">3366</span></a>\n",
       "<span style=\"color: #7fbfbf; text-decoration-color: #7fbfbf\">                    </span>         model-quality-job-definition-<span style=\"color: #008080; text-decoration-color: #008080; font-weight: bold\">2025</span>-02-16-15-02-28-074          <span style=\"color: #7f7f7f; text-decoration-color: #7f7f7f\">                        </span>\n",
       "</pre>\n"
      ],
      "text/plain": [
       "\u001b[2;36m[02/16/25 16:24:42]\u001b[0m\u001b[2;36m \u001b[0m\u001b[1;38;2;0;105;255mINFO    \u001b[0m Deleting Model Quality Job Definition with name:              \u001b]8;id=501758;file:///opt/conda/lib/python3.11/site-packages/sagemaker/model_monitor/model_monitoring.py\u001b\\\u001b[2mmodel_monitoring.py\u001b[0m\u001b]8;;\u001b\\\u001b[2m:\u001b[0m\u001b]8;id=699347;file:///opt/conda/lib/python3.11/site-packages/sagemaker/model_monitor/model_monitoring.py#3366\u001b\\\u001b[2m3366\u001b[0m\u001b]8;;\u001b\\\n",
       "\u001b[2;36m                    \u001b[0m         model-quality-job-definition-\u001b[1;36m2025\u001b[0m-02-16-15-02-28-074          \u001b[2m                        \u001b[0m\n"
      ]
     },
     "metadata": {},
     "output_type": "display_data"
    },
    {
     "data": {
      "text/html": [
       "<pre style=\"white-space:pre;overflow-x:auto;line-height:normal;font-family:Menlo,'DejaVu Sans Mono',consolas,'Courier New',monospace\"><span style=\"color: #7fbfbf; text-decoration-color: #7fbfbf\">                    </span><span style=\"color: #0069ff; text-decoration-color: #0069ff; font-weight: bold\">INFO    </span> Stopping Monitoring Schedule with name:                                <a href=\"file:///opt/conda/lib/python3.11/site-packages/sagemaker/session.py\" target=\"_blank\"><span style=\"color: #7f7f7f; text-decoration-color: #7f7f7f\">session.py</span></a><span style=\"color: #7f7f7f; text-decoration-color: #7f7f7f\">:</span><a href=\"file:///opt/conda/lib/python3.11/site-packages/sagemaker/session.py#2225\" target=\"_blank\"><span style=\"color: #7f7f7f; text-decoration-color: #7f7f7f\">2225</span></a>\n",
       "<span style=\"color: #7fbfbf; text-decoration-color: #7fbfbf\">                    </span>         from-idea-to-prod-data-monitor-schedule-<span style=\"color: #008080; text-decoration-color: #008080; font-weight: bold\">2025</span>-<span style=\"color: #008080; text-decoration-color: #008080; font-weight: bold\">02</span>-<span style=\"color: #008080; text-decoration-color: #008080; font-weight: bold\">15</span>-<span style=\"color: #008080; text-decoration-color: #008080; font-weight: bold\">21</span>-<span style=\"color: #008080; text-decoration-color: #008080; font-weight: bold\">52</span>-<span style=\"color: #008080; text-decoration-color: #008080; font-weight: bold\">22</span>            <span style=\"color: #7f7f7f; text-decoration-color: #7f7f7f\">               </span>\n",
       "</pre>\n"
      ],
      "text/plain": [
       "\u001b[2;36m                   \u001b[0m\u001b[2;36m \u001b[0m\u001b[1;38;2;0;105;255mINFO    \u001b[0m Stopping Monitoring Schedule with name:                                \u001b]8;id=790458;file:///opt/conda/lib/python3.11/site-packages/sagemaker/session.py\u001b\\\u001b[2msession.py\u001b[0m\u001b]8;;\u001b\\\u001b[2m:\u001b[0m\u001b]8;id=732379;file:///opt/conda/lib/python3.11/site-packages/sagemaker/session.py#2225\u001b\\\u001b[2m2225\u001b[0m\u001b]8;;\u001b\\\n",
       "\u001b[2;36m                    \u001b[0m         from-idea-to-prod-data-monitor-schedule-\u001b[1;36m2025\u001b[0m-\u001b[1;36m02\u001b[0m-\u001b[1;36m15\u001b[0m-\u001b[1;36m21\u001b[0m-\u001b[1;36m52\u001b[0m-\u001b[1;36m22\u001b[0m            \u001b[2m               \u001b[0m\n"
      ]
     },
     "metadata": {},
     "output_type": "display_data"
    },
    {
     "data": {
      "text/html": [
       "<pre style=\"white-space:pre;overflow-x:auto;line-height:normal;font-family:Menlo,'DejaVu Sans Mono',consolas,'Courier New',monospace\"><span style=\"color: #7fbfbf; text-decoration-color: #7fbfbf\">[02/16/25 16:24:52] </span><span style=\"color: #0069ff; text-decoration-color: #0069ff; font-weight: bold\">INFO    </span> Deleting Monitoring Schedule with name:                                <a href=\"file:///opt/conda/lib/python3.11/site-packages/sagemaker/session.py\" target=\"_blank\"><span style=\"color: #7f7f7f; text-decoration-color: #7f7f7f\">session.py</span></a><span style=\"color: #7f7f7f; text-decoration-color: #7f7f7f\">:</span><a href=\"file:///opt/conda/lib/python3.11/site-packages/sagemaker/session.py#2237\" target=\"_blank\"><span style=\"color: #7f7f7f; text-decoration-color: #7f7f7f\">2237</span></a>\n",
       "<span style=\"color: #7fbfbf; text-decoration-color: #7fbfbf\">                    </span>         from-idea-to-prod-data-monitor-schedule-<span style=\"color: #008080; text-decoration-color: #008080; font-weight: bold\">2025</span>-<span style=\"color: #008080; text-decoration-color: #008080; font-weight: bold\">02</span>-<span style=\"color: #008080; text-decoration-color: #008080; font-weight: bold\">15</span>-<span style=\"color: #008080; text-decoration-color: #008080; font-weight: bold\">21</span>-<span style=\"color: #008080; text-decoration-color: #008080; font-weight: bold\">52</span>-<span style=\"color: #008080; text-decoration-color: #008080; font-weight: bold\">22</span>            <span style=\"color: #7f7f7f; text-decoration-color: #7f7f7f\">               </span>\n",
       "</pre>\n"
      ],
      "text/plain": [
       "\u001b[2;36m[02/16/25 16:24:52]\u001b[0m\u001b[2;36m \u001b[0m\u001b[1;38;2;0;105;255mINFO    \u001b[0m Deleting Monitoring Schedule with name:                                \u001b]8;id=385313;file:///opt/conda/lib/python3.11/site-packages/sagemaker/session.py\u001b\\\u001b[2msession.py\u001b[0m\u001b]8;;\u001b\\\u001b[2m:\u001b[0m\u001b]8;id=648668;file:///opt/conda/lib/python3.11/site-packages/sagemaker/session.py#2237\u001b\\\u001b[2m2237\u001b[0m\u001b]8;;\u001b\\\n",
       "\u001b[2;36m                    \u001b[0m         from-idea-to-prod-data-monitor-schedule-\u001b[1;36m2025\u001b[0m-\u001b[1;36m02\u001b[0m-\u001b[1;36m15\u001b[0m-\u001b[1;36m21\u001b[0m-\u001b[1;36m52\u001b[0m-\u001b[1;36m22\u001b[0m            \u001b[2m               \u001b[0m\n"
      ]
     },
     "metadata": {},
     "output_type": "display_data"
    },
    {
     "data": {
      "text/html": [
       "<pre style=\"white-space:pre;overflow-x:auto;line-height:normal;font-family:Menlo,'DejaVu Sans Mono',consolas,'Courier New',monospace\"><span style=\"color: #7fbfbf; text-decoration-color: #7fbfbf\">[02/16/25 16:25:02] </span><span style=\"color: #0069ff; text-decoration-color: #0069ff; font-weight: bold\">INFO    </span> Deleting Data Quality Job Definition with name:               <a href=\"file:///opt/conda/lib/python3.11/site-packages/sagemaker/model_monitor/model_monitoring.py\" target=\"_blank\"><span style=\"color: #7f7f7f; text-decoration-color: #7f7f7f\">model_monitoring.py</span></a><span style=\"color: #7f7f7f; text-decoration-color: #7f7f7f\">:</span><a href=\"file:///opt/conda/lib/python3.11/site-packages/sagemaker/model_monitor/model_monitoring.py#2456\" target=\"_blank\"><span style=\"color: #7f7f7f; text-decoration-color: #7f7f7f\">2456</span></a>\n",
       "<span style=\"color: #7fbfbf; text-decoration-color: #7fbfbf\">                    </span>         data-quality-job-definition-<span style=\"color: #008080; text-decoration-color: #008080; font-weight: bold\">2025</span>-02-15-21-52-23-138           <span style=\"color: #7f7f7f; text-decoration-color: #7f7f7f\">                        </span>\n",
       "</pre>\n"
      ],
      "text/plain": [
       "\u001b[2;36m[02/16/25 16:25:02]\u001b[0m\u001b[2;36m \u001b[0m\u001b[1;38;2;0;105;255mINFO    \u001b[0m Deleting Data Quality Job Definition with name:               \u001b]8;id=435242;file:///opt/conda/lib/python3.11/site-packages/sagemaker/model_monitor/model_monitoring.py\u001b\\\u001b[2mmodel_monitoring.py\u001b[0m\u001b]8;;\u001b\\\u001b[2m:\u001b[0m\u001b]8;id=429152;file:///opt/conda/lib/python3.11/site-packages/sagemaker/model_monitor/model_monitoring.py#2456\u001b\\\u001b[2m2456\u001b[0m\u001b]8;;\u001b\\\n",
       "\u001b[2;36m                    \u001b[0m         data-quality-job-definition-\u001b[1;36m2025\u001b[0m-02-15-21-52-23-138           \u001b[2m                        \u001b[0m\n"
      ]
     },
     "metadata": {},
     "output_type": "display_data"
    }
   ],
   "source": [
    "for monitor in predictor.list_monitors():\n",
    "    try:\n",
    "        monitor.stop_monitoring_schedule()\n",
    "        monitor.delete_monitoring_schedule()\n",
    "    except botocore.exceptions.ClientError as e:\n",
    "        if e.response['Error']['Code'] == 'ValidationException':\n",
    "            print(f\"ValidationException: {e.response['Error']['Message']}. Wait until the monitoring job is done and run the cell again.\")\n",
    "        else:\n",
    "            raise e"
   ]
  },
  {
   "cell_type": "markdown",
   "id": "aa3fc9ec-caa3-4adf-9b9a-66bf6ba3ec71",
   "metadata": {},
   "source": [
    "### Final clean-up\n",
    "This is the last notebook in this workshop. If you are finished with exploration, to avoid charges on your AWS account, run the [clean-up notebook](99-clean-up.ipynb).\n",
    "\n",
    "<div class=\"alert alert-info\">\n",
    "You have at least one real-time endpoint active in your AWS account. To avoid charges, you must delete the endpoint. Go to the clean-up notebook.\n",
    "</div>"
   ]
  },
  {
   "cell_type": "markdown",
   "id": "8ea675fa-2d8f-4b15-b9cd-91104a96edee",
   "metadata": {},
   "source": [
    "## Further development ideas for your real-world projects\n",
    "- Add [visualizations](https://sagemaker-examples.readthedocs.io/en/latest/sagemaker_model_monitor/visualization/SageMaker-Model-Monitor-Visualize.html) for model monitoring reports\n",
    "- Add data baselining, explainability report generation, and bias report to the model building pipeline\n",
    "- Implement [model quality monitoring](https://docs.aws.amazon.com/sagemaker/latest/dg/model-monitor-model-quality.html)\n",
    "- Try different inference options such as [serverless](https://docs.aws.amazon.com/sagemaker/latest/dg/serverless-endpoints.html) or [asynchronous](https://docs.aws.amazon.com/sagemaker/latest/dg/async-inference.html) inference\n",
    "- Address security considerations for your ML environment and solutions. Start with the developer guide [Security in Amazon SageMaker](https://docs.aws.amazon.com/sagemaker/latest/dg/security.html)\n",
    "- Implement [deployment guardrails](https://docs.aws.amazon.com/sagemaker/latest/dg/deployment-guardrails.html) to control how to update your models in production"
   ]
  },
  {
   "cell_type": "markdown",
   "id": "82b9b6df-94d1-49ee-a21b-42b153d3fe4c",
   "metadata": {},
   "source": [
    "## Additional resources\n",
    "- [AmazonSageMaker Model Monitor: A System for Real-Time Insights into Deployed Machine Learning Models](https://assets.amazon.science/97/cc/8dc8526547859351f46d2710aba9/amazon-sagemaker-model-monitor-a-system-for-real-time-insights-into-deployed-machine-learning-models.pdf)\n",
    "- [Monitor models for data and model quality, bias, and explainability](https://docs.aws.amazon.com/sagemaker/latest/dg/model-monitor.html)\n",
    "- [Monitor data quality](https://docs.aws.amazon.com/sagemaker/latest/dg/model-monitor-data-quality.html)\n",
    "- [Model Monitor visualizations](https://sagemaker-examples.readthedocs.io/en/latest/sagemaker_model_monitor/visualization/SageMaker-Model-Monitor-Visualize.html)\n",
    "- [Monitor Amazon SageMaker](https://docs.aws.amazon.com/sagemaker/latest/dg/monitoring-overview.html)\n",
    "- [Monitoring a Model in Production](https://docs.aws.amazon.com/sagemaker/latest/dg/how-it-works-model-monitor.html)\n",
    "- [ModelMonitor for batch transform jobs](https://aws.amazon.com/about-aws/whats-new/2022/10/amazon-sagemaker-model-monitor-batch-transform-jobs/)\n",
    "- [Security in Amazon SageMaker](https://docs.aws.amazon.com/sagemaker/latest/dg/security.html)\n",
    "- [Deployment guardrails](https://docs.aws.amazon.com/sagemaker/latest/dg/deployment-guardrails.html)\n",
    "- [Design a compelling record filtering method with Amazon SageMaker Model Monitor](https://aws.amazon.com/blogs/machine-learning/design-a-compelling-record-filtering-method-with-amazon-sagemaker-model-monitor/)"
   ]
  },
  {
   "cell_type": "markdown",
   "id": "ee54a7b1-0e4a-424c-9283-07c62c1a4e2a",
   "metadata": {},
   "source": [
    "# Shutdown kernel"
   ]
  },
  {
   "cell_type": "code",
   "execution_count": null,
   "id": "c9cc068d-e111-46db-aaef-01fc30fa5069",
   "metadata": {},
   "outputs": [],
   "source": [
    "%%html\n",
    "\n",
    "<p><b>Shutting down your kernel for this notebook to release resources.</b></p>\n",
    "<button class=\"sm-command-button\" data-commandlinker-command=\"kernelmenu:shutdown\" style=\"display:none;\">Shutdown Kernel</button>\n",
    "        \n",
    "<script>\n",
    "try {\n",
    "    els = document.getElementsByClassName(\"sm-command-button\");\n",
    "    els[0].click();\n",
    "}\n",
    "catch(err) {\n",
    "    // NoOp\n",
    "}    \n",
    "</script>"
   ]
  },
  {
   "cell_type": "code",
   "execution_count": null,
   "id": "a0c5fa65-6e71-4e91-9449-0ea57a5261c1",
   "metadata": {},
   "outputs": [],
   "source": []
  }
 ],
 "metadata": {
  "availableInstances": [
   {
    "_defaultOrder": 0,
    "_isFastLaunch": true,
    "category": "General purpose",
    "gpuNum": 0,
    "hideHardwareSpecs": false,
    "memoryGiB": 4,
    "name": "ml.t3.medium",
    "vcpuNum": 2
   },
   {
    "_defaultOrder": 1,
    "_isFastLaunch": false,
    "category": "General purpose",
    "gpuNum": 0,
    "hideHardwareSpecs": false,
    "memoryGiB": 8,
    "name": "ml.t3.large",
    "vcpuNum": 2
   },
   {
    "_defaultOrder": 2,
    "_isFastLaunch": false,
    "category": "General purpose",
    "gpuNum": 0,
    "hideHardwareSpecs": false,
    "memoryGiB": 16,
    "name": "ml.t3.xlarge",
    "vcpuNum": 4
   },
   {
    "_defaultOrder": 3,
    "_isFastLaunch": false,
    "category": "General purpose",
    "gpuNum": 0,
    "hideHardwareSpecs": false,
    "memoryGiB": 32,
    "name": "ml.t3.2xlarge",
    "vcpuNum": 8
   },
   {
    "_defaultOrder": 4,
    "_isFastLaunch": true,
    "category": "General purpose",
    "gpuNum": 0,
    "hideHardwareSpecs": false,
    "memoryGiB": 8,
    "name": "ml.m5.large",
    "vcpuNum": 2
   },
   {
    "_defaultOrder": 5,
    "_isFastLaunch": false,
    "category": "General purpose",
    "gpuNum": 0,
    "hideHardwareSpecs": false,
    "memoryGiB": 16,
    "name": "ml.m5.xlarge",
    "vcpuNum": 4
   },
   {
    "_defaultOrder": 6,
    "_isFastLaunch": false,
    "category": "General purpose",
    "gpuNum": 0,
    "hideHardwareSpecs": false,
    "memoryGiB": 32,
    "name": "ml.m5.2xlarge",
    "vcpuNum": 8
   },
   {
    "_defaultOrder": 7,
    "_isFastLaunch": false,
    "category": "General purpose",
    "gpuNum": 0,
    "hideHardwareSpecs": false,
    "memoryGiB": 64,
    "name": "ml.m5.4xlarge",
    "vcpuNum": 16
   },
   {
    "_defaultOrder": 8,
    "_isFastLaunch": false,
    "category": "General purpose",
    "gpuNum": 0,
    "hideHardwareSpecs": false,
    "memoryGiB": 128,
    "name": "ml.m5.8xlarge",
    "vcpuNum": 32
   },
   {
    "_defaultOrder": 9,
    "_isFastLaunch": false,
    "category": "General purpose",
    "gpuNum": 0,
    "hideHardwareSpecs": false,
    "memoryGiB": 192,
    "name": "ml.m5.12xlarge",
    "vcpuNum": 48
   },
   {
    "_defaultOrder": 10,
    "_isFastLaunch": false,
    "category": "General purpose",
    "gpuNum": 0,
    "hideHardwareSpecs": false,
    "memoryGiB": 256,
    "name": "ml.m5.16xlarge",
    "vcpuNum": 64
   },
   {
    "_defaultOrder": 11,
    "_isFastLaunch": false,
    "category": "General purpose",
    "gpuNum": 0,
    "hideHardwareSpecs": false,
    "memoryGiB": 384,
    "name": "ml.m5.24xlarge",
    "vcpuNum": 96
   },
   {
    "_defaultOrder": 12,
    "_isFastLaunch": false,
    "category": "General purpose",
    "gpuNum": 0,
    "hideHardwareSpecs": false,
    "memoryGiB": 8,
    "name": "ml.m5d.large",
    "vcpuNum": 2
   },
   {
    "_defaultOrder": 13,
    "_isFastLaunch": false,
    "category": "General purpose",
    "gpuNum": 0,
    "hideHardwareSpecs": false,
    "memoryGiB": 16,
    "name": "ml.m5d.xlarge",
    "vcpuNum": 4
   },
   {
    "_defaultOrder": 14,
    "_isFastLaunch": false,
    "category": "General purpose",
    "gpuNum": 0,
    "hideHardwareSpecs": false,
    "memoryGiB": 32,
    "name": "ml.m5d.2xlarge",
    "vcpuNum": 8
   },
   {
    "_defaultOrder": 15,
    "_isFastLaunch": false,
    "category": "General purpose",
    "gpuNum": 0,
    "hideHardwareSpecs": false,
    "memoryGiB": 64,
    "name": "ml.m5d.4xlarge",
    "vcpuNum": 16
   },
   {
    "_defaultOrder": 16,
    "_isFastLaunch": false,
    "category": "General purpose",
    "gpuNum": 0,
    "hideHardwareSpecs": false,
    "memoryGiB": 128,
    "name": "ml.m5d.8xlarge",
    "vcpuNum": 32
   },
   {
    "_defaultOrder": 17,
    "_isFastLaunch": false,
    "category": "General purpose",
    "gpuNum": 0,
    "hideHardwareSpecs": false,
    "memoryGiB": 192,
    "name": "ml.m5d.12xlarge",
    "vcpuNum": 48
   },
   {
    "_defaultOrder": 18,
    "_isFastLaunch": false,
    "category": "General purpose",
    "gpuNum": 0,
    "hideHardwareSpecs": false,
    "memoryGiB": 256,
    "name": "ml.m5d.16xlarge",
    "vcpuNum": 64
   },
   {
    "_defaultOrder": 19,
    "_isFastLaunch": false,
    "category": "General purpose",
    "gpuNum": 0,
    "hideHardwareSpecs": false,
    "memoryGiB": 384,
    "name": "ml.m5d.24xlarge",
    "vcpuNum": 96
   },
   {
    "_defaultOrder": 20,
    "_isFastLaunch": false,
    "category": "General purpose",
    "gpuNum": 0,
    "hideHardwareSpecs": true,
    "memoryGiB": 0,
    "name": "ml.geospatial.interactive",
    "supportedImageNames": [
     "sagemaker-geospatial-v1-0"
    ],
    "vcpuNum": 0
   },
   {
    "_defaultOrder": 21,
    "_isFastLaunch": true,
    "category": "Compute optimized",
    "gpuNum": 0,
    "hideHardwareSpecs": false,
    "memoryGiB": 4,
    "name": "ml.c5.large",
    "vcpuNum": 2
   },
   {
    "_defaultOrder": 22,
    "_isFastLaunch": false,
    "category": "Compute optimized",
    "gpuNum": 0,
    "hideHardwareSpecs": false,
    "memoryGiB": 8,
    "name": "ml.c5.xlarge",
    "vcpuNum": 4
   },
   {
    "_defaultOrder": 23,
    "_isFastLaunch": false,
    "category": "Compute optimized",
    "gpuNum": 0,
    "hideHardwareSpecs": false,
    "memoryGiB": 16,
    "name": "ml.c5.2xlarge",
    "vcpuNum": 8
   },
   {
    "_defaultOrder": 24,
    "_isFastLaunch": false,
    "category": "Compute optimized",
    "gpuNum": 0,
    "hideHardwareSpecs": false,
    "memoryGiB": 32,
    "name": "ml.c5.4xlarge",
    "vcpuNum": 16
   },
   {
    "_defaultOrder": 25,
    "_isFastLaunch": false,
    "category": "Compute optimized",
    "gpuNum": 0,
    "hideHardwareSpecs": false,
    "memoryGiB": 72,
    "name": "ml.c5.9xlarge",
    "vcpuNum": 36
   },
   {
    "_defaultOrder": 26,
    "_isFastLaunch": false,
    "category": "Compute optimized",
    "gpuNum": 0,
    "hideHardwareSpecs": false,
    "memoryGiB": 96,
    "name": "ml.c5.12xlarge",
    "vcpuNum": 48
   },
   {
    "_defaultOrder": 27,
    "_isFastLaunch": false,
    "category": "Compute optimized",
    "gpuNum": 0,
    "hideHardwareSpecs": false,
    "memoryGiB": 144,
    "name": "ml.c5.18xlarge",
    "vcpuNum": 72
   },
   {
    "_defaultOrder": 28,
    "_isFastLaunch": false,
    "category": "Compute optimized",
    "gpuNum": 0,
    "hideHardwareSpecs": false,
    "memoryGiB": 192,
    "name": "ml.c5.24xlarge",
    "vcpuNum": 96
   },
   {
    "_defaultOrder": 29,
    "_isFastLaunch": true,
    "category": "Accelerated computing",
    "gpuNum": 1,
    "hideHardwareSpecs": false,
    "memoryGiB": 16,
    "name": "ml.g4dn.xlarge",
    "vcpuNum": 4
   },
   {
    "_defaultOrder": 30,
    "_isFastLaunch": false,
    "category": "Accelerated computing",
    "gpuNum": 1,
    "hideHardwareSpecs": false,
    "memoryGiB": 32,
    "name": "ml.g4dn.2xlarge",
    "vcpuNum": 8
   },
   {
    "_defaultOrder": 31,
    "_isFastLaunch": false,
    "category": "Accelerated computing",
    "gpuNum": 1,
    "hideHardwareSpecs": false,
    "memoryGiB": 64,
    "name": "ml.g4dn.4xlarge",
    "vcpuNum": 16
   },
   {
    "_defaultOrder": 32,
    "_isFastLaunch": false,
    "category": "Accelerated computing",
    "gpuNum": 1,
    "hideHardwareSpecs": false,
    "memoryGiB": 128,
    "name": "ml.g4dn.8xlarge",
    "vcpuNum": 32
   },
   {
    "_defaultOrder": 33,
    "_isFastLaunch": false,
    "category": "Accelerated computing",
    "gpuNum": 4,
    "hideHardwareSpecs": false,
    "memoryGiB": 192,
    "name": "ml.g4dn.12xlarge",
    "vcpuNum": 48
   },
   {
    "_defaultOrder": 34,
    "_isFastLaunch": false,
    "category": "Accelerated computing",
    "gpuNum": 1,
    "hideHardwareSpecs": false,
    "memoryGiB": 256,
    "name": "ml.g4dn.16xlarge",
    "vcpuNum": 64
   },
   {
    "_defaultOrder": 35,
    "_isFastLaunch": false,
    "category": "Accelerated computing",
    "gpuNum": 1,
    "hideHardwareSpecs": false,
    "memoryGiB": 61,
    "name": "ml.p3.2xlarge",
    "vcpuNum": 8
   },
   {
    "_defaultOrder": 36,
    "_isFastLaunch": false,
    "category": "Accelerated computing",
    "gpuNum": 4,
    "hideHardwareSpecs": false,
    "memoryGiB": 244,
    "name": "ml.p3.8xlarge",
    "vcpuNum": 32
   },
   {
    "_defaultOrder": 37,
    "_isFastLaunch": false,
    "category": "Accelerated computing",
    "gpuNum": 8,
    "hideHardwareSpecs": false,
    "memoryGiB": 488,
    "name": "ml.p3.16xlarge",
    "vcpuNum": 64
   },
   {
    "_defaultOrder": 38,
    "_isFastLaunch": false,
    "category": "Accelerated computing",
    "gpuNum": 8,
    "hideHardwareSpecs": false,
    "memoryGiB": 768,
    "name": "ml.p3dn.24xlarge",
    "vcpuNum": 96
   },
   {
    "_defaultOrder": 39,
    "_isFastLaunch": false,
    "category": "Memory Optimized",
    "gpuNum": 0,
    "hideHardwareSpecs": false,
    "memoryGiB": 16,
    "name": "ml.r5.large",
    "vcpuNum": 2
   },
   {
    "_defaultOrder": 40,
    "_isFastLaunch": false,
    "category": "Memory Optimized",
    "gpuNum": 0,
    "hideHardwareSpecs": false,
    "memoryGiB": 32,
    "name": "ml.r5.xlarge",
    "vcpuNum": 4
   },
   {
    "_defaultOrder": 41,
    "_isFastLaunch": false,
    "category": "Memory Optimized",
    "gpuNum": 0,
    "hideHardwareSpecs": false,
    "memoryGiB": 64,
    "name": "ml.r5.2xlarge",
    "vcpuNum": 8
   },
   {
    "_defaultOrder": 42,
    "_isFastLaunch": false,
    "category": "Memory Optimized",
    "gpuNum": 0,
    "hideHardwareSpecs": false,
    "memoryGiB": 128,
    "name": "ml.r5.4xlarge",
    "vcpuNum": 16
   },
   {
    "_defaultOrder": 43,
    "_isFastLaunch": false,
    "category": "Memory Optimized",
    "gpuNum": 0,
    "hideHardwareSpecs": false,
    "memoryGiB": 256,
    "name": "ml.r5.8xlarge",
    "vcpuNum": 32
   },
   {
    "_defaultOrder": 44,
    "_isFastLaunch": false,
    "category": "Memory Optimized",
    "gpuNum": 0,
    "hideHardwareSpecs": false,
    "memoryGiB": 384,
    "name": "ml.r5.12xlarge",
    "vcpuNum": 48
   },
   {
    "_defaultOrder": 45,
    "_isFastLaunch": false,
    "category": "Memory Optimized",
    "gpuNum": 0,
    "hideHardwareSpecs": false,
    "memoryGiB": 512,
    "name": "ml.r5.16xlarge",
    "vcpuNum": 64
   },
   {
    "_defaultOrder": 46,
    "_isFastLaunch": false,
    "category": "Memory Optimized",
    "gpuNum": 0,
    "hideHardwareSpecs": false,
    "memoryGiB": 768,
    "name": "ml.r5.24xlarge",
    "vcpuNum": 96
   },
   {
    "_defaultOrder": 47,
    "_isFastLaunch": false,
    "category": "Accelerated computing",
    "gpuNum": 1,
    "hideHardwareSpecs": false,
    "memoryGiB": 16,
    "name": "ml.g5.xlarge",
    "vcpuNum": 4
   },
   {
    "_defaultOrder": 48,
    "_isFastLaunch": false,
    "category": "Accelerated computing",
    "gpuNum": 1,
    "hideHardwareSpecs": false,
    "memoryGiB": 32,
    "name": "ml.g5.2xlarge",
    "vcpuNum": 8
   },
   {
    "_defaultOrder": 49,
    "_isFastLaunch": false,
    "category": "Accelerated computing",
    "gpuNum": 1,
    "hideHardwareSpecs": false,
    "memoryGiB": 64,
    "name": "ml.g5.4xlarge",
    "vcpuNum": 16
   },
   {
    "_defaultOrder": 50,
    "_isFastLaunch": false,
    "category": "Accelerated computing",
    "gpuNum": 1,
    "hideHardwareSpecs": false,
    "memoryGiB": 128,
    "name": "ml.g5.8xlarge",
    "vcpuNum": 32
   },
   {
    "_defaultOrder": 51,
    "_isFastLaunch": false,
    "category": "Accelerated computing",
    "gpuNum": 1,
    "hideHardwareSpecs": false,
    "memoryGiB": 256,
    "name": "ml.g5.16xlarge",
    "vcpuNum": 64
   },
   {
    "_defaultOrder": 52,
    "_isFastLaunch": false,
    "category": "Accelerated computing",
    "gpuNum": 4,
    "hideHardwareSpecs": false,
    "memoryGiB": 192,
    "name": "ml.g5.12xlarge",
    "vcpuNum": 48
   },
   {
    "_defaultOrder": 53,
    "_isFastLaunch": false,
    "category": "Accelerated computing",
    "gpuNum": 4,
    "hideHardwareSpecs": false,
    "memoryGiB": 384,
    "name": "ml.g5.24xlarge",
    "vcpuNum": 96
   },
   {
    "_defaultOrder": 54,
    "_isFastLaunch": false,
    "category": "Accelerated computing",
    "gpuNum": 8,
    "hideHardwareSpecs": false,
    "memoryGiB": 768,
    "name": "ml.g5.48xlarge",
    "vcpuNum": 192
   },
   {
    "_defaultOrder": 55,
    "_isFastLaunch": false,
    "category": "Accelerated computing",
    "gpuNum": 8,
    "hideHardwareSpecs": false,
    "memoryGiB": 1152,
    "name": "ml.p4d.24xlarge",
    "vcpuNum": 96
   },
   {
    "_defaultOrder": 56,
    "_isFastLaunch": false,
    "category": "Accelerated computing",
    "gpuNum": 8,
    "hideHardwareSpecs": false,
    "memoryGiB": 1152,
    "name": "ml.p4de.24xlarge",
    "vcpuNum": 96
   },
   {
    "_defaultOrder": 57,
    "_isFastLaunch": false,
    "category": "Accelerated computing",
    "gpuNum": 0,
    "hideHardwareSpecs": false,
    "memoryGiB": 32,
    "name": "ml.trn1.2xlarge",
    "vcpuNum": 8
   },
   {
    "_defaultOrder": 58,
    "_isFastLaunch": false,
    "category": "Accelerated computing",
    "gpuNum": 0,
    "hideHardwareSpecs": false,
    "memoryGiB": 512,
    "name": "ml.trn1.32xlarge",
    "vcpuNum": 128
   },
   {
    "_defaultOrder": 59,
    "_isFastLaunch": false,
    "category": "Accelerated computing",
    "gpuNum": 0,
    "hideHardwareSpecs": false,
    "memoryGiB": 512,
    "name": "ml.trn1n.32xlarge",
    "vcpuNum": 128
   }
  ],
  "instance_type": "ml.t3.medium",
  "kernelspec": {
   "display_name": "Python 3 (ipykernel)",
   "language": "python",
   "name": "python3"
  },
  "language_info": {
   "codemirror_mode": {
    "name": "ipython",
    "version": 3
   },
   "file_extension": ".py",
   "mimetype": "text/x-python",
   "name": "python",
   "nbconvert_exporter": "python",
   "pygments_lexer": "ipython3",
   "version": "3.11.11"
  }
 },
 "nbformat": 4,
 "nbformat_minor": 5
}
